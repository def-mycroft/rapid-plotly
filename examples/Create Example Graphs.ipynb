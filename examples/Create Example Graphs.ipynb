{
 "cells": [
  {
   "cell_type": "code",
   "execution_count": 23,
   "metadata": {},
   "outputs": [],
   "source": [
    "import pandas as pd\n",
    "import numpy as np\n",
    "import string\n",
    "import importlib as imp"
   ]
  },
  {
   "cell_type": "markdown",
   "metadata": {},
   "source": [
    "# Load Data"
   ]
  },
  {
   "cell_type": "code",
   "execution_count": 24,
   "metadata": {},
   "outputs": [
    {
     "name": "stdout",
     "output_type": "stream",
     "text": [
      "(32, 11)\n"
     ]
    },
    {
     "data": {
      "text/html": [
       "<div>\n",
       "<style scoped>\n",
       "    .dataframe tbody tr th:only-of-type {\n",
       "        vertical-align: middle;\n",
       "    }\n",
       "\n",
       "    .dataframe tbody tr th {\n",
       "        vertical-align: top;\n",
       "    }\n",
       "\n",
       "    .dataframe thead th {\n",
       "        text-align: right;\n",
       "    }\n",
       "</style>\n",
       "<table border=\"1\" class=\"dataframe\">\n",
       "  <thead>\n",
       "    <tr style=\"text-align: right;\">\n",
       "      <th></th>\n",
       "      <th>mpg</th>\n",
       "      <th>cyl</th>\n",
       "      <th>disp</th>\n",
       "      <th>hp</th>\n",
       "      <th>drat</th>\n",
       "      <th>wt</th>\n",
       "      <th>qsec</th>\n",
       "      <th>vs</th>\n",
       "      <th>am</th>\n",
       "      <th>gear</th>\n",
       "      <th>carb</th>\n",
       "    </tr>\n",
       "  </thead>\n",
       "  <tbody>\n",
       "    <tr>\n",
       "      <th>0</th>\n",
       "      <td>21.0</td>\n",
       "      <td>6</td>\n",
       "      <td>160.0</td>\n",
       "      <td>110</td>\n",
       "      <td>3.90</td>\n",
       "      <td>2.620</td>\n",
       "      <td>16.46</td>\n",
       "      <td>0</td>\n",
       "      <td>1</td>\n",
       "      <td>4</td>\n",
       "      <td>4</td>\n",
       "    </tr>\n",
       "    <tr>\n",
       "      <th>1</th>\n",
       "      <td>21.0</td>\n",
       "      <td>6</td>\n",
       "      <td>160.0</td>\n",
       "      <td>110</td>\n",
       "      <td>3.90</td>\n",
       "      <td>2.875</td>\n",
       "      <td>17.02</td>\n",
       "      <td>0</td>\n",
       "      <td>1</td>\n",
       "      <td>4</td>\n",
       "      <td>4</td>\n",
       "    </tr>\n",
       "    <tr>\n",
       "      <th>2</th>\n",
       "      <td>22.8</td>\n",
       "      <td>4</td>\n",
       "      <td>108.0</td>\n",
       "      <td>93</td>\n",
       "      <td>3.85</td>\n",
       "      <td>2.320</td>\n",
       "      <td>18.61</td>\n",
       "      <td>1</td>\n",
       "      <td>1</td>\n",
       "      <td>4</td>\n",
       "      <td>1</td>\n",
       "    </tr>\n",
       "    <tr>\n",
       "      <th>3</th>\n",
       "      <td>21.4</td>\n",
       "      <td>6</td>\n",
       "      <td>258.0</td>\n",
       "      <td>110</td>\n",
       "      <td>3.08</td>\n",
       "      <td>3.215</td>\n",
       "      <td>19.44</td>\n",
       "      <td>1</td>\n",
       "      <td>0</td>\n",
       "      <td>3</td>\n",
       "      <td>1</td>\n",
       "    </tr>\n",
       "    <tr>\n",
       "      <th>4</th>\n",
       "      <td>18.7</td>\n",
       "      <td>8</td>\n",
       "      <td>360.0</td>\n",
       "      <td>175</td>\n",
       "      <td>3.15</td>\n",
       "      <td>3.440</td>\n",
       "      <td>17.02</td>\n",
       "      <td>0</td>\n",
       "      <td>0</td>\n",
       "      <td>3</td>\n",
       "      <td>2</td>\n",
       "    </tr>\n",
       "  </tbody>\n",
       "</table>\n",
       "</div>"
      ],
      "text/plain": [
       "    mpg  cyl   disp   hp  drat     wt   qsec  vs  am  gear  carb\n",
       "0  21.0    6  160.0  110  3.90  2.620  16.46   0   1     4     4\n",
       "1  21.0    6  160.0  110  3.90  2.875  17.02   0   1     4     4\n",
       "2  22.8    4  108.0   93  3.85  2.320  18.61   1   1     4     1\n",
       "3  21.4    6  258.0  110  3.08  3.215  19.44   1   0     3     1\n",
       "4  18.7    8  360.0  175  3.15  3.440  17.02   0   0     3     2"
      ]
     },
     "execution_count": 24,
     "metadata": {},
     "output_type": "execute_result"
    }
   ],
   "source": [
    "# load example mtcars data \n",
    "df = pd.read_csv('mtcars.csv')\n",
    "print(df.shape)\n",
    "df.head()"
   ]
  },
  {
   "cell_type": "markdown",
   "metadata": {},
   "source": [
    "# Create Simple Barplot"
   ]
  },
  {
   "cell_type": "code",
   "execution_count": 25,
   "metadata": {},
   "outputs": [],
   "source": [
    "import os\n",
    "os.chdir('../')\n",
    "import barplot\n",
    "imp.reload(barplot)\n",
    "os.chdir('examples')"
   ]
  },
  {
   "cell_type": "markdown",
   "metadata": {},
   "source": [
    "A simple barplot can be created by passing three dataframes to `barplot.create_graph`:\n",
    "\n",
    "* `in_data` - the height of the bars\n",
    "* `names` - a dataframe containing the hover text for the bars, otherwise identical to `in_data`\n",
    "* `errors` - a dataframe containing the half-height of the error bars, otherwise identical to `in_data`"
   ]
  },
  {
   "cell_type": "code",
   "execution_count": 26,
   "metadata": {},
   "outputs": [
    {
     "name": "stdout",
     "output_type": "stream",
     "text": [
      "main data:\n"
     ]
    },
    {
     "data": {
      "text/html": [
       "<div>\n",
       "<style scoped>\n",
       "    .dataframe tbody tr th:only-of-type {\n",
       "        vertical-align: middle;\n",
       "    }\n",
       "\n",
       "    .dataframe tbody tr th {\n",
       "        vertical-align: top;\n",
       "    }\n",
       "\n",
       "    .dataframe thead th {\n",
       "        text-align: right;\n",
       "    }\n",
       "</style>\n",
       "<table border=\"1\" class=\"dataframe\">\n",
       "  <thead>\n",
       "    <tr style=\"text-align: right;\">\n",
       "      <th></th>\n",
       "      <th>mpg</th>\n",
       "    </tr>\n",
       "  </thead>\n",
       "  <tbody>\n",
       "    <tr>\n",
       "      <th>4 Cylinders</th>\n",
       "      <td>26.663636</td>\n",
       "    </tr>\n",
       "    <tr>\n",
       "      <th>6 Cylinders</th>\n",
       "      <td>19.742857</td>\n",
       "    </tr>\n",
       "    <tr>\n",
       "      <th>8 Cylinders</th>\n",
       "      <td>15.100000</td>\n",
       "    </tr>\n",
       "  </tbody>\n",
       "</table>\n",
       "</div>"
      ],
      "text/plain": [
       "                   mpg\n",
       "4 Cylinders  26.663636\n",
       "6 Cylinders  19.742857\n",
       "8 Cylinders  15.100000"
      ]
     },
     "metadata": {},
     "output_type": "display_data"
    },
    {
     "name": "stdout",
     "output_type": "stream",
     "text": [
      "names:\n"
     ]
    },
    {
     "data": {
      "text/html": [
       "<div>\n",
       "<style scoped>\n",
       "    .dataframe tbody tr th:only-of-type {\n",
       "        vertical-align: middle;\n",
       "    }\n",
       "\n",
       "    .dataframe tbody tr th {\n",
       "        vertical-align: top;\n",
       "    }\n",
       "\n",
       "    .dataframe thead th {\n",
       "        text-align: right;\n",
       "    }\n",
       "</style>\n",
       "<table border=\"1\" class=\"dataframe\">\n",
       "  <thead>\n",
       "    <tr style=\"text-align: right;\">\n",
       "      <th></th>\n",
       "      <th>mpg</th>\n",
       "    </tr>\n",
       "  </thead>\n",
       "  <tbody>\n",
       "    <tr>\n",
       "      <th>4 Cylinders</th>\n",
       "      <td>nd</td>\n",
       "    </tr>\n",
       "    <tr>\n",
       "      <th>6 Cylinders</th>\n",
       "      <td>od</td>\n",
       "    </tr>\n",
       "    <tr>\n",
       "      <th>8 Cylinders</th>\n",
       "      <td>hr</td>\n",
       "    </tr>\n",
       "  </tbody>\n",
       "</table>\n",
       "</div>"
      ],
      "text/plain": [
       "            mpg\n",
       "4 Cylinders  nd\n",
       "6 Cylinders  od\n",
       "8 Cylinders  hr"
      ]
     },
     "metadata": {},
     "output_type": "display_data"
    },
    {
     "name": "stdout",
     "output_type": "stream",
     "text": [
      "errors:\n"
     ]
    },
    {
     "data": {
      "text/html": [
       "<div>\n",
       "<style scoped>\n",
       "    .dataframe tbody tr th:only-of-type {\n",
       "        vertical-align: middle;\n",
       "    }\n",
       "\n",
       "    .dataframe tbody tr th {\n",
       "        vertical-align: top;\n",
       "    }\n",
       "\n",
       "    .dataframe thead th {\n",
       "        text-align: right;\n",
       "    }\n",
       "</style>\n",
       "<table border=\"1\" class=\"dataframe\">\n",
       "  <thead>\n",
       "    <tr style=\"text-align: right;\">\n",
       "      <th></th>\n",
       "      <th>mpg</th>\n",
       "    </tr>\n",
       "  </thead>\n",
       "  <tbody>\n",
       "    <tr>\n",
       "      <th>4 Cylinders</th>\n",
       "      <td>2.5</td>\n",
       "    </tr>\n",
       "    <tr>\n",
       "      <th>6 Cylinders</th>\n",
       "      <td>2.5</td>\n",
       "    </tr>\n",
       "    <tr>\n",
       "      <th>8 Cylinders</th>\n",
       "      <td>2.5</td>\n",
       "    </tr>\n",
       "  </tbody>\n",
       "</table>\n",
       "</div>"
      ],
      "text/plain": [
       "             mpg\n",
       "4 Cylinders  2.5\n",
       "6 Cylinders  2.5\n",
       "8 Cylinders  2.5"
      ]
     },
     "metadata": {},
     "output_type": "display_data"
    }
   ],
   "source": [
    "# create graph data \n",
    "in_data = pd.DataFrame(df.groupby('cyl').mean()['mpg'])\n",
    "in_data.index = in_data.index.astype(int).astype(str) + ' Cylinders'\n",
    "print('main data:')\n",
    "display(in_data.head())\n",
    "\n",
    "# generate names\n",
    "l = string.ascii_lowercase\n",
    "names = in_data.copy()\n",
    "f = lambda: l[np.random.randint(0,len(l))]\n",
    "\n",
    "for x in names.index:\n",
    "    names.loc[x, 'mpg'] = f()+f()\n",
    "    \n",
    "print('names:')\n",
    "display(names.head())\n",
    "\n",
    "# generate error bars data\n",
    "errors = in_data.copy()\n",
    "errors['mpg'] = 2.5\n",
    "print('errors:')\n",
    "display(errors.head())"
   ]
  },
  {
   "cell_type": "markdown",
   "metadata": {},
   "source": [
    "A simple graph can be quickly created to verify that the data is as expected:"
   ]
  },
  {
   "cell_type": "code",
   "execution_count": 27,
   "metadata": {},
   "outputs": [
    {
     "data": {
      "text/html": [
       "<script>requirejs.config({paths: { 'plotly': ['https://cdn.plot.ly/plotly-latest.min']},});if(!window.Plotly) {{require(['plotly'],function(plotly) {window.Plotly=plotly;});}}</script>"
      ],
      "text/vnd.plotly.v1+html": [
       "<script>requirejs.config({paths: { 'plotly': ['https://cdn.plot.ly/plotly-latest.min']},});if(!window.Plotly) {{require(['plotly'],function(plotly) {window.Plotly=plotly;});}}</script>"
      ]
     },
     "metadata": {},
     "output_type": "display_data"
    },
    {
     "data": {
      "application/vnd.plotly.v1+json": {
       "data": [
        {
         "marker": {
          "color": "#232C65"
         },
         "name": "mpg",
         "text": "mpg",
         "type": "bar",
         "uid": "af77cf18-ec0c-11e8-a1b7-a0481cac4f9d",
         "x": [
          "4 Cylinders",
          "6 Cylinders",
          "8 Cylinders"
         ],
         "y": [
          26.663636363636364,
          19.74285714285714,
          15.100000000000003
         ]
        }
       ],
       "layout": {
        "hovermode": "closest",
        "plot_bgcolor": "rgb(229, 229, 229)",
        "title": "title",
        "xaxis": {
         "gridcolor": "rgb(255,255,255)",
         "tickangle": 30,
         "title": "xlab",
         "zerolinecolor": "rgb(255,255,255)"
        },
        "yaxis": {
         "gridcolor": "rgb(255,255,255)",
         "title": "ylab",
         "zerolinecolor": "rgb(255,255,255)"
        }
       }
      },
      "text/html": [
       "<div id=\"4d576e04-d64b-4d31-9455-21e32dc2b4b8\" style=\"height: 525px; width: 100%;\" class=\"plotly-graph-div\"></div><script type=\"text/javascript\">require([\"plotly\"], function(Plotly) { window.PLOTLYENV=window.PLOTLYENV || {};window.PLOTLYENV.BASE_URL=\"https://plot.ly\";Plotly.newPlot(\"4d576e04-d64b-4d31-9455-21e32dc2b4b8\", [{\"marker\": {\"color\": \"#232C65\"}, \"name\": \"mpg\", \"text\": \"mpg\", \"x\": [\"4 Cylinders\", \"6 Cylinders\", \"8 Cylinders\"], \"y\": [26.663636363636364, 19.74285714285714, 15.100000000000003], \"type\": \"bar\", \"uid\": \"af77cf18-ec0c-11e8-a1b7-a0481cac4f9d\"}], {\"hovermode\": \"closest\", \"plot_bgcolor\": \"rgb(229, 229, 229)\", \"title\": \"title\", \"xaxis\": {\"gridcolor\": \"rgb(255,255,255)\", \"tickangle\": 30, \"title\": \"xlab\", \"zerolinecolor\": \"rgb(255,255,255)\"}, \"yaxis\": {\"gridcolor\": \"rgb(255,255,255)\", \"title\": \"ylab\", \"zerolinecolor\": \"rgb(255,255,255)\"}}, {\"showLink\": true, \"linkText\": \"Export to plot.ly\"})});</script>"
      ],
      "text/vnd.plotly.v1+html": [
       "<div id=\"4d576e04-d64b-4d31-9455-21e32dc2b4b8\" style=\"height: 525px; width: 100%;\" class=\"plotly-graph-div\"></div><script type=\"text/javascript\">require([\"plotly\"], function(Plotly) { window.PLOTLYENV=window.PLOTLYENV || {};window.PLOTLYENV.BASE_URL=\"https://plot.ly\";Plotly.newPlot(\"4d576e04-d64b-4d31-9455-21e32dc2b4b8\", [{\"marker\": {\"color\": \"#232C65\"}, \"name\": \"mpg\", \"text\": \"mpg\", \"x\": [\"4 Cylinders\", \"6 Cylinders\", \"8 Cylinders\"], \"y\": [26.663636363636364, 19.74285714285714, 15.100000000000003], \"type\": \"bar\", \"uid\": \"af77cf18-ec0c-11e8-a1b7-a0481cac4f9d\"}], {\"hovermode\": \"closest\", \"plot_bgcolor\": \"rgb(229, 229, 229)\", \"title\": \"title\", \"xaxis\": {\"gridcolor\": \"rgb(255,255,255)\", \"tickangle\": 30, \"title\": \"xlab\", \"zerolinecolor\": \"rgb(255,255,255)\"}, \"yaxis\": {\"gridcolor\": \"rgb(255,255,255)\", \"title\": \"ylab\", \"zerolinecolor\": \"rgb(255,255,255)\"}}, {\"showLink\": true, \"linkText\": \"Export to plot.ly\"})});</script>"
      ]
     },
     "metadata": {},
     "output_type": "display_data"
    }
   ],
   "source": [
    "# create input data for graph \n",
    "args = dict(\n",
    "    in_data=in_data\n",
    ")\n",
    "\n",
    "# view plot inline \n",
    "fig = barplot.create_graph(**args)"
   ]
  },
  {
   "cell_type": "markdown",
   "metadata": {},
   "source": [
    "Now that the graph appears to be as expected, more characteristics can be added by adding them to `args`:"
   ]
  },
  {
   "cell_type": "code",
   "execution_count": 28,
   "metadata": {},
   "outputs": [],
   "source": [
    "# add additional characteristics to graph\n",
    "title = '<b>Fuel Mileage by Number of Cylinders</b>'\n",
    "title += '<br><i>for mtcars data</i>'\n",
    "args['title'] = title\n",
    "args['names'] = names\n",
    "args['errors'] = errors\n",
    "args['xlab'] = 'Number of Cylinders'\n",
    "args['ylab'] = 'Miles Per Gallon'\n",
    "args['annotations'] = [{'text':'More cylinders correlates to lower fuel mileage', 'x':1.5, 'y':24.5, 'showarrow':False}]"
   ]
  },
  {
   "cell_type": "markdown",
   "metadata": {},
   "source": [
    "Preview the results again:"
   ]
  },
  {
   "cell_type": "code",
   "execution_count": 29,
   "metadata": {},
   "outputs": [
    {
     "data": {
      "text/html": [
       "<script>requirejs.config({paths: { 'plotly': ['https://cdn.plot.ly/plotly-latest.min']},});if(!window.Plotly) {{require(['plotly'],function(plotly) {window.Plotly=plotly;});}}</script>"
      ],
      "text/vnd.plotly.v1+html": [
       "<script>requirejs.config({paths: { 'plotly': ['https://cdn.plot.ly/plotly-latest.min']},});if(!window.Plotly) {{require(['plotly'],function(plotly) {window.Plotly=plotly;});}}</script>"
      ]
     },
     "metadata": {},
     "output_type": "display_data"
    },
    {
     "data": {
      "application/vnd.plotly.v1+json": {
       "data": [
        {
         "error_y": {
          "array": [
           2.5,
           2.5,
           2.5
          ],
          "thickness": 7,
          "type": "data",
          "visible": true,
          "width": 8
         },
         "marker": {
          "color": "#232C65"
         },
         "name": "mpg",
         "text": [
          "nd",
          "od",
          "hr"
         ],
         "type": "bar",
         "uid": "af8a9442-ec0c-11e8-b1b6-a0481cac4f9d",
         "x": [
          "4 Cylinders",
          "6 Cylinders",
          "8 Cylinders"
         ],
         "y": [
          26.663636363636364,
          19.74285714285714,
          15.100000000000003
         ]
        }
       ],
       "layout": {
        "annotations": [
         {
          "showarrow": false,
          "text": "More cylinders correlates to lower fuel mileage",
          "x": 1.5,
          "y": 24.5
         }
        ],
        "hovermode": "closest",
        "plot_bgcolor": "rgb(229, 229, 229)",
        "title": "<b>Fuel Mileage by Number of Cylinders</b><br><i>for mtcars data</i>",
        "xaxis": {
         "gridcolor": "rgb(255,255,255)",
         "tickangle": 30,
         "title": "Number of Cylinders",
         "zerolinecolor": "rgb(255,255,255)"
        },
        "yaxis": {
         "gridcolor": "rgb(255,255,255)",
         "title": "Miles Per Gallon",
         "zerolinecolor": "rgb(255,255,255)"
        }
       }
      },
      "text/html": [
       "<div id=\"1f0af034-9478-4ed3-9214-df669d359864\" style=\"height: 525px; width: 100%;\" class=\"plotly-graph-div\"></div><script type=\"text/javascript\">require([\"plotly\"], function(Plotly) { window.PLOTLYENV=window.PLOTLYENV || {};window.PLOTLYENV.BASE_URL=\"https://plot.ly\";Plotly.newPlot(\"1f0af034-9478-4ed3-9214-df669d359864\", [{\"error_y\": {\"array\": [2.5, 2.5, 2.5], \"thickness\": 7, \"type\": \"data\", \"visible\": true, \"width\": 8}, \"marker\": {\"color\": \"#232C65\"}, \"name\": \"mpg\", \"text\": [\"nd\", \"od\", \"hr\"], \"x\": [\"4 Cylinders\", \"6 Cylinders\", \"8 Cylinders\"], \"y\": [26.663636363636364, 19.74285714285714, 15.100000000000003], \"type\": \"bar\", \"uid\": \"af8a9442-ec0c-11e8-b1b6-a0481cac4f9d\"}], {\"annotations\": [{\"showarrow\": false, \"text\": \"More cylinders correlates to lower fuel mileage\", \"x\": 1.5, \"y\": 24.5}], \"hovermode\": \"closest\", \"plot_bgcolor\": \"rgb(229, 229, 229)\", \"title\": \"<b>Fuel Mileage by Number of Cylinders</b><br><i>for mtcars data</i>\", \"xaxis\": {\"gridcolor\": \"rgb(255,255,255)\", \"tickangle\": 30, \"title\": \"Number of Cylinders\", \"zerolinecolor\": \"rgb(255,255,255)\"}, \"yaxis\": {\"gridcolor\": \"rgb(255,255,255)\", \"title\": \"Miles Per Gallon\", \"zerolinecolor\": \"rgb(255,255,255)\"}}, {\"showLink\": true, \"linkText\": \"Export to plot.ly\"})});</script>"
      ],
      "text/vnd.plotly.v1+html": [
       "<div id=\"1f0af034-9478-4ed3-9214-df669d359864\" style=\"height: 525px; width: 100%;\" class=\"plotly-graph-div\"></div><script type=\"text/javascript\">require([\"plotly\"], function(Plotly) { window.PLOTLYENV=window.PLOTLYENV || {};window.PLOTLYENV.BASE_URL=\"https://plot.ly\";Plotly.newPlot(\"1f0af034-9478-4ed3-9214-df669d359864\", [{\"error_y\": {\"array\": [2.5, 2.5, 2.5], \"thickness\": 7, \"type\": \"data\", \"visible\": true, \"width\": 8}, \"marker\": {\"color\": \"#232C65\"}, \"name\": \"mpg\", \"text\": [\"nd\", \"od\", \"hr\"], \"x\": [\"4 Cylinders\", \"6 Cylinders\", \"8 Cylinders\"], \"y\": [26.663636363636364, 19.74285714285714, 15.100000000000003], \"type\": \"bar\", \"uid\": \"af8a9442-ec0c-11e8-b1b6-a0481cac4f9d\"}], {\"annotations\": [{\"showarrow\": false, \"text\": \"More cylinders correlates to lower fuel mileage\", \"x\": 1.5, \"y\": 24.5}], \"hovermode\": \"closest\", \"plot_bgcolor\": \"rgb(229, 229, 229)\", \"title\": \"<b>Fuel Mileage by Number of Cylinders</b><br><i>for mtcars data</i>\", \"xaxis\": {\"gridcolor\": \"rgb(255,255,255)\", \"tickangle\": 30, \"title\": \"Number of Cylinders\", \"zerolinecolor\": \"rgb(255,255,255)\"}, \"yaxis\": {\"gridcolor\": \"rgb(255,255,255)\", \"title\": \"Miles Per Gallon\", \"zerolinecolor\": \"rgb(255,255,255)\"}}, {\"showLink\": true, \"linkText\": \"Export to plot.ly\"})});</script>"
      ]
     },
     "metadata": {},
     "output_type": "display_data"
    }
   ],
   "source": [
    "# view plot inline \n",
    "fig = barplot.create_graph(**args)"
   ]
  },
  {
   "cell_type": "markdown",
   "metadata": {},
   "source": [
    "After creating a graph, it can be written to an html file by passing `fig` to `barplot.output_graph`:"
   ]
  },
  {
   "cell_type": "code",
   "execution_count": 30,
   "metadata": {},
   "outputs": [],
   "source": [
    "# write graph to html file \n",
    "fp = 'barplot-example.html'\n",
    "barplot.output_graph(fp, fig)"
   ]
  },
  {
   "cell_type": "markdown",
   "metadata": {},
   "source": [
    "# Create Grouped Barplot\n",
    "\n",
    "A grouped barplot compares the effect of the same treatment across multiple categories.\n",
    "\n",
    "The next graph will show the relationship between fuel mileage, the number of cylinders and the number of gears for cars.\n",
    "\n",
    "For grouped barplots, dataframes can be passed where the rows represent the x-axis categories and the columns represent each bar in each category. "
   ]
  },
  {
   "cell_type": "code",
   "execution_count": 31,
   "metadata": {},
   "outputs": [
    {
     "name": "stdout",
     "output_type": "stream",
     "text": [
      "main data:\n"
     ]
    },
    {
     "data": {
      "text/html": [
       "<div>\n",
       "<style scoped>\n",
       "    .dataframe tbody tr th:only-of-type {\n",
       "        vertical-align: middle;\n",
       "    }\n",
       "\n",
       "    .dataframe tbody tr th {\n",
       "        vertical-align: top;\n",
       "    }\n",
       "\n",
       "    .dataframe thead th {\n",
       "        text-align: right;\n",
       "    }\n",
       "</style>\n",
       "<table border=\"1\" class=\"dataframe\">\n",
       "  <thead>\n",
       "    <tr style=\"text-align: right;\">\n",
       "      <th></th>\n",
       "      <th>3 gears</th>\n",
       "      <th>4 gears</th>\n",
       "      <th>5 gears</th>\n",
       "    </tr>\n",
       "  </thead>\n",
       "  <tbody>\n",
       "    <tr>\n",
       "      <th>4 Cylinders</th>\n",
       "      <td>21.50</td>\n",
       "      <td>26.925</td>\n",
       "      <td>28.2</td>\n",
       "    </tr>\n",
       "    <tr>\n",
       "      <th>6 Cylinders</th>\n",
       "      <td>19.75</td>\n",
       "      <td>19.750</td>\n",
       "      <td>19.7</td>\n",
       "    </tr>\n",
       "    <tr>\n",
       "      <th>8 Cylinders</th>\n",
       "      <td>15.05</td>\n",
       "      <td>15.225</td>\n",
       "      <td>15.4</td>\n",
       "    </tr>\n",
       "  </tbody>\n",
       "</table>\n",
       "</div>"
      ],
      "text/plain": [
       "             3 gears  4 gears  5 gears\n",
       "4 Cylinders    21.50   26.925     28.2\n",
       "6 Cylinders    19.75   19.750     19.7\n",
       "8 Cylinders    15.05   15.225     15.4"
      ]
     },
     "metadata": {},
     "output_type": "display_data"
    },
    {
     "name": "stdout",
     "output_type": "stream",
     "text": [
      "names:\n"
     ]
    },
    {
     "data": {
      "text/html": [
       "<div>\n",
       "<style scoped>\n",
       "    .dataframe tbody tr th:only-of-type {\n",
       "        vertical-align: middle;\n",
       "    }\n",
       "\n",
       "    .dataframe tbody tr th {\n",
       "        vertical-align: top;\n",
       "    }\n",
       "\n",
       "    .dataframe thead th {\n",
       "        text-align: right;\n",
       "    }\n",
       "</style>\n",
       "<table border=\"1\" class=\"dataframe\">\n",
       "  <thead>\n",
       "    <tr style=\"text-align: right;\">\n",
       "      <th></th>\n",
       "      <th>3 gears</th>\n",
       "      <th>4 gears</th>\n",
       "      <th>5 gears</th>\n",
       "    </tr>\n",
       "  </thead>\n",
       "  <tbody>\n",
       "    <tr>\n",
       "      <th>4 Cylinders</th>\n",
       "      <td>ae</td>\n",
       "      <td>yh</td>\n",
       "      <td>nj</td>\n",
       "    </tr>\n",
       "    <tr>\n",
       "      <th>6 Cylinders</th>\n",
       "      <td>mv</td>\n",
       "      <td>va</td>\n",
       "      <td>hj</td>\n",
       "    </tr>\n",
       "    <tr>\n",
       "      <th>8 Cylinders</th>\n",
       "      <td>fc</td>\n",
       "      <td>zq</td>\n",
       "      <td>pc</td>\n",
       "    </tr>\n",
       "  </tbody>\n",
       "</table>\n",
       "</div>"
      ],
      "text/plain": [
       "            3 gears 4 gears 5 gears\n",
       "4 Cylinders      ae      yh      nj\n",
       "6 Cylinders      mv      va      hj\n",
       "8 Cylinders      fc      zq      pc"
      ]
     },
     "metadata": {},
     "output_type": "display_data"
    },
    {
     "name": "stdout",
     "output_type": "stream",
     "text": [
      "errors:\n"
     ]
    },
    {
     "data": {
      "text/html": [
       "<div>\n",
       "<style scoped>\n",
       "    .dataframe tbody tr th:only-of-type {\n",
       "        vertical-align: middle;\n",
       "    }\n",
       "\n",
       "    .dataframe tbody tr th {\n",
       "        vertical-align: top;\n",
       "    }\n",
       "\n",
       "    .dataframe thead th {\n",
       "        text-align: right;\n",
       "    }\n",
       "</style>\n",
       "<table border=\"1\" class=\"dataframe\">\n",
       "  <thead>\n",
       "    <tr style=\"text-align: right;\">\n",
       "      <th></th>\n",
       "      <th>3 gears</th>\n",
       "      <th>4 gears</th>\n",
       "      <th>5 gears</th>\n",
       "    </tr>\n",
       "  </thead>\n",
       "  <tbody>\n",
       "    <tr>\n",
       "      <th>4 Cylinders</th>\n",
       "      <td>0.75</td>\n",
       "      <td>0.75</td>\n",
       "      <td>0.75</td>\n",
       "    </tr>\n",
       "    <tr>\n",
       "      <th>6 Cylinders</th>\n",
       "      <td>0.75</td>\n",
       "      <td>0.75</td>\n",
       "      <td>0.75</td>\n",
       "    </tr>\n",
       "    <tr>\n",
       "      <th>8 Cylinders</th>\n",
       "      <td>0.75</td>\n",
       "      <td>0.75</td>\n",
       "      <td>0.75</td>\n",
       "    </tr>\n",
       "  </tbody>\n",
       "</table>\n",
       "</div>"
      ],
      "text/plain": [
       "             3 gears  4 gears  5 gears\n",
       "4 Cylinders     0.75     0.75     0.75\n",
       "6 Cylinders     0.75     0.75     0.75\n",
       "8 Cylinders     0.75     0.75     0.75"
      ]
     },
     "metadata": {},
     "output_type": "display_data"
    }
   ],
   "source": [
    "# create data for grouped barplot\n",
    "in_data = df.groupby(['cyl', 'gear']).mean()[['mpg']].reset_index()\n",
    "\n",
    "in_data = pd.pivot_table(\n",
    "    data=in_data,\n",
    "    columns=['gear'],\n",
    "    index=['cyl']\n",
    ")\n",
    "in_data.columns = ['3 gears', '4 gears', '5 gears']\n",
    "\n",
    "in_data = in_data.fillna(in_data.loc[8].mean())\n",
    "in_data.index = in_data.index.astype(str) + ' Cylinders'\n",
    "print('main data:')\n",
    "display(in_data)\n",
    "\n",
    "# create names\n",
    "names = in_data.copy()\n",
    "\n",
    "for row in names.index:\n",
    "    for col in names.columns:\n",
    "        names.loc[row, col] = f()+f()\n",
    "        \n",
    "print('names:')\n",
    "display(names)\n",
    "\n",
    "# create error bars \n",
    "errors = in_data.copy()\n",
    "\n",
    "for col in errors.columns:\n",
    "    errors[col] = 0.75\n",
    "    \n",
    "print('errors:')\n",
    "display(errors)"
   ]
  },
  {
   "cell_type": "markdown",
   "metadata": {},
   "source": [
    "Get a quick visual of the data:"
   ]
  },
  {
   "cell_type": "code",
   "execution_count": 32,
   "metadata": {},
   "outputs": [],
   "source": [
    "# create args\n",
    "args = {'in_data':in_data}"
   ]
  },
  {
   "cell_type": "code",
   "execution_count": 33,
   "metadata": {},
   "outputs": [
    {
     "data": {
      "text/html": [
       "<script>requirejs.config({paths: { 'plotly': ['https://cdn.plot.ly/plotly-latest.min']},});if(!window.Plotly) {{require(['plotly'],function(plotly) {window.Plotly=plotly;});}}</script>"
      ],
      "text/vnd.plotly.v1+html": [
       "<script>requirejs.config({paths: { 'plotly': ['https://cdn.plot.ly/plotly-latest.min']},});if(!window.Plotly) {{require(['plotly'],function(plotly) {window.Plotly=plotly;});}}</script>"
      ]
     },
     "metadata": {},
     "output_type": "display_data"
    },
    {
     "data": {
      "application/vnd.plotly.v1+json": {
       "data": [
        {
         "marker": {
          "color": "#232C65"
         },
         "name": "3 gears",
         "text": "3 gears",
         "type": "bar",
         "uid": "afbdda92-ec0c-11e8-8325-a0481cac4f9d",
         "x": [
          "4 Cylinders",
          "6 Cylinders",
          "8 Cylinders"
         ],
         "y": [
          21.5,
          19.75,
          15.050000000000002
         ]
        },
        {
         "marker": {
          "color": "#840032"
         },
         "name": "4 gears",
         "text": "4 gears",
         "type": "bar",
         "uid": "afbdda93-ec0c-11e8-97d4-a0481cac4f9d",
         "x": [
          "4 Cylinders",
          "6 Cylinders",
          "8 Cylinders"
         ],
         "y": [
          26.925000000000004,
          19.75,
          15.225000000000001
         ]
        },
        {
         "marker": {
          "color": "#E59500"
         },
         "name": "5 gears",
         "text": "5 gears",
         "type": "bar",
         "uid": "afbdda94-ec0c-11e8-a375-a0481cac4f9d",
         "x": [
          "4 Cylinders",
          "6 Cylinders",
          "8 Cylinders"
         ],
         "y": [
          28.2,
          19.7,
          15.4
         ]
        }
       ],
       "layout": {
        "hovermode": "closest",
        "plot_bgcolor": "rgb(229, 229, 229)",
        "title": "title",
        "xaxis": {
         "gridcolor": "rgb(255,255,255)",
         "tickangle": 30,
         "title": "xlab",
         "zerolinecolor": "rgb(255,255,255)"
        },
        "yaxis": {
         "gridcolor": "rgb(255,255,255)",
         "title": "ylab",
         "zerolinecolor": "rgb(255,255,255)"
        }
       }
      },
      "text/html": [
       "<div id=\"f5d5bfe3-e265-45b5-84bd-adf09b9fdbdd\" style=\"height: 525px; width: 100%;\" class=\"plotly-graph-div\"></div><script type=\"text/javascript\">require([\"plotly\"], function(Plotly) { window.PLOTLYENV=window.PLOTLYENV || {};window.PLOTLYENV.BASE_URL=\"https://plot.ly\";Plotly.newPlot(\"f5d5bfe3-e265-45b5-84bd-adf09b9fdbdd\", [{\"marker\": {\"color\": \"#232C65\"}, \"name\": \"3 gears\", \"text\": \"3 gears\", \"x\": [\"4 Cylinders\", \"6 Cylinders\", \"8 Cylinders\"], \"y\": [21.5, 19.75, 15.050000000000002], \"type\": \"bar\", \"uid\": \"afbdda92-ec0c-11e8-8325-a0481cac4f9d\"}, {\"marker\": {\"color\": \"#840032\"}, \"name\": \"4 gears\", \"text\": \"4 gears\", \"x\": [\"4 Cylinders\", \"6 Cylinders\", \"8 Cylinders\"], \"y\": [26.925000000000004, 19.75, 15.225000000000001], \"type\": \"bar\", \"uid\": \"afbdda93-ec0c-11e8-97d4-a0481cac4f9d\"}, {\"marker\": {\"color\": \"#E59500\"}, \"name\": \"5 gears\", \"text\": \"5 gears\", \"x\": [\"4 Cylinders\", \"6 Cylinders\", \"8 Cylinders\"], \"y\": [28.2, 19.7, 15.4], \"type\": \"bar\", \"uid\": \"afbdda94-ec0c-11e8-a375-a0481cac4f9d\"}], {\"hovermode\": \"closest\", \"plot_bgcolor\": \"rgb(229, 229, 229)\", \"title\": \"title\", \"xaxis\": {\"gridcolor\": \"rgb(255,255,255)\", \"tickangle\": 30, \"title\": \"xlab\", \"zerolinecolor\": \"rgb(255,255,255)\"}, \"yaxis\": {\"gridcolor\": \"rgb(255,255,255)\", \"title\": \"ylab\", \"zerolinecolor\": \"rgb(255,255,255)\"}}, {\"showLink\": true, \"linkText\": \"Export to plot.ly\"})});</script>"
      ],
      "text/vnd.plotly.v1+html": [
       "<div id=\"f5d5bfe3-e265-45b5-84bd-adf09b9fdbdd\" style=\"height: 525px; width: 100%;\" class=\"plotly-graph-div\"></div><script type=\"text/javascript\">require([\"plotly\"], function(Plotly) { window.PLOTLYENV=window.PLOTLYENV || {};window.PLOTLYENV.BASE_URL=\"https://plot.ly\";Plotly.newPlot(\"f5d5bfe3-e265-45b5-84bd-adf09b9fdbdd\", [{\"marker\": {\"color\": \"#232C65\"}, \"name\": \"3 gears\", \"text\": \"3 gears\", \"x\": [\"4 Cylinders\", \"6 Cylinders\", \"8 Cylinders\"], \"y\": [21.5, 19.75, 15.050000000000002], \"type\": \"bar\", \"uid\": \"afbdda92-ec0c-11e8-8325-a0481cac4f9d\"}, {\"marker\": {\"color\": \"#840032\"}, \"name\": \"4 gears\", \"text\": \"4 gears\", \"x\": [\"4 Cylinders\", \"6 Cylinders\", \"8 Cylinders\"], \"y\": [26.925000000000004, 19.75, 15.225000000000001], \"type\": \"bar\", \"uid\": \"afbdda93-ec0c-11e8-97d4-a0481cac4f9d\"}, {\"marker\": {\"color\": \"#E59500\"}, \"name\": \"5 gears\", \"text\": \"5 gears\", \"x\": [\"4 Cylinders\", \"6 Cylinders\", \"8 Cylinders\"], \"y\": [28.2, 19.7, 15.4], \"type\": \"bar\", \"uid\": \"afbdda94-ec0c-11e8-a375-a0481cac4f9d\"}], {\"hovermode\": \"closest\", \"plot_bgcolor\": \"rgb(229, 229, 229)\", \"title\": \"title\", \"xaxis\": {\"gridcolor\": \"rgb(255,255,255)\", \"tickangle\": 30, \"title\": \"xlab\", \"zerolinecolor\": \"rgb(255,255,255)\"}, \"yaxis\": {\"gridcolor\": \"rgb(255,255,255)\", \"title\": \"ylab\", \"zerolinecolor\": \"rgb(255,255,255)\"}}, {\"showLink\": true, \"linkText\": \"Export to plot.ly\"})});</script>"
      ]
     },
     "metadata": {},
     "output_type": "display_data"
    }
   ],
   "source": [
    "fig = barplot.create_graph(**args)"
   ]
  },
  {
   "cell_type": "markdown",
   "metadata": {},
   "source": [
    "Now add more detail by adding elements to `args`:"
   ]
  },
  {
   "cell_type": "code",
   "execution_count": 34,
   "metadata": {},
   "outputs": [
    {
     "data": {
      "text/html": [
       "<script>requirejs.config({paths: { 'plotly': ['https://cdn.plot.ly/plotly-latest.min']},});if(!window.Plotly) {{require(['plotly'],function(plotly) {window.Plotly=plotly;});}}</script>"
      ],
      "text/vnd.plotly.v1+html": [
       "<script>requirejs.config({paths: { 'plotly': ['https://cdn.plot.ly/plotly-latest.min']},});if(!window.Plotly) {{require(['plotly'],function(plotly) {window.Plotly=plotly;});}}</script>"
      ]
     },
     "metadata": {},
     "output_type": "display_data"
    },
    {
     "data": {
      "application/vnd.plotly.v1+json": {
       "data": [
        {
         "error_y": {
          "array": [
           0.75,
           0.75,
           0.75
          ],
          "thickness": 7,
          "type": "data",
          "visible": true,
          "width": 8
         },
         "marker": {
          "color": "#232C65"
         },
         "name": "3 gears",
         "text": [
          "ae",
          "mv",
          "fc"
         ],
         "type": "bar",
         "uid": "afce079c-ec0c-11e8-8d0b-a0481cac4f9d",
         "x": [
          "4 Cylinders",
          "6 Cylinders",
          "8 Cylinders"
         ],
         "y": [
          21.5,
          19.75,
          15.050000000000002
         ]
        },
        {
         "error_y": {
          "array": [
           0.75,
           0.75,
           0.75
          ],
          "thickness": 7,
          "type": "data",
          "visible": true,
          "width": 8
         },
         "marker": {
          "color": "#840032"
         },
         "name": "4 gears",
         "text": [
          "yh",
          "va",
          "zq"
         ],
         "type": "bar",
         "uid": "afce079d-ec0c-11e8-ae3d-a0481cac4f9d",
         "x": [
          "4 Cylinders",
          "6 Cylinders",
          "8 Cylinders"
         ],
         "y": [
          26.925000000000004,
          19.75,
          15.225000000000001
         ]
        },
        {
         "error_y": {
          "array": [
           0.75,
           0.75,
           0.75
          ],
          "thickness": 7,
          "type": "data",
          "visible": true,
          "width": 8
         },
         "marker": {
          "color": "#E59500"
         },
         "name": "5 gears",
         "text": [
          "nj",
          "hj",
          "pc"
         ],
         "type": "bar",
         "uid": "afce079e-ec0c-11e8-9de3-a0481cac4f9d",
         "x": [
          "4 Cylinders",
          "6 Cylinders",
          "8 Cylinders"
         ],
         "y": [
          28.2,
          19.7,
          15.4
         ]
        }
       ],
       "layout": {
        "annotations": [
         {
          "ax": 250,
          "ay": 25,
          "showarrow": true,
          "text": "More gears correlate to better fuel mileage for cars with 4 cylinder engines",
          "x": 0.45,
          "y": 28
         }
        ],
        "hovermode": "closest",
        "plot_bgcolor": "rgb(229, 229, 229)",
        "title": "<b>Fuel Mileage by Number of Cylinders and Number of Gears</b><br><i>for mtcars data</i>",
        "xaxis": {
         "gridcolor": "rgb(255,255,255)",
         "tickangle": 30,
         "title": "Number of Cylinders",
         "zerolinecolor": "rgb(255,255,255)"
        },
        "yaxis": {
         "gridcolor": "rgb(255,255,255)",
         "title": "Miles Per Gallon",
         "zerolinecolor": "rgb(255,255,255)"
        }
       }
      },
      "text/html": [
       "<div id=\"f7f2479f-7f61-4eb5-b2ee-67014fcb5e1c\" style=\"height: 525px; width: 100%;\" class=\"plotly-graph-div\"></div><script type=\"text/javascript\">require([\"plotly\"], function(Plotly) { window.PLOTLYENV=window.PLOTLYENV || {};window.PLOTLYENV.BASE_URL=\"https://plot.ly\";Plotly.newPlot(\"f7f2479f-7f61-4eb5-b2ee-67014fcb5e1c\", [{\"error_y\": {\"array\": [0.75, 0.75, 0.75], \"thickness\": 7, \"type\": \"data\", \"visible\": true, \"width\": 8}, \"marker\": {\"color\": \"#232C65\"}, \"name\": \"3 gears\", \"text\": [\"ae\", \"mv\", \"fc\"], \"x\": [\"4 Cylinders\", \"6 Cylinders\", \"8 Cylinders\"], \"y\": [21.5, 19.75, 15.050000000000002], \"type\": \"bar\", \"uid\": \"afce079c-ec0c-11e8-8d0b-a0481cac4f9d\"}, {\"error_y\": {\"array\": [0.75, 0.75, 0.75], \"thickness\": 7, \"type\": \"data\", \"visible\": true, \"width\": 8}, \"marker\": {\"color\": \"#840032\"}, \"name\": \"4 gears\", \"text\": [\"yh\", \"va\", \"zq\"], \"x\": [\"4 Cylinders\", \"6 Cylinders\", \"8 Cylinders\"], \"y\": [26.925000000000004, 19.75, 15.225000000000001], \"type\": \"bar\", \"uid\": \"afce079d-ec0c-11e8-ae3d-a0481cac4f9d\"}, {\"error_y\": {\"array\": [0.75, 0.75, 0.75], \"thickness\": 7, \"type\": \"data\", \"visible\": true, \"width\": 8}, \"marker\": {\"color\": \"#E59500\"}, \"name\": \"5 gears\", \"text\": [\"nj\", \"hj\", \"pc\"], \"x\": [\"4 Cylinders\", \"6 Cylinders\", \"8 Cylinders\"], \"y\": [28.2, 19.7, 15.4], \"type\": \"bar\", \"uid\": \"afce079e-ec0c-11e8-9de3-a0481cac4f9d\"}], {\"annotations\": [{\"ax\": 250, \"ay\": 25, \"showarrow\": true, \"text\": \"More gears correlate to better fuel mileage for cars with 4 cylinder engines\", \"x\": 0.45, \"y\": 28}], \"hovermode\": \"closest\", \"plot_bgcolor\": \"rgb(229, 229, 229)\", \"title\": \"<b>Fuel Mileage by Number of Cylinders and Number of Gears</b><br><i>for mtcars data</i>\", \"xaxis\": {\"gridcolor\": \"rgb(255,255,255)\", \"tickangle\": 30, \"title\": \"Number of Cylinders\", \"zerolinecolor\": \"rgb(255,255,255)\"}, \"yaxis\": {\"gridcolor\": \"rgb(255,255,255)\", \"title\": \"Miles Per Gallon\", \"zerolinecolor\": \"rgb(255,255,255)\"}}, {\"showLink\": true, \"linkText\": \"Export to plot.ly\"})});</script>"
      ],
      "text/vnd.plotly.v1+html": [
       "<div id=\"f7f2479f-7f61-4eb5-b2ee-67014fcb5e1c\" style=\"height: 525px; width: 100%;\" class=\"plotly-graph-div\"></div><script type=\"text/javascript\">require([\"plotly\"], function(Plotly) { window.PLOTLYENV=window.PLOTLYENV || {};window.PLOTLYENV.BASE_URL=\"https://plot.ly\";Plotly.newPlot(\"f7f2479f-7f61-4eb5-b2ee-67014fcb5e1c\", [{\"error_y\": {\"array\": [0.75, 0.75, 0.75], \"thickness\": 7, \"type\": \"data\", \"visible\": true, \"width\": 8}, \"marker\": {\"color\": \"#232C65\"}, \"name\": \"3 gears\", \"text\": [\"ae\", \"mv\", \"fc\"], \"x\": [\"4 Cylinders\", \"6 Cylinders\", \"8 Cylinders\"], \"y\": [21.5, 19.75, 15.050000000000002], \"type\": \"bar\", \"uid\": \"afce079c-ec0c-11e8-8d0b-a0481cac4f9d\"}, {\"error_y\": {\"array\": [0.75, 0.75, 0.75], \"thickness\": 7, \"type\": \"data\", \"visible\": true, \"width\": 8}, \"marker\": {\"color\": \"#840032\"}, \"name\": \"4 gears\", \"text\": [\"yh\", \"va\", \"zq\"], \"x\": [\"4 Cylinders\", \"6 Cylinders\", \"8 Cylinders\"], \"y\": [26.925000000000004, 19.75, 15.225000000000001], \"type\": \"bar\", \"uid\": \"afce079d-ec0c-11e8-ae3d-a0481cac4f9d\"}, {\"error_y\": {\"array\": [0.75, 0.75, 0.75], \"thickness\": 7, \"type\": \"data\", \"visible\": true, \"width\": 8}, \"marker\": {\"color\": \"#E59500\"}, \"name\": \"5 gears\", \"text\": [\"nj\", \"hj\", \"pc\"], \"x\": [\"4 Cylinders\", \"6 Cylinders\", \"8 Cylinders\"], \"y\": [28.2, 19.7, 15.4], \"type\": \"bar\", \"uid\": \"afce079e-ec0c-11e8-9de3-a0481cac4f9d\"}], {\"annotations\": [{\"ax\": 250, \"ay\": 25, \"showarrow\": true, \"text\": \"More gears correlate to better fuel mileage for cars with 4 cylinder engines\", \"x\": 0.45, \"y\": 28}], \"hovermode\": \"closest\", \"plot_bgcolor\": \"rgb(229, 229, 229)\", \"title\": \"<b>Fuel Mileage by Number of Cylinders and Number of Gears</b><br><i>for mtcars data</i>\", \"xaxis\": {\"gridcolor\": \"rgb(255,255,255)\", \"tickangle\": 30, \"title\": \"Number of Cylinders\", \"zerolinecolor\": \"rgb(255,255,255)\"}, \"yaxis\": {\"gridcolor\": \"rgb(255,255,255)\", \"title\": \"Miles Per Gallon\", \"zerolinecolor\": \"rgb(255,255,255)\"}}, {\"showLink\": true, \"linkText\": \"Export to plot.ly\"})});</script>"
      ]
     },
     "metadata": {},
     "output_type": "display_data"
    }
   ],
   "source": [
    "# add additional characteristics to graph\n",
    "title = '<b>Fuel Mileage by Number of Cylinders and Number of Gears</b>'\n",
    "title += '<br><i>for mtcars data</i>'\n",
    "args['title'] = title\n",
    "args['names'] = names\n",
    "args['errors'] = errors\n",
    "args['xlab'] = 'Number of Cylinders'\n",
    "args['ylab'] = 'Miles Per Gallon'\n",
    "args['annotations'] = [{'text':'More gears correlate to better fuel mileage for cars with 4 cylinder engines',\n",
    "                        'x':0.45, 'y':28, 'ax':250, 'ay':25, 'showarrow':True}]\n",
    "\n",
    "fig = barplot.create_graph(**args)"
   ]
  },
  {
   "cell_type": "markdown",
   "metadata": {},
   "source": [
    "This looks okay with the default colors, but the main point of the graph would be more immediately visible if the \"4 Cylinder\" bargroup was a different shade of color than the other bargroups. \n",
    "\n",
    "New colors were generated using [coolors.co](https://coolors.co) and tints of the new colors were created on [color-hex.com](www.color-hex.com).\n",
    "\n",
    "A new dataframe `colors` can be created in a similar fashion to `in_data`, `names` and `errors`:"
   ]
  },
  {
   "cell_type": "code",
   "execution_count": 35,
   "metadata": {},
   "outputs": [
    {
     "name": "stdout",
     "output_type": "stream",
     "text": [
      "colors:\n"
     ]
    },
    {
     "data": {
      "text/html": [
       "<div>\n",
       "<style scoped>\n",
       "    .dataframe tbody tr th:only-of-type {\n",
       "        vertical-align: middle;\n",
       "    }\n",
       "\n",
       "    .dataframe tbody tr th {\n",
       "        vertical-align: top;\n",
       "    }\n",
       "\n",
       "    .dataframe thead th {\n",
       "        text-align: right;\n",
       "    }\n",
       "</style>\n",
       "<table border=\"1\" class=\"dataframe\">\n",
       "  <thead>\n",
       "    <tr style=\"text-align: right;\">\n",
       "      <th></th>\n",
       "      <th>3 gears</th>\n",
       "      <th>4 gears</th>\n",
       "      <th>5 gears</th>\n",
       "    </tr>\n",
       "  </thead>\n",
       "  <tbody>\n",
       "    <tr>\n",
       "      <th>4 Cylinders</th>\n",
       "      <td>#232C65</td>\n",
       "      <td>#2D2D2A</td>\n",
       "      <td>#849324</td>\n",
       "    </tr>\n",
       "    <tr>\n",
       "      <th>6 Cylinders</th>\n",
       "      <td>#9195b2</td>\n",
       "      <td>#969694</td>\n",
       "      <td>#c1c991</td>\n",
       "    </tr>\n",
       "    <tr>\n",
       "      <th>8 Cylinders</th>\n",
       "      <td>#9195b2</td>\n",
       "      <td>#969694</td>\n",
       "      <td>#c1c991</td>\n",
       "    </tr>\n",
       "  </tbody>\n",
       "</table>\n",
       "</div>"
      ],
      "text/plain": [
       "             3 gears  4 gears  5 gears\n",
       "4 Cylinders  #232C65  #2D2D2A  #849324\n",
       "6 Cylinders  #9195b2  #969694  #c1c991\n",
       "8 Cylinders  #9195b2  #969694  #c1c991"
      ]
     },
     "execution_count": 35,
     "metadata": {},
     "output_type": "execute_result"
    }
   ],
   "source": [
    "# create new colors\n",
    "colors = pd.DataFrame({\n",
    "           '3 gears':['#9195b2']*3,\n",
    "           '4 gears':['#969694']*3,\n",
    "           '5 gears':['#c1c991']*3\n",
    "       }, index=in_data.index)\n",
    "\n",
    "colors.loc['4 Cylinders'] = ['#232C65', '#2D2D2A', '#849324']\n",
    "\n",
    "args['colors'] = colors\n",
    "print('colors:')\n",
    "colors"
   ]
  },
  {
   "cell_type": "code",
   "execution_count": 36,
   "metadata": {},
   "outputs": [
    {
     "data": {
      "text/html": [
       "<script>requirejs.config({paths: { 'plotly': ['https://cdn.plot.ly/plotly-latest.min']},});if(!window.Plotly) {{require(['plotly'],function(plotly) {window.Plotly=plotly;});}}</script>"
      ],
      "text/vnd.plotly.v1+html": [
       "<script>requirejs.config({paths: { 'plotly': ['https://cdn.plot.ly/plotly-latest.min']},});if(!window.Plotly) {{require(['plotly'],function(plotly) {window.Plotly=plotly;});}}</script>"
      ]
     },
     "metadata": {},
     "output_type": "display_data"
    },
    {
     "data": {
      "application/vnd.plotly.v1+json": {
       "data": [
        {
         "error_y": {
          "array": [
           0.75,
           0.75,
           0.75
          ],
          "thickness": 7,
          "type": "data",
          "visible": true,
          "width": 8
         },
         "marker": {
          "color": [
           "#232C65",
           "#9195b2",
           "#9195b2"
          ]
         },
         "name": "3 gears",
         "text": [
          "ae",
          "mv",
          "fc"
         ],
         "type": "bar",
         "uid": "afe6c05e-ec0c-11e8-873a-a0481cac4f9d",
         "x": [
          "4 Cylinders",
          "6 Cylinders",
          "8 Cylinders"
         ],
         "y": [
          21.5,
          19.75,
          15.050000000000002
         ]
        },
        {
         "error_y": {
          "array": [
           0.75,
           0.75,
           0.75
          ],
          "thickness": 7,
          "type": "data",
          "visible": true,
          "width": 8
         },
         "marker": {
          "color": [
           "#2D2D2A",
           "#969694",
           "#969694"
          ]
         },
         "name": "4 gears",
         "text": [
          "yh",
          "va",
          "zq"
         ],
         "type": "bar",
         "uid": "afe6c05f-ec0c-11e8-b4e0-a0481cac4f9d",
         "x": [
          "4 Cylinders",
          "6 Cylinders",
          "8 Cylinders"
         ],
         "y": [
          26.925000000000004,
          19.75,
          15.225000000000001
         ]
        },
        {
         "error_y": {
          "array": [
           0.75,
           0.75,
           0.75
          ],
          "thickness": 7,
          "type": "data",
          "visible": true,
          "width": 8
         },
         "marker": {
          "color": [
           "#849324",
           "#c1c991",
           "#c1c991"
          ]
         },
         "name": "5 gears",
         "text": [
          "nj",
          "hj",
          "pc"
         ],
         "type": "bar",
         "uid": "afe6c060-ec0c-11e8-8c5a-a0481cac4f9d",
         "x": [
          "4 Cylinders",
          "6 Cylinders",
          "8 Cylinders"
         ],
         "y": [
          28.2,
          19.7,
          15.4
         ]
        }
       ],
       "layout": {
        "annotations": [
         {
          "ax": 250,
          "ay": 25,
          "showarrow": true,
          "text": "More gears correlate to better fuel mileage for cars with 4 cylinder engines",
          "x": 0.45,
          "y": 28
         }
        ],
        "hovermode": "closest",
        "plot_bgcolor": "rgb(229, 229, 229)",
        "title": "<b>Fuel Mileage by Number of Cylinders and Number of Gears</b><br><i>for mtcars data</i>",
        "xaxis": {
         "gridcolor": "rgb(255,255,255)",
         "tickangle": 30,
         "title": "Number of Cylinders",
         "zerolinecolor": "rgb(255,255,255)"
        },
        "yaxis": {
         "gridcolor": "rgb(255,255,255)",
         "title": "Miles Per Gallon",
         "zerolinecolor": "rgb(255,255,255)"
        }
       }
      },
      "text/html": [
       "<div id=\"fc53b84b-3f71-4c23-a764-a0498eb99e14\" style=\"height: 525px; width: 100%;\" class=\"plotly-graph-div\"></div><script type=\"text/javascript\">require([\"plotly\"], function(Plotly) { window.PLOTLYENV=window.PLOTLYENV || {};window.PLOTLYENV.BASE_URL=\"https://plot.ly\";Plotly.newPlot(\"fc53b84b-3f71-4c23-a764-a0498eb99e14\", [{\"error_y\": {\"array\": [0.75, 0.75, 0.75], \"thickness\": 7, \"type\": \"data\", \"visible\": true, \"width\": 8}, \"marker\": {\"color\": [\"#232C65\", \"#9195b2\", \"#9195b2\"]}, \"name\": \"3 gears\", \"text\": [\"ae\", \"mv\", \"fc\"], \"x\": [\"4 Cylinders\", \"6 Cylinders\", \"8 Cylinders\"], \"y\": [21.5, 19.75, 15.050000000000002], \"type\": \"bar\", \"uid\": \"afe6c05e-ec0c-11e8-873a-a0481cac4f9d\"}, {\"error_y\": {\"array\": [0.75, 0.75, 0.75], \"thickness\": 7, \"type\": \"data\", \"visible\": true, \"width\": 8}, \"marker\": {\"color\": [\"#2D2D2A\", \"#969694\", \"#969694\"]}, \"name\": \"4 gears\", \"text\": [\"yh\", \"va\", \"zq\"], \"x\": [\"4 Cylinders\", \"6 Cylinders\", \"8 Cylinders\"], \"y\": [26.925000000000004, 19.75, 15.225000000000001], \"type\": \"bar\", \"uid\": \"afe6c05f-ec0c-11e8-b4e0-a0481cac4f9d\"}, {\"error_y\": {\"array\": [0.75, 0.75, 0.75], \"thickness\": 7, \"type\": \"data\", \"visible\": true, \"width\": 8}, \"marker\": {\"color\": [\"#849324\", \"#c1c991\", \"#c1c991\"]}, \"name\": \"5 gears\", \"text\": [\"nj\", \"hj\", \"pc\"], \"x\": [\"4 Cylinders\", \"6 Cylinders\", \"8 Cylinders\"], \"y\": [28.2, 19.7, 15.4], \"type\": \"bar\", \"uid\": \"afe6c060-ec0c-11e8-8c5a-a0481cac4f9d\"}], {\"annotations\": [{\"ax\": 250, \"ay\": 25, \"showarrow\": true, \"text\": \"More gears correlate to better fuel mileage for cars with 4 cylinder engines\", \"x\": 0.45, \"y\": 28}], \"hovermode\": \"closest\", \"plot_bgcolor\": \"rgb(229, 229, 229)\", \"title\": \"<b>Fuel Mileage by Number of Cylinders and Number of Gears</b><br><i>for mtcars data</i>\", \"xaxis\": {\"gridcolor\": \"rgb(255,255,255)\", \"tickangle\": 30, \"title\": \"Number of Cylinders\", \"zerolinecolor\": \"rgb(255,255,255)\"}, \"yaxis\": {\"gridcolor\": \"rgb(255,255,255)\", \"title\": \"Miles Per Gallon\", \"zerolinecolor\": \"rgb(255,255,255)\"}}, {\"showLink\": true, \"linkText\": \"Export to plot.ly\"})});</script>"
      ],
      "text/vnd.plotly.v1+html": [
       "<div id=\"fc53b84b-3f71-4c23-a764-a0498eb99e14\" style=\"height: 525px; width: 100%;\" class=\"plotly-graph-div\"></div><script type=\"text/javascript\">require([\"plotly\"], function(Plotly) { window.PLOTLYENV=window.PLOTLYENV || {};window.PLOTLYENV.BASE_URL=\"https://plot.ly\";Plotly.newPlot(\"fc53b84b-3f71-4c23-a764-a0498eb99e14\", [{\"error_y\": {\"array\": [0.75, 0.75, 0.75], \"thickness\": 7, \"type\": \"data\", \"visible\": true, \"width\": 8}, \"marker\": {\"color\": [\"#232C65\", \"#9195b2\", \"#9195b2\"]}, \"name\": \"3 gears\", \"text\": [\"ae\", \"mv\", \"fc\"], \"x\": [\"4 Cylinders\", \"6 Cylinders\", \"8 Cylinders\"], \"y\": [21.5, 19.75, 15.050000000000002], \"type\": \"bar\", \"uid\": \"afe6c05e-ec0c-11e8-873a-a0481cac4f9d\"}, {\"error_y\": {\"array\": [0.75, 0.75, 0.75], \"thickness\": 7, \"type\": \"data\", \"visible\": true, \"width\": 8}, \"marker\": {\"color\": [\"#2D2D2A\", \"#969694\", \"#969694\"]}, \"name\": \"4 gears\", \"text\": [\"yh\", \"va\", \"zq\"], \"x\": [\"4 Cylinders\", \"6 Cylinders\", \"8 Cylinders\"], \"y\": [26.925000000000004, 19.75, 15.225000000000001], \"type\": \"bar\", \"uid\": \"afe6c05f-ec0c-11e8-b4e0-a0481cac4f9d\"}, {\"error_y\": {\"array\": [0.75, 0.75, 0.75], \"thickness\": 7, \"type\": \"data\", \"visible\": true, \"width\": 8}, \"marker\": {\"color\": [\"#849324\", \"#c1c991\", \"#c1c991\"]}, \"name\": \"5 gears\", \"text\": [\"nj\", \"hj\", \"pc\"], \"x\": [\"4 Cylinders\", \"6 Cylinders\", \"8 Cylinders\"], \"y\": [28.2, 19.7, 15.4], \"type\": \"bar\", \"uid\": \"afe6c060-ec0c-11e8-8c5a-a0481cac4f9d\"}], {\"annotations\": [{\"ax\": 250, \"ay\": 25, \"showarrow\": true, \"text\": \"More gears correlate to better fuel mileage for cars with 4 cylinder engines\", \"x\": 0.45, \"y\": 28}], \"hovermode\": \"closest\", \"plot_bgcolor\": \"rgb(229, 229, 229)\", \"title\": \"<b>Fuel Mileage by Number of Cylinders and Number of Gears</b><br><i>for mtcars data</i>\", \"xaxis\": {\"gridcolor\": \"rgb(255,255,255)\", \"tickangle\": 30, \"title\": \"Number of Cylinders\", \"zerolinecolor\": \"rgb(255,255,255)\"}, \"yaxis\": {\"gridcolor\": \"rgb(255,255,255)\", \"title\": \"Miles Per Gallon\", \"zerolinecolor\": \"rgb(255,255,255)\"}}, {\"showLink\": true, \"linkText\": \"Export to plot.ly\"})});</script>"
      ]
     },
     "metadata": {},
     "output_type": "display_data"
    }
   ],
   "source": [
    "fig = barplot.create_graph(**args)"
   ]
  },
  {
   "cell_type": "code",
   "execution_count": 37,
   "metadata": {},
   "outputs": [],
   "source": [
    "# write graph to html file \n",
    "fp = 'grouped-barplot-example.html'\n",
    "barplot.output_graph(fp, fig)"
   ]
  },
  {
   "cell_type": "markdown",
   "metadata": {},
   "source": [
    "# Create Scatterplot"
   ]
  },
  {
   "cell_type": "code",
   "execution_count": 38,
   "metadata": {},
   "outputs": [],
   "source": [
    "os.chdir('../')\n",
    "import scatterplot\n",
    "imp.reload(scatterplot)\n",
    "os.chdir('examples')"
   ]
  },
  {
   "cell_type": "code",
   "execution_count": 39,
   "metadata": {},
   "outputs": [
    {
     "name": "stdout",
     "output_type": "stream",
     "text": [
      "x values:\n"
     ]
    },
    {
     "data": {
      "text/html": [
       "<div>\n",
       "<style scoped>\n",
       "    .dataframe tbody tr th:only-of-type {\n",
       "        vertical-align: middle;\n",
       "    }\n",
       "\n",
       "    .dataframe tbody tr th {\n",
       "        vertical-align: top;\n",
       "    }\n",
       "\n",
       "    .dataframe thead th {\n",
       "        text-align: right;\n",
       "    }\n",
       "</style>\n",
       "<table border=\"1\" class=\"dataframe\">\n",
       "  <thead>\n",
       "    <tr style=\"text-align: right;\">\n",
       "      <th></th>\n",
       "      <th>hp</th>\n",
       "    </tr>\n",
       "  </thead>\n",
       "  <tbody>\n",
       "    <tr>\n",
       "      <th>0</th>\n",
       "      <td>110</td>\n",
       "    </tr>\n",
       "    <tr>\n",
       "      <th>1</th>\n",
       "      <td>110</td>\n",
       "    </tr>\n",
       "    <tr>\n",
       "      <th>2</th>\n",
       "      <td>93</td>\n",
       "    </tr>\n",
       "    <tr>\n",
       "      <th>3</th>\n",
       "      <td>110</td>\n",
       "    </tr>\n",
       "    <tr>\n",
       "      <th>4</th>\n",
       "      <td>175</td>\n",
       "    </tr>\n",
       "  </tbody>\n",
       "</table>\n",
       "</div>"
      ],
      "text/plain": [
       "    hp\n",
       "0  110\n",
       "1  110\n",
       "2   93\n",
       "3  110\n",
       "4  175"
      ]
     },
     "metadata": {},
     "output_type": "display_data"
    },
    {
     "name": "stdout",
     "output_type": "stream",
     "text": [
      "y values:\n"
     ]
    },
    {
     "data": {
      "text/html": [
       "<div>\n",
       "<style scoped>\n",
       "    .dataframe tbody tr th:only-of-type {\n",
       "        vertical-align: middle;\n",
       "    }\n",
       "\n",
       "    .dataframe tbody tr th {\n",
       "        vertical-align: top;\n",
       "    }\n",
       "\n",
       "    .dataframe thead th {\n",
       "        text-align: right;\n",
       "    }\n",
       "</style>\n",
       "<table border=\"1\" class=\"dataframe\">\n",
       "  <thead>\n",
       "    <tr style=\"text-align: right;\">\n",
       "      <th></th>\n",
       "      <th>mpg</th>\n",
       "    </tr>\n",
       "  </thead>\n",
       "  <tbody>\n",
       "    <tr>\n",
       "      <th>0</th>\n",
       "      <td>21.0</td>\n",
       "    </tr>\n",
       "    <tr>\n",
       "      <th>1</th>\n",
       "      <td>21.0</td>\n",
       "    </tr>\n",
       "    <tr>\n",
       "      <th>2</th>\n",
       "      <td>22.8</td>\n",
       "    </tr>\n",
       "    <tr>\n",
       "      <th>3</th>\n",
       "      <td>21.4</td>\n",
       "    </tr>\n",
       "    <tr>\n",
       "      <th>4</th>\n",
       "      <td>18.7</td>\n",
       "    </tr>\n",
       "  </tbody>\n",
       "</table>\n",
       "</div>"
      ],
      "text/plain": [
       "    mpg\n",
       "0  21.0\n",
       "1  21.0\n",
       "2  22.8\n",
       "3  21.4\n",
       "4  18.7"
      ]
     },
     "metadata": {},
     "output_type": "display_data"
    },
    {
     "name": "stdout",
     "output_type": "stream",
     "text": [
      "names: \n"
     ]
    },
    {
     "data": {
      "text/html": [
       "<div>\n",
       "<style scoped>\n",
       "    .dataframe tbody tr th:only-of-type {\n",
       "        vertical-align: middle;\n",
       "    }\n",
       "\n",
       "    .dataframe tbody tr th {\n",
       "        vertical-align: top;\n",
       "    }\n",
       "\n",
       "    .dataframe thead th {\n",
       "        text-align: right;\n",
       "    }\n",
       "</style>\n",
       "<table border=\"1\" class=\"dataframe\">\n",
       "  <thead>\n",
       "    <tr style=\"text-align: right;\">\n",
       "      <th></th>\n",
       "      <th>hp</th>\n",
       "    </tr>\n",
       "  </thead>\n",
       "  <tbody>\n",
       "    <tr>\n",
       "      <th>0</th>\n",
       "      <td># Cylinders: 6.0&lt;br&gt;# Carbs: 4.0&lt;br&gt;# Gears: 4...</td>\n",
       "    </tr>\n",
       "    <tr>\n",
       "      <th>1</th>\n",
       "      <td># Cylinders: 6.0&lt;br&gt;# Carbs: 4.0&lt;br&gt;# Gears: 4...</td>\n",
       "    </tr>\n",
       "    <tr>\n",
       "      <th>2</th>\n",
       "      <td># Cylinders: 4.0&lt;br&gt;# Carbs: 1.0&lt;br&gt;# Gears: 4...</td>\n",
       "    </tr>\n",
       "    <tr>\n",
       "      <th>3</th>\n",
       "      <td># Cylinders: 6.0&lt;br&gt;# Carbs: 1.0&lt;br&gt;# Gears: 3...</td>\n",
       "    </tr>\n",
       "    <tr>\n",
       "      <th>4</th>\n",
       "      <td># Cylinders: 8.0&lt;br&gt;# Carbs: 2.0&lt;br&gt;# Gears: 3...</td>\n",
       "    </tr>\n",
       "  </tbody>\n",
       "</table>\n",
       "</div>"
      ],
      "text/plain": [
       "                                                  hp\n",
       "0  # Cylinders: 6.0<br># Carbs: 4.0<br># Gears: 4...\n",
       "1  # Cylinders: 6.0<br># Carbs: 4.0<br># Gears: 4...\n",
       "2  # Cylinders: 4.0<br># Carbs: 1.0<br># Gears: 4...\n",
       "3  # Cylinders: 6.0<br># Carbs: 1.0<br># Gears: 3...\n",
       "4  # Cylinders: 8.0<br># Carbs: 2.0<br># Gears: 3..."
      ]
     },
     "metadata": {},
     "output_type": "display_data"
    },
    {
     "name": "stdout",
     "output_type": "stream",
     "text": [
      "colors: \n"
     ]
    },
    {
     "data": {
      "text/html": [
       "<div>\n",
       "<style scoped>\n",
       "    .dataframe tbody tr th:only-of-type {\n",
       "        vertical-align: middle;\n",
       "    }\n",
       "\n",
       "    .dataframe tbody tr th {\n",
       "        vertical-align: top;\n",
       "    }\n",
       "\n",
       "    .dataframe thead th {\n",
       "        text-align: right;\n",
       "    }\n",
       "</style>\n",
       "<table border=\"1\" class=\"dataframe\">\n",
       "  <thead>\n",
       "    <tr style=\"text-align: right;\">\n",
       "      <th></th>\n",
       "      <th>hp</th>\n",
       "    </tr>\n",
       "  </thead>\n",
       "  <tbody>\n",
       "    <tr>\n",
       "      <th>0</th>\n",
       "      <td>#C14953</td>\n",
       "    </tr>\n",
       "    <tr>\n",
       "      <th>1</th>\n",
       "      <td>#C14953</td>\n",
       "    </tr>\n",
       "    <tr>\n",
       "      <th>2</th>\n",
       "      <td>#C14953</td>\n",
       "    </tr>\n",
       "    <tr>\n",
       "      <th>3</th>\n",
       "      <td>#C14953</td>\n",
       "    </tr>\n",
       "    <tr>\n",
       "      <th>4</th>\n",
       "      <td>#C14953</td>\n",
       "    </tr>\n",
       "  </tbody>\n",
       "</table>\n",
       "</div>"
      ],
      "text/plain": [
       "        hp\n",
       "0  #C14953\n",
       "1  #C14953\n",
       "2  #C14953\n",
       "3  #C14953\n",
       "4  #C14953"
      ]
     },
     "metadata": {},
     "output_type": "display_data"
    }
   ],
   "source": [
    "# create main data \n",
    "sl = df[['hp', 'mpg']].copy()\n",
    "x_data = sl[['hp']].copy()\n",
    "y_data = sl[['mpg']].copy()\n",
    "\n",
    "print('x values:')\n",
    "display(x_data.head())\n",
    "\n",
    "print('y values:')\n",
    "display(y_data.head())\n",
    "\n",
    "# create names\n",
    "n = (df[['cyl', 'carb', 'gear', 'wt']].apply(\n",
    "      lambda x: '# Cylinders: %s<br># Carbs: %s<br># Gears: %s<br>Weight: %s' % (x['cyl'], x['carb'], \n",
    "                                                                                   x['gear'], x['wt']),\n",
    "      axis=1\n",
    "    )\n",
    "  ).copy()\n",
    "\n",
    "n = n.rename('mpg')\n",
    "\n",
    "names = sl.copy()\n",
    "names['hp'] = n\n",
    "del names['mpg']\n",
    "\n",
    "print('names: ')\n",
    "display(names.head())\n",
    "\n",
    "# create colors \n",
    "colors = sl.copy()\n",
    "colors.loc[:, :] = '#C14953'\n",
    "del colors['mpg']\n",
    "\n",
    "print('colors: ')\n",
    "display(colors.head())"
   ]
  },
  {
   "cell_type": "code",
   "execution_count": 40,
   "metadata": {},
   "outputs": [
    {
     "data": {
      "text/html": [
       "<script>requirejs.config({paths: { 'plotly': ['https://cdn.plot.ly/plotly-latest.min']},});if(!window.Plotly) {{require(['plotly'],function(plotly) {window.Plotly=plotly;});}}</script>"
      ],
      "text/vnd.plotly.v1+html": [
       "<script>requirejs.config({paths: { 'plotly': ['https://cdn.plot.ly/plotly-latest.min']},});if(!window.Plotly) {{require(['plotly'],function(plotly) {window.Plotly=plotly;});}}</script>"
      ]
     },
     "metadata": {},
     "output_type": "display_data"
    },
    {
     "data": {
      "application/vnd.plotly.v1+json": {
       "data": [
        {
         "marker": {
          "color": [
           "#232C65",
           "#232C65",
           "#232C65",
           "#232C65",
           "#232C65",
           "#232C65",
           "#232C65",
           "#232C65",
           "#232C65",
           "#232C65",
           "#232C65",
           "#232C65",
           "#232C65",
           "#232C65",
           "#232C65",
           "#232C65",
           "#232C65",
           "#232C65",
           "#232C65",
           "#232C65",
           "#232C65",
           "#232C65",
           "#232C65",
           "#232C65",
           "#232C65",
           "#232C65",
           "#232C65",
           "#232C65",
           "#232C65",
           "#232C65",
           "#232C65",
           "#232C65"
          ]
         },
         "mode": "markers",
         "name": "hp",
         "text": [
          110,
          110,
          93,
          110,
          175,
          105,
          245,
          62,
          95,
          123,
          123,
          180,
          180,
          180,
          205,
          215,
          230,
          66,
          52,
          65,
          97,
          150,
          150,
          245,
          175,
          66,
          91,
          113,
          264,
          175,
          335,
          109
         ],
         "type": "scatter",
         "uid": "b01dfe68-ec0c-11e8-8ddd-a0481cac4f9d",
         "x": [
          110,
          110,
          93,
          110,
          175,
          105,
          245,
          62,
          95,
          123,
          123,
          180,
          180,
          180,
          205,
          215,
          230,
          66,
          52,
          65,
          97,
          150,
          150,
          245,
          175,
          66,
          91,
          113,
          264,
          175,
          335,
          109
         ],
         "y": [
          21,
          21,
          22.8,
          21.4,
          18.7,
          18.1,
          14.3,
          24.4,
          22.8,
          19.2,
          17.8,
          16.4,
          17.3,
          15.2,
          10.4,
          10.4,
          14.7,
          32.4,
          30.4,
          33.9,
          21.5,
          15.5,
          15.2,
          13.3,
          19.2,
          27.3,
          26,
          30.4,
          15.8,
          19.7,
          15,
          21.4
         ]
        }
       ],
       "layout": {
        "hovermode": "closest",
        "plot_bgcolor": "rgb(229, 229, 229)",
        "title": "title",
        "xaxis": {
         "gridcolor": "rgb(255,255,255)",
         "tickangle": 30,
         "title": "xlab",
         "zerolinecolor": "rgb(255,255,255)"
        },
        "yaxis": {
         "gridcolor": "rgb(255,255,255)",
         "title": "ylab",
         "zerolinecolor": "rgb(255,255,255)"
        }
       }
      },
      "text/html": [
       "<div id=\"d0315dac-9e0c-426f-964d-6ece2f5e0723\" style=\"height: 525px; width: 100%;\" class=\"plotly-graph-div\"></div><script type=\"text/javascript\">require([\"plotly\"], function(Plotly) { window.PLOTLYENV=window.PLOTLYENV || {};window.PLOTLYENV.BASE_URL=\"https://plot.ly\";Plotly.newPlot(\"d0315dac-9e0c-426f-964d-6ece2f5e0723\", [{\"marker\": {\"color\": [\"#232C65\", \"#232C65\", \"#232C65\", \"#232C65\", \"#232C65\", \"#232C65\", \"#232C65\", \"#232C65\", \"#232C65\", \"#232C65\", \"#232C65\", \"#232C65\", \"#232C65\", \"#232C65\", \"#232C65\", \"#232C65\", \"#232C65\", \"#232C65\", \"#232C65\", \"#232C65\", \"#232C65\", \"#232C65\", \"#232C65\", \"#232C65\", \"#232C65\", \"#232C65\", \"#232C65\", \"#232C65\", \"#232C65\", \"#232C65\", \"#232C65\", \"#232C65\"]}, \"mode\": \"markers\", \"name\": \"hp\", \"text\": [110.0, 110.0, 93.0, 110.0, 175.0, 105.0, 245.0, 62.0, 95.0, 123.0, 123.0, 180.0, 180.0, 180.0, 205.0, 215.0, 230.0, 66.0, 52.0, 65.0, 97.0, 150.0, 150.0, 245.0, 175.0, 66.0, 91.0, 113.0, 264.0, 175.0, 335.0, 109.0], \"x\": [110, 110, 93, 110, 175, 105, 245, 62, 95, 123, 123, 180, 180, 180, 205, 215, 230, 66, 52, 65, 97, 150, 150, 245, 175, 66, 91, 113, 264, 175, 335, 109], \"y\": [21.0, 21.0, 22.8, 21.4, 18.7, 18.1, 14.3, 24.4, 22.8, 19.2, 17.8, 16.4, 17.3, 15.2, 10.4, 10.4, 14.7, 32.4, 30.4, 33.9, 21.5, 15.5, 15.2, 13.3, 19.2, 27.3, 26.0, 30.4, 15.8, 19.7, 15.0, 21.4], \"type\": \"scatter\", \"uid\": \"b01dfe68-ec0c-11e8-8ddd-a0481cac4f9d\"}], {\"hovermode\": \"closest\", \"plot_bgcolor\": \"rgb(229, 229, 229)\", \"title\": \"title\", \"xaxis\": {\"gridcolor\": \"rgb(255,255,255)\", \"tickangle\": 30, \"title\": \"xlab\", \"zerolinecolor\": \"rgb(255,255,255)\"}, \"yaxis\": {\"gridcolor\": \"rgb(255,255,255)\", \"title\": \"ylab\", \"zerolinecolor\": \"rgb(255,255,255)\"}}, {\"showLink\": true, \"linkText\": \"Export to plot.ly\"})});</script>"
      ],
      "text/vnd.plotly.v1+html": [
       "<div id=\"d0315dac-9e0c-426f-964d-6ece2f5e0723\" style=\"height: 525px; width: 100%;\" class=\"plotly-graph-div\"></div><script type=\"text/javascript\">require([\"plotly\"], function(Plotly) { window.PLOTLYENV=window.PLOTLYENV || {};window.PLOTLYENV.BASE_URL=\"https://plot.ly\";Plotly.newPlot(\"d0315dac-9e0c-426f-964d-6ece2f5e0723\", [{\"marker\": {\"color\": [\"#232C65\", \"#232C65\", \"#232C65\", \"#232C65\", \"#232C65\", \"#232C65\", \"#232C65\", \"#232C65\", \"#232C65\", \"#232C65\", \"#232C65\", \"#232C65\", \"#232C65\", \"#232C65\", \"#232C65\", \"#232C65\", \"#232C65\", \"#232C65\", \"#232C65\", \"#232C65\", \"#232C65\", \"#232C65\", \"#232C65\", \"#232C65\", \"#232C65\", \"#232C65\", \"#232C65\", \"#232C65\", \"#232C65\", \"#232C65\", \"#232C65\", \"#232C65\"]}, \"mode\": \"markers\", \"name\": \"hp\", \"text\": [110.0, 110.0, 93.0, 110.0, 175.0, 105.0, 245.0, 62.0, 95.0, 123.0, 123.0, 180.0, 180.0, 180.0, 205.0, 215.0, 230.0, 66.0, 52.0, 65.0, 97.0, 150.0, 150.0, 245.0, 175.0, 66.0, 91.0, 113.0, 264.0, 175.0, 335.0, 109.0], \"x\": [110, 110, 93, 110, 175, 105, 245, 62, 95, 123, 123, 180, 180, 180, 205, 215, 230, 66, 52, 65, 97, 150, 150, 245, 175, 66, 91, 113, 264, 175, 335, 109], \"y\": [21.0, 21.0, 22.8, 21.4, 18.7, 18.1, 14.3, 24.4, 22.8, 19.2, 17.8, 16.4, 17.3, 15.2, 10.4, 10.4, 14.7, 32.4, 30.4, 33.9, 21.5, 15.5, 15.2, 13.3, 19.2, 27.3, 26.0, 30.4, 15.8, 19.7, 15.0, 21.4], \"type\": \"scatter\", \"uid\": \"b01dfe68-ec0c-11e8-8ddd-a0481cac4f9d\"}], {\"hovermode\": \"closest\", \"plot_bgcolor\": \"rgb(229, 229, 229)\", \"title\": \"title\", \"xaxis\": {\"gridcolor\": \"rgb(255,255,255)\", \"tickangle\": 30, \"title\": \"xlab\", \"zerolinecolor\": \"rgb(255,255,255)\"}, \"yaxis\": {\"gridcolor\": \"rgb(255,255,255)\", \"title\": \"ylab\", \"zerolinecolor\": \"rgb(255,255,255)\"}}, {\"showLink\": true, \"linkText\": \"Export to plot.ly\"})});</script>"
      ]
     },
     "metadata": {},
     "output_type": "display_data"
    }
   ],
   "source": [
    "args = {'x_data':[x_data], 'y_data':[y_data]}\n",
    "fig = scatterplot.create_graph(**args)"
   ]
  },
  {
   "cell_type": "code",
   "execution_count": 41,
   "metadata": {},
   "outputs": [
    {
     "data": {
      "text/html": [
       "<script>requirejs.config({paths: { 'plotly': ['https://cdn.plot.ly/plotly-latest.min']},});if(!window.Plotly) {{require(['plotly'],function(plotly) {window.Plotly=plotly;});}}</script>"
      ],
      "text/vnd.plotly.v1+html": [
       "<script>requirejs.config({paths: { 'plotly': ['https://cdn.plot.ly/plotly-latest.min']},});if(!window.Plotly) {{require(['plotly'],function(plotly) {window.Plotly=plotly;});}}</script>"
      ]
     },
     "metadata": {},
     "output_type": "display_data"
    },
    {
     "data": {
      "application/vnd.plotly.v1+json": {
       "data": [
        {
         "marker": {
          "color": [
           "#C14953",
           "#C14953",
           "#C14953",
           "#C14953",
           "#C14953",
           "#C14953",
           "#C14953",
           "#C14953",
           "#C14953",
           "#C14953",
           "#C14953",
           "#C14953",
           "#C14953",
           "#C14953",
           "#C14953",
           "#C14953",
           "#C14953",
           "#C14953",
           "#C14953",
           "#C14953",
           "#C14953",
           "#C14953",
           "#C14953",
           "#C14953",
           "#C14953",
           "#C14953",
           "#C14953",
           "#C14953",
           "#C14953",
           "#C14953",
           "#C14953",
           "#C14953"
          ]
         },
         "mode": "markers",
         "name": "hp",
         "text": [
          "# Cylinders: 6.0<br># Carbs: 4.0<br># Gears: 4.0<br>Weight: 2.62",
          "# Cylinders: 6.0<br># Carbs: 4.0<br># Gears: 4.0<br>Weight: 2.875",
          "# Cylinders: 4.0<br># Carbs: 1.0<br># Gears: 4.0<br>Weight: 2.32",
          "# Cylinders: 6.0<br># Carbs: 1.0<br># Gears: 3.0<br>Weight: 3.215",
          "# Cylinders: 8.0<br># Carbs: 2.0<br># Gears: 3.0<br>Weight: 3.44",
          "# Cylinders: 6.0<br># Carbs: 1.0<br># Gears: 3.0<br>Weight: 3.46",
          "# Cylinders: 8.0<br># Carbs: 4.0<br># Gears: 3.0<br>Weight: 3.57",
          "# Cylinders: 4.0<br># Carbs: 2.0<br># Gears: 4.0<br>Weight: 3.19",
          "# Cylinders: 4.0<br># Carbs: 2.0<br># Gears: 4.0<br>Weight: 3.15",
          "# Cylinders: 6.0<br># Carbs: 4.0<br># Gears: 4.0<br>Weight: 3.44",
          "# Cylinders: 6.0<br># Carbs: 4.0<br># Gears: 4.0<br>Weight: 3.44",
          "# Cylinders: 8.0<br># Carbs: 3.0<br># Gears: 3.0<br>Weight: 4.07",
          "# Cylinders: 8.0<br># Carbs: 3.0<br># Gears: 3.0<br>Weight: 3.73",
          "# Cylinders: 8.0<br># Carbs: 3.0<br># Gears: 3.0<br>Weight: 3.78",
          "# Cylinders: 8.0<br># Carbs: 4.0<br># Gears: 3.0<br>Weight: 5.25",
          "# Cylinders: 8.0<br># Carbs: 4.0<br># Gears: 3.0<br>Weight: 5.4239999999999995",
          "# Cylinders: 8.0<br># Carbs: 4.0<br># Gears: 3.0<br>Weight: 5.345",
          "# Cylinders: 4.0<br># Carbs: 1.0<br># Gears: 4.0<br>Weight: 2.2",
          "# Cylinders: 4.0<br># Carbs: 2.0<br># Gears: 4.0<br>Weight: 1.615",
          "# Cylinders: 4.0<br># Carbs: 1.0<br># Gears: 4.0<br>Weight: 1.835",
          "# Cylinders: 4.0<br># Carbs: 1.0<br># Gears: 3.0<br>Weight: 2.465",
          "# Cylinders: 8.0<br># Carbs: 2.0<br># Gears: 3.0<br>Weight: 3.52",
          "# Cylinders: 8.0<br># Carbs: 2.0<br># Gears: 3.0<br>Weight: 3.435",
          "# Cylinders: 8.0<br># Carbs: 4.0<br># Gears: 3.0<br>Weight: 3.84",
          "# Cylinders: 8.0<br># Carbs: 2.0<br># Gears: 3.0<br>Weight: 3.845",
          "# Cylinders: 4.0<br># Carbs: 1.0<br># Gears: 4.0<br>Weight: 1.935",
          "# Cylinders: 4.0<br># Carbs: 2.0<br># Gears: 5.0<br>Weight: 2.14",
          "# Cylinders: 4.0<br># Carbs: 2.0<br># Gears: 5.0<br>Weight: 1.5130000000000001",
          "# Cylinders: 8.0<br># Carbs: 4.0<br># Gears: 5.0<br>Weight: 3.17",
          "# Cylinders: 6.0<br># Carbs: 6.0<br># Gears: 5.0<br>Weight: 2.77",
          "# Cylinders: 8.0<br># Carbs: 8.0<br># Gears: 5.0<br>Weight: 3.57",
          "# Cylinders: 4.0<br># Carbs: 2.0<br># Gears: 4.0<br>Weight: 2.78"
         ],
         "type": "scatter",
         "uid": "b02ca4ca-ec0c-11e8-8ac3-a0481cac4f9d",
         "x": [
          110,
          110,
          93,
          110,
          175,
          105,
          245,
          62,
          95,
          123,
          123,
          180,
          180,
          180,
          205,
          215,
          230,
          66,
          52,
          65,
          97,
          150,
          150,
          245,
          175,
          66,
          91,
          113,
          264,
          175,
          335,
          109
         ],
         "y": [
          21,
          21,
          22.8,
          21.4,
          18.7,
          18.1,
          14.3,
          24.4,
          22.8,
          19.2,
          17.8,
          16.4,
          17.3,
          15.2,
          10.4,
          10.4,
          14.7,
          32.4,
          30.4,
          33.9,
          21.5,
          15.5,
          15.2,
          13.3,
          19.2,
          27.3,
          26,
          30.4,
          15.8,
          19.7,
          15,
          21.4
         ]
        }
       ],
       "layout": {
        "hovermode": "closest",
        "plot_bgcolor": "rgb(229, 229, 229)",
        "title": "<b>Fuel Mileage as a Function of Horsepower</b><br><i>for mtcars data</i>",
        "xaxis": {
         "gridcolor": "rgb(255,255,255)",
         "tickangle": 30,
         "title": "Horsepower",
         "zerolinecolor": "rgb(255,255,255)"
        },
        "yaxis": {
         "gridcolor": "rgb(255,255,255)",
         "title": "Fuel Mileage (mpg)",
         "zerolinecolor": "rgb(255,255,255)"
        }
       }
      },
      "text/html": [
       "<div id=\"6849405d-92f0-46e0-a184-ee678d3f9ba4\" style=\"height: 525px; width: 100%;\" class=\"plotly-graph-div\"></div><script type=\"text/javascript\">require([\"plotly\"], function(Plotly) { window.PLOTLYENV=window.PLOTLYENV || {};window.PLOTLYENV.BASE_URL=\"https://plot.ly\";Plotly.newPlot(\"6849405d-92f0-46e0-a184-ee678d3f9ba4\", [{\"marker\": {\"color\": [\"#C14953\", \"#C14953\", \"#C14953\", \"#C14953\", \"#C14953\", \"#C14953\", \"#C14953\", \"#C14953\", \"#C14953\", \"#C14953\", \"#C14953\", \"#C14953\", \"#C14953\", \"#C14953\", \"#C14953\", \"#C14953\", \"#C14953\", \"#C14953\", \"#C14953\", \"#C14953\", \"#C14953\", \"#C14953\", \"#C14953\", \"#C14953\", \"#C14953\", \"#C14953\", \"#C14953\", \"#C14953\", \"#C14953\", \"#C14953\", \"#C14953\", \"#C14953\"]}, \"mode\": \"markers\", \"name\": \"hp\", \"text\": [\"# Cylinders: 6.0<br># Carbs: 4.0<br># Gears: 4.0<br>Weight: 2.62\", \"# Cylinders: 6.0<br># Carbs: 4.0<br># Gears: 4.0<br>Weight: 2.875\", \"# Cylinders: 4.0<br># Carbs: 1.0<br># Gears: 4.0<br>Weight: 2.32\", \"# Cylinders: 6.0<br># Carbs: 1.0<br># Gears: 3.0<br>Weight: 3.215\", \"# Cylinders: 8.0<br># Carbs: 2.0<br># Gears: 3.0<br>Weight: 3.44\", \"# Cylinders: 6.0<br># Carbs: 1.0<br># Gears: 3.0<br>Weight: 3.46\", \"# Cylinders: 8.0<br># Carbs: 4.0<br># Gears: 3.0<br>Weight: 3.57\", \"# Cylinders: 4.0<br># Carbs: 2.0<br># Gears: 4.0<br>Weight: 3.19\", \"# Cylinders: 4.0<br># Carbs: 2.0<br># Gears: 4.0<br>Weight: 3.15\", \"# Cylinders: 6.0<br># Carbs: 4.0<br># Gears: 4.0<br>Weight: 3.44\", \"# Cylinders: 6.0<br># Carbs: 4.0<br># Gears: 4.0<br>Weight: 3.44\", \"# Cylinders: 8.0<br># Carbs: 3.0<br># Gears: 3.0<br>Weight: 4.07\", \"# Cylinders: 8.0<br># Carbs: 3.0<br># Gears: 3.0<br>Weight: 3.73\", \"# Cylinders: 8.0<br># Carbs: 3.0<br># Gears: 3.0<br>Weight: 3.78\", \"# Cylinders: 8.0<br># Carbs: 4.0<br># Gears: 3.0<br>Weight: 5.25\", \"# Cylinders: 8.0<br># Carbs: 4.0<br># Gears: 3.0<br>Weight: 5.4239999999999995\", \"# Cylinders: 8.0<br># Carbs: 4.0<br># Gears: 3.0<br>Weight: 5.345\", \"# Cylinders: 4.0<br># Carbs: 1.0<br># Gears: 4.0<br>Weight: 2.2\", \"# Cylinders: 4.0<br># Carbs: 2.0<br># Gears: 4.0<br>Weight: 1.615\", \"# Cylinders: 4.0<br># Carbs: 1.0<br># Gears: 4.0<br>Weight: 1.835\", \"# Cylinders: 4.0<br># Carbs: 1.0<br># Gears: 3.0<br>Weight: 2.465\", \"# Cylinders: 8.0<br># Carbs: 2.0<br># Gears: 3.0<br>Weight: 3.52\", \"# Cylinders: 8.0<br># Carbs: 2.0<br># Gears: 3.0<br>Weight: 3.435\", \"# Cylinders: 8.0<br># Carbs: 4.0<br># Gears: 3.0<br>Weight: 3.84\", \"# Cylinders: 8.0<br># Carbs: 2.0<br># Gears: 3.0<br>Weight: 3.845\", \"# Cylinders: 4.0<br># Carbs: 1.0<br># Gears: 4.0<br>Weight: 1.935\", \"# Cylinders: 4.0<br># Carbs: 2.0<br># Gears: 5.0<br>Weight: 2.14\", \"# Cylinders: 4.0<br># Carbs: 2.0<br># Gears: 5.0<br>Weight: 1.5130000000000001\", \"# Cylinders: 8.0<br># Carbs: 4.0<br># Gears: 5.0<br>Weight: 3.17\", \"# Cylinders: 6.0<br># Carbs: 6.0<br># Gears: 5.0<br>Weight: 2.77\", \"# Cylinders: 8.0<br># Carbs: 8.0<br># Gears: 5.0<br>Weight: 3.57\", \"# Cylinders: 4.0<br># Carbs: 2.0<br># Gears: 4.0<br>Weight: 2.78\"], \"x\": [110, 110, 93, 110, 175, 105, 245, 62, 95, 123, 123, 180, 180, 180, 205, 215, 230, 66, 52, 65, 97, 150, 150, 245, 175, 66, 91, 113, 264, 175, 335, 109], \"y\": [21.0, 21.0, 22.8, 21.4, 18.7, 18.1, 14.3, 24.4, 22.8, 19.2, 17.8, 16.4, 17.3, 15.2, 10.4, 10.4, 14.7, 32.4, 30.4, 33.9, 21.5, 15.5, 15.2, 13.3, 19.2, 27.3, 26.0, 30.4, 15.8, 19.7, 15.0, 21.4], \"type\": \"scatter\", \"uid\": \"b02ca4ca-ec0c-11e8-8ac3-a0481cac4f9d\"}], {\"hovermode\": \"closest\", \"plot_bgcolor\": \"rgb(229, 229, 229)\", \"title\": \"<b>Fuel Mileage as a Function of Horsepower</b><br><i>for mtcars data</i>\", \"xaxis\": {\"gridcolor\": \"rgb(255,255,255)\", \"tickangle\": 30, \"title\": \"Horsepower\", \"zerolinecolor\": \"rgb(255,255,255)\"}, \"yaxis\": {\"gridcolor\": \"rgb(255,255,255)\", \"title\": \"Fuel Mileage (mpg)\", \"zerolinecolor\": \"rgb(255,255,255)\"}}, {\"showLink\": true, \"linkText\": \"Export to plot.ly\"})});</script>"
      ],
      "text/vnd.plotly.v1+html": [
       "<div id=\"6849405d-92f0-46e0-a184-ee678d3f9ba4\" style=\"height: 525px; width: 100%;\" class=\"plotly-graph-div\"></div><script type=\"text/javascript\">require([\"plotly\"], function(Plotly) { window.PLOTLYENV=window.PLOTLYENV || {};window.PLOTLYENV.BASE_URL=\"https://plot.ly\";Plotly.newPlot(\"6849405d-92f0-46e0-a184-ee678d3f9ba4\", [{\"marker\": {\"color\": [\"#C14953\", \"#C14953\", \"#C14953\", \"#C14953\", \"#C14953\", \"#C14953\", \"#C14953\", \"#C14953\", \"#C14953\", \"#C14953\", \"#C14953\", \"#C14953\", \"#C14953\", \"#C14953\", \"#C14953\", \"#C14953\", \"#C14953\", \"#C14953\", \"#C14953\", \"#C14953\", \"#C14953\", \"#C14953\", \"#C14953\", \"#C14953\", \"#C14953\", \"#C14953\", \"#C14953\", \"#C14953\", \"#C14953\", \"#C14953\", \"#C14953\", \"#C14953\"]}, \"mode\": \"markers\", \"name\": \"hp\", \"text\": [\"# Cylinders: 6.0<br># Carbs: 4.0<br># Gears: 4.0<br>Weight: 2.62\", \"# Cylinders: 6.0<br># Carbs: 4.0<br># Gears: 4.0<br>Weight: 2.875\", \"# Cylinders: 4.0<br># Carbs: 1.0<br># Gears: 4.0<br>Weight: 2.32\", \"# Cylinders: 6.0<br># Carbs: 1.0<br># Gears: 3.0<br>Weight: 3.215\", \"# Cylinders: 8.0<br># Carbs: 2.0<br># Gears: 3.0<br>Weight: 3.44\", \"# Cylinders: 6.0<br># Carbs: 1.0<br># Gears: 3.0<br>Weight: 3.46\", \"# Cylinders: 8.0<br># Carbs: 4.0<br># Gears: 3.0<br>Weight: 3.57\", \"# Cylinders: 4.0<br># Carbs: 2.0<br># Gears: 4.0<br>Weight: 3.19\", \"# Cylinders: 4.0<br># Carbs: 2.0<br># Gears: 4.0<br>Weight: 3.15\", \"# Cylinders: 6.0<br># Carbs: 4.0<br># Gears: 4.0<br>Weight: 3.44\", \"# Cylinders: 6.0<br># Carbs: 4.0<br># Gears: 4.0<br>Weight: 3.44\", \"# Cylinders: 8.0<br># Carbs: 3.0<br># Gears: 3.0<br>Weight: 4.07\", \"# Cylinders: 8.0<br># Carbs: 3.0<br># Gears: 3.0<br>Weight: 3.73\", \"# Cylinders: 8.0<br># Carbs: 3.0<br># Gears: 3.0<br>Weight: 3.78\", \"# Cylinders: 8.0<br># Carbs: 4.0<br># Gears: 3.0<br>Weight: 5.25\", \"# Cylinders: 8.0<br># Carbs: 4.0<br># Gears: 3.0<br>Weight: 5.4239999999999995\", \"# Cylinders: 8.0<br># Carbs: 4.0<br># Gears: 3.0<br>Weight: 5.345\", \"# Cylinders: 4.0<br># Carbs: 1.0<br># Gears: 4.0<br>Weight: 2.2\", \"# Cylinders: 4.0<br># Carbs: 2.0<br># Gears: 4.0<br>Weight: 1.615\", \"# Cylinders: 4.0<br># Carbs: 1.0<br># Gears: 4.0<br>Weight: 1.835\", \"# Cylinders: 4.0<br># Carbs: 1.0<br># Gears: 3.0<br>Weight: 2.465\", \"# Cylinders: 8.0<br># Carbs: 2.0<br># Gears: 3.0<br>Weight: 3.52\", \"# Cylinders: 8.0<br># Carbs: 2.0<br># Gears: 3.0<br>Weight: 3.435\", \"# Cylinders: 8.0<br># Carbs: 4.0<br># Gears: 3.0<br>Weight: 3.84\", \"# Cylinders: 8.0<br># Carbs: 2.0<br># Gears: 3.0<br>Weight: 3.845\", \"# Cylinders: 4.0<br># Carbs: 1.0<br># Gears: 4.0<br>Weight: 1.935\", \"# Cylinders: 4.0<br># Carbs: 2.0<br># Gears: 5.0<br>Weight: 2.14\", \"# Cylinders: 4.0<br># Carbs: 2.0<br># Gears: 5.0<br>Weight: 1.5130000000000001\", \"# Cylinders: 8.0<br># Carbs: 4.0<br># Gears: 5.0<br>Weight: 3.17\", \"# Cylinders: 6.0<br># Carbs: 6.0<br># Gears: 5.0<br>Weight: 2.77\", \"# Cylinders: 8.0<br># Carbs: 8.0<br># Gears: 5.0<br>Weight: 3.57\", \"# Cylinders: 4.0<br># Carbs: 2.0<br># Gears: 4.0<br>Weight: 2.78\"], \"x\": [110, 110, 93, 110, 175, 105, 245, 62, 95, 123, 123, 180, 180, 180, 205, 215, 230, 66, 52, 65, 97, 150, 150, 245, 175, 66, 91, 113, 264, 175, 335, 109], \"y\": [21.0, 21.0, 22.8, 21.4, 18.7, 18.1, 14.3, 24.4, 22.8, 19.2, 17.8, 16.4, 17.3, 15.2, 10.4, 10.4, 14.7, 32.4, 30.4, 33.9, 21.5, 15.5, 15.2, 13.3, 19.2, 27.3, 26.0, 30.4, 15.8, 19.7, 15.0, 21.4], \"type\": \"scatter\", \"uid\": \"b02ca4ca-ec0c-11e8-8ac3-a0481cac4f9d\"}], {\"hovermode\": \"closest\", \"plot_bgcolor\": \"rgb(229, 229, 229)\", \"title\": \"<b>Fuel Mileage as a Function of Horsepower</b><br><i>for mtcars data</i>\", \"xaxis\": {\"gridcolor\": \"rgb(255,255,255)\", \"tickangle\": 30, \"title\": \"Horsepower\", \"zerolinecolor\": \"rgb(255,255,255)\"}, \"yaxis\": {\"gridcolor\": \"rgb(255,255,255)\", \"title\": \"Fuel Mileage (mpg)\", \"zerolinecolor\": \"rgb(255,255,255)\"}}, {\"showLink\": true, \"linkText\": \"Export to plot.ly\"})});</script>"
      ]
     },
     "metadata": {},
     "output_type": "display_data"
    }
   ],
   "source": [
    "# build graph args \n",
    "args['names'] = names\n",
    "args['colors'] = colors\n",
    "args['title'] = '<b>Fuel Mileage as a Function of Horsepower</b><br><i>for mtcars data</i>'\n",
    "args['xlab'] = 'Horsepower'\n",
    "args['ylab'] = 'Fuel Mileage (mpg)'\n",
    "\n",
    "# display plot\n",
    "fig = scatterplot.create_graph(**args)"
   ]
  },
  {
   "cell_type": "code",
   "execution_count": 42,
   "metadata": {},
   "outputs": [
    {
     "name": "stdout",
     "output_type": "stream",
     "text": [
      "x1 values:\n"
     ]
    },
    {
     "data": {
      "text/html": [
       "<div>\n",
       "<style scoped>\n",
       "    .dataframe tbody tr th:only-of-type {\n",
       "        vertical-align: middle;\n",
       "    }\n",
       "\n",
       "    .dataframe tbody tr th {\n",
       "        vertical-align: top;\n",
       "    }\n",
       "\n",
       "    .dataframe thead th {\n",
       "        text-align: right;\n",
       "    }\n",
       "</style>\n",
       "<table border=\"1\" class=\"dataframe\">\n",
       "  <thead>\n",
       "    <tr style=\"text-align: right;\">\n",
       "      <th></th>\n",
       "      <th>hp</th>\n",
       "    </tr>\n",
       "  </thead>\n",
       "  <tbody>\n",
       "    <tr>\n",
       "      <th>0</th>\n",
       "      <td>110</td>\n",
       "    </tr>\n",
       "    <tr>\n",
       "      <th>1</th>\n",
       "      <td>110</td>\n",
       "    </tr>\n",
       "    <tr>\n",
       "      <th>2</th>\n",
       "      <td>93</td>\n",
       "    </tr>\n",
       "    <tr>\n",
       "      <th>3</th>\n",
       "      <td>110</td>\n",
       "    </tr>\n",
       "    <tr>\n",
       "      <th>4</th>\n",
       "      <td>175</td>\n",
       "    </tr>\n",
       "  </tbody>\n",
       "</table>\n",
       "</div>"
      ],
      "text/plain": [
       "    hp\n",
       "0  110\n",
       "1  110\n",
       "2   93\n",
       "3  110\n",
       "4  175"
      ]
     },
     "metadata": {},
     "output_type": "display_data"
    },
    {
     "name": "stdout",
     "output_type": "stream",
     "text": [
      "x2 values:\n"
     ]
    },
    {
     "data": {
      "text/html": [
       "<div>\n",
       "<style scoped>\n",
       "    .dataframe tbody tr th:only-of-type {\n",
       "        vertical-align: middle;\n",
       "    }\n",
       "\n",
       "    .dataframe tbody tr th {\n",
       "        vertical-align: top;\n",
       "    }\n",
       "\n",
       "    .dataframe thead th {\n",
       "        text-align: right;\n",
       "    }\n",
       "</style>\n",
       "<table border=\"1\" class=\"dataframe\">\n",
       "  <thead>\n",
       "    <tr style=\"text-align: right;\">\n",
       "      <th></th>\n",
       "      <th>hp_alt</th>\n",
       "    </tr>\n",
       "  </thead>\n",
       "  <tbody>\n",
       "    <tr>\n",
       "      <th>0</th>\n",
       "      <td>102.563755</td>\n",
       "    </tr>\n",
       "    <tr>\n",
       "      <th>1</th>\n",
       "      <td>105.307467</td>\n",
       "    </tr>\n",
       "    <tr>\n",
       "      <th>2</th>\n",
       "      <td>86.524284</td>\n",
       "    </tr>\n",
       "    <tr>\n",
       "      <th>3</th>\n",
       "      <td>108.143669</td>\n",
       "    </tr>\n",
       "    <tr>\n",
       "      <th>4</th>\n",
       "      <td>169.943148</td>\n",
       "    </tr>\n",
       "  </tbody>\n",
       "</table>\n",
       "</div>"
      ],
      "text/plain": [
       "       hp_alt\n",
       "0  102.563755\n",
       "1  105.307467\n",
       "2   86.524284\n",
       "3  108.143669\n",
       "4  169.943148"
      ]
     },
     "metadata": {},
     "output_type": "display_data"
    },
    {
     "name": "stdout",
     "output_type": "stream",
     "text": [
      "y1 values:\n"
     ]
    },
    {
     "data": {
      "text/html": [
       "<div>\n",
       "<style scoped>\n",
       "    .dataframe tbody tr th:only-of-type {\n",
       "        vertical-align: middle;\n",
       "    }\n",
       "\n",
       "    .dataframe tbody tr th {\n",
       "        vertical-align: top;\n",
       "    }\n",
       "\n",
       "    .dataframe thead th {\n",
       "        text-align: right;\n",
       "    }\n",
       "</style>\n",
       "<table border=\"1\" class=\"dataframe\">\n",
       "  <thead>\n",
       "    <tr style=\"text-align: right;\">\n",
       "      <th></th>\n",
       "      <th>mpg</th>\n",
       "    </tr>\n",
       "  </thead>\n",
       "  <tbody>\n",
       "    <tr>\n",
       "      <th>0</th>\n",
       "      <td>21.0</td>\n",
       "    </tr>\n",
       "    <tr>\n",
       "      <th>1</th>\n",
       "      <td>21.0</td>\n",
       "    </tr>\n",
       "    <tr>\n",
       "      <th>2</th>\n",
       "      <td>22.8</td>\n",
       "    </tr>\n",
       "    <tr>\n",
       "      <th>3</th>\n",
       "      <td>21.4</td>\n",
       "    </tr>\n",
       "    <tr>\n",
       "      <th>4</th>\n",
       "      <td>18.7</td>\n",
       "    </tr>\n",
       "  </tbody>\n",
       "</table>\n",
       "</div>"
      ],
      "text/plain": [
       "    mpg\n",
       "0  21.0\n",
       "1  21.0\n",
       "2  22.8\n",
       "3  21.4\n",
       "4  18.7"
      ]
     },
     "metadata": {},
     "output_type": "display_data"
    },
    {
     "name": "stdout",
     "output_type": "stream",
     "text": [
      "y2 values:\n"
     ]
    },
    {
     "data": {
      "text/html": [
       "<div>\n",
       "<style scoped>\n",
       "    .dataframe tbody tr th:only-of-type {\n",
       "        vertical-align: middle;\n",
       "    }\n",
       "\n",
       "    .dataframe tbody tr th {\n",
       "        vertical-align: top;\n",
       "    }\n",
       "\n",
       "    .dataframe thead th {\n",
       "        text-align: right;\n",
       "    }\n",
       "</style>\n",
       "<table border=\"1\" class=\"dataframe\">\n",
       "  <thead>\n",
       "    <tr style=\"text-align: right;\">\n",
       "      <th></th>\n",
       "      <th>mpg_alt</th>\n",
       "    </tr>\n",
       "  </thead>\n",
       "  <tbody>\n",
       "    <tr>\n",
       "      <th>0</th>\n",
       "      <td>23.868267</td>\n",
       "    </tr>\n",
       "    <tr>\n",
       "      <th>1</th>\n",
       "      <td>26.424616</td>\n",
       "    </tr>\n",
       "    <tr>\n",
       "      <th>2</th>\n",
       "      <td>31.353208</td>\n",
       "    </tr>\n",
       "    <tr>\n",
       "      <th>3</th>\n",
       "      <td>27.101603</td>\n",
       "    </tr>\n",
       "    <tr>\n",
       "      <th>4</th>\n",
       "      <td>27.190759</td>\n",
       "    </tr>\n",
       "  </tbody>\n",
       "</table>\n",
       "</div>"
      ],
      "text/plain": [
       "     mpg_alt\n",
       "0  23.868267\n",
       "1  26.424616\n",
       "2  31.353208\n",
       "3  27.101603\n",
       "4  27.190759"
      ]
     },
     "metadata": {},
     "output_type": "display_data"
    },
    {
     "name": "stdout",
     "output_type": "stream",
     "text": [
      "names: \n"
     ]
    },
    {
     "data": {
      "text/html": [
       "<div>\n",
       "<style scoped>\n",
       "    .dataframe tbody tr th:only-of-type {\n",
       "        vertical-align: middle;\n",
       "    }\n",
       "\n",
       "    .dataframe tbody tr th {\n",
       "        vertical-align: top;\n",
       "    }\n",
       "\n",
       "    .dataframe thead th {\n",
       "        text-align: right;\n",
       "    }\n",
       "</style>\n",
       "<table border=\"1\" class=\"dataframe\">\n",
       "  <thead>\n",
       "    <tr style=\"text-align: right;\">\n",
       "      <th></th>\n",
       "      <th>hp</th>\n",
       "      <th>hp_alt</th>\n",
       "    </tr>\n",
       "  </thead>\n",
       "  <tbody>\n",
       "    <tr>\n",
       "      <th>0</th>\n",
       "      <td>Before Treatment&lt;br&gt;Car ID 0.0&lt;br&gt;# Cylinders:...</td>\n",
       "      <td>After Treatment&lt;br&gt;Car ID 0.0&lt;br&gt;# Cylinders: ...</td>\n",
       "    </tr>\n",
       "    <tr>\n",
       "      <th>1</th>\n",
       "      <td>Before Treatment&lt;br&gt;Car ID 1.0&lt;br&gt;# Cylinders:...</td>\n",
       "      <td>After Treatment&lt;br&gt;Car ID 1.0&lt;br&gt;# Cylinders: ...</td>\n",
       "    </tr>\n",
       "    <tr>\n",
       "      <th>2</th>\n",
       "      <td>Before Treatment&lt;br&gt;Car ID 2.0&lt;br&gt;# Cylinders:...</td>\n",
       "      <td>After Treatment&lt;br&gt;Car ID 2.0&lt;br&gt;# Cylinders: ...</td>\n",
       "    </tr>\n",
       "    <tr>\n",
       "      <th>3</th>\n",
       "      <td>Before Treatment&lt;br&gt;Car ID 3.0&lt;br&gt;# Cylinders:...</td>\n",
       "      <td>After Treatment&lt;br&gt;Car ID 3.0&lt;br&gt;# Cylinders: ...</td>\n",
       "    </tr>\n",
       "    <tr>\n",
       "      <th>4</th>\n",
       "      <td>Before Treatment&lt;br&gt;Car ID 4.0&lt;br&gt;# Cylinders:...</td>\n",
       "      <td>After Treatment&lt;br&gt;Car ID 4.0&lt;br&gt;# Cylinders: ...</td>\n",
       "    </tr>\n",
       "  </tbody>\n",
       "</table>\n",
       "</div>"
      ],
      "text/plain": [
       "                                                  hp  \\\n",
       "0  Before Treatment<br>Car ID 0.0<br># Cylinders:...   \n",
       "1  Before Treatment<br>Car ID 1.0<br># Cylinders:...   \n",
       "2  Before Treatment<br>Car ID 2.0<br># Cylinders:...   \n",
       "3  Before Treatment<br>Car ID 3.0<br># Cylinders:...   \n",
       "4  Before Treatment<br>Car ID 4.0<br># Cylinders:...   \n",
       "\n",
       "                                              hp_alt  \n",
       "0  After Treatment<br>Car ID 0.0<br># Cylinders: ...  \n",
       "1  After Treatment<br>Car ID 1.0<br># Cylinders: ...  \n",
       "2  After Treatment<br>Car ID 2.0<br># Cylinders: ...  \n",
       "3  After Treatment<br>Car ID 3.0<br># Cylinders: ...  \n",
       "4  After Treatment<br>Car ID 4.0<br># Cylinders: ...  "
      ]
     },
     "metadata": {},
     "output_type": "display_data"
    },
    {
     "name": "stdout",
     "output_type": "stream",
     "text": [
      "colors: \n"
     ]
    },
    {
     "data": {
      "text/html": [
       "<div>\n",
       "<style scoped>\n",
       "    .dataframe tbody tr th:only-of-type {\n",
       "        vertical-align: middle;\n",
       "    }\n",
       "\n",
       "    .dataframe tbody tr th {\n",
       "        vertical-align: top;\n",
       "    }\n",
       "\n",
       "    .dataframe thead th {\n",
       "        text-align: right;\n",
       "    }\n",
       "</style>\n",
       "<table border=\"1\" class=\"dataframe\">\n",
       "  <thead>\n",
       "    <tr style=\"text-align: right;\">\n",
       "      <th></th>\n",
       "      <th>hp</th>\n",
       "      <th>hp_alt</th>\n",
       "    </tr>\n",
       "  </thead>\n",
       "  <tbody>\n",
       "    <tr>\n",
       "      <th>0</th>\n",
       "      <td>#232C65</td>\n",
       "      <td>#2D2D2A</td>\n",
       "    </tr>\n",
       "    <tr>\n",
       "      <th>1</th>\n",
       "      <td>#232C65</td>\n",
       "      <td>#2D2D2A</td>\n",
       "    </tr>\n",
       "    <tr>\n",
       "      <th>2</th>\n",
       "      <td>#232C65</td>\n",
       "      <td>#2D2D2A</td>\n",
       "    </tr>\n",
       "    <tr>\n",
       "      <th>3</th>\n",
       "      <td>#232C65</td>\n",
       "      <td>#2D2D2A</td>\n",
       "    </tr>\n",
       "    <tr>\n",
       "      <th>4</th>\n",
       "      <td>#232C65</td>\n",
       "      <td>#2D2D2A</td>\n",
       "    </tr>\n",
       "  </tbody>\n",
       "</table>\n",
       "</div>"
      ],
      "text/plain": [
       "        hp   hp_alt\n",
       "0  #232C65  #2D2D2A\n",
       "1  #232C65  #2D2D2A\n",
       "2  #232C65  #2D2D2A\n",
       "3  #232C65  #2D2D2A\n",
       "4  #232C65  #2D2D2A"
      ]
     },
     "metadata": {},
     "output_type": "display_data"
    }
   ],
   "source": [
    "# create main data \n",
    "sl = df[['hp', 'mpg']].copy()\n",
    "x_data = sl[['hp']].copy()\n",
    "x_data_treat = x_data.copy()\n",
    "x_data_treat['hp'] = x_data['hp'] - (np.random.normal(loc=5, scale=2, size=len(x_data)))\n",
    "x_data_treat.columns = ['hp_alt']\n",
    "y_data = sl[['mpg']].copy()\n",
    "y_data_treat = y_data.copy()\n",
    "y_data_treat['mpg'] = y_data['mpg'] + (np.random.normal(loc=5, scale=2, size=len(x_data)))\n",
    "y_data_treat.columns = ['mpg_alt']\n",
    "\n",
    "print('x1 values:')\n",
    "display(x_data.head())\n",
    "\n",
    "print('x2 values:')\n",
    "display(x_data_treat.head())\n",
    "\n",
    "print('y1 values:')\n",
    "display(y_data.head())\n",
    "\n",
    "print('y2 values:')\n",
    "display(y_data_treat.head())\n",
    "\n",
    "# create names\n",
    "n = (df.reset_index()[['index', 'cyl', 'carb', 'gear', 'wt']].apply(\n",
    "      lambda x: 'Car ID %s<br># Cylinders: %s<br># Carbs: %s<br># Gears: %s<br>Weight: %s' % (x['index'], x['cyl'], x['carb'], x['gear'], x['wt']),\n",
    "      axis=1\n",
    "    )\n",
    "  ).copy()\n",
    "\n",
    "names = sl.copy()\n",
    "names['hp'] = 'Before Treatment<br>' + n\n",
    "del names['mpg']\n",
    "names['hp_alt'] = 'After Treatment<br>' + n\n",
    "\n",
    "print('names: ')\n",
    "display(names.head())\n",
    "\n",
    "# create colors \n",
    "colors = sl.copy()\n",
    "colors.loc[:, :] = '#232C65'\n",
    "del colors['mpg']\n",
    "colors['hp_alt'] = '#2D2D2A'\n",
    "\n",
    "print('colors: ')\n",
    "display(colors.head())"
   ]
  },
  {
   "cell_type": "code",
   "execution_count": 43,
   "metadata": {},
   "outputs": [
    {
     "data": {
      "text/html": [
       "<script>requirejs.config({paths: { 'plotly': ['https://cdn.plot.ly/plotly-latest.min']},});if(!window.Plotly) {{require(['plotly'],function(plotly) {window.Plotly=plotly;});}}</script>"
      ],
      "text/vnd.plotly.v1+html": [
       "<script>requirejs.config({paths: { 'plotly': ['https://cdn.plot.ly/plotly-latest.min']},});if(!window.Plotly) {{require(['plotly'],function(plotly) {window.Plotly=plotly;});}}</script>"
      ]
     },
     "metadata": {},
     "output_type": "display_data"
    },
    {
     "data": {
      "application/vnd.plotly.v1+json": {
       "data": [
        {
         "marker": {
          "color": [
           "#232C65",
           "#232C65",
           "#232C65",
           "#232C65",
           "#232C65",
           "#232C65",
           "#232C65",
           "#232C65",
           "#232C65",
           "#232C65",
           "#232C65",
           "#232C65",
           "#232C65",
           "#232C65",
           "#232C65",
           "#232C65",
           "#232C65",
           "#232C65",
           "#232C65",
           "#232C65",
           "#232C65",
           "#232C65",
           "#232C65",
           "#232C65",
           "#232C65",
           "#232C65",
           "#232C65",
           "#232C65",
           "#232C65",
           "#232C65",
           "#232C65",
           "#232C65"
          ]
         },
         "mode": "markers",
         "name": "hp",
         "text": [
          "Before Treatment<br>Car ID 0.0<br># Cylinders: 6.0<br># Carbs: 4.0<br># Gears: 4.0<br>Weight: 2.62",
          "Before Treatment<br>Car ID 1.0<br># Cylinders: 6.0<br># Carbs: 4.0<br># Gears: 4.0<br>Weight: 2.875",
          "Before Treatment<br>Car ID 2.0<br># Cylinders: 4.0<br># Carbs: 1.0<br># Gears: 4.0<br>Weight: 2.32",
          "Before Treatment<br>Car ID 3.0<br># Cylinders: 6.0<br># Carbs: 1.0<br># Gears: 3.0<br>Weight: 3.215",
          "Before Treatment<br>Car ID 4.0<br># Cylinders: 8.0<br># Carbs: 2.0<br># Gears: 3.0<br>Weight: 3.44",
          "Before Treatment<br>Car ID 5.0<br># Cylinders: 6.0<br># Carbs: 1.0<br># Gears: 3.0<br>Weight: 3.46",
          "Before Treatment<br>Car ID 6.0<br># Cylinders: 8.0<br># Carbs: 4.0<br># Gears: 3.0<br>Weight: 3.57",
          "Before Treatment<br>Car ID 7.0<br># Cylinders: 4.0<br># Carbs: 2.0<br># Gears: 4.0<br>Weight: 3.19",
          "Before Treatment<br>Car ID 8.0<br># Cylinders: 4.0<br># Carbs: 2.0<br># Gears: 4.0<br>Weight: 3.15",
          "Before Treatment<br>Car ID 9.0<br># Cylinders: 6.0<br># Carbs: 4.0<br># Gears: 4.0<br>Weight: 3.44",
          "Before Treatment<br>Car ID 10.0<br># Cylinders: 6.0<br># Carbs: 4.0<br># Gears: 4.0<br>Weight: 3.44",
          "Before Treatment<br>Car ID 11.0<br># Cylinders: 8.0<br># Carbs: 3.0<br># Gears: 3.0<br>Weight: 4.07",
          "Before Treatment<br>Car ID 12.0<br># Cylinders: 8.0<br># Carbs: 3.0<br># Gears: 3.0<br>Weight: 3.73",
          "Before Treatment<br>Car ID 13.0<br># Cylinders: 8.0<br># Carbs: 3.0<br># Gears: 3.0<br>Weight: 3.78",
          "Before Treatment<br>Car ID 14.0<br># Cylinders: 8.0<br># Carbs: 4.0<br># Gears: 3.0<br>Weight: 5.25",
          "Before Treatment<br>Car ID 15.0<br># Cylinders: 8.0<br># Carbs: 4.0<br># Gears: 3.0<br>Weight: 5.4239999999999995",
          "Before Treatment<br>Car ID 16.0<br># Cylinders: 8.0<br># Carbs: 4.0<br># Gears: 3.0<br>Weight: 5.345",
          "Before Treatment<br>Car ID 17.0<br># Cylinders: 4.0<br># Carbs: 1.0<br># Gears: 4.0<br>Weight: 2.2",
          "Before Treatment<br>Car ID 18.0<br># Cylinders: 4.0<br># Carbs: 2.0<br># Gears: 4.0<br>Weight: 1.615",
          "Before Treatment<br>Car ID 19.0<br># Cylinders: 4.0<br># Carbs: 1.0<br># Gears: 4.0<br>Weight: 1.835",
          "Before Treatment<br>Car ID 20.0<br># Cylinders: 4.0<br># Carbs: 1.0<br># Gears: 3.0<br>Weight: 2.465",
          "Before Treatment<br>Car ID 21.0<br># Cylinders: 8.0<br># Carbs: 2.0<br># Gears: 3.0<br>Weight: 3.52",
          "Before Treatment<br>Car ID 22.0<br># Cylinders: 8.0<br># Carbs: 2.0<br># Gears: 3.0<br>Weight: 3.435",
          "Before Treatment<br>Car ID 23.0<br># Cylinders: 8.0<br># Carbs: 4.0<br># Gears: 3.0<br>Weight: 3.84",
          "Before Treatment<br>Car ID 24.0<br># Cylinders: 8.0<br># Carbs: 2.0<br># Gears: 3.0<br>Weight: 3.845",
          "Before Treatment<br>Car ID 25.0<br># Cylinders: 4.0<br># Carbs: 1.0<br># Gears: 4.0<br>Weight: 1.935",
          "Before Treatment<br>Car ID 26.0<br># Cylinders: 4.0<br># Carbs: 2.0<br># Gears: 5.0<br>Weight: 2.14",
          "Before Treatment<br>Car ID 27.0<br># Cylinders: 4.0<br># Carbs: 2.0<br># Gears: 5.0<br>Weight: 1.5130000000000001",
          "Before Treatment<br>Car ID 28.0<br># Cylinders: 8.0<br># Carbs: 4.0<br># Gears: 5.0<br>Weight: 3.17",
          "Before Treatment<br>Car ID 29.0<br># Cylinders: 6.0<br># Carbs: 6.0<br># Gears: 5.0<br>Weight: 2.77",
          "Before Treatment<br>Car ID 30.0<br># Cylinders: 8.0<br># Carbs: 8.0<br># Gears: 5.0<br>Weight: 3.57",
          "Before Treatment<br>Car ID 31.0<br># Cylinders: 4.0<br># Carbs: 2.0<br># Gears: 4.0<br>Weight: 2.78"
         ],
         "type": "scatter",
         "uid": "b04b0300-ec0c-11e8-9602-a0481cac4f9d",
         "x": [
          110,
          110,
          93,
          110,
          175,
          105,
          245,
          62,
          95,
          123,
          123,
          180,
          180,
          180,
          205,
          215,
          230,
          66,
          52,
          65,
          97,
          150,
          150,
          245,
          175,
          66,
          91,
          113,
          264,
          175,
          335,
          109
         ],
         "y": [
          21,
          21,
          22.8,
          21.4,
          18.7,
          18.1,
          14.3,
          24.4,
          22.8,
          19.2,
          17.8,
          16.4,
          17.3,
          15.2,
          10.4,
          10.4,
          14.7,
          32.4,
          30.4,
          33.9,
          21.5,
          15.5,
          15.2,
          13.3,
          19.2,
          27.3,
          26,
          30.4,
          15.8,
          19.7,
          15,
          21.4
         ]
        },
        {
         "marker": {
          "color": [
           "#2D2D2A",
           "#2D2D2A",
           "#2D2D2A",
           "#2D2D2A",
           "#2D2D2A",
           "#2D2D2A",
           "#2D2D2A",
           "#2D2D2A",
           "#2D2D2A",
           "#2D2D2A",
           "#2D2D2A",
           "#2D2D2A",
           "#2D2D2A",
           "#2D2D2A",
           "#2D2D2A",
           "#2D2D2A",
           "#2D2D2A",
           "#2D2D2A",
           "#2D2D2A",
           "#2D2D2A",
           "#2D2D2A",
           "#2D2D2A",
           "#2D2D2A",
           "#2D2D2A",
           "#2D2D2A",
           "#2D2D2A",
           "#2D2D2A",
           "#2D2D2A",
           "#2D2D2A",
           "#2D2D2A",
           "#2D2D2A",
           "#2D2D2A"
          ]
         },
         "mode": "markers",
         "name": "hp_alt",
         "text": [
          "After Treatment<br>Car ID 0.0<br># Cylinders: 6.0<br># Carbs: 4.0<br># Gears: 4.0<br>Weight: 2.62",
          "After Treatment<br>Car ID 1.0<br># Cylinders: 6.0<br># Carbs: 4.0<br># Gears: 4.0<br>Weight: 2.875",
          "After Treatment<br>Car ID 2.0<br># Cylinders: 4.0<br># Carbs: 1.0<br># Gears: 4.0<br>Weight: 2.32",
          "After Treatment<br>Car ID 3.0<br># Cylinders: 6.0<br># Carbs: 1.0<br># Gears: 3.0<br>Weight: 3.215",
          "After Treatment<br>Car ID 4.0<br># Cylinders: 8.0<br># Carbs: 2.0<br># Gears: 3.0<br>Weight: 3.44",
          "After Treatment<br>Car ID 5.0<br># Cylinders: 6.0<br># Carbs: 1.0<br># Gears: 3.0<br>Weight: 3.46",
          "After Treatment<br>Car ID 6.0<br># Cylinders: 8.0<br># Carbs: 4.0<br># Gears: 3.0<br>Weight: 3.57",
          "After Treatment<br>Car ID 7.0<br># Cylinders: 4.0<br># Carbs: 2.0<br># Gears: 4.0<br>Weight: 3.19",
          "After Treatment<br>Car ID 8.0<br># Cylinders: 4.0<br># Carbs: 2.0<br># Gears: 4.0<br>Weight: 3.15",
          "After Treatment<br>Car ID 9.0<br># Cylinders: 6.0<br># Carbs: 4.0<br># Gears: 4.0<br>Weight: 3.44",
          "After Treatment<br>Car ID 10.0<br># Cylinders: 6.0<br># Carbs: 4.0<br># Gears: 4.0<br>Weight: 3.44",
          "After Treatment<br>Car ID 11.0<br># Cylinders: 8.0<br># Carbs: 3.0<br># Gears: 3.0<br>Weight: 4.07",
          "After Treatment<br>Car ID 12.0<br># Cylinders: 8.0<br># Carbs: 3.0<br># Gears: 3.0<br>Weight: 3.73",
          "After Treatment<br>Car ID 13.0<br># Cylinders: 8.0<br># Carbs: 3.0<br># Gears: 3.0<br>Weight: 3.78",
          "After Treatment<br>Car ID 14.0<br># Cylinders: 8.0<br># Carbs: 4.0<br># Gears: 3.0<br>Weight: 5.25",
          "After Treatment<br>Car ID 15.0<br># Cylinders: 8.0<br># Carbs: 4.0<br># Gears: 3.0<br>Weight: 5.4239999999999995",
          "After Treatment<br>Car ID 16.0<br># Cylinders: 8.0<br># Carbs: 4.0<br># Gears: 3.0<br>Weight: 5.345",
          "After Treatment<br>Car ID 17.0<br># Cylinders: 4.0<br># Carbs: 1.0<br># Gears: 4.0<br>Weight: 2.2",
          "After Treatment<br>Car ID 18.0<br># Cylinders: 4.0<br># Carbs: 2.0<br># Gears: 4.0<br>Weight: 1.615",
          "After Treatment<br>Car ID 19.0<br># Cylinders: 4.0<br># Carbs: 1.0<br># Gears: 4.0<br>Weight: 1.835",
          "After Treatment<br>Car ID 20.0<br># Cylinders: 4.0<br># Carbs: 1.0<br># Gears: 3.0<br>Weight: 2.465",
          "After Treatment<br>Car ID 21.0<br># Cylinders: 8.0<br># Carbs: 2.0<br># Gears: 3.0<br>Weight: 3.52",
          "After Treatment<br>Car ID 22.0<br># Cylinders: 8.0<br># Carbs: 2.0<br># Gears: 3.0<br>Weight: 3.435",
          "After Treatment<br>Car ID 23.0<br># Cylinders: 8.0<br># Carbs: 4.0<br># Gears: 3.0<br>Weight: 3.84",
          "After Treatment<br>Car ID 24.0<br># Cylinders: 8.0<br># Carbs: 2.0<br># Gears: 3.0<br>Weight: 3.845",
          "After Treatment<br>Car ID 25.0<br># Cylinders: 4.0<br># Carbs: 1.0<br># Gears: 4.0<br>Weight: 1.935",
          "After Treatment<br>Car ID 26.0<br># Cylinders: 4.0<br># Carbs: 2.0<br># Gears: 5.0<br>Weight: 2.14",
          "After Treatment<br>Car ID 27.0<br># Cylinders: 4.0<br># Carbs: 2.0<br># Gears: 5.0<br>Weight: 1.5130000000000001",
          "After Treatment<br>Car ID 28.0<br># Cylinders: 8.0<br># Carbs: 4.0<br># Gears: 5.0<br>Weight: 3.17",
          "After Treatment<br>Car ID 29.0<br># Cylinders: 6.0<br># Carbs: 6.0<br># Gears: 5.0<br>Weight: 2.77",
          "After Treatment<br>Car ID 30.0<br># Cylinders: 8.0<br># Carbs: 8.0<br># Gears: 5.0<br>Weight: 3.57",
          "After Treatment<br>Car ID 31.0<br># Cylinders: 4.0<br># Carbs: 2.0<br># Gears: 4.0<br>Weight: 2.78"
         ],
         "type": "scatter",
         "uid": "b04b0301-ec0c-11e8-9ed9-a0481cac4f9d",
         "x": [
          102.56375546610647,
          105.30746701862002,
          86.52428406398549,
          108.14366862934249,
          169.94314780217096,
          99.05964782969778,
          239.08301867096182,
          58.50309063976976,
          87.01356433525109,
          121.10843608267874,
          116.39318834845818,
          175.8315965720089,
          172.9576896824611,
          174.61112235411028,
          201.02084572493013,
          210.62947739538498,
          226.10334658429292,
          57.928413669597404,
          45.27894238888251,
          57.653186417965706,
          94.66151924429973,
          149.2686787874285,
          142.96722769741274,
          240.936050380206,
          168.1014030568628,
          60.989882973665544,
          87.81335764699905,
          109.61720159447395,
          259.57423671432775,
          170.33554998702405,
          328.0464915332398,
          105.9587082673069
         ],
         "y": [
          23.868267132033512,
          26.424615650987644,
          31.35320817602901,
          27.101602688914127,
          27.190758651848363,
          20.991369429528273,
          23.26804984192718,
          29.078312973760166,
          26.636499478988256,
          26.244771058354914,
          23.198187521284517,
          23.05461888193706,
          24.088360013598532,
          18.978509367716693,
          14.536625650614056,
          13.555627312211918,
          23.0718944822167,
          35.64461915321546,
          37.38683518610578,
          37.02663616192802,
          25.093927013853282,
          19.14474848748125,
          19.165357343712586,
          17.690491298823567,
          24.654378531578523,
          29.13202162255076,
          30.638802819690696,
          34.59991245057529,
          19.6945745307374,
          26.20880694782902,
          17.72079174971924,
          27.42571299601213
         ]
        }
       ],
       "layout": {
        "annotations": [
         {
          "showarrow": false,
          "text": "Fuel mileage upgrade works for most cars",
          "x": 275,
          "y": 40
         },
         {
          "ax": 100,
          "ay": -100,
          "showarrow": true,
          "text": "Car 6 before upgrade",
          "x": 245,
          "y": 14.3
         },
         {
          "ax": 50,
          "ay": -100,
          "showarrow": true,
          "text": "Car 6 after upgrade",
          "x": 239.08301867096182,
          "y": 23.26804984192718
         }
        ],
        "hovermode": "closest",
        "plot_bgcolor": "rgb(229, 229, 229)",
        "title": "<b>Fuel Mileage as a Function of Horsepower</b><br><i>for mtcars data</i>",
        "xaxis": {
         "gridcolor": "rgb(255,255,255)",
         "tickangle": 30,
         "title": "Horsepower",
         "zerolinecolor": "rgb(255,255,255)"
        },
        "yaxis": {
         "gridcolor": "rgb(255,255,255)",
         "title": "Fuel Mileage (mpg)",
         "zerolinecolor": "rgb(255,255,255)"
        }
       }
      },
      "text/html": [
       "<div id=\"0531dbf1-7a43-4aff-bb97-f0069b6488e6\" style=\"height: 525px; width: 100%;\" class=\"plotly-graph-div\"></div><script type=\"text/javascript\">require([\"plotly\"], function(Plotly) { window.PLOTLYENV=window.PLOTLYENV || {};window.PLOTLYENV.BASE_URL=\"https://plot.ly\";Plotly.newPlot(\"0531dbf1-7a43-4aff-bb97-f0069b6488e6\", [{\"marker\": {\"color\": [\"#232C65\", \"#232C65\", \"#232C65\", \"#232C65\", \"#232C65\", \"#232C65\", \"#232C65\", \"#232C65\", \"#232C65\", \"#232C65\", \"#232C65\", \"#232C65\", \"#232C65\", \"#232C65\", \"#232C65\", \"#232C65\", \"#232C65\", \"#232C65\", \"#232C65\", \"#232C65\", \"#232C65\", \"#232C65\", \"#232C65\", \"#232C65\", \"#232C65\", \"#232C65\", \"#232C65\", \"#232C65\", \"#232C65\", \"#232C65\", \"#232C65\", \"#232C65\"]}, \"mode\": \"markers\", \"name\": \"hp\", \"text\": [\"Before Treatment<br>Car ID 0.0<br># Cylinders: 6.0<br># Carbs: 4.0<br># Gears: 4.0<br>Weight: 2.62\", \"Before Treatment<br>Car ID 1.0<br># Cylinders: 6.0<br># Carbs: 4.0<br># Gears: 4.0<br>Weight: 2.875\", \"Before Treatment<br>Car ID 2.0<br># Cylinders: 4.0<br># Carbs: 1.0<br># Gears: 4.0<br>Weight: 2.32\", \"Before Treatment<br>Car ID 3.0<br># Cylinders: 6.0<br># Carbs: 1.0<br># Gears: 3.0<br>Weight: 3.215\", \"Before Treatment<br>Car ID 4.0<br># Cylinders: 8.0<br># Carbs: 2.0<br># Gears: 3.0<br>Weight: 3.44\", \"Before Treatment<br>Car ID 5.0<br># Cylinders: 6.0<br># Carbs: 1.0<br># Gears: 3.0<br>Weight: 3.46\", \"Before Treatment<br>Car ID 6.0<br># Cylinders: 8.0<br># Carbs: 4.0<br># Gears: 3.0<br>Weight: 3.57\", \"Before Treatment<br>Car ID 7.0<br># Cylinders: 4.0<br># Carbs: 2.0<br># Gears: 4.0<br>Weight: 3.19\", \"Before Treatment<br>Car ID 8.0<br># Cylinders: 4.0<br># Carbs: 2.0<br># Gears: 4.0<br>Weight: 3.15\", \"Before Treatment<br>Car ID 9.0<br># Cylinders: 6.0<br># Carbs: 4.0<br># Gears: 4.0<br>Weight: 3.44\", \"Before Treatment<br>Car ID 10.0<br># Cylinders: 6.0<br># Carbs: 4.0<br># Gears: 4.0<br>Weight: 3.44\", \"Before Treatment<br>Car ID 11.0<br># Cylinders: 8.0<br># Carbs: 3.0<br># Gears: 3.0<br>Weight: 4.07\", \"Before Treatment<br>Car ID 12.0<br># Cylinders: 8.0<br># Carbs: 3.0<br># Gears: 3.0<br>Weight: 3.73\", \"Before Treatment<br>Car ID 13.0<br># Cylinders: 8.0<br># Carbs: 3.0<br># Gears: 3.0<br>Weight: 3.78\", \"Before Treatment<br>Car ID 14.0<br># Cylinders: 8.0<br># Carbs: 4.0<br># Gears: 3.0<br>Weight: 5.25\", \"Before Treatment<br>Car ID 15.0<br># Cylinders: 8.0<br># Carbs: 4.0<br># Gears: 3.0<br>Weight: 5.4239999999999995\", \"Before Treatment<br>Car ID 16.0<br># Cylinders: 8.0<br># Carbs: 4.0<br># Gears: 3.0<br>Weight: 5.345\", \"Before Treatment<br>Car ID 17.0<br># Cylinders: 4.0<br># Carbs: 1.0<br># Gears: 4.0<br>Weight: 2.2\", \"Before Treatment<br>Car ID 18.0<br># Cylinders: 4.0<br># Carbs: 2.0<br># Gears: 4.0<br>Weight: 1.615\", \"Before Treatment<br>Car ID 19.0<br># Cylinders: 4.0<br># Carbs: 1.0<br># Gears: 4.0<br>Weight: 1.835\", \"Before Treatment<br>Car ID 20.0<br># Cylinders: 4.0<br># Carbs: 1.0<br># Gears: 3.0<br>Weight: 2.465\", \"Before Treatment<br>Car ID 21.0<br># Cylinders: 8.0<br># Carbs: 2.0<br># Gears: 3.0<br>Weight: 3.52\", \"Before Treatment<br>Car ID 22.0<br># Cylinders: 8.0<br># Carbs: 2.0<br># Gears: 3.0<br>Weight: 3.435\", \"Before Treatment<br>Car ID 23.0<br># Cylinders: 8.0<br># Carbs: 4.0<br># Gears: 3.0<br>Weight: 3.84\", \"Before Treatment<br>Car ID 24.0<br># Cylinders: 8.0<br># Carbs: 2.0<br># Gears: 3.0<br>Weight: 3.845\", \"Before Treatment<br>Car ID 25.0<br># Cylinders: 4.0<br># Carbs: 1.0<br># Gears: 4.0<br>Weight: 1.935\", \"Before Treatment<br>Car ID 26.0<br># Cylinders: 4.0<br># Carbs: 2.0<br># Gears: 5.0<br>Weight: 2.14\", \"Before Treatment<br>Car ID 27.0<br># Cylinders: 4.0<br># Carbs: 2.0<br># Gears: 5.0<br>Weight: 1.5130000000000001\", \"Before Treatment<br>Car ID 28.0<br># Cylinders: 8.0<br># Carbs: 4.0<br># Gears: 5.0<br>Weight: 3.17\", \"Before Treatment<br>Car ID 29.0<br># Cylinders: 6.0<br># Carbs: 6.0<br># Gears: 5.0<br>Weight: 2.77\", \"Before Treatment<br>Car ID 30.0<br># Cylinders: 8.0<br># Carbs: 8.0<br># Gears: 5.0<br>Weight: 3.57\", \"Before Treatment<br>Car ID 31.0<br># Cylinders: 4.0<br># Carbs: 2.0<br># Gears: 4.0<br>Weight: 2.78\"], \"x\": [110, 110, 93, 110, 175, 105, 245, 62, 95, 123, 123, 180, 180, 180, 205, 215, 230, 66, 52, 65, 97, 150, 150, 245, 175, 66, 91, 113, 264, 175, 335, 109], \"y\": [21.0, 21.0, 22.8, 21.4, 18.7, 18.1, 14.3, 24.4, 22.8, 19.2, 17.8, 16.4, 17.3, 15.2, 10.4, 10.4, 14.7, 32.4, 30.4, 33.9, 21.5, 15.5, 15.2, 13.3, 19.2, 27.3, 26.0, 30.4, 15.8, 19.7, 15.0, 21.4], \"type\": \"scatter\", \"uid\": \"b04b0300-ec0c-11e8-9602-a0481cac4f9d\"}, {\"marker\": {\"color\": [\"#2D2D2A\", \"#2D2D2A\", \"#2D2D2A\", \"#2D2D2A\", \"#2D2D2A\", \"#2D2D2A\", \"#2D2D2A\", \"#2D2D2A\", \"#2D2D2A\", \"#2D2D2A\", \"#2D2D2A\", \"#2D2D2A\", \"#2D2D2A\", \"#2D2D2A\", \"#2D2D2A\", \"#2D2D2A\", \"#2D2D2A\", \"#2D2D2A\", \"#2D2D2A\", \"#2D2D2A\", \"#2D2D2A\", \"#2D2D2A\", \"#2D2D2A\", \"#2D2D2A\", \"#2D2D2A\", \"#2D2D2A\", \"#2D2D2A\", \"#2D2D2A\", \"#2D2D2A\", \"#2D2D2A\", \"#2D2D2A\", \"#2D2D2A\"]}, \"mode\": \"markers\", \"name\": \"hp_alt\", \"text\": [\"After Treatment<br>Car ID 0.0<br># Cylinders: 6.0<br># Carbs: 4.0<br># Gears: 4.0<br>Weight: 2.62\", \"After Treatment<br>Car ID 1.0<br># Cylinders: 6.0<br># Carbs: 4.0<br># Gears: 4.0<br>Weight: 2.875\", \"After Treatment<br>Car ID 2.0<br># Cylinders: 4.0<br># Carbs: 1.0<br># Gears: 4.0<br>Weight: 2.32\", \"After Treatment<br>Car ID 3.0<br># Cylinders: 6.0<br># Carbs: 1.0<br># Gears: 3.0<br>Weight: 3.215\", \"After Treatment<br>Car ID 4.0<br># Cylinders: 8.0<br># Carbs: 2.0<br># Gears: 3.0<br>Weight: 3.44\", \"After Treatment<br>Car ID 5.0<br># Cylinders: 6.0<br># Carbs: 1.0<br># Gears: 3.0<br>Weight: 3.46\", \"After Treatment<br>Car ID 6.0<br># Cylinders: 8.0<br># Carbs: 4.0<br># Gears: 3.0<br>Weight: 3.57\", \"After Treatment<br>Car ID 7.0<br># Cylinders: 4.0<br># Carbs: 2.0<br># Gears: 4.0<br>Weight: 3.19\", \"After Treatment<br>Car ID 8.0<br># Cylinders: 4.0<br># Carbs: 2.0<br># Gears: 4.0<br>Weight: 3.15\", \"After Treatment<br>Car ID 9.0<br># Cylinders: 6.0<br># Carbs: 4.0<br># Gears: 4.0<br>Weight: 3.44\", \"After Treatment<br>Car ID 10.0<br># Cylinders: 6.0<br># Carbs: 4.0<br># Gears: 4.0<br>Weight: 3.44\", \"After Treatment<br>Car ID 11.0<br># Cylinders: 8.0<br># Carbs: 3.0<br># Gears: 3.0<br>Weight: 4.07\", \"After Treatment<br>Car ID 12.0<br># Cylinders: 8.0<br># Carbs: 3.0<br># Gears: 3.0<br>Weight: 3.73\", \"After Treatment<br>Car ID 13.0<br># Cylinders: 8.0<br># Carbs: 3.0<br># Gears: 3.0<br>Weight: 3.78\", \"After Treatment<br>Car ID 14.0<br># Cylinders: 8.0<br># Carbs: 4.0<br># Gears: 3.0<br>Weight: 5.25\", \"After Treatment<br>Car ID 15.0<br># Cylinders: 8.0<br># Carbs: 4.0<br># Gears: 3.0<br>Weight: 5.4239999999999995\", \"After Treatment<br>Car ID 16.0<br># Cylinders: 8.0<br># Carbs: 4.0<br># Gears: 3.0<br>Weight: 5.345\", \"After Treatment<br>Car ID 17.0<br># Cylinders: 4.0<br># Carbs: 1.0<br># Gears: 4.0<br>Weight: 2.2\", \"After Treatment<br>Car ID 18.0<br># Cylinders: 4.0<br># Carbs: 2.0<br># Gears: 4.0<br>Weight: 1.615\", \"After Treatment<br>Car ID 19.0<br># Cylinders: 4.0<br># Carbs: 1.0<br># Gears: 4.0<br>Weight: 1.835\", \"After Treatment<br>Car ID 20.0<br># Cylinders: 4.0<br># Carbs: 1.0<br># Gears: 3.0<br>Weight: 2.465\", \"After Treatment<br>Car ID 21.0<br># Cylinders: 8.0<br># Carbs: 2.0<br># Gears: 3.0<br>Weight: 3.52\", \"After Treatment<br>Car ID 22.0<br># Cylinders: 8.0<br># Carbs: 2.0<br># Gears: 3.0<br>Weight: 3.435\", \"After Treatment<br>Car ID 23.0<br># Cylinders: 8.0<br># Carbs: 4.0<br># Gears: 3.0<br>Weight: 3.84\", \"After Treatment<br>Car ID 24.0<br># Cylinders: 8.0<br># Carbs: 2.0<br># Gears: 3.0<br>Weight: 3.845\", \"After Treatment<br>Car ID 25.0<br># Cylinders: 4.0<br># Carbs: 1.0<br># Gears: 4.0<br>Weight: 1.935\", \"After Treatment<br>Car ID 26.0<br># Cylinders: 4.0<br># Carbs: 2.0<br># Gears: 5.0<br>Weight: 2.14\", \"After Treatment<br>Car ID 27.0<br># Cylinders: 4.0<br># Carbs: 2.0<br># Gears: 5.0<br>Weight: 1.5130000000000001\", \"After Treatment<br>Car ID 28.0<br># Cylinders: 8.0<br># Carbs: 4.0<br># Gears: 5.0<br>Weight: 3.17\", \"After Treatment<br>Car ID 29.0<br># Cylinders: 6.0<br># Carbs: 6.0<br># Gears: 5.0<br>Weight: 2.77\", \"After Treatment<br>Car ID 30.0<br># Cylinders: 8.0<br># Carbs: 8.0<br># Gears: 5.0<br>Weight: 3.57\", \"After Treatment<br>Car ID 31.0<br># Cylinders: 4.0<br># Carbs: 2.0<br># Gears: 4.0<br>Weight: 2.78\"], \"x\": [102.56375546610647, 105.30746701862002, 86.52428406398549, 108.14366862934249, 169.94314780217096, 99.05964782969778, 239.08301867096182, 58.50309063976976, 87.01356433525109, 121.10843608267874, 116.39318834845818, 175.8315965720089, 172.9576896824611, 174.61112235411028, 201.02084572493013, 210.62947739538498, 226.10334658429292, 57.928413669597404, 45.27894238888251, 57.653186417965706, 94.66151924429973, 149.2686787874285, 142.96722769741274, 240.936050380206, 168.1014030568628, 60.989882973665544, 87.81335764699905, 109.61720159447395, 259.57423671432775, 170.33554998702405, 328.0464915332398, 105.9587082673069], \"y\": [23.868267132033512, 26.424615650987644, 31.35320817602901, 27.101602688914127, 27.190758651848363, 20.991369429528273, 23.26804984192718, 29.078312973760166, 26.636499478988256, 26.244771058354914, 23.198187521284517, 23.05461888193706, 24.088360013598532, 18.978509367716693, 14.536625650614056, 13.555627312211918, 23.0718944822167, 35.64461915321546, 37.38683518610578, 37.02663616192802, 25.093927013853282, 19.14474848748125, 19.165357343712586, 17.690491298823567, 24.654378531578523, 29.13202162255076, 30.638802819690696, 34.59991245057529, 19.6945745307374, 26.20880694782902, 17.72079174971924, 27.42571299601213], \"type\": \"scatter\", \"uid\": \"b04b0301-ec0c-11e8-9ed9-a0481cac4f9d\"}], {\"annotations\": [{\"showarrow\": false, \"text\": \"Fuel mileage upgrade works for most cars\", \"x\": 275, \"y\": 40}, {\"ax\": 100, \"ay\": -100, \"showarrow\": true, \"text\": \"Car 6 before upgrade\", \"x\": 245, \"y\": 14.3}, {\"ax\": 50, \"ay\": -100, \"showarrow\": true, \"text\": \"Car 6 after upgrade\", \"x\": 239.08301867096182, \"y\": 23.26804984192718}], \"hovermode\": \"closest\", \"plot_bgcolor\": \"rgb(229, 229, 229)\", \"title\": \"<b>Fuel Mileage as a Function of Horsepower</b><br><i>for mtcars data</i>\", \"xaxis\": {\"gridcolor\": \"rgb(255,255,255)\", \"tickangle\": 30, \"title\": \"Horsepower\", \"zerolinecolor\": \"rgb(255,255,255)\"}, \"yaxis\": {\"gridcolor\": \"rgb(255,255,255)\", \"title\": \"Fuel Mileage (mpg)\", \"zerolinecolor\": \"rgb(255,255,255)\"}}, {\"showLink\": true, \"linkText\": \"Export to plot.ly\"})});</script>"
      ],
      "text/vnd.plotly.v1+html": [
       "<div id=\"0531dbf1-7a43-4aff-bb97-f0069b6488e6\" style=\"height: 525px; width: 100%;\" class=\"plotly-graph-div\"></div><script type=\"text/javascript\">require([\"plotly\"], function(Plotly) { window.PLOTLYENV=window.PLOTLYENV || {};window.PLOTLYENV.BASE_URL=\"https://plot.ly\";Plotly.newPlot(\"0531dbf1-7a43-4aff-bb97-f0069b6488e6\", [{\"marker\": {\"color\": [\"#232C65\", \"#232C65\", \"#232C65\", \"#232C65\", \"#232C65\", \"#232C65\", \"#232C65\", \"#232C65\", \"#232C65\", \"#232C65\", \"#232C65\", \"#232C65\", \"#232C65\", \"#232C65\", \"#232C65\", \"#232C65\", \"#232C65\", \"#232C65\", \"#232C65\", \"#232C65\", \"#232C65\", \"#232C65\", \"#232C65\", \"#232C65\", \"#232C65\", \"#232C65\", \"#232C65\", \"#232C65\", \"#232C65\", \"#232C65\", \"#232C65\", \"#232C65\"]}, \"mode\": \"markers\", \"name\": \"hp\", \"text\": [\"Before Treatment<br>Car ID 0.0<br># Cylinders: 6.0<br># Carbs: 4.0<br># Gears: 4.0<br>Weight: 2.62\", \"Before Treatment<br>Car ID 1.0<br># Cylinders: 6.0<br># Carbs: 4.0<br># Gears: 4.0<br>Weight: 2.875\", \"Before Treatment<br>Car ID 2.0<br># Cylinders: 4.0<br># Carbs: 1.0<br># Gears: 4.0<br>Weight: 2.32\", \"Before Treatment<br>Car ID 3.0<br># Cylinders: 6.0<br># Carbs: 1.0<br># Gears: 3.0<br>Weight: 3.215\", \"Before Treatment<br>Car ID 4.0<br># Cylinders: 8.0<br># Carbs: 2.0<br># Gears: 3.0<br>Weight: 3.44\", \"Before Treatment<br>Car ID 5.0<br># Cylinders: 6.0<br># Carbs: 1.0<br># Gears: 3.0<br>Weight: 3.46\", \"Before Treatment<br>Car ID 6.0<br># Cylinders: 8.0<br># Carbs: 4.0<br># Gears: 3.0<br>Weight: 3.57\", \"Before Treatment<br>Car ID 7.0<br># Cylinders: 4.0<br># Carbs: 2.0<br># Gears: 4.0<br>Weight: 3.19\", \"Before Treatment<br>Car ID 8.0<br># Cylinders: 4.0<br># Carbs: 2.0<br># Gears: 4.0<br>Weight: 3.15\", \"Before Treatment<br>Car ID 9.0<br># Cylinders: 6.0<br># Carbs: 4.0<br># Gears: 4.0<br>Weight: 3.44\", \"Before Treatment<br>Car ID 10.0<br># Cylinders: 6.0<br># Carbs: 4.0<br># Gears: 4.0<br>Weight: 3.44\", \"Before Treatment<br>Car ID 11.0<br># Cylinders: 8.0<br># Carbs: 3.0<br># Gears: 3.0<br>Weight: 4.07\", \"Before Treatment<br>Car ID 12.0<br># Cylinders: 8.0<br># Carbs: 3.0<br># Gears: 3.0<br>Weight: 3.73\", \"Before Treatment<br>Car ID 13.0<br># Cylinders: 8.0<br># Carbs: 3.0<br># Gears: 3.0<br>Weight: 3.78\", \"Before Treatment<br>Car ID 14.0<br># Cylinders: 8.0<br># Carbs: 4.0<br># Gears: 3.0<br>Weight: 5.25\", \"Before Treatment<br>Car ID 15.0<br># Cylinders: 8.0<br># Carbs: 4.0<br># Gears: 3.0<br>Weight: 5.4239999999999995\", \"Before Treatment<br>Car ID 16.0<br># Cylinders: 8.0<br># Carbs: 4.0<br># Gears: 3.0<br>Weight: 5.345\", \"Before Treatment<br>Car ID 17.0<br># Cylinders: 4.0<br># Carbs: 1.0<br># Gears: 4.0<br>Weight: 2.2\", \"Before Treatment<br>Car ID 18.0<br># Cylinders: 4.0<br># Carbs: 2.0<br># Gears: 4.0<br>Weight: 1.615\", \"Before Treatment<br>Car ID 19.0<br># Cylinders: 4.0<br># Carbs: 1.0<br># Gears: 4.0<br>Weight: 1.835\", \"Before Treatment<br>Car ID 20.0<br># Cylinders: 4.0<br># Carbs: 1.0<br># Gears: 3.0<br>Weight: 2.465\", \"Before Treatment<br>Car ID 21.0<br># Cylinders: 8.0<br># Carbs: 2.0<br># Gears: 3.0<br>Weight: 3.52\", \"Before Treatment<br>Car ID 22.0<br># Cylinders: 8.0<br># Carbs: 2.0<br># Gears: 3.0<br>Weight: 3.435\", \"Before Treatment<br>Car ID 23.0<br># Cylinders: 8.0<br># Carbs: 4.0<br># Gears: 3.0<br>Weight: 3.84\", \"Before Treatment<br>Car ID 24.0<br># Cylinders: 8.0<br># Carbs: 2.0<br># Gears: 3.0<br>Weight: 3.845\", \"Before Treatment<br>Car ID 25.0<br># Cylinders: 4.0<br># Carbs: 1.0<br># Gears: 4.0<br>Weight: 1.935\", \"Before Treatment<br>Car ID 26.0<br># Cylinders: 4.0<br># Carbs: 2.0<br># Gears: 5.0<br>Weight: 2.14\", \"Before Treatment<br>Car ID 27.0<br># Cylinders: 4.0<br># Carbs: 2.0<br># Gears: 5.0<br>Weight: 1.5130000000000001\", \"Before Treatment<br>Car ID 28.0<br># Cylinders: 8.0<br># Carbs: 4.0<br># Gears: 5.0<br>Weight: 3.17\", \"Before Treatment<br>Car ID 29.0<br># Cylinders: 6.0<br># Carbs: 6.0<br># Gears: 5.0<br>Weight: 2.77\", \"Before Treatment<br>Car ID 30.0<br># Cylinders: 8.0<br># Carbs: 8.0<br># Gears: 5.0<br>Weight: 3.57\", \"Before Treatment<br>Car ID 31.0<br># Cylinders: 4.0<br># Carbs: 2.0<br># Gears: 4.0<br>Weight: 2.78\"], \"x\": [110, 110, 93, 110, 175, 105, 245, 62, 95, 123, 123, 180, 180, 180, 205, 215, 230, 66, 52, 65, 97, 150, 150, 245, 175, 66, 91, 113, 264, 175, 335, 109], \"y\": [21.0, 21.0, 22.8, 21.4, 18.7, 18.1, 14.3, 24.4, 22.8, 19.2, 17.8, 16.4, 17.3, 15.2, 10.4, 10.4, 14.7, 32.4, 30.4, 33.9, 21.5, 15.5, 15.2, 13.3, 19.2, 27.3, 26.0, 30.4, 15.8, 19.7, 15.0, 21.4], \"type\": \"scatter\", \"uid\": \"b04b0300-ec0c-11e8-9602-a0481cac4f9d\"}, {\"marker\": {\"color\": [\"#2D2D2A\", \"#2D2D2A\", \"#2D2D2A\", \"#2D2D2A\", \"#2D2D2A\", \"#2D2D2A\", \"#2D2D2A\", \"#2D2D2A\", \"#2D2D2A\", \"#2D2D2A\", \"#2D2D2A\", \"#2D2D2A\", \"#2D2D2A\", \"#2D2D2A\", \"#2D2D2A\", \"#2D2D2A\", \"#2D2D2A\", \"#2D2D2A\", \"#2D2D2A\", \"#2D2D2A\", \"#2D2D2A\", \"#2D2D2A\", \"#2D2D2A\", \"#2D2D2A\", \"#2D2D2A\", \"#2D2D2A\", \"#2D2D2A\", \"#2D2D2A\", \"#2D2D2A\", \"#2D2D2A\", \"#2D2D2A\", \"#2D2D2A\"]}, \"mode\": \"markers\", \"name\": \"hp_alt\", \"text\": [\"After Treatment<br>Car ID 0.0<br># Cylinders: 6.0<br># Carbs: 4.0<br># Gears: 4.0<br>Weight: 2.62\", \"After Treatment<br>Car ID 1.0<br># Cylinders: 6.0<br># Carbs: 4.0<br># Gears: 4.0<br>Weight: 2.875\", \"After Treatment<br>Car ID 2.0<br># Cylinders: 4.0<br># Carbs: 1.0<br># Gears: 4.0<br>Weight: 2.32\", \"After Treatment<br>Car ID 3.0<br># Cylinders: 6.0<br># Carbs: 1.0<br># Gears: 3.0<br>Weight: 3.215\", \"After Treatment<br>Car ID 4.0<br># Cylinders: 8.0<br># Carbs: 2.0<br># Gears: 3.0<br>Weight: 3.44\", \"After Treatment<br>Car ID 5.0<br># Cylinders: 6.0<br># Carbs: 1.0<br># Gears: 3.0<br>Weight: 3.46\", \"After Treatment<br>Car ID 6.0<br># Cylinders: 8.0<br># Carbs: 4.0<br># Gears: 3.0<br>Weight: 3.57\", \"After Treatment<br>Car ID 7.0<br># Cylinders: 4.0<br># Carbs: 2.0<br># Gears: 4.0<br>Weight: 3.19\", \"After Treatment<br>Car ID 8.0<br># Cylinders: 4.0<br># Carbs: 2.0<br># Gears: 4.0<br>Weight: 3.15\", \"After Treatment<br>Car ID 9.0<br># Cylinders: 6.0<br># Carbs: 4.0<br># Gears: 4.0<br>Weight: 3.44\", \"After Treatment<br>Car ID 10.0<br># Cylinders: 6.0<br># Carbs: 4.0<br># Gears: 4.0<br>Weight: 3.44\", \"After Treatment<br>Car ID 11.0<br># Cylinders: 8.0<br># Carbs: 3.0<br># Gears: 3.0<br>Weight: 4.07\", \"After Treatment<br>Car ID 12.0<br># Cylinders: 8.0<br># Carbs: 3.0<br># Gears: 3.0<br>Weight: 3.73\", \"After Treatment<br>Car ID 13.0<br># Cylinders: 8.0<br># Carbs: 3.0<br># Gears: 3.0<br>Weight: 3.78\", \"After Treatment<br>Car ID 14.0<br># Cylinders: 8.0<br># Carbs: 4.0<br># Gears: 3.0<br>Weight: 5.25\", \"After Treatment<br>Car ID 15.0<br># Cylinders: 8.0<br># Carbs: 4.0<br># Gears: 3.0<br>Weight: 5.4239999999999995\", \"After Treatment<br>Car ID 16.0<br># Cylinders: 8.0<br># Carbs: 4.0<br># Gears: 3.0<br>Weight: 5.345\", \"After Treatment<br>Car ID 17.0<br># Cylinders: 4.0<br># Carbs: 1.0<br># Gears: 4.0<br>Weight: 2.2\", \"After Treatment<br>Car ID 18.0<br># Cylinders: 4.0<br># Carbs: 2.0<br># Gears: 4.0<br>Weight: 1.615\", \"After Treatment<br>Car ID 19.0<br># Cylinders: 4.0<br># Carbs: 1.0<br># Gears: 4.0<br>Weight: 1.835\", \"After Treatment<br>Car ID 20.0<br># Cylinders: 4.0<br># Carbs: 1.0<br># Gears: 3.0<br>Weight: 2.465\", \"After Treatment<br>Car ID 21.0<br># Cylinders: 8.0<br># Carbs: 2.0<br># Gears: 3.0<br>Weight: 3.52\", \"After Treatment<br>Car ID 22.0<br># Cylinders: 8.0<br># Carbs: 2.0<br># Gears: 3.0<br>Weight: 3.435\", \"After Treatment<br>Car ID 23.0<br># Cylinders: 8.0<br># Carbs: 4.0<br># Gears: 3.0<br>Weight: 3.84\", \"After Treatment<br>Car ID 24.0<br># Cylinders: 8.0<br># Carbs: 2.0<br># Gears: 3.0<br>Weight: 3.845\", \"After Treatment<br>Car ID 25.0<br># Cylinders: 4.0<br># Carbs: 1.0<br># Gears: 4.0<br>Weight: 1.935\", \"After Treatment<br>Car ID 26.0<br># Cylinders: 4.0<br># Carbs: 2.0<br># Gears: 5.0<br>Weight: 2.14\", \"After Treatment<br>Car ID 27.0<br># Cylinders: 4.0<br># Carbs: 2.0<br># Gears: 5.0<br>Weight: 1.5130000000000001\", \"After Treatment<br>Car ID 28.0<br># Cylinders: 8.0<br># Carbs: 4.0<br># Gears: 5.0<br>Weight: 3.17\", \"After Treatment<br>Car ID 29.0<br># Cylinders: 6.0<br># Carbs: 6.0<br># Gears: 5.0<br>Weight: 2.77\", \"After Treatment<br>Car ID 30.0<br># Cylinders: 8.0<br># Carbs: 8.0<br># Gears: 5.0<br>Weight: 3.57\", \"After Treatment<br>Car ID 31.0<br># Cylinders: 4.0<br># Carbs: 2.0<br># Gears: 4.0<br>Weight: 2.78\"], \"x\": [102.56375546610647, 105.30746701862002, 86.52428406398549, 108.14366862934249, 169.94314780217096, 99.05964782969778, 239.08301867096182, 58.50309063976976, 87.01356433525109, 121.10843608267874, 116.39318834845818, 175.8315965720089, 172.9576896824611, 174.61112235411028, 201.02084572493013, 210.62947739538498, 226.10334658429292, 57.928413669597404, 45.27894238888251, 57.653186417965706, 94.66151924429973, 149.2686787874285, 142.96722769741274, 240.936050380206, 168.1014030568628, 60.989882973665544, 87.81335764699905, 109.61720159447395, 259.57423671432775, 170.33554998702405, 328.0464915332398, 105.9587082673069], \"y\": [23.868267132033512, 26.424615650987644, 31.35320817602901, 27.101602688914127, 27.190758651848363, 20.991369429528273, 23.26804984192718, 29.078312973760166, 26.636499478988256, 26.244771058354914, 23.198187521284517, 23.05461888193706, 24.088360013598532, 18.978509367716693, 14.536625650614056, 13.555627312211918, 23.0718944822167, 35.64461915321546, 37.38683518610578, 37.02663616192802, 25.093927013853282, 19.14474848748125, 19.165357343712586, 17.690491298823567, 24.654378531578523, 29.13202162255076, 30.638802819690696, 34.59991245057529, 19.6945745307374, 26.20880694782902, 17.72079174971924, 27.42571299601213], \"type\": \"scatter\", \"uid\": \"b04b0301-ec0c-11e8-9ed9-a0481cac4f9d\"}], {\"annotations\": [{\"showarrow\": false, \"text\": \"Fuel mileage upgrade works for most cars\", \"x\": 275, \"y\": 40}, {\"ax\": 100, \"ay\": -100, \"showarrow\": true, \"text\": \"Car 6 before upgrade\", \"x\": 245, \"y\": 14.3}, {\"ax\": 50, \"ay\": -100, \"showarrow\": true, \"text\": \"Car 6 after upgrade\", \"x\": 239.08301867096182, \"y\": 23.26804984192718}], \"hovermode\": \"closest\", \"plot_bgcolor\": \"rgb(229, 229, 229)\", \"title\": \"<b>Fuel Mileage as a Function of Horsepower</b><br><i>for mtcars data</i>\", \"xaxis\": {\"gridcolor\": \"rgb(255,255,255)\", \"tickangle\": 30, \"title\": \"Horsepower\", \"zerolinecolor\": \"rgb(255,255,255)\"}, \"yaxis\": {\"gridcolor\": \"rgb(255,255,255)\", \"title\": \"Fuel Mileage (mpg)\", \"zerolinecolor\": \"rgb(255,255,255)\"}}, {\"showLink\": true, \"linkText\": \"Export to plot.ly\"})});</script>"
      ]
     },
     "metadata": {},
     "output_type": "display_data"
    }
   ],
   "source": [
    "# set up callout text \n",
    "sl = y_data.join(y_data_treat)\n",
    "sl['diff'] = sl.mpg_alt - sl.mpg\n",
    "cid = (sl[(sl.mpg < sl.mpg_alt)]\n",
    "         .sort_values(by=['diff'], ascending=False).index[0])\n",
    "\n",
    "x1_loc = x_data.iloc[cid].values[0]\n",
    "x2_loc = x_data_treat.iloc[cid].values[0]\n",
    "\n",
    "y1_loc = y_data.iloc[cid].values[0]\n",
    "y2_loc = y_data_treat.iloc[cid].values[0]\n",
    "\n",
    "c1 = {'text':'Car %s before upgrade' % cid, 'x':x1_loc, 'y':y1_loc, \n",
    "      'showarrow':True, 'ax':100, 'ay':-100}\n",
    "\n",
    "c2 = {'text':'Car %s after upgrade' % cid, 'x':x2_loc, 'y':y2_loc, \n",
    "      'showarrow':True, 'ax':50, 'ay':-100}\n",
    "\n",
    "# build graph args \n",
    "args['x_data'] = [x_data, x_data_treat]\n",
    "args['y_data'] = [y_data, y_data_treat]\n",
    "args['names'] = names\n",
    "args['colors'] = colors\n",
    "args['title'] = '<b>Fuel Mileage as a Function of Horsepower</b><br><i>for mtcars data</i>'\n",
    "args['xlab'] = 'Horsepower'\n",
    "args['ylab'] = 'Fuel Mileage (mpg)'\n",
    "text = 'Fuel mileage upgrade works for most cars'\n",
    "args['annotations'] = [{'text':text, 'x':275, 'y':40, 'showarrow':False}, \n",
    "                       c1, c2]\n",
    "\n",
    "# display plot\n",
    "fig = scatterplot.create_graph(**args)"
   ]
  },
  {
   "cell_type": "code",
   "execution_count": 44,
   "metadata": {},
   "outputs": [],
   "source": [
    "# write graph to html file \n",
    "fp = 'scatterplot-example.html'\n",
    "barplot.output_graph(fp, fig)"
   ]
  }
 ],
 "metadata": {
  "kernelspec": {
   "display_name": "Python 3",
   "language": "python",
   "name": "python3"
  },
  "language_info": {
   "codemirror_mode": {
    "name": "ipython",
    "version": 3
   },
   "file_extension": ".py",
   "mimetype": "text/x-python",
   "name": "python",
   "nbconvert_exporter": "python",
   "pygments_lexer": "ipython3",
   "version": "3.6.6"
  },
  "toc": {
   "base_numbering": 1,
   "nav_menu": {},
   "number_sections": true,
   "sideBar": true,
   "skip_h1_title": false,
   "title_cell": "Table of Contents",
   "title_sidebar": "Contents",
   "toc_cell": false,
   "toc_position": {},
   "toc_section_display": true,
   "toc_window_display": false
  }
 },
 "nbformat": 4,
 "nbformat_minor": 2
}
