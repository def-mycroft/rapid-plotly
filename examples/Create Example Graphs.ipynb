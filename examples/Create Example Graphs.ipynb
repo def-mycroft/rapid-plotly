{
 "cells": [
  {
   "cell_type": "code",
   "execution_count": 46,
   "metadata": {},
   "outputs": [],
   "source": [
    "import pandas as pd\n",
    "import numpy as np\n",
    "import string"
   ]
  },
  {
   "cell_type": "markdown",
   "metadata": {},
   "source": [
    "# Load Data"
   ]
  },
  {
   "cell_type": "code",
   "execution_count": 47,
   "metadata": {},
   "outputs": [
    {
     "name": "stdout",
     "output_type": "stream",
     "text": [
      "(32, 11)\n"
     ]
    },
    {
     "data": {
      "text/html": [
       "<div>\n",
       "<style scoped>\n",
       "    .dataframe tbody tr th:only-of-type {\n",
       "        vertical-align: middle;\n",
       "    }\n",
       "\n",
       "    .dataframe tbody tr th {\n",
       "        vertical-align: top;\n",
       "    }\n",
       "\n",
       "    .dataframe thead th {\n",
       "        text-align: right;\n",
       "    }\n",
       "</style>\n",
       "<table border=\"1\" class=\"dataframe\">\n",
       "  <thead>\n",
       "    <tr style=\"text-align: right;\">\n",
       "      <th></th>\n",
       "      <th>mpg</th>\n",
       "      <th>cyl</th>\n",
       "      <th>disp</th>\n",
       "      <th>hp</th>\n",
       "      <th>drat</th>\n",
       "      <th>wt</th>\n",
       "      <th>qsec</th>\n",
       "      <th>vs</th>\n",
       "      <th>am</th>\n",
       "      <th>gear</th>\n",
       "      <th>carb</th>\n",
       "    </tr>\n",
       "  </thead>\n",
       "  <tbody>\n",
       "    <tr>\n",
       "      <th>0</th>\n",
       "      <td>21.0</td>\n",
       "      <td>6</td>\n",
       "      <td>160.0</td>\n",
       "      <td>110</td>\n",
       "      <td>3.90</td>\n",
       "      <td>2.620</td>\n",
       "      <td>16.46</td>\n",
       "      <td>0</td>\n",
       "      <td>1</td>\n",
       "      <td>4</td>\n",
       "      <td>4</td>\n",
       "    </tr>\n",
       "    <tr>\n",
       "      <th>1</th>\n",
       "      <td>21.0</td>\n",
       "      <td>6</td>\n",
       "      <td>160.0</td>\n",
       "      <td>110</td>\n",
       "      <td>3.90</td>\n",
       "      <td>2.875</td>\n",
       "      <td>17.02</td>\n",
       "      <td>0</td>\n",
       "      <td>1</td>\n",
       "      <td>4</td>\n",
       "      <td>4</td>\n",
       "    </tr>\n",
       "    <tr>\n",
       "      <th>2</th>\n",
       "      <td>22.8</td>\n",
       "      <td>4</td>\n",
       "      <td>108.0</td>\n",
       "      <td>93</td>\n",
       "      <td>3.85</td>\n",
       "      <td>2.320</td>\n",
       "      <td>18.61</td>\n",
       "      <td>1</td>\n",
       "      <td>1</td>\n",
       "      <td>4</td>\n",
       "      <td>1</td>\n",
       "    </tr>\n",
       "    <tr>\n",
       "      <th>3</th>\n",
       "      <td>21.4</td>\n",
       "      <td>6</td>\n",
       "      <td>258.0</td>\n",
       "      <td>110</td>\n",
       "      <td>3.08</td>\n",
       "      <td>3.215</td>\n",
       "      <td>19.44</td>\n",
       "      <td>1</td>\n",
       "      <td>0</td>\n",
       "      <td>3</td>\n",
       "      <td>1</td>\n",
       "    </tr>\n",
       "    <tr>\n",
       "      <th>4</th>\n",
       "      <td>18.7</td>\n",
       "      <td>8</td>\n",
       "      <td>360.0</td>\n",
       "      <td>175</td>\n",
       "      <td>3.15</td>\n",
       "      <td>3.440</td>\n",
       "      <td>17.02</td>\n",
       "      <td>0</td>\n",
       "      <td>0</td>\n",
       "      <td>3</td>\n",
       "      <td>2</td>\n",
       "    </tr>\n",
       "  </tbody>\n",
       "</table>\n",
       "</div>"
      ],
      "text/plain": [
       "    mpg  cyl   disp   hp  drat     wt   qsec  vs  am  gear  carb\n",
       "0  21.0    6  160.0  110  3.90  2.620  16.46   0   1     4     4\n",
       "1  21.0    6  160.0  110  3.90  2.875  17.02   0   1     4     4\n",
       "2  22.8    4  108.0   93  3.85  2.320  18.61   1   1     4     1\n",
       "3  21.4    6  258.0  110  3.08  3.215  19.44   1   0     3     1\n",
       "4  18.7    8  360.0  175  3.15  3.440  17.02   0   0     3     2"
      ]
     },
     "execution_count": 47,
     "metadata": {},
     "output_type": "execute_result"
    }
   ],
   "source": [
    "# load example mtcars data \n",
    "df = pd.read_csv('mtcars.csv')\n",
    "print(df.shape)\n",
    "df.head()"
   ]
  },
  {
   "cell_type": "markdown",
   "metadata": {},
   "source": [
    "# Create Simple Barplot"
   ]
  },
  {
   "cell_type": "code",
   "execution_count": 48,
   "metadata": {},
   "outputs": [],
   "source": [
    "from rapid_plotly import barplot"
   ]
  },
  {
   "cell_type": "markdown",
   "metadata": {},
   "source": [
    "A simple barplot can be created by passing three dataframes to `barplot.create_graph`:\n",
    "\n",
    "* `in_data` - the height of the bars\n",
    "* `names` - a dataframe containing the hover text for the bars, otherwise identical to `in_data`\n",
    "* `errors` - a dataframe containing the half-height of the error bars, otherwise identical to `in_data`"
   ]
  },
  {
   "cell_type": "code",
   "execution_count": 49,
   "metadata": {},
   "outputs": [
    {
     "name": "stdout",
     "output_type": "stream",
     "text": [
      "main data:\n"
     ]
    },
    {
     "data": {
      "text/html": [
       "<div>\n",
       "<style scoped>\n",
       "    .dataframe tbody tr th:only-of-type {\n",
       "        vertical-align: middle;\n",
       "    }\n",
       "\n",
       "    .dataframe tbody tr th {\n",
       "        vertical-align: top;\n",
       "    }\n",
       "\n",
       "    .dataframe thead th {\n",
       "        text-align: right;\n",
       "    }\n",
       "</style>\n",
       "<table border=\"1\" class=\"dataframe\">\n",
       "  <thead>\n",
       "    <tr style=\"text-align: right;\">\n",
       "      <th></th>\n",
       "      <th>mpg</th>\n",
       "    </tr>\n",
       "  </thead>\n",
       "  <tbody>\n",
       "    <tr>\n",
       "      <th>4 Cylinders</th>\n",
       "      <td>26.663636</td>\n",
       "    </tr>\n",
       "    <tr>\n",
       "      <th>6 Cylinders</th>\n",
       "      <td>19.742857</td>\n",
       "    </tr>\n",
       "    <tr>\n",
       "      <th>8 Cylinders</th>\n",
       "      <td>15.100000</td>\n",
       "    </tr>\n",
       "  </tbody>\n",
       "</table>\n",
       "</div>"
      ],
      "text/plain": [
       "                   mpg\n",
       "4 Cylinders  26.663636\n",
       "6 Cylinders  19.742857\n",
       "8 Cylinders  15.100000"
      ]
     },
     "metadata": {},
     "output_type": "display_data"
    },
    {
     "name": "stdout",
     "output_type": "stream",
     "text": [
      "names:\n"
     ]
    },
    {
     "data": {
      "text/html": [
       "<div>\n",
       "<style scoped>\n",
       "    .dataframe tbody tr th:only-of-type {\n",
       "        vertical-align: middle;\n",
       "    }\n",
       "\n",
       "    .dataframe tbody tr th {\n",
       "        vertical-align: top;\n",
       "    }\n",
       "\n",
       "    .dataframe thead th {\n",
       "        text-align: right;\n",
       "    }\n",
       "</style>\n",
       "<table border=\"1\" class=\"dataframe\">\n",
       "  <thead>\n",
       "    <tr style=\"text-align: right;\">\n",
       "      <th></th>\n",
       "      <th>mpg</th>\n",
       "    </tr>\n",
       "  </thead>\n",
       "  <tbody>\n",
       "    <tr>\n",
       "      <th>4 Cylinders</th>\n",
       "      <td>iv</td>\n",
       "    </tr>\n",
       "    <tr>\n",
       "      <th>6 Cylinders</th>\n",
       "      <td>od</td>\n",
       "    </tr>\n",
       "    <tr>\n",
       "      <th>8 Cylinders</th>\n",
       "      <td>fb</td>\n",
       "    </tr>\n",
       "  </tbody>\n",
       "</table>\n",
       "</div>"
      ],
      "text/plain": [
       "            mpg\n",
       "4 Cylinders  iv\n",
       "6 Cylinders  od\n",
       "8 Cylinders  fb"
      ]
     },
     "metadata": {},
     "output_type": "display_data"
    },
    {
     "name": "stdout",
     "output_type": "stream",
     "text": [
      "errors:\n"
     ]
    },
    {
     "data": {
      "text/html": [
       "<div>\n",
       "<style scoped>\n",
       "    .dataframe tbody tr th:only-of-type {\n",
       "        vertical-align: middle;\n",
       "    }\n",
       "\n",
       "    .dataframe tbody tr th {\n",
       "        vertical-align: top;\n",
       "    }\n",
       "\n",
       "    .dataframe thead th {\n",
       "        text-align: right;\n",
       "    }\n",
       "</style>\n",
       "<table border=\"1\" class=\"dataframe\">\n",
       "  <thead>\n",
       "    <tr style=\"text-align: right;\">\n",
       "      <th></th>\n",
       "      <th>mpg</th>\n",
       "    </tr>\n",
       "  </thead>\n",
       "  <tbody>\n",
       "    <tr>\n",
       "      <th>4 Cylinders</th>\n",
       "      <td>2.5</td>\n",
       "    </tr>\n",
       "    <tr>\n",
       "      <th>6 Cylinders</th>\n",
       "      <td>2.5</td>\n",
       "    </tr>\n",
       "    <tr>\n",
       "      <th>8 Cylinders</th>\n",
       "      <td>2.5</td>\n",
       "    </tr>\n",
       "  </tbody>\n",
       "</table>\n",
       "</div>"
      ],
      "text/plain": [
       "             mpg\n",
       "4 Cylinders  2.5\n",
       "6 Cylinders  2.5\n",
       "8 Cylinders  2.5"
      ]
     },
     "metadata": {},
     "output_type": "display_data"
    }
   ],
   "source": [
    "# create graph data \n",
    "in_data = pd.DataFrame(df.groupby('cyl').mean()['mpg'])\n",
    "in_data.index = in_data.index.astype(int).astype(str) + ' Cylinders'\n",
    "print('main data:')\n",
    "display(in_data.head())\n",
    "\n",
    "# generate names\n",
    "l = string.ascii_lowercase\n",
    "names = in_data.copy()\n",
    "f = lambda: l[np.random.randint(0,len(l))]\n",
    "\n",
    "for x in names.index:\n",
    "    names.loc[x, 'mpg'] = f()+f()\n",
    "    \n",
    "print('names:')\n",
    "display(names.head())\n",
    "\n",
    "# generate error bars data\n",
    "errors = in_data.copy()\n",
    "errors['mpg'] = 2.5\n",
    "print('errors:')\n",
    "display(errors.head())"
   ]
  },
  {
   "cell_type": "markdown",
   "metadata": {},
   "source": [
    "A simple graph can be quickly created to verify that the data is as expected:"
   ]
  },
  {
   "cell_type": "code",
   "execution_count": 50,
   "metadata": {},
   "outputs": [
    {
     "data": {
      "text/html": [
       "<script>requirejs.config({paths: { 'plotly': ['https://cdn.plot.ly/plotly-latest.min']},});if(!window.Plotly) {{require(['plotly'],function(plotly) {window.Plotly=plotly;});}}</script>"
      ],
      "text/vnd.plotly.v1+html": [
       "<script>requirejs.config({paths: { 'plotly': ['https://cdn.plot.ly/plotly-latest.min']},});if(!window.Plotly) {{require(['plotly'],function(plotly) {window.Plotly=plotly;});}}</script>"
      ]
     },
     "metadata": {},
     "output_type": "display_data"
    },
    {
     "data": {
      "application/vnd.plotly.v1+json": {
       "data": [
        {
         "marker": {
          "color": "#232C65"
         },
         "name": "mpg",
         "text": "mpg",
         "type": "bar",
         "uid": "28f63b98-fa35-11e8-8d78-a0481cac4f9d",
         "x": [
          "4 Cylinders",
          "6 Cylinders",
          "8 Cylinders"
         ],
         "y": [
          26.663636363636364,
          19.74285714285714,
          15.100000000000003
         ]
        }
       ],
       "layout": {
        "hovermode": "closest",
        "plot_bgcolor": "rgb(229, 229, 229)",
        "title": "title",
        "xaxis": {
         "gridcolor": "rgb(255,255,255)",
         "tickangle": 30,
         "title": "xlab",
         "zerolinecolor": "rgb(255,255,255)"
        },
        "yaxis": {
         "gridcolor": "rgb(255,255,255)",
         "title": "ylab",
         "zerolinecolor": "rgb(255,255,255)"
        }
       }
      },
      "text/html": [
       "<div id=\"ac5fcdb8-db9e-4d5a-a12c-01480a8ca155\" style=\"height: 525px; width: 100%;\" class=\"plotly-graph-div\"></div><script type=\"text/javascript\">require([\"plotly\"], function(Plotly) { window.PLOTLYENV=window.PLOTLYENV || {};window.PLOTLYENV.BASE_URL=\"https://plot.ly\";Plotly.newPlot(\"ac5fcdb8-db9e-4d5a-a12c-01480a8ca155\", [{\"marker\": {\"color\": \"#232C65\"}, \"name\": \"mpg\", \"text\": \"mpg\", \"x\": [\"4 Cylinders\", \"6 Cylinders\", \"8 Cylinders\"], \"y\": [26.663636363636364, 19.74285714285714, 15.100000000000003], \"type\": \"bar\", \"uid\": \"28f63b98-fa35-11e8-8d78-a0481cac4f9d\"}], {\"hovermode\": \"closest\", \"plot_bgcolor\": \"rgb(229, 229, 229)\", \"title\": \"title\", \"xaxis\": {\"gridcolor\": \"rgb(255,255,255)\", \"tickangle\": 30, \"title\": \"xlab\", \"zerolinecolor\": \"rgb(255,255,255)\"}, \"yaxis\": {\"gridcolor\": \"rgb(255,255,255)\", \"title\": \"ylab\", \"zerolinecolor\": \"rgb(255,255,255)\"}}, {\"showLink\": true, \"linkText\": \"Export to plot.ly\"})});</script>"
      ],
      "text/vnd.plotly.v1+html": [
       "<div id=\"ac5fcdb8-db9e-4d5a-a12c-01480a8ca155\" style=\"height: 525px; width: 100%;\" class=\"plotly-graph-div\"></div><script type=\"text/javascript\">require([\"plotly\"], function(Plotly) { window.PLOTLYENV=window.PLOTLYENV || {};window.PLOTLYENV.BASE_URL=\"https://plot.ly\";Plotly.newPlot(\"ac5fcdb8-db9e-4d5a-a12c-01480a8ca155\", [{\"marker\": {\"color\": \"#232C65\"}, \"name\": \"mpg\", \"text\": \"mpg\", \"x\": [\"4 Cylinders\", \"6 Cylinders\", \"8 Cylinders\"], \"y\": [26.663636363636364, 19.74285714285714, 15.100000000000003], \"type\": \"bar\", \"uid\": \"28f63b98-fa35-11e8-8d78-a0481cac4f9d\"}], {\"hovermode\": \"closest\", \"plot_bgcolor\": \"rgb(229, 229, 229)\", \"title\": \"title\", \"xaxis\": {\"gridcolor\": \"rgb(255,255,255)\", \"tickangle\": 30, \"title\": \"xlab\", \"zerolinecolor\": \"rgb(255,255,255)\"}, \"yaxis\": {\"gridcolor\": \"rgb(255,255,255)\", \"title\": \"ylab\", \"zerolinecolor\": \"rgb(255,255,255)\"}}, {\"showLink\": true, \"linkText\": \"Export to plot.ly\"})});</script>"
      ]
     },
     "metadata": {},
     "output_type": "display_data"
    }
   ],
   "source": [
    "# create input data for graph \n",
    "args = dict(\n",
    "    in_data=in_data\n",
    ")\n",
    "\n",
    "# view plot inline \n",
    "fig = barplot.create_graph(**args)"
   ]
  },
  {
   "cell_type": "markdown",
   "metadata": {},
   "source": [
    "Now that the graph appears to be as expected, more characteristics can be added by adding them to `args`:"
   ]
  },
  {
   "cell_type": "code",
   "execution_count": 51,
   "metadata": {},
   "outputs": [],
   "source": [
    "# add additional characteristics to graph\n",
    "title = '<b>Fuel Mileage by Number of Cylinders</b>'\n",
    "title += '<br><i>for mtcars data</i>'\n",
    "args['title'] = title\n",
    "args['names'] = names\n",
    "args['errors'] = errors\n",
    "args['xlab'] = 'Number of Cylinders'\n",
    "args['ylab'] = 'Miles Per Gallon'\n",
    "args['annotations'] = [{'text':'More cylinders correlates to better<br> fuel mileage', 'x':1.5, 'y':24.5, 'showarrow':False}]"
   ]
  },
  {
   "cell_type": "markdown",
   "metadata": {},
   "source": [
    "Preview the results again:"
   ]
  },
  {
   "cell_type": "code",
   "execution_count": 52,
   "metadata": {},
   "outputs": [
    {
     "data": {
      "text/html": [
       "<script>requirejs.config({paths: { 'plotly': ['https://cdn.plot.ly/plotly-latest.min']},});if(!window.Plotly) {{require(['plotly'],function(plotly) {window.Plotly=plotly;});}}</script>"
      ],
      "text/vnd.plotly.v1+html": [
       "<script>requirejs.config({paths: { 'plotly': ['https://cdn.plot.ly/plotly-latest.min']},});if(!window.Plotly) {{require(['plotly'],function(plotly) {window.Plotly=plotly;});}}</script>"
      ]
     },
     "metadata": {},
     "output_type": "display_data"
    },
    {
     "data": {
      "application/vnd.plotly.v1+json": {
       "data": [
        {
         "error_y": {
          "array": [
           2.5,
           2.5,
           2.5
          ],
          "thickness": 7,
          "type": "data",
          "visible": true,
          "width": 8
         },
         "marker": {
          "color": "#232C65"
         },
         "name": "mpg",
         "text": [
          "iv",
          "od",
          "fb"
         ],
         "type": "bar",
         "uid": "29c39db6-fa35-11e8-9324-a0481cac4f9d",
         "x": [
          "4 Cylinders",
          "6 Cylinders",
          "8 Cylinders"
         ],
         "y": [
          26.663636363636364,
          19.74285714285714,
          15.100000000000003
         ]
        }
       ],
       "layout": {
        "annotations": [
         {
          "showarrow": false,
          "text": "More cylinders correlates to better<br> fuel mileage",
          "x": 1.5,
          "y": 24.5
         }
        ],
        "hovermode": "closest",
        "plot_bgcolor": "rgb(229, 229, 229)",
        "title": "<b>Fuel Mileage by Number of Cylinders</b><br><i>for mtcars data</i>",
        "xaxis": {
         "gridcolor": "rgb(255,255,255)",
         "tickangle": 30,
         "title": "Number of Cylinders",
         "zerolinecolor": "rgb(255,255,255)"
        },
        "yaxis": {
         "gridcolor": "rgb(255,255,255)",
         "title": "Miles Per Gallon",
         "zerolinecolor": "rgb(255,255,255)"
        }
       }
      },
      "text/html": [
       "<div id=\"3ee0180f-ca09-49e3-9d9c-3ea8077611d0\" style=\"height: 525px; width: 100%;\" class=\"plotly-graph-div\"></div><script type=\"text/javascript\">require([\"plotly\"], function(Plotly) { window.PLOTLYENV=window.PLOTLYENV || {};window.PLOTLYENV.BASE_URL=\"https://plot.ly\";Plotly.newPlot(\"3ee0180f-ca09-49e3-9d9c-3ea8077611d0\", [{\"error_y\": {\"array\": [2.5, 2.5, 2.5], \"thickness\": 7, \"type\": \"data\", \"visible\": true, \"width\": 8}, \"marker\": {\"color\": \"#232C65\"}, \"name\": \"mpg\", \"text\": [\"iv\", \"od\", \"fb\"], \"x\": [\"4 Cylinders\", \"6 Cylinders\", \"8 Cylinders\"], \"y\": [26.663636363636364, 19.74285714285714, 15.100000000000003], \"type\": \"bar\", \"uid\": \"29c39db6-fa35-11e8-9324-a0481cac4f9d\"}], {\"annotations\": [{\"showarrow\": false, \"text\": \"More cylinders correlates to better<br> fuel mileage\", \"x\": 1.5, \"y\": 24.5}], \"hovermode\": \"closest\", \"plot_bgcolor\": \"rgb(229, 229, 229)\", \"title\": \"<b>Fuel Mileage by Number of Cylinders</b><br><i>for mtcars data</i>\", \"xaxis\": {\"gridcolor\": \"rgb(255,255,255)\", \"tickangle\": 30, \"title\": \"Number of Cylinders\", \"zerolinecolor\": \"rgb(255,255,255)\"}, \"yaxis\": {\"gridcolor\": \"rgb(255,255,255)\", \"title\": \"Miles Per Gallon\", \"zerolinecolor\": \"rgb(255,255,255)\"}}, {\"showLink\": true, \"linkText\": \"Export to plot.ly\"})});</script>"
      ],
      "text/vnd.plotly.v1+html": [
       "<div id=\"3ee0180f-ca09-49e3-9d9c-3ea8077611d0\" style=\"height: 525px; width: 100%;\" class=\"plotly-graph-div\"></div><script type=\"text/javascript\">require([\"plotly\"], function(Plotly) { window.PLOTLYENV=window.PLOTLYENV || {};window.PLOTLYENV.BASE_URL=\"https://plot.ly\";Plotly.newPlot(\"3ee0180f-ca09-49e3-9d9c-3ea8077611d0\", [{\"error_y\": {\"array\": [2.5, 2.5, 2.5], \"thickness\": 7, \"type\": \"data\", \"visible\": true, \"width\": 8}, \"marker\": {\"color\": \"#232C65\"}, \"name\": \"mpg\", \"text\": [\"iv\", \"od\", \"fb\"], \"x\": [\"4 Cylinders\", \"6 Cylinders\", \"8 Cylinders\"], \"y\": [26.663636363636364, 19.74285714285714, 15.100000000000003], \"type\": \"bar\", \"uid\": \"29c39db6-fa35-11e8-9324-a0481cac4f9d\"}], {\"annotations\": [{\"showarrow\": false, \"text\": \"More cylinders correlates to better<br> fuel mileage\", \"x\": 1.5, \"y\": 24.5}], \"hovermode\": \"closest\", \"plot_bgcolor\": \"rgb(229, 229, 229)\", \"title\": \"<b>Fuel Mileage by Number of Cylinders</b><br><i>for mtcars data</i>\", \"xaxis\": {\"gridcolor\": \"rgb(255,255,255)\", \"tickangle\": 30, \"title\": \"Number of Cylinders\", \"zerolinecolor\": \"rgb(255,255,255)\"}, \"yaxis\": {\"gridcolor\": \"rgb(255,255,255)\", \"title\": \"Miles Per Gallon\", \"zerolinecolor\": \"rgb(255,255,255)\"}}, {\"showLink\": true, \"linkText\": \"Export to plot.ly\"})});</script>"
      ]
     },
     "metadata": {},
     "output_type": "display_data"
    }
   ],
   "source": [
    "# view plot inline \n",
    "fig = barplot.create_graph(**args)"
   ]
  },
  {
   "cell_type": "markdown",
   "metadata": {},
   "source": [
    "After creating a graph, it can be written to an html file by passing `fig` to `barplot.output_graph`:"
   ]
  },
  {
   "cell_type": "code",
   "execution_count": 53,
   "metadata": {},
   "outputs": [],
   "source": [
    "# write graph to html file \n",
    "fp = 'barplot-example.html'\n",
    "barplot.output_graph(fig, fp)"
   ]
  },
  {
   "cell_type": "code",
   "execution_count": 54,
   "metadata": {},
   "outputs": [],
   "source": [
    "# write graph to png file \n",
    "fp = 'barplot-example.png'\n",
    "barplot.output_graph(fig, fp)"
   ]
  },
  {
   "cell_type": "markdown",
   "metadata": {},
   "source": [
    "# Create Grouped Barplot\n",
    "\n",
    "A grouped barplot compares the effect of the same treatment across multiple categories.\n",
    "\n",
    "The next graph will show the relationship between fuel mileage, the number of cylinders and the number of gears for cars.\n",
    "\n",
    "For grouped barplots, dataframes can be passed where the rows represent the x-axis categories and the columns represent each bar in each category. "
   ]
  },
  {
   "cell_type": "code",
   "execution_count": 55,
   "metadata": {},
   "outputs": [
    {
     "name": "stdout",
     "output_type": "stream",
     "text": [
      "main data:\n"
     ]
    },
    {
     "data": {
      "text/html": [
       "<div>\n",
       "<style scoped>\n",
       "    .dataframe tbody tr th:only-of-type {\n",
       "        vertical-align: middle;\n",
       "    }\n",
       "\n",
       "    .dataframe tbody tr th {\n",
       "        vertical-align: top;\n",
       "    }\n",
       "\n",
       "    .dataframe thead th {\n",
       "        text-align: right;\n",
       "    }\n",
       "</style>\n",
       "<table border=\"1\" class=\"dataframe\">\n",
       "  <thead>\n",
       "    <tr style=\"text-align: right;\">\n",
       "      <th></th>\n",
       "      <th>3 gears</th>\n",
       "      <th>4 gears</th>\n",
       "      <th>5 gears</th>\n",
       "    </tr>\n",
       "  </thead>\n",
       "  <tbody>\n",
       "    <tr>\n",
       "      <th>4 Cylinders</th>\n",
       "      <td>21.50</td>\n",
       "      <td>26.925</td>\n",
       "      <td>28.2</td>\n",
       "    </tr>\n",
       "    <tr>\n",
       "      <th>6 Cylinders</th>\n",
       "      <td>19.75</td>\n",
       "      <td>19.750</td>\n",
       "      <td>19.7</td>\n",
       "    </tr>\n",
       "    <tr>\n",
       "      <th>8 Cylinders</th>\n",
       "      <td>15.05</td>\n",
       "      <td>15.225</td>\n",
       "      <td>15.4</td>\n",
       "    </tr>\n",
       "  </tbody>\n",
       "</table>\n",
       "</div>"
      ],
      "text/plain": [
       "             3 gears  4 gears  5 gears\n",
       "4 Cylinders    21.50   26.925     28.2\n",
       "6 Cylinders    19.75   19.750     19.7\n",
       "8 Cylinders    15.05   15.225     15.4"
      ]
     },
     "metadata": {},
     "output_type": "display_data"
    },
    {
     "name": "stdout",
     "output_type": "stream",
     "text": [
      "names:\n"
     ]
    },
    {
     "data": {
      "text/html": [
       "<div>\n",
       "<style scoped>\n",
       "    .dataframe tbody tr th:only-of-type {\n",
       "        vertical-align: middle;\n",
       "    }\n",
       "\n",
       "    .dataframe tbody tr th {\n",
       "        vertical-align: top;\n",
       "    }\n",
       "\n",
       "    .dataframe thead th {\n",
       "        text-align: right;\n",
       "    }\n",
       "</style>\n",
       "<table border=\"1\" class=\"dataframe\">\n",
       "  <thead>\n",
       "    <tr style=\"text-align: right;\">\n",
       "      <th></th>\n",
       "      <th>3 gears</th>\n",
       "      <th>4 gears</th>\n",
       "      <th>5 gears</th>\n",
       "    </tr>\n",
       "  </thead>\n",
       "  <tbody>\n",
       "    <tr>\n",
       "      <th>4 Cylinders</th>\n",
       "      <td>lz</td>\n",
       "      <td>eh</td>\n",
       "      <td>nh</td>\n",
       "    </tr>\n",
       "    <tr>\n",
       "      <th>6 Cylinders</th>\n",
       "      <td>um</td>\n",
       "      <td>ls</td>\n",
       "      <td>gv</td>\n",
       "    </tr>\n",
       "    <tr>\n",
       "      <th>8 Cylinders</th>\n",
       "      <td>oy</td>\n",
       "      <td>ry</td>\n",
       "      <td>vs</td>\n",
       "    </tr>\n",
       "  </tbody>\n",
       "</table>\n",
       "</div>"
      ],
      "text/plain": [
       "            3 gears 4 gears 5 gears\n",
       "4 Cylinders      lz      eh      nh\n",
       "6 Cylinders      um      ls      gv\n",
       "8 Cylinders      oy      ry      vs"
      ]
     },
     "metadata": {},
     "output_type": "display_data"
    },
    {
     "name": "stdout",
     "output_type": "stream",
     "text": [
      "errors:\n"
     ]
    },
    {
     "data": {
      "text/html": [
       "<div>\n",
       "<style scoped>\n",
       "    .dataframe tbody tr th:only-of-type {\n",
       "        vertical-align: middle;\n",
       "    }\n",
       "\n",
       "    .dataframe tbody tr th {\n",
       "        vertical-align: top;\n",
       "    }\n",
       "\n",
       "    .dataframe thead th {\n",
       "        text-align: right;\n",
       "    }\n",
       "</style>\n",
       "<table border=\"1\" class=\"dataframe\">\n",
       "  <thead>\n",
       "    <tr style=\"text-align: right;\">\n",
       "      <th></th>\n",
       "      <th>3 gears</th>\n",
       "      <th>4 gears</th>\n",
       "      <th>5 gears</th>\n",
       "    </tr>\n",
       "  </thead>\n",
       "  <tbody>\n",
       "    <tr>\n",
       "      <th>4 Cylinders</th>\n",
       "      <td>0.75</td>\n",
       "      <td>0.75</td>\n",
       "      <td>0.75</td>\n",
       "    </tr>\n",
       "    <tr>\n",
       "      <th>6 Cylinders</th>\n",
       "      <td>0.75</td>\n",
       "      <td>0.75</td>\n",
       "      <td>0.75</td>\n",
       "    </tr>\n",
       "    <tr>\n",
       "      <th>8 Cylinders</th>\n",
       "      <td>0.75</td>\n",
       "      <td>0.75</td>\n",
       "      <td>0.75</td>\n",
       "    </tr>\n",
       "  </tbody>\n",
       "</table>\n",
       "</div>"
      ],
      "text/plain": [
       "             3 gears  4 gears  5 gears\n",
       "4 Cylinders     0.75     0.75     0.75\n",
       "6 Cylinders     0.75     0.75     0.75\n",
       "8 Cylinders     0.75     0.75     0.75"
      ]
     },
     "metadata": {},
     "output_type": "display_data"
    }
   ],
   "source": [
    "# create data for grouped barplot\n",
    "in_data = df.groupby(['cyl', 'gear']).mean()[['mpg']].reset_index()\n",
    "\n",
    "in_data = pd.pivot_table(\n",
    "    data=in_data,\n",
    "    columns=['gear'],\n",
    "    index=['cyl']\n",
    ")\n",
    "in_data.columns = ['3 gears', '4 gears', '5 gears']\n",
    "\n",
    "in_data = in_data.fillna(in_data.loc[8].mean())\n",
    "in_data.index = in_data.index.astype(str) + ' Cylinders'\n",
    "print('main data:')\n",
    "display(in_data)\n",
    "\n",
    "# create names\n",
    "names = in_data.copy()\n",
    "\n",
    "for row in names.index:\n",
    "    for col in names.columns:\n",
    "        names.loc[row, col] = f()+f()\n",
    "        \n",
    "print('names:')\n",
    "display(names)\n",
    "\n",
    "# create error bars \n",
    "errors = in_data.copy()\n",
    "\n",
    "for col in errors.columns:\n",
    "    errors[col] = 0.75\n",
    "    \n",
    "print('errors:')\n",
    "display(errors)"
   ]
  },
  {
   "cell_type": "markdown",
   "metadata": {},
   "source": [
    "Get a quick visual of the data:"
   ]
  },
  {
   "cell_type": "code",
   "execution_count": 56,
   "metadata": {},
   "outputs": [
    {
     "data": {
      "text/html": [
       "<script>requirejs.config({paths: { 'plotly': ['https://cdn.plot.ly/plotly-latest.min']},});if(!window.Plotly) {{require(['plotly'],function(plotly) {window.Plotly=plotly;});}}</script>"
      ],
      "text/vnd.plotly.v1+html": [
       "<script>requirejs.config({paths: { 'plotly': ['https://cdn.plot.ly/plotly-latest.min']},});if(!window.Plotly) {{require(['plotly'],function(plotly) {window.Plotly=plotly;});}}</script>"
      ]
     },
     "metadata": {},
     "output_type": "display_data"
    },
    {
     "data": {
      "application/vnd.plotly.v1+json": {
       "data": [
        {
         "marker": {
          "color": "#232C65"
         },
         "name": "3 gears",
         "text": "3 gears",
         "type": "bar",
         "uid": "5088d918-fa35-11e8-bece-a0481cac4f9d",
         "x": [
          "4 Cylinders",
          "6 Cylinders",
          "8 Cylinders"
         ],
         "y": [
          21.5,
          19.75,
          15.050000000000002
         ]
        },
        {
         "marker": {
          "color": "#840032"
         },
         "name": "4 gears",
         "text": "4 gears",
         "type": "bar",
         "uid": "5088d919-fa35-11e8-ad34-a0481cac4f9d",
         "x": [
          "4 Cylinders",
          "6 Cylinders",
          "8 Cylinders"
         ],
         "y": [
          26.925000000000004,
          19.75,
          15.225000000000001
         ]
        },
        {
         "marker": {
          "color": "#E59500"
         },
         "name": "5 gears",
         "text": "5 gears",
         "type": "bar",
         "uid": "5088d91a-fa35-11e8-942f-a0481cac4f9d",
         "x": [
          "4 Cylinders",
          "6 Cylinders",
          "8 Cylinders"
         ],
         "y": [
          28.2,
          19.7,
          15.4
         ]
        }
       ],
       "layout": {
        "hovermode": "closest",
        "plot_bgcolor": "rgb(229, 229, 229)",
        "title": "title",
        "xaxis": {
         "gridcolor": "rgb(255,255,255)",
         "tickangle": 30,
         "title": "xlab",
         "zerolinecolor": "rgb(255,255,255)"
        },
        "yaxis": {
         "gridcolor": "rgb(255,255,255)",
         "title": "ylab",
         "zerolinecolor": "rgb(255,255,255)"
        }
       }
      },
      "text/html": [
       "<div id=\"35d90992-11fd-4e19-9321-2d2d70a6fc9e\" style=\"height: 525px; width: 100%;\" class=\"plotly-graph-div\"></div><script type=\"text/javascript\">require([\"plotly\"], function(Plotly) { window.PLOTLYENV=window.PLOTLYENV || {};window.PLOTLYENV.BASE_URL=\"https://plot.ly\";Plotly.newPlot(\"35d90992-11fd-4e19-9321-2d2d70a6fc9e\", [{\"marker\": {\"color\": \"#232C65\"}, \"name\": \"3 gears\", \"text\": \"3 gears\", \"x\": [\"4 Cylinders\", \"6 Cylinders\", \"8 Cylinders\"], \"y\": [21.5, 19.75, 15.050000000000002], \"type\": \"bar\", \"uid\": \"5088d918-fa35-11e8-bece-a0481cac4f9d\"}, {\"marker\": {\"color\": \"#840032\"}, \"name\": \"4 gears\", \"text\": \"4 gears\", \"x\": [\"4 Cylinders\", \"6 Cylinders\", \"8 Cylinders\"], \"y\": [26.925000000000004, 19.75, 15.225000000000001], \"type\": \"bar\", \"uid\": \"5088d919-fa35-11e8-ad34-a0481cac4f9d\"}, {\"marker\": {\"color\": \"#E59500\"}, \"name\": \"5 gears\", \"text\": \"5 gears\", \"x\": [\"4 Cylinders\", \"6 Cylinders\", \"8 Cylinders\"], \"y\": [28.2, 19.7, 15.4], \"type\": \"bar\", \"uid\": \"5088d91a-fa35-11e8-942f-a0481cac4f9d\"}], {\"hovermode\": \"closest\", \"plot_bgcolor\": \"rgb(229, 229, 229)\", \"title\": \"title\", \"xaxis\": {\"gridcolor\": \"rgb(255,255,255)\", \"tickangle\": 30, \"title\": \"xlab\", \"zerolinecolor\": \"rgb(255,255,255)\"}, \"yaxis\": {\"gridcolor\": \"rgb(255,255,255)\", \"title\": \"ylab\", \"zerolinecolor\": \"rgb(255,255,255)\"}}, {\"showLink\": true, \"linkText\": \"Export to plot.ly\"})});</script>"
      ],
      "text/vnd.plotly.v1+html": [
       "<div id=\"35d90992-11fd-4e19-9321-2d2d70a6fc9e\" style=\"height: 525px; width: 100%;\" class=\"plotly-graph-div\"></div><script type=\"text/javascript\">require([\"plotly\"], function(Plotly) { window.PLOTLYENV=window.PLOTLYENV || {};window.PLOTLYENV.BASE_URL=\"https://plot.ly\";Plotly.newPlot(\"35d90992-11fd-4e19-9321-2d2d70a6fc9e\", [{\"marker\": {\"color\": \"#232C65\"}, \"name\": \"3 gears\", \"text\": \"3 gears\", \"x\": [\"4 Cylinders\", \"6 Cylinders\", \"8 Cylinders\"], \"y\": [21.5, 19.75, 15.050000000000002], \"type\": \"bar\", \"uid\": \"5088d918-fa35-11e8-bece-a0481cac4f9d\"}, {\"marker\": {\"color\": \"#840032\"}, \"name\": \"4 gears\", \"text\": \"4 gears\", \"x\": [\"4 Cylinders\", \"6 Cylinders\", \"8 Cylinders\"], \"y\": [26.925000000000004, 19.75, 15.225000000000001], \"type\": \"bar\", \"uid\": \"5088d919-fa35-11e8-ad34-a0481cac4f9d\"}, {\"marker\": {\"color\": \"#E59500\"}, \"name\": \"5 gears\", \"text\": \"5 gears\", \"x\": [\"4 Cylinders\", \"6 Cylinders\", \"8 Cylinders\"], \"y\": [28.2, 19.7, 15.4], \"type\": \"bar\", \"uid\": \"5088d91a-fa35-11e8-942f-a0481cac4f9d\"}], {\"hovermode\": \"closest\", \"plot_bgcolor\": \"rgb(229, 229, 229)\", \"title\": \"title\", \"xaxis\": {\"gridcolor\": \"rgb(255,255,255)\", \"tickangle\": 30, \"title\": \"xlab\", \"zerolinecolor\": \"rgb(255,255,255)\"}, \"yaxis\": {\"gridcolor\": \"rgb(255,255,255)\", \"title\": \"ylab\", \"zerolinecolor\": \"rgb(255,255,255)\"}}, {\"showLink\": true, \"linkText\": \"Export to plot.ly\"})});</script>"
      ]
     },
     "metadata": {},
     "output_type": "display_data"
    }
   ],
   "source": [
    "# create args\n",
    "args = {'in_data':in_data}\n",
    "fig = barplot.create_graph(**args)"
   ]
  },
  {
   "cell_type": "markdown",
   "metadata": {},
   "source": [
    "Now add more detail by adding elements to `args`:"
   ]
  },
  {
   "cell_type": "code",
   "execution_count": 57,
   "metadata": {},
   "outputs": [
    {
     "data": {
      "text/html": [
       "<script>requirejs.config({paths: { 'plotly': ['https://cdn.plot.ly/plotly-latest.min']},});if(!window.Plotly) {{require(['plotly'],function(plotly) {window.Plotly=plotly;});}}</script>"
      ],
      "text/vnd.plotly.v1+html": [
       "<script>requirejs.config({paths: { 'plotly': ['https://cdn.plot.ly/plotly-latest.min']},});if(!window.Plotly) {{require(['plotly'],function(plotly) {window.Plotly=plotly;});}}</script>"
      ]
     },
     "metadata": {},
     "output_type": "display_data"
    },
    {
     "data": {
      "application/vnd.plotly.v1+json": {
       "data": [
        {
         "error_y": {
          "array": [
           0.75,
           0.75,
           0.75
          ],
          "thickness": 7,
          "type": "data",
          "visible": true,
          "width": 8
         },
         "marker": {
          "color": "#232C65"
         },
         "name": "3 gears",
         "text": [
          "lz",
          "um",
          "oy"
         ],
         "type": "bar",
         "uid": "51f4ec36-fa35-11e8-b47f-a0481cac4f9d",
         "x": [
          "4 Cylinders",
          "6 Cylinders",
          "8 Cylinders"
         ],
         "y": [
          21.5,
          19.75,
          15.050000000000002
         ]
        },
        {
         "error_y": {
          "array": [
           0.75,
           0.75,
           0.75
          ],
          "thickness": 7,
          "type": "data",
          "visible": true,
          "width": 8
         },
         "marker": {
          "color": "#840032"
         },
         "name": "4 gears",
         "text": [
          "eh",
          "ls",
          "ry"
         ],
         "type": "bar",
         "uid": "51f4ec37-fa35-11e8-ab8b-a0481cac4f9d",
         "x": [
          "4 Cylinders",
          "6 Cylinders",
          "8 Cylinders"
         ],
         "y": [
          26.925000000000004,
          19.75,
          15.225000000000001
         ]
        },
        {
         "error_y": {
          "array": [
           0.75,
           0.75,
           0.75
          ],
          "thickness": 7,
          "type": "data",
          "visible": true,
          "width": 8
         },
         "marker": {
          "color": "#E59500"
         },
         "name": "5 gears",
         "text": [
          "nh",
          "gv",
          "vs"
         ],
         "type": "bar",
         "uid": "51f4ec38-fa35-11e8-a130-a0481cac4f9d",
         "x": [
          "4 Cylinders",
          "6 Cylinders",
          "8 Cylinders"
         ],
         "y": [
          28.2,
          19.7,
          15.4
         ]
        }
       ],
       "layout": {
        "annotations": [
         {
          "ax": 150,
          "ay": 25,
          "showarrow": true,
          "text": "More gears correlate to better fuel<br> mileage for cars with 4 cylinder engines",
          "x": 0.45,
          "y": 28
         }
        ],
        "hovermode": "closest",
        "plot_bgcolor": "rgb(229, 229, 229)",
        "title": "<b>Fuel Mileage by Number of Cylinders and Number of Gears</b><br><i>for mtcars data</i>",
        "xaxis": {
         "gridcolor": "rgb(255,255,255)",
         "tickangle": 30,
         "title": "Number of Cylinders",
         "zerolinecolor": "rgb(255,255,255)"
        },
        "yaxis": {
         "gridcolor": "rgb(255,255,255)",
         "title": "Miles Per Gallon",
         "zerolinecolor": "rgb(255,255,255)"
        }
       }
      },
      "text/html": [
       "<div id=\"b46c57db-171b-4e04-a8f5-ca788ea5174f\" style=\"height: 525px; width: 100%;\" class=\"plotly-graph-div\"></div><script type=\"text/javascript\">require([\"plotly\"], function(Plotly) { window.PLOTLYENV=window.PLOTLYENV || {};window.PLOTLYENV.BASE_URL=\"https://plot.ly\";Plotly.newPlot(\"b46c57db-171b-4e04-a8f5-ca788ea5174f\", [{\"error_y\": {\"array\": [0.75, 0.75, 0.75], \"thickness\": 7, \"type\": \"data\", \"visible\": true, \"width\": 8}, \"marker\": {\"color\": \"#232C65\"}, \"name\": \"3 gears\", \"text\": [\"lz\", \"um\", \"oy\"], \"x\": [\"4 Cylinders\", \"6 Cylinders\", \"8 Cylinders\"], \"y\": [21.5, 19.75, 15.050000000000002], \"type\": \"bar\", \"uid\": \"51f4ec36-fa35-11e8-b47f-a0481cac4f9d\"}, {\"error_y\": {\"array\": [0.75, 0.75, 0.75], \"thickness\": 7, \"type\": \"data\", \"visible\": true, \"width\": 8}, \"marker\": {\"color\": \"#840032\"}, \"name\": \"4 gears\", \"text\": [\"eh\", \"ls\", \"ry\"], \"x\": [\"4 Cylinders\", \"6 Cylinders\", \"8 Cylinders\"], \"y\": [26.925000000000004, 19.75, 15.225000000000001], \"type\": \"bar\", \"uid\": \"51f4ec37-fa35-11e8-ab8b-a0481cac4f9d\"}, {\"error_y\": {\"array\": [0.75, 0.75, 0.75], \"thickness\": 7, \"type\": \"data\", \"visible\": true, \"width\": 8}, \"marker\": {\"color\": \"#E59500\"}, \"name\": \"5 gears\", \"text\": [\"nh\", \"gv\", \"vs\"], \"x\": [\"4 Cylinders\", \"6 Cylinders\", \"8 Cylinders\"], \"y\": [28.2, 19.7, 15.4], \"type\": \"bar\", \"uid\": \"51f4ec38-fa35-11e8-a130-a0481cac4f9d\"}], {\"annotations\": [{\"ax\": 150, \"ay\": 25, \"showarrow\": true, \"text\": \"More gears correlate to better fuel<br> mileage for cars with 4 cylinder engines\", \"x\": 0.45, \"y\": 28}], \"hovermode\": \"closest\", \"plot_bgcolor\": \"rgb(229, 229, 229)\", \"title\": \"<b>Fuel Mileage by Number of Cylinders and Number of Gears</b><br><i>for mtcars data</i>\", \"xaxis\": {\"gridcolor\": \"rgb(255,255,255)\", \"tickangle\": 30, \"title\": \"Number of Cylinders\", \"zerolinecolor\": \"rgb(255,255,255)\"}, \"yaxis\": {\"gridcolor\": \"rgb(255,255,255)\", \"title\": \"Miles Per Gallon\", \"zerolinecolor\": \"rgb(255,255,255)\"}}, {\"showLink\": true, \"linkText\": \"Export to plot.ly\"})});</script>"
      ],
      "text/vnd.plotly.v1+html": [
       "<div id=\"b46c57db-171b-4e04-a8f5-ca788ea5174f\" style=\"height: 525px; width: 100%;\" class=\"plotly-graph-div\"></div><script type=\"text/javascript\">require([\"plotly\"], function(Plotly) { window.PLOTLYENV=window.PLOTLYENV || {};window.PLOTLYENV.BASE_URL=\"https://plot.ly\";Plotly.newPlot(\"b46c57db-171b-4e04-a8f5-ca788ea5174f\", [{\"error_y\": {\"array\": [0.75, 0.75, 0.75], \"thickness\": 7, \"type\": \"data\", \"visible\": true, \"width\": 8}, \"marker\": {\"color\": \"#232C65\"}, \"name\": \"3 gears\", \"text\": [\"lz\", \"um\", \"oy\"], \"x\": [\"4 Cylinders\", \"6 Cylinders\", \"8 Cylinders\"], \"y\": [21.5, 19.75, 15.050000000000002], \"type\": \"bar\", \"uid\": \"51f4ec36-fa35-11e8-b47f-a0481cac4f9d\"}, {\"error_y\": {\"array\": [0.75, 0.75, 0.75], \"thickness\": 7, \"type\": \"data\", \"visible\": true, \"width\": 8}, \"marker\": {\"color\": \"#840032\"}, \"name\": \"4 gears\", \"text\": [\"eh\", \"ls\", \"ry\"], \"x\": [\"4 Cylinders\", \"6 Cylinders\", \"8 Cylinders\"], \"y\": [26.925000000000004, 19.75, 15.225000000000001], \"type\": \"bar\", \"uid\": \"51f4ec37-fa35-11e8-ab8b-a0481cac4f9d\"}, {\"error_y\": {\"array\": [0.75, 0.75, 0.75], \"thickness\": 7, \"type\": \"data\", \"visible\": true, \"width\": 8}, \"marker\": {\"color\": \"#E59500\"}, \"name\": \"5 gears\", \"text\": [\"nh\", \"gv\", \"vs\"], \"x\": [\"4 Cylinders\", \"6 Cylinders\", \"8 Cylinders\"], \"y\": [28.2, 19.7, 15.4], \"type\": \"bar\", \"uid\": \"51f4ec38-fa35-11e8-a130-a0481cac4f9d\"}], {\"annotations\": [{\"ax\": 150, \"ay\": 25, \"showarrow\": true, \"text\": \"More gears correlate to better fuel<br> mileage for cars with 4 cylinder engines\", \"x\": 0.45, \"y\": 28}], \"hovermode\": \"closest\", \"plot_bgcolor\": \"rgb(229, 229, 229)\", \"title\": \"<b>Fuel Mileage by Number of Cylinders and Number of Gears</b><br><i>for mtcars data</i>\", \"xaxis\": {\"gridcolor\": \"rgb(255,255,255)\", \"tickangle\": 30, \"title\": \"Number of Cylinders\", \"zerolinecolor\": \"rgb(255,255,255)\"}, \"yaxis\": {\"gridcolor\": \"rgb(255,255,255)\", \"title\": \"Miles Per Gallon\", \"zerolinecolor\": \"rgb(255,255,255)\"}}, {\"showLink\": true, \"linkText\": \"Export to plot.ly\"})});</script>"
      ]
     },
     "metadata": {},
     "output_type": "display_data"
    }
   ],
   "source": [
    "# add additional characteristics to graph\n",
    "title = '<b>Fuel Mileage by Number of Cylinders and Number of Gears</b>'\n",
    "title += '<br><i>for mtcars data</i>'\n",
    "args['title'] = title\n",
    "args['names'] = names\n",
    "args['errors'] = errors\n",
    "args['xlab'] = 'Number of Cylinders'\n",
    "args['ylab'] = 'Miles Per Gallon'\n",
    "args['annotations'] = [{'text':'More gears correlate to better fuel<br> mileage for cars with 4 cylinder engines',\n",
    "                        'x':0.45, 'y':28, 'ax':150, 'ay':25, 'showarrow':True}]\n",
    "\n",
    "fig = barplot.create_graph(**args)"
   ]
  },
  {
   "cell_type": "markdown",
   "metadata": {},
   "source": [
    "This looks okay with the default colors, but the main point of the graph would be more immediately visible if the \"4 Cylinder\" bargroup was a different shade of color than the other bargroups. \n",
    "\n",
    "New colors were generated using [coolors.co](https://coolors.co) and tints of the new colors were created on [color-hex.com](www.color-hex.com).\n",
    "\n",
    "A new dataframe `colors` can be created in a similar fashion to `in_data`, `names` and `errors`:"
   ]
  },
  {
   "cell_type": "code",
   "execution_count": 58,
   "metadata": {},
   "outputs": [
    {
     "name": "stdout",
     "output_type": "stream",
     "text": [
      "colors:\n"
     ]
    },
    {
     "data": {
      "text/html": [
       "<div>\n",
       "<style scoped>\n",
       "    .dataframe tbody tr th:only-of-type {\n",
       "        vertical-align: middle;\n",
       "    }\n",
       "\n",
       "    .dataframe tbody tr th {\n",
       "        vertical-align: top;\n",
       "    }\n",
       "\n",
       "    .dataframe thead th {\n",
       "        text-align: right;\n",
       "    }\n",
       "</style>\n",
       "<table border=\"1\" class=\"dataframe\">\n",
       "  <thead>\n",
       "    <tr style=\"text-align: right;\">\n",
       "      <th></th>\n",
       "      <th>3 gears</th>\n",
       "      <th>4 gears</th>\n",
       "      <th>5 gears</th>\n",
       "    </tr>\n",
       "  </thead>\n",
       "  <tbody>\n",
       "    <tr>\n",
       "      <th>4 Cylinders</th>\n",
       "      <td>#232C65</td>\n",
       "      <td>#2D2D2A</td>\n",
       "      <td>#849324</td>\n",
       "    </tr>\n",
       "    <tr>\n",
       "      <th>6 Cylinders</th>\n",
       "      <td>#9195b2</td>\n",
       "      <td>#969694</td>\n",
       "      <td>#c1c991</td>\n",
       "    </tr>\n",
       "    <tr>\n",
       "      <th>8 Cylinders</th>\n",
       "      <td>#9195b2</td>\n",
       "      <td>#969694</td>\n",
       "      <td>#c1c991</td>\n",
       "    </tr>\n",
       "  </tbody>\n",
       "</table>\n",
       "</div>"
      ],
      "text/plain": [
       "             3 gears  4 gears  5 gears\n",
       "4 Cylinders  #232C65  #2D2D2A  #849324\n",
       "6 Cylinders  #9195b2  #969694  #c1c991\n",
       "8 Cylinders  #9195b2  #969694  #c1c991"
      ]
     },
     "execution_count": 58,
     "metadata": {},
     "output_type": "execute_result"
    }
   ],
   "source": [
    "# create new colors\n",
    "colors = pd.DataFrame({\n",
    "           '3 gears':['#9195b2']*3,\n",
    "           '4 gears':['#969694']*3,\n",
    "           '5 gears':['#c1c991']*3\n",
    "       }, index=in_data.index)\n",
    "\n",
    "colors.loc['4 Cylinders'] = ['#232C65', '#2D2D2A', '#849324']\n",
    "\n",
    "args['colors'] = colors\n",
    "print('colors:')\n",
    "colors"
   ]
  },
  {
   "cell_type": "code",
   "execution_count": 59,
   "metadata": {},
   "outputs": [
    {
     "data": {
      "text/html": [
       "<script>requirejs.config({paths: { 'plotly': ['https://cdn.plot.ly/plotly-latest.min']},});if(!window.Plotly) {{require(['plotly'],function(plotly) {window.Plotly=plotly;});}}</script>"
      ],
      "text/vnd.plotly.v1+html": [
       "<script>requirejs.config({paths: { 'plotly': ['https://cdn.plot.ly/plotly-latest.min']},});if(!window.Plotly) {{require(['plotly'],function(plotly) {window.Plotly=plotly;});}}</script>"
      ]
     },
     "metadata": {},
     "output_type": "display_data"
    },
    {
     "data": {
      "application/vnd.plotly.v1+json": {
       "data": [
        {
         "error_y": {
          "array": [
           0.75,
           0.75,
           0.75
          ],
          "thickness": 7,
          "type": "data",
          "visible": true,
          "width": 8
         },
         "marker": {
          "color": [
           "#232C65",
           "#9195b2",
           "#9195b2"
          ]
         },
         "name": "3 gears",
         "text": [
          "lz",
          "um",
          "oy"
         ],
         "type": "bar",
         "uid": "5431bcd8-fa35-11e8-a668-a0481cac4f9d",
         "x": [
          "4 Cylinders",
          "6 Cylinders",
          "8 Cylinders"
         ],
         "y": [
          21.5,
          19.75,
          15.050000000000002
         ]
        },
        {
         "error_y": {
          "array": [
           0.75,
           0.75,
           0.75
          ],
          "thickness": 7,
          "type": "data",
          "visible": true,
          "width": 8
         },
         "marker": {
          "color": [
           "#2D2D2A",
           "#969694",
           "#969694"
          ]
         },
         "name": "4 gears",
         "text": [
          "eh",
          "ls",
          "ry"
         ],
         "type": "bar",
         "uid": "5431bcd9-fa35-11e8-a14d-a0481cac4f9d",
         "x": [
          "4 Cylinders",
          "6 Cylinders",
          "8 Cylinders"
         ],
         "y": [
          26.925000000000004,
          19.75,
          15.225000000000001
         ]
        },
        {
         "error_y": {
          "array": [
           0.75,
           0.75,
           0.75
          ],
          "thickness": 7,
          "type": "data",
          "visible": true,
          "width": 8
         },
         "marker": {
          "color": [
           "#849324",
           "#c1c991",
           "#c1c991"
          ]
         },
         "name": "5 gears",
         "text": [
          "nh",
          "gv",
          "vs"
         ],
         "type": "bar",
         "uid": "5431bcda-fa35-11e8-b475-a0481cac4f9d",
         "x": [
          "4 Cylinders",
          "6 Cylinders",
          "8 Cylinders"
         ],
         "y": [
          28.2,
          19.7,
          15.4
         ]
        }
       ],
       "layout": {
        "annotations": [
         {
          "ax": 150,
          "ay": 25,
          "showarrow": true,
          "text": "More gears correlate to better fuel<br> mileage for cars with 4 cylinder engines",
          "x": 0.45,
          "y": 28
         }
        ],
        "hovermode": "closest",
        "plot_bgcolor": "rgb(229, 229, 229)",
        "title": "<b>Fuel Mileage by Number of Cylinders and Number of Gears</b><br><i>for mtcars data</i>",
        "xaxis": {
         "gridcolor": "rgb(255,255,255)",
         "tickangle": 30,
         "title": "Number of Cylinders",
         "zerolinecolor": "rgb(255,255,255)"
        },
        "yaxis": {
         "gridcolor": "rgb(255,255,255)",
         "title": "Miles Per Gallon",
         "zerolinecolor": "rgb(255,255,255)"
        }
       }
      },
      "text/html": [
       "<div id=\"7290c177-27ff-486c-b098-9fa80c4ca700\" style=\"height: 525px; width: 100%;\" class=\"plotly-graph-div\"></div><script type=\"text/javascript\">require([\"plotly\"], function(Plotly) { window.PLOTLYENV=window.PLOTLYENV || {};window.PLOTLYENV.BASE_URL=\"https://plot.ly\";Plotly.newPlot(\"7290c177-27ff-486c-b098-9fa80c4ca700\", [{\"error_y\": {\"array\": [0.75, 0.75, 0.75], \"thickness\": 7, \"type\": \"data\", \"visible\": true, \"width\": 8}, \"marker\": {\"color\": [\"#232C65\", \"#9195b2\", \"#9195b2\"]}, \"name\": \"3 gears\", \"text\": [\"lz\", \"um\", \"oy\"], \"x\": [\"4 Cylinders\", \"6 Cylinders\", \"8 Cylinders\"], \"y\": [21.5, 19.75, 15.050000000000002], \"type\": \"bar\", \"uid\": \"5431bcd8-fa35-11e8-a668-a0481cac4f9d\"}, {\"error_y\": {\"array\": [0.75, 0.75, 0.75], \"thickness\": 7, \"type\": \"data\", \"visible\": true, \"width\": 8}, \"marker\": {\"color\": [\"#2D2D2A\", \"#969694\", \"#969694\"]}, \"name\": \"4 gears\", \"text\": [\"eh\", \"ls\", \"ry\"], \"x\": [\"4 Cylinders\", \"6 Cylinders\", \"8 Cylinders\"], \"y\": [26.925000000000004, 19.75, 15.225000000000001], \"type\": \"bar\", \"uid\": \"5431bcd9-fa35-11e8-a14d-a0481cac4f9d\"}, {\"error_y\": {\"array\": [0.75, 0.75, 0.75], \"thickness\": 7, \"type\": \"data\", \"visible\": true, \"width\": 8}, \"marker\": {\"color\": [\"#849324\", \"#c1c991\", \"#c1c991\"]}, \"name\": \"5 gears\", \"text\": [\"nh\", \"gv\", \"vs\"], \"x\": [\"4 Cylinders\", \"6 Cylinders\", \"8 Cylinders\"], \"y\": [28.2, 19.7, 15.4], \"type\": \"bar\", \"uid\": \"5431bcda-fa35-11e8-b475-a0481cac4f9d\"}], {\"annotations\": [{\"ax\": 150, \"ay\": 25, \"showarrow\": true, \"text\": \"More gears correlate to better fuel<br> mileage for cars with 4 cylinder engines\", \"x\": 0.45, \"y\": 28}], \"hovermode\": \"closest\", \"plot_bgcolor\": \"rgb(229, 229, 229)\", \"title\": \"<b>Fuel Mileage by Number of Cylinders and Number of Gears</b><br><i>for mtcars data</i>\", \"xaxis\": {\"gridcolor\": \"rgb(255,255,255)\", \"tickangle\": 30, \"title\": \"Number of Cylinders\", \"zerolinecolor\": \"rgb(255,255,255)\"}, \"yaxis\": {\"gridcolor\": \"rgb(255,255,255)\", \"title\": \"Miles Per Gallon\", \"zerolinecolor\": \"rgb(255,255,255)\"}}, {\"showLink\": true, \"linkText\": \"Export to plot.ly\"})});</script>"
      ],
      "text/vnd.plotly.v1+html": [
       "<div id=\"7290c177-27ff-486c-b098-9fa80c4ca700\" style=\"height: 525px; width: 100%;\" class=\"plotly-graph-div\"></div><script type=\"text/javascript\">require([\"plotly\"], function(Plotly) { window.PLOTLYENV=window.PLOTLYENV || {};window.PLOTLYENV.BASE_URL=\"https://plot.ly\";Plotly.newPlot(\"7290c177-27ff-486c-b098-9fa80c4ca700\", [{\"error_y\": {\"array\": [0.75, 0.75, 0.75], \"thickness\": 7, \"type\": \"data\", \"visible\": true, \"width\": 8}, \"marker\": {\"color\": [\"#232C65\", \"#9195b2\", \"#9195b2\"]}, \"name\": \"3 gears\", \"text\": [\"lz\", \"um\", \"oy\"], \"x\": [\"4 Cylinders\", \"6 Cylinders\", \"8 Cylinders\"], \"y\": [21.5, 19.75, 15.050000000000002], \"type\": \"bar\", \"uid\": \"5431bcd8-fa35-11e8-a668-a0481cac4f9d\"}, {\"error_y\": {\"array\": [0.75, 0.75, 0.75], \"thickness\": 7, \"type\": \"data\", \"visible\": true, \"width\": 8}, \"marker\": {\"color\": [\"#2D2D2A\", \"#969694\", \"#969694\"]}, \"name\": \"4 gears\", \"text\": [\"eh\", \"ls\", \"ry\"], \"x\": [\"4 Cylinders\", \"6 Cylinders\", \"8 Cylinders\"], \"y\": [26.925000000000004, 19.75, 15.225000000000001], \"type\": \"bar\", \"uid\": \"5431bcd9-fa35-11e8-a14d-a0481cac4f9d\"}, {\"error_y\": {\"array\": [0.75, 0.75, 0.75], \"thickness\": 7, \"type\": \"data\", \"visible\": true, \"width\": 8}, \"marker\": {\"color\": [\"#849324\", \"#c1c991\", \"#c1c991\"]}, \"name\": \"5 gears\", \"text\": [\"nh\", \"gv\", \"vs\"], \"x\": [\"4 Cylinders\", \"6 Cylinders\", \"8 Cylinders\"], \"y\": [28.2, 19.7, 15.4], \"type\": \"bar\", \"uid\": \"5431bcda-fa35-11e8-b475-a0481cac4f9d\"}], {\"annotations\": [{\"ax\": 150, \"ay\": 25, \"showarrow\": true, \"text\": \"More gears correlate to better fuel<br> mileage for cars with 4 cylinder engines\", \"x\": 0.45, \"y\": 28}], \"hovermode\": \"closest\", \"plot_bgcolor\": \"rgb(229, 229, 229)\", \"title\": \"<b>Fuel Mileage by Number of Cylinders and Number of Gears</b><br><i>for mtcars data</i>\", \"xaxis\": {\"gridcolor\": \"rgb(255,255,255)\", \"tickangle\": 30, \"title\": \"Number of Cylinders\", \"zerolinecolor\": \"rgb(255,255,255)\"}, \"yaxis\": {\"gridcolor\": \"rgb(255,255,255)\", \"title\": \"Miles Per Gallon\", \"zerolinecolor\": \"rgb(255,255,255)\"}}, {\"showLink\": true, \"linkText\": \"Export to plot.ly\"})});</script>"
      ]
     },
     "metadata": {},
     "output_type": "display_data"
    }
   ],
   "source": [
    "fig = barplot.create_graph(**args)"
   ]
  },
  {
   "cell_type": "code",
   "execution_count": 60,
   "metadata": {},
   "outputs": [],
   "source": [
    "# write graph to html file \n",
    "fp = 'grouped-barplot-example.html'\n",
    "barplot.output_graph(fig, fp)"
   ]
  },
  {
   "cell_type": "code",
   "execution_count": 61,
   "metadata": {},
   "outputs": [],
   "source": [
    "# write graph to png file \n",
    "fp = 'grouped-barplot-example.png'\n",
    "barplot.output_graph(fig, fp)"
   ]
  },
  {
   "cell_type": "markdown",
   "metadata": {},
   "source": [
    "# Create Scatterplot"
   ]
  },
  {
   "cell_type": "code",
   "execution_count": 62,
   "metadata": {},
   "outputs": [],
   "source": [
    "from rapid_plotly import scatterplot"
   ]
  },
  {
   "cell_type": "markdown",
   "metadata": {},
   "source": [
    "First, set up some data which can be used to create an example scatterplot:"
   ]
  },
  {
   "cell_type": "code",
   "execution_count": 63,
   "metadata": {},
   "outputs": [
    {
     "name": "stdout",
     "output_type": "stream",
     "text": [
      "x values:\n"
     ]
    },
    {
     "data": {
      "text/html": [
       "<div>\n",
       "<style scoped>\n",
       "    .dataframe tbody tr th:only-of-type {\n",
       "        vertical-align: middle;\n",
       "    }\n",
       "\n",
       "    .dataframe tbody tr th {\n",
       "        vertical-align: top;\n",
       "    }\n",
       "\n",
       "    .dataframe thead th {\n",
       "        text-align: right;\n",
       "    }\n",
       "</style>\n",
       "<table border=\"1\" class=\"dataframe\">\n",
       "  <thead>\n",
       "    <tr style=\"text-align: right;\">\n",
       "      <th></th>\n",
       "      <th>hp</th>\n",
       "    </tr>\n",
       "  </thead>\n",
       "  <tbody>\n",
       "    <tr>\n",
       "      <th>0</th>\n",
       "      <td>110</td>\n",
       "    </tr>\n",
       "    <tr>\n",
       "      <th>1</th>\n",
       "      <td>110</td>\n",
       "    </tr>\n",
       "    <tr>\n",
       "      <th>2</th>\n",
       "      <td>93</td>\n",
       "    </tr>\n",
       "    <tr>\n",
       "      <th>3</th>\n",
       "      <td>110</td>\n",
       "    </tr>\n",
       "    <tr>\n",
       "      <th>4</th>\n",
       "      <td>175</td>\n",
       "    </tr>\n",
       "  </tbody>\n",
       "</table>\n",
       "</div>"
      ],
      "text/plain": [
       "    hp\n",
       "0  110\n",
       "1  110\n",
       "2   93\n",
       "3  110\n",
       "4  175"
      ]
     },
     "metadata": {},
     "output_type": "display_data"
    },
    {
     "name": "stdout",
     "output_type": "stream",
     "text": [
      "y values:\n"
     ]
    },
    {
     "data": {
      "text/html": [
       "<div>\n",
       "<style scoped>\n",
       "    .dataframe tbody tr th:only-of-type {\n",
       "        vertical-align: middle;\n",
       "    }\n",
       "\n",
       "    .dataframe tbody tr th {\n",
       "        vertical-align: top;\n",
       "    }\n",
       "\n",
       "    .dataframe thead th {\n",
       "        text-align: right;\n",
       "    }\n",
       "</style>\n",
       "<table border=\"1\" class=\"dataframe\">\n",
       "  <thead>\n",
       "    <tr style=\"text-align: right;\">\n",
       "      <th></th>\n",
       "      <th>mpg</th>\n",
       "    </tr>\n",
       "  </thead>\n",
       "  <tbody>\n",
       "    <tr>\n",
       "      <th>0</th>\n",
       "      <td>21.0</td>\n",
       "    </tr>\n",
       "    <tr>\n",
       "      <th>1</th>\n",
       "      <td>21.0</td>\n",
       "    </tr>\n",
       "    <tr>\n",
       "      <th>2</th>\n",
       "      <td>22.8</td>\n",
       "    </tr>\n",
       "    <tr>\n",
       "      <th>3</th>\n",
       "      <td>21.4</td>\n",
       "    </tr>\n",
       "    <tr>\n",
       "      <th>4</th>\n",
       "      <td>18.7</td>\n",
       "    </tr>\n",
       "  </tbody>\n",
       "</table>\n",
       "</div>"
      ],
      "text/plain": [
       "    mpg\n",
       "0  21.0\n",
       "1  21.0\n",
       "2  22.8\n",
       "3  21.4\n",
       "4  18.7"
      ]
     },
     "metadata": {},
     "output_type": "display_data"
    },
    {
     "name": "stdout",
     "output_type": "stream",
     "text": [
      "names: \n"
     ]
    },
    {
     "data": {
      "text/html": [
       "<div>\n",
       "<style scoped>\n",
       "    .dataframe tbody tr th:only-of-type {\n",
       "        vertical-align: middle;\n",
       "    }\n",
       "\n",
       "    .dataframe tbody tr th {\n",
       "        vertical-align: top;\n",
       "    }\n",
       "\n",
       "    .dataframe thead th {\n",
       "        text-align: right;\n",
       "    }\n",
       "</style>\n",
       "<table border=\"1\" class=\"dataframe\">\n",
       "  <thead>\n",
       "    <tr style=\"text-align: right;\">\n",
       "      <th></th>\n",
       "      <th>hp</th>\n",
       "    </tr>\n",
       "  </thead>\n",
       "  <tbody>\n",
       "    <tr>\n",
       "      <th>0</th>\n",
       "      <td># Cylinders: 6.0&lt;br&gt;# Carbs: 4.0&lt;br&gt;# Gears: 4...</td>\n",
       "    </tr>\n",
       "    <tr>\n",
       "      <th>1</th>\n",
       "      <td># Cylinders: 6.0&lt;br&gt;# Carbs: 4.0&lt;br&gt;# Gears: 4...</td>\n",
       "    </tr>\n",
       "    <tr>\n",
       "      <th>2</th>\n",
       "      <td># Cylinders: 4.0&lt;br&gt;# Carbs: 1.0&lt;br&gt;# Gears: 4...</td>\n",
       "    </tr>\n",
       "    <tr>\n",
       "      <th>3</th>\n",
       "      <td># Cylinders: 6.0&lt;br&gt;# Carbs: 1.0&lt;br&gt;# Gears: 3...</td>\n",
       "    </tr>\n",
       "    <tr>\n",
       "      <th>4</th>\n",
       "      <td># Cylinders: 8.0&lt;br&gt;# Carbs: 2.0&lt;br&gt;# Gears: 3...</td>\n",
       "    </tr>\n",
       "  </tbody>\n",
       "</table>\n",
       "</div>"
      ],
      "text/plain": [
       "                                                  hp\n",
       "0  # Cylinders: 6.0<br># Carbs: 4.0<br># Gears: 4...\n",
       "1  # Cylinders: 6.0<br># Carbs: 4.0<br># Gears: 4...\n",
       "2  # Cylinders: 4.0<br># Carbs: 1.0<br># Gears: 4...\n",
       "3  # Cylinders: 6.0<br># Carbs: 1.0<br># Gears: 3...\n",
       "4  # Cylinders: 8.0<br># Carbs: 2.0<br># Gears: 3..."
      ]
     },
     "metadata": {},
     "output_type": "display_data"
    },
    {
     "name": "stdout",
     "output_type": "stream",
     "text": [
      "colors: \n"
     ]
    },
    {
     "data": {
      "text/html": [
       "<div>\n",
       "<style scoped>\n",
       "    .dataframe tbody tr th:only-of-type {\n",
       "        vertical-align: middle;\n",
       "    }\n",
       "\n",
       "    .dataframe tbody tr th {\n",
       "        vertical-align: top;\n",
       "    }\n",
       "\n",
       "    .dataframe thead th {\n",
       "        text-align: right;\n",
       "    }\n",
       "</style>\n",
       "<table border=\"1\" class=\"dataframe\">\n",
       "  <thead>\n",
       "    <tr style=\"text-align: right;\">\n",
       "      <th></th>\n",
       "      <th>hp</th>\n",
       "    </tr>\n",
       "  </thead>\n",
       "  <tbody>\n",
       "    <tr>\n",
       "      <th>0</th>\n",
       "      <td>#C14953</td>\n",
       "    </tr>\n",
       "    <tr>\n",
       "      <th>1</th>\n",
       "      <td>#C14953</td>\n",
       "    </tr>\n",
       "    <tr>\n",
       "      <th>2</th>\n",
       "      <td>#C14953</td>\n",
       "    </tr>\n",
       "    <tr>\n",
       "      <th>3</th>\n",
       "      <td>#C14953</td>\n",
       "    </tr>\n",
       "    <tr>\n",
       "      <th>4</th>\n",
       "      <td>#C14953</td>\n",
       "    </tr>\n",
       "  </tbody>\n",
       "</table>\n",
       "</div>"
      ],
      "text/plain": [
       "        hp\n",
       "0  #C14953\n",
       "1  #C14953\n",
       "2  #C14953\n",
       "3  #C14953\n",
       "4  #C14953"
      ]
     },
     "metadata": {},
     "output_type": "display_data"
    }
   ],
   "source": [
    "# create main data \n",
    "sl = df[['hp', 'mpg']].copy()\n",
    "x_data = sl[['hp']].copy()\n",
    "y_data = sl[['mpg']].copy()\n",
    "\n",
    "print('x values:')\n",
    "display(x_data.head())\n",
    "\n",
    "print('y values:')\n",
    "display(y_data.head())\n",
    "\n",
    "# create names\n",
    "n = (df[['cyl', 'carb', 'gear', 'wt']].apply(\n",
    "      lambda x: '# Cylinders: %s<br># Carbs: %s<br># Gears: %s<br>Weight: %s' % (x['cyl'], x['carb'], \n",
    "                                                                                   x['gear'], x['wt']),\n",
    "      axis=1\n",
    "    )\n",
    "  ).copy()\n",
    "\n",
    "n = n.rename('mpg')\n",
    "\n",
    "names = sl.copy()\n",
    "names['hp'] = n\n",
    "del names['mpg']\n",
    "\n",
    "print('names: ')\n",
    "display(names.head())\n",
    "\n",
    "# create colors \n",
    "colors = sl.copy()\n",
    "colors.loc[:, :] = '#C14953'\n",
    "del colors['mpg']\n",
    "\n",
    "print('colors: ')\n",
    "display(colors.head())"
   ]
  },
  {
   "cell_type": "markdown",
   "metadata": {},
   "source": [
    "The `scatterplot` module takes a separate dataframe for the x values and for the y values:"
   ]
  },
  {
   "cell_type": "code",
   "execution_count": 64,
   "metadata": {},
   "outputs": [
    {
     "data": {
      "text/html": [
       "<script>requirejs.config({paths: { 'plotly': ['https://cdn.plot.ly/plotly-latest.min']},});if(!window.Plotly) {{require(['plotly'],function(plotly) {window.Plotly=plotly;});}}</script>"
      ],
      "text/vnd.plotly.v1+html": [
       "<script>requirejs.config({paths: { 'plotly': ['https://cdn.plot.ly/plotly-latest.min']},});if(!window.Plotly) {{require(['plotly'],function(plotly) {window.Plotly=plotly;});}}</script>"
      ]
     },
     "metadata": {},
     "output_type": "display_data"
    },
    {
     "data": {
      "application/vnd.plotly.v1+json": {
       "data": [
        {
         "marker": {
          "color": [
           "#232C65",
           "#232C65",
           "#232C65",
           "#232C65",
           "#232C65",
           "#232C65",
           "#232C65",
           "#232C65",
           "#232C65",
           "#232C65",
           "#232C65",
           "#232C65",
           "#232C65",
           "#232C65",
           "#232C65",
           "#232C65",
           "#232C65",
           "#232C65",
           "#232C65",
           "#232C65",
           "#232C65",
           "#232C65",
           "#232C65",
           "#232C65",
           "#232C65",
           "#232C65",
           "#232C65",
           "#232C65",
           "#232C65",
           "#232C65",
           "#232C65",
           "#232C65"
          ]
         },
         "mode": "markers",
         "name": "hp",
         "text": [
          110,
          110,
          93,
          110,
          175,
          105,
          245,
          62,
          95,
          123,
          123,
          180,
          180,
          180,
          205,
          215,
          230,
          66,
          52,
          65,
          97,
          150,
          150,
          245,
          175,
          66,
          91,
          113,
          264,
          175,
          335,
          109
         ],
         "type": "scatter",
         "uid": "61a00026-fa35-11e8-8603-a0481cac4f9d",
         "x": [
          110,
          110,
          93,
          110,
          175,
          105,
          245,
          62,
          95,
          123,
          123,
          180,
          180,
          180,
          205,
          215,
          230,
          66,
          52,
          65,
          97,
          150,
          150,
          245,
          175,
          66,
          91,
          113,
          264,
          175,
          335,
          109
         ],
         "y": [
          21,
          21,
          22.8,
          21.4,
          18.7,
          18.1,
          14.3,
          24.4,
          22.8,
          19.2,
          17.8,
          16.4,
          17.3,
          15.2,
          10.4,
          10.4,
          14.7,
          32.4,
          30.4,
          33.9,
          21.5,
          15.5,
          15.2,
          13.3,
          19.2,
          27.3,
          26,
          30.4,
          15.8,
          19.7,
          15,
          21.4
         ]
        }
       ],
       "layout": {
        "hovermode": "closest",
        "plot_bgcolor": "rgb(229, 229, 229)",
        "title": "title",
        "xaxis": {
         "gridcolor": "rgb(255,255,255)",
         "tickangle": 30,
         "title": "xlab",
         "zerolinecolor": "rgb(255,255,255)"
        },
        "yaxis": {
         "gridcolor": "rgb(255,255,255)",
         "title": "ylab",
         "zerolinecolor": "rgb(255,255,255)"
        }
       }
      },
      "text/html": [
       "<div id=\"feec0a7f-5842-4283-9000-ba88f00244f1\" style=\"height: 525px; width: 100%;\" class=\"plotly-graph-div\"></div><script type=\"text/javascript\">require([\"plotly\"], function(Plotly) { window.PLOTLYENV=window.PLOTLYENV || {};window.PLOTLYENV.BASE_URL=\"https://plot.ly\";Plotly.newPlot(\"feec0a7f-5842-4283-9000-ba88f00244f1\", [{\"marker\": {\"color\": [\"#232C65\", \"#232C65\", \"#232C65\", \"#232C65\", \"#232C65\", \"#232C65\", \"#232C65\", \"#232C65\", \"#232C65\", \"#232C65\", \"#232C65\", \"#232C65\", \"#232C65\", \"#232C65\", \"#232C65\", \"#232C65\", \"#232C65\", \"#232C65\", \"#232C65\", \"#232C65\", \"#232C65\", \"#232C65\", \"#232C65\", \"#232C65\", \"#232C65\", \"#232C65\", \"#232C65\", \"#232C65\", \"#232C65\", \"#232C65\", \"#232C65\", \"#232C65\"]}, \"mode\": \"markers\", \"name\": \"hp\", \"text\": [110.0, 110.0, 93.0, 110.0, 175.0, 105.0, 245.0, 62.0, 95.0, 123.0, 123.0, 180.0, 180.0, 180.0, 205.0, 215.0, 230.0, 66.0, 52.0, 65.0, 97.0, 150.0, 150.0, 245.0, 175.0, 66.0, 91.0, 113.0, 264.0, 175.0, 335.0, 109.0], \"x\": [110, 110, 93, 110, 175, 105, 245, 62, 95, 123, 123, 180, 180, 180, 205, 215, 230, 66, 52, 65, 97, 150, 150, 245, 175, 66, 91, 113, 264, 175, 335, 109], \"y\": [21.0, 21.0, 22.8, 21.4, 18.7, 18.1, 14.3, 24.4, 22.8, 19.2, 17.8, 16.4, 17.3, 15.2, 10.4, 10.4, 14.7, 32.4, 30.4, 33.9, 21.5, 15.5, 15.2, 13.3, 19.2, 27.3, 26.0, 30.4, 15.8, 19.7, 15.0, 21.4], \"type\": \"scatter\", \"uid\": \"61a00026-fa35-11e8-8603-a0481cac4f9d\"}], {\"hovermode\": \"closest\", \"plot_bgcolor\": \"rgb(229, 229, 229)\", \"title\": \"title\", \"xaxis\": {\"gridcolor\": \"rgb(255,255,255)\", \"tickangle\": 30, \"title\": \"xlab\", \"zerolinecolor\": \"rgb(255,255,255)\"}, \"yaxis\": {\"gridcolor\": \"rgb(255,255,255)\", \"title\": \"ylab\", \"zerolinecolor\": \"rgb(255,255,255)\"}}, {\"showLink\": true, \"linkText\": \"Export to plot.ly\"})});</script>"
      ],
      "text/vnd.plotly.v1+html": [
       "<div id=\"feec0a7f-5842-4283-9000-ba88f00244f1\" style=\"height: 525px; width: 100%;\" class=\"plotly-graph-div\"></div><script type=\"text/javascript\">require([\"plotly\"], function(Plotly) { window.PLOTLYENV=window.PLOTLYENV || {};window.PLOTLYENV.BASE_URL=\"https://plot.ly\";Plotly.newPlot(\"feec0a7f-5842-4283-9000-ba88f00244f1\", [{\"marker\": {\"color\": [\"#232C65\", \"#232C65\", \"#232C65\", \"#232C65\", \"#232C65\", \"#232C65\", \"#232C65\", \"#232C65\", \"#232C65\", \"#232C65\", \"#232C65\", \"#232C65\", \"#232C65\", \"#232C65\", \"#232C65\", \"#232C65\", \"#232C65\", \"#232C65\", \"#232C65\", \"#232C65\", \"#232C65\", \"#232C65\", \"#232C65\", \"#232C65\", \"#232C65\", \"#232C65\", \"#232C65\", \"#232C65\", \"#232C65\", \"#232C65\", \"#232C65\", \"#232C65\"]}, \"mode\": \"markers\", \"name\": \"hp\", \"text\": [110.0, 110.0, 93.0, 110.0, 175.0, 105.0, 245.0, 62.0, 95.0, 123.0, 123.0, 180.0, 180.0, 180.0, 205.0, 215.0, 230.0, 66.0, 52.0, 65.0, 97.0, 150.0, 150.0, 245.0, 175.0, 66.0, 91.0, 113.0, 264.0, 175.0, 335.0, 109.0], \"x\": [110, 110, 93, 110, 175, 105, 245, 62, 95, 123, 123, 180, 180, 180, 205, 215, 230, 66, 52, 65, 97, 150, 150, 245, 175, 66, 91, 113, 264, 175, 335, 109], \"y\": [21.0, 21.0, 22.8, 21.4, 18.7, 18.1, 14.3, 24.4, 22.8, 19.2, 17.8, 16.4, 17.3, 15.2, 10.4, 10.4, 14.7, 32.4, 30.4, 33.9, 21.5, 15.5, 15.2, 13.3, 19.2, 27.3, 26.0, 30.4, 15.8, 19.7, 15.0, 21.4], \"type\": \"scatter\", \"uid\": \"61a00026-fa35-11e8-8603-a0481cac4f9d\"}], {\"hovermode\": \"closest\", \"plot_bgcolor\": \"rgb(229, 229, 229)\", \"title\": \"title\", \"xaxis\": {\"gridcolor\": \"rgb(255,255,255)\", \"tickangle\": 30, \"title\": \"xlab\", \"zerolinecolor\": \"rgb(255,255,255)\"}, \"yaxis\": {\"gridcolor\": \"rgb(255,255,255)\", \"title\": \"ylab\", \"zerolinecolor\": \"rgb(255,255,255)\"}}, {\"showLink\": true, \"linkText\": \"Export to plot.ly\"})});</script>"
      ]
     },
     "metadata": {},
     "output_type": "display_data"
    }
   ],
   "source": [
    "args = {'x_data':x_data, 'y_data':y_data}\n",
    "fig = scatterplot.create_graph(**args)"
   ]
  },
  {
   "cell_type": "markdown",
   "metadata": {},
   "source": [
    "Adding names, labels and colors:"
   ]
  },
  {
   "cell_type": "code",
   "execution_count": 65,
   "metadata": {},
   "outputs": [
    {
     "data": {
      "text/html": [
       "<script>requirejs.config({paths: { 'plotly': ['https://cdn.plot.ly/plotly-latest.min']},});if(!window.Plotly) {{require(['plotly'],function(plotly) {window.Plotly=plotly;});}}</script>"
      ],
      "text/vnd.plotly.v1+html": [
       "<script>requirejs.config({paths: { 'plotly': ['https://cdn.plot.ly/plotly-latest.min']},});if(!window.Plotly) {{require(['plotly'],function(plotly) {window.Plotly=plotly;});}}</script>"
      ]
     },
     "metadata": {},
     "output_type": "display_data"
    },
    {
     "data": {
      "application/vnd.plotly.v1+json": {
       "data": [
        {
         "marker": {
          "color": [
           "#C14953",
           "#C14953",
           "#C14953",
           "#C14953",
           "#C14953",
           "#C14953",
           "#C14953",
           "#C14953",
           "#C14953",
           "#C14953",
           "#C14953",
           "#C14953",
           "#C14953",
           "#C14953",
           "#C14953",
           "#C14953",
           "#C14953",
           "#C14953",
           "#C14953",
           "#C14953",
           "#C14953",
           "#C14953",
           "#C14953",
           "#C14953",
           "#C14953",
           "#C14953",
           "#C14953",
           "#C14953",
           "#C14953",
           "#C14953",
           "#C14953",
           "#C14953"
          ]
         },
         "mode": "markers",
         "name": "hp",
         "text": [
          "# Cylinders: 6.0<br># Carbs: 4.0<br># Gears: 4.0<br>Weight: 2.62",
          "# Cylinders: 6.0<br># Carbs: 4.0<br># Gears: 4.0<br>Weight: 2.875",
          "# Cylinders: 4.0<br># Carbs: 1.0<br># Gears: 4.0<br>Weight: 2.32",
          "# Cylinders: 6.0<br># Carbs: 1.0<br># Gears: 3.0<br>Weight: 3.215",
          "# Cylinders: 8.0<br># Carbs: 2.0<br># Gears: 3.0<br>Weight: 3.44",
          "# Cylinders: 6.0<br># Carbs: 1.0<br># Gears: 3.0<br>Weight: 3.46",
          "# Cylinders: 8.0<br># Carbs: 4.0<br># Gears: 3.0<br>Weight: 3.57",
          "# Cylinders: 4.0<br># Carbs: 2.0<br># Gears: 4.0<br>Weight: 3.19",
          "# Cylinders: 4.0<br># Carbs: 2.0<br># Gears: 4.0<br>Weight: 3.15",
          "# Cylinders: 6.0<br># Carbs: 4.0<br># Gears: 4.0<br>Weight: 3.44",
          "# Cylinders: 6.0<br># Carbs: 4.0<br># Gears: 4.0<br>Weight: 3.44",
          "# Cylinders: 8.0<br># Carbs: 3.0<br># Gears: 3.0<br>Weight: 4.07",
          "# Cylinders: 8.0<br># Carbs: 3.0<br># Gears: 3.0<br>Weight: 3.73",
          "# Cylinders: 8.0<br># Carbs: 3.0<br># Gears: 3.0<br>Weight: 3.78",
          "# Cylinders: 8.0<br># Carbs: 4.0<br># Gears: 3.0<br>Weight: 5.25",
          "# Cylinders: 8.0<br># Carbs: 4.0<br># Gears: 3.0<br>Weight: 5.4239999999999995",
          "# Cylinders: 8.0<br># Carbs: 4.0<br># Gears: 3.0<br>Weight: 5.345",
          "# Cylinders: 4.0<br># Carbs: 1.0<br># Gears: 4.0<br>Weight: 2.2",
          "# Cylinders: 4.0<br># Carbs: 2.0<br># Gears: 4.0<br>Weight: 1.615",
          "# Cylinders: 4.0<br># Carbs: 1.0<br># Gears: 4.0<br>Weight: 1.835",
          "# Cylinders: 4.0<br># Carbs: 1.0<br># Gears: 3.0<br>Weight: 2.465",
          "# Cylinders: 8.0<br># Carbs: 2.0<br># Gears: 3.0<br>Weight: 3.52",
          "# Cylinders: 8.0<br># Carbs: 2.0<br># Gears: 3.0<br>Weight: 3.435",
          "# Cylinders: 8.0<br># Carbs: 4.0<br># Gears: 3.0<br>Weight: 3.84",
          "# Cylinders: 8.0<br># Carbs: 2.0<br># Gears: 3.0<br>Weight: 3.845",
          "# Cylinders: 4.0<br># Carbs: 1.0<br># Gears: 4.0<br>Weight: 1.935",
          "# Cylinders: 4.0<br># Carbs: 2.0<br># Gears: 5.0<br>Weight: 2.14",
          "# Cylinders: 4.0<br># Carbs: 2.0<br># Gears: 5.0<br>Weight: 1.5130000000000001",
          "# Cylinders: 8.0<br># Carbs: 4.0<br># Gears: 5.0<br>Weight: 3.17",
          "# Cylinders: 6.0<br># Carbs: 6.0<br># Gears: 5.0<br>Weight: 2.77",
          "# Cylinders: 8.0<br># Carbs: 8.0<br># Gears: 5.0<br>Weight: 3.57",
          "# Cylinders: 4.0<br># Carbs: 2.0<br># Gears: 4.0<br>Weight: 2.78"
         ],
         "type": "scatter",
         "uid": "624cbae6-fa35-11e8-852f-a0481cac4f9d",
         "x": [
          110,
          110,
          93,
          110,
          175,
          105,
          245,
          62,
          95,
          123,
          123,
          180,
          180,
          180,
          205,
          215,
          230,
          66,
          52,
          65,
          97,
          150,
          150,
          245,
          175,
          66,
          91,
          113,
          264,
          175,
          335,
          109
         ],
         "y": [
          21,
          21,
          22.8,
          21.4,
          18.7,
          18.1,
          14.3,
          24.4,
          22.8,
          19.2,
          17.8,
          16.4,
          17.3,
          15.2,
          10.4,
          10.4,
          14.7,
          32.4,
          30.4,
          33.9,
          21.5,
          15.5,
          15.2,
          13.3,
          19.2,
          27.3,
          26,
          30.4,
          15.8,
          19.7,
          15,
          21.4
         ]
        }
       ],
       "layout": {
        "hovermode": "closest",
        "plot_bgcolor": "rgb(229, 229, 229)",
        "title": "<b>Fuel Mileage as a Function of Horsepower</b><br><i>for mtcars data</i>",
        "xaxis": {
         "gridcolor": "rgb(255,255,255)",
         "tickangle": 30,
         "title": "Horsepower",
         "zerolinecolor": "rgb(255,255,255)"
        },
        "yaxis": {
         "gridcolor": "rgb(255,255,255)",
         "title": "Fuel Mileage (mpg)",
         "zerolinecolor": "rgb(255,255,255)"
        }
       }
      },
      "text/html": [
       "<div id=\"6c1c6da0-2d02-4072-82c3-bd34c031a355\" style=\"height: 525px; width: 100%;\" class=\"plotly-graph-div\"></div><script type=\"text/javascript\">require([\"plotly\"], function(Plotly) { window.PLOTLYENV=window.PLOTLYENV || {};window.PLOTLYENV.BASE_URL=\"https://plot.ly\";Plotly.newPlot(\"6c1c6da0-2d02-4072-82c3-bd34c031a355\", [{\"marker\": {\"color\": [\"#C14953\", \"#C14953\", \"#C14953\", \"#C14953\", \"#C14953\", \"#C14953\", \"#C14953\", \"#C14953\", \"#C14953\", \"#C14953\", \"#C14953\", \"#C14953\", \"#C14953\", \"#C14953\", \"#C14953\", \"#C14953\", \"#C14953\", \"#C14953\", \"#C14953\", \"#C14953\", \"#C14953\", \"#C14953\", \"#C14953\", \"#C14953\", \"#C14953\", \"#C14953\", \"#C14953\", \"#C14953\", \"#C14953\", \"#C14953\", \"#C14953\", \"#C14953\"]}, \"mode\": \"markers\", \"name\": \"hp\", \"text\": [\"# Cylinders: 6.0<br># Carbs: 4.0<br># Gears: 4.0<br>Weight: 2.62\", \"# Cylinders: 6.0<br># Carbs: 4.0<br># Gears: 4.0<br>Weight: 2.875\", \"# Cylinders: 4.0<br># Carbs: 1.0<br># Gears: 4.0<br>Weight: 2.32\", \"# Cylinders: 6.0<br># Carbs: 1.0<br># Gears: 3.0<br>Weight: 3.215\", \"# Cylinders: 8.0<br># Carbs: 2.0<br># Gears: 3.0<br>Weight: 3.44\", \"# Cylinders: 6.0<br># Carbs: 1.0<br># Gears: 3.0<br>Weight: 3.46\", \"# Cylinders: 8.0<br># Carbs: 4.0<br># Gears: 3.0<br>Weight: 3.57\", \"# Cylinders: 4.0<br># Carbs: 2.0<br># Gears: 4.0<br>Weight: 3.19\", \"# Cylinders: 4.0<br># Carbs: 2.0<br># Gears: 4.0<br>Weight: 3.15\", \"# Cylinders: 6.0<br># Carbs: 4.0<br># Gears: 4.0<br>Weight: 3.44\", \"# Cylinders: 6.0<br># Carbs: 4.0<br># Gears: 4.0<br>Weight: 3.44\", \"# Cylinders: 8.0<br># Carbs: 3.0<br># Gears: 3.0<br>Weight: 4.07\", \"# Cylinders: 8.0<br># Carbs: 3.0<br># Gears: 3.0<br>Weight: 3.73\", \"# Cylinders: 8.0<br># Carbs: 3.0<br># Gears: 3.0<br>Weight: 3.78\", \"# Cylinders: 8.0<br># Carbs: 4.0<br># Gears: 3.0<br>Weight: 5.25\", \"# Cylinders: 8.0<br># Carbs: 4.0<br># Gears: 3.0<br>Weight: 5.4239999999999995\", \"# Cylinders: 8.0<br># Carbs: 4.0<br># Gears: 3.0<br>Weight: 5.345\", \"# Cylinders: 4.0<br># Carbs: 1.0<br># Gears: 4.0<br>Weight: 2.2\", \"# Cylinders: 4.0<br># Carbs: 2.0<br># Gears: 4.0<br>Weight: 1.615\", \"# Cylinders: 4.0<br># Carbs: 1.0<br># Gears: 4.0<br>Weight: 1.835\", \"# Cylinders: 4.0<br># Carbs: 1.0<br># Gears: 3.0<br>Weight: 2.465\", \"# Cylinders: 8.0<br># Carbs: 2.0<br># Gears: 3.0<br>Weight: 3.52\", \"# Cylinders: 8.0<br># Carbs: 2.0<br># Gears: 3.0<br>Weight: 3.435\", \"# Cylinders: 8.0<br># Carbs: 4.0<br># Gears: 3.0<br>Weight: 3.84\", \"# Cylinders: 8.0<br># Carbs: 2.0<br># Gears: 3.0<br>Weight: 3.845\", \"# Cylinders: 4.0<br># Carbs: 1.0<br># Gears: 4.0<br>Weight: 1.935\", \"# Cylinders: 4.0<br># Carbs: 2.0<br># Gears: 5.0<br>Weight: 2.14\", \"# Cylinders: 4.0<br># Carbs: 2.0<br># Gears: 5.0<br>Weight: 1.5130000000000001\", \"# Cylinders: 8.0<br># Carbs: 4.0<br># Gears: 5.0<br>Weight: 3.17\", \"# Cylinders: 6.0<br># Carbs: 6.0<br># Gears: 5.0<br>Weight: 2.77\", \"# Cylinders: 8.0<br># Carbs: 8.0<br># Gears: 5.0<br>Weight: 3.57\", \"# Cylinders: 4.0<br># Carbs: 2.0<br># Gears: 4.0<br>Weight: 2.78\"], \"x\": [110, 110, 93, 110, 175, 105, 245, 62, 95, 123, 123, 180, 180, 180, 205, 215, 230, 66, 52, 65, 97, 150, 150, 245, 175, 66, 91, 113, 264, 175, 335, 109], \"y\": [21.0, 21.0, 22.8, 21.4, 18.7, 18.1, 14.3, 24.4, 22.8, 19.2, 17.8, 16.4, 17.3, 15.2, 10.4, 10.4, 14.7, 32.4, 30.4, 33.9, 21.5, 15.5, 15.2, 13.3, 19.2, 27.3, 26.0, 30.4, 15.8, 19.7, 15.0, 21.4], \"type\": \"scatter\", \"uid\": \"624cbae6-fa35-11e8-852f-a0481cac4f9d\"}], {\"hovermode\": \"closest\", \"plot_bgcolor\": \"rgb(229, 229, 229)\", \"title\": \"<b>Fuel Mileage as a Function of Horsepower</b><br><i>for mtcars data</i>\", \"xaxis\": {\"gridcolor\": \"rgb(255,255,255)\", \"tickangle\": 30, \"title\": \"Horsepower\", \"zerolinecolor\": \"rgb(255,255,255)\"}, \"yaxis\": {\"gridcolor\": \"rgb(255,255,255)\", \"title\": \"Fuel Mileage (mpg)\", \"zerolinecolor\": \"rgb(255,255,255)\"}}, {\"showLink\": true, \"linkText\": \"Export to plot.ly\"})});</script>"
      ],
      "text/vnd.plotly.v1+html": [
       "<div id=\"6c1c6da0-2d02-4072-82c3-bd34c031a355\" style=\"height: 525px; width: 100%;\" class=\"plotly-graph-div\"></div><script type=\"text/javascript\">require([\"plotly\"], function(Plotly) { window.PLOTLYENV=window.PLOTLYENV || {};window.PLOTLYENV.BASE_URL=\"https://plot.ly\";Plotly.newPlot(\"6c1c6da0-2d02-4072-82c3-bd34c031a355\", [{\"marker\": {\"color\": [\"#C14953\", \"#C14953\", \"#C14953\", \"#C14953\", \"#C14953\", \"#C14953\", \"#C14953\", \"#C14953\", \"#C14953\", \"#C14953\", \"#C14953\", \"#C14953\", \"#C14953\", \"#C14953\", \"#C14953\", \"#C14953\", \"#C14953\", \"#C14953\", \"#C14953\", \"#C14953\", \"#C14953\", \"#C14953\", \"#C14953\", \"#C14953\", \"#C14953\", \"#C14953\", \"#C14953\", \"#C14953\", \"#C14953\", \"#C14953\", \"#C14953\", \"#C14953\"]}, \"mode\": \"markers\", \"name\": \"hp\", \"text\": [\"# Cylinders: 6.0<br># Carbs: 4.0<br># Gears: 4.0<br>Weight: 2.62\", \"# Cylinders: 6.0<br># Carbs: 4.0<br># Gears: 4.0<br>Weight: 2.875\", \"# Cylinders: 4.0<br># Carbs: 1.0<br># Gears: 4.0<br>Weight: 2.32\", \"# Cylinders: 6.0<br># Carbs: 1.0<br># Gears: 3.0<br>Weight: 3.215\", \"# Cylinders: 8.0<br># Carbs: 2.0<br># Gears: 3.0<br>Weight: 3.44\", \"# Cylinders: 6.0<br># Carbs: 1.0<br># Gears: 3.0<br>Weight: 3.46\", \"# Cylinders: 8.0<br># Carbs: 4.0<br># Gears: 3.0<br>Weight: 3.57\", \"# Cylinders: 4.0<br># Carbs: 2.0<br># Gears: 4.0<br>Weight: 3.19\", \"# Cylinders: 4.0<br># Carbs: 2.0<br># Gears: 4.0<br>Weight: 3.15\", \"# Cylinders: 6.0<br># Carbs: 4.0<br># Gears: 4.0<br>Weight: 3.44\", \"# Cylinders: 6.0<br># Carbs: 4.0<br># Gears: 4.0<br>Weight: 3.44\", \"# Cylinders: 8.0<br># Carbs: 3.0<br># Gears: 3.0<br>Weight: 4.07\", \"# Cylinders: 8.0<br># Carbs: 3.0<br># Gears: 3.0<br>Weight: 3.73\", \"# Cylinders: 8.0<br># Carbs: 3.0<br># Gears: 3.0<br>Weight: 3.78\", \"# Cylinders: 8.0<br># Carbs: 4.0<br># Gears: 3.0<br>Weight: 5.25\", \"# Cylinders: 8.0<br># Carbs: 4.0<br># Gears: 3.0<br>Weight: 5.4239999999999995\", \"# Cylinders: 8.0<br># Carbs: 4.0<br># Gears: 3.0<br>Weight: 5.345\", \"# Cylinders: 4.0<br># Carbs: 1.0<br># Gears: 4.0<br>Weight: 2.2\", \"# Cylinders: 4.0<br># Carbs: 2.0<br># Gears: 4.0<br>Weight: 1.615\", \"# Cylinders: 4.0<br># Carbs: 1.0<br># Gears: 4.0<br>Weight: 1.835\", \"# Cylinders: 4.0<br># Carbs: 1.0<br># Gears: 3.0<br>Weight: 2.465\", \"# Cylinders: 8.0<br># Carbs: 2.0<br># Gears: 3.0<br>Weight: 3.52\", \"# Cylinders: 8.0<br># Carbs: 2.0<br># Gears: 3.0<br>Weight: 3.435\", \"# Cylinders: 8.0<br># Carbs: 4.0<br># Gears: 3.0<br>Weight: 3.84\", \"# Cylinders: 8.0<br># Carbs: 2.0<br># Gears: 3.0<br>Weight: 3.845\", \"# Cylinders: 4.0<br># Carbs: 1.0<br># Gears: 4.0<br>Weight: 1.935\", \"# Cylinders: 4.0<br># Carbs: 2.0<br># Gears: 5.0<br>Weight: 2.14\", \"# Cylinders: 4.0<br># Carbs: 2.0<br># Gears: 5.0<br>Weight: 1.5130000000000001\", \"# Cylinders: 8.0<br># Carbs: 4.0<br># Gears: 5.0<br>Weight: 3.17\", \"# Cylinders: 6.0<br># Carbs: 6.0<br># Gears: 5.0<br>Weight: 2.77\", \"# Cylinders: 8.0<br># Carbs: 8.0<br># Gears: 5.0<br>Weight: 3.57\", \"# Cylinders: 4.0<br># Carbs: 2.0<br># Gears: 4.0<br>Weight: 2.78\"], \"x\": [110, 110, 93, 110, 175, 105, 245, 62, 95, 123, 123, 180, 180, 180, 205, 215, 230, 66, 52, 65, 97, 150, 150, 245, 175, 66, 91, 113, 264, 175, 335, 109], \"y\": [21.0, 21.0, 22.8, 21.4, 18.7, 18.1, 14.3, 24.4, 22.8, 19.2, 17.8, 16.4, 17.3, 15.2, 10.4, 10.4, 14.7, 32.4, 30.4, 33.9, 21.5, 15.5, 15.2, 13.3, 19.2, 27.3, 26.0, 30.4, 15.8, 19.7, 15.0, 21.4], \"type\": \"scatter\", \"uid\": \"624cbae6-fa35-11e8-852f-a0481cac4f9d\"}], {\"hovermode\": \"closest\", \"plot_bgcolor\": \"rgb(229, 229, 229)\", \"title\": \"<b>Fuel Mileage as a Function of Horsepower</b><br><i>for mtcars data</i>\", \"xaxis\": {\"gridcolor\": \"rgb(255,255,255)\", \"tickangle\": 30, \"title\": \"Horsepower\", \"zerolinecolor\": \"rgb(255,255,255)\"}, \"yaxis\": {\"gridcolor\": \"rgb(255,255,255)\", \"title\": \"Fuel Mileage (mpg)\", \"zerolinecolor\": \"rgb(255,255,255)\"}}, {\"showLink\": true, \"linkText\": \"Export to plot.ly\"})});</script>"
      ]
     },
     "metadata": {},
     "output_type": "display_data"
    }
   ],
   "source": [
    "# build graph args \n",
    "args['names'] = names\n",
    "args['colors'] = colors\n",
    "args['title'] = '<b>Fuel Mileage as a Function of Horsepower</b><br><i>for mtcars data</i>'\n",
    "args['xlab'] = 'Horsepower'\n",
    "args['ylab'] = 'Fuel Mileage (mpg)'\n",
    "\n",
    "# display plot\n",
    "fig = scatterplot.create_graph(**args)"
   ]
  },
  {
   "cell_type": "markdown",
   "metadata": {},
   "source": [
    "The `scatterplot` module allows for passing lists of x and y values to plot multiple series of data on the sample plot. \n",
    "\n",
    "Generate example data which compares `hp` and `mpg` before and after a made-up fuel mileage enhancement:"
   ]
  },
  {
   "cell_type": "code",
   "execution_count": 66,
   "metadata": {},
   "outputs": [
    {
     "name": "stdout",
     "output_type": "stream",
     "text": [
      "x1 values:\n"
     ]
    },
    {
     "data": {
      "text/html": [
       "<div>\n",
       "<style scoped>\n",
       "    .dataframe tbody tr th:only-of-type {\n",
       "        vertical-align: middle;\n",
       "    }\n",
       "\n",
       "    .dataframe tbody tr th {\n",
       "        vertical-align: top;\n",
       "    }\n",
       "\n",
       "    .dataframe thead th {\n",
       "        text-align: right;\n",
       "    }\n",
       "</style>\n",
       "<table border=\"1\" class=\"dataframe\">\n",
       "  <thead>\n",
       "    <tr style=\"text-align: right;\">\n",
       "      <th></th>\n",
       "      <th>hp</th>\n",
       "    </tr>\n",
       "  </thead>\n",
       "  <tbody>\n",
       "    <tr>\n",
       "      <th>0</th>\n",
       "      <td>110</td>\n",
       "    </tr>\n",
       "    <tr>\n",
       "      <th>1</th>\n",
       "      <td>110</td>\n",
       "    </tr>\n",
       "    <tr>\n",
       "      <th>2</th>\n",
       "      <td>93</td>\n",
       "    </tr>\n",
       "    <tr>\n",
       "      <th>3</th>\n",
       "      <td>110</td>\n",
       "    </tr>\n",
       "    <tr>\n",
       "      <th>4</th>\n",
       "      <td>175</td>\n",
       "    </tr>\n",
       "  </tbody>\n",
       "</table>\n",
       "</div>"
      ],
      "text/plain": [
       "    hp\n",
       "0  110\n",
       "1  110\n",
       "2   93\n",
       "3  110\n",
       "4  175"
      ]
     },
     "metadata": {},
     "output_type": "display_data"
    },
    {
     "name": "stdout",
     "output_type": "stream",
     "text": [
      "x2 values:\n"
     ]
    },
    {
     "data": {
      "text/html": [
       "<div>\n",
       "<style scoped>\n",
       "    .dataframe tbody tr th:only-of-type {\n",
       "        vertical-align: middle;\n",
       "    }\n",
       "\n",
       "    .dataframe tbody tr th {\n",
       "        vertical-align: top;\n",
       "    }\n",
       "\n",
       "    .dataframe thead th {\n",
       "        text-align: right;\n",
       "    }\n",
       "</style>\n",
       "<table border=\"1\" class=\"dataframe\">\n",
       "  <thead>\n",
       "    <tr style=\"text-align: right;\">\n",
       "      <th></th>\n",
       "      <th>hp_alt</th>\n",
       "    </tr>\n",
       "  </thead>\n",
       "  <tbody>\n",
       "    <tr>\n",
       "      <th>0</th>\n",
       "      <td>104.948497</td>\n",
       "    </tr>\n",
       "    <tr>\n",
       "      <th>1</th>\n",
       "      <td>104.644567</td>\n",
       "    </tr>\n",
       "    <tr>\n",
       "      <th>2</th>\n",
       "      <td>85.323590</td>\n",
       "    </tr>\n",
       "    <tr>\n",
       "      <th>3</th>\n",
       "      <td>101.050002</td>\n",
       "    </tr>\n",
       "    <tr>\n",
       "      <th>4</th>\n",
       "      <td>168.022492</td>\n",
       "    </tr>\n",
       "  </tbody>\n",
       "</table>\n",
       "</div>"
      ],
      "text/plain": [
       "       hp_alt\n",
       "0  104.948497\n",
       "1  104.644567\n",
       "2   85.323590\n",
       "3  101.050002\n",
       "4  168.022492"
      ]
     },
     "metadata": {},
     "output_type": "display_data"
    },
    {
     "name": "stdout",
     "output_type": "stream",
     "text": [
      "y1 values:\n"
     ]
    },
    {
     "data": {
      "text/html": [
       "<div>\n",
       "<style scoped>\n",
       "    .dataframe tbody tr th:only-of-type {\n",
       "        vertical-align: middle;\n",
       "    }\n",
       "\n",
       "    .dataframe tbody tr th {\n",
       "        vertical-align: top;\n",
       "    }\n",
       "\n",
       "    .dataframe thead th {\n",
       "        text-align: right;\n",
       "    }\n",
       "</style>\n",
       "<table border=\"1\" class=\"dataframe\">\n",
       "  <thead>\n",
       "    <tr style=\"text-align: right;\">\n",
       "      <th></th>\n",
       "      <th>mpg</th>\n",
       "    </tr>\n",
       "  </thead>\n",
       "  <tbody>\n",
       "    <tr>\n",
       "      <th>0</th>\n",
       "      <td>21.0</td>\n",
       "    </tr>\n",
       "    <tr>\n",
       "      <th>1</th>\n",
       "      <td>21.0</td>\n",
       "    </tr>\n",
       "    <tr>\n",
       "      <th>2</th>\n",
       "      <td>22.8</td>\n",
       "    </tr>\n",
       "    <tr>\n",
       "      <th>3</th>\n",
       "      <td>21.4</td>\n",
       "    </tr>\n",
       "    <tr>\n",
       "      <th>4</th>\n",
       "      <td>18.7</td>\n",
       "    </tr>\n",
       "  </tbody>\n",
       "</table>\n",
       "</div>"
      ],
      "text/plain": [
       "    mpg\n",
       "0  21.0\n",
       "1  21.0\n",
       "2  22.8\n",
       "3  21.4\n",
       "4  18.7"
      ]
     },
     "metadata": {},
     "output_type": "display_data"
    },
    {
     "name": "stdout",
     "output_type": "stream",
     "text": [
      "y2 values:\n"
     ]
    },
    {
     "data": {
      "text/html": [
       "<div>\n",
       "<style scoped>\n",
       "    .dataframe tbody tr th:only-of-type {\n",
       "        vertical-align: middle;\n",
       "    }\n",
       "\n",
       "    .dataframe tbody tr th {\n",
       "        vertical-align: top;\n",
       "    }\n",
       "\n",
       "    .dataframe thead th {\n",
       "        text-align: right;\n",
       "    }\n",
       "</style>\n",
       "<table border=\"1\" class=\"dataframe\">\n",
       "  <thead>\n",
       "    <tr style=\"text-align: right;\">\n",
       "      <th></th>\n",
       "      <th>mpg_alt</th>\n",
       "    </tr>\n",
       "  </thead>\n",
       "  <tbody>\n",
       "    <tr>\n",
       "      <th>0</th>\n",
       "      <td>24.858688</td>\n",
       "    </tr>\n",
       "    <tr>\n",
       "      <th>1</th>\n",
       "      <td>25.499757</td>\n",
       "    </tr>\n",
       "    <tr>\n",
       "      <th>2</th>\n",
       "      <td>29.325633</td>\n",
       "    </tr>\n",
       "    <tr>\n",
       "      <th>3</th>\n",
       "      <td>27.745704</td>\n",
       "    </tr>\n",
       "    <tr>\n",
       "      <th>4</th>\n",
       "      <td>23.629976</td>\n",
       "    </tr>\n",
       "  </tbody>\n",
       "</table>\n",
       "</div>"
      ],
      "text/plain": [
       "     mpg_alt\n",
       "0  24.858688\n",
       "1  25.499757\n",
       "2  29.325633\n",
       "3  27.745704\n",
       "4  23.629976"
      ]
     },
     "metadata": {},
     "output_type": "display_data"
    },
    {
     "name": "stdout",
     "output_type": "stream",
     "text": [
      "names: \n"
     ]
    },
    {
     "data": {
      "text/html": [
       "<div>\n",
       "<style scoped>\n",
       "    .dataframe tbody tr th:only-of-type {\n",
       "        vertical-align: middle;\n",
       "    }\n",
       "\n",
       "    .dataframe tbody tr th {\n",
       "        vertical-align: top;\n",
       "    }\n",
       "\n",
       "    .dataframe thead th {\n",
       "        text-align: right;\n",
       "    }\n",
       "</style>\n",
       "<table border=\"1\" class=\"dataframe\">\n",
       "  <thead>\n",
       "    <tr style=\"text-align: right;\">\n",
       "      <th></th>\n",
       "      <th>hp</th>\n",
       "      <th>hp_alt</th>\n",
       "    </tr>\n",
       "  </thead>\n",
       "  <tbody>\n",
       "    <tr>\n",
       "      <th>0</th>\n",
       "      <td>Before Treatment&lt;br&gt;Car ID 0.0&lt;br&gt;# Cylinders:...</td>\n",
       "      <td>After Treatment&lt;br&gt;Car ID 0.0&lt;br&gt;# Cylinders: ...</td>\n",
       "    </tr>\n",
       "    <tr>\n",
       "      <th>1</th>\n",
       "      <td>Before Treatment&lt;br&gt;Car ID 1.0&lt;br&gt;# Cylinders:...</td>\n",
       "      <td>After Treatment&lt;br&gt;Car ID 1.0&lt;br&gt;# Cylinders: ...</td>\n",
       "    </tr>\n",
       "    <tr>\n",
       "      <th>2</th>\n",
       "      <td>Before Treatment&lt;br&gt;Car ID 2.0&lt;br&gt;# Cylinders:...</td>\n",
       "      <td>After Treatment&lt;br&gt;Car ID 2.0&lt;br&gt;# Cylinders: ...</td>\n",
       "    </tr>\n",
       "    <tr>\n",
       "      <th>3</th>\n",
       "      <td>Before Treatment&lt;br&gt;Car ID 3.0&lt;br&gt;# Cylinders:...</td>\n",
       "      <td>After Treatment&lt;br&gt;Car ID 3.0&lt;br&gt;# Cylinders: ...</td>\n",
       "    </tr>\n",
       "    <tr>\n",
       "      <th>4</th>\n",
       "      <td>Before Treatment&lt;br&gt;Car ID 4.0&lt;br&gt;# Cylinders:...</td>\n",
       "      <td>After Treatment&lt;br&gt;Car ID 4.0&lt;br&gt;# Cylinders: ...</td>\n",
       "    </tr>\n",
       "  </tbody>\n",
       "</table>\n",
       "</div>"
      ],
      "text/plain": [
       "                                                  hp  \\\n",
       "0  Before Treatment<br>Car ID 0.0<br># Cylinders:...   \n",
       "1  Before Treatment<br>Car ID 1.0<br># Cylinders:...   \n",
       "2  Before Treatment<br>Car ID 2.0<br># Cylinders:...   \n",
       "3  Before Treatment<br>Car ID 3.0<br># Cylinders:...   \n",
       "4  Before Treatment<br>Car ID 4.0<br># Cylinders:...   \n",
       "\n",
       "                                              hp_alt  \n",
       "0  After Treatment<br>Car ID 0.0<br># Cylinders: ...  \n",
       "1  After Treatment<br>Car ID 1.0<br># Cylinders: ...  \n",
       "2  After Treatment<br>Car ID 2.0<br># Cylinders: ...  \n",
       "3  After Treatment<br>Car ID 3.0<br># Cylinders: ...  \n",
       "4  After Treatment<br>Car ID 4.0<br># Cylinders: ...  "
      ]
     },
     "metadata": {},
     "output_type": "display_data"
    },
    {
     "name": "stdout",
     "output_type": "stream",
     "text": [
      "colors: \n"
     ]
    },
    {
     "data": {
      "text/html": [
       "<div>\n",
       "<style scoped>\n",
       "    .dataframe tbody tr th:only-of-type {\n",
       "        vertical-align: middle;\n",
       "    }\n",
       "\n",
       "    .dataframe tbody tr th {\n",
       "        vertical-align: top;\n",
       "    }\n",
       "\n",
       "    .dataframe thead th {\n",
       "        text-align: right;\n",
       "    }\n",
       "</style>\n",
       "<table border=\"1\" class=\"dataframe\">\n",
       "  <thead>\n",
       "    <tr style=\"text-align: right;\">\n",
       "      <th></th>\n",
       "      <th>hp</th>\n",
       "      <th>hp_alt</th>\n",
       "    </tr>\n",
       "  </thead>\n",
       "  <tbody>\n",
       "    <tr>\n",
       "      <th>0</th>\n",
       "      <td>#232C65</td>\n",
       "      <td>#2D2D2A</td>\n",
       "    </tr>\n",
       "    <tr>\n",
       "      <th>1</th>\n",
       "      <td>#232C65</td>\n",
       "      <td>#2D2D2A</td>\n",
       "    </tr>\n",
       "    <tr>\n",
       "      <th>2</th>\n",
       "      <td>#232C65</td>\n",
       "      <td>#2D2D2A</td>\n",
       "    </tr>\n",
       "    <tr>\n",
       "      <th>3</th>\n",
       "      <td>#232C65</td>\n",
       "      <td>#2D2D2A</td>\n",
       "    </tr>\n",
       "    <tr>\n",
       "      <th>4</th>\n",
       "      <td>#232C65</td>\n",
       "      <td>#2D2D2A</td>\n",
       "    </tr>\n",
       "  </tbody>\n",
       "</table>\n",
       "</div>"
      ],
      "text/plain": [
       "        hp   hp_alt\n",
       "0  #232C65  #2D2D2A\n",
       "1  #232C65  #2D2D2A\n",
       "2  #232C65  #2D2D2A\n",
       "3  #232C65  #2D2D2A\n",
       "4  #232C65  #2D2D2A"
      ]
     },
     "metadata": {},
     "output_type": "display_data"
    }
   ],
   "source": [
    "# create main data \n",
    "sl = df[['hp', 'mpg']].copy()\n",
    "x_data = sl[['hp']].copy()\n",
    "x_data_treat = x_data.copy()\n",
    "x_data_treat['hp'] = x_data['hp'] - (np.random.normal(loc=5, scale=2, size=len(x_data)))\n",
    "x_data_treat.columns = ['hp_alt']\n",
    "y_data = sl[['mpg']].copy()\n",
    "y_data_treat = y_data.copy()\n",
    "y_data_treat['mpg'] = y_data['mpg'] + (np.random.normal(loc=5, scale=2, size=len(x_data)))\n",
    "y_data_treat.columns = ['mpg_alt']\n",
    "\n",
    "print('x1 values:')\n",
    "display(x_data.head())\n",
    "\n",
    "print('x2 values:')\n",
    "display(x_data_treat.head())\n",
    "\n",
    "print('y1 values:')\n",
    "display(y_data.head())\n",
    "\n",
    "print('y2 values:')\n",
    "display(y_data_treat.head())\n",
    "\n",
    "# create names\n",
    "n = (df.reset_index()[['index', 'cyl', 'carb', 'gear', 'wt']].apply(\n",
    "      lambda x: 'Car ID %s<br># Cylinders: %s<br># Carbs: %s<br># Gears: %s<br>Weight: %s' % (x['index'], x['cyl'], x['carb'], x['gear'], x['wt']),\n",
    "      axis=1\n",
    "    )\n",
    "  ).copy()\n",
    "\n",
    "names = sl.copy()\n",
    "names['hp'] = 'Before Treatment<br>' + n\n",
    "del names['mpg']\n",
    "names['hp_alt'] = 'After Treatment<br>' + n\n",
    "\n",
    "print('names: ')\n",
    "display(names.head())\n",
    "\n",
    "# create colors \n",
    "colors = sl.copy()\n",
    "colors.loc[:, :] = '#232C65'\n",
    "del colors['mpg']\n",
    "colors['hp_alt'] = '#2D2D2A'\n",
    "\n",
    "print('colors: ')\n",
    "display(colors.head())"
   ]
  },
  {
   "cell_type": "markdown",
   "metadata": {},
   "source": [
    "Now a list of x data and a list of y data can be used to plot both cases on the same graph:"
   ]
  },
  {
   "cell_type": "code",
   "execution_count": 67,
   "metadata": {},
   "outputs": [
    {
     "data": {
      "text/html": [
       "<script>requirejs.config({paths: { 'plotly': ['https://cdn.plot.ly/plotly-latest.min']},});if(!window.Plotly) {{require(['plotly'],function(plotly) {window.Plotly=plotly;});}}</script>"
      ],
      "text/vnd.plotly.v1+html": [
       "<script>requirejs.config({paths: { 'plotly': ['https://cdn.plot.ly/plotly-latest.min']},});if(!window.Plotly) {{require(['plotly'],function(plotly) {window.Plotly=plotly;});}}</script>"
      ]
     },
     "metadata": {},
     "output_type": "display_data"
    },
    {
     "data": {
      "application/vnd.plotly.v1+json": {
       "data": [
        {
         "marker": {
          "color": [
           "#232C65",
           "#232C65",
           "#232C65",
           "#232C65",
           "#232C65",
           "#232C65",
           "#232C65",
           "#232C65",
           "#232C65",
           "#232C65",
           "#232C65",
           "#232C65",
           "#232C65",
           "#232C65",
           "#232C65",
           "#232C65",
           "#232C65",
           "#232C65",
           "#232C65",
           "#232C65",
           "#232C65",
           "#232C65",
           "#232C65",
           "#232C65",
           "#232C65",
           "#232C65",
           "#232C65",
           "#232C65",
           "#232C65",
           "#232C65",
           "#232C65",
           "#232C65"
          ]
         },
         "mode": "markers",
         "name": "hp",
         "text": [
          "Before Treatment<br>Car ID 0.0<br># Cylinders: 6.0<br># Carbs: 4.0<br># Gears: 4.0<br>Weight: 2.62",
          "Before Treatment<br>Car ID 1.0<br># Cylinders: 6.0<br># Carbs: 4.0<br># Gears: 4.0<br>Weight: 2.875",
          "Before Treatment<br>Car ID 2.0<br># Cylinders: 4.0<br># Carbs: 1.0<br># Gears: 4.0<br>Weight: 2.32",
          "Before Treatment<br>Car ID 3.0<br># Cylinders: 6.0<br># Carbs: 1.0<br># Gears: 3.0<br>Weight: 3.215",
          "Before Treatment<br>Car ID 4.0<br># Cylinders: 8.0<br># Carbs: 2.0<br># Gears: 3.0<br>Weight: 3.44",
          "Before Treatment<br>Car ID 5.0<br># Cylinders: 6.0<br># Carbs: 1.0<br># Gears: 3.0<br>Weight: 3.46",
          "Before Treatment<br>Car ID 6.0<br># Cylinders: 8.0<br># Carbs: 4.0<br># Gears: 3.0<br>Weight: 3.57",
          "Before Treatment<br>Car ID 7.0<br># Cylinders: 4.0<br># Carbs: 2.0<br># Gears: 4.0<br>Weight: 3.19",
          "Before Treatment<br>Car ID 8.0<br># Cylinders: 4.0<br># Carbs: 2.0<br># Gears: 4.0<br>Weight: 3.15",
          "Before Treatment<br>Car ID 9.0<br># Cylinders: 6.0<br># Carbs: 4.0<br># Gears: 4.0<br>Weight: 3.44",
          "Before Treatment<br>Car ID 10.0<br># Cylinders: 6.0<br># Carbs: 4.0<br># Gears: 4.0<br>Weight: 3.44",
          "Before Treatment<br>Car ID 11.0<br># Cylinders: 8.0<br># Carbs: 3.0<br># Gears: 3.0<br>Weight: 4.07",
          "Before Treatment<br>Car ID 12.0<br># Cylinders: 8.0<br># Carbs: 3.0<br># Gears: 3.0<br>Weight: 3.73",
          "Before Treatment<br>Car ID 13.0<br># Cylinders: 8.0<br># Carbs: 3.0<br># Gears: 3.0<br>Weight: 3.78",
          "Before Treatment<br>Car ID 14.0<br># Cylinders: 8.0<br># Carbs: 4.0<br># Gears: 3.0<br>Weight: 5.25",
          "Before Treatment<br>Car ID 15.0<br># Cylinders: 8.0<br># Carbs: 4.0<br># Gears: 3.0<br>Weight: 5.4239999999999995",
          "Before Treatment<br>Car ID 16.0<br># Cylinders: 8.0<br># Carbs: 4.0<br># Gears: 3.0<br>Weight: 5.345",
          "Before Treatment<br>Car ID 17.0<br># Cylinders: 4.0<br># Carbs: 1.0<br># Gears: 4.0<br>Weight: 2.2",
          "Before Treatment<br>Car ID 18.0<br># Cylinders: 4.0<br># Carbs: 2.0<br># Gears: 4.0<br>Weight: 1.615",
          "Before Treatment<br>Car ID 19.0<br># Cylinders: 4.0<br># Carbs: 1.0<br># Gears: 4.0<br>Weight: 1.835",
          "Before Treatment<br>Car ID 20.0<br># Cylinders: 4.0<br># Carbs: 1.0<br># Gears: 3.0<br>Weight: 2.465",
          "Before Treatment<br>Car ID 21.0<br># Cylinders: 8.0<br># Carbs: 2.0<br># Gears: 3.0<br>Weight: 3.52",
          "Before Treatment<br>Car ID 22.0<br># Cylinders: 8.0<br># Carbs: 2.0<br># Gears: 3.0<br>Weight: 3.435",
          "Before Treatment<br>Car ID 23.0<br># Cylinders: 8.0<br># Carbs: 4.0<br># Gears: 3.0<br>Weight: 3.84",
          "Before Treatment<br>Car ID 24.0<br># Cylinders: 8.0<br># Carbs: 2.0<br># Gears: 3.0<br>Weight: 3.845",
          "Before Treatment<br>Car ID 25.0<br># Cylinders: 4.0<br># Carbs: 1.0<br># Gears: 4.0<br>Weight: 1.935",
          "Before Treatment<br>Car ID 26.0<br># Cylinders: 4.0<br># Carbs: 2.0<br># Gears: 5.0<br>Weight: 2.14",
          "Before Treatment<br>Car ID 27.0<br># Cylinders: 4.0<br># Carbs: 2.0<br># Gears: 5.0<br>Weight: 1.5130000000000001",
          "Before Treatment<br>Car ID 28.0<br># Cylinders: 8.0<br># Carbs: 4.0<br># Gears: 5.0<br>Weight: 3.17",
          "Before Treatment<br>Car ID 29.0<br># Cylinders: 6.0<br># Carbs: 6.0<br># Gears: 5.0<br>Weight: 2.77",
          "Before Treatment<br>Car ID 30.0<br># Cylinders: 8.0<br># Carbs: 8.0<br># Gears: 5.0<br>Weight: 3.57",
          "Before Treatment<br>Car ID 31.0<br># Cylinders: 4.0<br># Carbs: 2.0<br># Gears: 4.0<br>Weight: 2.78"
         ],
         "type": "scatter",
         "uid": "63dbbf58-fa35-11e8-88e6-a0481cac4f9d",
         "x": [
          110,
          110,
          93,
          110,
          175,
          105,
          245,
          62,
          95,
          123,
          123,
          180,
          180,
          180,
          205,
          215,
          230,
          66,
          52,
          65,
          97,
          150,
          150,
          245,
          175,
          66,
          91,
          113,
          264,
          175,
          335,
          109
         ],
         "y": [
          21,
          21,
          22.8,
          21.4,
          18.7,
          18.1,
          14.3,
          24.4,
          22.8,
          19.2,
          17.8,
          16.4,
          17.3,
          15.2,
          10.4,
          10.4,
          14.7,
          32.4,
          30.4,
          33.9,
          21.5,
          15.5,
          15.2,
          13.3,
          19.2,
          27.3,
          26,
          30.4,
          15.8,
          19.7,
          15,
          21.4
         ]
        },
        {
         "marker": {
          "color": [
           "#2D2D2A",
           "#2D2D2A",
           "#2D2D2A",
           "#2D2D2A",
           "#2D2D2A",
           "#2D2D2A",
           "#2D2D2A",
           "#2D2D2A",
           "#2D2D2A",
           "#2D2D2A",
           "#2D2D2A",
           "#2D2D2A",
           "#2D2D2A",
           "#2D2D2A",
           "#2D2D2A",
           "#2D2D2A",
           "#2D2D2A",
           "#2D2D2A",
           "#2D2D2A",
           "#2D2D2A",
           "#2D2D2A",
           "#2D2D2A",
           "#2D2D2A",
           "#2D2D2A",
           "#2D2D2A",
           "#2D2D2A",
           "#2D2D2A",
           "#2D2D2A",
           "#2D2D2A",
           "#2D2D2A",
           "#2D2D2A",
           "#2D2D2A"
          ]
         },
         "mode": "markers",
         "name": "hp_alt",
         "text": [
          "After Treatment<br>Car ID 0.0<br># Cylinders: 6.0<br># Carbs: 4.0<br># Gears: 4.0<br>Weight: 2.62",
          "After Treatment<br>Car ID 1.0<br># Cylinders: 6.0<br># Carbs: 4.0<br># Gears: 4.0<br>Weight: 2.875",
          "After Treatment<br>Car ID 2.0<br># Cylinders: 4.0<br># Carbs: 1.0<br># Gears: 4.0<br>Weight: 2.32",
          "After Treatment<br>Car ID 3.0<br># Cylinders: 6.0<br># Carbs: 1.0<br># Gears: 3.0<br>Weight: 3.215",
          "After Treatment<br>Car ID 4.0<br># Cylinders: 8.0<br># Carbs: 2.0<br># Gears: 3.0<br>Weight: 3.44",
          "After Treatment<br>Car ID 5.0<br># Cylinders: 6.0<br># Carbs: 1.0<br># Gears: 3.0<br>Weight: 3.46",
          "After Treatment<br>Car ID 6.0<br># Cylinders: 8.0<br># Carbs: 4.0<br># Gears: 3.0<br>Weight: 3.57",
          "After Treatment<br>Car ID 7.0<br># Cylinders: 4.0<br># Carbs: 2.0<br># Gears: 4.0<br>Weight: 3.19",
          "After Treatment<br>Car ID 8.0<br># Cylinders: 4.0<br># Carbs: 2.0<br># Gears: 4.0<br>Weight: 3.15",
          "After Treatment<br>Car ID 9.0<br># Cylinders: 6.0<br># Carbs: 4.0<br># Gears: 4.0<br>Weight: 3.44",
          "After Treatment<br>Car ID 10.0<br># Cylinders: 6.0<br># Carbs: 4.0<br># Gears: 4.0<br>Weight: 3.44",
          "After Treatment<br>Car ID 11.0<br># Cylinders: 8.0<br># Carbs: 3.0<br># Gears: 3.0<br>Weight: 4.07",
          "After Treatment<br>Car ID 12.0<br># Cylinders: 8.0<br># Carbs: 3.0<br># Gears: 3.0<br>Weight: 3.73",
          "After Treatment<br>Car ID 13.0<br># Cylinders: 8.0<br># Carbs: 3.0<br># Gears: 3.0<br>Weight: 3.78",
          "After Treatment<br>Car ID 14.0<br># Cylinders: 8.0<br># Carbs: 4.0<br># Gears: 3.0<br>Weight: 5.25",
          "After Treatment<br>Car ID 15.0<br># Cylinders: 8.0<br># Carbs: 4.0<br># Gears: 3.0<br>Weight: 5.4239999999999995",
          "After Treatment<br>Car ID 16.0<br># Cylinders: 8.0<br># Carbs: 4.0<br># Gears: 3.0<br>Weight: 5.345",
          "After Treatment<br>Car ID 17.0<br># Cylinders: 4.0<br># Carbs: 1.0<br># Gears: 4.0<br>Weight: 2.2",
          "After Treatment<br>Car ID 18.0<br># Cylinders: 4.0<br># Carbs: 2.0<br># Gears: 4.0<br>Weight: 1.615",
          "After Treatment<br>Car ID 19.0<br># Cylinders: 4.0<br># Carbs: 1.0<br># Gears: 4.0<br>Weight: 1.835",
          "After Treatment<br>Car ID 20.0<br># Cylinders: 4.0<br># Carbs: 1.0<br># Gears: 3.0<br>Weight: 2.465",
          "After Treatment<br>Car ID 21.0<br># Cylinders: 8.0<br># Carbs: 2.0<br># Gears: 3.0<br>Weight: 3.52",
          "After Treatment<br>Car ID 22.0<br># Cylinders: 8.0<br># Carbs: 2.0<br># Gears: 3.0<br>Weight: 3.435",
          "After Treatment<br>Car ID 23.0<br># Cylinders: 8.0<br># Carbs: 4.0<br># Gears: 3.0<br>Weight: 3.84",
          "After Treatment<br>Car ID 24.0<br># Cylinders: 8.0<br># Carbs: 2.0<br># Gears: 3.0<br>Weight: 3.845",
          "After Treatment<br>Car ID 25.0<br># Cylinders: 4.0<br># Carbs: 1.0<br># Gears: 4.0<br>Weight: 1.935",
          "After Treatment<br>Car ID 26.0<br># Cylinders: 4.0<br># Carbs: 2.0<br># Gears: 5.0<br>Weight: 2.14",
          "After Treatment<br>Car ID 27.0<br># Cylinders: 4.0<br># Carbs: 2.0<br># Gears: 5.0<br>Weight: 1.5130000000000001",
          "After Treatment<br>Car ID 28.0<br># Cylinders: 8.0<br># Carbs: 4.0<br># Gears: 5.0<br>Weight: 3.17",
          "After Treatment<br>Car ID 29.0<br># Cylinders: 6.0<br># Carbs: 6.0<br># Gears: 5.0<br>Weight: 2.77",
          "After Treatment<br>Car ID 30.0<br># Cylinders: 8.0<br># Carbs: 8.0<br># Gears: 5.0<br>Weight: 3.57",
          "After Treatment<br>Car ID 31.0<br># Cylinders: 4.0<br># Carbs: 2.0<br># Gears: 4.0<br>Weight: 2.78"
         ],
         "type": "scatter",
         "uid": "63dbbf59-fa35-11e8-9e26-a0481cac4f9d",
         "x": [
          104.94849650834728,
          104.6445667736654,
          85.3235900041831,
          101.05000188834869,
          168.0224916210035,
          103.2661318624046,
          239.74952036909312,
          55.324191158226895,
          87.34164681932177,
          117.88955362936633,
          113.55083618905718,
          175.83048269012812,
          176.45007998357062,
          172.68226687571754,
          197.98241535163152,
          207.79489516379675,
          224.38979137096385,
          59.506854339528374,
          45.640939212058484,
          61.6690885243184,
          90.39608336874328,
          143.9426630173357,
          146.3283707273426,
          238.58443764087895,
          169.9531272950143,
          62.2933041429868,
          88.27832844350428,
          110.89964036815562,
          259.7717761130017,
          171.89786893385724,
          327.8877965259679,
          103.04950186921901
         ],
         "y": [
          24.858687539748395,
          25.49975651393703,
          29.32563343660449,
          27.74570419198485,
          23.629976104000903,
          25.458859667024974,
          21.234510715733748,
          28.086091259083357,
          31.248990516927712,
          23.572236484374308,
          22.280231235536213,
          22.44240957016443,
          17.693708843133635,
          17.676805273857042,
          17.73956898201672,
          10.894861526910503,
          20.662747040967126,
          37.762796828278915,
          36.16471024340439,
          37.123347475515544,
          25.40645698631994,
          21.964626822174118,
          17.291392464794917,
          19.509549774883055,
          25.84540720953649,
          34.0642492241159,
          32.023992109122034,
          35.49769361862695,
          21.53002063698483,
          21.693998953504078,
          21.985525513461155,
          28.93450235095608
         ]
        }
       ],
       "layout": {
        "annotations": [
         {
          "showarrow": false,
          "text": "Fuel mileage upgrade works for most cars",
          "x": 200,
          "y": 37
         },
         {
          "ax": 150,
          "ay": -25,
          "showarrow": true,
          "text": "Car 8 before upgrade",
          "x": 95,
          "y": 22.8
         },
         {
          "ax": 150,
          "ay": 0,
          "showarrow": true,
          "text": "Car 8 after upgrade",
          "x": 87.34164681932177,
          "y": 31.248990516927712
         }
        ],
        "hovermode": "closest",
        "plot_bgcolor": "rgb(229, 229, 229)",
        "title": "<b>Fuel Mileage as a Function of Horsepower</b><br><i>for mtcars data</i>",
        "xaxis": {
         "gridcolor": "rgb(255,255,255)",
         "tickangle": 30,
         "title": "Horsepower",
         "zerolinecolor": "rgb(255,255,255)"
        },
        "yaxis": {
         "gridcolor": "rgb(255,255,255)",
         "title": "Fuel Mileage (mpg)",
         "zerolinecolor": "rgb(255,255,255)"
        }
       }
      },
      "text/html": [
       "<div id=\"5e233cbf-0028-475f-8171-c212aa13267b\" style=\"height: 525px; width: 100%;\" class=\"plotly-graph-div\"></div><script type=\"text/javascript\">require([\"plotly\"], function(Plotly) { window.PLOTLYENV=window.PLOTLYENV || {};window.PLOTLYENV.BASE_URL=\"https://plot.ly\";Plotly.newPlot(\"5e233cbf-0028-475f-8171-c212aa13267b\", [{\"marker\": {\"color\": [\"#232C65\", \"#232C65\", \"#232C65\", \"#232C65\", \"#232C65\", \"#232C65\", \"#232C65\", \"#232C65\", \"#232C65\", \"#232C65\", \"#232C65\", \"#232C65\", \"#232C65\", \"#232C65\", \"#232C65\", \"#232C65\", \"#232C65\", \"#232C65\", \"#232C65\", \"#232C65\", \"#232C65\", \"#232C65\", \"#232C65\", \"#232C65\", \"#232C65\", \"#232C65\", \"#232C65\", \"#232C65\", \"#232C65\", \"#232C65\", \"#232C65\", \"#232C65\"]}, \"mode\": \"markers\", \"name\": \"hp\", \"text\": [\"Before Treatment<br>Car ID 0.0<br># Cylinders: 6.0<br># Carbs: 4.0<br># Gears: 4.0<br>Weight: 2.62\", \"Before Treatment<br>Car ID 1.0<br># Cylinders: 6.0<br># Carbs: 4.0<br># Gears: 4.0<br>Weight: 2.875\", \"Before Treatment<br>Car ID 2.0<br># Cylinders: 4.0<br># Carbs: 1.0<br># Gears: 4.0<br>Weight: 2.32\", \"Before Treatment<br>Car ID 3.0<br># Cylinders: 6.0<br># Carbs: 1.0<br># Gears: 3.0<br>Weight: 3.215\", \"Before Treatment<br>Car ID 4.0<br># Cylinders: 8.0<br># Carbs: 2.0<br># Gears: 3.0<br>Weight: 3.44\", \"Before Treatment<br>Car ID 5.0<br># Cylinders: 6.0<br># Carbs: 1.0<br># Gears: 3.0<br>Weight: 3.46\", \"Before Treatment<br>Car ID 6.0<br># Cylinders: 8.0<br># Carbs: 4.0<br># Gears: 3.0<br>Weight: 3.57\", \"Before Treatment<br>Car ID 7.0<br># Cylinders: 4.0<br># Carbs: 2.0<br># Gears: 4.0<br>Weight: 3.19\", \"Before Treatment<br>Car ID 8.0<br># Cylinders: 4.0<br># Carbs: 2.0<br># Gears: 4.0<br>Weight: 3.15\", \"Before Treatment<br>Car ID 9.0<br># Cylinders: 6.0<br># Carbs: 4.0<br># Gears: 4.0<br>Weight: 3.44\", \"Before Treatment<br>Car ID 10.0<br># Cylinders: 6.0<br># Carbs: 4.0<br># Gears: 4.0<br>Weight: 3.44\", \"Before Treatment<br>Car ID 11.0<br># Cylinders: 8.0<br># Carbs: 3.0<br># Gears: 3.0<br>Weight: 4.07\", \"Before Treatment<br>Car ID 12.0<br># Cylinders: 8.0<br># Carbs: 3.0<br># Gears: 3.0<br>Weight: 3.73\", \"Before Treatment<br>Car ID 13.0<br># Cylinders: 8.0<br># Carbs: 3.0<br># Gears: 3.0<br>Weight: 3.78\", \"Before Treatment<br>Car ID 14.0<br># Cylinders: 8.0<br># Carbs: 4.0<br># Gears: 3.0<br>Weight: 5.25\", \"Before Treatment<br>Car ID 15.0<br># Cylinders: 8.0<br># Carbs: 4.0<br># Gears: 3.0<br>Weight: 5.4239999999999995\", \"Before Treatment<br>Car ID 16.0<br># Cylinders: 8.0<br># Carbs: 4.0<br># Gears: 3.0<br>Weight: 5.345\", \"Before Treatment<br>Car ID 17.0<br># Cylinders: 4.0<br># Carbs: 1.0<br># Gears: 4.0<br>Weight: 2.2\", \"Before Treatment<br>Car ID 18.0<br># Cylinders: 4.0<br># Carbs: 2.0<br># Gears: 4.0<br>Weight: 1.615\", \"Before Treatment<br>Car ID 19.0<br># Cylinders: 4.0<br># Carbs: 1.0<br># Gears: 4.0<br>Weight: 1.835\", \"Before Treatment<br>Car ID 20.0<br># Cylinders: 4.0<br># Carbs: 1.0<br># Gears: 3.0<br>Weight: 2.465\", \"Before Treatment<br>Car ID 21.0<br># Cylinders: 8.0<br># Carbs: 2.0<br># Gears: 3.0<br>Weight: 3.52\", \"Before Treatment<br>Car ID 22.0<br># Cylinders: 8.0<br># Carbs: 2.0<br># Gears: 3.0<br>Weight: 3.435\", \"Before Treatment<br>Car ID 23.0<br># Cylinders: 8.0<br># Carbs: 4.0<br># Gears: 3.0<br>Weight: 3.84\", \"Before Treatment<br>Car ID 24.0<br># Cylinders: 8.0<br># Carbs: 2.0<br># Gears: 3.0<br>Weight: 3.845\", \"Before Treatment<br>Car ID 25.0<br># Cylinders: 4.0<br># Carbs: 1.0<br># Gears: 4.0<br>Weight: 1.935\", \"Before Treatment<br>Car ID 26.0<br># Cylinders: 4.0<br># Carbs: 2.0<br># Gears: 5.0<br>Weight: 2.14\", \"Before Treatment<br>Car ID 27.0<br># Cylinders: 4.0<br># Carbs: 2.0<br># Gears: 5.0<br>Weight: 1.5130000000000001\", \"Before Treatment<br>Car ID 28.0<br># Cylinders: 8.0<br># Carbs: 4.0<br># Gears: 5.0<br>Weight: 3.17\", \"Before Treatment<br>Car ID 29.0<br># Cylinders: 6.0<br># Carbs: 6.0<br># Gears: 5.0<br>Weight: 2.77\", \"Before Treatment<br>Car ID 30.0<br># Cylinders: 8.0<br># Carbs: 8.0<br># Gears: 5.0<br>Weight: 3.57\", \"Before Treatment<br>Car ID 31.0<br># Cylinders: 4.0<br># Carbs: 2.0<br># Gears: 4.0<br>Weight: 2.78\"], \"x\": [110, 110, 93, 110, 175, 105, 245, 62, 95, 123, 123, 180, 180, 180, 205, 215, 230, 66, 52, 65, 97, 150, 150, 245, 175, 66, 91, 113, 264, 175, 335, 109], \"y\": [21.0, 21.0, 22.8, 21.4, 18.7, 18.1, 14.3, 24.4, 22.8, 19.2, 17.8, 16.4, 17.3, 15.2, 10.4, 10.4, 14.7, 32.4, 30.4, 33.9, 21.5, 15.5, 15.2, 13.3, 19.2, 27.3, 26.0, 30.4, 15.8, 19.7, 15.0, 21.4], \"type\": \"scatter\", \"uid\": \"63dbbf58-fa35-11e8-88e6-a0481cac4f9d\"}, {\"marker\": {\"color\": [\"#2D2D2A\", \"#2D2D2A\", \"#2D2D2A\", \"#2D2D2A\", \"#2D2D2A\", \"#2D2D2A\", \"#2D2D2A\", \"#2D2D2A\", \"#2D2D2A\", \"#2D2D2A\", \"#2D2D2A\", \"#2D2D2A\", \"#2D2D2A\", \"#2D2D2A\", \"#2D2D2A\", \"#2D2D2A\", \"#2D2D2A\", \"#2D2D2A\", \"#2D2D2A\", \"#2D2D2A\", \"#2D2D2A\", \"#2D2D2A\", \"#2D2D2A\", \"#2D2D2A\", \"#2D2D2A\", \"#2D2D2A\", \"#2D2D2A\", \"#2D2D2A\", \"#2D2D2A\", \"#2D2D2A\", \"#2D2D2A\", \"#2D2D2A\"]}, \"mode\": \"markers\", \"name\": \"hp_alt\", \"text\": [\"After Treatment<br>Car ID 0.0<br># Cylinders: 6.0<br># Carbs: 4.0<br># Gears: 4.0<br>Weight: 2.62\", \"After Treatment<br>Car ID 1.0<br># Cylinders: 6.0<br># Carbs: 4.0<br># Gears: 4.0<br>Weight: 2.875\", \"After Treatment<br>Car ID 2.0<br># Cylinders: 4.0<br># Carbs: 1.0<br># Gears: 4.0<br>Weight: 2.32\", \"After Treatment<br>Car ID 3.0<br># Cylinders: 6.0<br># Carbs: 1.0<br># Gears: 3.0<br>Weight: 3.215\", \"After Treatment<br>Car ID 4.0<br># Cylinders: 8.0<br># Carbs: 2.0<br># Gears: 3.0<br>Weight: 3.44\", \"After Treatment<br>Car ID 5.0<br># Cylinders: 6.0<br># Carbs: 1.0<br># Gears: 3.0<br>Weight: 3.46\", \"After Treatment<br>Car ID 6.0<br># Cylinders: 8.0<br># Carbs: 4.0<br># Gears: 3.0<br>Weight: 3.57\", \"After Treatment<br>Car ID 7.0<br># Cylinders: 4.0<br># Carbs: 2.0<br># Gears: 4.0<br>Weight: 3.19\", \"After Treatment<br>Car ID 8.0<br># Cylinders: 4.0<br># Carbs: 2.0<br># Gears: 4.0<br>Weight: 3.15\", \"After Treatment<br>Car ID 9.0<br># Cylinders: 6.0<br># Carbs: 4.0<br># Gears: 4.0<br>Weight: 3.44\", \"After Treatment<br>Car ID 10.0<br># Cylinders: 6.0<br># Carbs: 4.0<br># Gears: 4.0<br>Weight: 3.44\", \"After Treatment<br>Car ID 11.0<br># Cylinders: 8.0<br># Carbs: 3.0<br># Gears: 3.0<br>Weight: 4.07\", \"After Treatment<br>Car ID 12.0<br># Cylinders: 8.0<br># Carbs: 3.0<br># Gears: 3.0<br>Weight: 3.73\", \"After Treatment<br>Car ID 13.0<br># Cylinders: 8.0<br># Carbs: 3.0<br># Gears: 3.0<br>Weight: 3.78\", \"After Treatment<br>Car ID 14.0<br># Cylinders: 8.0<br># Carbs: 4.0<br># Gears: 3.0<br>Weight: 5.25\", \"After Treatment<br>Car ID 15.0<br># Cylinders: 8.0<br># Carbs: 4.0<br># Gears: 3.0<br>Weight: 5.4239999999999995\", \"After Treatment<br>Car ID 16.0<br># Cylinders: 8.0<br># Carbs: 4.0<br># Gears: 3.0<br>Weight: 5.345\", \"After Treatment<br>Car ID 17.0<br># Cylinders: 4.0<br># Carbs: 1.0<br># Gears: 4.0<br>Weight: 2.2\", \"After Treatment<br>Car ID 18.0<br># Cylinders: 4.0<br># Carbs: 2.0<br># Gears: 4.0<br>Weight: 1.615\", \"After Treatment<br>Car ID 19.0<br># Cylinders: 4.0<br># Carbs: 1.0<br># Gears: 4.0<br>Weight: 1.835\", \"After Treatment<br>Car ID 20.0<br># Cylinders: 4.0<br># Carbs: 1.0<br># Gears: 3.0<br>Weight: 2.465\", \"After Treatment<br>Car ID 21.0<br># Cylinders: 8.0<br># Carbs: 2.0<br># Gears: 3.0<br>Weight: 3.52\", \"After Treatment<br>Car ID 22.0<br># Cylinders: 8.0<br># Carbs: 2.0<br># Gears: 3.0<br>Weight: 3.435\", \"After Treatment<br>Car ID 23.0<br># Cylinders: 8.0<br># Carbs: 4.0<br># Gears: 3.0<br>Weight: 3.84\", \"After Treatment<br>Car ID 24.0<br># Cylinders: 8.0<br># Carbs: 2.0<br># Gears: 3.0<br>Weight: 3.845\", \"After Treatment<br>Car ID 25.0<br># Cylinders: 4.0<br># Carbs: 1.0<br># Gears: 4.0<br>Weight: 1.935\", \"After Treatment<br>Car ID 26.0<br># Cylinders: 4.0<br># Carbs: 2.0<br># Gears: 5.0<br>Weight: 2.14\", \"After Treatment<br>Car ID 27.0<br># Cylinders: 4.0<br># Carbs: 2.0<br># Gears: 5.0<br>Weight: 1.5130000000000001\", \"After Treatment<br>Car ID 28.0<br># Cylinders: 8.0<br># Carbs: 4.0<br># Gears: 5.0<br>Weight: 3.17\", \"After Treatment<br>Car ID 29.0<br># Cylinders: 6.0<br># Carbs: 6.0<br># Gears: 5.0<br>Weight: 2.77\", \"After Treatment<br>Car ID 30.0<br># Cylinders: 8.0<br># Carbs: 8.0<br># Gears: 5.0<br>Weight: 3.57\", \"After Treatment<br>Car ID 31.0<br># Cylinders: 4.0<br># Carbs: 2.0<br># Gears: 4.0<br>Weight: 2.78\"], \"x\": [104.94849650834728, 104.6445667736654, 85.3235900041831, 101.05000188834869, 168.0224916210035, 103.2661318624046, 239.74952036909312, 55.324191158226895, 87.34164681932177, 117.88955362936633, 113.55083618905718, 175.83048269012812, 176.45007998357062, 172.68226687571754, 197.98241535163152, 207.79489516379675, 224.38979137096385, 59.506854339528374, 45.640939212058484, 61.6690885243184, 90.39608336874328, 143.9426630173357, 146.3283707273426, 238.58443764087895, 169.9531272950143, 62.2933041429868, 88.27832844350428, 110.89964036815562, 259.7717761130017, 171.89786893385724, 327.8877965259679, 103.04950186921901], \"y\": [24.858687539748395, 25.49975651393703, 29.32563343660449, 27.74570419198485, 23.629976104000903, 25.458859667024974, 21.234510715733748, 28.086091259083357, 31.248990516927712, 23.572236484374308, 22.280231235536213, 22.44240957016443, 17.693708843133635, 17.676805273857042, 17.73956898201672, 10.894861526910503, 20.662747040967126, 37.762796828278915, 36.16471024340439, 37.123347475515544, 25.40645698631994, 21.964626822174118, 17.291392464794917, 19.509549774883055, 25.84540720953649, 34.0642492241159, 32.023992109122034, 35.49769361862695, 21.53002063698483, 21.693998953504078, 21.985525513461155, 28.93450235095608], \"type\": \"scatter\", \"uid\": \"63dbbf59-fa35-11e8-9e26-a0481cac4f9d\"}], {\"annotations\": [{\"showarrow\": false, \"text\": \"Fuel mileage upgrade works for most cars\", \"x\": 200, \"y\": 37}, {\"ax\": 150, \"ay\": -25, \"showarrow\": true, \"text\": \"Car 8 before upgrade\", \"x\": 95, \"y\": 22.8}, {\"ax\": 150, \"ay\": 0, \"showarrow\": true, \"text\": \"Car 8 after upgrade\", \"x\": 87.34164681932177, \"y\": 31.248990516927712}], \"hovermode\": \"closest\", \"plot_bgcolor\": \"rgb(229, 229, 229)\", \"title\": \"<b>Fuel Mileage as a Function of Horsepower</b><br><i>for mtcars data</i>\", \"xaxis\": {\"gridcolor\": \"rgb(255,255,255)\", \"tickangle\": 30, \"title\": \"Horsepower\", \"zerolinecolor\": \"rgb(255,255,255)\"}, \"yaxis\": {\"gridcolor\": \"rgb(255,255,255)\", \"title\": \"Fuel Mileage (mpg)\", \"zerolinecolor\": \"rgb(255,255,255)\"}}, {\"showLink\": true, \"linkText\": \"Export to plot.ly\"})});</script>"
      ],
      "text/vnd.plotly.v1+html": [
       "<div id=\"5e233cbf-0028-475f-8171-c212aa13267b\" style=\"height: 525px; width: 100%;\" class=\"plotly-graph-div\"></div><script type=\"text/javascript\">require([\"plotly\"], function(Plotly) { window.PLOTLYENV=window.PLOTLYENV || {};window.PLOTLYENV.BASE_URL=\"https://plot.ly\";Plotly.newPlot(\"5e233cbf-0028-475f-8171-c212aa13267b\", [{\"marker\": {\"color\": [\"#232C65\", \"#232C65\", \"#232C65\", \"#232C65\", \"#232C65\", \"#232C65\", \"#232C65\", \"#232C65\", \"#232C65\", \"#232C65\", \"#232C65\", \"#232C65\", \"#232C65\", \"#232C65\", \"#232C65\", \"#232C65\", \"#232C65\", \"#232C65\", \"#232C65\", \"#232C65\", \"#232C65\", \"#232C65\", \"#232C65\", \"#232C65\", \"#232C65\", \"#232C65\", \"#232C65\", \"#232C65\", \"#232C65\", \"#232C65\", \"#232C65\", \"#232C65\"]}, \"mode\": \"markers\", \"name\": \"hp\", \"text\": [\"Before Treatment<br>Car ID 0.0<br># Cylinders: 6.0<br># Carbs: 4.0<br># Gears: 4.0<br>Weight: 2.62\", \"Before Treatment<br>Car ID 1.0<br># Cylinders: 6.0<br># Carbs: 4.0<br># Gears: 4.0<br>Weight: 2.875\", \"Before Treatment<br>Car ID 2.0<br># Cylinders: 4.0<br># Carbs: 1.0<br># Gears: 4.0<br>Weight: 2.32\", \"Before Treatment<br>Car ID 3.0<br># Cylinders: 6.0<br># Carbs: 1.0<br># Gears: 3.0<br>Weight: 3.215\", \"Before Treatment<br>Car ID 4.0<br># Cylinders: 8.0<br># Carbs: 2.0<br># Gears: 3.0<br>Weight: 3.44\", \"Before Treatment<br>Car ID 5.0<br># Cylinders: 6.0<br># Carbs: 1.0<br># Gears: 3.0<br>Weight: 3.46\", \"Before Treatment<br>Car ID 6.0<br># Cylinders: 8.0<br># Carbs: 4.0<br># Gears: 3.0<br>Weight: 3.57\", \"Before Treatment<br>Car ID 7.0<br># Cylinders: 4.0<br># Carbs: 2.0<br># Gears: 4.0<br>Weight: 3.19\", \"Before Treatment<br>Car ID 8.0<br># Cylinders: 4.0<br># Carbs: 2.0<br># Gears: 4.0<br>Weight: 3.15\", \"Before Treatment<br>Car ID 9.0<br># Cylinders: 6.0<br># Carbs: 4.0<br># Gears: 4.0<br>Weight: 3.44\", \"Before Treatment<br>Car ID 10.0<br># Cylinders: 6.0<br># Carbs: 4.0<br># Gears: 4.0<br>Weight: 3.44\", \"Before Treatment<br>Car ID 11.0<br># Cylinders: 8.0<br># Carbs: 3.0<br># Gears: 3.0<br>Weight: 4.07\", \"Before Treatment<br>Car ID 12.0<br># Cylinders: 8.0<br># Carbs: 3.0<br># Gears: 3.0<br>Weight: 3.73\", \"Before Treatment<br>Car ID 13.0<br># Cylinders: 8.0<br># Carbs: 3.0<br># Gears: 3.0<br>Weight: 3.78\", \"Before Treatment<br>Car ID 14.0<br># Cylinders: 8.0<br># Carbs: 4.0<br># Gears: 3.0<br>Weight: 5.25\", \"Before Treatment<br>Car ID 15.0<br># Cylinders: 8.0<br># Carbs: 4.0<br># Gears: 3.0<br>Weight: 5.4239999999999995\", \"Before Treatment<br>Car ID 16.0<br># Cylinders: 8.0<br># Carbs: 4.0<br># Gears: 3.0<br>Weight: 5.345\", \"Before Treatment<br>Car ID 17.0<br># Cylinders: 4.0<br># Carbs: 1.0<br># Gears: 4.0<br>Weight: 2.2\", \"Before Treatment<br>Car ID 18.0<br># Cylinders: 4.0<br># Carbs: 2.0<br># Gears: 4.0<br>Weight: 1.615\", \"Before Treatment<br>Car ID 19.0<br># Cylinders: 4.0<br># Carbs: 1.0<br># Gears: 4.0<br>Weight: 1.835\", \"Before Treatment<br>Car ID 20.0<br># Cylinders: 4.0<br># Carbs: 1.0<br># Gears: 3.0<br>Weight: 2.465\", \"Before Treatment<br>Car ID 21.0<br># Cylinders: 8.0<br># Carbs: 2.0<br># Gears: 3.0<br>Weight: 3.52\", \"Before Treatment<br>Car ID 22.0<br># Cylinders: 8.0<br># Carbs: 2.0<br># Gears: 3.0<br>Weight: 3.435\", \"Before Treatment<br>Car ID 23.0<br># Cylinders: 8.0<br># Carbs: 4.0<br># Gears: 3.0<br>Weight: 3.84\", \"Before Treatment<br>Car ID 24.0<br># Cylinders: 8.0<br># Carbs: 2.0<br># Gears: 3.0<br>Weight: 3.845\", \"Before Treatment<br>Car ID 25.0<br># Cylinders: 4.0<br># Carbs: 1.0<br># Gears: 4.0<br>Weight: 1.935\", \"Before Treatment<br>Car ID 26.0<br># Cylinders: 4.0<br># Carbs: 2.0<br># Gears: 5.0<br>Weight: 2.14\", \"Before Treatment<br>Car ID 27.0<br># Cylinders: 4.0<br># Carbs: 2.0<br># Gears: 5.0<br>Weight: 1.5130000000000001\", \"Before Treatment<br>Car ID 28.0<br># Cylinders: 8.0<br># Carbs: 4.0<br># Gears: 5.0<br>Weight: 3.17\", \"Before Treatment<br>Car ID 29.0<br># Cylinders: 6.0<br># Carbs: 6.0<br># Gears: 5.0<br>Weight: 2.77\", \"Before Treatment<br>Car ID 30.0<br># Cylinders: 8.0<br># Carbs: 8.0<br># Gears: 5.0<br>Weight: 3.57\", \"Before Treatment<br>Car ID 31.0<br># Cylinders: 4.0<br># Carbs: 2.0<br># Gears: 4.0<br>Weight: 2.78\"], \"x\": [110, 110, 93, 110, 175, 105, 245, 62, 95, 123, 123, 180, 180, 180, 205, 215, 230, 66, 52, 65, 97, 150, 150, 245, 175, 66, 91, 113, 264, 175, 335, 109], \"y\": [21.0, 21.0, 22.8, 21.4, 18.7, 18.1, 14.3, 24.4, 22.8, 19.2, 17.8, 16.4, 17.3, 15.2, 10.4, 10.4, 14.7, 32.4, 30.4, 33.9, 21.5, 15.5, 15.2, 13.3, 19.2, 27.3, 26.0, 30.4, 15.8, 19.7, 15.0, 21.4], \"type\": \"scatter\", \"uid\": \"63dbbf58-fa35-11e8-88e6-a0481cac4f9d\"}, {\"marker\": {\"color\": [\"#2D2D2A\", \"#2D2D2A\", \"#2D2D2A\", \"#2D2D2A\", \"#2D2D2A\", \"#2D2D2A\", \"#2D2D2A\", \"#2D2D2A\", \"#2D2D2A\", \"#2D2D2A\", \"#2D2D2A\", \"#2D2D2A\", \"#2D2D2A\", \"#2D2D2A\", \"#2D2D2A\", \"#2D2D2A\", \"#2D2D2A\", \"#2D2D2A\", \"#2D2D2A\", \"#2D2D2A\", \"#2D2D2A\", \"#2D2D2A\", \"#2D2D2A\", \"#2D2D2A\", \"#2D2D2A\", \"#2D2D2A\", \"#2D2D2A\", \"#2D2D2A\", \"#2D2D2A\", \"#2D2D2A\", \"#2D2D2A\", \"#2D2D2A\"]}, \"mode\": \"markers\", \"name\": \"hp_alt\", \"text\": [\"After Treatment<br>Car ID 0.0<br># Cylinders: 6.0<br># Carbs: 4.0<br># Gears: 4.0<br>Weight: 2.62\", \"After Treatment<br>Car ID 1.0<br># Cylinders: 6.0<br># Carbs: 4.0<br># Gears: 4.0<br>Weight: 2.875\", \"After Treatment<br>Car ID 2.0<br># Cylinders: 4.0<br># Carbs: 1.0<br># Gears: 4.0<br>Weight: 2.32\", \"After Treatment<br>Car ID 3.0<br># Cylinders: 6.0<br># Carbs: 1.0<br># Gears: 3.0<br>Weight: 3.215\", \"After Treatment<br>Car ID 4.0<br># Cylinders: 8.0<br># Carbs: 2.0<br># Gears: 3.0<br>Weight: 3.44\", \"After Treatment<br>Car ID 5.0<br># Cylinders: 6.0<br># Carbs: 1.0<br># Gears: 3.0<br>Weight: 3.46\", \"After Treatment<br>Car ID 6.0<br># Cylinders: 8.0<br># Carbs: 4.0<br># Gears: 3.0<br>Weight: 3.57\", \"After Treatment<br>Car ID 7.0<br># Cylinders: 4.0<br># Carbs: 2.0<br># Gears: 4.0<br>Weight: 3.19\", \"After Treatment<br>Car ID 8.0<br># Cylinders: 4.0<br># Carbs: 2.0<br># Gears: 4.0<br>Weight: 3.15\", \"After Treatment<br>Car ID 9.0<br># Cylinders: 6.0<br># Carbs: 4.0<br># Gears: 4.0<br>Weight: 3.44\", \"After Treatment<br>Car ID 10.0<br># Cylinders: 6.0<br># Carbs: 4.0<br># Gears: 4.0<br>Weight: 3.44\", \"After Treatment<br>Car ID 11.0<br># Cylinders: 8.0<br># Carbs: 3.0<br># Gears: 3.0<br>Weight: 4.07\", \"After Treatment<br>Car ID 12.0<br># Cylinders: 8.0<br># Carbs: 3.0<br># Gears: 3.0<br>Weight: 3.73\", \"After Treatment<br>Car ID 13.0<br># Cylinders: 8.0<br># Carbs: 3.0<br># Gears: 3.0<br>Weight: 3.78\", \"After Treatment<br>Car ID 14.0<br># Cylinders: 8.0<br># Carbs: 4.0<br># Gears: 3.0<br>Weight: 5.25\", \"After Treatment<br>Car ID 15.0<br># Cylinders: 8.0<br># Carbs: 4.0<br># Gears: 3.0<br>Weight: 5.4239999999999995\", \"After Treatment<br>Car ID 16.0<br># Cylinders: 8.0<br># Carbs: 4.0<br># Gears: 3.0<br>Weight: 5.345\", \"After Treatment<br>Car ID 17.0<br># Cylinders: 4.0<br># Carbs: 1.0<br># Gears: 4.0<br>Weight: 2.2\", \"After Treatment<br>Car ID 18.0<br># Cylinders: 4.0<br># Carbs: 2.0<br># Gears: 4.0<br>Weight: 1.615\", \"After Treatment<br>Car ID 19.0<br># Cylinders: 4.0<br># Carbs: 1.0<br># Gears: 4.0<br>Weight: 1.835\", \"After Treatment<br>Car ID 20.0<br># Cylinders: 4.0<br># Carbs: 1.0<br># Gears: 3.0<br>Weight: 2.465\", \"After Treatment<br>Car ID 21.0<br># Cylinders: 8.0<br># Carbs: 2.0<br># Gears: 3.0<br>Weight: 3.52\", \"After Treatment<br>Car ID 22.0<br># Cylinders: 8.0<br># Carbs: 2.0<br># Gears: 3.0<br>Weight: 3.435\", \"After Treatment<br>Car ID 23.0<br># Cylinders: 8.0<br># Carbs: 4.0<br># Gears: 3.0<br>Weight: 3.84\", \"After Treatment<br>Car ID 24.0<br># Cylinders: 8.0<br># Carbs: 2.0<br># Gears: 3.0<br>Weight: 3.845\", \"After Treatment<br>Car ID 25.0<br># Cylinders: 4.0<br># Carbs: 1.0<br># Gears: 4.0<br>Weight: 1.935\", \"After Treatment<br>Car ID 26.0<br># Cylinders: 4.0<br># Carbs: 2.0<br># Gears: 5.0<br>Weight: 2.14\", \"After Treatment<br>Car ID 27.0<br># Cylinders: 4.0<br># Carbs: 2.0<br># Gears: 5.0<br>Weight: 1.5130000000000001\", \"After Treatment<br>Car ID 28.0<br># Cylinders: 8.0<br># Carbs: 4.0<br># Gears: 5.0<br>Weight: 3.17\", \"After Treatment<br>Car ID 29.0<br># Cylinders: 6.0<br># Carbs: 6.0<br># Gears: 5.0<br>Weight: 2.77\", \"After Treatment<br>Car ID 30.0<br># Cylinders: 8.0<br># Carbs: 8.0<br># Gears: 5.0<br>Weight: 3.57\", \"After Treatment<br>Car ID 31.0<br># Cylinders: 4.0<br># Carbs: 2.0<br># Gears: 4.0<br>Weight: 2.78\"], \"x\": [104.94849650834728, 104.6445667736654, 85.3235900041831, 101.05000188834869, 168.0224916210035, 103.2661318624046, 239.74952036909312, 55.324191158226895, 87.34164681932177, 117.88955362936633, 113.55083618905718, 175.83048269012812, 176.45007998357062, 172.68226687571754, 197.98241535163152, 207.79489516379675, 224.38979137096385, 59.506854339528374, 45.640939212058484, 61.6690885243184, 90.39608336874328, 143.9426630173357, 146.3283707273426, 238.58443764087895, 169.9531272950143, 62.2933041429868, 88.27832844350428, 110.89964036815562, 259.7717761130017, 171.89786893385724, 327.8877965259679, 103.04950186921901], \"y\": [24.858687539748395, 25.49975651393703, 29.32563343660449, 27.74570419198485, 23.629976104000903, 25.458859667024974, 21.234510715733748, 28.086091259083357, 31.248990516927712, 23.572236484374308, 22.280231235536213, 22.44240957016443, 17.693708843133635, 17.676805273857042, 17.73956898201672, 10.894861526910503, 20.662747040967126, 37.762796828278915, 36.16471024340439, 37.123347475515544, 25.40645698631994, 21.964626822174118, 17.291392464794917, 19.509549774883055, 25.84540720953649, 34.0642492241159, 32.023992109122034, 35.49769361862695, 21.53002063698483, 21.693998953504078, 21.985525513461155, 28.93450235095608], \"type\": \"scatter\", \"uid\": \"63dbbf59-fa35-11e8-9e26-a0481cac4f9d\"}], {\"annotations\": [{\"showarrow\": false, \"text\": \"Fuel mileage upgrade works for most cars\", \"x\": 200, \"y\": 37}, {\"ax\": 150, \"ay\": -25, \"showarrow\": true, \"text\": \"Car 8 before upgrade\", \"x\": 95, \"y\": 22.8}, {\"ax\": 150, \"ay\": 0, \"showarrow\": true, \"text\": \"Car 8 after upgrade\", \"x\": 87.34164681932177, \"y\": 31.248990516927712}], \"hovermode\": \"closest\", \"plot_bgcolor\": \"rgb(229, 229, 229)\", \"title\": \"<b>Fuel Mileage as a Function of Horsepower</b><br><i>for mtcars data</i>\", \"xaxis\": {\"gridcolor\": \"rgb(255,255,255)\", \"tickangle\": 30, \"title\": \"Horsepower\", \"zerolinecolor\": \"rgb(255,255,255)\"}, \"yaxis\": {\"gridcolor\": \"rgb(255,255,255)\", \"title\": \"Fuel Mileage (mpg)\", \"zerolinecolor\": \"rgb(255,255,255)\"}}, {\"showLink\": true, \"linkText\": \"Export to plot.ly\"})});</script>"
      ]
     },
     "metadata": {},
     "output_type": "display_data"
    }
   ],
   "source": [
    "# build graph args \n",
    "args['x_data'] = [x_data, x_data_treat]\n",
    "args['y_data'] = [y_data, y_data_treat]\n",
    "args['names'] = names\n",
    "args['colors'] = colors\n",
    "args['title'] = '<b>Fuel Mileage as a Function of Horsepower</b><br><i>for mtcars data</i>'\n",
    "args['xlab'] = 'Horsepower'\n",
    "args['ylab'] = 'Fuel Mileage (mpg)'\n",
    "\n",
    "# set up callout text \n",
    "sl = y_data.join(y_data_treat)\n",
    "sl['diff'] = sl.mpg_alt - sl.mpg\n",
    "cid = (sl[(sl.mpg < sl.mpg_alt)]\n",
    "         .sort_values(by=['diff'], ascending=False).index[0])\n",
    "\n",
    "x1_loc = x_data.iloc[cid].values[0]\n",
    "x2_loc = x_data_treat.iloc[cid].values[0]\n",
    "\n",
    "y1_loc = y_data.iloc[cid].values[0]\n",
    "y2_loc = y_data_treat.iloc[cid].values[0]\n",
    "\n",
    "c1 = {'text':'Car %s before upgrade' % cid, 'x':x1_loc, 'y':y1_loc, \n",
    "      'showarrow':True, 'ax':150, 'ay':-25}\n",
    "\n",
    "c2 = {'text':'Car %s after upgrade' % cid, 'x':x2_loc, 'y':y2_loc, \n",
    "      'showarrow':True, 'ax':150, 'ay':0}\n",
    "\n",
    "text = 'Fuel mileage upgrade works for most cars'\n",
    "args['annotations'] = [{'text':text, 'x':200, 'y':37, 'showarrow':False}, \n",
    "                       c1, c2]\n",
    "\n",
    "# display plot\n",
    "fig = scatterplot.create_graph(**args)"
   ]
  },
  {
   "cell_type": "code",
   "execution_count": 68,
   "metadata": {},
   "outputs": [],
   "source": [
    "# write graph to html file \n",
    "fp = 'scatterplot-example.html'\n",
    "barplot.output_graph(fig, fp)"
   ]
  },
  {
   "cell_type": "code",
   "execution_count": 69,
   "metadata": {},
   "outputs": [],
   "source": [
    "# write graph to png file \n",
    "fp = 'scatterplot-example.png'\n",
    "barplot.output_graph(fig, fp)"
   ]
  }
 ],
 "metadata": {
  "kernelspec": {
   "display_name": "Python 3",
   "language": "python",
   "name": "python3"
  },
  "language_info": {
   "codemirror_mode": {
    "name": "ipython",
    "version": 3
   },
   "file_extension": ".py",
   "mimetype": "text/x-python",
   "name": "python",
   "nbconvert_exporter": "python",
   "pygments_lexer": "ipython3",
   "version": "3.6.6"
  },
  "toc": {
   "base_numbering": 1,
   "nav_menu": {},
   "number_sections": true,
   "sideBar": true,
   "skip_h1_title": false,
   "title_cell": "Table of Contents",
   "title_sidebar": "Contents",
   "toc_cell": false,
   "toc_position": {},
   "toc_section_display": true,
   "toc_window_display": false
  }
 },
 "nbformat": 4,
 "nbformat_minor": 2
}
