{
 "cells": [
  {
   "cell_type": "code",
   "execution_count": 1,
   "metadata": {},
   "outputs": [],
   "source": [
    "import pandas as pd\n",
    "import numpy as np\n",
    "import string"
   ]
  },
  {
   "cell_type": "markdown",
   "metadata": {},
   "source": [
    "# Load Data"
   ]
  },
  {
   "cell_type": "code",
   "execution_count": 2,
   "metadata": {},
   "outputs": [
    {
     "name": "stdout",
     "output_type": "stream",
     "text": [
      "(32, 11)\n"
     ]
    },
    {
     "data": {
      "text/html": [
       "<div>\n",
       "<style scoped>\n",
       "    .dataframe tbody tr th:only-of-type {\n",
       "        vertical-align: middle;\n",
       "    }\n",
       "\n",
       "    .dataframe tbody tr th {\n",
       "        vertical-align: top;\n",
       "    }\n",
       "\n",
       "    .dataframe thead th {\n",
       "        text-align: right;\n",
       "    }\n",
       "</style>\n",
       "<table border=\"1\" class=\"dataframe\">\n",
       "  <thead>\n",
       "    <tr style=\"text-align: right;\">\n",
       "      <th></th>\n",
       "      <th>mpg</th>\n",
       "      <th>cyl</th>\n",
       "      <th>disp</th>\n",
       "      <th>hp</th>\n",
       "      <th>drat</th>\n",
       "      <th>wt</th>\n",
       "      <th>qsec</th>\n",
       "      <th>vs</th>\n",
       "      <th>am</th>\n",
       "      <th>gear</th>\n",
       "      <th>carb</th>\n",
       "    </tr>\n",
       "  </thead>\n",
       "  <tbody>\n",
       "    <tr>\n",
       "      <th>0</th>\n",
       "      <td>21.0</td>\n",
       "      <td>6</td>\n",
       "      <td>160.0</td>\n",
       "      <td>110</td>\n",
       "      <td>3.90</td>\n",
       "      <td>2.620</td>\n",
       "      <td>16.46</td>\n",
       "      <td>0</td>\n",
       "      <td>1</td>\n",
       "      <td>4</td>\n",
       "      <td>4</td>\n",
       "    </tr>\n",
       "    <tr>\n",
       "      <th>1</th>\n",
       "      <td>21.0</td>\n",
       "      <td>6</td>\n",
       "      <td>160.0</td>\n",
       "      <td>110</td>\n",
       "      <td>3.90</td>\n",
       "      <td>2.875</td>\n",
       "      <td>17.02</td>\n",
       "      <td>0</td>\n",
       "      <td>1</td>\n",
       "      <td>4</td>\n",
       "      <td>4</td>\n",
       "    </tr>\n",
       "    <tr>\n",
       "      <th>2</th>\n",
       "      <td>22.8</td>\n",
       "      <td>4</td>\n",
       "      <td>108.0</td>\n",
       "      <td>93</td>\n",
       "      <td>3.85</td>\n",
       "      <td>2.320</td>\n",
       "      <td>18.61</td>\n",
       "      <td>1</td>\n",
       "      <td>1</td>\n",
       "      <td>4</td>\n",
       "      <td>1</td>\n",
       "    </tr>\n",
       "    <tr>\n",
       "      <th>3</th>\n",
       "      <td>21.4</td>\n",
       "      <td>6</td>\n",
       "      <td>258.0</td>\n",
       "      <td>110</td>\n",
       "      <td>3.08</td>\n",
       "      <td>3.215</td>\n",
       "      <td>19.44</td>\n",
       "      <td>1</td>\n",
       "      <td>0</td>\n",
       "      <td>3</td>\n",
       "      <td>1</td>\n",
       "    </tr>\n",
       "    <tr>\n",
       "      <th>4</th>\n",
       "      <td>18.7</td>\n",
       "      <td>8</td>\n",
       "      <td>360.0</td>\n",
       "      <td>175</td>\n",
       "      <td>3.15</td>\n",
       "      <td>3.440</td>\n",
       "      <td>17.02</td>\n",
       "      <td>0</td>\n",
       "      <td>0</td>\n",
       "      <td>3</td>\n",
       "      <td>2</td>\n",
       "    </tr>\n",
       "  </tbody>\n",
       "</table>\n",
       "</div>"
      ],
      "text/plain": [
       "    mpg  cyl   disp   hp  drat     wt   qsec  vs  am  gear  carb\n",
       "0  21.0    6  160.0  110  3.90  2.620  16.46   0   1     4     4\n",
       "1  21.0    6  160.0  110  3.90  2.875  17.02   0   1     4     4\n",
       "2  22.8    4  108.0   93  3.85  2.320  18.61   1   1     4     1\n",
       "3  21.4    6  258.0  110  3.08  3.215  19.44   1   0     3     1\n",
       "4  18.7    8  360.0  175  3.15  3.440  17.02   0   0     3     2"
      ]
     },
     "execution_count": 2,
     "metadata": {},
     "output_type": "execute_result"
    }
   ],
   "source": [
    "# load example mtcars data \n",
    "df = pd.read_csv('mtcars.csv')\n",
    "print(df.shape)\n",
    "df.head()"
   ]
  },
  {
   "cell_type": "markdown",
   "metadata": {},
   "source": [
    "# Create Simple Barplot"
   ]
  },
  {
   "cell_type": "code",
   "execution_count": 3,
   "metadata": {},
   "outputs": [],
   "source": [
    "from rapid_plotly import barplot"
   ]
  },
  {
   "cell_type": "markdown",
   "metadata": {},
   "source": [
    "A simple barplot can be created by passing three dataframes to `barplot.create_graph`:\n",
    "\n",
    "* `in_data` - the height of the bars\n",
    "* `names` - a dataframe containing the hover text for the bars, otherwise identical to `in_data`\n",
    "* `errors` - a dataframe containing the half-height of the error bars, otherwise identical to `in_data`"
   ]
  },
  {
   "cell_type": "code",
   "execution_count": 4,
   "metadata": {},
   "outputs": [
    {
     "name": "stdout",
     "output_type": "stream",
     "text": [
      "main data:\n"
     ]
    },
    {
     "data": {
      "text/html": [
       "<div>\n",
       "<style scoped>\n",
       "    .dataframe tbody tr th:only-of-type {\n",
       "        vertical-align: middle;\n",
       "    }\n",
       "\n",
       "    .dataframe tbody tr th {\n",
       "        vertical-align: top;\n",
       "    }\n",
       "\n",
       "    .dataframe thead th {\n",
       "        text-align: right;\n",
       "    }\n",
       "</style>\n",
       "<table border=\"1\" class=\"dataframe\">\n",
       "  <thead>\n",
       "    <tr style=\"text-align: right;\">\n",
       "      <th></th>\n",
       "      <th>mpg</th>\n",
       "    </tr>\n",
       "  </thead>\n",
       "  <tbody>\n",
       "    <tr>\n",
       "      <th>4 Cylinders</th>\n",
       "      <td>26.663636</td>\n",
       "    </tr>\n",
       "    <tr>\n",
       "      <th>6 Cylinders</th>\n",
       "      <td>19.742857</td>\n",
       "    </tr>\n",
       "    <tr>\n",
       "      <th>8 Cylinders</th>\n",
       "      <td>15.100000</td>\n",
       "    </tr>\n",
       "  </tbody>\n",
       "</table>\n",
       "</div>"
      ],
      "text/plain": [
       "                   mpg\n",
       "4 Cylinders  26.663636\n",
       "6 Cylinders  19.742857\n",
       "8 Cylinders  15.100000"
      ]
     },
     "metadata": {},
     "output_type": "display_data"
    },
    {
     "name": "stdout",
     "output_type": "stream",
     "text": [
      "names:\n"
     ]
    },
    {
     "data": {
      "text/html": [
       "<div>\n",
       "<style scoped>\n",
       "    .dataframe tbody tr th:only-of-type {\n",
       "        vertical-align: middle;\n",
       "    }\n",
       "\n",
       "    .dataframe tbody tr th {\n",
       "        vertical-align: top;\n",
       "    }\n",
       "\n",
       "    .dataframe thead th {\n",
       "        text-align: right;\n",
       "    }\n",
       "</style>\n",
       "<table border=\"1\" class=\"dataframe\">\n",
       "  <thead>\n",
       "    <tr style=\"text-align: right;\">\n",
       "      <th></th>\n",
       "      <th>mpg</th>\n",
       "    </tr>\n",
       "  </thead>\n",
       "  <tbody>\n",
       "    <tr>\n",
       "      <th>4 Cylinders</th>\n",
       "      <td>dd</td>\n",
       "    </tr>\n",
       "    <tr>\n",
       "      <th>6 Cylinders</th>\n",
       "      <td>ol</td>\n",
       "    </tr>\n",
       "    <tr>\n",
       "      <th>8 Cylinders</th>\n",
       "      <td>ho</td>\n",
       "    </tr>\n",
       "  </tbody>\n",
       "</table>\n",
       "</div>"
      ],
      "text/plain": [
       "            mpg\n",
       "4 Cylinders  dd\n",
       "6 Cylinders  ol\n",
       "8 Cylinders  ho"
      ]
     },
     "metadata": {},
     "output_type": "display_data"
    },
    {
     "name": "stdout",
     "output_type": "stream",
     "text": [
      "errors:\n"
     ]
    },
    {
     "data": {
      "text/html": [
       "<div>\n",
       "<style scoped>\n",
       "    .dataframe tbody tr th:only-of-type {\n",
       "        vertical-align: middle;\n",
       "    }\n",
       "\n",
       "    .dataframe tbody tr th {\n",
       "        vertical-align: top;\n",
       "    }\n",
       "\n",
       "    .dataframe thead th {\n",
       "        text-align: right;\n",
       "    }\n",
       "</style>\n",
       "<table border=\"1\" class=\"dataframe\">\n",
       "  <thead>\n",
       "    <tr style=\"text-align: right;\">\n",
       "      <th></th>\n",
       "      <th>mpg</th>\n",
       "    </tr>\n",
       "  </thead>\n",
       "  <tbody>\n",
       "    <tr>\n",
       "      <th>4 Cylinders</th>\n",
       "      <td>2.5</td>\n",
       "    </tr>\n",
       "    <tr>\n",
       "      <th>6 Cylinders</th>\n",
       "      <td>2.5</td>\n",
       "    </tr>\n",
       "    <tr>\n",
       "      <th>8 Cylinders</th>\n",
       "      <td>2.5</td>\n",
       "    </tr>\n",
       "  </tbody>\n",
       "</table>\n",
       "</div>"
      ],
      "text/plain": [
       "             mpg\n",
       "4 Cylinders  2.5\n",
       "6 Cylinders  2.5\n",
       "8 Cylinders  2.5"
      ]
     },
     "metadata": {},
     "output_type": "display_data"
    }
   ],
   "source": [
    "# create graph data \n",
    "in_data = pd.DataFrame(df.groupby('cyl').mean()['mpg'])\n",
    "in_data.index = in_data.index.astype(int).astype(str) + ' Cylinders'\n",
    "print('main data:')\n",
    "display(in_data.head())\n",
    "\n",
    "# generate names\n",
    "l = string.ascii_lowercase\n",
    "names = in_data.copy()\n",
    "f = lambda: l[np.random.randint(0,len(l))]\n",
    "\n",
    "for x in names.index:\n",
    "    names.loc[x, 'mpg'] = f()+f()\n",
    "    \n",
    "print('names:')\n",
    "display(names.head())\n",
    "\n",
    "# generate error bars data\n",
    "errors = in_data.copy()\n",
    "errors['mpg'] = 2.5\n",
    "print('errors:')\n",
    "display(errors.head())"
   ]
  },
  {
   "cell_type": "markdown",
   "metadata": {},
   "source": [
    "A simple graph can be quickly created to verify that the data is as expected:"
   ]
  },
  {
   "cell_type": "code",
   "execution_count": 5,
   "metadata": {},
   "outputs": [
    {
     "data": {
      "text/html": [
       "<script type=\"text/javascript\">window.PlotlyConfig = {MathJaxConfig: 'local'};</script><script type=\"text/javascript\">if (window.MathJax) {MathJax.Hub.Config({SVG: {font: \"STIX-Web\"}});}</script><script>requirejs.config({paths: { 'plotly': ['https://cdn.plot.ly/plotly-latest.min']},});if(!window._Plotly) {require(['plotly'],function(plotly) {window._Plotly=plotly;});}</script>"
      ],
      "text/vnd.plotly.v1+html": [
       "<script type=\"text/javascript\">window.PlotlyConfig = {MathJaxConfig: 'local'};</script><script type=\"text/javascript\">if (window.MathJax) {MathJax.Hub.Config({SVG: {font: \"STIX-Web\"}});}</script><script>requirejs.config({paths: { 'plotly': ['https://cdn.plot.ly/plotly-latest.min']},});if(!window._Plotly) {require(['plotly'],function(plotly) {window._Plotly=plotly;});}</script>"
      ]
     },
     "metadata": {},
     "output_type": "display_data"
    },
    {
     "data": {
      "application/vnd.plotly.v1+json": {
       "config": {
        "linkText": "Export to plot.ly",
        "plotlyServerURL": "https://plot.ly",
        "showLink": true
       },
       "data": [
        {
         "marker": {
          "color": "#232C65"
         },
         "name": "mpg",
         "text": "mpg",
         "type": "bar",
         "uid": "68e3947d-993a-4945-b7cb-21034818fbf3",
         "x": [
          "4 Cylinders",
          "6 Cylinders",
          "8 Cylinders"
         ],
         "y": [
          26.663636363636364,
          19.74285714285714,
          15.100000000000003
         ]
        }
       ],
       "layout": {
        "hovermode": "x",
        "plot_bgcolor": "rgb(229, 229, 229)",
        "title": "title",
        "xaxis": {
         "gridcolor": "rgb(255,255,255)",
         "tickangle": 30,
         "title": "xlab",
         "zerolinecolor": "rgb(255,255,255)"
        },
        "yaxis": {
         "gridcolor": "rgb(255,255,255)",
         "title": "ylab",
         "zerolinecolor": "rgb(255,255,255)"
        }
       }
      },
      "text/html": [
       "<div id=\"731e3c3e-85fc-4056-8094-ace80d8fb217\" style=\"height: 525px; width: 100%;\" class=\"plotly-graph-div\"></div><script type=\"text/javascript\">require([\"plotly\"], function(Plotly) { window.PLOTLYENV=window.PLOTLYENV || {};window.PLOTLYENV.BASE_URL=\"https://plot.ly\";Plotly.newPlot(\"731e3c3e-85fc-4056-8094-ace80d8fb217\", [{\"marker\": {\"color\": \"#232C65\"}, \"name\": \"mpg\", \"text\": \"mpg\", \"x\": [\"4 Cylinders\", \"6 Cylinders\", \"8 Cylinders\"], \"y\": [26.663636363636364, 19.74285714285714, 15.100000000000003], \"type\": \"bar\", \"uid\": \"68e3947d-993a-4945-b7cb-21034818fbf3\"}], {\"hovermode\": \"x\", \"plot_bgcolor\": \"rgb(229, 229, 229)\", \"title\": \"title\", \"xaxis\": {\"gridcolor\": \"rgb(255,255,255)\", \"tickangle\": 30, \"title\": \"xlab\", \"zerolinecolor\": \"rgb(255,255,255)\"}, \"yaxis\": {\"gridcolor\": \"rgb(255,255,255)\", \"title\": \"ylab\", \"zerolinecolor\": \"rgb(255,255,255)\"}}, {\"showLink\": true, \"linkText\": \"Export to plot.ly\", \"plotlyServerURL\": \"https://plot.ly\"})});</script><script type=\"text/javascript\">window.addEventListener(\"resize\", function(){window._Plotly.Plots.resize(document.getElementById(\"731e3c3e-85fc-4056-8094-ace80d8fb217\"));});</script>"
      ],
      "text/vnd.plotly.v1+html": [
       "<div id=\"731e3c3e-85fc-4056-8094-ace80d8fb217\" style=\"height: 525px; width: 100%;\" class=\"plotly-graph-div\"></div><script type=\"text/javascript\">require([\"plotly\"], function(Plotly) { window.PLOTLYENV=window.PLOTLYENV || {};window.PLOTLYENV.BASE_URL=\"https://plot.ly\";Plotly.newPlot(\"731e3c3e-85fc-4056-8094-ace80d8fb217\", [{\"marker\": {\"color\": \"#232C65\"}, \"name\": \"mpg\", \"text\": \"mpg\", \"x\": [\"4 Cylinders\", \"6 Cylinders\", \"8 Cylinders\"], \"y\": [26.663636363636364, 19.74285714285714, 15.100000000000003], \"type\": \"bar\", \"uid\": \"68e3947d-993a-4945-b7cb-21034818fbf3\"}], {\"hovermode\": \"x\", \"plot_bgcolor\": \"rgb(229, 229, 229)\", \"title\": \"title\", \"xaxis\": {\"gridcolor\": \"rgb(255,255,255)\", \"tickangle\": 30, \"title\": \"xlab\", \"zerolinecolor\": \"rgb(255,255,255)\"}, \"yaxis\": {\"gridcolor\": \"rgb(255,255,255)\", \"title\": \"ylab\", \"zerolinecolor\": \"rgb(255,255,255)\"}}, {\"showLink\": true, \"linkText\": \"Export to plot.ly\", \"plotlyServerURL\": \"https://plot.ly\"})});</script><script type=\"text/javascript\">window.addEventListener(\"resize\", function(){window._Plotly.Plots.resize(document.getElementById(\"731e3c3e-85fc-4056-8094-ace80d8fb217\"));});</script>"
      ]
     },
     "metadata": {},
     "output_type": "display_data"
    }
   ],
   "source": [
    "# create input data for graph \n",
    "args = dict(\n",
    "    in_data=in_data\n",
    ")\n",
    "\n",
    "# view plot inline \n",
    "fig = barplot.create_graph(**args)"
   ]
  },
  {
   "cell_type": "markdown",
   "metadata": {},
   "source": [
    "Now that the graph appears to be as expected, more characteristics can be added by adding them to `args`:"
   ]
  },
  {
   "cell_type": "code",
   "execution_count": 6,
   "metadata": {},
   "outputs": [],
   "source": [
    "# add additional characteristics to graph\n",
    "title = '<b>Fuel Mileage by Number of Cylinders</b>'\n",
    "title += '<br><i>for mtcars data</i>'\n",
    "args['title'] = title\n",
    "args['names'] = names\n",
    "args['errors'] = errors\n",
    "args['xlab'] = 'Number of Cylinders'\n",
    "args['ylab'] = 'Miles Per Gallon'\n",
    "args['annotations'] = [{'text':'More cylinders correlates to better<br> fuel mileage', 'x':1.5, 'y':24.5, 'showarrow':False}]"
   ]
  },
  {
   "cell_type": "markdown",
   "metadata": {},
   "source": [
    "Preview the results again:"
   ]
  },
  {
   "cell_type": "code",
   "execution_count": 7,
   "metadata": {},
   "outputs": [
    {
     "data": {
      "text/html": [
       "<script type=\"text/javascript\">window.PlotlyConfig = {MathJaxConfig: 'local'};</script><script type=\"text/javascript\">if (window.MathJax) {MathJax.Hub.Config({SVG: {font: \"STIX-Web\"}});}</script><script>requirejs.config({paths: { 'plotly': ['https://cdn.plot.ly/plotly-latest.min']},});if(!window._Plotly) {require(['plotly'],function(plotly) {window._Plotly=plotly;});}</script>"
      ],
      "text/vnd.plotly.v1+html": [
       "<script type=\"text/javascript\">window.PlotlyConfig = {MathJaxConfig: 'local'};</script><script type=\"text/javascript\">if (window.MathJax) {MathJax.Hub.Config({SVG: {font: \"STIX-Web\"}});}</script><script>requirejs.config({paths: { 'plotly': ['https://cdn.plot.ly/plotly-latest.min']},});if(!window._Plotly) {require(['plotly'],function(plotly) {window._Plotly=plotly;});}</script>"
      ]
     },
     "metadata": {},
     "output_type": "display_data"
    },
    {
     "data": {
      "application/vnd.plotly.v1+json": {
       "config": {
        "linkText": "Export to plot.ly",
        "plotlyServerURL": "https://plot.ly",
        "showLink": true
       },
       "data": [
        {
         "error_y": {
          "array": [
           2.5,
           2.5,
           2.5
          ],
          "thickness": 4,
          "type": "data",
          "visible": true,
          "width": 5
         },
         "marker": {
          "color": "#232C65"
         },
         "name": "mpg",
         "text": [
          "dd",
          "ol",
          "ho"
         ],
         "type": "bar",
         "uid": "6b9dfb63-1a4e-4791-880c-b9819ee38756",
         "x": [
          "4 Cylinders",
          "6 Cylinders",
          "8 Cylinders"
         ],
         "y": [
          26.663636363636364,
          19.74285714285714,
          15.100000000000003
         ]
        }
       ],
       "layout": {
        "annotations": [
         {
          "showarrow": false,
          "text": "More cylinders correlates to better<br> fuel mileage",
          "x": 1.5,
          "y": 24.5
         }
        ],
        "hovermode": "x",
        "plot_bgcolor": "rgb(229, 229, 229)",
        "title": "<b>Fuel Mileage by Number of Cylinders</b><br><i>for mtcars data</i>",
        "xaxis": {
         "gridcolor": "rgb(255,255,255)",
         "tickangle": 30,
         "title": "Number of Cylinders",
         "zerolinecolor": "rgb(255,255,255)"
        },
        "yaxis": {
         "gridcolor": "rgb(255,255,255)",
         "title": "Miles Per Gallon",
         "zerolinecolor": "rgb(255,255,255)"
        }
       }
      },
      "text/html": [
       "<div id=\"8245d55b-b844-4cf3-a6bd-e94d2018c58f\" style=\"height: 525px; width: 100%;\" class=\"plotly-graph-div\"></div><script type=\"text/javascript\">require([\"plotly\"], function(Plotly) { window.PLOTLYENV=window.PLOTLYENV || {};window.PLOTLYENV.BASE_URL=\"https://plot.ly\";Plotly.newPlot(\"8245d55b-b844-4cf3-a6bd-e94d2018c58f\", [{\"error_y\": {\"array\": [2.5, 2.5, 2.5], \"thickness\": 4, \"type\": \"data\", \"visible\": true, \"width\": 5}, \"marker\": {\"color\": \"#232C65\"}, \"name\": \"mpg\", \"text\": [\"dd\", \"ol\", \"ho\"], \"x\": [\"4 Cylinders\", \"6 Cylinders\", \"8 Cylinders\"], \"y\": [26.663636363636364, 19.74285714285714, 15.100000000000003], \"type\": \"bar\", \"uid\": \"6b9dfb63-1a4e-4791-880c-b9819ee38756\"}], {\"annotations\": [{\"showarrow\": false, \"text\": \"More cylinders correlates to better<br> fuel mileage\", \"x\": 1.5, \"y\": 24.5}], \"hovermode\": \"x\", \"plot_bgcolor\": \"rgb(229, 229, 229)\", \"title\": \"<b>Fuel Mileage by Number of Cylinders</b><br><i>for mtcars data</i>\", \"xaxis\": {\"gridcolor\": \"rgb(255,255,255)\", \"tickangle\": 30, \"title\": \"Number of Cylinders\", \"zerolinecolor\": \"rgb(255,255,255)\"}, \"yaxis\": {\"gridcolor\": \"rgb(255,255,255)\", \"title\": \"Miles Per Gallon\", \"zerolinecolor\": \"rgb(255,255,255)\"}}, {\"showLink\": true, \"linkText\": \"Export to plot.ly\", \"plotlyServerURL\": \"https://plot.ly\"})});</script><script type=\"text/javascript\">window.addEventListener(\"resize\", function(){window._Plotly.Plots.resize(document.getElementById(\"8245d55b-b844-4cf3-a6bd-e94d2018c58f\"));});</script>"
      ],
      "text/vnd.plotly.v1+html": [
       "<div id=\"8245d55b-b844-4cf3-a6bd-e94d2018c58f\" style=\"height: 525px; width: 100%;\" class=\"plotly-graph-div\"></div><script type=\"text/javascript\">require([\"plotly\"], function(Plotly) { window.PLOTLYENV=window.PLOTLYENV || {};window.PLOTLYENV.BASE_URL=\"https://plot.ly\";Plotly.newPlot(\"8245d55b-b844-4cf3-a6bd-e94d2018c58f\", [{\"error_y\": {\"array\": [2.5, 2.5, 2.5], \"thickness\": 4, \"type\": \"data\", \"visible\": true, \"width\": 5}, \"marker\": {\"color\": \"#232C65\"}, \"name\": \"mpg\", \"text\": [\"dd\", \"ol\", \"ho\"], \"x\": [\"4 Cylinders\", \"6 Cylinders\", \"8 Cylinders\"], \"y\": [26.663636363636364, 19.74285714285714, 15.100000000000003], \"type\": \"bar\", \"uid\": \"6b9dfb63-1a4e-4791-880c-b9819ee38756\"}], {\"annotations\": [{\"showarrow\": false, \"text\": \"More cylinders correlates to better<br> fuel mileage\", \"x\": 1.5, \"y\": 24.5}], \"hovermode\": \"x\", \"plot_bgcolor\": \"rgb(229, 229, 229)\", \"title\": \"<b>Fuel Mileage by Number of Cylinders</b><br><i>for mtcars data</i>\", \"xaxis\": {\"gridcolor\": \"rgb(255,255,255)\", \"tickangle\": 30, \"title\": \"Number of Cylinders\", \"zerolinecolor\": \"rgb(255,255,255)\"}, \"yaxis\": {\"gridcolor\": \"rgb(255,255,255)\", \"title\": \"Miles Per Gallon\", \"zerolinecolor\": \"rgb(255,255,255)\"}}, {\"showLink\": true, \"linkText\": \"Export to plot.ly\", \"plotlyServerURL\": \"https://plot.ly\"})});</script><script type=\"text/javascript\">window.addEventListener(\"resize\", function(){window._Plotly.Plots.resize(document.getElementById(\"8245d55b-b844-4cf3-a6bd-e94d2018c58f\"));});</script>"
      ]
     },
     "metadata": {},
     "output_type": "display_data"
    }
   ],
   "source": [
    "# view plot inline \n",
    "fig = barplot.create_graph(**args)"
   ]
  },
  {
   "cell_type": "markdown",
   "metadata": {},
   "source": [
    "After creating a graph, it can be written to an html file by passing `fig` to `barplot.output_graph`:"
   ]
  },
  {
   "cell_type": "code",
   "execution_count": 8,
   "metadata": {},
   "outputs": [],
   "source": [
    "# write graph to html file \n",
    "fp = 'barplot-example.html'\n",
    "barplot.output_graph(fig, fp)"
   ]
  },
  {
   "cell_type": "code",
   "execution_count": 9,
   "metadata": {},
   "outputs": [],
   "source": [
    "# write graph to png file \n",
    "fp = 'barplot-example.png'\n",
    "barplot.output_graph(fig, fp)"
   ]
  },
  {
   "cell_type": "markdown",
   "metadata": {},
   "source": [
    "For any of the `create_graph` functions in `rapid_plotly`, a detailed docstring is included:"
   ]
  },
  {
   "cell_type": "code",
   "execution_count": 18,
   "metadata": {
    "collapsed": true
   },
   "outputs": [
    {
     "data": {
      "text/markdown": [
       "Creates grouped barplot\n",
       "\n",
       "    The `in_data` arg must be a dataframe in the form:\n",
       "\n",
       "                           bar1           bar2\n",
       "    x_category1            3.13          15.84\n",
       "    x_category2            6.67           6.08\n",
       "\n",
       "    Where `in_data.index` (x_category1, x_category2 above) are the x\n",
       "    labels on the graph, and each column (bar1, bar2 in the above\n",
       "    example) is a bargroup. Each cell represents the height of the bar.\n",
       "\n",
       "    In the above example, the 3.13 and 15.84 bars would be grouped \n",
       "    together and the 6.67 and 6.08 bars would be grouped together. Bar1\n",
       "    would be on the left of each bar group.\n",
       "\n",
       "    Note that `in_data` can be passed with a single column to create\n",
       "    a normal barplot (as opposed to a grouped barplot).\n",
       "\n",
       "    Error bars can be easily created by passing a DataFrame similar\n",
       "    to `in_data` where each cell represents the \"+/-\" value for the\n",
       "    error bar, e.g. if the value is \"1.5\", the error bar will range \n",
       "    \"1.5\" units (in terms of the y-axis) above and \"1.5\" units below\n",
       "    the bar.\n",
       "\n",
       "    The `aux_traces` arg can be used to create an overlaying trace, such\n",
       "    as a line graph overlaying the bars. To plot `aux_traces` on a \n",
       "    secondary axis, the `yaxis` parameter of the trace must be set to\n",
       "    'y2' and the `alt_y` arg must be passed to this function as `True`.\n",
       "\n",
       "    Parameters\n",
       "    ----------\n",
       "    in_data : DataFrame of traces. Data in columns will be used as\n",
       "    traces and index will be used as x-axis.\n",
       "\n",
       "    names : DataFrame of hovertext values. Should mirror `in_data` in \n",
       "    form.\n",
       "\n",
       "    colors : dict of colors for traces. dict keys should mirror\n",
       "    `in_data` columns. Can use hex colors or keyword colors, see Plotly\n",
       "    specifications on colors for keyword options.\n",
       "\n",
       "    errors : a DataFrame of error values for each bar. Should mirror \n",
       "    `in_data` in form. Each cell in `errors` will be the \"+/-\" value \n",
       "    for the error bars. \n",
       "\n",
       "    error_barwidth : the width, in pixels, of the error bar. \n",
       "\n",
       "    title : title for top of graph. Use '<br>' tag for subtitle. Tags\n",
       "    '<i>' and '<b>' can be used for italics and bold, respectively.\n",
       "\n",
       "    xlab : label for x-axis. \n",
       "\n",
       "    ylab : label for y-ayis. \n",
       "\n",
       "    y2lab : label for aly y axis.\n",
       "\n",
       "    hoverinfo : either None or 'text'. Passed to the trace in\n",
       "    `create_trace`. By default, Plotly displays the value upon hover,\n",
       "    passing 'text' here will show only the value configured in the\n",
       "    `names` DataFrame.\n",
       "\n",
       "    annotations : a list of dicts for annotations. For example:\n",
       "\n",
       "        ```\n",
       "        [{'text':'More cylinders correlates to better<br> fuel mileage',\n",
       "        'x':1.5, 'y':24.5, 'showarrow':False}]\n",
       "        ```\n",
       "\n",
       "    The 'x' and 'y' keys are coordinates in terms of the graph axes, and\n",
       "    the 'text' key is the annotation text.\n",
       "\n",
       "    filepath : optional, if included will write image to file. Can be\n",
       "    written as a .html file or a .png file.\n",
       "\n",
       "    aux_traces : list of traces to be added to the graph data. Allows\n",
       "    for customization of additional traces beyond what default\n",
       "    functionality provides. \n",
       "\n",
       "    layout : allows for a customized layout. Default layout is in the\n",
       "    helpers module, can be accessed:\n",
       "\n",
       "        ```\n",
       "        from rapid_plotly import helpers\n",
       "        layout = helpers.layout\n",
       "        ```\n",
       "\n",
       "    Here is the default layout: \n",
       "\n",
       "        ```\n",
       "        {'hovermode': 'closest', 'plot_bgcolor': 'rgb(229, 229, 229)',\n",
       "         'title': 'title', 'xaxis': {'gridcolor': 'rgb(255,255,255)',\n",
       "          'tickangle': 30, 'title': 'xlab',\n",
       "          'zerolinecolor': 'rgb(255,255,255)'},\n",
       "          'yaxis': {'gridcolor': 'rgb(255,255,255)', 'title': 'ylab',\n",
       "          'zerolinecolor': 'rgb(255,255,255)'}}\n",
       "        ```\n",
       "\n",
       "    alt_y : bool, used to place aux_traces on alternate axis. \n",
       "\n",
       "    "
      ],
      "text/plain": [
       "<IPython.core.display.Markdown object>"
      ]
     },
     "metadata": {},
     "output_type": "display_data"
    }
   ],
   "source": [
    "from IPython.display import Markdown\n",
    "display(Markdown(barplot.create_graph.__doc__))"
   ]
  },
  {
   "cell_type": "markdown",
   "metadata": {},
   "source": [
    "# Create Grouped Barplot\n",
    "\n",
    "A grouped barplot compares the effect of the same treatment across multiple categories.\n",
    "\n",
    "The next graph will show the relationship between fuel mileage, the number of cylinders and the number of gears for cars.\n",
    "\n",
    "For grouped barplots, dataframes can be passed where the rows represent the x-axis categories and the columns represent each bar in each category. "
   ]
  },
  {
   "cell_type": "code",
   "execution_count": 19,
   "metadata": {},
   "outputs": [
    {
     "name": "stdout",
     "output_type": "stream",
     "text": [
      "main data:\n"
     ]
    },
    {
     "data": {
      "text/html": [
       "<div>\n",
       "<style scoped>\n",
       "    .dataframe tbody tr th:only-of-type {\n",
       "        vertical-align: middle;\n",
       "    }\n",
       "\n",
       "    .dataframe tbody tr th {\n",
       "        vertical-align: top;\n",
       "    }\n",
       "\n",
       "    .dataframe thead th {\n",
       "        text-align: right;\n",
       "    }\n",
       "</style>\n",
       "<table border=\"1\" class=\"dataframe\">\n",
       "  <thead>\n",
       "    <tr style=\"text-align: right;\">\n",
       "      <th></th>\n",
       "      <th>3 gears</th>\n",
       "      <th>4 gears</th>\n",
       "      <th>5 gears</th>\n",
       "    </tr>\n",
       "  </thead>\n",
       "  <tbody>\n",
       "    <tr>\n",
       "      <th>4 Cylinders</th>\n",
       "      <td>21.50</td>\n",
       "      <td>26.925</td>\n",
       "      <td>28.2</td>\n",
       "    </tr>\n",
       "    <tr>\n",
       "      <th>6 Cylinders</th>\n",
       "      <td>19.75</td>\n",
       "      <td>19.750</td>\n",
       "      <td>19.7</td>\n",
       "    </tr>\n",
       "    <tr>\n",
       "      <th>8 Cylinders</th>\n",
       "      <td>15.05</td>\n",
       "      <td>15.225</td>\n",
       "      <td>15.4</td>\n",
       "    </tr>\n",
       "  </tbody>\n",
       "</table>\n",
       "</div>"
      ],
      "text/plain": [
       "             3 gears  4 gears  5 gears\n",
       "4 Cylinders    21.50   26.925     28.2\n",
       "6 Cylinders    19.75   19.750     19.7\n",
       "8 Cylinders    15.05   15.225     15.4"
      ]
     },
     "metadata": {},
     "output_type": "display_data"
    },
    {
     "name": "stdout",
     "output_type": "stream",
     "text": [
      "names:\n"
     ]
    },
    {
     "data": {
      "text/html": [
       "<div>\n",
       "<style scoped>\n",
       "    .dataframe tbody tr th:only-of-type {\n",
       "        vertical-align: middle;\n",
       "    }\n",
       "\n",
       "    .dataframe tbody tr th {\n",
       "        vertical-align: top;\n",
       "    }\n",
       "\n",
       "    .dataframe thead th {\n",
       "        text-align: right;\n",
       "    }\n",
       "</style>\n",
       "<table border=\"1\" class=\"dataframe\">\n",
       "  <thead>\n",
       "    <tr style=\"text-align: right;\">\n",
       "      <th></th>\n",
       "      <th>3 gears</th>\n",
       "      <th>4 gears</th>\n",
       "      <th>5 gears</th>\n",
       "    </tr>\n",
       "  </thead>\n",
       "  <tbody>\n",
       "    <tr>\n",
       "      <th>4 Cylinders</th>\n",
       "      <td>px</td>\n",
       "      <td>se</td>\n",
       "      <td>ci</td>\n",
       "    </tr>\n",
       "    <tr>\n",
       "      <th>6 Cylinders</th>\n",
       "      <td>lj</td>\n",
       "      <td>rd</td>\n",
       "      <td>rx</td>\n",
       "    </tr>\n",
       "    <tr>\n",
       "      <th>8 Cylinders</th>\n",
       "      <td>pt</td>\n",
       "      <td>nj</td>\n",
       "      <td>xx</td>\n",
       "    </tr>\n",
       "  </tbody>\n",
       "</table>\n",
       "</div>"
      ],
      "text/plain": [
       "            3 gears 4 gears 5 gears\n",
       "4 Cylinders      px      se      ci\n",
       "6 Cylinders      lj      rd      rx\n",
       "8 Cylinders      pt      nj      xx"
      ]
     },
     "metadata": {},
     "output_type": "display_data"
    },
    {
     "name": "stdout",
     "output_type": "stream",
     "text": [
      "errors:\n"
     ]
    },
    {
     "data": {
      "text/html": [
       "<div>\n",
       "<style scoped>\n",
       "    .dataframe tbody tr th:only-of-type {\n",
       "        vertical-align: middle;\n",
       "    }\n",
       "\n",
       "    .dataframe tbody tr th {\n",
       "        vertical-align: top;\n",
       "    }\n",
       "\n",
       "    .dataframe thead th {\n",
       "        text-align: right;\n",
       "    }\n",
       "</style>\n",
       "<table border=\"1\" class=\"dataframe\">\n",
       "  <thead>\n",
       "    <tr style=\"text-align: right;\">\n",
       "      <th></th>\n",
       "      <th>3 gears</th>\n",
       "      <th>4 gears</th>\n",
       "      <th>5 gears</th>\n",
       "    </tr>\n",
       "  </thead>\n",
       "  <tbody>\n",
       "    <tr>\n",
       "      <th>4 Cylinders</th>\n",
       "      <td>0.75</td>\n",
       "      <td>0.75</td>\n",
       "      <td>0.75</td>\n",
       "    </tr>\n",
       "    <tr>\n",
       "      <th>6 Cylinders</th>\n",
       "      <td>0.75</td>\n",
       "      <td>0.75</td>\n",
       "      <td>0.75</td>\n",
       "    </tr>\n",
       "    <tr>\n",
       "      <th>8 Cylinders</th>\n",
       "      <td>0.75</td>\n",
       "      <td>0.75</td>\n",
       "      <td>0.75</td>\n",
       "    </tr>\n",
       "  </tbody>\n",
       "</table>\n",
       "</div>"
      ],
      "text/plain": [
       "             3 gears  4 gears  5 gears\n",
       "4 Cylinders     0.75     0.75     0.75\n",
       "6 Cylinders     0.75     0.75     0.75\n",
       "8 Cylinders     0.75     0.75     0.75"
      ]
     },
     "metadata": {},
     "output_type": "display_data"
    }
   ],
   "source": [
    "# create data for grouped barplot\n",
    "in_data = df.groupby(['cyl', 'gear']).mean()[['mpg']].reset_index()\n",
    "\n",
    "in_data = pd.pivot_table(\n",
    "    data=in_data,\n",
    "    columns=['gear'],\n",
    "    index=['cyl']\n",
    ")\n",
    "in_data.columns = ['3 gears', '4 gears', '5 gears']\n",
    "\n",
    "in_data = in_data.fillna(in_data.loc[8].mean())\n",
    "in_data.index = in_data.index.astype(str) + ' Cylinders'\n",
    "print('main data:')\n",
    "display(in_data)\n",
    "\n",
    "# create names\n",
    "names = in_data.copy()\n",
    "\n",
    "for row in names.index:\n",
    "    for col in names.columns:\n",
    "        names.loc[row, col] = f()+f()\n",
    "        \n",
    "print('names:')\n",
    "display(names)\n",
    "\n",
    "# create error bars \n",
    "errors = in_data.copy()\n",
    "\n",
    "for col in errors.columns:\n",
    "    errors[col] = 0.75\n",
    "    \n",
    "print('errors:')\n",
    "display(errors)"
   ]
  },
  {
   "cell_type": "markdown",
   "metadata": {},
   "source": [
    "Get a quick visual of the data:"
   ]
  },
  {
   "cell_type": "code",
   "execution_count": 20,
   "metadata": {},
   "outputs": [
    {
     "data": {
      "text/html": [
       "<script type=\"text/javascript\">window.PlotlyConfig = {MathJaxConfig: 'local'};</script><script type=\"text/javascript\">if (window.MathJax) {MathJax.Hub.Config({SVG: {font: \"STIX-Web\"}});}</script><script>requirejs.config({paths: { 'plotly': ['https://cdn.plot.ly/plotly-latest.min']},});if(!window._Plotly) {require(['plotly'],function(plotly) {window._Plotly=plotly;});}</script>"
      ],
      "text/vnd.plotly.v1+html": [
       "<script type=\"text/javascript\">window.PlotlyConfig = {MathJaxConfig: 'local'};</script><script type=\"text/javascript\">if (window.MathJax) {MathJax.Hub.Config({SVG: {font: \"STIX-Web\"}});}</script><script>requirejs.config({paths: { 'plotly': ['https://cdn.plot.ly/plotly-latest.min']},});if(!window._Plotly) {require(['plotly'],function(plotly) {window._Plotly=plotly;});}</script>"
      ]
     },
     "metadata": {},
     "output_type": "display_data"
    },
    {
     "data": {
      "application/vnd.plotly.v1+json": {
       "config": {
        "linkText": "Export to plot.ly",
        "plotlyServerURL": "https://plot.ly",
        "showLink": true
       },
       "data": [
        {
         "marker": {
          "color": "#232C65"
         },
         "name": "3 gears",
         "text": "3 gears",
         "type": "bar",
         "uid": "94b5ac96-999d-424b-8e6b-b80f3b61f618",
         "x": [
          "4 Cylinders",
          "6 Cylinders",
          "8 Cylinders"
         ],
         "y": [
          21.5,
          19.75,
          15.050000000000002
         ]
        },
        {
         "marker": {
          "color": "#840032"
         },
         "name": "4 gears",
         "text": "4 gears",
         "type": "bar",
         "uid": "d5eb5438-9939-43f3-ad69-fba87ced07f9",
         "x": [
          "4 Cylinders",
          "6 Cylinders",
          "8 Cylinders"
         ],
         "y": [
          26.925000000000004,
          19.75,
          15.225000000000001
         ]
        },
        {
         "marker": {
          "color": "#E59500"
         },
         "name": "5 gears",
         "text": "5 gears",
         "type": "bar",
         "uid": "6a9fb348-f1d5-4597-90b4-1e357afc6072",
         "x": [
          "4 Cylinders",
          "6 Cylinders",
          "8 Cylinders"
         ],
         "y": [
          28.2,
          19.7,
          15.4
         ]
        }
       ],
       "layout": {
        "hovermode": "x",
        "plot_bgcolor": "rgb(229, 229, 229)",
        "title": "title",
        "xaxis": {
         "gridcolor": "rgb(255,255,255)",
         "tickangle": 30,
         "title": "xlab",
         "zerolinecolor": "rgb(255,255,255)"
        },
        "yaxis": {
         "gridcolor": "rgb(255,255,255)",
         "title": "ylab",
         "zerolinecolor": "rgb(255,255,255)"
        }
       }
      },
      "text/html": [
       "<div id=\"52d0c39f-82da-4729-884c-e9b4ca15e78a\" style=\"height: 525px; width: 100%;\" class=\"plotly-graph-div\"></div><script type=\"text/javascript\">require([\"plotly\"], function(Plotly) { window.PLOTLYENV=window.PLOTLYENV || {};window.PLOTLYENV.BASE_URL=\"https://plot.ly\";Plotly.newPlot(\"52d0c39f-82da-4729-884c-e9b4ca15e78a\", [{\"marker\": {\"color\": \"#232C65\"}, \"name\": \"3 gears\", \"text\": \"3 gears\", \"x\": [\"4 Cylinders\", \"6 Cylinders\", \"8 Cylinders\"], \"y\": [21.5, 19.75, 15.050000000000002], \"type\": \"bar\", \"uid\": \"94b5ac96-999d-424b-8e6b-b80f3b61f618\"}, {\"marker\": {\"color\": \"#840032\"}, \"name\": \"4 gears\", \"text\": \"4 gears\", \"x\": [\"4 Cylinders\", \"6 Cylinders\", \"8 Cylinders\"], \"y\": [26.925000000000004, 19.75, 15.225000000000001], \"type\": \"bar\", \"uid\": \"d5eb5438-9939-43f3-ad69-fba87ced07f9\"}, {\"marker\": {\"color\": \"#E59500\"}, \"name\": \"5 gears\", \"text\": \"5 gears\", \"x\": [\"4 Cylinders\", \"6 Cylinders\", \"8 Cylinders\"], \"y\": [28.2, 19.7, 15.4], \"type\": \"bar\", \"uid\": \"6a9fb348-f1d5-4597-90b4-1e357afc6072\"}], {\"hovermode\": \"x\", \"plot_bgcolor\": \"rgb(229, 229, 229)\", \"title\": \"title\", \"xaxis\": {\"gridcolor\": \"rgb(255,255,255)\", \"tickangle\": 30, \"title\": \"xlab\", \"zerolinecolor\": \"rgb(255,255,255)\"}, \"yaxis\": {\"gridcolor\": \"rgb(255,255,255)\", \"title\": \"ylab\", \"zerolinecolor\": \"rgb(255,255,255)\"}}, {\"showLink\": true, \"linkText\": \"Export to plot.ly\", \"plotlyServerURL\": \"https://plot.ly\"})});</script><script type=\"text/javascript\">window.addEventListener(\"resize\", function(){window._Plotly.Plots.resize(document.getElementById(\"52d0c39f-82da-4729-884c-e9b4ca15e78a\"));});</script>"
      ],
      "text/vnd.plotly.v1+html": [
       "<div id=\"52d0c39f-82da-4729-884c-e9b4ca15e78a\" style=\"height: 525px; width: 100%;\" class=\"plotly-graph-div\"></div><script type=\"text/javascript\">require([\"plotly\"], function(Plotly) { window.PLOTLYENV=window.PLOTLYENV || {};window.PLOTLYENV.BASE_URL=\"https://plot.ly\";Plotly.newPlot(\"52d0c39f-82da-4729-884c-e9b4ca15e78a\", [{\"marker\": {\"color\": \"#232C65\"}, \"name\": \"3 gears\", \"text\": \"3 gears\", \"x\": [\"4 Cylinders\", \"6 Cylinders\", \"8 Cylinders\"], \"y\": [21.5, 19.75, 15.050000000000002], \"type\": \"bar\", \"uid\": \"94b5ac96-999d-424b-8e6b-b80f3b61f618\"}, {\"marker\": {\"color\": \"#840032\"}, \"name\": \"4 gears\", \"text\": \"4 gears\", \"x\": [\"4 Cylinders\", \"6 Cylinders\", \"8 Cylinders\"], \"y\": [26.925000000000004, 19.75, 15.225000000000001], \"type\": \"bar\", \"uid\": \"d5eb5438-9939-43f3-ad69-fba87ced07f9\"}, {\"marker\": {\"color\": \"#E59500\"}, \"name\": \"5 gears\", \"text\": \"5 gears\", \"x\": [\"4 Cylinders\", \"6 Cylinders\", \"8 Cylinders\"], \"y\": [28.2, 19.7, 15.4], \"type\": \"bar\", \"uid\": \"6a9fb348-f1d5-4597-90b4-1e357afc6072\"}], {\"hovermode\": \"x\", \"plot_bgcolor\": \"rgb(229, 229, 229)\", \"title\": \"title\", \"xaxis\": {\"gridcolor\": \"rgb(255,255,255)\", \"tickangle\": 30, \"title\": \"xlab\", \"zerolinecolor\": \"rgb(255,255,255)\"}, \"yaxis\": {\"gridcolor\": \"rgb(255,255,255)\", \"title\": \"ylab\", \"zerolinecolor\": \"rgb(255,255,255)\"}}, {\"showLink\": true, \"linkText\": \"Export to plot.ly\", \"plotlyServerURL\": \"https://plot.ly\"})});</script><script type=\"text/javascript\">window.addEventListener(\"resize\", function(){window._Plotly.Plots.resize(document.getElementById(\"52d0c39f-82da-4729-884c-e9b4ca15e78a\"));});</script>"
      ]
     },
     "metadata": {},
     "output_type": "display_data"
    }
   ],
   "source": [
    "# create args\n",
    "args = {'in_data':in_data}\n",
    "fig = barplot.create_graph(**args)"
   ]
  },
  {
   "cell_type": "markdown",
   "metadata": {},
   "source": [
    "Now add more detail by adding elements to `args`:"
   ]
  },
  {
   "cell_type": "code",
   "execution_count": 21,
   "metadata": {},
   "outputs": [
    {
     "data": {
      "text/html": [
       "<script type=\"text/javascript\">window.PlotlyConfig = {MathJaxConfig: 'local'};</script><script type=\"text/javascript\">if (window.MathJax) {MathJax.Hub.Config({SVG: {font: \"STIX-Web\"}});}</script><script>requirejs.config({paths: { 'plotly': ['https://cdn.plot.ly/plotly-latest.min']},});if(!window._Plotly) {require(['plotly'],function(plotly) {window._Plotly=plotly;});}</script>"
      ],
      "text/vnd.plotly.v1+html": [
       "<script type=\"text/javascript\">window.PlotlyConfig = {MathJaxConfig: 'local'};</script><script type=\"text/javascript\">if (window.MathJax) {MathJax.Hub.Config({SVG: {font: \"STIX-Web\"}});}</script><script>requirejs.config({paths: { 'plotly': ['https://cdn.plot.ly/plotly-latest.min']},});if(!window._Plotly) {require(['plotly'],function(plotly) {window._Plotly=plotly;});}</script>"
      ]
     },
     "metadata": {},
     "output_type": "display_data"
    },
    {
     "data": {
      "application/vnd.plotly.v1+json": {
       "config": {
        "linkText": "Export to plot.ly",
        "plotlyServerURL": "https://plot.ly",
        "showLink": true
       },
       "data": [
        {
         "error_y": {
          "array": [
           0.75,
           0.75,
           0.75
          ],
          "thickness": 4,
          "type": "data",
          "visible": true,
          "width": 5
         },
         "marker": {
          "color": "#232C65"
         },
         "name": "3 gears",
         "text": [
          "px",
          "lj",
          "pt"
         ],
         "type": "bar",
         "uid": "fe5f6e6c-c705-412a-aeef-1793228c54df",
         "x": [
          "4 Cylinders",
          "6 Cylinders",
          "8 Cylinders"
         ],
         "y": [
          21.5,
          19.75,
          15.050000000000002
         ]
        },
        {
         "error_y": {
          "array": [
           0.75,
           0.75,
           0.75
          ],
          "thickness": 4,
          "type": "data",
          "visible": true,
          "width": 5
         },
         "marker": {
          "color": "#840032"
         },
         "name": "4 gears",
         "text": [
          "se",
          "rd",
          "nj"
         ],
         "type": "bar",
         "uid": "3d1e96de-d848-4148-81ce-30ae18ef4db8",
         "x": [
          "4 Cylinders",
          "6 Cylinders",
          "8 Cylinders"
         ],
         "y": [
          26.925000000000004,
          19.75,
          15.225000000000001
         ]
        },
        {
         "error_y": {
          "array": [
           0.75,
           0.75,
           0.75
          ],
          "thickness": 4,
          "type": "data",
          "visible": true,
          "width": 5
         },
         "marker": {
          "color": "#E59500"
         },
         "name": "5 gears",
         "text": [
          "ci",
          "rx",
          "xx"
         ],
         "type": "bar",
         "uid": "3ba6a39c-3b89-4f49-84ee-1364b2a3d310",
         "x": [
          "4 Cylinders",
          "6 Cylinders",
          "8 Cylinders"
         ],
         "y": [
          28.2,
          19.7,
          15.4
         ]
        }
       ],
       "layout": {
        "annotations": [
         {
          "ax": 150,
          "ay": 25,
          "showarrow": true,
          "text": "More gears correlate to better fuel<br> mileage for cars with 4 cylinder engines",
          "x": 0.45,
          "y": 28
         }
        ],
        "hovermode": "x",
        "plot_bgcolor": "rgb(229, 229, 229)",
        "title": "<b>Fuel Mileage by Number of Cylinders and Number of Gears</b><br><i>for mtcars data</i>",
        "xaxis": {
         "gridcolor": "rgb(255,255,255)",
         "tickangle": 30,
         "title": "Number of Cylinders",
         "zerolinecolor": "rgb(255,255,255)"
        },
        "yaxis": {
         "gridcolor": "rgb(255,255,255)",
         "title": "Miles Per Gallon",
         "zerolinecolor": "rgb(255,255,255)"
        }
       }
      },
      "text/html": [
       "<div id=\"64ea652a-0468-4333-bbd4-c64c31ffdc55\" style=\"height: 525px; width: 100%;\" class=\"plotly-graph-div\"></div><script type=\"text/javascript\">require([\"plotly\"], function(Plotly) { window.PLOTLYENV=window.PLOTLYENV || {};window.PLOTLYENV.BASE_URL=\"https://plot.ly\";Plotly.newPlot(\"64ea652a-0468-4333-bbd4-c64c31ffdc55\", [{\"error_y\": {\"array\": [0.75, 0.75, 0.75], \"thickness\": 4, \"type\": \"data\", \"visible\": true, \"width\": 5}, \"marker\": {\"color\": \"#232C65\"}, \"name\": \"3 gears\", \"text\": [\"px\", \"lj\", \"pt\"], \"x\": [\"4 Cylinders\", \"6 Cylinders\", \"8 Cylinders\"], \"y\": [21.5, 19.75, 15.050000000000002], \"type\": \"bar\", \"uid\": \"fe5f6e6c-c705-412a-aeef-1793228c54df\"}, {\"error_y\": {\"array\": [0.75, 0.75, 0.75], \"thickness\": 4, \"type\": \"data\", \"visible\": true, \"width\": 5}, \"marker\": {\"color\": \"#840032\"}, \"name\": \"4 gears\", \"text\": [\"se\", \"rd\", \"nj\"], \"x\": [\"4 Cylinders\", \"6 Cylinders\", \"8 Cylinders\"], \"y\": [26.925000000000004, 19.75, 15.225000000000001], \"type\": \"bar\", \"uid\": \"3d1e96de-d848-4148-81ce-30ae18ef4db8\"}, {\"error_y\": {\"array\": [0.75, 0.75, 0.75], \"thickness\": 4, \"type\": \"data\", \"visible\": true, \"width\": 5}, \"marker\": {\"color\": \"#E59500\"}, \"name\": \"5 gears\", \"text\": [\"ci\", \"rx\", \"xx\"], \"x\": [\"4 Cylinders\", \"6 Cylinders\", \"8 Cylinders\"], \"y\": [28.2, 19.7, 15.4], \"type\": \"bar\", \"uid\": \"3ba6a39c-3b89-4f49-84ee-1364b2a3d310\"}], {\"annotations\": [{\"ax\": 150, \"ay\": 25, \"showarrow\": true, \"text\": \"More gears correlate to better fuel<br> mileage for cars with 4 cylinder engines\", \"x\": 0.45, \"y\": 28}], \"hovermode\": \"x\", \"plot_bgcolor\": \"rgb(229, 229, 229)\", \"title\": \"<b>Fuel Mileage by Number of Cylinders and Number of Gears</b><br><i>for mtcars data</i>\", \"xaxis\": {\"gridcolor\": \"rgb(255,255,255)\", \"tickangle\": 30, \"title\": \"Number of Cylinders\", \"zerolinecolor\": \"rgb(255,255,255)\"}, \"yaxis\": {\"gridcolor\": \"rgb(255,255,255)\", \"title\": \"Miles Per Gallon\", \"zerolinecolor\": \"rgb(255,255,255)\"}}, {\"showLink\": true, \"linkText\": \"Export to plot.ly\", \"plotlyServerURL\": \"https://plot.ly\"})});</script><script type=\"text/javascript\">window.addEventListener(\"resize\", function(){window._Plotly.Plots.resize(document.getElementById(\"64ea652a-0468-4333-bbd4-c64c31ffdc55\"));});</script>"
      ],
      "text/vnd.plotly.v1+html": [
       "<div id=\"64ea652a-0468-4333-bbd4-c64c31ffdc55\" style=\"height: 525px; width: 100%;\" class=\"plotly-graph-div\"></div><script type=\"text/javascript\">require([\"plotly\"], function(Plotly) { window.PLOTLYENV=window.PLOTLYENV || {};window.PLOTLYENV.BASE_URL=\"https://plot.ly\";Plotly.newPlot(\"64ea652a-0468-4333-bbd4-c64c31ffdc55\", [{\"error_y\": {\"array\": [0.75, 0.75, 0.75], \"thickness\": 4, \"type\": \"data\", \"visible\": true, \"width\": 5}, \"marker\": {\"color\": \"#232C65\"}, \"name\": \"3 gears\", \"text\": [\"px\", \"lj\", \"pt\"], \"x\": [\"4 Cylinders\", \"6 Cylinders\", \"8 Cylinders\"], \"y\": [21.5, 19.75, 15.050000000000002], \"type\": \"bar\", \"uid\": \"fe5f6e6c-c705-412a-aeef-1793228c54df\"}, {\"error_y\": {\"array\": [0.75, 0.75, 0.75], \"thickness\": 4, \"type\": \"data\", \"visible\": true, \"width\": 5}, \"marker\": {\"color\": \"#840032\"}, \"name\": \"4 gears\", \"text\": [\"se\", \"rd\", \"nj\"], \"x\": [\"4 Cylinders\", \"6 Cylinders\", \"8 Cylinders\"], \"y\": [26.925000000000004, 19.75, 15.225000000000001], \"type\": \"bar\", \"uid\": \"3d1e96de-d848-4148-81ce-30ae18ef4db8\"}, {\"error_y\": {\"array\": [0.75, 0.75, 0.75], \"thickness\": 4, \"type\": \"data\", \"visible\": true, \"width\": 5}, \"marker\": {\"color\": \"#E59500\"}, \"name\": \"5 gears\", \"text\": [\"ci\", \"rx\", \"xx\"], \"x\": [\"4 Cylinders\", \"6 Cylinders\", \"8 Cylinders\"], \"y\": [28.2, 19.7, 15.4], \"type\": \"bar\", \"uid\": \"3ba6a39c-3b89-4f49-84ee-1364b2a3d310\"}], {\"annotations\": [{\"ax\": 150, \"ay\": 25, \"showarrow\": true, \"text\": \"More gears correlate to better fuel<br> mileage for cars with 4 cylinder engines\", \"x\": 0.45, \"y\": 28}], \"hovermode\": \"x\", \"plot_bgcolor\": \"rgb(229, 229, 229)\", \"title\": \"<b>Fuel Mileage by Number of Cylinders and Number of Gears</b><br><i>for mtcars data</i>\", \"xaxis\": {\"gridcolor\": \"rgb(255,255,255)\", \"tickangle\": 30, \"title\": \"Number of Cylinders\", \"zerolinecolor\": \"rgb(255,255,255)\"}, \"yaxis\": {\"gridcolor\": \"rgb(255,255,255)\", \"title\": \"Miles Per Gallon\", \"zerolinecolor\": \"rgb(255,255,255)\"}}, {\"showLink\": true, \"linkText\": \"Export to plot.ly\", \"plotlyServerURL\": \"https://plot.ly\"})});</script><script type=\"text/javascript\">window.addEventListener(\"resize\", function(){window._Plotly.Plots.resize(document.getElementById(\"64ea652a-0468-4333-bbd4-c64c31ffdc55\"));});</script>"
      ]
     },
     "metadata": {},
     "output_type": "display_data"
    }
   ],
   "source": [
    "# add additional characteristics to graph\n",
    "title = '<b>Fuel Mileage by Number of Cylinders and Number of Gears</b>'\n",
    "title += '<br><i>for mtcars data</i>'\n",
    "args['title'] = title\n",
    "args['names'] = names\n",
    "args['errors'] = errors\n",
    "args['xlab'] = 'Number of Cylinders'\n",
    "args['ylab'] = 'Miles Per Gallon'\n",
    "args['annotations'] = [{'text':'More gears correlate to better fuel<br> mileage for cars with 4 cylinder engines',\n",
    "                        'x':0.45, 'y':28, 'ax':150, 'ay':25, 'showarrow':True}]\n",
    "\n",
    "fig = barplot.create_graph(**args)"
   ]
  },
  {
   "cell_type": "markdown",
   "metadata": {},
   "source": [
    "This looks okay with the default colors, but the main point of the graph would be more immediately visible if the \"4 Cylinder\" bargroup was a different shade of color than the other bargroups. \n",
    "\n",
    "New colors were generated using [coolors.co](https://coolors.co) and tints of the new colors were created on [color-hex.com](www.color-hex.com).\n",
    "\n",
    "A new dataframe `colors` can be created in a similar fashion to `in_data`, `names` and `errors`:"
   ]
  },
  {
   "cell_type": "code",
   "execution_count": 22,
   "metadata": {},
   "outputs": [
    {
     "name": "stdout",
     "output_type": "stream",
     "text": [
      "colors:\n"
     ]
    },
    {
     "data": {
      "text/html": [
       "<div>\n",
       "<style scoped>\n",
       "    .dataframe tbody tr th:only-of-type {\n",
       "        vertical-align: middle;\n",
       "    }\n",
       "\n",
       "    .dataframe tbody tr th {\n",
       "        vertical-align: top;\n",
       "    }\n",
       "\n",
       "    .dataframe thead th {\n",
       "        text-align: right;\n",
       "    }\n",
       "</style>\n",
       "<table border=\"1\" class=\"dataframe\">\n",
       "  <thead>\n",
       "    <tr style=\"text-align: right;\">\n",
       "      <th></th>\n",
       "      <th>3 gears</th>\n",
       "      <th>4 gears</th>\n",
       "      <th>5 gears</th>\n",
       "    </tr>\n",
       "  </thead>\n",
       "  <tbody>\n",
       "    <tr>\n",
       "      <th>4 Cylinders</th>\n",
       "      <td>#232C65</td>\n",
       "      <td>#2D2D2A</td>\n",
       "      <td>#849324</td>\n",
       "    </tr>\n",
       "    <tr>\n",
       "      <th>6 Cylinders</th>\n",
       "      <td>#9195b2</td>\n",
       "      <td>#969694</td>\n",
       "      <td>#c1c991</td>\n",
       "    </tr>\n",
       "    <tr>\n",
       "      <th>8 Cylinders</th>\n",
       "      <td>#9195b2</td>\n",
       "      <td>#969694</td>\n",
       "      <td>#c1c991</td>\n",
       "    </tr>\n",
       "  </tbody>\n",
       "</table>\n",
       "</div>"
      ],
      "text/plain": [
       "             3 gears  4 gears  5 gears\n",
       "4 Cylinders  #232C65  #2D2D2A  #849324\n",
       "6 Cylinders  #9195b2  #969694  #c1c991\n",
       "8 Cylinders  #9195b2  #969694  #c1c991"
      ]
     },
     "execution_count": 22,
     "metadata": {},
     "output_type": "execute_result"
    }
   ],
   "source": [
    "# create new colors\n",
    "colors = pd.DataFrame({\n",
    "           '3 gears':['#9195b2']*3,\n",
    "           '4 gears':['#969694']*3,\n",
    "           '5 gears':['#c1c991']*3\n",
    "       }, index=in_data.index)\n",
    "\n",
    "colors.loc['4 Cylinders'] = ['#232C65', '#2D2D2A', '#849324']\n",
    "\n",
    "args['colors'] = colors\n",
    "print('colors:')\n",
    "colors"
   ]
  },
  {
   "cell_type": "code",
   "execution_count": 23,
   "metadata": {},
   "outputs": [
    {
     "data": {
      "text/html": [
       "<script type=\"text/javascript\">window.PlotlyConfig = {MathJaxConfig: 'local'};</script><script type=\"text/javascript\">if (window.MathJax) {MathJax.Hub.Config({SVG: {font: \"STIX-Web\"}});}</script><script>requirejs.config({paths: { 'plotly': ['https://cdn.plot.ly/plotly-latest.min']},});if(!window._Plotly) {require(['plotly'],function(plotly) {window._Plotly=plotly;});}</script>"
      ],
      "text/vnd.plotly.v1+html": [
       "<script type=\"text/javascript\">window.PlotlyConfig = {MathJaxConfig: 'local'};</script><script type=\"text/javascript\">if (window.MathJax) {MathJax.Hub.Config({SVG: {font: \"STIX-Web\"}});}</script><script>requirejs.config({paths: { 'plotly': ['https://cdn.plot.ly/plotly-latest.min']},});if(!window._Plotly) {require(['plotly'],function(plotly) {window._Plotly=plotly;});}</script>"
      ]
     },
     "metadata": {},
     "output_type": "display_data"
    },
    {
     "data": {
      "application/vnd.plotly.v1+json": {
       "config": {
        "linkText": "Export to plot.ly",
        "plotlyServerURL": "https://plot.ly",
        "showLink": true
       },
       "data": [
        {
         "error_y": {
          "array": [
           0.75,
           0.75,
           0.75
          ],
          "thickness": 4,
          "type": "data",
          "visible": true,
          "width": 5
         },
         "marker": {
          "color": [
           "#232C65",
           "#9195b2",
           "#9195b2"
          ]
         },
         "name": "3 gears",
         "text": [
          "px",
          "lj",
          "pt"
         ],
         "type": "bar",
         "uid": "fb1364c6-defd-4d15-b266-35c9430f74e7",
         "x": [
          "4 Cylinders",
          "6 Cylinders",
          "8 Cylinders"
         ],
         "y": [
          21.5,
          19.75,
          15.050000000000002
         ]
        },
        {
         "error_y": {
          "array": [
           0.75,
           0.75,
           0.75
          ],
          "thickness": 4,
          "type": "data",
          "visible": true,
          "width": 5
         },
         "marker": {
          "color": [
           "#2D2D2A",
           "#969694",
           "#969694"
          ]
         },
         "name": "4 gears",
         "text": [
          "se",
          "rd",
          "nj"
         ],
         "type": "bar",
         "uid": "f2998b1b-1c0a-4ecd-a7f3-c6dc873dd927",
         "x": [
          "4 Cylinders",
          "6 Cylinders",
          "8 Cylinders"
         ],
         "y": [
          26.925000000000004,
          19.75,
          15.225000000000001
         ]
        },
        {
         "error_y": {
          "array": [
           0.75,
           0.75,
           0.75
          ],
          "thickness": 4,
          "type": "data",
          "visible": true,
          "width": 5
         },
         "marker": {
          "color": [
           "#849324",
           "#c1c991",
           "#c1c991"
          ]
         },
         "name": "5 gears",
         "text": [
          "ci",
          "rx",
          "xx"
         ],
         "type": "bar",
         "uid": "6ae9fbc5-3df7-472e-ad2c-0b5368c7e149",
         "x": [
          "4 Cylinders",
          "6 Cylinders",
          "8 Cylinders"
         ],
         "y": [
          28.2,
          19.7,
          15.4
         ]
        }
       ],
       "layout": {
        "annotations": [
         {
          "ax": 150,
          "ay": 25,
          "showarrow": true,
          "text": "More gears correlate to better fuel<br> mileage for cars with 4 cylinder engines",
          "x": 0.45,
          "y": 28
         }
        ],
        "hovermode": "x",
        "plot_bgcolor": "rgb(229, 229, 229)",
        "title": "<b>Fuel Mileage by Number of Cylinders and Number of Gears</b><br><i>for mtcars data</i>",
        "xaxis": {
         "gridcolor": "rgb(255,255,255)",
         "tickangle": 30,
         "title": "Number of Cylinders",
         "zerolinecolor": "rgb(255,255,255)"
        },
        "yaxis": {
         "gridcolor": "rgb(255,255,255)",
         "title": "Miles Per Gallon",
         "zerolinecolor": "rgb(255,255,255)"
        }
       }
      },
      "text/html": [
       "<div id=\"82b3a657-4c88-4c5f-bf8b-9c3869bbb4ad\" style=\"height: 525px; width: 100%;\" class=\"plotly-graph-div\"></div><script type=\"text/javascript\">require([\"plotly\"], function(Plotly) { window.PLOTLYENV=window.PLOTLYENV || {};window.PLOTLYENV.BASE_URL=\"https://plot.ly\";Plotly.newPlot(\"82b3a657-4c88-4c5f-bf8b-9c3869bbb4ad\", [{\"error_y\": {\"array\": [0.75, 0.75, 0.75], \"thickness\": 4, \"type\": \"data\", \"visible\": true, \"width\": 5}, \"marker\": {\"color\": [\"#232C65\", \"#9195b2\", \"#9195b2\"]}, \"name\": \"3 gears\", \"text\": [\"px\", \"lj\", \"pt\"], \"x\": [\"4 Cylinders\", \"6 Cylinders\", \"8 Cylinders\"], \"y\": [21.5, 19.75, 15.050000000000002], \"type\": \"bar\", \"uid\": \"fb1364c6-defd-4d15-b266-35c9430f74e7\"}, {\"error_y\": {\"array\": [0.75, 0.75, 0.75], \"thickness\": 4, \"type\": \"data\", \"visible\": true, \"width\": 5}, \"marker\": {\"color\": [\"#2D2D2A\", \"#969694\", \"#969694\"]}, \"name\": \"4 gears\", \"text\": [\"se\", \"rd\", \"nj\"], \"x\": [\"4 Cylinders\", \"6 Cylinders\", \"8 Cylinders\"], \"y\": [26.925000000000004, 19.75, 15.225000000000001], \"type\": \"bar\", \"uid\": \"f2998b1b-1c0a-4ecd-a7f3-c6dc873dd927\"}, {\"error_y\": {\"array\": [0.75, 0.75, 0.75], \"thickness\": 4, \"type\": \"data\", \"visible\": true, \"width\": 5}, \"marker\": {\"color\": [\"#849324\", \"#c1c991\", \"#c1c991\"]}, \"name\": \"5 gears\", \"text\": [\"ci\", \"rx\", \"xx\"], \"x\": [\"4 Cylinders\", \"6 Cylinders\", \"8 Cylinders\"], \"y\": [28.2, 19.7, 15.4], \"type\": \"bar\", \"uid\": \"6ae9fbc5-3df7-472e-ad2c-0b5368c7e149\"}], {\"annotations\": [{\"ax\": 150, \"ay\": 25, \"showarrow\": true, \"text\": \"More gears correlate to better fuel<br> mileage for cars with 4 cylinder engines\", \"x\": 0.45, \"y\": 28}], \"hovermode\": \"x\", \"plot_bgcolor\": \"rgb(229, 229, 229)\", \"title\": \"<b>Fuel Mileage by Number of Cylinders and Number of Gears</b><br><i>for mtcars data</i>\", \"xaxis\": {\"gridcolor\": \"rgb(255,255,255)\", \"tickangle\": 30, \"title\": \"Number of Cylinders\", \"zerolinecolor\": \"rgb(255,255,255)\"}, \"yaxis\": {\"gridcolor\": \"rgb(255,255,255)\", \"title\": \"Miles Per Gallon\", \"zerolinecolor\": \"rgb(255,255,255)\"}}, {\"showLink\": true, \"linkText\": \"Export to plot.ly\", \"plotlyServerURL\": \"https://plot.ly\"})});</script><script type=\"text/javascript\">window.addEventListener(\"resize\", function(){window._Plotly.Plots.resize(document.getElementById(\"82b3a657-4c88-4c5f-bf8b-9c3869bbb4ad\"));});</script>"
      ],
      "text/vnd.plotly.v1+html": [
       "<div id=\"82b3a657-4c88-4c5f-bf8b-9c3869bbb4ad\" style=\"height: 525px; width: 100%;\" class=\"plotly-graph-div\"></div><script type=\"text/javascript\">require([\"plotly\"], function(Plotly) { window.PLOTLYENV=window.PLOTLYENV || {};window.PLOTLYENV.BASE_URL=\"https://plot.ly\";Plotly.newPlot(\"82b3a657-4c88-4c5f-bf8b-9c3869bbb4ad\", [{\"error_y\": {\"array\": [0.75, 0.75, 0.75], \"thickness\": 4, \"type\": \"data\", \"visible\": true, \"width\": 5}, \"marker\": {\"color\": [\"#232C65\", \"#9195b2\", \"#9195b2\"]}, \"name\": \"3 gears\", \"text\": [\"px\", \"lj\", \"pt\"], \"x\": [\"4 Cylinders\", \"6 Cylinders\", \"8 Cylinders\"], \"y\": [21.5, 19.75, 15.050000000000002], \"type\": \"bar\", \"uid\": \"fb1364c6-defd-4d15-b266-35c9430f74e7\"}, {\"error_y\": {\"array\": [0.75, 0.75, 0.75], \"thickness\": 4, \"type\": \"data\", \"visible\": true, \"width\": 5}, \"marker\": {\"color\": [\"#2D2D2A\", \"#969694\", \"#969694\"]}, \"name\": \"4 gears\", \"text\": [\"se\", \"rd\", \"nj\"], \"x\": [\"4 Cylinders\", \"6 Cylinders\", \"8 Cylinders\"], \"y\": [26.925000000000004, 19.75, 15.225000000000001], \"type\": \"bar\", \"uid\": \"f2998b1b-1c0a-4ecd-a7f3-c6dc873dd927\"}, {\"error_y\": {\"array\": [0.75, 0.75, 0.75], \"thickness\": 4, \"type\": \"data\", \"visible\": true, \"width\": 5}, \"marker\": {\"color\": [\"#849324\", \"#c1c991\", \"#c1c991\"]}, \"name\": \"5 gears\", \"text\": [\"ci\", \"rx\", \"xx\"], \"x\": [\"4 Cylinders\", \"6 Cylinders\", \"8 Cylinders\"], \"y\": [28.2, 19.7, 15.4], \"type\": \"bar\", \"uid\": \"6ae9fbc5-3df7-472e-ad2c-0b5368c7e149\"}], {\"annotations\": [{\"ax\": 150, \"ay\": 25, \"showarrow\": true, \"text\": \"More gears correlate to better fuel<br> mileage for cars with 4 cylinder engines\", \"x\": 0.45, \"y\": 28}], \"hovermode\": \"x\", \"plot_bgcolor\": \"rgb(229, 229, 229)\", \"title\": \"<b>Fuel Mileage by Number of Cylinders and Number of Gears</b><br><i>for mtcars data</i>\", \"xaxis\": {\"gridcolor\": \"rgb(255,255,255)\", \"tickangle\": 30, \"title\": \"Number of Cylinders\", \"zerolinecolor\": \"rgb(255,255,255)\"}, \"yaxis\": {\"gridcolor\": \"rgb(255,255,255)\", \"title\": \"Miles Per Gallon\", \"zerolinecolor\": \"rgb(255,255,255)\"}}, {\"showLink\": true, \"linkText\": \"Export to plot.ly\", \"plotlyServerURL\": \"https://plot.ly\"})});</script><script type=\"text/javascript\">window.addEventListener(\"resize\", function(){window._Plotly.Plots.resize(document.getElementById(\"82b3a657-4c88-4c5f-bf8b-9c3869bbb4ad\"));});</script>"
      ]
     },
     "metadata": {},
     "output_type": "display_data"
    }
   ],
   "source": [
    "fig = barplot.create_graph(**args)"
   ]
  },
  {
   "cell_type": "code",
   "execution_count": 24,
   "metadata": {},
   "outputs": [],
   "source": [
    "# write graph to html file \n",
    "fp = 'grouped-barplot-example.html'\n",
    "barplot.output_graph(fig, fp)"
   ]
  },
  {
   "cell_type": "code",
   "execution_count": 25,
   "metadata": {},
   "outputs": [],
   "source": [
    "# write graph to png file \n",
    "fp = 'grouped-barplot-example.png'\n",
    "barplot.output_graph(fig, fp)"
   ]
  },
  {
   "cell_type": "markdown",
   "metadata": {},
   "source": [
    "# Create Scatterplot"
   ]
  },
  {
   "cell_type": "code",
   "execution_count": 28,
   "metadata": {},
   "outputs": [],
   "source": [
    "from rapid_plotly import scatterplot"
   ]
  },
  {
   "cell_type": "markdown",
   "metadata": {},
   "source": [
    "First, set up some data which can be used to create an example scatterplot:"
   ]
  },
  {
   "cell_type": "code",
   "execution_count": 29,
   "metadata": {},
   "outputs": [
    {
     "name": "stdout",
     "output_type": "stream",
     "text": [
      "x values:\n"
     ]
    },
    {
     "data": {
      "text/html": [
       "<div>\n",
       "<style scoped>\n",
       "    .dataframe tbody tr th:only-of-type {\n",
       "        vertical-align: middle;\n",
       "    }\n",
       "\n",
       "    .dataframe tbody tr th {\n",
       "        vertical-align: top;\n",
       "    }\n",
       "\n",
       "    .dataframe thead th {\n",
       "        text-align: right;\n",
       "    }\n",
       "</style>\n",
       "<table border=\"1\" class=\"dataframe\">\n",
       "  <thead>\n",
       "    <tr style=\"text-align: right;\">\n",
       "      <th></th>\n",
       "      <th>hp</th>\n",
       "    </tr>\n",
       "  </thead>\n",
       "  <tbody>\n",
       "    <tr>\n",
       "      <th>0</th>\n",
       "      <td>110</td>\n",
       "    </tr>\n",
       "    <tr>\n",
       "      <th>1</th>\n",
       "      <td>110</td>\n",
       "    </tr>\n",
       "    <tr>\n",
       "      <th>2</th>\n",
       "      <td>93</td>\n",
       "    </tr>\n",
       "    <tr>\n",
       "      <th>3</th>\n",
       "      <td>110</td>\n",
       "    </tr>\n",
       "    <tr>\n",
       "      <th>4</th>\n",
       "      <td>175</td>\n",
       "    </tr>\n",
       "  </tbody>\n",
       "</table>\n",
       "</div>"
      ],
      "text/plain": [
       "    hp\n",
       "0  110\n",
       "1  110\n",
       "2   93\n",
       "3  110\n",
       "4  175"
      ]
     },
     "metadata": {},
     "output_type": "display_data"
    },
    {
     "name": "stdout",
     "output_type": "stream",
     "text": [
      "y values:\n"
     ]
    },
    {
     "data": {
      "text/html": [
       "<div>\n",
       "<style scoped>\n",
       "    .dataframe tbody tr th:only-of-type {\n",
       "        vertical-align: middle;\n",
       "    }\n",
       "\n",
       "    .dataframe tbody tr th {\n",
       "        vertical-align: top;\n",
       "    }\n",
       "\n",
       "    .dataframe thead th {\n",
       "        text-align: right;\n",
       "    }\n",
       "</style>\n",
       "<table border=\"1\" class=\"dataframe\">\n",
       "  <thead>\n",
       "    <tr style=\"text-align: right;\">\n",
       "      <th></th>\n",
       "      <th>mpg</th>\n",
       "    </tr>\n",
       "  </thead>\n",
       "  <tbody>\n",
       "    <tr>\n",
       "      <th>0</th>\n",
       "      <td>21.0</td>\n",
       "    </tr>\n",
       "    <tr>\n",
       "      <th>1</th>\n",
       "      <td>21.0</td>\n",
       "    </tr>\n",
       "    <tr>\n",
       "      <th>2</th>\n",
       "      <td>22.8</td>\n",
       "    </tr>\n",
       "    <tr>\n",
       "      <th>3</th>\n",
       "      <td>21.4</td>\n",
       "    </tr>\n",
       "    <tr>\n",
       "      <th>4</th>\n",
       "      <td>18.7</td>\n",
       "    </tr>\n",
       "  </tbody>\n",
       "</table>\n",
       "</div>"
      ],
      "text/plain": [
       "    mpg\n",
       "0  21.0\n",
       "1  21.0\n",
       "2  22.8\n",
       "3  21.4\n",
       "4  18.7"
      ]
     },
     "metadata": {},
     "output_type": "display_data"
    },
    {
     "name": "stdout",
     "output_type": "stream",
     "text": [
      "names: \n"
     ]
    },
    {
     "data": {
      "text/html": [
       "<div>\n",
       "<style scoped>\n",
       "    .dataframe tbody tr th:only-of-type {\n",
       "        vertical-align: middle;\n",
       "    }\n",
       "\n",
       "    .dataframe tbody tr th {\n",
       "        vertical-align: top;\n",
       "    }\n",
       "\n",
       "    .dataframe thead th {\n",
       "        text-align: right;\n",
       "    }\n",
       "</style>\n",
       "<table border=\"1\" class=\"dataframe\">\n",
       "  <thead>\n",
       "    <tr style=\"text-align: right;\">\n",
       "      <th></th>\n",
       "      <th>hp</th>\n",
       "    </tr>\n",
       "  </thead>\n",
       "  <tbody>\n",
       "    <tr>\n",
       "      <th>0</th>\n",
       "      <td># Cylinders: 6.0&lt;br&gt;# Carbs: 4.0&lt;br&gt;# Gears: 4...</td>\n",
       "    </tr>\n",
       "    <tr>\n",
       "      <th>1</th>\n",
       "      <td># Cylinders: 6.0&lt;br&gt;# Carbs: 4.0&lt;br&gt;# Gears: 4...</td>\n",
       "    </tr>\n",
       "    <tr>\n",
       "      <th>2</th>\n",
       "      <td># Cylinders: 4.0&lt;br&gt;# Carbs: 1.0&lt;br&gt;# Gears: 4...</td>\n",
       "    </tr>\n",
       "    <tr>\n",
       "      <th>3</th>\n",
       "      <td># Cylinders: 6.0&lt;br&gt;# Carbs: 1.0&lt;br&gt;# Gears: 3...</td>\n",
       "    </tr>\n",
       "    <tr>\n",
       "      <th>4</th>\n",
       "      <td># Cylinders: 8.0&lt;br&gt;# Carbs: 2.0&lt;br&gt;# Gears: 3...</td>\n",
       "    </tr>\n",
       "  </tbody>\n",
       "</table>\n",
       "</div>"
      ],
      "text/plain": [
       "                                                  hp\n",
       "0  # Cylinders: 6.0<br># Carbs: 4.0<br># Gears: 4...\n",
       "1  # Cylinders: 6.0<br># Carbs: 4.0<br># Gears: 4...\n",
       "2  # Cylinders: 4.0<br># Carbs: 1.0<br># Gears: 4...\n",
       "3  # Cylinders: 6.0<br># Carbs: 1.0<br># Gears: 3...\n",
       "4  # Cylinders: 8.0<br># Carbs: 2.0<br># Gears: 3..."
      ]
     },
     "metadata": {},
     "output_type": "display_data"
    },
    {
     "name": "stdout",
     "output_type": "stream",
     "text": [
      "colors: \n"
     ]
    },
    {
     "data": {
      "text/html": [
       "<div>\n",
       "<style scoped>\n",
       "    .dataframe tbody tr th:only-of-type {\n",
       "        vertical-align: middle;\n",
       "    }\n",
       "\n",
       "    .dataframe tbody tr th {\n",
       "        vertical-align: top;\n",
       "    }\n",
       "\n",
       "    .dataframe thead th {\n",
       "        text-align: right;\n",
       "    }\n",
       "</style>\n",
       "<table border=\"1\" class=\"dataframe\">\n",
       "  <thead>\n",
       "    <tr style=\"text-align: right;\">\n",
       "      <th></th>\n",
       "      <th>hp</th>\n",
       "    </tr>\n",
       "  </thead>\n",
       "  <tbody>\n",
       "    <tr>\n",
       "      <th>0</th>\n",
       "      <td>#C14953</td>\n",
       "    </tr>\n",
       "    <tr>\n",
       "      <th>1</th>\n",
       "      <td>#C14953</td>\n",
       "    </tr>\n",
       "    <tr>\n",
       "      <th>2</th>\n",
       "      <td>#C14953</td>\n",
       "    </tr>\n",
       "    <tr>\n",
       "      <th>3</th>\n",
       "      <td>#C14953</td>\n",
       "    </tr>\n",
       "    <tr>\n",
       "      <th>4</th>\n",
       "      <td>#C14953</td>\n",
       "    </tr>\n",
       "  </tbody>\n",
       "</table>\n",
       "</div>"
      ],
      "text/plain": [
       "        hp\n",
       "0  #C14953\n",
       "1  #C14953\n",
       "2  #C14953\n",
       "3  #C14953\n",
       "4  #C14953"
      ]
     },
     "metadata": {},
     "output_type": "display_data"
    }
   ],
   "source": [
    "# create main data \n",
    "sl = df[['hp', 'mpg']].copy()\n",
    "x_data = sl[['hp']].copy()\n",
    "y_data = sl[['mpg']].copy()\n",
    "\n",
    "print('x values:')\n",
    "display(x_data.head())\n",
    "\n",
    "print('y values:')\n",
    "display(y_data.head())\n",
    "\n",
    "# create names\n",
    "n = (df[['cyl', 'carb', 'gear', 'wt']].apply(\n",
    "      lambda x: '# Cylinders: %s<br># Carbs: %s<br># Gears: %s<br>Weight: %s' % (x['cyl'], x['carb'], \n",
    "                                                                                   x['gear'], x['wt']),\n",
    "      axis=1\n",
    "    )\n",
    "  ).copy()\n",
    "\n",
    "n = n.rename('mpg')\n",
    "\n",
    "names = sl.copy()\n",
    "names['hp'] = n\n",
    "del names['mpg']\n",
    "\n",
    "print('names: ')\n",
    "display(names.head())\n",
    "\n",
    "# create colors \n",
    "colors = sl.copy()\n",
    "colors.loc[:, :] = '#C14953'\n",
    "del colors['mpg']\n",
    "\n",
    "print('colors: ')\n",
    "display(colors.head())"
   ]
  },
  {
   "cell_type": "markdown",
   "metadata": {},
   "source": [
    "The `scatterplot` module takes a separate dataframe for the x values and for the y values:"
   ]
  },
  {
   "cell_type": "code",
   "execution_count": 30,
   "metadata": {},
   "outputs": [
    {
     "data": {
      "text/html": [
       "<script type=\"text/javascript\">window.PlotlyConfig = {MathJaxConfig: 'local'};</script><script type=\"text/javascript\">if (window.MathJax) {MathJax.Hub.Config({SVG: {font: \"STIX-Web\"}});}</script><script>requirejs.config({paths: { 'plotly': ['https://cdn.plot.ly/plotly-latest.min']},});if(!window._Plotly) {require(['plotly'],function(plotly) {window._Plotly=plotly;});}</script>"
      ],
      "text/vnd.plotly.v1+html": [
       "<script type=\"text/javascript\">window.PlotlyConfig = {MathJaxConfig: 'local'};</script><script type=\"text/javascript\">if (window.MathJax) {MathJax.Hub.Config({SVG: {font: \"STIX-Web\"}});}</script><script>requirejs.config({paths: { 'plotly': ['https://cdn.plot.ly/plotly-latest.min']},});if(!window._Plotly) {require(['plotly'],function(plotly) {window._Plotly=plotly;});}</script>"
      ]
     },
     "metadata": {},
     "output_type": "display_data"
    },
    {
     "data": {
      "application/vnd.plotly.v1+json": {
       "config": {
        "linkText": "Export to plot.ly",
        "plotlyServerURL": "https://plot.ly",
        "showLink": true
       },
       "data": [
        {
         "marker": {
          "color": [
           "#232C65",
           "#232C65",
           "#232C65",
           "#232C65",
           "#232C65",
           "#232C65",
           "#232C65",
           "#232C65",
           "#232C65",
           "#232C65",
           "#232C65",
           "#232C65",
           "#232C65",
           "#232C65",
           "#232C65",
           "#232C65",
           "#232C65",
           "#232C65",
           "#232C65",
           "#232C65",
           "#232C65",
           "#232C65",
           "#232C65",
           "#232C65",
           "#232C65",
           "#232C65",
           "#232C65",
           "#232C65",
           "#232C65",
           "#232C65",
           "#232C65",
           "#232C65"
          ]
         },
         "mode": "markers",
         "name": "hp",
         "text": [
          110,
          110,
          93,
          110,
          175,
          105,
          245,
          62,
          95,
          123,
          123,
          180,
          180,
          180,
          205,
          215,
          230,
          66,
          52,
          65,
          97,
          150,
          150,
          245,
          175,
          66,
          91,
          113,
          264,
          175,
          335,
          109
         ],
         "type": "scatter",
         "uid": "e8d8b336-b31c-44f6-9c6d-79f3d07a4644",
         "x": [
          110,
          110,
          93,
          110,
          175,
          105,
          245,
          62,
          95,
          123,
          123,
          180,
          180,
          180,
          205,
          215,
          230,
          66,
          52,
          65,
          97,
          150,
          150,
          245,
          175,
          66,
          91,
          113,
          264,
          175,
          335,
          109
         ],
         "y": [
          21,
          21,
          22.8,
          21.4,
          18.7,
          18.1,
          14.3,
          24.4,
          22.8,
          19.2,
          17.8,
          16.4,
          17.3,
          15.2,
          10.4,
          10.4,
          14.7,
          32.4,
          30.4,
          33.9,
          21.5,
          15.5,
          15.2,
          13.3,
          19.2,
          27.3,
          26,
          30.4,
          15.8,
          19.7,
          15,
          21.4
         ]
        }
       ],
       "layout": {
        "hovermode": "x",
        "plot_bgcolor": "rgb(229, 229, 229)",
        "title": "title",
        "xaxis": {
         "gridcolor": "rgb(255,255,255)",
         "tickangle": 30,
         "title": "xlab",
         "zerolinecolor": "rgb(255,255,255)"
        },
        "yaxis": {
         "gridcolor": "rgb(255,255,255)",
         "title": "ylab",
         "zerolinecolor": "rgb(255,255,255)"
        }
       }
      },
      "text/html": [
       "<div id=\"e2d7ec8a-a503-423f-826c-5f00fe00d4ee\" style=\"height: 525px; width: 100%;\" class=\"plotly-graph-div\"></div><script type=\"text/javascript\">require([\"plotly\"], function(Plotly) { window.PLOTLYENV=window.PLOTLYENV || {};window.PLOTLYENV.BASE_URL=\"https://plot.ly\";Plotly.newPlot(\"e2d7ec8a-a503-423f-826c-5f00fe00d4ee\", [{\"marker\": {\"color\": [\"#232C65\", \"#232C65\", \"#232C65\", \"#232C65\", \"#232C65\", \"#232C65\", \"#232C65\", \"#232C65\", \"#232C65\", \"#232C65\", \"#232C65\", \"#232C65\", \"#232C65\", \"#232C65\", \"#232C65\", \"#232C65\", \"#232C65\", \"#232C65\", \"#232C65\", \"#232C65\", \"#232C65\", \"#232C65\", \"#232C65\", \"#232C65\", \"#232C65\", \"#232C65\", \"#232C65\", \"#232C65\", \"#232C65\", \"#232C65\", \"#232C65\", \"#232C65\"]}, \"mode\": \"markers\", \"name\": \"hp\", \"text\": [110.0, 110.0, 93.0, 110.0, 175.0, 105.0, 245.0, 62.0, 95.0, 123.0, 123.0, 180.0, 180.0, 180.0, 205.0, 215.0, 230.0, 66.0, 52.0, 65.0, 97.0, 150.0, 150.0, 245.0, 175.0, 66.0, 91.0, 113.0, 264.0, 175.0, 335.0, 109.0], \"x\": [110, 110, 93, 110, 175, 105, 245, 62, 95, 123, 123, 180, 180, 180, 205, 215, 230, 66, 52, 65, 97, 150, 150, 245, 175, 66, 91, 113, 264, 175, 335, 109], \"y\": [21.0, 21.0, 22.8, 21.4, 18.7, 18.1, 14.3, 24.4, 22.8, 19.2, 17.8, 16.4, 17.3, 15.2, 10.4, 10.4, 14.7, 32.4, 30.4, 33.9, 21.5, 15.5, 15.2, 13.3, 19.2, 27.3, 26.0, 30.4, 15.8, 19.7, 15.0, 21.4], \"type\": \"scatter\", \"uid\": \"e8d8b336-b31c-44f6-9c6d-79f3d07a4644\"}], {\"hovermode\": \"x\", \"plot_bgcolor\": \"rgb(229, 229, 229)\", \"title\": \"title\", \"xaxis\": {\"gridcolor\": \"rgb(255,255,255)\", \"tickangle\": 30, \"title\": \"xlab\", \"zerolinecolor\": \"rgb(255,255,255)\"}, \"yaxis\": {\"gridcolor\": \"rgb(255,255,255)\", \"title\": \"ylab\", \"zerolinecolor\": \"rgb(255,255,255)\"}}, {\"showLink\": true, \"linkText\": \"Export to plot.ly\", \"plotlyServerURL\": \"https://plot.ly\"})});</script><script type=\"text/javascript\">window.addEventListener(\"resize\", function(){window._Plotly.Plots.resize(document.getElementById(\"e2d7ec8a-a503-423f-826c-5f00fe00d4ee\"));});</script>"
      ],
      "text/vnd.plotly.v1+html": [
       "<div id=\"e2d7ec8a-a503-423f-826c-5f00fe00d4ee\" style=\"height: 525px; width: 100%;\" class=\"plotly-graph-div\"></div><script type=\"text/javascript\">require([\"plotly\"], function(Plotly) { window.PLOTLYENV=window.PLOTLYENV || {};window.PLOTLYENV.BASE_URL=\"https://plot.ly\";Plotly.newPlot(\"e2d7ec8a-a503-423f-826c-5f00fe00d4ee\", [{\"marker\": {\"color\": [\"#232C65\", \"#232C65\", \"#232C65\", \"#232C65\", \"#232C65\", \"#232C65\", \"#232C65\", \"#232C65\", \"#232C65\", \"#232C65\", \"#232C65\", \"#232C65\", \"#232C65\", \"#232C65\", \"#232C65\", \"#232C65\", \"#232C65\", \"#232C65\", \"#232C65\", \"#232C65\", \"#232C65\", \"#232C65\", \"#232C65\", \"#232C65\", \"#232C65\", \"#232C65\", \"#232C65\", \"#232C65\", \"#232C65\", \"#232C65\", \"#232C65\", \"#232C65\"]}, \"mode\": \"markers\", \"name\": \"hp\", \"text\": [110.0, 110.0, 93.0, 110.0, 175.0, 105.0, 245.0, 62.0, 95.0, 123.0, 123.0, 180.0, 180.0, 180.0, 205.0, 215.0, 230.0, 66.0, 52.0, 65.0, 97.0, 150.0, 150.0, 245.0, 175.0, 66.0, 91.0, 113.0, 264.0, 175.0, 335.0, 109.0], \"x\": [110, 110, 93, 110, 175, 105, 245, 62, 95, 123, 123, 180, 180, 180, 205, 215, 230, 66, 52, 65, 97, 150, 150, 245, 175, 66, 91, 113, 264, 175, 335, 109], \"y\": [21.0, 21.0, 22.8, 21.4, 18.7, 18.1, 14.3, 24.4, 22.8, 19.2, 17.8, 16.4, 17.3, 15.2, 10.4, 10.4, 14.7, 32.4, 30.4, 33.9, 21.5, 15.5, 15.2, 13.3, 19.2, 27.3, 26.0, 30.4, 15.8, 19.7, 15.0, 21.4], \"type\": \"scatter\", \"uid\": \"e8d8b336-b31c-44f6-9c6d-79f3d07a4644\"}], {\"hovermode\": \"x\", \"plot_bgcolor\": \"rgb(229, 229, 229)\", \"title\": \"title\", \"xaxis\": {\"gridcolor\": \"rgb(255,255,255)\", \"tickangle\": 30, \"title\": \"xlab\", \"zerolinecolor\": \"rgb(255,255,255)\"}, \"yaxis\": {\"gridcolor\": \"rgb(255,255,255)\", \"title\": \"ylab\", \"zerolinecolor\": \"rgb(255,255,255)\"}}, {\"showLink\": true, \"linkText\": \"Export to plot.ly\", \"plotlyServerURL\": \"https://plot.ly\"})});</script><script type=\"text/javascript\">window.addEventListener(\"resize\", function(){window._Plotly.Plots.resize(document.getElementById(\"e2d7ec8a-a503-423f-826c-5f00fe00d4ee\"));});</script>"
      ]
     },
     "metadata": {},
     "output_type": "display_data"
    }
   ],
   "source": [
    "args = {'x_data':x_data, 'y_data':y_data}\n",
    "fig = scatterplot.create_graph(**args)"
   ]
  },
  {
   "cell_type": "markdown",
   "metadata": {},
   "source": [
    "Adding names, labels and colors:"
   ]
  },
  {
   "cell_type": "code",
   "execution_count": 31,
   "metadata": {},
   "outputs": [
    {
     "data": {
      "text/html": [
       "<script type=\"text/javascript\">window.PlotlyConfig = {MathJaxConfig: 'local'};</script><script type=\"text/javascript\">if (window.MathJax) {MathJax.Hub.Config({SVG: {font: \"STIX-Web\"}});}</script><script>requirejs.config({paths: { 'plotly': ['https://cdn.plot.ly/plotly-latest.min']},});if(!window._Plotly) {require(['plotly'],function(plotly) {window._Plotly=plotly;});}</script>"
      ],
      "text/vnd.plotly.v1+html": [
       "<script type=\"text/javascript\">window.PlotlyConfig = {MathJaxConfig: 'local'};</script><script type=\"text/javascript\">if (window.MathJax) {MathJax.Hub.Config({SVG: {font: \"STIX-Web\"}});}</script><script>requirejs.config({paths: { 'plotly': ['https://cdn.plot.ly/plotly-latest.min']},});if(!window._Plotly) {require(['plotly'],function(plotly) {window._Plotly=plotly;});}</script>"
      ]
     },
     "metadata": {},
     "output_type": "display_data"
    },
    {
     "data": {
      "application/vnd.plotly.v1+json": {
       "config": {
        "linkText": "Export to plot.ly",
        "plotlyServerURL": "https://plot.ly",
        "showLink": true
       },
       "data": [
        {
         "marker": {
          "color": [
           "#C14953",
           "#C14953",
           "#C14953",
           "#C14953",
           "#C14953",
           "#C14953",
           "#C14953",
           "#C14953",
           "#C14953",
           "#C14953",
           "#C14953",
           "#C14953",
           "#C14953",
           "#C14953",
           "#C14953",
           "#C14953",
           "#C14953",
           "#C14953",
           "#C14953",
           "#C14953",
           "#C14953",
           "#C14953",
           "#C14953",
           "#C14953",
           "#C14953",
           "#C14953",
           "#C14953",
           "#C14953",
           "#C14953",
           "#C14953",
           "#C14953",
           "#C14953"
          ]
         },
         "mode": "markers",
         "name": "hp",
         "text": [
          "# Cylinders: 6.0<br># Carbs: 4.0<br># Gears: 4.0<br>Weight: 2.62",
          "# Cylinders: 6.0<br># Carbs: 4.0<br># Gears: 4.0<br>Weight: 2.875",
          "# Cylinders: 4.0<br># Carbs: 1.0<br># Gears: 4.0<br>Weight: 2.32",
          "# Cylinders: 6.0<br># Carbs: 1.0<br># Gears: 3.0<br>Weight: 3.215",
          "# Cylinders: 8.0<br># Carbs: 2.0<br># Gears: 3.0<br>Weight: 3.44",
          "# Cylinders: 6.0<br># Carbs: 1.0<br># Gears: 3.0<br>Weight: 3.46",
          "# Cylinders: 8.0<br># Carbs: 4.0<br># Gears: 3.0<br>Weight: 3.57",
          "# Cylinders: 4.0<br># Carbs: 2.0<br># Gears: 4.0<br>Weight: 3.19",
          "# Cylinders: 4.0<br># Carbs: 2.0<br># Gears: 4.0<br>Weight: 3.15",
          "# Cylinders: 6.0<br># Carbs: 4.0<br># Gears: 4.0<br>Weight: 3.44",
          "# Cylinders: 6.0<br># Carbs: 4.0<br># Gears: 4.0<br>Weight: 3.44",
          "# Cylinders: 8.0<br># Carbs: 3.0<br># Gears: 3.0<br>Weight: 4.07",
          "# Cylinders: 8.0<br># Carbs: 3.0<br># Gears: 3.0<br>Weight: 3.73",
          "# Cylinders: 8.0<br># Carbs: 3.0<br># Gears: 3.0<br>Weight: 3.78",
          "# Cylinders: 8.0<br># Carbs: 4.0<br># Gears: 3.0<br>Weight: 5.25",
          "# Cylinders: 8.0<br># Carbs: 4.0<br># Gears: 3.0<br>Weight: 5.4239999999999995",
          "# Cylinders: 8.0<br># Carbs: 4.0<br># Gears: 3.0<br>Weight: 5.345",
          "# Cylinders: 4.0<br># Carbs: 1.0<br># Gears: 4.0<br>Weight: 2.2",
          "# Cylinders: 4.0<br># Carbs: 2.0<br># Gears: 4.0<br>Weight: 1.615",
          "# Cylinders: 4.0<br># Carbs: 1.0<br># Gears: 4.0<br>Weight: 1.835",
          "# Cylinders: 4.0<br># Carbs: 1.0<br># Gears: 3.0<br>Weight: 2.465",
          "# Cylinders: 8.0<br># Carbs: 2.0<br># Gears: 3.0<br>Weight: 3.52",
          "# Cylinders: 8.0<br># Carbs: 2.0<br># Gears: 3.0<br>Weight: 3.435",
          "# Cylinders: 8.0<br># Carbs: 4.0<br># Gears: 3.0<br>Weight: 3.84",
          "# Cylinders: 8.0<br># Carbs: 2.0<br># Gears: 3.0<br>Weight: 3.845",
          "# Cylinders: 4.0<br># Carbs: 1.0<br># Gears: 4.0<br>Weight: 1.935",
          "# Cylinders: 4.0<br># Carbs: 2.0<br># Gears: 5.0<br>Weight: 2.14",
          "# Cylinders: 4.0<br># Carbs: 2.0<br># Gears: 5.0<br>Weight: 1.5130000000000001",
          "# Cylinders: 8.0<br># Carbs: 4.0<br># Gears: 5.0<br>Weight: 3.17",
          "# Cylinders: 6.0<br># Carbs: 6.0<br># Gears: 5.0<br>Weight: 2.77",
          "# Cylinders: 8.0<br># Carbs: 8.0<br># Gears: 5.0<br>Weight: 3.57",
          "# Cylinders: 4.0<br># Carbs: 2.0<br># Gears: 4.0<br>Weight: 2.78"
         ],
         "type": "scatter",
         "uid": "af70e6d1-e8cb-4625-bb35-201bbf3f1252",
         "x": [
          110,
          110,
          93,
          110,
          175,
          105,
          245,
          62,
          95,
          123,
          123,
          180,
          180,
          180,
          205,
          215,
          230,
          66,
          52,
          65,
          97,
          150,
          150,
          245,
          175,
          66,
          91,
          113,
          264,
          175,
          335,
          109
         ],
         "y": [
          21,
          21,
          22.8,
          21.4,
          18.7,
          18.1,
          14.3,
          24.4,
          22.8,
          19.2,
          17.8,
          16.4,
          17.3,
          15.2,
          10.4,
          10.4,
          14.7,
          32.4,
          30.4,
          33.9,
          21.5,
          15.5,
          15.2,
          13.3,
          19.2,
          27.3,
          26,
          30.4,
          15.8,
          19.7,
          15,
          21.4
         ]
        }
       ],
       "layout": {
        "hovermode": "x",
        "plot_bgcolor": "rgb(229, 229, 229)",
        "title": "<b>Fuel Mileage as a Function of Horsepower</b><br><i>for mtcars data</i>",
        "xaxis": {
         "gridcolor": "rgb(255,255,255)",
         "tickangle": 30,
         "title": "Horsepower",
         "zerolinecolor": "rgb(255,255,255)"
        },
        "yaxis": {
         "gridcolor": "rgb(255,255,255)",
         "title": "Fuel Mileage (mpg)",
         "zerolinecolor": "rgb(255,255,255)"
        }
       }
      },
      "text/html": [
       "<div id=\"1a8709f1-edc9-4bb5-b8c8-98e9a14acc9e\" style=\"height: 525px; width: 100%;\" class=\"plotly-graph-div\"></div><script type=\"text/javascript\">require([\"plotly\"], function(Plotly) { window.PLOTLYENV=window.PLOTLYENV || {};window.PLOTLYENV.BASE_URL=\"https://plot.ly\";Plotly.newPlot(\"1a8709f1-edc9-4bb5-b8c8-98e9a14acc9e\", [{\"marker\": {\"color\": [\"#C14953\", \"#C14953\", \"#C14953\", \"#C14953\", \"#C14953\", \"#C14953\", \"#C14953\", \"#C14953\", \"#C14953\", \"#C14953\", \"#C14953\", \"#C14953\", \"#C14953\", \"#C14953\", \"#C14953\", \"#C14953\", \"#C14953\", \"#C14953\", \"#C14953\", \"#C14953\", \"#C14953\", \"#C14953\", \"#C14953\", \"#C14953\", \"#C14953\", \"#C14953\", \"#C14953\", \"#C14953\", \"#C14953\", \"#C14953\", \"#C14953\", \"#C14953\"]}, \"mode\": \"markers\", \"name\": \"hp\", \"text\": [\"# Cylinders: 6.0<br># Carbs: 4.0<br># Gears: 4.0<br>Weight: 2.62\", \"# Cylinders: 6.0<br># Carbs: 4.0<br># Gears: 4.0<br>Weight: 2.875\", \"# Cylinders: 4.0<br># Carbs: 1.0<br># Gears: 4.0<br>Weight: 2.32\", \"# Cylinders: 6.0<br># Carbs: 1.0<br># Gears: 3.0<br>Weight: 3.215\", \"# Cylinders: 8.0<br># Carbs: 2.0<br># Gears: 3.0<br>Weight: 3.44\", \"# Cylinders: 6.0<br># Carbs: 1.0<br># Gears: 3.0<br>Weight: 3.46\", \"# Cylinders: 8.0<br># Carbs: 4.0<br># Gears: 3.0<br>Weight: 3.57\", \"# Cylinders: 4.0<br># Carbs: 2.0<br># Gears: 4.0<br>Weight: 3.19\", \"# Cylinders: 4.0<br># Carbs: 2.0<br># Gears: 4.0<br>Weight: 3.15\", \"# Cylinders: 6.0<br># Carbs: 4.0<br># Gears: 4.0<br>Weight: 3.44\", \"# Cylinders: 6.0<br># Carbs: 4.0<br># Gears: 4.0<br>Weight: 3.44\", \"# Cylinders: 8.0<br># Carbs: 3.0<br># Gears: 3.0<br>Weight: 4.07\", \"# Cylinders: 8.0<br># Carbs: 3.0<br># Gears: 3.0<br>Weight: 3.73\", \"# Cylinders: 8.0<br># Carbs: 3.0<br># Gears: 3.0<br>Weight: 3.78\", \"# Cylinders: 8.0<br># Carbs: 4.0<br># Gears: 3.0<br>Weight: 5.25\", \"# Cylinders: 8.0<br># Carbs: 4.0<br># Gears: 3.0<br>Weight: 5.4239999999999995\", \"# Cylinders: 8.0<br># Carbs: 4.0<br># Gears: 3.0<br>Weight: 5.345\", \"# Cylinders: 4.0<br># Carbs: 1.0<br># Gears: 4.0<br>Weight: 2.2\", \"# Cylinders: 4.0<br># Carbs: 2.0<br># Gears: 4.0<br>Weight: 1.615\", \"# Cylinders: 4.0<br># Carbs: 1.0<br># Gears: 4.0<br>Weight: 1.835\", \"# Cylinders: 4.0<br># Carbs: 1.0<br># Gears: 3.0<br>Weight: 2.465\", \"# Cylinders: 8.0<br># Carbs: 2.0<br># Gears: 3.0<br>Weight: 3.52\", \"# Cylinders: 8.0<br># Carbs: 2.0<br># Gears: 3.0<br>Weight: 3.435\", \"# Cylinders: 8.0<br># Carbs: 4.0<br># Gears: 3.0<br>Weight: 3.84\", \"# Cylinders: 8.0<br># Carbs: 2.0<br># Gears: 3.0<br>Weight: 3.845\", \"# Cylinders: 4.0<br># Carbs: 1.0<br># Gears: 4.0<br>Weight: 1.935\", \"# Cylinders: 4.0<br># Carbs: 2.0<br># Gears: 5.0<br>Weight: 2.14\", \"# Cylinders: 4.0<br># Carbs: 2.0<br># Gears: 5.0<br>Weight: 1.5130000000000001\", \"# Cylinders: 8.0<br># Carbs: 4.0<br># Gears: 5.0<br>Weight: 3.17\", \"# Cylinders: 6.0<br># Carbs: 6.0<br># Gears: 5.0<br>Weight: 2.77\", \"# Cylinders: 8.0<br># Carbs: 8.0<br># Gears: 5.0<br>Weight: 3.57\", \"# Cylinders: 4.0<br># Carbs: 2.0<br># Gears: 4.0<br>Weight: 2.78\"], \"x\": [110, 110, 93, 110, 175, 105, 245, 62, 95, 123, 123, 180, 180, 180, 205, 215, 230, 66, 52, 65, 97, 150, 150, 245, 175, 66, 91, 113, 264, 175, 335, 109], \"y\": [21.0, 21.0, 22.8, 21.4, 18.7, 18.1, 14.3, 24.4, 22.8, 19.2, 17.8, 16.4, 17.3, 15.2, 10.4, 10.4, 14.7, 32.4, 30.4, 33.9, 21.5, 15.5, 15.2, 13.3, 19.2, 27.3, 26.0, 30.4, 15.8, 19.7, 15.0, 21.4], \"type\": \"scatter\", \"uid\": \"af70e6d1-e8cb-4625-bb35-201bbf3f1252\"}], {\"hovermode\": \"x\", \"plot_bgcolor\": \"rgb(229, 229, 229)\", \"title\": \"<b>Fuel Mileage as a Function of Horsepower</b><br><i>for mtcars data</i>\", \"xaxis\": {\"gridcolor\": \"rgb(255,255,255)\", \"tickangle\": 30, \"title\": \"Horsepower\", \"zerolinecolor\": \"rgb(255,255,255)\"}, \"yaxis\": {\"gridcolor\": \"rgb(255,255,255)\", \"title\": \"Fuel Mileage (mpg)\", \"zerolinecolor\": \"rgb(255,255,255)\"}}, {\"showLink\": true, \"linkText\": \"Export to plot.ly\", \"plotlyServerURL\": \"https://plot.ly\"})});</script><script type=\"text/javascript\">window.addEventListener(\"resize\", function(){window._Plotly.Plots.resize(document.getElementById(\"1a8709f1-edc9-4bb5-b8c8-98e9a14acc9e\"));});</script>"
      ],
      "text/vnd.plotly.v1+html": [
       "<div id=\"1a8709f1-edc9-4bb5-b8c8-98e9a14acc9e\" style=\"height: 525px; width: 100%;\" class=\"plotly-graph-div\"></div><script type=\"text/javascript\">require([\"plotly\"], function(Plotly) { window.PLOTLYENV=window.PLOTLYENV || {};window.PLOTLYENV.BASE_URL=\"https://plot.ly\";Plotly.newPlot(\"1a8709f1-edc9-4bb5-b8c8-98e9a14acc9e\", [{\"marker\": {\"color\": [\"#C14953\", \"#C14953\", \"#C14953\", \"#C14953\", \"#C14953\", \"#C14953\", \"#C14953\", \"#C14953\", \"#C14953\", \"#C14953\", \"#C14953\", \"#C14953\", \"#C14953\", \"#C14953\", \"#C14953\", \"#C14953\", \"#C14953\", \"#C14953\", \"#C14953\", \"#C14953\", \"#C14953\", \"#C14953\", \"#C14953\", \"#C14953\", \"#C14953\", \"#C14953\", \"#C14953\", \"#C14953\", \"#C14953\", \"#C14953\", \"#C14953\", \"#C14953\"]}, \"mode\": \"markers\", \"name\": \"hp\", \"text\": [\"# Cylinders: 6.0<br># Carbs: 4.0<br># Gears: 4.0<br>Weight: 2.62\", \"# Cylinders: 6.0<br># Carbs: 4.0<br># Gears: 4.0<br>Weight: 2.875\", \"# Cylinders: 4.0<br># Carbs: 1.0<br># Gears: 4.0<br>Weight: 2.32\", \"# Cylinders: 6.0<br># Carbs: 1.0<br># Gears: 3.0<br>Weight: 3.215\", \"# Cylinders: 8.0<br># Carbs: 2.0<br># Gears: 3.0<br>Weight: 3.44\", \"# Cylinders: 6.0<br># Carbs: 1.0<br># Gears: 3.0<br>Weight: 3.46\", \"# Cylinders: 8.0<br># Carbs: 4.0<br># Gears: 3.0<br>Weight: 3.57\", \"# Cylinders: 4.0<br># Carbs: 2.0<br># Gears: 4.0<br>Weight: 3.19\", \"# Cylinders: 4.0<br># Carbs: 2.0<br># Gears: 4.0<br>Weight: 3.15\", \"# Cylinders: 6.0<br># Carbs: 4.0<br># Gears: 4.0<br>Weight: 3.44\", \"# Cylinders: 6.0<br># Carbs: 4.0<br># Gears: 4.0<br>Weight: 3.44\", \"# Cylinders: 8.0<br># Carbs: 3.0<br># Gears: 3.0<br>Weight: 4.07\", \"# Cylinders: 8.0<br># Carbs: 3.0<br># Gears: 3.0<br>Weight: 3.73\", \"# Cylinders: 8.0<br># Carbs: 3.0<br># Gears: 3.0<br>Weight: 3.78\", \"# Cylinders: 8.0<br># Carbs: 4.0<br># Gears: 3.0<br>Weight: 5.25\", \"# Cylinders: 8.0<br># Carbs: 4.0<br># Gears: 3.0<br>Weight: 5.4239999999999995\", \"# Cylinders: 8.0<br># Carbs: 4.0<br># Gears: 3.0<br>Weight: 5.345\", \"# Cylinders: 4.0<br># Carbs: 1.0<br># Gears: 4.0<br>Weight: 2.2\", \"# Cylinders: 4.0<br># Carbs: 2.0<br># Gears: 4.0<br>Weight: 1.615\", \"# Cylinders: 4.0<br># Carbs: 1.0<br># Gears: 4.0<br>Weight: 1.835\", \"# Cylinders: 4.0<br># Carbs: 1.0<br># Gears: 3.0<br>Weight: 2.465\", \"# Cylinders: 8.0<br># Carbs: 2.0<br># Gears: 3.0<br>Weight: 3.52\", \"# Cylinders: 8.0<br># Carbs: 2.0<br># Gears: 3.0<br>Weight: 3.435\", \"# Cylinders: 8.0<br># Carbs: 4.0<br># Gears: 3.0<br>Weight: 3.84\", \"# Cylinders: 8.0<br># Carbs: 2.0<br># Gears: 3.0<br>Weight: 3.845\", \"# Cylinders: 4.0<br># Carbs: 1.0<br># Gears: 4.0<br>Weight: 1.935\", \"# Cylinders: 4.0<br># Carbs: 2.0<br># Gears: 5.0<br>Weight: 2.14\", \"# Cylinders: 4.0<br># Carbs: 2.0<br># Gears: 5.0<br>Weight: 1.5130000000000001\", \"# Cylinders: 8.0<br># Carbs: 4.0<br># Gears: 5.0<br>Weight: 3.17\", \"# Cylinders: 6.0<br># Carbs: 6.0<br># Gears: 5.0<br>Weight: 2.77\", \"# Cylinders: 8.0<br># Carbs: 8.0<br># Gears: 5.0<br>Weight: 3.57\", \"# Cylinders: 4.0<br># Carbs: 2.0<br># Gears: 4.0<br>Weight: 2.78\"], \"x\": [110, 110, 93, 110, 175, 105, 245, 62, 95, 123, 123, 180, 180, 180, 205, 215, 230, 66, 52, 65, 97, 150, 150, 245, 175, 66, 91, 113, 264, 175, 335, 109], \"y\": [21.0, 21.0, 22.8, 21.4, 18.7, 18.1, 14.3, 24.4, 22.8, 19.2, 17.8, 16.4, 17.3, 15.2, 10.4, 10.4, 14.7, 32.4, 30.4, 33.9, 21.5, 15.5, 15.2, 13.3, 19.2, 27.3, 26.0, 30.4, 15.8, 19.7, 15.0, 21.4], \"type\": \"scatter\", \"uid\": \"af70e6d1-e8cb-4625-bb35-201bbf3f1252\"}], {\"hovermode\": \"x\", \"plot_bgcolor\": \"rgb(229, 229, 229)\", \"title\": \"<b>Fuel Mileage as a Function of Horsepower</b><br><i>for mtcars data</i>\", \"xaxis\": {\"gridcolor\": \"rgb(255,255,255)\", \"tickangle\": 30, \"title\": \"Horsepower\", \"zerolinecolor\": \"rgb(255,255,255)\"}, \"yaxis\": {\"gridcolor\": \"rgb(255,255,255)\", \"title\": \"Fuel Mileage (mpg)\", \"zerolinecolor\": \"rgb(255,255,255)\"}}, {\"showLink\": true, \"linkText\": \"Export to plot.ly\", \"plotlyServerURL\": \"https://plot.ly\"})});</script><script type=\"text/javascript\">window.addEventListener(\"resize\", function(){window._Plotly.Plots.resize(document.getElementById(\"1a8709f1-edc9-4bb5-b8c8-98e9a14acc9e\"));});</script>"
      ]
     },
     "metadata": {},
     "output_type": "display_data"
    }
   ],
   "source": [
    "# build graph args \n",
    "args['names'] = names\n",
    "args['colors'] = colors\n",
    "args['title'] = '<b>Fuel Mileage as a Function of Horsepower</b><br><i>for mtcars data</i>'\n",
    "args['xlab'] = 'Horsepower'\n",
    "args['ylab'] = 'Fuel Mileage (mpg)'\n",
    "\n",
    "# display plot\n",
    "fig = scatterplot.create_graph(**args)"
   ]
  },
  {
   "cell_type": "markdown",
   "metadata": {},
   "source": [
    "The `scatterplot` module allows for passing lists of x and y values to plot multiple series of data on the sample plot. \n",
    "\n",
    "Generate example data which compares `hp` and `mpg` before and after a made-up fuel mileage enhancement:"
   ]
  },
  {
   "cell_type": "code",
   "execution_count": 32,
   "metadata": {},
   "outputs": [
    {
     "name": "stdout",
     "output_type": "stream",
     "text": [
      "x1 values:\n"
     ]
    },
    {
     "data": {
      "text/html": [
       "<div>\n",
       "<style scoped>\n",
       "    .dataframe tbody tr th:only-of-type {\n",
       "        vertical-align: middle;\n",
       "    }\n",
       "\n",
       "    .dataframe tbody tr th {\n",
       "        vertical-align: top;\n",
       "    }\n",
       "\n",
       "    .dataframe thead th {\n",
       "        text-align: right;\n",
       "    }\n",
       "</style>\n",
       "<table border=\"1\" class=\"dataframe\">\n",
       "  <thead>\n",
       "    <tr style=\"text-align: right;\">\n",
       "      <th></th>\n",
       "      <th>hp</th>\n",
       "    </tr>\n",
       "  </thead>\n",
       "  <tbody>\n",
       "    <tr>\n",
       "      <th>0</th>\n",
       "      <td>110</td>\n",
       "    </tr>\n",
       "    <tr>\n",
       "      <th>1</th>\n",
       "      <td>110</td>\n",
       "    </tr>\n",
       "    <tr>\n",
       "      <th>2</th>\n",
       "      <td>93</td>\n",
       "    </tr>\n",
       "    <tr>\n",
       "      <th>3</th>\n",
       "      <td>110</td>\n",
       "    </tr>\n",
       "    <tr>\n",
       "      <th>4</th>\n",
       "      <td>175</td>\n",
       "    </tr>\n",
       "  </tbody>\n",
       "</table>\n",
       "</div>"
      ],
      "text/plain": [
       "    hp\n",
       "0  110\n",
       "1  110\n",
       "2   93\n",
       "3  110\n",
       "4  175"
      ]
     },
     "metadata": {},
     "output_type": "display_data"
    },
    {
     "name": "stdout",
     "output_type": "stream",
     "text": [
      "x2 values:\n"
     ]
    },
    {
     "data": {
      "text/html": [
       "<div>\n",
       "<style scoped>\n",
       "    .dataframe tbody tr th:only-of-type {\n",
       "        vertical-align: middle;\n",
       "    }\n",
       "\n",
       "    .dataframe tbody tr th {\n",
       "        vertical-align: top;\n",
       "    }\n",
       "\n",
       "    .dataframe thead th {\n",
       "        text-align: right;\n",
       "    }\n",
       "</style>\n",
       "<table border=\"1\" class=\"dataframe\">\n",
       "  <thead>\n",
       "    <tr style=\"text-align: right;\">\n",
       "      <th></th>\n",
       "      <th>hp_alt</th>\n",
       "    </tr>\n",
       "  </thead>\n",
       "  <tbody>\n",
       "    <tr>\n",
       "      <th>0</th>\n",
       "      <td>103.566658</td>\n",
       "    </tr>\n",
       "    <tr>\n",
       "      <th>1</th>\n",
       "      <td>107.318130</td>\n",
       "    </tr>\n",
       "    <tr>\n",
       "      <th>2</th>\n",
       "      <td>88.986659</td>\n",
       "    </tr>\n",
       "    <tr>\n",
       "      <th>3</th>\n",
       "      <td>103.244862</td>\n",
       "    </tr>\n",
       "    <tr>\n",
       "      <th>4</th>\n",
       "      <td>170.648826</td>\n",
       "    </tr>\n",
       "  </tbody>\n",
       "</table>\n",
       "</div>"
      ],
      "text/plain": [
       "       hp_alt\n",
       "0  103.566658\n",
       "1  107.318130\n",
       "2   88.986659\n",
       "3  103.244862\n",
       "4  170.648826"
      ]
     },
     "metadata": {},
     "output_type": "display_data"
    },
    {
     "name": "stdout",
     "output_type": "stream",
     "text": [
      "y1 values:\n"
     ]
    },
    {
     "data": {
      "text/html": [
       "<div>\n",
       "<style scoped>\n",
       "    .dataframe tbody tr th:only-of-type {\n",
       "        vertical-align: middle;\n",
       "    }\n",
       "\n",
       "    .dataframe tbody tr th {\n",
       "        vertical-align: top;\n",
       "    }\n",
       "\n",
       "    .dataframe thead th {\n",
       "        text-align: right;\n",
       "    }\n",
       "</style>\n",
       "<table border=\"1\" class=\"dataframe\">\n",
       "  <thead>\n",
       "    <tr style=\"text-align: right;\">\n",
       "      <th></th>\n",
       "      <th>mpg</th>\n",
       "    </tr>\n",
       "  </thead>\n",
       "  <tbody>\n",
       "    <tr>\n",
       "      <th>0</th>\n",
       "      <td>21.0</td>\n",
       "    </tr>\n",
       "    <tr>\n",
       "      <th>1</th>\n",
       "      <td>21.0</td>\n",
       "    </tr>\n",
       "    <tr>\n",
       "      <th>2</th>\n",
       "      <td>22.8</td>\n",
       "    </tr>\n",
       "    <tr>\n",
       "      <th>3</th>\n",
       "      <td>21.4</td>\n",
       "    </tr>\n",
       "    <tr>\n",
       "      <th>4</th>\n",
       "      <td>18.7</td>\n",
       "    </tr>\n",
       "  </tbody>\n",
       "</table>\n",
       "</div>"
      ],
      "text/plain": [
       "    mpg\n",
       "0  21.0\n",
       "1  21.0\n",
       "2  22.8\n",
       "3  21.4\n",
       "4  18.7"
      ]
     },
     "metadata": {},
     "output_type": "display_data"
    },
    {
     "name": "stdout",
     "output_type": "stream",
     "text": [
      "y2 values:\n"
     ]
    },
    {
     "data": {
      "text/html": [
       "<div>\n",
       "<style scoped>\n",
       "    .dataframe tbody tr th:only-of-type {\n",
       "        vertical-align: middle;\n",
       "    }\n",
       "\n",
       "    .dataframe tbody tr th {\n",
       "        vertical-align: top;\n",
       "    }\n",
       "\n",
       "    .dataframe thead th {\n",
       "        text-align: right;\n",
       "    }\n",
       "</style>\n",
       "<table border=\"1\" class=\"dataframe\">\n",
       "  <thead>\n",
       "    <tr style=\"text-align: right;\">\n",
       "      <th></th>\n",
       "      <th>mpg_alt</th>\n",
       "    </tr>\n",
       "  </thead>\n",
       "  <tbody>\n",
       "    <tr>\n",
       "      <th>0</th>\n",
       "      <td>27.062968</td>\n",
       "    </tr>\n",
       "    <tr>\n",
       "      <th>1</th>\n",
       "      <td>25.843158</td>\n",
       "    </tr>\n",
       "    <tr>\n",
       "      <th>2</th>\n",
       "      <td>24.575257</td>\n",
       "    </tr>\n",
       "    <tr>\n",
       "      <th>3</th>\n",
       "      <td>26.506649</td>\n",
       "    </tr>\n",
       "    <tr>\n",
       "      <th>4</th>\n",
       "      <td>23.282470</td>\n",
       "    </tr>\n",
       "  </tbody>\n",
       "</table>\n",
       "</div>"
      ],
      "text/plain": [
       "     mpg_alt\n",
       "0  27.062968\n",
       "1  25.843158\n",
       "2  24.575257\n",
       "3  26.506649\n",
       "4  23.282470"
      ]
     },
     "metadata": {},
     "output_type": "display_data"
    },
    {
     "name": "stdout",
     "output_type": "stream",
     "text": [
      "names: \n"
     ]
    },
    {
     "data": {
      "text/html": [
       "<div>\n",
       "<style scoped>\n",
       "    .dataframe tbody tr th:only-of-type {\n",
       "        vertical-align: middle;\n",
       "    }\n",
       "\n",
       "    .dataframe tbody tr th {\n",
       "        vertical-align: top;\n",
       "    }\n",
       "\n",
       "    .dataframe thead th {\n",
       "        text-align: right;\n",
       "    }\n",
       "</style>\n",
       "<table border=\"1\" class=\"dataframe\">\n",
       "  <thead>\n",
       "    <tr style=\"text-align: right;\">\n",
       "      <th></th>\n",
       "      <th>hp</th>\n",
       "      <th>hp_alt</th>\n",
       "    </tr>\n",
       "  </thead>\n",
       "  <tbody>\n",
       "    <tr>\n",
       "      <th>0</th>\n",
       "      <td>Before Treatment&lt;br&gt;Car ID 0.0&lt;br&gt;# Cylinders:...</td>\n",
       "      <td>After Treatment&lt;br&gt;Car ID 0.0&lt;br&gt;# Cylinders: ...</td>\n",
       "    </tr>\n",
       "    <tr>\n",
       "      <th>1</th>\n",
       "      <td>Before Treatment&lt;br&gt;Car ID 1.0&lt;br&gt;# Cylinders:...</td>\n",
       "      <td>After Treatment&lt;br&gt;Car ID 1.0&lt;br&gt;# Cylinders: ...</td>\n",
       "    </tr>\n",
       "    <tr>\n",
       "      <th>2</th>\n",
       "      <td>Before Treatment&lt;br&gt;Car ID 2.0&lt;br&gt;# Cylinders:...</td>\n",
       "      <td>After Treatment&lt;br&gt;Car ID 2.0&lt;br&gt;# Cylinders: ...</td>\n",
       "    </tr>\n",
       "    <tr>\n",
       "      <th>3</th>\n",
       "      <td>Before Treatment&lt;br&gt;Car ID 3.0&lt;br&gt;# Cylinders:...</td>\n",
       "      <td>After Treatment&lt;br&gt;Car ID 3.0&lt;br&gt;# Cylinders: ...</td>\n",
       "    </tr>\n",
       "    <tr>\n",
       "      <th>4</th>\n",
       "      <td>Before Treatment&lt;br&gt;Car ID 4.0&lt;br&gt;# Cylinders:...</td>\n",
       "      <td>After Treatment&lt;br&gt;Car ID 4.0&lt;br&gt;# Cylinders: ...</td>\n",
       "    </tr>\n",
       "  </tbody>\n",
       "</table>\n",
       "</div>"
      ],
      "text/plain": [
       "                                                  hp  \\\n",
       "0  Before Treatment<br>Car ID 0.0<br># Cylinders:...   \n",
       "1  Before Treatment<br>Car ID 1.0<br># Cylinders:...   \n",
       "2  Before Treatment<br>Car ID 2.0<br># Cylinders:...   \n",
       "3  Before Treatment<br>Car ID 3.0<br># Cylinders:...   \n",
       "4  Before Treatment<br>Car ID 4.0<br># Cylinders:...   \n",
       "\n",
       "                                              hp_alt  \n",
       "0  After Treatment<br>Car ID 0.0<br># Cylinders: ...  \n",
       "1  After Treatment<br>Car ID 1.0<br># Cylinders: ...  \n",
       "2  After Treatment<br>Car ID 2.0<br># Cylinders: ...  \n",
       "3  After Treatment<br>Car ID 3.0<br># Cylinders: ...  \n",
       "4  After Treatment<br>Car ID 4.0<br># Cylinders: ...  "
      ]
     },
     "metadata": {},
     "output_type": "display_data"
    },
    {
     "name": "stdout",
     "output_type": "stream",
     "text": [
      "colors: \n"
     ]
    },
    {
     "data": {
      "text/html": [
       "<div>\n",
       "<style scoped>\n",
       "    .dataframe tbody tr th:only-of-type {\n",
       "        vertical-align: middle;\n",
       "    }\n",
       "\n",
       "    .dataframe tbody tr th {\n",
       "        vertical-align: top;\n",
       "    }\n",
       "\n",
       "    .dataframe thead th {\n",
       "        text-align: right;\n",
       "    }\n",
       "</style>\n",
       "<table border=\"1\" class=\"dataframe\">\n",
       "  <thead>\n",
       "    <tr style=\"text-align: right;\">\n",
       "      <th></th>\n",
       "      <th>hp</th>\n",
       "      <th>hp_alt</th>\n",
       "    </tr>\n",
       "  </thead>\n",
       "  <tbody>\n",
       "    <tr>\n",
       "      <th>0</th>\n",
       "      <td>#232C65</td>\n",
       "      <td>#2D2D2A</td>\n",
       "    </tr>\n",
       "    <tr>\n",
       "      <th>1</th>\n",
       "      <td>#232C65</td>\n",
       "      <td>#2D2D2A</td>\n",
       "    </tr>\n",
       "    <tr>\n",
       "      <th>2</th>\n",
       "      <td>#232C65</td>\n",
       "      <td>#2D2D2A</td>\n",
       "    </tr>\n",
       "    <tr>\n",
       "      <th>3</th>\n",
       "      <td>#232C65</td>\n",
       "      <td>#2D2D2A</td>\n",
       "    </tr>\n",
       "    <tr>\n",
       "      <th>4</th>\n",
       "      <td>#232C65</td>\n",
       "      <td>#2D2D2A</td>\n",
       "    </tr>\n",
       "  </tbody>\n",
       "</table>\n",
       "</div>"
      ],
      "text/plain": [
       "        hp   hp_alt\n",
       "0  #232C65  #2D2D2A\n",
       "1  #232C65  #2D2D2A\n",
       "2  #232C65  #2D2D2A\n",
       "3  #232C65  #2D2D2A\n",
       "4  #232C65  #2D2D2A"
      ]
     },
     "metadata": {},
     "output_type": "display_data"
    }
   ],
   "source": [
    "# create main data \n",
    "sl = df[['hp', 'mpg']].copy()\n",
    "x_data = sl[['hp']].copy()\n",
    "x_data_treat = x_data.copy()\n",
    "x_data_treat['hp'] = x_data['hp'] - (np.random.normal(loc=5, scale=2, size=len(x_data)))\n",
    "x_data_treat.columns = ['hp_alt']\n",
    "y_data = sl[['mpg']].copy()\n",
    "y_data_treat = y_data.copy()\n",
    "y_data_treat['mpg'] = y_data['mpg'] + (np.random.normal(loc=5, scale=2, size=len(x_data)))\n",
    "y_data_treat.columns = ['mpg_alt']\n",
    "\n",
    "print('x1 values:')\n",
    "display(x_data.head())\n",
    "\n",
    "print('x2 values:')\n",
    "display(x_data_treat.head())\n",
    "\n",
    "print('y1 values:')\n",
    "display(y_data.head())\n",
    "\n",
    "print('y2 values:')\n",
    "display(y_data_treat.head())\n",
    "\n",
    "# create names\n",
    "n = (df.reset_index()[['index', 'cyl', 'carb', 'gear', 'wt']].apply(\n",
    "      lambda x: 'Car ID %s<br># Cylinders: %s<br># Carbs: %s<br># Gears: %s<br>Weight: %s' % (x['index'], x['cyl'], x['carb'], x['gear'], x['wt']),\n",
    "      axis=1\n",
    "    )\n",
    "  ).copy()\n",
    "\n",
    "names = sl.copy()\n",
    "names['hp'] = 'Before Treatment<br>' + n\n",
    "del names['mpg']\n",
    "names['hp_alt'] = 'After Treatment<br>' + n\n",
    "\n",
    "print('names: ')\n",
    "display(names.head())\n",
    "\n",
    "# create colors \n",
    "colors = sl.copy()\n",
    "colors.loc[:, :] = '#232C65'\n",
    "del colors['mpg']\n",
    "colors['hp_alt'] = '#2D2D2A'\n",
    "\n",
    "print('colors: ')\n",
    "display(colors.head())"
   ]
  },
  {
   "cell_type": "markdown",
   "metadata": {},
   "source": [
    "Now a list of x data and a list of y data can be used to plot both cases on the same graph:"
   ]
  },
  {
   "cell_type": "code",
   "execution_count": 33,
   "metadata": {},
   "outputs": [
    {
     "data": {
      "text/html": [
       "<script type=\"text/javascript\">window.PlotlyConfig = {MathJaxConfig: 'local'};</script><script type=\"text/javascript\">if (window.MathJax) {MathJax.Hub.Config({SVG: {font: \"STIX-Web\"}});}</script><script>requirejs.config({paths: { 'plotly': ['https://cdn.plot.ly/plotly-latest.min']},});if(!window._Plotly) {require(['plotly'],function(plotly) {window._Plotly=plotly;});}</script>"
      ],
      "text/vnd.plotly.v1+html": [
       "<script type=\"text/javascript\">window.PlotlyConfig = {MathJaxConfig: 'local'};</script><script type=\"text/javascript\">if (window.MathJax) {MathJax.Hub.Config({SVG: {font: \"STIX-Web\"}});}</script><script>requirejs.config({paths: { 'plotly': ['https://cdn.plot.ly/plotly-latest.min']},});if(!window._Plotly) {require(['plotly'],function(plotly) {window._Plotly=plotly;});}</script>"
      ]
     },
     "metadata": {},
     "output_type": "display_data"
    },
    {
     "data": {
      "application/vnd.plotly.v1+json": {
       "config": {
        "linkText": "Export to plot.ly",
        "plotlyServerURL": "https://plot.ly",
        "showLink": true
       },
       "data": [
        {
         "marker": {
          "color": [
           "#232C65",
           "#232C65",
           "#232C65",
           "#232C65",
           "#232C65",
           "#232C65",
           "#232C65",
           "#232C65",
           "#232C65",
           "#232C65",
           "#232C65",
           "#232C65",
           "#232C65",
           "#232C65",
           "#232C65",
           "#232C65",
           "#232C65",
           "#232C65",
           "#232C65",
           "#232C65",
           "#232C65",
           "#232C65",
           "#232C65",
           "#232C65",
           "#232C65",
           "#232C65",
           "#232C65",
           "#232C65",
           "#232C65",
           "#232C65",
           "#232C65",
           "#232C65"
          ]
         },
         "mode": "markers",
         "name": "hp",
         "text": [
          "Before Treatment<br>Car ID 0.0<br># Cylinders: 6.0<br># Carbs: 4.0<br># Gears: 4.0<br>Weight: 2.62",
          "Before Treatment<br>Car ID 1.0<br># Cylinders: 6.0<br># Carbs: 4.0<br># Gears: 4.0<br>Weight: 2.875",
          "Before Treatment<br>Car ID 2.0<br># Cylinders: 4.0<br># Carbs: 1.0<br># Gears: 4.0<br>Weight: 2.32",
          "Before Treatment<br>Car ID 3.0<br># Cylinders: 6.0<br># Carbs: 1.0<br># Gears: 3.0<br>Weight: 3.215",
          "Before Treatment<br>Car ID 4.0<br># Cylinders: 8.0<br># Carbs: 2.0<br># Gears: 3.0<br>Weight: 3.44",
          "Before Treatment<br>Car ID 5.0<br># Cylinders: 6.0<br># Carbs: 1.0<br># Gears: 3.0<br>Weight: 3.46",
          "Before Treatment<br>Car ID 6.0<br># Cylinders: 8.0<br># Carbs: 4.0<br># Gears: 3.0<br>Weight: 3.57",
          "Before Treatment<br>Car ID 7.0<br># Cylinders: 4.0<br># Carbs: 2.0<br># Gears: 4.0<br>Weight: 3.19",
          "Before Treatment<br>Car ID 8.0<br># Cylinders: 4.0<br># Carbs: 2.0<br># Gears: 4.0<br>Weight: 3.15",
          "Before Treatment<br>Car ID 9.0<br># Cylinders: 6.0<br># Carbs: 4.0<br># Gears: 4.0<br>Weight: 3.44",
          "Before Treatment<br>Car ID 10.0<br># Cylinders: 6.0<br># Carbs: 4.0<br># Gears: 4.0<br>Weight: 3.44",
          "Before Treatment<br>Car ID 11.0<br># Cylinders: 8.0<br># Carbs: 3.0<br># Gears: 3.0<br>Weight: 4.07",
          "Before Treatment<br>Car ID 12.0<br># Cylinders: 8.0<br># Carbs: 3.0<br># Gears: 3.0<br>Weight: 3.73",
          "Before Treatment<br>Car ID 13.0<br># Cylinders: 8.0<br># Carbs: 3.0<br># Gears: 3.0<br>Weight: 3.78",
          "Before Treatment<br>Car ID 14.0<br># Cylinders: 8.0<br># Carbs: 4.0<br># Gears: 3.0<br>Weight: 5.25",
          "Before Treatment<br>Car ID 15.0<br># Cylinders: 8.0<br># Carbs: 4.0<br># Gears: 3.0<br>Weight: 5.4239999999999995",
          "Before Treatment<br>Car ID 16.0<br># Cylinders: 8.0<br># Carbs: 4.0<br># Gears: 3.0<br>Weight: 5.345",
          "Before Treatment<br>Car ID 17.0<br># Cylinders: 4.0<br># Carbs: 1.0<br># Gears: 4.0<br>Weight: 2.2",
          "Before Treatment<br>Car ID 18.0<br># Cylinders: 4.0<br># Carbs: 2.0<br># Gears: 4.0<br>Weight: 1.615",
          "Before Treatment<br>Car ID 19.0<br># Cylinders: 4.0<br># Carbs: 1.0<br># Gears: 4.0<br>Weight: 1.835",
          "Before Treatment<br>Car ID 20.0<br># Cylinders: 4.0<br># Carbs: 1.0<br># Gears: 3.0<br>Weight: 2.465",
          "Before Treatment<br>Car ID 21.0<br># Cylinders: 8.0<br># Carbs: 2.0<br># Gears: 3.0<br>Weight: 3.52",
          "Before Treatment<br>Car ID 22.0<br># Cylinders: 8.0<br># Carbs: 2.0<br># Gears: 3.0<br>Weight: 3.435",
          "Before Treatment<br>Car ID 23.0<br># Cylinders: 8.0<br># Carbs: 4.0<br># Gears: 3.0<br>Weight: 3.84",
          "Before Treatment<br>Car ID 24.0<br># Cylinders: 8.0<br># Carbs: 2.0<br># Gears: 3.0<br>Weight: 3.845",
          "Before Treatment<br>Car ID 25.0<br># Cylinders: 4.0<br># Carbs: 1.0<br># Gears: 4.0<br>Weight: 1.935",
          "Before Treatment<br>Car ID 26.0<br># Cylinders: 4.0<br># Carbs: 2.0<br># Gears: 5.0<br>Weight: 2.14",
          "Before Treatment<br>Car ID 27.0<br># Cylinders: 4.0<br># Carbs: 2.0<br># Gears: 5.0<br>Weight: 1.5130000000000001",
          "Before Treatment<br>Car ID 28.0<br># Cylinders: 8.0<br># Carbs: 4.0<br># Gears: 5.0<br>Weight: 3.17",
          "Before Treatment<br>Car ID 29.0<br># Cylinders: 6.0<br># Carbs: 6.0<br># Gears: 5.0<br>Weight: 2.77",
          "Before Treatment<br>Car ID 30.0<br># Cylinders: 8.0<br># Carbs: 8.0<br># Gears: 5.0<br>Weight: 3.57",
          "Before Treatment<br>Car ID 31.0<br># Cylinders: 4.0<br># Carbs: 2.0<br># Gears: 4.0<br>Weight: 2.78"
         ],
         "type": "scatter",
         "uid": "0af71cd2-3c07-4a72-b375-4a9b903ebe34",
         "x": [
          110,
          110,
          93,
          110,
          175,
          105,
          245,
          62,
          95,
          123,
          123,
          180,
          180,
          180,
          205,
          215,
          230,
          66,
          52,
          65,
          97,
          150,
          150,
          245,
          175,
          66,
          91,
          113,
          264,
          175,
          335,
          109
         ],
         "y": [
          21,
          21,
          22.8,
          21.4,
          18.7,
          18.1,
          14.3,
          24.4,
          22.8,
          19.2,
          17.8,
          16.4,
          17.3,
          15.2,
          10.4,
          10.4,
          14.7,
          32.4,
          30.4,
          33.9,
          21.5,
          15.5,
          15.2,
          13.3,
          19.2,
          27.3,
          26,
          30.4,
          15.8,
          19.7,
          15,
          21.4
         ]
        },
        {
         "marker": {
          "color": [
           "#2D2D2A",
           "#2D2D2A",
           "#2D2D2A",
           "#2D2D2A",
           "#2D2D2A",
           "#2D2D2A",
           "#2D2D2A",
           "#2D2D2A",
           "#2D2D2A",
           "#2D2D2A",
           "#2D2D2A",
           "#2D2D2A",
           "#2D2D2A",
           "#2D2D2A",
           "#2D2D2A",
           "#2D2D2A",
           "#2D2D2A",
           "#2D2D2A",
           "#2D2D2A",
           "#2D2D2A",
           "#2D2D2A",
           "#2D2D2A",
           "#2D2D2A",
           "#2D2D2A",
           "#2D2D2A",
           "#2D2D2A",
           "#2D2D2A",
           "#2D2D2A",
           "#2D2D2A",
           "#2D2D2A",
           "#2D2D2A",
           "#2D2D2A"
          ]
         },
         "mode": "markers",
         "name": "hp_alt",
         "text": [
          "After Treatment<br>Car ID 0.0<br># Cylinders: 6.0<br># Carbs: 4.0<br># Gears: 4.0<br>Weight: 2.62",
          "After Treatment<br>Car ID 1.0<br># Cylinders: 6.0<br># Carbs: 4.0<br># Gears: 4.0<br>Weight: 2.875",
          "After Treatment<br>Car ID 2.0<br># Cylinders: 4.0<br># Carbs: 1.0<br># Gears: 4.0<br>Weight: 2.32",
          "After Treatment<br>Car ID 3.0<br># Cylinders: 6.0<br># Carbs: 1.0<br># Gears: 3.0<br>Weight: 3.215",
          "After Treatment<br>Car ID 4.0<br># Cylinders: 8.0<br># Carbs: 2.0<br># Gears: 3.0<br>Weight: 3.44",
          "After Treatment<br>Car ID 5.0<br># Cylinders: 6.0<br># Carbs: 1.0<br># Gears: 3.0<br>Weight: 3.46",
          "After Treatment<br>Car ID 6.0<br># Cylinders: 8.0<br># Carbs: 4.0<br># Gears: 3.0<br>Weight: 3.57",
          "After Treatment<br>Car ID 7.0<br># Cylinders: 4.0<br># Carbs: 2.0<br># Gears: 4.0<br>Weight: 3.19",
          "After Treatment<br>Car ID 8.0<br># Cylinders: 4.0<br># Carbs: 2.0<br># Gears: 4.0<br>Weight: 3.15",
          "After Treatment<br>Car ID 9.0<br># Cylinders: 6.0<br># Carbs: 4.0<br># Gears: 4.0<br>Weight: 3.44",
          "After Treatment<br>Car ID 10.0<br># Cylinders: 6.0<br># Carbs: 4.0<br># Gears: 4.0<br>Weight: 3.44",
          "After Treatment<br>Car ID 11.0<br># Cylinders: 8.0<br># Carbs: 3.0<br># Gears: 3.0<br>Weight: 4.07",
          "After Treatment<br>Car ID 12.0<br># Cylinders: 8.0<br># Carbs: 3.0<br># Gears: 3.0<br>Weight: 3.73",
          "After Treatment<br>Car ID 13.0<br># Cylinders: 8.0<br># Carbs: 3.0<br># Gears: 3.0<br>Weight: 3.78",
          "After Treatment<br>Car ID 14.0<br># Cylinders: 8.0<br># Carbs: 4.0<br># Gears: 3.0<br>Weight: 5.25",
          "After Treatment<br>Car ID 15.0<br># Cylinders: 8.0<br># Carbs: 4.0<br># Gears: 3.0<br>Weight: 5.4239999999999995",
          "After Treatment<br>Car ID 16.0<br># Cylinders: 8.0<br># Carbs: 4.0<br># Gears: 3.0<br>Weight: 5.345",
          "After Treatment<br>Car ID 17.0<br># Cylinders: 4.0<br># Carbs: 1.0<br># Gears: 4.0<br>Weight: 2.2",
          "After Treatment<br>Car ID 18.0<br># Cylinders: 4.0<br># Carbs: 2.0<br># Gears: 4.0<br>Weight: 1.615",
          "After Treatment<br>Car ID 19.0<br># Cylinders: 4.0<br># Carbs: 1.0<br># Gears: 4.0<br>Weight: 1.835",
          "After Treatment<br>Car ID 20.0<br># Cylinders: 4.0<br># Carbs: 1.0<br># Gears: 3.0<br>Weight: 2.465",
          "After Treatment<br>Car ID 21.0<br># Cylinders: 8.0<br># Carbs: 2.0<br># Gears: 3.0<br>Weight: 3.52",
          "After Treatment<br>Car ID 22.0<br># Cylinders: 8.0<br># Carbs: 2.0<br># Gears: 3.0<br>Weight: 3.435",
          "After Treatment<br>Car ID 23.0<br># Cylinders: 8.0<br># Carbs: 4.0<br># Gears: 3.0<br>Weight: 3.84",
          "After Treatment<br>Car ID 24.0<br># Cylinders: 8.0<br># Carbs: 2.0<br># Gears: 3.0<br>Weight: 3.845",
          "After Treatment<br>Car ID 25.0<br># Cylinders: 4.0<br># Carbs: 1.0<br># Gears: 4.0<br>Weight: 1.935",
          "After Treatment<br>Car ID 26.0<br># Cylinders: 4.0<br># Carbs: 2.0<br># Gears: 5.0<br>Weight: 2.14",
          "After Treatment<br>Car ID 27.0<br># Cylinders: 4.0<br># Carbs: 2.0<br># Gears: 5.0<br>Weight: 1.5130000000000001",
          "After Treatment<br>Car ID 28.0<br># Cylinders: 8.0<br># Carbs: 4.0<br># Gears: 5.0<br>Weight: 3.17",
          "After Treatment<br>Car ID 29.0<br># Cylinders: 6.0<br># Carbs: 6.0<br># Gears: 5.0<br>Weight: 2.77",
          "After Treatment<br>Car ID 30.0<br># Cylinders: 8.0<br># Carbs: 8.0<br># Gears: 5.0<br>Weight: 3.57",
          "After Treatment<br>Car ID 31.0<br># Cylinders: 4.0<br># Carbs: 2.0<br># Gears: 4.0<br>Weight: 2.78"
         ],
         "type": "scatter",
         "uid": "61885f95-4d14-493b-a8d0-9e866dd402f2",
         "x": [
          103.56665785159531,
          107.31812981820039,
          88.98665903765188,
          103.24486246528257,
          170.64882598211818,
          96.46143194688638,
          238.9506413959796,
          58.215594942539106,
          91.75278692105498,
          122.25797920185938,
          116.63941263860536,
          177.68091523105747,
          175.18348259588586,
          171.8067474048529,
          199.94670971543988,
          209.4488261076252,
          225.80639347424082,
          59.65555805293869,
          49.269299980648334,
          61.82561867210154,
          95.67740441887575,
          145.39286026409616,
          144.54325292127552,
          239.91845776905254,
          169.13064861284656,
          63.43675889373997,
          87.00575682052414,
          107.53027627598786,
          257.4899200373525,
          172.8549606984117,
          330.5435376653279,
          106.5088877322715
         ],
         "y": [
          27.062967521513656,
          25.8431575872917,
          24.575257239376345,
          26.50664877140956,
          23.28246986882727,
          25.131135635673104,
          18.504852681233675,
          26.334403303815144,
          28.743151670655486,
          22.883626833486638,
          23.02352103939066,
          24.248940357835746,
          22.860677485548056,
          19.053311434691693,
          16.21780612016603,
          10.346956920719675,
          23.901319546417476,
          38.67807935547809,
          35.28226314986424,
          38.849224408860664,
          22.91526518773622,
          23.674231870524004,
          22.19526036958225,
          13.638733682644911,
          23.17878243961891,
          29.498535773464674,
          29.385222434068428,
          36.60272938810512,
          19.97863798849106,
          24.75431661671448,
          23.7365665387521,
          20.599991397321748
         ]
        }
       ],
       "layout": {
        "annotations": [
         {
          "showarrow": false,
          "text": "Fuel mileage upgrade works for most cars",
          "x": 200,
          "y": 37
         },
         {
          "ax": 150,
          "ay": -25,
          "showarrow": true,
          "text": "Car 16 before upgrade",
          "x": 230,
          "y": 14.7
         },
         {
          "ax": 150,
          "ay": 0,
          "showarrow": true,
          "text": "Car 16 after upgrade",
          "x": 225.80639347424082,
          "y": 23.901319546417476
         }
        ],
        "hovermode": "x",
        "plot_bgcolor": "rgb(229, 229, 229)",
        "title": "<b>Fuel Mileage as a Function of Horsepower</b><br><i>for mtcars data</i>",
        "xaxis": {
         "gridcolor": "rgb(255,255,255)",
         "tickangle": 30,
         "title": "Horsepower",
         "zerolinecolor": "rgb(255,255,255)"
        },
        "yaxis": {
         "gridcolor": "rgb(255,255,255)",
         "title": "Fuel Mileage (mpg)",
         "zerolinecolor": "rgb(255,255,255)"
        }
       }
      },
      "text/html": [
       "<div id=\"5df65eaf-b334-43ca-88e3-1fae12ce2f4c\" style=\"height: 525px; width: 100%;\" class=\"plotly-graph-div\"></div><script type=\"text/javascript\">require([\"plotly\"], function(Plotly) { window.PLOTLYENV=window.PLOTLYENV || {};window.PLOTLYENV.BASE_URL=\"https://plot.ly\";Plotly.newPlot(\"5df65eaf-b334-43ca-88e3-1fae12ce2f4c\", [{\"marker\": {\"color\": [\"#232C65\", \"#232C65\", \"#232C65\", \"#232C65\", \"#232C65\", \"#232C65\", \"#232C65\", \"#232C65\", \"#232C65\", \"#232C65\", \"#232C65\", \"#232C65\", \"#232C65\", \"#232C65\", \"#232C65\", \"#232C65\", \"#232C65\", \"#232C65\", \"#232C65\", \"#232C65\", \"#232C65\", \"#232C65\", \"#232C65\", \"#232C65\", \"#232C65\", \"#232C65\", \"#232C65\", \"#232C65\", \"#232C65\", \"#232C65\", \"#232C65\", \"#232C65\"]}, \"mode\": \"markers\", \"name\": \"hp\", \"text\": [\"Before Treatment<br>Car ID 0.0<br># Cylinders: 6.0<br># Carbs: 4.0<br># Gears: 4.0<br>Weight: 2.62\", \"Before Treatment<br>Car ID 1.0<br># Cylinders: 6.0<br># Carbs: 4.0<br># Gears: 4.0<br>Weight: 2.875\", \"Before Treatment<br>Car ID 2.0<br># Cylinders: 4.0<br># Carbs: 1.0<br># Gears: 4.0<br>Weight: 2.32\", \"Before Treatment<br>Car ID 3.0<br># Cylinders: 6.0<br># Carbs: 1.0<br># Gears: 3.0<br>Weight: 3.215\", \"Before Treatment<br>Car ID 4.0<br># Cylinders: 8.0<br># Carbs: 2.0<br># Gears: 3.0<br>Weight: 3.44\", \"Before Treatment<br>Car ID 5.0<br># Cylinders: 6.0<br># Carbs: 1.0<br># Gears: 3.0<br>Weight: 3.46\", \"Before Treatment<br>Car ID 6.0<br># Cylinders: 8.0<br># Carbs: 4.0<br># Gears: 3.0<br>Weight: 3.57\", \"Before Treatment<br>Car ID 7.0<br># Cylinders: 4.0<br># Carbs: 2.0<br># Gears: 4.0<br>Weight: 3.19\", \"Before Treatment<br>Car ID 8.0<br># Cylinders: 4.0<br># Carbs: 2.0<br># Gears: 4.0<br>Weight: 3.15\", \"Before Treatment<br>Car ID 9.0<br># Cylinders: 6.0<br># Carbs: 4.0<br># Gears: 4.0<br>Weight: 3.44\", \"Before Treatment<br>Car ID 10.0<br># Cylinders: 6.0<br># Carbs: 4.0<br># Gears: 4.0<br>Weight: 3.44\", \"Before Treatment<br>Car ID 11.0<br># Cylinders: 8.0<br># Carbs: 3.0<br># Gears: 3.0<br>Weight: 4.07\", \"Before Treatment<br>Car ID 12.0<br># Cylinders: 8.0<br># Carbs: 3.0<br># Gears: 3.0<br>Weight: 3.73\", \"Before Treatment<br>Car ID 13.0<br># Cylinders: 8.0<br># Carbs: 3.0<br># Gears: 3.0<br>Weight: 3.78\", \"Before Treatment<br>Car ID 14.0<br># Cylinders: 8.0<br># Carbs: 4.0<br># Gears: 3.0<br>Weight: 5.25\", \"Before Treatment<br>Car ID 15.0<br># Cylinders: 8.0<br># Carbs: 4.0<br># Gears: 3.0<br>Weight: 5.4239999999999995\", \"Before Treatment<br>Car ID 16.0<br># Cylinders: 8.0<br># Carbs: 4.0<br># Gears: 3.0<br>Weight: 5.345\", \"Before Treatment<br>Car ID 17.0<br># Cylinders: 4.0<br># Carbs: 1.0<br># Gears: 4.0<br>Weight: 2.2\", \"Before Treatment<br>Car ID 18.0<br># Cylinders: 4.0<br># Carbs: 2.0<br># Gears: 4.0<br>Weight: 1.615\", \"Before Treatment<br>Car ID 19.0<br># Cylinders: 4.0<br># Carbs: 1.0<br># Gears: 4.0<br>Weight: 1.835\", \"Before Treatment<br>Car ID 20.0<br># Cylinders: 4.0<br># Carbs: 1.0<br># Gears: 3.0<br>Weight: 2.465\", \"Before Treatment<br>Car ID 21.0<br># Cylinders: 8.0<br># Carbs: 2.0<br># Gears: 3.0<br>Weight: 3.52\", \"Before Treatment<br>Car ID 22.0<br># Cylinders: 8.0<br># Carbs: 2.0<br># Gears: 3.0<br>Weight: 3.435\", \"Before Treatment<br>Car ID 23.0<br># Cylinders: 8.0<br># Carbs: 4.0<br># Gears: 3.0<br>Weight: 3.84\", \"Before Treatment<br>Car ID 24.0<br># Cylinders: 8.0<br># Carbs: 2.0<br># Gears: 3.0<br>Weight: 3.845\", \"Before Treatment<br>Car ID 25.0<br># Cylinders: 4.0<br># Carbs: 1.0<br># Gears: 4.0<br>Weight: 1.935\", \"Before Treatment<br>Car ID 26.0<br># Cylinders: 4.0<br># Carbs: 2.0<br># Gears: 5.0<br>Weight: 2.14\", \"Before Treatment<br>Car ID 27.0<br># Cylinders: 4.0<br># Carbs: 2.0<br># Gears: 5.0<br>Weight: 1.5130000000000001\", \"Before Treatment<br>Car ID 28.0<br># Cylinders: 8.0<br># Carbs: 4.0<br># Gears: 5.0<br>Weight: 3.17\", \"Before Treatment<br>Car ID 29.0<br># Cylinders: 6.0<br># Carbs: 6.0<br># Gears: 5.0<br>Weight: 2.77\", \"Before Treatment<br>Car ID 30.0<br># Cylinders: 8.0<br># Carbs: 8.0<br># Gears: 5.0<br>Weight: 3.57\", \"Before Treatment<br>Car ID 31.0<br># Cylinders: 4.0<br># Carbs: 2.0<br># Gears: 4.0<br>Weight: 2.78\"], \"x\": [110, 110, 93, 110, 175, 105, 245, 62, 95, 123, 123, 180, 180, 180, 205, 215, 230, 66, 52, 65, 97, 150, 150, 245, 175, 66, 91, 113, 264, 175, 335, 109], \"y\": [21.0, 21.0, 22.8, 21.4, 18.7, 18.1, 14.3, 24.4, 22.8, 19.2, 17.8, 16.4, 17.3, 15.2, 10.4, 10.4, 14.7, 32.4, 30.4, 33.9, 21.5, 15.5, 15.2, 13.3, 19.2, 27.3, 26.0, 30.4, 15.8, 19.7, 15.0, 21.4], \"type\": \"scatter\", \"uid\": \"0af71cd2-3c07-4a72-b375-4a9b903ebe34\"}, {\"marker\": {\"color\": [\"#2D2D2A\", \"#2D2D2A\", \"#2D2D2A\", \"#2D2D2A\", \"#2D2D2A\", \"#2D2D2A\", \"#2D2D2A\", \"#2D2D2A\", \"#2D2D2A\", \"#2D2D2A\", \"#2D2D2A\", \"#2D2D2A\", \"#2D2D2A\", \"#2D2D2A\", \"#2D2D2A\", \"#2D2D2A\", \"#2D2D2A\", \"#2D2D2A\", \"#2D2D2A\", \"#2D2D2A\", \"#2D2D2A\", \"#2D2D2A\", \"#2D2D2A\", \"#2D2D2A\", \"#2D2D2A\", \"#2D2D2A\", \"#2D2D2A\", \"#2D2D2A\", \"#2D2D2A\", \"#2D2D2A\", \"#2D2D2A\", \"#2D2D2A\"]}, \"mode\": \"markers\", \"name\": \"hp_alt\", \"text\": [\"After Treatment<br>Car ID 0.0<br># Cylinders: 6.0<br># Carbs: 4.0<br># Gears: 4.0<br>Weight: 2.62\", \"After Treatment<br>Car ID 1.0<br># Cylinders: 6.0<br># Carbs: 4.0<br># Gears: 4.0<br>Weight: 2.875\", \"After Treatment<br>Car ID 2.0<br># Cylinders: 4.0<br># Carbs: 1.0<br># Gears: 4.0<br>Weight: 2.32\", \"After Treatment<br>Car ID 3.0<br># Cylinders: 6.0<br># Carbs: 1.0<br># Gears: 3.0<br>Weight: 3.215\", \"After Treatment<br>Car ID 4.0<br># Cylinders: 8.0<br># Carbs: 2.0<br># Gears: 3.0<br>Weight: 3.44\", \"After Treatment<br>Car ID 5.0<br># Cylinders: 6.0<br># Carbs: 1.0<br># Gears: 3.0<br>Weight: 3.46\", \"After Treatment<br>Car ID 6.0<br># Cylinders: 8.0<br># Carbs: 4.0<br># Gears: 3.0<br>Weight: 3.57\", \"After Treatment<br>Car ID 7.0<br># Cylinders: 4.0<br># Carbs: 2.0<br># Gears: 4.0<br>Weight: 3.19\", \"After Treatment<br>Car ID 8.0<br># Cylinders: 4.0<br># Carbs: 2.0<br># Gears: 4.0<br>Weight: 3.15\", \"After Treatment<br>Car ID 9.0<br># Cylinders: 6.0<br># Carbs: 4.0<br># Gears: 4.0<br>Weight: 3.44\", \"After Treatment<br>Car ID 10.0<br># Cylinders: 6.0<br># Carbs: 4.0<br># Gears: 4.0<br>Weight: 3.44\", \"After Treatment<br>Car ID 11.0<br># Cylinders: 8.0<br># Carbs: 3.0<br># Gears: 3.0<br>Weight: 4.07\", \"After Treatment<br>Car ID 12.0<br># Cylinders: 8.0<br># Carbs: 3.0<br># Gears: 3.0<br>Weight: 3.73\", \"After Treatment<br>Car ID 13.0<br># Cylinders: 8.0<br># Carbs: 3.0<br># Gears: 3.0<br>Weight: 3.78\", \"After Treatment<br>Car ID 14.0<br># Cylinders: 8.0<br># Carbs: 4.0<br># Gears: 3.0<br>Weight: 5.25\", \"After Treatment<br>Car ID 15.0<br># Cylinders: 8.0<br># Carbs: 4.0<br># Gears: 3.0<br>Weight: 5.4239999999999995\", \"After Treatment<br>Car ID 16.0<br># Cylinders: 8.0<br># Carbs: 4.0<br># Gears: 3.0<br>Weight: 5.345\", \"After Treatment<br>Car ID 17.0<br># Cylinders: 4.0<br># Carbs: 1.0<br># Gears: 4.0<br>Weight: 2.2\", \"After Treatment<br>Car ID 18.0<br># Cylinders: 4.0<br># Carbs: 2.0<br># Gears: 4.0<br>Weight: 1.615\", \"After Treatment<br>Car ID 19.0<br># Cylinders: 4.0<br># Carbs: 1.0<br># Gears: 4.0<br>Weight: 1.835\", \"After Treatment<br>Car ID 20.0<br># Cylinders: 4.0<br># Carbs: 1.0<br># Gears: 3.0<br>Weight: 2.465\", \"After Treatment<br>Car ID 21.0<br># Cylinders: 8.0<br># Carbs: 2.0<br># Gears: 3.0<br>Weight: 3.52\", \"After Treatment<br>Car ID 22.0<br># Cylinders: 8.0<br># Carbs: 2.0<br># Gears: 3.0<br>Weight: 3.435\", \"After Treatment<br>Car ID 23.0<br># Cylinders: 8.0<br># Carbs: 4.0<br># Gears: 3.0<br>Weight: 3.84\", \"After Treatment<br>Car ID 24.0<br># Cylinders: 8.0<br># Carbs: 2.0<br># Gears: 3.0<br>Weight: 3.845\", \"After Treatment<br>Car ID 25.0<br># Cylinders: 4.0<br># Carbs: 1.0<br># Gears: 4.0<br>Weight: 1.935\", \"After Treatment<br>Car ID 26.0<br># Cylinders: 4.0<br># Carbs: 2.0<br># Gears: 5.0<br>Weight: 2.14\", \"After Treatment<br>Car ID 27.0<br># Cylinders: 4.0<br># Carbs: 2.0<br># Gears: 5.0<br>Weight: 1.5130000000000001\", \"After Treatment<br>Car ID 28.0<br># Cylinders: 8.0<br># Carbs: 4.0<br># Gears: 5.0<br>Weight: 3.17\", \"After Treatment<br>Car ID 29.0<br># Cylinders: 6.0<br># Carbs: 6.0<br># Gears: 5.0<br>Weight: 2.77\", \"After Treatment<br>Car ID 30.0<br># Cylinders: 8.0<br># Carbs: 8.0<br># Gears: 5.0<br>Weight: 3.57\", \"After Treatment<br>Car ID 31.0<br># Cylinders: 4.0<br># Carbs: 2.0<br># Gears: 4.0<br>Weight: 2.78\"], \"x\": [103.56665785159531, 107.31812981820039, 88.98665903765188, 103.24486246528257, 170.64882598211818, 96.46143194688638, 238.9506413959796, 58.215594942539106, 91.75278692105498, 122.25797920185938, 116.63941263860536, 177.68091523105747, 175.18348259588586, 171.8067474048529, 199.94670971543988, 209.4488261076252, 225.80639347424082, 59.65555805293869, 49.269299980648334, 61.82561867210154, 95.67740441887575, 145.39286026409616, 144.54325292127552, 239.91845776905254, 169.13064861284656, 63.43675889373997, 87.00575682052414, 107.53027627598786, 257.4899200373525, 172.8549606984117, 330.5435376653279, 106.5088877322715], \"y\": [27.062967521513656, 25.8431575872917, 24.575257239376345, 26.50664877140956, 23.28246986882727, 25.131135635673104, 18.504852681233675, 26.334403303815144, 28.743151670655486, 22.883626833486638, 23.02352103939066, 24.248940357835746, 22.860677485548056, 19.053311434691693, 16.21780612016603, 10.346956920719675, 23.901319546417476, 38.67807935547809, 35.28226314986424, 38.849224408860664, 22.91526518773622, 23.674231870524004, 22.19526036958225, 13.638733682644911, 23.17878243961891, 29.498535773464674, 29.385222434068428, 36.60272938810512, 19.97863798849106, 24.75431661671448, 23.7365665387521, 20.599991397321748], \"type\": \"scatter\", \"uid\": \"61885f95-4d14-493b-a8d0-9e866dd402f2\"}], {\"annotations\": [{\"showarrow\": false, \"text\": \"Fuel mileage upgrade works for most cars\", \"x\": 200, \"y\": 37}, {\"ax\": 150, \"ay\": -25, \"showarrow\": true, \"text\": \"Car 16 before upgrade\", \"x\": 230, \"y\": 14.7}, {\"ax\": 150, \"ay\": 0, \"showarrow\": true, \"text\": \"Car 16 after upgrade\", \"x\": 225.80639347424082, \"y\": 23.901319546417476}], \"hovermode\": \"x\", \"plot_bgcolor\": \"rgb(229, 229, 229)\", \"title\": \"<b>Fuel Mileage as a Function of Horsepower</b><br><i>for mtcars data</i>\", \"xaxis\": {\"gridcolor\": \"rgb(255,255,255)\", \"tickangle\": 30, \"title\": \"Horsepower\", \"zerolinecolor\": \"rgb(255,255,255)\"}, \"yaxis\": {\"gridcolor\": \"rgb(255,255,255)\", \"title\": \"Fuel Mileage (mpg)\", \"zerolinecolor\": \"rgb(255,255,255)\"}}, {\"showLink\": true, \"linkText\": \"Export to plot.ly\", \"plotlyServerURL\": \"https://plot.ly\"})});</script><script type=\"text/javascript\">window.addEventListener(\"resize\", function(){window._Plotly.Plots.resize(document.getElementById(\"5df65eaf-b334-43ca-88e3-1fae12ce2f4c\"));});</script>"
      ],
      "text/vnd.plotly.v1+html": [
       "<div id=\"5df65eaf-b334-43ca-88e3-1fae12ce2f4c\" style=\"height: 525px; width: 100%;\" class=\"plotly-graph-div\"></div><script type=\"text/javascript\">require([\"plotly\"], function(Plotly) { window.PLOTLYENV=window.PLOTLYENV || {};window.PLOTLYENV.BASE_URL=\"https://plot.ly\";Plotly.newPlot(\"5df65eaf-b334-43ca-88e3-1fae12ce2f4c\", [{\"marker\": {\"color\": [\"#232C65\", \"#232C65\", \"#232C65\", \"#232C65\", \"#232C65\", \"#232C65\", \"#232C65\", \"#232C65\", \"#232C65\", \"#232C65\", \"#232C65\", \"#232C65\", \"#232C65\", \"#232C65\", \"#232C65\", \"#232C65\", \"#232C65\", \"#232C65\", \"#232C65\", \"#232C65\", \"#232C65\", \"#232C65\", \"#232C65\", \"#232C65\", \"#232C65\", \"#232C65\", \"#232C65\", \"#232C65\", \"#232C65\", \"#232C65\", \"#232C65\", \"#232C65\"]}, \"mode\": \"markers\", \"name\": \"hp\", \"text\": [\"Before Treatment<br>Car ID 0.0<br># Cylinders: 6.0<br># Carbs: 4.0<br># Gears: 4.0<br>Weight: 2.62\", \"Before Treatment<br>Car ID 1.0<br># Cylinders: 6.0<br># Carbs: 4.0<br># Gears: 4.0<br>Weight: 2.875\", \"Before Treatment<br>Car ID 2.0<br># Cylinders: 4.0<br># Carbs: 1.0<br># Gears: 4.0<br>Weight: 2.32\", \"Before Treatment<br>Car ID 3.0<br># Cylinders: 6.0<br># Carbs: 1.0<br># Gears: 3.0<br>Weight: 3.215\", \"Before Treatment<br>Car ID 4.0<br># Cylinders: 8.0<br># Carbs: 2.0<br># Gears: 3.0<br>Weight: 3.44\", \"Before Treatment<br>Car ID 5.0<br># Cylinders: 6.0<br># Carbs: 1.0<br># Gears: 3.0<br>Weight: 3.46\", \"Before Treatment<br>Car ID 6.0<br># Cylinders: 8.0<br># Carbs: 4.0<br># Gears: 3.0<br>Weight: 3.57\", \"Before Treatment<br>Car ID 7.0<br># Cylinders: 4.0<br># Carbs: 2.0<br># Gears: 4.0<br>Weight: 3.19\", \"Before Treatment<br>Car ID 8.0<br># Cylinders: 4.0<br># Carbs: 2.0<br># Gears: 4.0<br>Weight: 3.15\", \"Before Treatment<br>Car ID 9.0<br># Cylinders: 6.0<br># Carbs: 4.0<br># Gears: 4.0<br>Weight: 3.44\", \"Before Treatment<br>Car ID 10.0<br># Cylinders: 6.0<br># Carbs: 4.0<br># Gears: 4.0<br>Weight: 3.44\", \"Before Treatment<br>Car ID 11.0<br># Cylinders: 8.0<br># Carbs: 3.0<br># Gears: 3.0<br>Weight: 4.07\", \"Before Treatment<br>Car ID 12.0<br># Cylinders: 8.0<br># Carbs: 3.0<br># Gears: 3.0<br>Weight: 3.73\", \"Before Treatment<br>Car ID 13.0<br># Cylinders: 8.0<br># Carbs: 3.0<br># Gears: 3.0<br>Weight: 3.78\", \"Before Treatment<br>Car ID 14.0<br># Cylinders: 8.0<br># Carbs: 4.0<br># Gears: 3.0<br>Weight: 5.25\", \"Before Treatment<br>Car ID 15.0<br># Cylinders: 8.0<br># Carbs: 4.0<br># Gears: 3.0<br>Weight: 5.4239999999999995\", \"Before Treatment<br>Car ID 16.0<br># Cylinders: 8.0<br># Carbs: 4.0<br># Gears: 3.0<br>Weight: 5.345\", \"Before Treatment<br>Car ID 17.0<br># Cylinders: 4.0<br># Carbs: 1.0<br># Gears: 4.0<br>Weight: 2.2\", \"Before Treatment<br>Car ID 18.0<br># Cylinders: 4.0<br># Carbs: 2.0<br># Gears: 4.0<br>Weight: 1.615\", \"Before Treatment<br>Car ID 19.0<br># Cylinders: 4.0<br># Carbs: 1.0<br># Gears: 4.0<br>Weight: 1.835\", \"Before Treatment<br>Car ID 20.0<br># Cylinders: 4.0<br># Carbs: 1.0<br># Gears: 3.0<br>Weight: 2.465\", \"Before Treatment<br>Car ID 21.0<br># Cylinders: 8.0<br># Carbs: 2.0<br># Gears: 3.0<br>Weight: 3.52\", \"Before Treatment<br>Car ID 22.0<br># Cylinders: 8.0<br># Carbs: 2.0<br># Gears: 3.0<br>Weight: 3.435\", \"Before Treatment<br>Car ID 23.0<br># Cylinders: 8.0<br># Carbs: 4.0<br># Gears: 3.0<br>Weight: 3.84\", \"Before Treatment<br>Car ID 24.0<br># Cylinders: 8.0<br># Carbs: 2.0<br># Gears: 3.0<br>Weight: 3.845\", \"Before Treatment<br>Car ID 25.0<br># Cylinders: 4.0<br># Carbs: 1.0<br># Gears: 4.0<br>Weight: 1.935\", \"Before Treatment<br>Car ID 26.0<br># Cylinders: 4.0<br># Carbs: 2.0<br># Gears: 5.0<br>Weight: 2.14\", \"Before Treatment<br>Car ID 27.0<br># Cylinders: 4.0<br># Carbs: 2.0<br># Gears: 5.0<br>Weight: 1.5130000000000001\", \"Before Treatment<br>Car ID 28.0<br># Cylinders: 8.0<br># Carbs: 4.0<br># Gears: 5.0<br>Weight: 3.17\", \"Before Treatment<br>Car ID 29.0<br># Cylinders: 6.0<br># Carbs: 6.0<br># Gears: 5.0<br>Weight: 2.77\", \"Before Treatment<br>Car ID 30.0<br># Cylinders: 8.0<br># Carbs: 8.0<br># Gears: 5.0<br>Weight: 3.57\", \"Before Treatment<br>Car ID 31.0<br># Cylinders: 4.0<br># Carbs: 2.0<br># Gears: 4.0<br>Weight: 2.78\"], \"x\": [110, 110, 93, 110, 175, 105, 245, 62, 95, 123, 123, 180, 180, 180, 205, 215, 230, 66, 52, 65, 97, 150, 150, 245, 175, 66, 91, 113, 264, 175, 335, 109], \"y\": [21.0, 21.0, 22.8, 21.4, 18.7, 18.1, 14.3, 24.4, 22.8, 19.2, 17.8, 16.4, 17.3, 15.2, 10.4, 10.4, 14.7, 32.4, 30.4, 33.9, 21.5, 15.5, 15.2, 13.3, 19.2, 27.3, 26.0, 30.4, 15.8, 19.7, 15.0, 21.4], \"type\": \"scatter\", \"uid\": \"0af71cd2-3c07-4a72-b375-4a9b903ebe34\"}, {\"marker\": {\"color\": [\"#2D2D2A\", \"#2D2D2A\", \"#2D2D2A\", \"#2D2D2A\", \"#2D2D2A\", \"#2D2D2A\", \"#2D2D2A\", \"#2D2D2A\", \"#2D2D2A\", \"#2D2D2A\", \"#2D2D2A\", \"#2D2D2A\", \"#2D2D2A\", \"#2D2D2A\", \"#2D2D2A\", \"#2D2D2A\", \"#2D2D2A\", \"#2D2D2A\", \"#2D2D2A\", \"#2D2D2A\", \"#2D2D2A\", \"#2D2D2A\", \"#2D2D2A\", \"#2D2D2A\", \"#2D2D2A\", \"#2D2D2A\", \"#2D2D2A\", \"#2D2D2A\", \"#2D2D2A\", \"#2D2D2A\", \"#2D2D2A\", \"#2D2D2A\"]}, \"mode\": \"markers\", \"name\": \"hp_alt\", \"text\": [\"After Treatment<br>Car ID 0.0<br># Cylinders: 6.0<br># Carbs: 4.0<br># Gears: 4.0<br>Weight: 2.62\", \"After Treatment<br>Car ID 1.0<br># Cylinders: 6.0<br># Carbs: 4.0<br># Gears: 4.0<br>Weight: 2.875\", \"After Treatment<br>Car ID 2.0<br># Cylinders: 4.0<br># Carbs: 1.0<br># Gears: 4.0<br>Weight: 2.32\", \"After Treatment<br>Car ID 3.0<br># Cylinders: 6.0<br># Carbs: 1.0<br># Gears: 3.0<br>Weight: 3.215\", \"After Treatment<br>Car ID 4.0<br># Cylinders: 8.0<br># Carbs: 2.0<br># Gears: 3.0<br>Weight: 3.44\", \"After Treatment<br>Car ID 5.0<br># Cylinders: 6.0<br># Carbs: 1.0<br># Gears: 3.0<br>Weight: 3.46\", \"After Treatment<br>Car ID 6.0<br># Cylinders: 8.0<br># Carbs: 4.0<br># Gears: 3.0<br>Weight: 3.57\", \"After Treatment<br>Car ID 7.0<br># Cylinders: 4.0<br># Carbs: 2.0<br># Gears: 4.0<br>Weight: 3.19\", \"After Treatment<br>Car ID 8.0<br># Cylinders: 4.0<br># Carbs: 2.0<br># Gears: 4.0<br>Weight: 3.15\", \"After Treatment<br>Car ID 9.0<br># Cylinders: 6.0<br># Carbs: 4.0<br># Gears: 4.0<br>Weight: 3.44\", \"After Treatment<br>Car ID 10.0<br># Cylinders: 6.0<br># Carbs: 4.0<br># Gears: 4.0<br>Weight: 3.44\", \"After Treatment<br>Car ID 11.0<br># Cylinders: 8.0<br># Carbs: 3.0<br># Gears: 3.0<br>Weight: 4.07\", \"After Treatment<br>Car ID 12.0<br># Cylinders: 8.0<br># Carbs: 3.0<br># Gears: 3.0<br>Weight: 3.73\", \"After Treatment<br>Car ID 13.0<br># Cylinders: 8.0<br># Carbs: 3.0<br># Gears: 3.0<br>Weight: 3.78\", \"After Treatment<br>Car ID 14.0<br># Cylinders: 8.0<br># Carbs: 4.0<br># Gears: 3.0<br>Weight: 5.25\", \"After Treatment<br>Car ID 15.0<br># Cylinders: 8.0<br># Carbs: 4.0<br># Gears: 3.0<br>Weight: 5.4239999999999995\", \"After Treatment<br>Car ID 16.0<br># Cylinders: 8.0<br># Carbs: 4.0<br># Gears: 3.0<br>Weight: 5.345\", \"After Treatment<br>Car ID 17.0<br># Cylinders: 4.0<br># Carbs: 1.0<br># Gears: 4.0<br>Weight: 2.2\", \"After Treatment<br>Car ID 18.0<br># Cylinders: 4.0<br># Carbs: 2.0<br># Gears: 4.0<br>Weight: 1.615\", \"After Treatment<br>Car ID 19.0<br># Cylinders: 4.0<br># Carbs: 1.0<br># Gears: 4.0<br>Weight: 1.835\", \"After Treatment<br>Car ID 20.0<br># Cylinders: 4.0<br># Carbs: 1.0<br># Gears: 3.0<br>Weight: 2.465\", \"After Treatment<br>Car ID 21.0<br># Cylinders: 8.0<br># Carbs: 2.0<br># Gears: 3.0<br>Weight: 3.52\", \"After Treatment<br>Car ID 22.0<br># Cylinders: 8.0<br># Carbs: 2.0<br># Gears: 3.0<br>Weight: 3.435\", \"After Treatment<br>Car ID 23.0<br># Cylinders: 8.0<br># Carbs: 4.0<br># Gears: 3.0<br>Weight: 3.84\", \"After Treatment<br>Car ID 24.0<br># Cylinders: 8.0<br># Carbs: 2.0<br># Gears: 3.0<br>Weight: 3.845\", \"After Treatment<br>Car ID 25.0<br># Cylinders: 4.0<br># Carbs: 1.0<br># Gears: 4.0<br>Weight: 1.935\", \"After Treatment<br>Car ID 26.0<br># Cylinders: 4.0<br># Carbs: 2.0<br># Gears: 5.0<br>Weight: 2.14\", \"After Treatment<br>Car ID 27.0<br># Cylinders: 4.0<br># Carbs: 2.0<br># Gears: 5.0<br>Weight: 1.5130000000000001\", \"After Treatment<br>Car ID 28.0<br># Cylinders: 8.0<br># Carbs: 4.0<br># Gears: 5.0<br>Weight: 3.17\", \"After Treatment<br>Car ID 29.0<br># Cylinders: 6.0<br># Carbs: 6.0<br># Gears: 5.0<br>Weight: 2.77\", \"After Treatment<br>Car ID 30.0<br># Cylinders: 8.0<br># Carbs: 8.0<br># Gears: 5.0<br>Weight: 3.57\", \"After Treatment<br>Car ID 31.0<br># Cylinders: 4.0<br># Carbs: 2.0<br># Gears: 4.0<br>Weight: 2.78\"], \"x\": [103.56665785159531, 107.31812981820039, 88.98665903765188, 103.24486246528257, 170.64882598211818, 96.46143194688638, 238.9506413959796, 58.215594942539106, 91.75278692105498, 122.25797920185938, 116.63941263860536, 177.68091523105747, 175.18348259588586, 171.8067474048529, 199.94670971543988, 209.4488261076252, 225.80639347424082, 59.65555805293869, 49.269299980648334, 61.82561867210154, 95.67740441887575, 145.39286026409616, 144.54325292127552, 239.91845776905254, 169.13064861284656, 63.43675889373997, 87.00575682052414, 107.53027627598786, 257.4899200373525, 172.8549606984117, 330.5435376653279, 106.5088877322715], \"y\": [27.062967521513656, 25.8431575872917, 24.575257239376345, 26.50664877140956, 23.28246986882727, 25.131135635673104, 18.504852681233675, 26.334403303815144, 28.743151670655486, 22.883626833486638, 23.02352103939066, 24.248940357835746, 22.860677485548056, 19.053311434691693, 16.21780612016603, 10.346956920719675, 23.901319546417476, 38.67807935547809, 35.28226314986424, 38.849224408860664, 22.91526518773622, 23.674231870524004, 22.19526036958225, 13.638733682644911, 23.17878243961891, 29.498535773464674, 29.385222434068428, 36.60272938810512, 19.97863798849106, 24.75431661671448, 23.7365665387521, 20.599991397321748], \"type\": \"scatter\", \"uid\": \"61885f95-4d14-493b-a8d0-9e866dd402f2\"}], {\"annotations\": [{\"showarrow\": false, \"text\": \"Fuel mileage upgrade works for most cars\", \"x\": 200, \"y\": 37}, {\"ax\": 150, \"ay\": -25, \"showarrow\": true, \"text\": \"Car 16 before upgrade\", \"x\": 230, \"y\": 14.7}, {\"ax\": 150, \"ay\": 0, \"showarrow\": true, \"text\": \"Car 16 after upgrade\", \"x\": 225.80639347424082, \"y\": 23.901319546417476}], \"hovermode\": \"x\", \"plot_bgcolor\": \"rgb(229, 229, 229)\", \"title\": \"<b>Fuel Mileage as a Function of Horsepower</b><br><i>for mtcars data</i>\", \"xaxis\": {\"gridcolor\": \"rgb(255,255,255)\", \"tickangle\": 30, \"title\": \"Horsepower\", \"zerolinecolor\": \"rgb(255,255,255)\"}, \"yaxis\": {\"gridcolor\": \"rgb(255,255,255)\", \"title\": \"Fuel Mileage (mpg)\", \"zerolinecolor\": \"rgb(255,255,255)\"}}, {\"showLink\": true, \"linkText\": \"Export to plot.ly\", \"plotlyServerURL\": \"https://plot.ly\"})});</script><script type=\"text/javascript\">window.addEventListener(\"resize\", function(){window._Plotly.Plots.resize(document.getElementById(\"5df65eaf-b334-43ca-88e3-1fae12ce2f4c\"));});</script>"
      ]
     },
     "metadata": {},
     "output_type": "display_data"
    }
   ],
   "source": [
    "# build graph args \n",
    "args['x_data'] = [x_data, x_data_treat]\n",
    "args['y_data'] = [y_data, y_data_treat]\n",
    "args['names'] = names\n",
    "args['colors'] = colors\n",
    "args['title'] = '<b>Fuel Mileage as a Function of Horsepower</b><br><i>for mtcars data</i>'\n",
    "args['xlab'] = 'Horsepower'\n",
    "args['ylab'] = 'Fuel Mileage (mpg)'\n",
    "\n",
    "# set up callout text \n",
    "sl = y_data.join(y_data_treat)\n",
    "sl['diff'] = sl.mpg_alt - sl.mpg\n",
    "cid = (sl[(sl.mpg < sl.mpg_alt)]\n",
    "         .sort_values(by=['diff'], ascending=False).index[0])\n",
    "\n",
    "x1_loc = x_data.iloc[cid].values[0]\n",
    "x2_loc = x_data_treat.iloc[cid].values[0]\n",
    "\n",
    "y1_loc = y_data.iloc[cid].values[0]\n",
    "y2_loc = y_data_treat.iloc[cid].values[0]\n",
    "\n",
    "c1 = {'text':'Car %s before upgrade' % cid, 'x':x1_loc, 'y':y1_loc, \n",
    "      'showarrow':True, 'ax':150, 'ay':-25}\n",
    "\n",
    "c2 = {'text':'Car %s after upgrade' % cid, 'x':x2_loc, 'y':y2_loc, \n",
    "      'showarrow':True, 'ax':150, 'ay':0}\n",
    "\n",
    "text = 'Fuel mileage upgrade works for most cars'\n",
    "args['annotations'] = [{'text':text, 'x':200, 'y':37, 'showarrow':False}, \n",
    "                       c1, c2]\n",
    "\n",
    "# display plot\n",
    "fig = scatterplot.create_graph(**args)"
   ]
  },
  {
   "cell_type": "code",
   "execution_count": 34,
   "metadata": {},
   "outputs": [],
   "source": [
    "# write graph to html file \n",
    "fp = 'scatterplot-example.html'\n",
    "barplot.output_graph(fig, fp)"
   ]
  },
  {
   "cell_type": "code",
   "execution_count": 35,
   "metadata": {},
   "outputs": [],
   "source": [
    "# write graph to png file \n",
    "fp = 'scatterplot-example.png'\n",
    "barplot.output_graph(fig, fp)"
   ]
  },
  {
   "cell_type": "markdown",
   "metadata": {},
   "source": [
    "# Create Lineplot"
   ]
  },
  {
   "cell_type": "code",
   "execution_count": 66,
   "metadata": {},
   "outputs": [],
   "source": [
    "from rapid_plotly import lineplot"
   ]
  },
  {
   "cell_type": "markdown",
   "metadata": {},
   "source": [
    "First, set up some data which can be used to create an example lineplot:"
   ]
  },
  {
   "cell_type": "code",
   "execution_count": 67,
   "metadata": {},
   "outputs": [
    {
     "data": {
      "text/html": [
       "<div>\n",
       "<style scoped>\n",
       "    .dataframe tbody tr th:only-of-type {\n",
       "        vertical-align: middle;\n",
       "    }\n",
       "\n",
       "    .dataframe tbody tr th {\n",
       "        vertical-align: top;\n",
       "    }\n",
       "\n",
       "    .dataframe thead th {\n",
       "        text-align: right;\n",
       "    }\n",
       "</style>\n",
       "<table border=\"1\" class=\"dataframe\">\n",
       "  <thead>\n",
       "    <tr style=\"text-align: right;\">\n",
       "      <th></th>\n",
       "      <th>smalldata</th>\n",
       "      <th>largedata</th>\n",
       "      <th>date_description</th>\n",
       "    </tr>\n",
       "    <tr>\n",
       "      <th>date</th>\n",
       "      <th></th>\n",
       "      <th></th>\n",
       "      <th></th>\n",
       "    </tr>\n",
       "  </thead>\n",
       "  <tbody>\n",
       "    <tr>\n",
       "      <th>2019-01-01</th>\n",
       "      <td>69.658893</td>\n",
       "      <td>1117.333763</td>\n",
       "      <td>Tue, Jan 01 (Q1)</td>\n",
       "    </tr>\n",
       "    <tr>\n",
       "      <th>2019-01-02</th>\n",
       "      <td>97.494513</td>\n",
       "      <td>822.975238</td>\n",
       "      <td>Wed, Jan 02 (Q1)</td>\n",
       "    </tr>\n",
       "    <tr>\n",
       "      <th>2019-01-03</th>\n",
       "      <td>91.987668</td>\n",
       "      <td>1256.892833</td>\n",
       "      <td>Thu, Jan 03 (Q1)</td>\n",
       "    </tr>\n",
       "    <tr>\n",
       "      <th>2019-01-04</th>\n",
       "      <td>85.545338</td>\n",
       "      <td>1119.815226</td>\n",
       "      <td>Fri, Jan 04 (Q1)</td>\n",
       "    </tr>\n",
       "    <tr>\n",
       "      <th>2019-01-05</th>\n",
       "      <td>98.213401</td>\n",
       "      <td>854.418283</td>\n",
       "      <td>Sat, Jan 05 (Q1)</td>\n",
       "    </tr>\n",
       "  </tbody>\n",
       "</table>\n",
       "</div>"
      ],
      "text/plain": [
       "            smalldata    largedata  date_description\n",
       "date                                                \n",
       "2019-01-01  69.658893  1117.333763  Tue, Jan 01 (Q1)\n",
       "2019-01-02  97.494513   822.975238  Wed, Jan 02 (Q1)\n",
       "2019-01-03  91.987668  1256.892833  Thu, Jan 03 (Q1)\n",
       "2019-01-04  85.545338  1119.815226  Fri, Jan 04 (Q1)\n",
       "2019-01-05  98.213401   854.418283  Sat, Jan 05 (Q1)"
      ]
     },
     "execution_count": 67,
     "metadata": {},
     "output_type": "execute_result"
    }
   ],
   "source": [
    "# create some data\n",
    "sdate = pd.to_datetime('2019-01-01') \n",
    "edate = sdate + pd.Timedelta(days=100)\n",
    "df = pd.DataFrame(pd.date_range(sdate, edate), columns=['date'])\n",
    "df['smalldata'] = np.random.normal(100, 25, size=len(df))\n",
    "df['largedata'] = np.random.normal(1000, 250, size=len(df))\n",
    "\n",
    "# create descriptive date string for hover text \n",
    "f = lambda row: '%s, %s %s (Q%s)' % (\n",
    "                    # weekday\n",
    "                    row['date'].strftime('%a'),\n",
    "                    # month\n",
    "                    row['date'].strftime('%b'),\n",
    "                    # day\n",
    "                    row['date'].strftime('%d'),\n",
    "                    # quarter\n",
    "                    row['date'].quarter,\n",
    "                )\n",
    "\n",
    "df['date_description'] = df.apply(f, axis=1)\n",
    "df = (df.set_index('date')).copy()\n",
    "\n",
    "df.head()"
   ]
  },
  {
   "cell_type": "code",
   "execution_count": 68,
   "metadata": {},
   "outputs": [
    {
     "data": {
      "text/html": [
       "<div>\n",
       "<style scoped>\n",
       "    .dataframe tbody tr th:only-of-type {\n",
       "        vertical-align: middle;\n",
       "    }\n",
       "\n",
       "    .dataframe tbody tr th {\n",
       "        vertical-align: top;\n",
       "    }\n",
       "\n",
       "    .dataframe thead th {\n",
       "        text-align: right;\n",
       "    }\n",
       "</style>\n",
       "<table border=\"1\" class=\"dataframe\">\n",
       "  <thead>\n",
       "    <tr style=\"text-align: right;\">\n",
       "      <th></th>\n",
       "      <th>smalldata</th>\n",
       "      <th>largedata</th>\n",
       "      <th>date_description</th>\n",
       "    </tr>\n",
       "    <tr>\n",
       "      <th>date</th>\n",
       "      <th></th>\n",
       "      <th></th>\n",
       "      <th></th>\n",
       "    </tr>\n",
       "  </thead>\n",
       "  <tbody>\n",
       "    <tr>\n",
       "      <th>2019-01-01</th>\n",
       "      <td>Small Data&lt;br&gt;69.659&lt;br&gt;Tue, Jan 01 (Q1)</td>\n",
       "      <td>Large Data&lt;br&gt;1117.334&lt;br&gt;Tue, Jan 01 (Q1)</td>\n",
       "      <td>Tue, Jan 01 (Q1)</td>\n",
       "    </tr>\n",
       "    <tr>\n",
       "      <th>2019-01-02</th>\n",
       "      <td>Small Data&lt;br&gt;97.495&lt;br&gt;Wed, Jan 02 (Q1)</td>\n",
       "      <td>Large Data&lt;br&gt;822.975&lt;br&gt;Wed, Jan 02 (Q1)</td>\n",
       "      <td>Wed, Jan 02 (Q1)</td>\n",
       "    </tr>\n",
       "    <tr>\n",
       "      <th>2019-01-03</th>\n",
       "      <td>Small Data&lt;br&gt;91.988&lt;br&gt;Thu, Jan 03 (Q1)</td>\n",
       "      <td>Large Data&lt;br&gt;1256.893&lt;br&gt;Thu, Jan 03 (Q1)</td>\n",
       "      <td>Thu, Jan 03 (Q1)</td>\n",
       "    </tr>\n",
       "    <tr>\n",
       "      <th>2019-01-04</th>\n",
       "      <td>Small Data&lt;br&gt;85.545&lt;br&gt;Fri, Jan 04 (Q1)</td>\n",
       "      <td>Large Data&lt;br&gt;1119.815&lt;br&gt;Fri, Jan 04 (Q1)</td>\n",
       "      <td>Fri, Jan 04 (Q1)</td>\n",
       "    </tr>\n",
       "    <tr>\n",
       "      <th>2019-01-05</th>\n",
       "      <td>Small Data&lt;br&gt;98.213&lt;br&gt;Sat, Jan 05 (Q1)</td>\n",
       "      <td>Large Data&lt;br&gt;854.418&lt;br&gt;Sat, Jan 05 (Q1)</td>\n",
       "      <td>Sat, Jan 05 (Q1)</td>\n",
       "    </tr>\n",
       "  </tbody>\n",
       "</table>\n",
       "</div>"
      ],
      "text/plain": [
       "                                           smalldata  \\\n",
       "date                                                   \n",
       "2019-01-01  Small Data<br>69.659<br>Tue, Jan 01 (Q1)   \n",
       "2019-01-02  Small Data<br>97.495<br>Wed, Jan 02 (Q1)   \n",
       "2019-01-03  Small Data<br>91.988<br>Thu, Jan 03 (Q1)   \n",
       "2019-01-04  Small Data<br>85.545<br>Fri, Jan 04 (Q1)   \n",
       "2019-01-05  Small Data<br>98.213<br>Sat, Jan 05 (Q1)   \n",
       "\n",
       "                                             largedata  date_description  \n",
       "date                                                                      \n",
       "2019-01-01  Large Data<br>1117.334<br>Tue, Jan 01 (Q1)  Tue, Jan 01 (Q1)  \n",
       "2019-01-02   Large Data<br>822.975<br>Wed, Jan 02 (Q1)  Wed, Jan 02 (Q1)  \n",
       "2019-01-03  Large Data<br>1256.893<br>Thu, Jan 03 (Q1)  Thu, Jan 03 (Q1)  \n",
       "2019-01-04  Large Data<br>1119.815<br>Fri, Jan 04 (Q1)  Fri, Jan 04 (Q1)  \n",
       "2019-01-05   Large Data<br>854.418<br>Sat, Jan 05 (Q1)  Sat, Jan 05 (Q1)  "
      ]
     },
     "execution_count": 68,
     "metadata": {},
     "output_type": "execute_result"
    }
   ],
   "source": [
    "# create hovertext labels\n",
    "names = df.copy()\n",
    "f = lambda row: 'Small Data<br>%s<br>%s' % (round(row['smalldata'], 3),\n",
    "                              row['date_description'])\n",
    "\n",
    "names['smalldata'] = names.apply(f, axis=1)\n",
    "\n",
    "f = lambda row: 'Large Data<br>%s<br>%s' % (round(row['largedata'], 3),\n",
    "                              row['date_description'])\n",
    "\n",
    "names['largedata'] = names.apply(f, axis=1)\n",
    "names.head()"
   ]
  },
  {
   "cell_type": "markdown",
   "metadata": {},
   "source": [
    "Now we can build the graph `dict` and create a graph:"
   ]
  },
  {
   "cell_type": "code",
   "execution_count": 69,
   "metadata": {},
   "outputs": [
    {
     "data": {
      "text/html": [
       "<script type=\"text/javascript\">window.PlotlyConfig = {MathJaxConfig: 'local'};</script><script type=\"text/javascript\">if (window.MathJax) {MathJax.Hub.Config({SVG: {font: \"STIX-Web\"}});}</script><script>requirejs.config({paths: { 'plotly': ['https://cdn.plot.ly/plotly-latest.min']},});if(!window._Plotly) {require(['plotly'],function(plotly) {window._Plotly=plotly;});}</script>"
      ],
      "text/vnd.plotly.v1+html": [
       "<script type=\"text/javascript\">window.PlotlyConfig = {MathJaxConfig: 'local'};</script><script type=\"text/javascript\">if (window.MathJax) {MathJax.Hub.Config({SVG: {font: \"STIX-Web\"}});}</script><script>requirejs.config({paths: { 'plotly': ['https://cdn.plot.ly/plotly-latest.min']},});if(!window._Plotly) {require(['plotly'],function(plotly) {window._Plotly=plotly;});}</script>"
      ]
     },
     "metadata": {},
     "output_type": "display_data"
    },
    {
     "data": {
      "application/vnd.plotly.v1+json": {
       "config": {
        "linkText": "Export to plot.ly",
        "plotlyServerURL": "https://plot.ly",
        "showLink": true
       },
       "data": [
        {
         "hoverinfo": "text",
         "marker": {
          "color": "#232C65"
         },
         "mode": "lines",
         "name": "smalldata",
         "text": [
          "Small Data<br>69.659<br>Tue, Jan 01 (Q1)",
          "Small Data<br>97.495<br>Wed, Jan 02 (Q1)",
          "Small Data<br>91.988<br>Thu, Jan 03 (Q1)",
          "Small Data<br>85.545<br>Fri, Jan 04 (Q1)",
          "Small Data<br>98.213<br>Sat, Jan 05 (Q1)",
          "Small Data<br>101.646<br>Sun, Jan 06 (Q1)",
          "Small Data<br>99.903<br>Mon, Jan 07 (Q1)",
          "Small Data<br>87.759<br>Tue, Jan 08 (Q1)",
          "Small Data<br>91.503<br>Wed, Jan 09 (Q1)",
          "Small Data<br>114.944<br>Thu, Jan 10 (Q1)",
          "Small Data<br>64.664<br>Fri, Jan 11 (Q1)",
          "Small Data<br>94.037<br>Sat, Jan 12 (Q1)",
          "Small Data<br>78.296<br>Sun, Jan 13 (Q1)",
          "Small Data<br>83.108<br>Mon, Jan 14 (Q1)",
          "Small Data<br>136.732<br>Tue, Jan 15 (Q1)",
          "Small Data<br>92.009<br>Wed, Jan 16 (Q1)",
          "Small Data<br>100.681<br>Thu, Jan 17 (Q1)",
          "Small Data<br>62.371<br>Fri, Jan 18 (Q1)",
          "Small Data<br>97.215<br>Sat, Jan 19 (Q1)",
          "Small Data<br>137.07<br>Sun, Jan 20 (Q1)",
          "Small Data<br>129.64<br>Mon, Jan 21 (Q1)",
          "Small Data<br>137.901<br>Tue, Jan 22 (Q1)",
          "Small Data<br>67.85<br>Wed, Jan 23 (Q1)",
          "Small Data<br>99.494<br>Thu, Jan 24 (Q1)",
          "Small Data<br>105.216<br>Fri, Jan 25 (Q1)",
          "Small Data<br>123.519<br>Sat, Jan 26 (Q1)",
          "Small Data<br>42.236<br>Sun, Jan 27 (Q1)",
          "Small Data<br>76.638<br>Mon, Jan 28 (Q1)",
          "Small Data<br>101.815<br>Tue, Jan 29 (Q1)",
          "Small Data<br>80.864<br>Wed, Jan 30 (Q1)",
          "Small Data<br>118.147<br>Thu, Jan 31 (Q1)",
          "Small Data<br>103.704<br>Fri, Feb 01 (Q1)",
          "Small Data<br>117.035<br>Sat, Feb 02 (Q1)",
          "Small Data<br>121.991<br>Sun, Feb 03 (Q1)",
          "Small Data<br>87.065<br>Mon, Feb 04 (Q1)",
          "Small Data<br>69.033<br>Tue, Feb 05 (Q1)",
          "Small Data<br>69.661<br>Wed, Feb 06 (Q1)",
          "Small Data<br>125.892<br>Thu, Feb 07 (Q1)",
          "Small Data<br>127.786<br>Fri, Feb 08 (Q1)",
          "Small Data<br>123.458<br>Sat, Feb 09 (Q1)",
          "Small Data<br>125.812<br>Sun, Feb 10 (Q1)",
          "Small Data<br>71.368<br>Mon, Feb 11 (Q1)",
          "Small Data<br>91.549<br>Tue, Feb 12 (Q1)",
          "Small Data<br>46.386<br>Wed, Feb 13 (Q1)",
          "Small Data<br>93.837<br>Thu, Feb 14 (Q1)",
          "Small Data<br>120.785<br>Fri, Feb 15 (Q1)",
          "Small Data<br>123.865<br>Sat, Feb 16 (Q1)",
          "Small Data<br>104.38<br>Sun, Feb 17 (Q1)",
          "Small Data<br>120.874<br>Mon, Feb 18 (Q1)",
          "Small Data<br>142.063<br>Tue, Feb 19 (Q1)",
          "Small Data<br>99.495<br>Wed, Feb 20 (Q1)",
          "Small Data<br>121.839<br>Thu, Feb 21 (Q1)",
          "Small Data<br>72.394<br>Fri, Feb 22 (Q1)",
          "Small Data<br>103.587<br>Sat, Feb 23 (Q1)",
          "Small Data<br>99.875<br>Sun, Feb 24 (Q1)",
          "Small Data<br>109.5<br>Mon, Feb 25 (Q1)",
          "Small Data<br>118.346<br>Tue, Feb 26 (Q1)",
          "Small Data<br>90.76<br>Wed, Feb 27 (Q1)",
          "Small Data<br>118.029<br>Thu, Feb 28 (Q1)",
          "Small Data<br>81.924<br>Fri, Mar 01 (Q1)",
          "Small Data<br>118.173<br>Sat, Mar 02 (Q1)",
          "Small Data<br>111.285<br>Sun, Mar 03 (Q1)",
          "Small Data<br>133.54<br>Mon, Mar 04 (Q1)",
          "Small Data<br>146.465<br>Tue, Mar 05 (Q1)",
          "Small Data<br>122.546<br>Wed, Mar 06 (Q1)",
          "Small Data<br>116.684<br>Thu, Mar 07 (Q1)",
          "Small Data<br>110.871<br>Fri, Mar 08 (Q1)",
          "Small Data<br>120.405<br>Sat, Mar 09 (Q1)",
          "Small Data<br>74.623<br>Sun, Mar 10 (Q1)",
          "Small Data<br>69.172<br>Mon, Mar 11 (Q1)",
          "Small Data<br>54.872<br>Tue, Mar 12 (Q1)",
          "Small Data<br>91.411<br>Wed, Mar 13 (Q1)",
          "Small Data<br>142.719<br>Thu, Mar 14 (Q1)",
          "Small Data<br>145.79<br>Fri, Mar 15 (Q1)",
          "Small Data<br>90.432<br>Sat, Mar 16 (Q1)",
          "Small Data<br>82.536<br>Sun, Mar 17 (Q1)",
          "Small Data<br>106.406<br>Mon, Mar 18 (Q1)",
          "Small Data<br>110.369<br>Tue, Mar 19 (Q1)",
          "Small Data<br>55.784<br>Wed, Mar 20 (Q1)",
          "Small Data<br>74.207<br>Thu, Mar 21 (Q1)",
          "Small Data<br>90.458<br>Fri, Mar 22 (Q1)",
          "Small Data<br>171.785<br>Sat, Mar 23 (Q1)",
          "Small Data<br>83.804<br>Sun, Mar 24 (Q1)",
          "Small Data<br>125.692<br>Mon, Mar 25 (Q1)",
          "Small Data<br>125.76<br>Tue, Mar 26 (Q1)",
          "Small Data<br>168.754<br>Wed, Mar 27 (Q1)",
          "Small Data<br>153.941<br>Thu, Mar 28 (Q1)",
          "Small Data<br>89.641<br>Fri, Mar 29 (Q1)",
          "Small Data<br>110.084<br>Sat, Mar 30 (Q1)",
          "Small Data<br>102.311<br>Sun, Mar 31 (Q1)",
          "Small Data<br>113.392<br>Mon, Apr 01 (Q2)",
          "Small Data<br>61.088<br>Tue, Apr 02 (Q2)",
          "Small Data<br>93.811<br>Wed, Apr 03 (Q2)",
          "Small Data<br>98.354<br>Thu, Apr 04 (Q2)",
          "Small Data<br>48.078<br>Fri, Apr 05 (Q2)",
          "Small Data<br>86.995<br>Sat, Apr 06 (Q2)",
          "Small Data<br>104.973<br>Sun, Apr 07 (Q2)",
          "Small Data<br>82.697<br>Mon, Apr 08 (Q2)",
          "Small Data<br>93.828<br>Tue, Apr 09 (Q2)",
          "Small Data<br>124.412<br>Wed, Apr 10 (Q2)",
          "Small Data<br>102.254<br>Thu, Apr 11 (Q2)"
         ],
         "type": "scatter",
         "uid": "af71ac1d-915b-479b-97d5-5838f2d115ac",
         "x": [
          "2019-01-01",
          "2019-01-02",
          "2019-01-03",
          "2019-01-04",
          "2019-01-05",
          "2019-01-06",
          "2019-01-07",
          "2019-01-08",
          "2019-01-09",
          "2019-01-10",
          "2019-01-11",
          "2019-01-12",
          "2019-01-13",
          "2019-01-14",
          "2019-01-15",
          "2019-01-16",
          "2019-01-17",
          "2019-01-18",
          "2019-01-19",
          "2019-01-20",
          "2019-01-21",
          "2019-01-22",
          "2019-01-23",
          "2019-01-24",
          "2019-01-25",
          "2019-01-26",
          "2019-01-27",
          "2019-01-28",
          "2019-01-29",
          "2019-01-30",
          "2019-01-31",
          "2019-02-01",
          "2019-02-02",
          "2019-02-03",
          "2019-02-04",
          "2019-02-05",
          "2019-02-06",
          "2019-02-07",
          "2019-02-08",
          "2019-02-09",
          "2019-02-10",
          "2019-02-11",
          "2019-02-12",
          "2019-02-13",
          "2019-02-14",
          "2019-02-15",
          "2019-02-16",
          "2019-02-17",
          "2019-02-18",
          "2019-02-19",
          "2019-02-20",
          "2019-02-21",
          "2019-02-22",
          "2019-02-23",
          "2019-02-24",
          "2019-02-25",
          "2019-02-26",
          "2019-02-27",
          "2019-02-28",
          "2019-03-01",
          "2019-03-02",
          "2019-03-03",
          "2019-03-04",
          "2019-03-05",
          "2019-03-06",
          "2019-03-07",
          "2019-03-08",
          "2019-03-09",
          "2019-03-10",
          "2019-03-11",
          "2019-03-12",
          "2019-03-13",
          "2019-03-14",
          "2019-03-15",
          "2019-03-16",
          "2019-03-17",
          "2019-03-18",
          "2019-03-19",
          "2019-03-20",
          "2019-03-21",
          "2019-03-22",
          "2019-03-23",
          "2019-03-24",
          "2019-03-25",
          "2019-03-26",
          "2019-03-27",
          "2019-03-28",
          "2019-03-29",
          "2019-03-30",
          "2019-03-31",
          "2019-04-01",
          "2019-04-02",
          "2019-04-03",
          "2019-04-04",
          "2019-04-05",
          "2019-04-06",
          "2019-04-07",
          "2019-04-08",
          "2019-04-09",
          "2019-04-10",
          "2019-04-11"
         ],
         "y": [
          69.65889319259577,
          97.49451323922985,
          91.98766752008802,
          85.54533763045222,
          98.21340121395288,
          101.64633232195521,
          99.90341628249297,
          87.75905235476185,
          91.50272468880858,
          114.94364090503535,
          64.66437058853181,
          94.03743969067443,
          78.29571906038127,
          83.10777498538661,
          136.7316137604109,
          92.00917753476054,
          100.68108308614052,
          62.37052489798372,
          97.21491575737726,
          137.06989954938672,
          129.63958852221964,
          137.90137827805233,
          67.85000634543277,
          99.49431294196182,
          105.21559282003871,
          123.5188906699162,
          42.236133608818434,
          76.63760819482133,
          101.81500177094871,
          80.8640546516859,
          118.14673250570279,
          103.70353709022592,
          117.03507085920101,
          121.99141002753322,
          87.06548904198429,
          69.03313082659494,
          69.6607279613452,
          125.89236506159149,
          127.78599720406756,
          123.45808334486549,
          125.81214795583175,
          71.36769398747666,
          91.54887848325075,
          46.3863845299478,
          93.83741345965683,
          120.78476046340309,
          123.86452942831946,
          104.38036432864054,
          120.87409660760052,
          142.0632560427834,
          99.49542689755502,
          121.8393353683042,
          72.39404785240339,
          103.58722775811349,
          99.87450209145058,
          109.49965189819537,
          118.34606785101234,
          90.7598682340448,
          118.02916299104115,
          81.92388704122088,
          118.17279559451977,
          111.28522564170048,
          133.53985394467034,
          146.465338111424,
          122.54581300906656,
          116.68398237920297,
          110.87071441095335,
          120.4045585646618,
          74.62329377345336,
          69.17236554415771,
          54.87243028283557,
          91.4105450034525,
          142.71919589671742,
          145.78983703765198,
          90.43155558797604,
          82.53645314281789,
          106.40552987719441,
          110.36897775660091,
          55.78430983818624,
          74.20684728416163,
          90.45768380541831,
          171.784942550582,
          83.80385348524894,
          125.6915374032636,
          125.75991949937739,
          168.75417929934486,
          153.94109510262976,
          89.64121609683349,
          110.08442285264034,
          102.31078872613716,
          113.39200680235079,
          61.08821543355183,
          93.8107624300486,
          98.35429796948976,
          48.07834522325559,
          86.99513658505268,
          104.97254892081776,
          82.69705269381747,
          93.8276969501526,
          124.41182174822242,
          102.25357155907481
         ]
        }
       ],
       "layout": {
        "hovermode": "x",
        "plot_bgcolor": "rgb(229, 229, 229)",
        "title": "<b>Random Data</b>",
        "xaxis": {
         "gridcolor": "rgb(255,255,255)",
         "tickangle": 30,
         "title": "",
         "zerolinecolor": "rgb(255,255,255)"
        },
        "yaxis": {
         "gridcolor": "rgb(255,255,255)",
         "title": "Random Values",
         "zerolinecolor": "rgb(255,255,255)"
        }
       }
      },
      "text/html": [
       "<div id=\"62b9b345-49ca-4254-9467-0b8e174e14fb\" style=\"height: 525px; width: 100%;\" class=\"plotly-graph-div\"></div><script type=\"text/javascript\">require([\"plotly\"], function(Plotly) { window.PLOTLYENV=window.PLOTLYENV || {};window.PLOTLYENV.BASE_URL=\"https://plot.ly\";Plotly.newPlot(\"62b9b345-49ca-4254-9467-0b8e174e14fb\", [{\"hoverinfo\": \"text\", \"marker\": {\"color\": \"#232C65\"}, \"mode\": \"lines\", \"name\": \"smalldata\", \"text\": [\"Small Data<br>69.659<br>Tue, Jan 01 (Q1)\", \"Small Data<br>97.495<br>Wed, Jan 02 (Q1)\", \"Small Data<br>91.988<br>Thu, Jan 03 (Q1)\", \"Small Data<br>85.545<br>Fri, Jan 04 (Q1)\", \"Small Data<br>98.213<br>Sat, Jan 05 (Q1)\", \"Small Data<br>101.646<br>Sun, Jan 06 (Q1)\", \"Small Data<br>99.903<br>Mon, Jan 07 (Q1)\", \"Small Data<br>87.759<br>Tue, Jan 08 (Q1)\", \"Small Data<br>91.503<br>Wed, Jan 09 (Q1)\", \"Small Data<br>114.944<br>Thu, Jan 10 (Q1)\", \"Small Data<br>64.664<br>Fri, Jan 11 (Q1)\", \"Small Data<br>94.037<br>Sat, Jan 12 (Q1)\", \"Small Data<br>78.296<br>Sun, Jan 13 (Q1)\", \"Small Data<br>83.108<br>Mon, Jan 14 (Q1)\", \"Small Data<br>136.732<br>Tue, Jan 15 (Q1)\", \"Small Data<br>92.009<br>Wed, Jan 16 (Q1)\", \"Small Data<br>100.681<br>Thu, Jan 17 (Q1)\", \"Small Data<br>62.371<br>Fri, Jan 18 (Q1)\", \"Small Data<br>97.215<br>Sat, Jan 19 (Q1)\", \"Small Data<br>137.07<br>Sun, Jan 20 (Q1)\", \"Small Data<br>129.64<br>Mon, Jan 21 (Q1)\", \"Small Data<br>137.901<br>Tue, Jan 22 (Q1)\", \"Small Data<br>67.85<br>Wed, Jan 23 (Q1)\", \"Small Data<br>99.494<br>Thu, Jan 24 (Q1)\", \"Small Data<br>105.216<br>Fri, Jan 25 (Q1)\", \"Small Data<br>123.519<br>Sat, Jan 26 (Q1)\", \"Small Data<br>42.236<br>Sun, Jan 27 (Q1)\", \"Small Data<br>76.638<br>Mon, Jan 28 (Q1)\", \"Small Data<br>101.815<br>Tue, Jan 29 (Q1)\", \"Small Data<br>80.864<br>Wed, Jan 30 (Q1)\", \"Small Data<br>118.147<br>Thu, Jan 31 (Q1)\", \"Small Data<br>103.704<br>Fri, Feb 01 (Q1)\", \"Small Data<br>117.035<br>Sat, Feb 02 (Q1)\", \"Small Data<br>121.991<br>Sun, Feb 03 (Q1)\", \"Small Data<br>87.065<br>Mon, Feb 04 (Q1)\", \"Small Data<br>69.033<br>Tue, Feb 05 (Q1)\", \"Small Data<br>69.661<br>Wed, Feb 06 (Q1)\", \"Small Data<br>125.892<br>Thu, Feb 07 (Q1)\", \"Small Data<br>127.786<br>Fri, Feb 08 (Q1)\", \"Small Data<br>123.458<br>Sat, Feb 09 (Q1)\", \"Small Data<br>125.812<br>Sun, Feb 10 (Q1)\", \"Small Data<br>71.368<br>Mon, Feb 11 (Q1)\", \"Small Data<br>91.549<br>Tue, Feb 12 (Q1)\", \"Small Data<br>46.386<br>Wed, Feb 13 (Q1)\", \"Small Data<br>93.837<br>Thu, Feb 14 (Q1)\", \"Small Data<br>120.785<br>Fri, Feb 15 (Q1)\", \"Small Data<br>123.865<br>Sat, Feb 16 (Q1)\", \"Small Data<br>104.38<br>Sun, Feb 17 (Q1)\", \"Small Data<br>120.874<br>Mon, Feb 18 (Q1)\", \"Small Data<br>142.063<br>Tue, Feb 19 (Q1)\", \"Small Data<br>99.495<br>Wed, Feb 20 (Q1)\", \"Small Data<br>121.839<br>Thu, Feb 21 (Q1)\", \"Small Data<br>72.394<br>Fri, Feb 22 (Q1)\", \"Small Data<br>103.587<br>Sat, Feb 23 (Q1)\", \"Small Data<br>99.875<br>Sun, Feb 24 (Q1)\", \"Small Data<br>109.5<br>Mon, Feb 25 (Q1)\", \"Small Data<br>118.346<br>Tue, Feb 26 (Q1)\", \"Small Data<br>90.76<br>Wed, Feb 27 (Q1)\", \"Small Data<br>118.029<br>Thu, Feb 28 (Q1)\", \"Small Data<br>81.924<br>Fri, Mar 01 (Q1)\", \"Small Data<br>118.173<br>Sat, Mar 02 (Q1)\", \"Small Data<br>111.285<br>Sun, Mar 03 (Q1)\", \"Small Data<br>133.54<br>Mon, Mar 04 (Q1)\", \"Small Data<br>146.465<br>Tue, Mar 05 (Q1)\", \"Small Data<br>122.546<br>Wed, Mar 06 (Q1)\", \"Small Data<br>116.684<br>Thu, Mar 07 (Q1)\", \"Small Data<br>110.871<br>Fri, Mar 08 (Q1)\", \"Small Data<br>120.405<br>Sat, Mar 09 (Q1)\", \"Small Data<br>74.623<br>Sun, Mar 10 (Q1)\", \"Small Data<br>69.172<br>Mon, Mar 11 (Q1)\", \"Small Data<br>54.872<br>Tue, Mar 12 (Q1)\", \"Small Data<br>91.411<br>Wed, Mar 13 (Q1)\", \"Small Data<br>142.719<br>Thu, Mar 14 (Q1)\", \"Small Data<br>145.79<br>Fri, Mar 15 (Q1)\", \"Small Data<br>90.432<br>Sat, Mar 16 (Q1)\", \"Small Data<br>82.536<br>Sun, Mar 17 (Q1)\", \"Small Data<br>106.406<br>Mon, Mar 18 (Q1)\", \"Small Data<br>110.369<br>Tue, Mar 19 (Q1)\", \"Small Data<br>55.784<br>Wed, Mar 20 (Q1)\", \"Small Data<br>74.207<br>Thu, Mar 21 (Q1)\", \"Small Data<br>90.458<br>Fri, Mar 22 (Q1)\", \"Small Data<br>171.785<br>Sat, Mar 23 (Q1)\", \"Small Data<br>83.804<br>Sun, Mar 24 (Q1)\", \"Small Data<br>125.692<br>Mon, Mar 25 (Q1)\", \"Small Data<br>125.76<br>Tue, Mar 26 (Q1)\", \"Small Data<br>168.754<br>Wed, Mar 27 (Q1)\", \"Small Data<br>153.941<br>Thu, Mar 28 (Q1)\", \"Small Data<br>89.641<br>Fri, Mar 29 (Q1)\", \"Small Data<br>110.084<br>Sat, Mar 30 (Q1)\", \"Small Data<br>102.311<br>Sun, Mar 31 (Q1)\", \"Small Data<br>113.392<br>Mon, Apr 01 (Q2)\", \"Small Data<br>61.088<br>Tue, Apr 02 (Q2)\", \"Small Data<br>93.811<br>Wed, Apr 03 (Q2)\", \"Small Data<br>98.354<br>Thu, Apr 04 (Q2)\", \"Small Data<br>48.078<br>Fri, Apr 05 (Q2)\", \"Small Data<br>86.995<br>Sat, Apr 06 (Q2)\", \"Small Data<br>104.973<br>Sun, Apr 07 (Q2)\", \"Small Data<br>82.697<br>Mon, Apr 08 (Q2)\", \"Small Data<br>93.828<br>Tue, Apr 09 (Q2)\", \"Small Data<br>124.412<br>Wed, Apr 10 (Q2)\", \"Small Data<br>102.254<br>Thu, Apr 11 (Q2)\"], \"x\": [\"2019-01-01\", \"2019-01-02\", \"2019-01-03\", \"2019-01-04\", \"2019-01-05\", \"2019-01-06\", \"2019-01-07\", \"2019-01-08\", \"2019-01-09\", \"2019-01-10\", \"2019-01-11\", \"2019-01-12\", \"2019-01-13\", \"2019-01-14\", \"2019-01-15\", \"2019-01-16\", \"2019-01-17\", \"2019-01-18\", \"2019-01-19\", \"2019-01-20\", \"2019-01-21\", \"2019-01-22\", \"2019-01-23\", \"2019-01-24\", \"2019-01-25\", \"2019-01-26\", \"2019-01-27\", \"2019-01-28\", \"2019-01-29\", \"2019-01-30\", \"2019-01-31\", \"2019-02-01\", \"2019-02-02\", \"2019-02-03\", \"2019-02-04\", \"2019-02-05\", \"2019-02-06\", \"2019-02-07\", \"2019-02-08\", \"2019-02-09\", \"2019-02-10\", \"2019-02-11\", \"2019-02-12\", \"2019-02-13\", \"2019-02-14\", \"2019-02-15\", \"2019-02-16\", \"2019-02-17\", \"2019-02-18\", \"2019-02-19\", \"2019-02-20\", \"2019-02-21\", \"2019-02-22\", \"2019-02-23\", \"2019-02-24\", \"2019-02-25\", \"2019-02-26\", \"2019-02-27\", \"2019-02-28\", \"2019-03-01\", \"2019-03-02\", \"2019-03-03\", \"2019-03-04\", \"2019-03-05\", \"2019-03-06\", \"2019-03-07\", \"2019-03-08\", \"2019-03-09\", \"2019-03-10\", \"2019-03-11\", \"2019-03-12\", \"2019-03-13\", \"2019-03-14\", \"2019-03-15\", \"2019-03-16\", \"2019-03-17\", \"2019-03-18\", \"2019-03-19\", \"2019-03-20\", \"2019-03-21\", \"2019-03-22\", \"2019-03-23\", \"2019-03-24\", \"2019-03-25\", \"2019-03-26\", \"2019-03-27\", \"2019-03-28\", \"2019-03-29\", \"2019-03-30\", \"2019-03-31\", \"2019-04-01\", \"2019-04-02\", \"2019-04-03\", \"2019-04-04\", \"2019-04-05\", \"2019-04-06\", \"2019-04-07\", \"2019-04-08\", \"2019-04-09\", \"2019-04-10\", \"2019-04-11\"], \"y\": [69.65889319259577, 97.49451323922985, 91.98766752008802, 85.54533763045222, 98.21340121395288, 101.64633232195521, 99.90341628249297, 87.75905235476185, 91.50272468880858, 114.94364090503535, 64.66437058853181, 94.03743969067443, 78.29571906038127, 83.10777498538661, 136.7316137604109, 92.00917753476054, 100.68108308614052, 62.37052489798372, 97.21491575737726, 137.06989954938672, 129.63958852221964, 137.90137827805233, 67.85000634543277, 99.49431294196182, 105.21559282003871, 123.5188906699162, 42.236133608818434, 76.63760819482133, 101.81500177094871, 80.8640546516859, 118.14673250570279, 103.70353709022592, 117.03507085920101, 121.99141002753322, 87.06548904198429, 69.03313082659494, 69.6607279613452, 125.89236506159149, 127.78599720406756, 123.45808334486549, 125.81214795583175, 71.36769398747666, 91.54887848325075, 46.3863845299478, 93.83741345965683, 120.78476046340309, 123.86452942831946, 104.38036432864054, 120.87409660760052, 142.0632560427834, 99.49542689755502, 121.8393353683042, 72.39404785240339, 103.58722775811349, 99.87450209145058, 109.49965189819537, 118.34606785101234, 90.7598682340448, 118.02916299104115, 81.92388704122088, 118.17279559451977, 111.28522564170048, 133.53985394467034, 146.465338111424, 122.54581300906656, 116.68398237920297, 110.87071441095335, 120.4045585646618, 74.62329377345336, 69.17236554415771, 54.87243028283557, 91.4105450034525, 142.71919589671742, 145.78983703765198, 90.43155558797604, 82.53645314281789, 106.40552987719441, 110.36897775660091, 55.78430983818624, 74.20684728416163, 90.45768380541831, 171.784942550582, 83.80385348524894, 125.6915374032636, 125.75991949937739, 168.75417929934486, 153.94109510262976, 89.64121609683349, 110.08442285264034, 102.31078872613716, 113.39200680235079, 61.08821543355183, 93.8107624300486, 98.35429796948976, 48.07834522325559, 86.99513658505268, 104.97254892081776, 82.69705269381747, 93.8276969501526, 124.41182174822242, 102.25357155907481], \"type\": \"scatter\", \"uid\": \"af71ac1d-915b-479b-97d5-5838f2d115ac\"}], {\"hovermode\": \"x\", \"plot_bgcolor\": \"rgb(229, 229, 229)\", \"title\": \"<b>Random Data</b>\", \"xaxis\": {\"gridcolor\": \"rgb(255,255,255)\", \"tickangle\": 30, \"title\": \"\", \"zerolinecolor\": \"rgb(255,255,255)\"}, \"yaxis\": {\"gridcolor\": \"rgb(255,255,255)\", \"title\": \"Random Values\", \"zerolinecolor\": \"rgb(255,255,255)\"}}, {\"showLink\": true, \"linkText\": \"Export to plot.ly\", \"plotlyServerURL\": \"https://plot.ly\"})});</script><script type=\"text/javascript\">window.addEventListener(\"resize\", function(){window._Plotly.Plots.resize(document.getElementById(\"62b9b345-49ca-4254-9467-0b8e174e14fb\"));});</script>"
      ],
      "text/vnd.plotly.v1+html": [
       "<div id=\"62b9b345-49ca-4254-9467-0b8e174e14fb\" style=\"height: 525px; width: 100%;\" class=\"plotly-graph-div\"></div><script type=\"text/javascript\">require([\"plotly\"], function(Plotly) { window.PLOTLYENV=window.PLOTLYENV || {};window.PLOTLYENV.BASE_URL=\"https://plot.ly\";Plotly.newPlot(\"62b9b345-49ca-4254-9467-0b8e174e14fb\", [{\"hoverinfo\": \"text\", \"marker\": {\"color\": \"#232C65\"}, \"mode\": \"lines\", \"name\": \"smalldata\", \"text\": [\"Small Data<br>69.659<br>Tue, Jan 01 (Q1)\", \"Small Data<br>97.495<br>Wed, Jan 02 (Q1)\", \"Small Data<br>91.988<br>Thu, Jan 03 (Q1)\", \"Small Data<br>85.545<br>Fri, Jan 04 (Q1)\", \"Small Data<br>98.213<br>Sat, Jan 05 (Q1)\", \"Small Data<br>101.646<br>Sun, Jan 06 (Q1)\", \"Small Data<br>99.903<br>Mon, Jan 07 (Q1)\", \"Small Data<br>87.759<br>Tue, Jan 08 (Q1)\", \"Small Data<br>91.503<br>Wed, Jan 09 (Q1)\", \"Small Data<br>114.944<br>Thu, Jan 10 (Q1)\", \"Small Data<br>64.664<br>Fri, Jan 11 (Q1)\", \"Small Data<br>94.037<br>Sat, Jan 12 (Q1)\", \"Small Data<br>78.296<br>Sun, Jan 13 (Q1)\", \"Small Data<br>83.108<br>Mon, Jan 14 (Q1)\", \"Small Data<br>136.732<br>Tue, Jan 15 (Q1)\", \"Small Data<br>92.009<br>Wed, Jan 16 (Q1)\", \"Small Data<br>100.681<br>Thu, Jan 17 (Q1)\", \"Small Data<br>62.371<br>Fri, Jan 18 (Q1)\", \"Small Data<br>97.215<br>Sat, Jan 19 (Q1)\", \"Small Data<br>137.07<br>Sun, Jan 20 (Q1)\", \"Small Data<br>129.64<br>Mon, Jan 21 (Q1)\", \"Small Data<br>137.901<br>Tue, Jan 22 (Q1)\", \"Small Data<br>67.85<br>Wed, Jan 23 (Q1)\", \"Small Data<br>99.494<br>Thu, Jan 24 (Q1)\", \"Small Data<br>105.216<br>Fri, Jan 25 (Q1)\", \"Small Data<br>123.519<br>Sat, Jan 26 (Q1)\", \"Small Data<br>42.236<br>Sun, Jan 27 (Q1)\", \"Small Data<br>76.638<br>Mon, Jan 28 (Q1)\", \"Small Data<br>101.815<br>Tue, Jan 29 (Q1)\", \"Small Data<br>80.864<br>Wed, Jan 30 (Q1)\", \"Small Data<br>118.147<br>Thu, Jan 31 (Q1)\", \"Small Data<br>103.704<br>Fri, Feb 01 (Q1)\", \"Small Data<br>117.035<br>Sat, Feb 02 (Q1)\", \"Small Data<br>121.991<br>Sun, Feb 03 (Q1)\", \"Small Data<br>87.065<br>Mon, Feb 04 (Q1)\", \"Small Data<br>69.033<br>Tue, Feb 05 (Q1)\", \"Small Data<br>69.661<br>Wed, Feb 06 (Q1)\", \"Small Data<br>125.892<br>Thu, Feb 07 (Q1)\", \"Small Data<br>127.786<br>Fri, Feb 08 (Q1)\", \"Small Data<br>123.458<br>Sat, Feb 09 (Q1)\", \"Small Data<br>125.812<br>Sun, Feb 10 (Q1)\", \"Small Data<br>71.368<br>Mon, Feb 11 (Q1)\", \"Small Data<br>91.549<br>Tue, Feb 12 (Q1)\", \"Small Data<br>46.386<br>Wed, Feb 13 (Q1)\", \"Small Data<br>93.837<br>Thu, Feb 14 (Q1)\", \"Small Data<br>120.785<br>Fri, Feb 15 (Q1)\", \"Small Data<br>123.865<br>Sat, Feb 16 (Q1)\", \"Small Data<br>104.38<br>Sun, Feb 17 (Q1)\", \"Small Data<br>120.874<br>Mon, Feb 18 (Q1)\", \"Small Data<br>142.063<br>Tue, Feb 19 (Q1)\", \"Small Data<br>99.495<br>Wed, Feb 20 (Q1)\", \"Small Data<br>121.839<br>Thu, Feb 21 (Q1)\", \"Small Data<br>72.394<br>Fri, Feb 22 (Q1)\", \"Small Data<br>103.587<br>Sat, Feb 23 (Q1)\", \"Small Data<br>99.875<br>Sun, Feb 24 (Q1)\", \"Small Data<br>109.5<br>Mon, Feb 25 (Q1)\", \"Small Data<br>118.346<br>Tue, Feb 26 (Q1)\", \"Small Data<br>90.76<br>Wed, Feb 27 (Q1)\", \"Small Data<br>118.029<br>Thu, Feb 28 (Q1)\", \"Small Data<br>81.924<br>Fri, Mar 01 (Q1)\", \"Small Data<br>118.173<br>Sat, Mar 02 (Q1)\", \"Small Data<br>111.285<br>Sun, Mar 03 (Q1)\", \"Small Data<br>133.54<br>Mon, Mar 04 (Q1)\", \"Small Data<br>146.465<br>Tue, Mar 05 (Q1)\", \"Small Data<br>122.546<br>Wed, Mar 06 (Q1)\", \"Small Data<br>116.684<br>Thu, Mar 07 (Q1)\", \"Small Data<br>110.871<br>Fri, Mar 08 (Q1)\", \"Small Data<br>120.405<br>Sat, Mar 09 (Q1)\", \"Small Data<br>74.623<br>Sun, Mar 10 (Q1)\", \"Small Data<br>69.172<br>Mon, Mar 11 (Q1)\", \"Small Data<br>54.872<br>Tue, Mar 12 (Q1)\", \"Small Data<br>91.411<br>Wed, Mar 13 (Q1)\", \"Small Data<br>142.719<br>Thu, Mar 14 (Q1)\", \"Small Data<br>145.79<br>Fri, Mar 15 (Q1)\", \"Small Data<br>90.432<br>Sat, Mar 16 (Q1)\", \"Small Data<br>82.536<br>Sun, Mar 17 (Q1)\", \"Small Data<br>106.406<br>Mon, Mar 18 (Q1)\", \"Small Data<br>110.369<br>Tue, Mar 19 (Q1)\", \"Small Data<br>55.784<br>Wed, Mar 20 (Q1)\", \"Small Data<br>74.207<br>Thu, Mar 21 (Q1)\", \"Small Data<br>90.458<br>Fri, Mar 22 (Q1)\", \"Small Data<br>171.785<br>Sat, Mar 23 (Q1)\", \"Small Data<br>83.804<br>Sun, Mar 24 (Q1)\", \"Small Data<br>125.692<br>Mon, Mar 25 (Q1)\", \"Small Data<br>125.76<br>Tue, Mar 26 (Q1)\", \"Small Data<br>168.754<br>Wed, Mar 27 (Q1)\", \"Small Data<br>153.941<br>Thu, Mar 28 (Q1)\", \"Small Data<br>89.641<br>Fri, Mar 29 (Q1)\", \"Small Data<br>110.084<br>Sat, Mar 30 (Q1)\", \"Small Data<br>102.311<br>Sun, Mar 31 (Q1)\", \"Small Data<br>113.392<br>Mon, Apr 01 (Q2)\", \"Small Data<br>61.088<br>Tue, Apr 02 (Q2)\", \"Small Data<br>93.811<br>Wed, Apr 03 (Q2)\", \"Small Data<br>98.354<br>Thu, Apr 04 (Q2)\", \"Small Data<br>48.078<br>Fri, Apr 05 (Q2)\", \"Small Data<br>86.995<br>Sat, Apr 06 (Q2)\", \"Small Data<br>104.973<br>Sun, Apr 07 (Q2)\", \"Small Data<br>82.697<br>Mon, Apr 08 (Q2)\", \"Small Data<br>93.828<br>Tue, Apr 09 (Q2)\", \"Small Data<br>124.412<br>Wed, Apr 10 (Q2)\", \"Small Data<br>102.254<br>Thu, Apr 11 (Q2)\"], \"x\": [\"2019-01-01\", \"2019-01-02\", \"2019-01-03\", \"2019-01-04\", \"2019-01-05\", \"2019-01-06\", \"2019-01-07\", \"2019-01-08\", \"2019-01-09\", \"2019-01-10\", \"2019-01-11\", \"2019-01-12\", \"2019-01-13\", \"2019-01-14\", \"2019-01-15\", \"2019-01-16\", \"2019-01-17\", \"2019-01-18\", \"2019-01-19\", \"2019-01-20\", \"2019-01-21\", \"2019-01-22\", \"2019-01-23\", \"2019-01-24\", \"2019-01-25\", \"2019-01-26\", \"2019-01-27\", \"2019-01-28\", \"2019-01-29\", \"2019-01-30\", \"2019-01-31\", \"2019-02-01\", \"2019-02-02\", \"2019-02-03\", \"2019-02-04\", \"2019-02-05\", \"2019-02-06\", \"2019-02-07\", \"2019-02-08\", \"2019-02-09\", \"2019-02-10\", \"2019-02-11\", \"2019-02-12\", \"2019-02-13\", \"2019-02-14\", \"2019-02-15\", \"2019-02-16\", \"2019-02-17\", \"2019-02-18\", \"2019-02-19\", \"2019-02-20\", \"2019-02-21\", \"2019-02-22\", \"2019-02-23\", \"2019-02-24\", \"2019-02-25\", \"2019-02-26\", \"2019-02-27\", \"2019-02-28\", \"2019-03-01\", \"2019-03-02\", \"2019-03-03\", \"2019-03-04\", \"2019-03-05\", \"2019-03-06\", \"2019-03-07\", \"2019-03-08\", \"2019-03-09\", \"2019-03-10\", \"2019-03-11\", \"2019-03-12\", \"2019-03-13\", \"2019-03-14\", \"2019-03-15\", \"2019-03-16\", \"2019-03-17\", \"2019-03-18\", \"2019-03-19\", \"2019-03-20\", \"2019-03-21\", \"2019-03-22\", \"2019-03-23\", \"2019-03-24\", \"2019-03-25\", \"2019-03-26\", \"2019-03-27\", \"2019-03-28\", \"2019-03-29\", \"2019-03-30\", \"2019-03-31\", \"2019-04-01\", \"2019-04-02\", \"2019-04-03\", \"2019-04-04\", \"2019-04-05\", \"2019-04-06\", \"2019-04-07\", \"2019-04-08\", \"2019-04-09\", \"2019-04-10\", \"2019-04-11\"], \"y\": [69.65889319259577, 97.49451323922985, 91.98766752008802, 85.54533763045222, 98.21340121395288, 101.64633232195521, 99.90341628249297, 87.75905235476185, 91.50272468880858, 114.94364090503535, 64.66437058853181, 94.03743969067443, 78.29571906038127, 83.10777498538661, 136.7316137604109, 92.00917753476054, 100.68108308614052, 62.37052489798372, 97.21491575737726, 137.06989954938672, 129.63958852221964, 137.90137827805233, 67.85000634543277, 99.49431294196182, 105.21559282003871, 123.5188906699162, 42.236133608818434, 76.63760819482133, 101.81500177094871, 80.8640546516859, 118.14673250570279, 103.70353709022592, 117.03507085920101, 121.99141002753322, 87.06548904198429, 69.03313082659494, 69.6607279613452, 125.89236506159149, 127.78599720406756, 123.45808334486549, 125.81214795583175, 71.36769398747666, 91.54887848325075, 46.3863845299478, 93.83741345965683, 120.78476046340309, 123.86452942831946, 104.38036432864054, 120.87409660760052, 142.0632560427834, 99.49542689755502, 121.8393353683042, 72.39404785240339, 103.58722775811349, 99.87450209145058, 109.49965189819537, 118.34606785101234, 90.7598682340448, 118.02916299104115, 81.92388704122088, 118.17279559451977, 111.28522564170048, 133.53985394467034, 146.465338111424, 122.54581300906656, 116.68398237920297, 110.87071441095335, 120.4045585646618, 74.62329377345336, 69.17236554415771, 54.87243028283557, 91.4105450034525, 142.71919589671742, 145.78983703765198, 90.43155558797604, 82.53645314281789, 106.40552987719441, 110.36897775660091, 55.78430983818624, 74.20684728416163, 90.45768380541831, 171.784942550582, 83.80385348524894, 125.6915374032636, 125.75991949937739, 168.75417929934486, 153.94109510262976, 89.64121609683349, 110.08442285264034, 102.31078872613716, 113.39200680235079, 61.08821543355183, 93.8107624300486, 98.35429796948976, 48.07834522325559, 86.99513658505268, 104.97254892081776, 82.69705269381747, 93.8276969501526, 124.41182174822242, 102.25357155907481], \"type\": \"scatter\", \"uid\": \"af71ac1d-915b-479b-97d5-5838f2d115ac\"}], {\"hovermode\": \"x\", \"plot_bgcolor\": \"rgb(229, 229, 229)\", \"title\": \"<b>Random Data</b>\", \"xaxis\": {\"gridcolor\": \"rgb(255,255,255)\", \"tickangle\": 30, \"title\": \"\", \"zerolinecolor\": \"rgb(255,255,255)\"}, \"yaxis\": {\"gridcolor\": \"rgb(255,255,255)\", \"title\": \"Random Values\", \"zerolinecolor\": \"rgb(255,255,255)\"}}, {\"showLink\": true, \"linkText\": \"Export to plot.ly\", \"plotlyServerURL\": \"https://plot.ly\"})});</script><script type=\"text/javascript\">window.addEventListener(\"resize\", function(){window._Plotly.Plots.resize(document.getElementById(\"62b9b345-49ca-4254-9467-0b8e174e14fb\"));});</script>"
      ]
     },
     "metadata": {},
     "output_type": "display_data"
    }
   ],
   "source": [
    "# create graph \n",
    "args = dict(\n",
    "    in_data=df[['smalldata']],\n",
    "    names=names,\n",
    "    title='<b>Random Data</b>',\n",
    "    xlab='',\n",
    "    ylab='Random Values',\n",
    "    \n",
    "    # By default plotly shows the value of the data \n",
    "    # on the hover popup, but since we built descriptive\n",
    "    # labels on the hovertext, we can disable the default \n",
    "    # hovertext with the `hoverinfo` arg. \n",
    "    hoverinfo='text',\n",
    ")\n",
    "\n",
    "fig = lineplot.create_graph(**args)"
   ]
  },
  {
   "cell_type": "markdown",
   "metadata": {},
   "source": [
    "## Multiple Axis Lineplot"
   ]
  },
  {
   "cell_type": "markdown",
   "metadata": {},
   "source": [
    "Often we want to compare data which has the same x axis, but y axes which vary substantially in range. \n",
    "\n",
    "We can view multiple lines on the graph by simply passing multiple columns to `in_data`:"
   ]
  },
  {
   "cell_type": "code",
   "execution_count": 70,
   "metadata": {},
   "outputs": [
    {
     "data": {
      "text/html": [
       "<script type=\"text/javascript\">window.PlotlyConfig = {MathJaxConfig: 'local'};</script><script type=\"text/javascript\">if (window.MathJax) {MathJax.Hub.Config({SVG: {font: \"STIX-Web\"}});}</script><script>requirejs.config({paths: { 'plotly': ['https://cdn.plot.ly/plotly-latest.min']},});if(!window._Plotly) {require(['plotly'],function(plotly) {window._Plotly=plotly;});}</script>"
      ],
      "text/vnd.plotly.v1+html": [
       "<script type=\"text/javascript\">window.PlotlyConfig = {MathJaxConfig: 'local'};</script><script type=\"text/javascript\">if (window.MathJax) {MathJax.Hub.Config({SVG: {font: \"STIX-Web\"}});}</script><script>requirejs.config({paths: { 'plotly': ['https://cdn.plot.ly/plotly-latest.min']},});if(!window._Plotly) {require(['plotly'],function(plotly) {window._Plotly=plotly;});}</script>"
      ]
     },
     "metadata": {},
     "output_type": "display_data"
    },
    {
     "data": {
      "application/vnd.plotly.v1+json": {
       "config": {
        "linkText": "Export to plot.ly",
        "plotlyServerURL": "https://plot.ly",
        "showLink": true
       },
       "data": [
        {
         "hoverinfo": "text",
         "marker": {
          "color": "#232C65"
         },
         "mode": "lines",
         "name": "smalldata",
         "text": [
          "Small Data<br>69.659<br>Tue, Jan 01 (Q1)",
          "Small Data<br>97.495<br>Wed, Jan 02 (Q1)",
          "Small Data<br>91.988<br>Thu, Jan 03 (Q1)",
          "Small Data<br>85.545<br>Fri, Jan 04 (Q1)",
          "Small Data<br>98.213<br>Sat, Jan 05 (Q1)",
          "Small Data<br>101.646<br>Sun, Jan 06 (Q1)",
          "Small Data<br>99.903<br>Mon, Jan 07 (Q1)",
          "Small Data<br>87.759<br>Tue, Jan 08 (Q1)",
          "Small Data<br>91.503<br>Wed, Jan 09 (Q1)",
          "Small Data<br>114.944<br>Thu, Jan 10 (Q1)",
          "Small Data<br>64.664<br>Fri, Jan 11 (Q1)",
          "Small Data<br>94.037<br>Sat, Jan 12 (Q1)",
          "Small Data<br>78.296<br>Sun, Jan 13 (Q1)",
          "Small Data<br>83.108<br>Mon, Jan 14 (Q1)",
          "Small Data<br>136.732<br>Tue, Jan 15 (Q1)",
          "Small Data<br>92.009<br>Wed, Jan 16 (Q1)",
          "Small Data<br>100.681<br>Thu, Jan 17 (Q1)",
          "Small Data<br>62.371<br>Fri, Jan 18 (Q1)",
          "Small Data<br>97.215<br>Sat, Jan 19 (Q1)",
          "Small Data<br>137.07<br>Sun, Jan 20 (Q1)",
          "Small Data<br>129.64<br>Mon, Jan 21 (Q1)",
          "Small Data<br>137.901<br>Tue, Jan 22 (Q1)",
          "Small Data<br>67.85<br>Wed, Jan 23 (Q1)",
          "Small Data<br>99.494<br>Thu, Jan 24 (Q1)",
          "Small Data<br>105.216<br>Fri, Jan 25 (Q1)",
          "Small Data<br>123.519<br>Sat, Jan 26 (Q1)",
          "Small Data<br>42.236<br>Sun, Jan 27 (Q1)",
          "Small Data<br>76.638<br>Mon, Jan 28 (Q1)",
          "Small Data<br>101.815<br>Tue, Jan 29 (Q1)",
          "Small Data<br>80.864<br>Wed, Jan 30 (Q1)",
          "Small Data<br>118.147<br>Thu, Jan 31 (Q1)",
          "Small Data<br>103.704<br>Fri, Feb 01 (Q1)",
          "Small Data<br>117.035<br>Sat, Feb 02 (Q1)",
          "Small Data<br>121.991<br>Sun, Feb 03 (Q1)",
          "Small Data<br>87.065<br>Mon, Feb 04 (Q1)",
          "Small Data<br>69.033<br>Tue, Feb 05 (Q1)",
          "Small Data<br>69.661<br>Wed, Feb 06 (Q1)",
          "Small Data<br>125.892<br>Thu, Feb 07 (Q1)",
          "Small Data<br>127.786<br>Fri, Feb 08 (Q1)",
          "Small Data<br>123.458<br>Sat, Feb 09 (Q1)",
          "Small Data<br>125.812<br>Sun, Feb 10 (Q1)",
          "Small Data<br>71.368<br>Mon, Feb 11 (Q1)",
          "Small Data<br>91.549<br>Tue, Feb 12 (Q1)",
          "Small Data<br>46.386<br>Wed, Feb 13 (Q1)",
          "Small Data<br>93.837<br>Thu, Feb 14 (Q1)",
          "Small Data<br>120.785<br>Fri, Feb 15 (Q1)",
          "Small Data<br>123.865<br>Sat, Feb 16 (Q1)",
          "Small Data<br>104.38<br>Sun, Feb 17 (Q1)",
          "Small Data<br>120.874<br>Mon, Feb 18 (Q1)",
          "Small Data<br>142.063<br>Tue, Feb 19 (Q1)",
          "Small Data<br>99.495<br>Wed, Feb 20 (Q1)",
          "Small Data<br>121.839<br>Thu, Feb 21 (Q1)",
          "Small Data<br>72.394<br>Fri, Feb 22 (Q1)",
          "Small Data<br>103.587<br>Sat, Feb 23 (Q1)",
          "Small Data<br>99.875<br>Sun, Feb 24 (Q1)",
          "Small Data<br>109.5<br>Mon, Feb 25 (Q1)",
          "Small Data<br>118.346<br>Tue, Feb 26 (Q1)",
          "Small Data<br>90.76<br>Wed, Feb 27 (Q1)",
          "Small Data<br>118.029<br>Thu, Feb 28 (Q1)",
          "Small Data<br>81.924<br>Fri, Mar 01 (Q1)",
          "Small Data<br>118.173<br>Sat, Mar 02 (Q1)",
          "Small Data<br>111.285<br>Sun, Mar 03 (Q1)",
          "Small Data<br>133.54<br>Mon, Mar 04 (Q1)",
          "Small Data<br>146.465<br>Tue, Mar 05 (Q1)",
          "Small Data<br>122.546<br>Wed, Mar 06 (Q1)",
          "Small Data<br>116.684<br>Thu, Mar 07 (Q1)",
          "Small Data<br>110.871<br>Fri, Mar 08 (Q1)",
          "Small Data<br>120.405<br>Sat, Mar 09 (Q1)",
          "Small Data<br>74.623<br>Sun, Mar 10 (Q1)",
          "Small Data<br>69.172<br>Mon, Mar 11 (Q1)",
          "Small Data<br>54.872<br>Tue, Mar 12 (Q1)",
          "Small Data<br>91.411<br>Wed, Mar 13 (Q1)",
          "Small Data<br>142.719<br>Thu, Mar 14 (Q1)",
          "Small Data<br>145.79<br>Fri, Mar 15 (Q1)",
          "Small Data<br>90.432<br>Sat, Mar 16 (Q1)",
          "Small Data<br>82.536<br>Sun, Mar 17 (Q1)",
          "Small Data<br>106.406<br>Mon, Mar 18 (Q1)",
          "Small Data<br>110.369<br>Tue, Mar 19 (Q1)",
          "Small Data<br>55.784<br>Wed, Mar 20 (Q1)",
          "Small Data<br>74.207<br>Thu, Mar 21 (Q1)",
          "Small Data<br>90.458<br>Fri, Mar 22 (Q1)",
          "Small Data<br>171.785<br>Sat, Mar 23 (Q1)",
          "Small Data<br>83.804<br>Sun, Mar 24 (Q1)",
          "Small Data<br>125.692<br>Mon, Mar 25 (Q1)",
          "Small Data<br>125.76<br>Tue, Mar 26 (Q1)",
          "Small Data<br>168.754<br>Wed, Mar 27 (Q1)",
          "Small Data<br>153.941<br>Thu, Mar 28 (Q1)",
          "Small Data<br>89.641<br>Fri, Mar 29 (Q1)",
          "Small Data<br>110.084<br>Sat, Mar 30 (Q1)",
          "Small Data<br>102.311<br>Sun, Mar 31 (Q1)",
          "Small Data<br>113.392<br>Mon, Apr 01 (Q2)",
          "Small Data<br>61.088<br>Tue, Apr 02 (Q2)",
          "Small Data<br>93.811<br>Wed, Apr 03 (Q2)",
          "Small Data<br>98.354<br>Thu, Apr 04 (Q2)",
          "Small Data<br>48.078<br>Fri, Apr 05 (Q2)",
          "Small Data<br>86.995<br>Sat, Apr 06 (Q2)",
          "Small Data<br>104.973<br>Sun, Apr 07 (Q2)",
          "Small Data<br>82.697<br>Mon, Apr 08 (Q2)",
          "Small Data<br>93.828<br>Tue, Apr 09 (Q2)",
          "Small Data<br>124.412<br>Wed, Apr 10 (Q2)",
          "Small Data<br>102.254<br>Thu, Apr 11 (Q2)"
         ],
         "type": "scatter",
         "uid": "11e89ea4-d203-40e7-870e-289e47b61607",
         "x": [
          "2019-01-01",
          "2019-01-02",
          "2019-01-03",
          "2019-01-04",
          "2019-01-05",
          "2019-01-06",
          "2019-01-07",
          "2019-01-08",
          "2019-01-09",
          "2019-01-10",
          "2019-01-11",
          "2019-01-12",
          "2019-01-13",
          "2019-01-14",
          "2019-01-15",
          "2019-01-16",
          "2019-01-17",
          "2019-01-18",
          "2019-01-19",
          "2019-01-20",
          "2019-01-21",
          "2019-01-22",
          "2019-01-23",
          "2019-01-24",
          "2019-01-25",
          "2019-01-26",
          "2019-01-27",
          "2019-01-28",
          "2019-01-29",
          "2019-01-30",
          "2019-01-31",
          "2019-02-01",
          "2019-02-02",
          "2019-02-03",
          "2019-02-04",
          "2019-02-05",
          "2019-02-06",
          "2019-02-07",
          "2019-02-08",
          "2019-02-09",
          "2019-02-10",
          "2019-02-11",
          "2019-02-12",
          "2019-02-13",
          "2019-02-14",
          "2019-02-15",
          "2019-02-16",
          "2019-02-17",
          "2019-02-18",
          "2019-02-19",
          "2019-02-20",
          "2019-02-21",
          "2019-02-22",
          "2019-02-23",
          "2019-02-24",
          "2019-02-25",
          "2019-02-26",
          "2019-02-27",
          "2019-02-28",
          "2019-03-01",
          "2019-03-02",
          "2019-03-03",
          "2019-03-04",
          "2019-03-05",
          "2019-03-06",
          "2019-03-07",
          "2019-03-08",
          "2019-03-09",
          "2019-03-10",
          "2019-03-11",
          "2019-03-12",
          "2019-03-13",
          "2019-03-14",
          "2019-03-15",
          "2019-03-16",
          "2019-03-17",
          "2019-03-18",
          "2019-03-19",
          "2019-03-20",
          "2019-03-21",
          "2019-03-22",
          "2019-03-23",
          "2019-03-24",
          "2019-03-25",
          "2019-03-26",
          "2019-03-27",
          "2019-03-28",
          "2019-03-29",
          "2019-03-30",
          "2019-03-31",
          "2019-04-01",
          "2019-04-02",
          "2019-04-03",
          "2019-04-04",
          "2019-04-05",
          "2019-04-06",
          "2019-04-07",
          "2019-04-08",
          "2019-04-09",
          "2019-04-10",
          "2019-04-11"
         ],
         "y": [
          69.65889319259577,
          97.49451323922985,
          91.98766752008802,
          85.54533763045222,
          98.21340121395288,
          101.64633232195521,
          99.90341628249297,
          87.75905235476185,
          91.50272468880858,
          114.94364090503535,
          64.66437058853181,
          94.03743969067443,
          78.29571906038127,
          83.10777498538661,
          136.7316137604109,
          92.00917753476054,
          100.68108308614052,
          62.37052489798372,
          97.21491575737726,
          137.06989954938672,
          129.63958852221964,
          137.90137827805233,
          67.85000634543277,
          99.49431294196182,
          105.21559282003871,
          123.5188906699162,
          42.236133608818434,
          76.63760819482133,
          101.81500177094871,
          80.8640546516859,
          118.14673250570279,
          103.70353709022592,
          117.03507085920101,
          121.99141002753322,
          87.06548904198429,
          69.03313082659494,
          69.6607279613452,
          125.89236506159149,
          127.78599720406756,
          123.45808334486549,
          125.81214795583175,
          71.36769398747666,
          91.54887848325075,
          46.3863845299478,
          93.83741345965683,
          120.78476046340309,
          123.86452942831946,
          104.38036432864054,
          120.87409660760052,
          142.0632560427834,
          99.49542689755502,
          121.8393353683042,
          72.39404785240339,
          103.58722775811349,
          99.87450209145058,
          109.49965189819537,
          118.34606785101234,
          90.7598682340448,
          118.02916299104115,
          81.92388704122088,
          118.17279559451977,
          111.28522564170048,
          133.53985394467034,
          146.465338111424,
          122.54581300906656,
          116.68398237920297,
          110.87071441095335,
          120.4045585646618,
          74.62329377345336,
          69.17236554415771,
          54.87243028283557,
          91.4105450034525,
          142.71919589671742,
          145.78983703765198,
          90.43155558797604,
          82.53645314281789,
          106.40552987719441,
          110.36897775660091,
          55.78430983818624,
          74.20684728416163,
          90.45768380541831,
          171.784942550582,
          83.80385348524894,
          125.6915374032636,
          125.75991949937739,
          168.75417929934486,
          153.94109510262976,
          89.64121609683349,
          110.08442285264034,
          102.31078872613716,
          113.39200680235079,
          61.08821543355183,
          93.8107624300486,
          98.35429796948976,
          48.07834522325559,
          86.99513658505268,
          104.97254892081776,
          82.69705269381747,
          93.8276969501526,
          124.41182174822242,
          102.25357155907481
         ]
        },
        {
         "hoverinfo": "text",
         "marker": {
          "color": "#840032"
         },
         "mode": "lines",
         "name": "largedata",
         "text": [
          "Large Data<br>1117.334<br>Tue, Jan 01 (Q1)",
          "Large Data<br>822.975<br>Wed, Jan 02 (Q1)",
          "Large Data<br>1256.893<br>Thu, Jan 03 (Q1)",
          "Large Data<br>1119.815<br>Fri, Jan 04 (Q1)",
          "Large Data<br>854.418<br>Sat, Jan 05 (Q1)",
          "Large Data<br>1387.668<br>Sun, Jan 06 (Q1)",
          "Large Data<br>1159.449<br>Mon, Jan 07 (Q1)",
          "Large Data<br>411.16<br>Tue, Jan 08 (Q1)",
          "Large Data<br>1072.744<br>Wed, Jan 09 (Q1)",
          "Large Data<br>778.24<br>Thu, Jan 10 (Q1)",
          "Large Data<br>942.107<br>Fri, Jan 11 (Q1)",
          "Large Data<br>1148.721<br>Sat, Jan 12 (Q1)",
          "Large Data<br>1074.229<br>Sun, Jan 13 (Q1)",
          "Large Data<br>958.614<br>Mon, Jan 14 (Q1)",
          "Large Data<br>469.93<br>Tue, Jan 15 (Q1)",
          "Large Data<br>1098.185<br>Wed, Jan 16 (Q1)",
          "Large Data<br>659.358<br>Thu, Jan 17 (Q1)",
          "Large Data<br>872.348<br>Fri, Jan 18 (Q1)",
          "Large Data<br>962.087<br>Sat, Jan 19 (Q1)",
          "Large Data<br>923.092<br>Sun, Jan 20 (Q1)",
          "Large Data<br>688.291<br>Mon, Jan 21 (Q1)",
          "Large Data<br>830.356<br>Tue, Jan 22 (Q1)",
          "Large Data<br>1115.392<br>Wed, Jan 23 (Q1)",
          "Large Data<br>1389.638<br>Thu, Jan 24 (Q1)",
          "Large Data<br>727.424<br>Fri, Jan 25 (Q1)",
          "Large Data<br>598.344<br>Sat, Jan 26 (Q1)",
          "Large Data<br>957.585<br>Sun, Jan 27 (Q1)",
          "Large Data<br>1142.28<br>Mon, Jan 28 (Q1)",
          "Large Data<br>640.177<br>Tue, Jan 29 (Q1)",
          "Large Data<br>1343.352<br>Wed, Jan 30 (Q1)",
          "Large Data<br>1096.742<br>Thu, Jan 31 (Q1)",
          "Large Data<br>1195.7<br>Fri, Feb 01 (Q1)",
          "Large Data<br>866.373<br>Sat, Feb 02 (Q1)",
          "Large Data<br>1148.129<br>Sun, Feb 03 (Q1)",
          "Large Data<br>1028.205<br>Mon, Feb 04 (Q1)",
          "Large Data<br>901.735<br>Tue, Feb 05 (Q1)",
          "Large Data<br>1301.245<br>Wed, Feb 06 (Q1)",
          "Large Data<br>1099.913<br>Thu, Feb 07 (Q1)",
          "Large Data<br>1200.523<br>Fri, Feb 08 (Q1)",
          "Large Data<br>1040.495<br>Sat, Feb 09 (Q1)",
          "Large Data<br>907.947<br>Sun, Feb 10 (Q1)",
          "Large Data<br>493.479<br>Mon, Feb 11 (Q1)",
          "Large Data<br>787.156<br>Tue, Feb 12 (Q1)",
          "Large Data<br>662.264<br>Wed, Feb 13 (Q1)",
          "Large Data<br>663.961<br>Thu, Feb 14 (Q1)",
          "Large Data<br>911.783<br>Fri, Feb 15 (Q1)",
          "Large Data<br>978.45<br>Sat, Feb 16 (Q1)",
          "Large Data<br>1603.067<br>Sun, Feb 17 (Q1)",
          "Large Data<br>1315.668<br>Mon, Feb 18 (Q1)",
          "Large Data<br>835.108<br>Tue, Feb 19 (Q1)",
          "Large Data<br>911.341<br>Wed, Feb 20 (Q1)",
          "Large Data<br>1775.28<br>Thu, Feb 21 (Q1)",
          "Large Data<br>1557.771<br>Fri, Feb 22 (Q1)",
          "Large Data<br>912.247<br>Sat, Feb 23 (Q1)",
          "Large Data<br>1586.733<br>Sun, Feb 24 (Q1)",
          "Large Data<br>858.311<br>Mon, Feb 25 (Q1)",
          "Large Data<br>776.102<br>Tue, Feb 26 (Q1)",
          "Large Data<br>1120.865<br>Wed, Feb 27 (Q1)",
          "Large Data<br>1431.773<br>Thu, Feb 28 (Q1)",
          "Large Data<br>988.458<br>Fri, Mar 01 (Q1)",
          "Large Data<br>1119.05<br>Sat, Mar 02 (Q1)",
          "Large Data<br>1087.587<br>Sun, Mar 03 (Q1)",
          "Large Data<br>1130.093<br>Mon, Mar 04 (Q1)",
          "Large Data<br>1007.552<br>Tue, Mar 05 (Q1)",
          "Large Data<br>1532.781<br>Wed, Mar 06 (Q1)",
          "Large Data<br>555.764<br>Thu, Mar 07 (Q1)",
          "Large Data<br>662.849<br>Fri, Mar 08 (Q1)",
          "Large Data<br>1116.399<br>Sat, Mar 09 (Q1)",
          "Large Data<br>859.745<br>Sun, Mar 10 (Q1)",
          "Large Data<br>807.721<br>Mon, Mar 11 (Q1)",
          "Large Data<br>506.207<br>Tue, Mar 12 (Q1)",
          "Large Data<br>764.588<br>Wed, Mar 13 (Q1)",
          "Large Data<br>801.994<br>Thu, Mar 14 (Q1)",
          "Large Data<br>1178.715<br>Fri, Mar 15 (Q1)",
          "Large Data<br>1134.471<br>Sat, Mar 16 (Q1)",
          "Large Data<br>730.423<br>Sun, Mar 17 (Q1)",
          "Large Data<br>954.349<br>Mon, Mar 18 (Q1)",
          "Large Data<br>1112.566<br>Tue, Mar 19 (Q1)",
          "Large Data<br>787.545<br>Wed, Mar 20 (Q1)",
          "Large Data<br>939.918<br>Thu, Mar 21 (Q1)",
          "Large Data<br>674.26<br>Fri, Mar 22 (Q1)",
          "Large Data<br>1399.94<br>Sat, Mar 23 (Q1)",
          "Large Data<br>1267.995<br>Sun, Mar 24 (Q1)",
          "Large Data<br>861.821<br>Mon, Mar 25 (Q1)",
          "Large Data<br>1175.318<br>Tue, Mar 26 (Q1)",
          "Large Data<br>735.555<br>Wed, Mar 27 (Q1)",
          "Large Data<br>522.36<br>Thu, Mar 28 (Q1)",
          "Large Data<br>849.306<br>Fri, Mar 29 (Q1)",
          "Large Data<br>797.177<br>Sat, Mar 30 (Q1)",
          "Large Data<br>945.123<br>Sun, Mar 31 (Q1)",
          "Large Data<br>801.716<br>Mon, Apr 01 (Q2)",
          "Large Data<br>1033.474<br>Tue, Apr 02 (Q2)",
          "Large Data<br>891.121<br>Wed, Apr 03 (Q2)",
          "Large Data<br>757.377<br>Thu, Apr 04 (Q2)",
          "Large Data<br>865.699<br>Fri, Apr 05 (Q2)",
          "Large Data<br>820.906<br>Sat, Apr 06 (Q2)",
          "Large Data<br>1413.502<br>Sun, Apr 07 (Q2)",
          "Large Data<br>1043.071<br>Mon, Apr 08 (Q2)",
          "Large Data<br>721.448<br>Tue, Apr 09 (Q2)",
          "Large Data<br>516.462<br>Wed, Apr 10 (Q2)",
          "Large Data<br>1115.486<br>Thu, Apr 11 (Q2)"
         ],
         "type": "scatter",
         "uid": "3ce66a02-b206-44cc-b15c-1e699454798a",
         "x": [
          "2019-01-01",
          "2019-01-02",
          "2019-01-03",
          "2019-01-04",
          "2019-01-05",
          "2019-01-06",
          "2019-01-07",
          "2019-01-08",
          "2019-01-09",
          "2019-01-10",
          "2019-01-11",
          "2019-01-12",
          "2019-01-13",
          "2019-01-14",
          "2019-01-15",
          "2019-01-16",
          "2019-01-17",
          "2019-01-18",
          "2019-01-19",
          "2019-01-20",
          "2019-01-21",
          "2019-01-22",
          "2019-01-23",
          "2019-01-24",
          "2019-01-25",
          "2019-01-26",
          "2019-01-27",
          "2019-01-28",
          "2019-01-29",
          "2019-01-30",
          "2019-01-31",
          "2019-02-01",
          "2019-02-02",
          "2019-02-03",
          "2019-02-04",
          "2019-02-05",
          "2019-02-06",
          "2019-02-07",
          "2019-02-08",
          "2019-02-09",
          "2019-02-10",
          "2019-02-11",
          "2019-02-12",
          "2019-02-13",
          "2019-02-14",
          "2019-02-15",
          "2019-02-16",
          "2019-02-17",
          "2019-02-18",
          "2019-02-19",
          "2019-02-20",
          "2019-02-21",
          "2019-02-22",
          "2019-02-23",
          "2019-02-24",
          "2019-02-25",
          "2019-02-26",
          "2019-02-27",
          "2019-02-28",
          "2019-03-01",
          "2019-03-02",
          "2019-03-03",
          "2019-03-04",
          "2019-03-05",
          "2019-03-06",
          "2019-03-07",
          "2019-03-08",
          "2019-03-09",
          "2019-03-10",
          "2019-03-11",
          "2019-03-12",
          "2019-03-13",
          "2019-03-14",
          "2019-03-15",
          "2019-03-16",
          "2019-03-17",
          "2019-03-18",
          "2019-03-19",
          "2019-03-20",
          "2019-03-21",
          "2019-03-22",
          "2019-03-23",
          "2019-03-24",
          "2019-03-25",
          "2019-03-26",
          "2019-03-27",
          "2019-03-28",
          "2019-03-29",
          "2019-03-30",
          "2019-03-31",
          "2019-04-01",
          "2019-04-02",
          "2019-04-03",
          "2019-04-04",
          "2019-04-05",
          "2019-04-06",
          "2019-04-07",
          "2019-04-08",
          "2019-04-09",
          "2019-04-10",
          "2019-04-11"
         ],
         "y": [
          1117.333763490158,
          822.9752384941003,
          1256.8928329990952,
          1119.8152256409246,
          854.4182828346645,
          1387.668406488907,
          1159.4488298445895,
          411.1604449965672,
          1072.743633965033,
          778.2396207777863,
          942.1073562607635,
          1148.7205119210876,
          1074.2285503474511,
          958.6139725643802,
          469.9298296211265,
          1098.1854085879866,
          659.3576051948233,
          872.347672037852,
          962.0869197242401,
          923.0918098038737,
          688.2913093436803,
          830.3558010178955,
          1115.3916979390558,
          1389.6383833206792,
          727.4240962384321,
          598.344081365676,
          957.584863320467,
          1142.2802115047846,
          640.1770900390788,
          1343.3523823644616,
          1096.7424383337257,
          1195.7002520102124,
          866.3730101021617,
          1148.1290348472237,
          1028.2052096468374,
          901.7347567964874,
          1301.2445854409495,
          1099.9129070725603,
          1200.5225343525294,
          1040.495236785262,
          907.946714208665,
          493.47886761574443,
          787.1561019461863,
          662.2641601859922,
          663.961054401737,
          911.7831057145809,
          978.4497433820935,
          1603.0666143620624,
          1315.6677015497376,
          835.1083857477977,
          911.3412987019942,
          1775.2802908110607,
          1557.770692529372,
          912.2466411692011,
          1586.732841943314,
          858.310800383497,
          776.102040181031,
          1120.8650824210229,
          1431.7727946337839,
          988.4583212168365,
          1119.050038564176,
          1087.5866219485017,
          1130.0932558674915,
          1007.552063374147,
          1532.7813303219823,
          555.7637696245878,
          662.849349022963,
          1116.3992399229057,
          859.7453929436055,
          807.7205474864379,
          506.2073545375376,
          764.5877780499023,
          801.9941162558263,
          1178.7148413208213,
          1134.4706733787527,
          730.4232845266149,
          954.3486672919165,
          1112.5661093011406,
          787.545471521851,
          939.9176407287607,
          674.2597144257056,
          1399.940221661623,
          1267.9951587623334,
          861.8206796307018,
          1175.3184679712735,
          735.5551451358247,
          522.3598616554542,
          849.3060189996354,
          797.1769666731885,
          945.1234649608002,
          801.7162488286936,
          1033.4744790991642,
          891.12077339287,
          757.3771777211305,
          865.6987882706388,
          820.9058485870225,
          1413.5018227441014,
          1043.070695554149,
          721.4475288275348,
          516.4618999875272,
          1115.4859630879178
         ]
        }
       ],
       "layout": {
        "hovermode": "x",
        "plot_bgcolor": "rgb(229, 229, 229)",
        "title": "<b>Random Data</b>",
        "xaxis": {
         "gridcolor": "rgb(255,255,255)",
         "tickangle": 30,
         "title": "",
         "zerolinecolor": "rgb(255,255,255)"
        },
        "yaxis": {
         "gridcolor": "rgb(255,255,255)",
         "title": "Random Values",
         "zerolinecolor": "rgb(255,255,255)"
        }
       }
      },
      "text/html": [
       "<div id=\"ac414253-e50a-46cb-9a3e-7fd29543e38f\" style=\"height: 525px; width: 100%;\" class=\"plotly-graph-div\"></div><script type=\"text/javascript\">require([\"plotly\"], function(Plotly) { window.PLOTLYENV=window.PLOTLYENV || {};window.PLOTLYENV.BASE_URL=\"https://plot.ly\";Plotly.newPlot(\"ac414253-e50a-46cb-9a3e-7fd29543e38f\", [{\"hoverinfo\": \"text\", \"marker\": {\"color\": \"#232C65\"}, \"mode\": \"lines\", \"name\": \"smalldata\", \"text\": [\"Small Data<br>69.659<br>Tue, Jan 01 (Q1)\", \"Small Data<br>97.495<br>Wed, Jan 02 (Q1)\", \"Small Data<br>91.988<br>Thu, Jan 03 (Q1)\", \"Small Data<br>85.545<br>Fri, Jan 04 (Q1)\", \"Small Data<br>98.213<br>Sat, Jan 05 (Q1)\", \"Small Data<br>101.646<br>Sun, Jan 06 (Q1)\", \"Small Data<br>99.903<br>Mon, Jan 07 (Q1)\", \"Small Data<br>87.759<br>Tue, Jan 08 (Q1)\", \"Small Data<br>91.503<br>Wed, Jan 09 (Q1)\", \"Small Data<br>114.944<br>Thu, Jan 10 (Q1)\", \"Small Data<br>64.664<br>Fri, Jan 11 (Q1)\", \"Small Data<br>94.037<br>Sat, Jan 12 (Q1)\", \"Small Data<br>78.296<br>Sun, Jan 13 (Q1)\", \"Small Data<br>83.108<br>Mon, Jan 14 (Q1)\", \"Small Data<br>136.732<br>Tue, Jan 15 (Q1)\", \"Small Data<br>92.009<br>Wed, Jan 16 (Q1)\", \"Small Data<br>100.681<br>Thu, Jan 17 (Q1)\", \"Small Data<br>62.371<br>Fri, Jan 18 (Q1)\", \"Small Data<br>97.215<br>Sat, Jan 19 (Q1)\", \"Small Data<br>137.07<br>Sun, Jan 20 (Q1)\", \"Small Data<br>129.64<br>Mon, Jan 21 (Q1)\", \"Small Data<br>137.901<br>Tue, Jan 22 (Q1)\", \"Small Data<br>67.85<br>Wed, Jan 23 (Q1)\", \"Small Data<br>99.494<br>Thu, Jan 24 (Q1)\", \"Small Data<br>105.216<br>Fri, Jan 25 (Q1)\", \"Small Data<br>123.519<br>Sat, Jan 26 (Q1)\", \"Small Data<br>42.236<br>Sun, Jan 27 (Q1)\", \"Small Data<br>76.638<br>Mon, Jan 28 (Q1)\", \"Small Data<br>101.815<br>Tue, Jan 29 (Q1)\", \"Small Data<br>80.864<br>Wed, Jan 30 (Q1)\", \"Small Data<br>118.147<br>Thu, Jan 31 (Q1)\", \"Small Data<br>103.704<br>Fri, Feb 01 (Q1)\", \"Small Data<br>117.035<br>Sat, Feb 02 (Q1)\", \"Small Data<br>121.991<br>Sun, Feb 03 (Q1)\", \"Small Data<br>87.065<br>Mon, Feb 04 (Q1)\", \"Small Data<br>69.033<br>Tue, Feb 05 (Q1)\", \"Small Data<br>69.661<br>Wed, Feb 06 (Q1)\", \"Small Data<br>125.892<br>Thu, Feb 07 (Q1)\", \"Small Data<br>127.786<br>Fri, Feb 08 (Q1)\", \"Small Data<br>123.458<br>Sat, Feb 09 (Q1)\", \"Small Data<br>125.812<br>Sun, Feb 10 (Q1)\", \"Small Data<br>71.368<br>Mon, Feb 11 (Q1)\", \"Small Data<br>91.549<br>Tue, Feb 12 (Q1)\", \"Small Data<br>46.386<br>Wed, Feb 13 (Q1)\", \"Small Data<br>93.837<br>Thu, Feb 14 (Q1)\", \"Small Data<br>120.785<br>Fri, Feb 15 (Q1)\", \"Small Data<br>123.865<br>Sat, Feb 16 (Q1)\", \"Small Data<br>104.38<br>Sun, Feb 17 (Q1)\", \"Small Data<br>120.874<br>Mon, Feb 18 (Q1)\", \"Small Data<br>142.063<br>Tue, Feb 19 (Q1)\", \"Small Data<br>99.495<br>Wed, Feb 20 (Q1)\", \"Small Data<br>121.839<br>Thu, Feb 21 (Q1)\", \"Small Data<br>72.394<br>Fri, Feb 22 (Q1)\", \"Small Data<br>103.587<br>Sat, Feb 23 (Q1)\", \"Small Data<br>99.875<br>Sun, Feb 24 (Q1)\", \"Small Data<br>109.5<br>Mon, Feb 25 (Q1)\", \"Small Data<br>118.346<br>Tue, Feb 26 (Q1)\", \"Small Data<br>90.76<br>Wed, Feb 27 (Q1)\", \"Small Data<br>118.029<br>Thu, Feb 28 (Q1)\", \"Small Data<br>81.924<br>Fri, Mar 01 (Q1)\", \"Small Data<br>118.173<br>Sat, Mar 02 (Q1)\", \"Small Data<br>111.285<br>Sun, Mar 03 (Q1)\", \"Small Data<br>133.54<br>Mon, Mar 04 (Q1)\", \"Small Data<br>146.465<br>Tue, Mar 05 (Q1)\", \"Small Data<br>122.546<br>Wed, Mar 06 (Q1)\", \"Small Data<br>116.684<br>Thu, Mar 07 (Q1)\", \"Small Data<br>110.871<br>Fri, Mar 08 (Q1)\", \"Small Data<br>120.405<br>Sat, Mar 09 (Q1)\", \"Small Data<br>74.623<br>Sun, Mar 10 (Q1)\", \"Small Data<br>69.172<br>Mon, Mar 11 (Q1)\", \"Small Data<br>54.872<br>Tue, Mar 12 (Q1)\", \"Small Data<br>91.411<br>Wed, Mar 13 (Q1)\", \"Small Data<br>142.719<br>Thu, Mar 14 (Q1)\", \"Small Data<br>145.79<br>Fri, Mar 15 (Q1)\", \"Small Data<br>90.432<br>Sat, Mar 16 (Q1)\", \"Small Data<br>82.536<br>Sun, Mar 17 (Q1)\", \"Small Data<br>106.406<br>Mon, Mar 18 (Q1)\", \"Small Data<br>110.369<br>Tue, Mar 19 (Q1)\", \"Small Data<br>55.784<br>Wed, Mar 20 (Q1)\", \"Small Data<br>74.207<br>Thu, Mar 21 (Q1)\", \"Small Data<br>90.458<br>Fri, Mar 22 (Q1)\", \"Small Data<br>171.785<br>Sat, Mar 23 (Q1)\", \"Small Data<br>83.804<br>Sun, Mar 24 (Q1)\", \"Small Data<br>125.692<br>Mon, Mar 25 (Q1)\", \"Small Data<br>125.76<br>Tue, Mar 26 (Q1)\", \"Small Data<br>168.754<br>Wed, Mar 27 (Q1)\", \"Small Data<br>153.941<br>Thu, Mar 28 (Q1)\", \"Small Data<br>89.641<br>Fri, Mar 29 (Q1)\", \"Small Data<br>110.084<br>Sat, Mar 30 (Q1)\", \"Small Data<br>102.311<br>Sun, Mar 31 (Q1)\", \"Small Data<br>113.392<br>Mon, Apr 01 (Q2)\", \"Small Data<br>61.088<br>Tue, Apr 02 (Q2)\", \"Small Data<br>93.811<br>Wed, Apr 03 (Q2)\", \"Small Data<br>98.354<br>Thu, Apr 04 (Q2)\", \"Small Data<br>48.078<br>Fri, Apr 05 (Q2)\", \"Small Data<br>86.995<br>Sat, Apr 06 (Q2)\", \"Small Data<br>104.973<br>Sun, Apr 07 (Q2)\", \"Small Data<br>82.697<br>Mon, Apr 08 (Q2)\", \"Small Data<br>93.828<br>Tue, Apr 09 (Q2)\", \"Small Data<br>124.412<br>Wed, Apr 10 (Q2)\", \"Small Data<br>102.254<br>Thu, Apr 11 (Q2)\"], \"x\": [\"2019-01-01\", \"2019-01-02\", \"2019-01-03\", \"2019-01-04\", \"2019-01-05\", \"2019-01-06\", \"2019-01-07\", \"2019-01-08\", \"2019-01-09\", \"2019-01-10\", \"2019-01-11\", \"2019-01-12\", \"2019-01-13\", \"2019-01-14\", \"2019-01-15\", \"2019-01-16\", \"2019-01-17\", \"2019-01-18\", \"2019-01-19\", \"2019-01-20\", \"2019-01-21\", \"2019-01-22\", \"2019-01-23\", \"2019-01-24\", \"2019-01-25\", \"2019-01-26\", \"2019-01-27\", \"2019-01-28\", \"2019-01-29\", \"2019-01-30\", \"2019-01-31\", \"2019-02-01\", \"2019-02-02\", \"2019-02-03\", \"2019-02-04\", \"2019-02-05\", \"2019-02-06\", \"2019-02-07\", \"2019-02-08\", \"2019-02-09\", \"2019-02-10\", \"2019-02-11\", \"2019-02-12\", \"2019-02-13\", \"2019-02-14\", \"2019-02-15\", \"2019-02-16\", \"2019-02-17\", \"2019-02-18\", \"2019-02-19\", \"2019-02-20\", \"2019-02-21\", \"2019-02-22\", \"2019-02-23\", \"2019-02-24\", \"2019-02-25\", \"2019-02-26\", \"2019-02-27\", \"2019-02-28\", \"2019-03-01\", \"2019-03-02\", \"2019-03-03\", \"2019-03-04\", \"2019-03-05\", \"2019-03-06\", \"2019-03-07\", \"2019-03-08\", \"2019-03-09\", \"2019-03-10\", \"2019-03-11\", \"2019-03-12\", \"2019-03-13\", \"2019-03-14\", \"2019-03-15\", \"2019-03-16\", \"2019-03-17\", \"2019-03-18\", \"2019-03-19\", \"2019-03-20\", \"2019-03-21\", \"2019-03-22\", \"2019-03-23\", \"2019-03-24\", \"2019-03-25\", \"2019-03-26\", \"2019-03-27\", \"2019-03-28\", \"2019-03-29\", \"2019-03-30\", \"2019-03-31\", \"2019-04-01\", \"2019-04-02\", \"2019-04-03\", \"2019-04-04\", \"2019-04-05\", \"2019-04-06\", \"2019-04-07\", \"2019-04-08\", \"2019-04-09\", \"2019-04-10\", \"2019-04-11\"], \"y\": [69.65889319259577, 97.49451323922985, 91.98766752008802, 85.54533763045222, 98.21340121395288, 101.64633232195521, 99.90341628249297, 87.75905235476185, 91.50272468880858, 114.94364090503535, 64.66437058853181, 94.03743969067443, 78.29571906038127, 83.10777498538661, 136.7316137604109, 92.00917753476054, 100.68108308614052, 62.37052489798372, 97.21491575737726, 137.06989954938672, 129.63958852221964, 137.90137827805233, 67.85000634543277, 99.49431294196182, 105.21559282003871, 123.5188906699162, 42.236133608818434, 76.63760819482133, 101.81500177094871, 80.8640546516859, 118.14673250570279, 103.70353709022592, 117.03507085920101, 121.99141002753322, 87.06548904198429, 69.03313082659494, 69.6607279613452, 125.89236506159149, 127.78599720406756, 123.45808334486549, 125.81214795583175, 71.36769398747666, 91.54887848325075, 46.3863845299478, 93.83741345965683, 120.78476046340309, 123.86452942831946, 104.38036432864054, 120.87409660760052, 142.0632560427834, 99.49542689755502, 121.8393353683042, 72.39404785240339, 103.58722775811349, 99.87450209145058, 109.49965189819537, 118.34606785101234, 90.7598682340448, 118.02916299104115, 81.92388704122088, 118.17279559451977, 111.28522564170048, 133.53985394467034, 146.465338111424, 122.54581300906656, 116.68398237920297, 110.87071441095335, 120.4045585646618, 74.62329377345336, 69.17236554415771, 54.87243028283557, 91.4105450034525, 142.71919589671742, 145.78983703765198, 90.43155558797604, 82.53645314281789, 106.40552987719441, 110.36897775660091, 55.78430983818624, 74.20684728416163, 90.45768380541831, 171.784942550582, 83.80385348524894, 125.6915374032636, 125.75991949937739, 168.75417929934486, 153.94109510262976, 89.64121609683349, 110.08442285264034, 102.31078872613716, 113.39200680235079, 61.08821543355183, 93.8107624300486, 98.35429796948976, 48.07834522325559, 86.99513658505268, 104.97254892081776, 82.69705269381747, 93.8276969501526, 124.41182174822242, 102.25357155907481], \"type\": \"scatter\", \"uid\": \"11e89ea4-d203-40e7-870e-289e47b61607\"}, {\"hoverinfo\": \"text\", \"marker\": {\"color\": \"#840032\"}, \"mode\": \"lines\", \"name\": \"largedata\", \"text\": [\"Large Data<br>1117.334<br>Tue, Jan 01 (Q1)\", \"Large Data<br>822.975<br>Wed, Jan 02 (Q1)\", \"Large Data<br>1256.893<br>Thu, Jan 03 (Q1)\", \"Large Data<br>1119.815<br>Fri, Jan 04 (Q1)\", \"Large Data<br>854.418<br>Sat, Jan 05 (Q1)\", \"Large Data<br>1387.668<br>Sun, Jan 06 (Q1)\", \"Large Data<br>1159.449<br>Mon, Jan 07 (Q1)\", \"Large Data<br>411.16<br>Tue, Jan 08 (Q1)\", \"Large Data<br>1072.744<br>Wed, Jan 09 (Q1)\", \"Large Data<br>778.24<br>Thu, Jan 10 (Q1)\", \"Large Data<br>942.107<br>Fri, Jan 11 (Q1)\", \"Large Data<br>1148.721<br>Sat, Jan 12 (Q1)\", \"Large Data<br>1074.229<br>Sun, Jan 13 (Q1)\", \"Large Data<br>958.614<br>Mon, Jan 14 (Q1)\", \"Large Data<br>469.93<br>Tue, Jan 15 (Q1)\", \"Large Data<br>1098.185<br>Wed, Jan 16 (Q1)\", \"Large Data<br>659.358<br>Thu, Jan 17 (Q1)\", \"Large Data<br>872.348<br>Fri, Jan 18 (Q1)\", \"Large Data<br>962.087<br>Sat, Jan 19 (Q1)\", \"Large Data<br>923.092<br>Sun, Jan 20 (Q1)\", \"Large Data<br>688.291<br>Mon, Jan 21 (Q1)\", \"Large Data<br>830.356<br>Tue, Jan 22 (Q1)\", \"Large Data<br>1115.392<br>Wed, Jan 23 (Q1)\", \"Large Data<br>1389.638<br>Thu, Jan 24 (Q1)\", \"Large Data<br>727.424<br>Fri, Jan 25 (Q1)\", \"Large Data<br>598.344<br>Sat, Jan 26 (Q1)\", \"Large Data<br>957.585<br>Sun, Jan 27 (Q1)\", \"Large Data<br>1142.28<br>Mon, Jan 28 (Q1)\", \"Large Data<br>640.177<br>Tue, Jan 29 (Q1)\", \"Large Data<br>1343.352<br>Wed, Jan 30 (Q1)\", \"Large Data<br>1096.742<br>Thu, Jan 31 (Q1)\", \"Large Data<br>1195.7<br>Fri, Feb 01 (Q1)\", \"Large Data<br>866.373<br>Sat, Feb 02 (Q1)\", \"Large Data<br>1148.129<br>Sun, Feb 03 (Q1)\", \"Large Data<br>1028.205<br>Mon, Feb 04 (Q1)\", \"Large Data<br>901.735<br>Tue, Feb 05 (Q1)\", \"Large Data<br>1301.245<br>Wed, Feb 06 (Q1)\", \"Large Data<br>1099.913<br>Thu, Feb 07 (Q1)\", \"Large Data<br>1200.523<br>Fri, Feb 08 (Q1)\", \"Large Data<br>1040.495<br>Sat, Feb 09 (Q1)\", \"Large Data<br>907.947<br>Sun, Feb 10 (Q1)\", \"Large Data<br>493.479<br>Mon, Feb 11 (Q1)\", \"Large Data<br>787.156<br>Tue, Feb 12 (Q1)\", \"Large Data<br>662.264<br>Wed, Feb 13 (Q1)\", \"Large Data<br>663.961<br>Thu, Feb 14 (Q1)\", \"Large Data<br>911.783<br>Fri, Feb 15 (Q1)\", \"Large Data<br>978.45<br>Sat, Feb 16 (Q1)\", \"Large Data<br>1603.067<br>Sun, Feb 17 (Q1)\", \"Large Data<br>1315.668<br>Mon, Feb 18 (Q1)\", \"Large Data<br>835.108<br>Tue, Feb 19 (Q1)\", \"Large Data<br>911.341<br>Wed, Feb 20 (Q1)\", \"Large Data<br>1775.28<br>Thu, Feb 21 (Q1)\", \"Large Data<br>1557.771<br>Fri, Feb 22 (Q1)\", \"Large Data<br>912.247<br>Sat, Feb 23 (Q1)\", \"Large Data<br>1586.733<br>Sun, Feb 24 (Q1)\", \"Large Data<br>858.311<br>Mon, Feb 25 (Q1)\", \"Large Data<br>776.102<br>Tue, Feb 26 (Q1)\", \"Large Data<br>1120.865<br>Wed, Feb 27 (Q1)\", \"Large Data<br>1431.773<br>Thu, Feb 28 (Q1)\", \"Large Data<br>988.458<br>Fri, Mar 01 (Q1)\", \"Large Data<br>1119.05<br>Sat, Mar 02 (Q1)\", \"Large Data<br>1087.587<br>Sun, Mar 03 (Q1)\", \"Large Data<br>1130.093<br>Mon, Mar 04 (Q1)\", \"Large Data<br>1007.552<br>Tue, Mar 05 (Q1)\", \"Large Data<br>1532.781<br>Wed, Mar 06 (Q1)\", \"Large Data<br>555.764<br>Thu, Mar 07 (Q1)\", \"Large Data<br>662.849<br>Fri, Mar 08 (Q1)\", \"Large Data<br>1116.399<br>Sat, Mar 09 (Q1)\", \"Large Data<br>859.745<br>Sun, Mar 10 (Q1)\", \"Large Data<br>807.721<br>Mon, Mar 11 (Q1)\", \"Large Data<br>506.207<br>Tue, Mar 12 (Q1)\", \"Large Data<br>764.588<br>Wed, Mar 13 (Q1)\", \"Large Data<br>801.994<br>Thu, Mar 14 (Q1)\", \"Large Data<br>1178.715<br>Fri, Mar 15 (Q1)\", \"Large Data<br>1134.471<br>Sat, Mar 16 (Q1)\", \"Large Data<br>730.423<br>Sun, Mar 17 (Q1)\", \"Large Data<br>954.349<br>Mon, Mar 18 (Q1)\", \"Large Data<br>1112.566<br>Tue, Mar 19 (Q1)\", \"Large Data<br>787.545<br>Wed, Mar 20 (Q1)\", \"Large Data<br>939.918<br>Thu, Mar 21 (Q1)\", \"Large Data<br>674.26<br>Fri, Mar 22 (Q1)\", \"Large Data<br>1399.94<br>Sat, Mar 23 (Q1)\", \"Large Data<br>1267.995<br>Sun, Mar 24 (Q1)\", \"Large Data<br>861.821<br>Mon, Mar 25 (Q1)\", \"Large Data<br>1175.318<br>Tue, Mar 26 (Q1)\", \"Large Data<br>735.555<br>Wed, Mar 27 (Q1)\", \"Large Data<br>522.36<br>Thu, Mar 28 (Q1)\", \"Large Data<br>849.306<br>Fri, Mar 29 (Q1)\", \"Large Data<br>797.177<br>Sat, Mar 30 (Q1)\", \"Large Data<br>945.123<br>Sun, Mar 31 (Q1)\", \"Large Data<br>801.716<br>Mon, Apr 01 (Q2)\", \"Large Data<br>1033.474<br>Tue, Apr 02 (Q2)\", \"Large Data<br>891.121<br>Wed, Apr 03 (Q2)\", \"Large Data<br>757.377<br>Thu, Apr 04 (Q2)\", \"Large Data<br>865.699<br>Fri, Apr 05 (Q2)\", \"Large Data<br>820.906<br>Sat, Apr 06 (Q2)\", \"Large Data<br>1413.502<br>Sun, Apr 07 (Q2)\", \"Large Data<br>1043.071<br>Mon, Apr 08 (Q2)\", \"Large Data<br>721.448<br>Tue, Apr 09 (Q2)\", \"Large Data<br>516.462<br>Wed, Apr 10 (Q2)\", \"Large Data<br>1115.486<br>Thu, Apr 11 (Q2)\"], \"x\": [\"2019-01-01\", \"2019-01-02\", \"2019-01-03\", \"2019-01-04\", \"2019-01-05\", \"2019-01-06\", \"2019-01-07\", \"2019-01-08\", \"2019-01-09\", \"2019-01-10\", \"2019-01-11\", \"2019-01-12\", \"2019-01-13\", \"2019-01-14\", \"2019-01-15\", \"2019-01-16\", \"2019-01-17\", \"2019-01-18\", \"2019-01-19\", \"2019-01-20\", \"2019-01-21\", \"2019-01-22\", \"2019-01-23\", \"2019-01-24\", \"2019-01-25\", \"2019-01-26\", \"2019-01-27\", \"2019-01-28\", \"2019-01-29\", \"2019-01-30\", \"2019-01-31\", \"2019-02-01\", \"2019-02-02\", \"2019-02-03\", \"2019-02-04\", \"2019-02-05\", \"2019-02-06\", \"2019-02-07\", \"2019-02-08\", \"2019-02-09\", \"2019-02-10\", \"2019-02-11\", \"2019-02-12\", \"2019-02-13\", \"2019-02-14\", \"2019-02-15\", \"2019-02-16\", \"2019-02-17\", \"2019-02-18\", \"2019-02-19\", \"2019-02-20\", \"2019-02-21\", \"2019-02-22\", \"2019-02-23\", \"2019-02-24\", \"2019-02-25\", \"2019-02-26\", \"2019-02-27\", \"2019-02-28\", \"2019-03-01\", \"2019-03-02\", \"2019-03-03\", \"2019-03-04\", \"2019-03-05\", \"2019-03-06\", \"2019-03-07\", \"2019-03-08\", \"2019-03-09\", \"2019-03-10\", \"2019-03-11\", \"2019-03-12\", \"2019-03-13\", \"2019-03-14\", \"2019-03-15\", \"2019-03-16\", \"2019-03-17\", \"2019-03-18\", \"2019-03-19\", \"2019-03-20\", \"2019-03-21\", \"2019-03-22\", \"2019-03-23\", \"2019-03-24\", \"2019-03-25\", \"2019-03-26\", \"2019-03-27\", \"2019-03-28\", \"2019-03-29\", \"2019-03-30\", \"2019-03-31\", \"2019-04-01\", \"2019-04-02\", \"2019-04-03\", \"2019-04-04\", \"2019-04-05\", \"2019-04-06\", \"2019-04-07\", \"2019-04-08\", \"2019-04-09\", \"2019-04-10\", \"2019-04-11\"], \"y\": [1117.333763490158, 822.9752384941003, 1256.8928329990952, 1119.8152256409246, 854.4182828346645, 1387.668406488907, 1159.4488298445895, 411.1604449965672, 1072.743633965033, 778.2396207777863, 942.1073562607635, 1148.7205119210876, 1074.2285503474511, 958.6139725643802, 469.9298296211265, 1098.1854085879866, 659.3576051948233, 872.347672037852, 962.0869197242401, 923.0918098038737, 688.2913093436803, 830.3558010178955, 1115.3916979390558, 1389.6383833206792, 727.4240962384321, 598.344081365676, 957.584863320467, 1142.2802115047846, 640.1770900390788, 1343.3523823644616, 1096.7424383337257, 1195.7002520102124, 866.3730101021617, 1148.1290348472237, 1028.2052096468374, 901.7347567964874, 1301.2445854409495, 1099.9129070725603, 1200.5225343525294, 1040.495236785262, 907.946714208665, 493.47886761574443, 787.1561019461863, 662.2641601859922, 663.961054401737, 911.7831057145809, 978.4497433820935, 1603.0666143620624, 1315.6677015497376, 835.1083857477977, 911.3412987019942, 1775.2802908110607, 1557.770692529372, 912.2466411692011, 1586.732841943314, 858.310800383497, 776.102040181031, 1120.8650824210229, 1431.7727946337839, 988.4583212168365, 1119.050038564176, 1087.5866219485017, 1130.0932558674915, 1007.552063374147, 1532.7813303219823, 555.7637696245878, 662.849349022963, 1116.3992399229057, 859.7453929436055, 807.7205474864379, 506.2073545375376, 764.5877780499023, 801.9941162558263, 1178.7148413208213, 1134.4706733787527, 730.4232845266149, 954.3486672919165, 1112.5661093011406, 787.545471521851, 939.9176407287607, 674.2597144257056, 1399.940221661623, 1267.9951587623334, 861.8206796307018, 1175.3184679712735, 735.5551451358247, 522.3598616554542, 849.3060189996354, 797.1769666731885, 945.1234649608002, 801.7162488286936, 1033.4744790991642, 891.12077339287, 757.3771777211305, 865.6987882706388, 820.9058485870225, 1413.5018227441014, 1043.070695554149, 721.4475288275348, 516.4618999875272, 1115.4859630879178], \"type\": \"scatter\", \"uid\": \"3ce66a02-b206-44cc-b15c-1e699454798a\"}], {\"hovermode\": \"x\", \"plot_bgcolor\": \"rgb(229, 229, 229)\", \"title\": \"<b>Random Data</b>\", \"xaxis\": {\"gridcolor\": \"rgb(255,255,255)\", \"tickangle\": 30, \"title\": \"\", \"zerolinecolor\": \"rgb(255,255,255)\"}, \"yaxis\": {\"gridcolor\": \"rgb(255,255,255)\", \"title\": \"Random Values\", \"zerolinecolor\": \"rgb(255,255,255)\"}}, {\"showLink\": true, \"linkText\": \"Export to plot.ly\", \"plotlyServerURL\": \"https://plot.ly\"})});</script><script type=\"text/javascript\">window.addEventListener(\"resize\", function(){window._Plotly.Plots.resize(document.getElementById(\"ac414253-e50a-46cb-9a3e-7fd29543e38f\"));});</script>"
      ],
      "text/vnd.plotly.v1+html": [
       "<div id=\"ac414253-e50a-46cb-9a3e-7fd29543e38f\" style=\"height: 525px; width: 100%;\" class=\"plotly-graph-div\"></div><script type=\"text/javascript\">require([\"plotly\"], function(Plotly) { window.PLOTLYENV=window.PLOTLYENV || {};window.PLOTLYENV.BASE_URL=\"https://plot.ly\";Plotly.newPlot(\"ac414253-e50a-46cb-9a3e-7fd29543e38f\", [{\"hoverinfo\": \"text\", \"marker\": {\"color\": \"#232C65\"}, \"mode\": \"lines\", \"name\": \"smalldata\", \"text\": [\"Small Data<br>69.659<br>Tue, Jan 01 (Q1)\", \"Small Data<br>97.495<br>Wed, Jan 02 (Q1)\", \"Small Data<br>91.988<br>Thu, Jan 03 (Q1)\", \"Small Data<br>85.545<br>Fri, Jan 04 (Q1)\", \"Small Data<br>98.213<br>Sat, Jan 05 (Q1)\", \"Small Data<br>101.646<br>Sun, Jan 06 (Q1)\", \"Small Data<br>99.903<br>Mon, Jan 07 (Q1)\", \"Small Data<br>87.759<br>Tue, Jan 08 (Q1)\", \"Small Data<br>91.503<br>Wed, Jan 09 (Q1)\", \"Small Data<br>114.944<br>Thu, Jan 10 (Q1)\", \"Small Data<br>64.664<br>Fri, Jan 11 (Q1)\", \"Small Data<br>94.037<br>Sat, Jan 12 (Q1)\", \"Small Data<br>78.296<br>Sun, Jan 13 (Q1)\", \"Small Data<br>83.108<br>Mon, Jan 14 (Q1)\", \"Small Data<br>136.732<br>Tue, Jan 15 (Q1)\", \"Small Data<br>92.009<br>Wed, Jan 16 (Q1)\", \"Small Data<br>100.681<br>Thu, Jan 17 (Q1)\", \"Small Data<br>62.371<br>Fri, Jan 18 (Q1)\", \"Small Data<br>97.215<br>Sat, Jan 19 (Q1)\", \"Small Data<br>137.07<br>Sun, Jan 20 (Q1)\", \"Small Data<br>129.64<br>Mon, Jan 21 (Q1)\", \"Small Data<br>137.901<br>Tue, Jan 22 (Q1)\", \"Small Data<br>67.85<br>Wed, Jan 23 (Q1)\", \"Small Data<br>99.494<br>Thu, Jan 24 (Q1)\", \"Small Data<br>105.216<br>Fri, Jan 25 (Q1)\", \"Small Data<br>123.519<br>Sat, Jan 26 (Q1)\", \"Small Data<br>42.236<br>Sun, Jan 27 (Q1)\", \"Small Data<br>76.638<br>Mon, Jan 28 (Q1)\", \"Small Data<br>101.815<br>Tue, Jan 29 (Q1)\", \"Small Data<br>80.864<br>Wed, Jan 30 (Q1)\", \"Small Data<br>118.147<br>Thu, Jan 31 (Q1)\", \"Small Data<br>103.704<br>Fri, Feb 01 (Q1)\", \"Small Data<br>117.035<br>Sat, Feb 02 (Q1)\", \"Small Data<br>121.991<br>Sun, Feb 03 (Q1)\", \"Small Data<br>87.065<br>Mon, Feb 04 (Q1)\", \"Small Data<br>69.033<br>Tue, Feb 05 (Q1)\", \"Small Data<br>69.661<br>Wed, Feb 06 (Q1)\", \"Small Data<br>125.892<br>Thu, Feb 07 (Q1)\", \"Small Data<br>127.786<br>Fri, Feb 08 (Q1)\", \"Small Data<br>123.458<br>Sat, Feb 09 (Q1)\", \"Small Data<br>125.812<br>Sun, Feb 10 (Q1)\", \"Small Data<br>71.368<br>Mon, Feb 11 (Q1)\", \"Small Data<br>91.549<br>Tue, Feb 12 (Q1)\", \"Small Data<br>46.386<br>Wed, Feb 13 (Q1)\", \"Small Data<br>93.837<br>Thu, Feb 14 (Q1)\", \"Small Data<br>120.785<br>Fri, Feb 15 (Q1)\", \"Small Data<br>123.865<br>Sat, Feb 16 (Q1)\", \"Small Data<br>104.38<br>Sun, Feb 17 (Q1)\", \"Small Data<br>120.874<br>Mon, Feb 18 (Q1)\", \"Small Data<br>142.063<br>Tue, Feb 19 (Q1)\", \"Small Data<br>99.495<br>Wed, Feb 20 (Q1)\", \"Small Data<br>121.839<br>Thu, Feb 21 (Q1)\", \"Small Data<br>72.394<br>Fri, Feb 22 (Q1)\", \"Small Data<br>103.587<br>Sat, Feb 23 (Q1)\", \"Small Data<br>99.875<br>Sun, Feb 24 (Q1)\", \"Small Data<br>109.5<br>Mon, Feb 25 (Q1)\", \"Small Data<br>118.346<br>Tue, Feb 26 (Q1)\", \"Small Data<br>90.76<br>Wed, Feb 27 (Q1)\", \"Small Data<br>118.029<br>Thu, Feb 28 (Q1)\", \"Small Data<br>81.924<br>Fri, Mar 01 (Q1)\", \"Small Data<br>118.173<br>Sat, Mar 02 (Q1)\", \"Small Data<br>111.285<br>Sun, Mar 03 (Q1)\", \"Small Data<br>133.54<br>Mon, Mar 04 (Q1)\", \"Small Data<br>146.465<br>Tue, Mar 05 (Q1)\", \"Small Data<br>122.546<br>Wed, Mar 06 (Q1)\", \"Small Data<br>116.684<br>Thu, Mar 07 (Q1)\", \"Small Data<br>110.871<br>Fri, Mar 08 (Q1)\", \"Small Data<br>120.405<br>Sat, Mar 09 (Q1)\", \"Small Data<br>74.623<br>Sun, Mar 10 (Q1)\", \"Small Data<br>69.172<br>Mon, Mar 11 (Q1)\", \"Small Data<br>54.872<br>Tue, Mar 12 (Q1)\", \"Small Data<br>91.411<br>Wed, Mar 13 (Q1)\", \"Small Data<br>142.719<br>Thu, Mar 14 (Q1)\", \"Small Data<br>145.79<br>Fri, Mar 15 (Q1)\", \"Small Data<br>90.432<br>Sat, Mar 16 (Q1)\", \"Small Data<br>82.536<br>Sun, Mar 17 (Q1)\", \"Small Data<br>106.406<br>Mon, Mar 18 (Q1)\", \"Small Data<br>110.369<br>Tue, Mar 19 (Q1)\", \"Small Data<br>55.784<br>Wed, Mar 20 (Q1)\", \"Small Data<br>74.207<br>Thu, Mar 21 (Q1)\", \"Small Data<br>90.458<br>Fri, Mar 22 (Q1)\", \"Small Data<br>171.785<br>Sat, Mar 23 (Q1)\", \"Small Data<br>83.804<br>Sun, Mar 24 (Q1)\", \"Small Data<br>125.692<br>Mon, Mar 25 (Q1)\", \"Small Data<br>125.76<br>Tue, Mar 26 (Q1)\", \"Small Data<br>168.754<br>Wed, Mar 27 (Q1)\", \"Small Data<br>153.941<br>Thu, Mar 28 (Q1)\", \"Small Data<br>89.641<br>Fri, Mar 29 (Q1)\", \"Small Data<br>110.084<br>Sat, Mar 30 (Q1)\", \"Small Data<br>102.311<br>Sun, Mar 31 (Q1)\", \"Small Data<br>113.392<br>Mon, Apr 01 (Q2)\", \"Small Data<br>61.088<br>Tue, Apr 02 (Q2)\", \"Small Data<br>93.811<br>Wed, Apr 03 (Q2)\", \"Small Data<br>98.354<br>Thu, Apr 04 (Q2)\", \"Small Data<br>48.078<br>Fri, Apr 05 (Q2)\", \"Small Data<br>86.995<br>Sat, Apr 06 (Q2)\", \"Small Data<br>104.973<br>Sun, Apr 07 (Q2)\", \"Small Data<br>82.697<br>Mon, Apr 08 (Q2)\", \"Small Data<br>93.828<br>Tue, Apr 09 (Q2)\", \"Small Data<br>124.412<br>Wed, Apr 10 (Q2)\", \"Small Data<br>102.254<br>Thu, Apr 11 (Q2)\"], \"x\": [\"2019-01-01\", \"2019-01-02\", \"2019-01-03\", \"2019-01-04\", \"2019-01-05\", \"2019-01-06\", \"2019-01-07\", \"2019-01-08\", \"2019-01-09\", \"2019-01-10\", \"2019-01-11\", \"2019-01-12\", \"2019-01-13\", \"2019-01-14\", \"2019-01-15\", \"2019-01-16\", \"2019-01-17\", \"2019-01-18\", \"2019-01-19\", \"2019-01-20\", \"2019-01-21\", \"2019-01-22\", \"2019-01-23\", \"2019-01-24\", \"2019-01-25\", \"2019-01-26\", \"2019-01-27\", \"2019-01-28\", \"2019-01-29\", \"2019-01-30\", \"2019-01-31\", \"2019-02-01\", \"2019-02-02\", \"2019-02-03\", \"2019-02-04\", \"2019-02-05\", \"2019-02-06\", \"2019-02-07\", \"2019-02-08\", \"2019-02-09\", \"2019-02-10\", \"2019-02-11\", \"2019-02-12\", \"2019-02-13\", \"2019-02-14\", \"2019-02-15\", \"2019-02-16\", \"2019-02-17\", \"2019-02-18\", \"2019-02-19\", \"2019-02-20\", \"2019-02-21\", \"2019-02-22\", \"2019-02-23\", \"2019-02-24\", \"2019-02-25\", \"2019-02-26\", \"2019-02-27\", \"2019-02-28\", \"2019-03-01\", \"2019-03-02\", \"2019-03-03\", \"2019-03-04\", \"2019-03-05\", \"2019-03-06\", \"2019-03-07\", \"2019-03-08\", \"2019-03-09\", \"2019-03-10\", \"2019-03-11\", \"2019-03-12\", \"2019-03-13\", \"2019-03-14\", \"2019-03-15\", \"2019-03-16\", \"2019-03-17\", \"2019-03-18\", \"2019-03-19\", \"2019-03-20\", \"2019-03-21\", \"2019-03-22\", \"2019-03-23\", \"2019-03-24\", \"2019-03-25\", \"2019-03-26\", \"2019-03-27\", \"2019-03-28\", \"2019-03-29\", \"2019-03-30\", \"2019-03-31\", \"2019-04-01\", \"2019-04-02\", \"2019-04-03\", \"2019-04-04\", \"2019-04-05\", \"2019-04-06\", \"2019-04-07\", \"2019-04-08\", \"2019-04-09\", \"2019-04-10\", \"2019-04-11\"], \"y\": [69.65889319259577, 97.49451323922985, 91.98766752008802, 85.54533763045222, 98.21340121395288, 101.64633232195521, 99.90341628249297, 87.75905235476185, 91.50272468880858, 114.94364090503535, 64.66437058853181, 94.03743969067443, 78.29571906038127, 83.10777498538661, 136.7316137604109, 92.00917753476054, 100.68108308614052, 62.37052489798372, 97.21491575737726, 137.06989954938672, 129.63958852221964, 137.90137827805233, 67.85000634543277, 99.49431294196182, 105.21559282003871, 123.5188906699162, 42.236133608818434, 76.63760819482133, 101.81500177094871, 80.8640546516859, 118.14673250570279, 103.70353709022592, 117.03507085920101, 121.99141002753322, 87.06548904198429, 69.03313082659494, 69.6607279613452, 125.89236506159149, 127.78599720406756, 123.45808334486549, 125.81214795583175, 71.36769398747666, 91.54887848325075, 46.3863845299478, 93.83741345965683, 120.78476046340309, 123.86452942831946, 104.38036432864054, 120.87409660760052, 142.0632560427834, 99.49542689755502, 121.8393353683042, 72.39404785240339, 103.58722775811349, 99.87450209145058, 109.49965189819537, 118.34606785101234, 90.7598682340448, 118.02916299104115, 81.92388704122088, 118.17279559451977, 111.28522564170048, 133.53985394467034, 146.465338111424, 122.54581300906656, 116.68398237920297, 110.87071441095335, 120.4045585646618, 74.62329377345336, 69.17236554415771, 54.87243028283557, 91.4105450034525, 142.71919589671742, 145.78983703765198, 90.43155558797604, 82.53645314281789, 106.40552987719441, 110.36897775660091, 55.78430983818624, 74.20684728416163, 90.45768380541831, 171.784942550582, 83.80385348524894, 125.6915374032636, 125.75991949937739, 168.75417929934486, 153.94109510262976, 89.64121609683349, 110.08442285264034, 102.31078872613716, 113.39200680235079, 61.08821543355183, 93.8107624300486, 98.35429796948976, 48.07834522325559, 86.99513658505268, 104.97254892081776, 82.69705269381747, 93.8276969501526, 124.41182174822242, 102.25357155907481], \"type\": \"scatter\", \"uid\": \"11e89ea4-d203-40e7-870e-289e47b61607\"}, {\"hoverinfo\": \"text\", \"marker\": {\"color\": \"#840032\"}, \"mode\": \"lines\", \"name\": \"largedata\", \"text\": [\"Large Data<br>1117.334<br>Tue, Jan 01 (Q1)\", \"Large Data<br>822.975<br>Wed, Jan 02 (Q1)\", \"Large Data<br>1256.893<br>Thu, Jan 03 (Q1)\", \"Large Data<br>1119.815<br>Fri, Jan 04 (Q1)\", \"Large Data<br>854.418<br>Sat, Jan 05 (Q1)\", \"Large Data<br>1387.668<br>Sun, Jan 06 (Q1)\", \"Large Data<br>1159.449<br>Mon, Jan 07 (Q1)\", \"Large Data<br>411.16<br>Tue, Jan 08 (Q1)\", \"Large Data<br>1072.744<br>Wed, Jan 09 (Q1)\", \"Large Data<br>778.24<br>Thu, Jan 10 (Q1)\", \"Large Data<br>942.107<br>Fri, Jan 11 (Q1)\", \"Large Data<br>1148.721<br>Sat, Jan 12 (Q1)\", \"Large Data<br>1074.229<br>Sun, Jan 13 (Q1)\", \"Large Data<br>958.614<br>Mon, Jan 14 (Q1)\", \"Large Data<br>469.93<br>Tue, Jan 15 (Q1)\", \"Large Data<br>1098.185<br>Wed, Jan 16 (Q1)\", \"Large Data<br>659.358<br>Thu, Jan 17 (Q1)\", \"Large Data<br>872.348<br>Fri, Jan 18 (Q1)\", \"Large Data<br>962.087<br>Sat, Jan 19 (Q1)\", \"Large Data<br>923.092<br>Sun, Jan 20 (Q1)\", \"Large Data<br>688.291<br>Mon, Jan 21 (Q1)\", \"Large Data<br>830.356<br>Tue, Jan 22 (Q1)\", \"Large Data<br>1115.392<br>Wed, Jan 23 (Q1)\", \"Large Data<br>1389.638<br>Thu, Jan 24 (Q1)\", \"Large Data<br>727.424<br>Fri, Jan 25 (Q1)\", \"Large Data<br>598.344<br>Sat, Jan 26 (Q1)\", \"Large Data<br>957.585<br>Sun, Jan 27 (Q1)\", \"Large Data<br>1142.28<br>Mon, Jan 28 (Q1)\", \"Large Data<br>640.177<br>Tue, Jan 29 (Q1)\", \"Large Data<br>1343.352<br>Wed, Jan 30 (Q1)\", \"Large Data<br>1096.742<br>Thu, Jan 31 (Q1)\", \"Large Data<br>1195.7<br>Fri, Feb 01 (Q1)\", \"Large Data<br>866.373<br>Sat, Feb 02 (Q1)\", \"Large Data<br>1148.129<br>Sun, Feb 03 (Q1)\", \"Large Data<br>1028.205<br>Mon, Feb 04 (Q1)\", \"Large Data<br>901.735<br>Tue, Feb 05 (Q1)\", \"Large Data<br>1301.245<br>Wed, Feb 06 (Q1)\", \"Large Data<br>1099.913<br>Thu, Feb 07 (Q1)\", \"Large Data<br>1200.523<br>Fri, Feb 08 (Q1)\", \"Large Data<br>1040.495<br>Sat, Feb 09 (Q1)\", \"Large Data<br>907.947<br>Sun, Feb 10 (Q1)\", \"Large Data<br>493.479<br>Mon, Feb 11 (Q1)\", \"Large Data<br>787.156<br>Tue, Feb 12 (Q1)\", \"Large Data<br>662.264<br>Wed, Feb 13 (Q1)\", \"Large Data<br>663.961<br>Thu, Feb 14 (Q1)\", \"Large Data<br>911.783<br>Fri, Feb 15 (Q1)\", \"Large Data<br>978.45<br>Sat, Feb 16 (Q1)\", \"Large Data<br>1603.067<br>Sun, Feb 17 (Q1)\", \"Large Data<br>1315.668<br>Mon, Feb 18 (Q1)\", \"Large Data<br>835.108<br>Tue, Feb 19 (Q1)\", \"Large Data<br>911.341<br>Wed, Feb 20 (Q1)\", \"Large Data<br>1775.28<br>Thu, Feb 21 (Q1)\", \"Large Data<br>1557.771<br>Fri, Feb 22 (Q1)\", \"Large Data<br>912.247<br>Sat, Feb 23 (Q1)\", \"Large Data<br>1586.733<br>Sun, Feb 24 (Q1)\", \"Large Data<br>858.311<br>Mon, Feb 25 (Q1)\", \"Large Data<br>776.102<br>Tue, Feb 26 (Q1)\", \"Large Data<br>1120.865<br>Wed, Feb 27 (Q1)\", \"Large Data<br>1431.773<br>Thu, Feb 28 (Q1)\", \"Large Data<br>988.458<br>Fri, Mar 01 (Q1)\", \"Large Data<br>1119.05<br>Sat, Mar 02 (Q1)\", \"Large Data<br>1087.587<br>Sun, Mar 03 (Q1)\", \"Large Data<br>1130.093<br>Mon, Mar 04 (Q1)\", \"Large Data<br>1007.552<br>Tue, Mar 05 (Q1)\", \"Large Data<br>1532.781<br>Wed, Mar 06 (Q1)\", \"Large Data<br>555.764<br>Thu, Mar 07 (Q1)\", \"Large Data<br>662.849<br>Fri, Mar 08 (Q1)\", \"Large Data<br>1116.399<br>Sat, Mar 09 (Q1)\", \"Large Data<br>859.745<br>Sun, Mar 10 (Q1)\", \"Large Data<br>807.721<br>Mon, Mar 11 (Q1)\", \"Large Data<br>506.207<br>Tue, Mar 12 (Q1)\", \"Large Data<br>764.588<br>Wed, Mar 13 (Q1)\", \"Large Data<br>801.994<br>Thu, Mar 14 (Q1)\", \"Large Data<br>1178.715<br>Fri, Mar 15 (Q1)\", \"Large Data<br>1134.471<br>Sat, Mar 16 (Q1)\", \"Large Data<br>730.423<br>Sun, Mar 17 (Q1)\", \"Large Data<br>954.349<br>Mon, Mar 18 (Q1)\", \"Large Data<br>1112.566<br>Tue, Mar 19 (Q1)\", \"Large Data<br>787.545<br>Wed, Mar 20 (Q1)\", \"Large Data<br>939.918<br>Thu, Mar 21 (Q1)\", \"Large Data<br>674.26<br>Fri, Mar 22 (Q1)\", \"Large Data<br>1399.94<br>Sat, Mar 23 (Q1)\", \"Large Data<br>1267.995<br>Sun, Mar 24 (Q1)\", \"Large Data<br>861.821<br>Mon, Mar 25 (Q1)\", \"Large Data<br>1175.318<br>Tue, Mar 26 (Q1)\", \"Large Data<br>735.555<br>Wed, Mar 27 (Q1)\", \"Large Data<br>522.36<br>Thu, Mar 28 (Q1)\", \"Large Data<br>849.306<br>Fri, Mar 29 (Q1)\", \"Large Data<br>797.177<br>Sat, Mar 30 (Q1)\", \"Large Data<br>945.123<br>Sun, Mar 31 (Q1)\", \"Large Data<br>801.716<br>Mon, Apr 01 (Q2)\", \"Large Data<br>1033.474<br>Tue, Apr 02 (Q2)\", \"Large Data<br>891.121<br>Wed, Apr 03 (Q2)\", \"Large Data<br>757.377<br>Thu, Apr 04 (Q2)\", \"Large Data<br>865.699<br>Fri, Apr 05 (Q2)\", \"Large Data<br>820.906<br>Sat, Apr 06 (Q2)\", \"Large Data<br>1413.502<br>Sun, Apr 07 (Q2)\", \"Large Data<br>1043.071<br>Mon, Apr 08 (Q2)\", \"Large Data<br>721.448<br>Tue, Apr 09 (Q2)\", \"Large Data<br>516.462<br>Wed, Apr 10 (Q2)\", \"Large Data<br>1115.486<br>Thu, Apr 11 (Q2)\"], \"x\": [\"2019-01-01\", \"2019-01-02\", \"2019-01-03\", \"2019-01-04\", \"2019-01-05\", \"2019-01-06\", \"2019-01-07\", \"2019-01-08\", \"2019-01-09\", \"2019-01-10\", \"2019-01-11\", \"2019-01-12\", \"2019-01-13\", \"2019-01-14\", \"2019-01-15\", \"2019-01-16\", \"2019-01-17\", \"2019-01-18\", \"2019-01-19\", \"2019-01-20\", \"2019-01-21\", \"2019-01-22\", \"2019-01-23\", \"2019-01-24\", \"2019-01-25\", \"2019-01-26\", \"2019-01-27\", \"2019-01-28\", \"2019-01-29\", \"2019-01-30\", \"2019-01-31\", \"2019-02-01\", \"2019-02-02\", \"2019-02-03\", \"2019-02-04\", \"2019-02-05\", \"2019-02-06\", \"2019-02-07\", \"2019-02-08\", \"2019-02-09\", \"2019-02-10\", \"2019-02-11\", \"2019-02-12\", \"2019-02-13\", \"2019-02-14\", \"2019-02-15\", \"2019-02-16\", \"2019-02-17\", \"2019-02-18\", \"2019-02-19\", \"2019-02-20\", \"2019-02-21\", \"2019-02-22\", \"2019-02-23\", \"2019-02-24\", \"2019-02-25\", \"2019-02-26\", \"2019-02-27\", \"2019-02-28\", \"2019-03-01\", \"2019-03-02\", \"2019-03-03\", \"2019-03-04\", \"2019-03-05\", \"2019-03-06\", \"2019-03-07\", \"2019-03-08\", \"2019-03-09\", \"2019-03-10\", \"2019-03-11\", \"2019-03-12\", \"2019-03-13\", \"2019-03-14\", \"2019-03-15\", \"2019-03-16\", \"2019-03-17\", \"2019-03-18\", \"2019-03-19\", \"2019-03-20\", \"2019-03-21\", \"2019-03-22\", \"2019-03-23\", \"2019-03-24\", \"2019-03-25\", \"2019-03-26\", \"2019-03-27\", \"2019-03-28\", \"2019-03-29\", \"2019-03-30\", \"2019-03-31\", \"2019-04-01\", \"2019-04-02\", \"2019-04-03\", \"2019-04-04\", \"2019-04-05\", \"2019-04-06\", \"2019-04-07\", \"2019-04-08\", \"2019-04-09\", \"2019-04-10\", \"2019-04-11\"], \"y\": [1117.333763490158, 822.9752384941003, 1256.8928329990952, 1119.8152256409246, 854.4182828346645, 1387.668406488907, 1159.4488298445895, 411.1604449965672, 1072.743633965033, 778.2396207777863, 942.1073562607635, 1148.7205119210876, 1074.2285503474511, 958.6139725643802, 469.9298296211265, 1098.1854085879866, 659.3576051948233, 872.347672037852, 962.0869197242401, 923.0918098038737, 688.2913093436803, 830.3558010178955, 1115.3916979390558, 1389.6383833206792, 727.4240962384321, 598.344081365676, 957.584863320467, 1142.2802115047846, 640.1770900390788, 1343.3523823644616, 1096.7424383337257, 1195.7002520102124, 866.3730101021617, 1148.1290348472237, 1028.2052096468374, 901.7347567964874, 1301.2445854409495, 1099.9129070725603, 1200.5225343525294, 1040.495236785262, 907.946714208665, 493.47886761574443, 787.1561019461863, 662.2641601859922, 663.961054401737, 911.7831057145809, 978.4497433820935, 1603.0666143620624, 1315.6677015497376, 835.1083857477977, 911.3412987019942, 1775.2802908110607, 1557.770692529372, 912.2466411692011, 1586.732841943314, 858.310800383497, 776.102040181031, 1120.8650824210229, 1431.7727946337839, 988.4583212168365, 1119.050038564176, 1087.5866219485017, 1130.0932558674915, 1007.552063374147, 1532.7813303219823, 555.7637696245878, 662.849349022963, 1116.3992399229057, 859.7453929436055, 807.7205474864379, 506.2073545375376, 764.5877780499023, 801.9941162558263, 1178.7148413208213, 1134.4706733787527, 730.4232845266149, 954.3486672919165, 1112.5661093011406, 787.545471521851, 939.9176407287607, 674.2597144257056, 1399.940221661623, 1267.9951587623334, 861.8206796307018, 1175.3184679712735, 735.5551451358247, 522.3598616554542, 849.3060189996354, 797.1769666731885, 945.1234649608002, 801.7162488286936, 1033.4744790991642, 891.12077339287, 757.3771777211305, 865.6987882706388, 820.9058485870225, 1413.5018227441014, 1043.070695554149, 721.4475288275348, 516.4618999875272, 1115.4859630879178], \"type\": \"scatter\", \"uid\": \"3ce66a02-b206-44cc-b15c-1e699454798a\"}], {\"hovermode\": \"x\", \"plot_bgcolor\": \"rgb(229, 229, 229)\", \"title\": \"<b>Random Data</b>\", \"xaxis\": {\"gridcolor\": \"rgb(255,255,255)\", \"tickangle\": 30, \"title\": \"\", \"zerolinecolor\": \"rgb(255,255,255)\"}, \"yaxis\": {\"gridcolor\": \"rgb(255,255,255)\", \"title\": \"Random Values\", \"zerolinecolor\": \"rgb(255,255,255)\"}}, {\"showLink\": true, \"linkText\": \"Export to plot.ly\", \"plotlyServerURL\": \"https://plot.ly\"})});</script><script type=\"text/javascript\">window.addEventListener(\"resize\", function(){window._Plotly.Plots.resize(document.getElementById(\"ac414253-e50a-46cb-9a3e-7fd29543e38f\"));});</script>"
      ]
     },
     "metadata": {},
     "output_type": "display_data"
    }
   ],
   "source": [
    "# create graph \n",
    "args['in_data'] = in_data=df[['smalldata', 'largedata']]\n",
    "\n",
    "fig = lineplot.create_graph(**args)"
   ]
  },
  {
   "cell_type": "markdown",
   "metadata": {},
   "source": [
    "...but this makes it hard to see the variation in the `smalldata` series, because of the range in `largedata`.\n",
    "\n",
    "We can use `alt_trace_cols` to specify traces to go on a secondary y axis, on the right:"
   ]
  },
  {
   "cell_type": "code",
   "execution_count": 71,
   "metadata": {},
   "outputs": [
    {
     "data": {
      "text/html": [
       "<script type=\"text/javascript\">window.PlotlyConfig = {MathJaxConfig: 'local'};</script><script type=\"text/javascript\">if (window.MathJax) {MathJax.Hub.Config({SVG: {font: \"STIX-Web\"}});}</script><script>requirejs.config({paths: { 'plotly': ['https://cdn.plot.ly/plotly-latest.min']},});if(!window._Plotly) {require(['plotly'],function(plotly) {window._Plotly=plotly;});}</script>"
      ],
      "text/vnd.plotly.v1+html": [
       "<script type=\"text/javascript\">window.PlotlyConfig = {MathJaxConfig: 'local'};</script><script type=\"text/javascript\">if (window.MathJax) {MathJax.Hub.Config({SVG: {font: \"STIX-Web\"}});}</script><script>requirejs.config({paths: { 'plotly': ['https://cdn.plot.ly/plotly-latest.min']},});if(!window._Plotly) {require(['plotly'],function(plotly) {window._Plotly=plotly;});}</script>"
      ]
     },
     "metadata": {},
     "output_type": "display_data"
    },
    {
     "data": {
      "application/vnd.plotly.v1+json": {
       "config": {
        "linkText": "Export to plot.ly",
        "plotlyServerURL": "https://plot.ly",
        "showLink": true
       },
       "data": [
        {
         "hoverinfo": "text",
         "marker": {
          "color": "#232C65"
         },
         "mode": "lines",
         "name": "smalldata",
         "text": [
          "Small Data<br>69.659<br>Tue, Jan 01 (Q1)",
          "Small Data<br>97.495<br>Wed, Jan 02 (Q1)",
          "Small Data<br>91.988<br>Thu, Jan 03 (Q1)",
          "Small Data<br>85.545<br>Fri, Jan 04 (Q1)",
          "Small Data<br>98.213<br>Sat, Jan 05 (Q1)",
          "Small Data<br>101.646<br>Sun, Jan 06 (Q1)",
          "Small Data<br>99.903<br>Mon, Jan 07 (Q1)",
          "Small Data<br>87.759<br>Tue, Jan 08 (Q1)",
          "Small Data<br>91.503<br>Wed, Jan 09 (Q1)",
          "Small Data<br>114.944<br>Thu, Jan 10 (Q1)",
          "Small Data<br>64.664<br>Fri, Jan 11 (Q1)",
          "Small Data<br>94.037<br>Sat, Jan 12 (Q1)",
          "Small Data<br>78.296<br>Sun, Jan 13 (Q1)",
          "Small Data<br>83.108<br>Mon, Jan 14 (Q1)",
          "Small Data<br>136.732<br>Tue, Jan 15 (Q1)",
          "Small Data<br>92.009<br>Wed, Jan 16 (Q1)",
          "Small Data<br>100.681<br>Thu, Jan 17 (Q1)",
          "Small Data<br>62.371<br>Fri, Jan 18 (Q1)",
          "Small Data<br>97.215<br>Sat, Jan 19 (Q1)",
          "Small Data<br>137.07<br>Sun, Jan 20 (Q1)",
          "Small Data<br>129.64<br>Mon, Jan 21 (Q1)",
          "Small Data<br>137.901<br>Tue, Jan 22 (Q1)",
          "Small Data<br>67.85<br>Wed, Jan 23 (Q1)",
          "Small Data<br>99.494<br>Thu, Jan 24 (Q1)",
          "Small Data<br>105.216<br>Fri, Jan 25 (Q1)",
          "Small Data<br>123.519<br>Sat, Jan 26 (Q1)",
          "Small Data<br>42.236<br>Sun, Jan 27 (Q1)",
          "Small Data<br>76.638<br>Mon, Jan 28 (Q1)",
          "Small Data<br>101.815<br>Tue, Jan 29 (Q1)",
          "Small Data<br>80.864<br>Wed, Jan 30 (Q1)",
          "Small Data<br>118.147<br>Thu, Jan 31 (Q1)",
          "Small Data<br>103.704<br>Fri, Feb 01 (Q1)",
          "Small Data<br>117.035<br>Sat, Feb 02 (Q1)",
          "Small Data<br>121.991<br>Sun, Feb 03 (Q1)",
          "Small Data<br>87.065<br>Mon, Feb 04 (Q1)",
          "Small Data<br>69.033<br>Tue, Feb 05 (Q1)",
          "Small Data<br>69.661<br>Wed, Feb 06 (Q1)",
          "Small Data<br>125.892<br>Thu, Feb 07 (Q1)",
          "Small Data<br>127.786<br>Fri, Feb 08 (Q1)",
          "Small Data<br>123.458<br>Sat, Feb 09 (Q1)",
          "Small Data<br>125.812<br>Sun, Feb 10 (Q1)",
          "Small Data<br>71.368<br>Mon, Feb 11 (Q1)",
          "Small Data<br>91.549<br>Tue, Feb 12 (Q1)",
          "Small Data<br>46.386<br>Wed, Feb 13 (Q1)",
          "Small Data<br>93.837<br>Thu, Feb 14 (Q1)",
          "Small Data<br>120.785<br>Fri, Feb 15 (Q1)",
          "Small Data<br>123.865<br>Sat, Feb 16 (Q1)",
          "Small Data<br>104.38<br>Sun, Feb 17 (Q1)",
          "Small Data<br>120.874<br>Mon, Feb 18 (Q1)",
          "Small Data<br>142.063<br>Tue, Feb 19 (Q1)",
          "Small Data<br>99.495<br>Wed, Feb 20 (Q1)",
          "Small Data<br>121.839<br>Thu, Feb 21 (Q1)",
          "Small Data<br>72.394<br>Fri, Feb 22 (Q1)",
          "Small Data<br>103.587<br>Sat, Feb 23 (Q1)",
          "Small Data<br>99.875<br>Sun, Feb 24 (Q1)",
          "Small Data<br>109.5<br>Mon, Feb 25 (Q1)",
          "Small Data<br>118.346<br>Tue, Feb 26 (Q1)",
          "Small Data<br>90.76<br>Wed, Feb 27 (Q1)",
          "Small Data<br>118.029<br>Thu, Feb 28 (Q1)",
          "Small Data<br>81.924<br>Fri, Mar 01 (Q1)",
          "Small Data<br>118.173<br>Sat, Mar 02 (Q1)",
          "Small Data<br>111.285<br>Sun, Mar 03 (Q1)",
          "Small Data<br>133.54<br>Mon, Mar 04 (Q1)",
          "Small Data<br>146.465<br>Tue, Mar 05 (Q1)",
          "Small Data<br>122.546<br>Wed, Mar 06 (Q1)",
          "Small Data<br>116.684<br>Thu, Mar 07 (Q1)",
          "Small Data<br>110.871<br>Fri, Mar 08 (Q1)",
          "Small Data<br>120.405<br>Sat, Mar 09 (Q1)",
          "Small Data<br>74.623<br>Sun, Mar 10 (Q1)",
          "Small Data<br>69.172<br>Mon, Mar 11 (Q1)",
          "Small Data<br>54.872<br>Tue, Mar 12 (Q1)",
          "Small Data<br>91.411<br>Wed, Mar 13 (Q1)",
          "Small Data<br>142.719<br>Thu, Mar 14 (Q1)",
          "Small Data<br>145.79<br>Fri, Mar 15 (Q1)",
          "Small Data<br>90.432<br>Sat, Mar 16 (Q1)",
          "Small Data<br>82.536<br>Sun, Mar 17 (Q1)",
          "Small Data<br>106.406<br>Mon, Mar 18 (Q1)",
          "Small Data<br>110.369<br>Tue, Mar 19 (Q1)",
          "Small Data<br>55.784<br>Wed, Mar 20 (Q1)",
          "Small Data<br>74.207<br>Thu, Mar 21 (Q1)",
          "Small Data<br>90.458<br>Fri, Mar 22 (Q1)",
          "Small Data<br>171.785<br>Sat, Mar 23 (Q1)",
          "Small Data<br>83.804<br>Sun, Mar 24 (Q1)",
          "Small Data<br>125.692<br>Mon, Mar 25 (Q1)",
          "Small Data<br>125.76<br>Tue, Mar 26 (Q1)",
          "Small Data<br>168.754<br>Wed, Mar 27 (Q1)",
          "Small Data<br>153.941<br>Thu, Mar 28 (Q1)",
          "Small Data<br>89.641<br>Fri, Mar 29 (Q1)",
          "Small Data<br>110.084<br>Sat, Mar 30 (Q1)",
          "Small Data<br>102.311<br>Sun, Mar 31 (Q1)",
          "Small Data<br>113.392<br>Mon, Apr 01 (Q2)",
          "Small Data<br>61.088<br>Tue, Apr 02 (Q2)",
          "Small Data<br>93.811<br>Wed, Apr 03 (Q2)",
          "Small Data<br>98.354<br>Thu, Apr 04 (Q2)",
          "Small Data<br>48.078<br>Fri, Apr 05 (Q2)",
          "Small Data<br>86.995<br>Sat, Apr 06 (Q2)",
          "Small Data<br>104.973<br>Sun, Apr 07 (Q2)",
          "Small Data<br>82.697<br>Mon, Apr 08 (Q2)",
          "Small Data<br>93.828<br>Tue, Apr 09 (Q2)",
          "Small Data<br>124.412<br>Wed, Apr 10 (Q2)",
          "Small Data<br>102.254<br>Thu, Apr 11 (Q2)"
         ],
         "type": "scatter",
         "uid": "312afdb7-d711-47fc-875c-67998e441c55",
         "x": [
          "2019-01-01",
          "2019-01-02",
          "2019-01-03",
          "2019-01-04",
          "2019-01-05",
          "2019-01-06",
          "2019-01-07",
          "2019-01-08",
          "2019-01-09",
          "2019-01-10",
          "2019-01-11",
          "2019-01-12",
          "2019-01-13",
          "2019-01-14",
          "2019-01-15",
          "2019-01-16",
          "2019-01-17",
          "2019-01-18",
          "2019-01-19",
          "2019-01-20",
          "2019-01-21",
          "2019-01-22",
          "2019-01-23",
          "2019-01-24",
          "2019-01-25",
          "2019-01-26",
          "2019-01-27",
          "2019-01-28",
          "2019-01-29",
          "2019-01-30",
          "2019-01-31",
          "2019-02-01",
          "2019-02-02",
          "2019-02-03",
          "2019-02-04",
          "2019-02-05",
          "2019-02-06",
          "2019-02-07",
          "2019-02-08",
          "2019-02-09",
          "2019-02-10",
          "2019-02-11",
          "2019-02-12",
          "2019-02-13",
          "2019-02-14",
          "2019-02-15",
          "2019-02-16",
          "2019-02-17",
          "2019-02-18",
          "2019-02-19",
          "2019-02-20",
          "2019-02-21",
          "2019-02-22",
          "2019-02-23",
          "2019-02-24",
          "2019-02-25",
          "2019-02-26",
          "2019-02-27",
          "2019-02-28",
          "2019-03-01",
          "2019-03-02",
          "2019-03-03",
          "2019-03-04",
          "2019-03-05",
          "2019-03-06",
          "2019-03-07",
          "2019-03-08",
          "2019-03-09",
          "2019-03-10",
          "2019-03-11",
          "2019-03-12",
          "2019-03-13",
          "2019-03-14",
          "2019-03-15",
          "2019-03-16",
          "2019-03-17",
          "2019-03-18",
          "2019-03-19",
          "2019-03-20",
          "2019-03-21",
          "2019-03-22",
          "2019-03-23",
          "2019-03-24",
          "2019-03-25",
          "2019-03-26",
          "2019-03-27",
          "2019-03-28",
          "2019-03-29",
          "2019-03-30",
          "2019-03-31",
          "2019-04-01",
          "2019-04-02",
          "2019-04-03",
          "2019-04-04",
          "2019-04-05",
          "2019-04-06",
          "2019-04-07",
          "2019-04-08",
          "2019-04-09",
          "2019-04-10",
          "2019-04-11"
         ],
         "y": [
          69.65889319259577,
          97.49451323922985,
          91.98766752008802,
          85.54533763045222,
          98.21340121395288,
          101.64633232195521,
          99.90341628249297,
          87.75905235476185,
          91.50272468880858,
          114.94364090503535,
          64.66437058853181,
          94.03743969067443,
          78.29571906038127,
          83.10777498538661,
          136.7316137604109,
          92.00917753476054,
          100.68108308614052,
          62.37052489798372,
          97.21491575737726,
          137.06989954938672,
          129.63958852221964,
          137.90137827805233,
          67.85000634543277,
          99.49431294196182,
          105.21559282003871,
          123.5188906699162,
          42.236133608818434,
          76.63760819482133,
          101.81500177094871,
          80.8640546516859,
          118.14673250570279,
          103.70353709022592,
          117.03507085920101,
          121.99141002753322,
          87.06548904198429,
          69.03313082659494,
          69.6607279613452,
          125.89236506159149,
          127.78599720406756,
          123.45808334486549,
          125.81214795583175,
          71.36769398747666,
          91.54887848325075,
          46.3863845299478,
          93.83741345965683,
          120.78476046340309,
          123.86452942831946,
          104.38036432864054,
          120.87409660760052,
          142.0632560427834,
          99.49542689755502,
          121.8393353683042,
          72.39404785240339,
          103.58722775811349,
          99.87450209145058,
          109.49965189819537,
          118.34606785101234,
          90.7598682340448,
          118.02916299104115,
          81.92388704122088,
          118.17279559451977,
          111.28522564170048,
          133.53985394467034,
          146.465338111424,
          122.54581300906656,
          116.68398237920297,
          110.87071441095335,
          120.4045585646618,
          74.62329377345336,
          69.17236554415771,
          54.87243028283557,
          91.4105450034525,
          142.71919589671742,
          145.78983703765198,
          90.43155558797604,
          82.53645314281789,
          106.40552987719441,
          110.36897775660091,
          55.78430983818624,
          74.20684728416163,
          90.45768380541831,
          171.784942550582,
          83.80385348524894,
          125.6915374032636,
          125.75991949937739,
          168.75417929934486,
          153.94109510262976,
          89.64121609683349,
          110.08442285264034,
          102.31078872613716,
          113.39200680235079,
          61.08821543355183,
          93.8107624300486,
          98.35429796948976,
          48.07834522325559,
          86.99513658505268,
          104.97254892081776,
          82.69705269381747,
          93.8276969501526,
          124.41182174822242,
          102.25357155907481
         ],
         "yaxis": "y"
        },
        {
         "hoverinfo": "text",
         "marker": {
          "color": "#E4572E"
         },
         "mode": "lines",
         "name": "largedata",
         "text": [
          "Large Data<br>1117.334<br>Tue, Jan 01 (Q1)",
          "Large Data<br>822.975<br>Wed, Jan 02 (Q1)",
          "Large Data<br>1256.893<br>Thu, Jan 03 (Q1)",
          "Large Data<br>1119.815<br>Fri, Jan 04 (Q1)",
          "Large Data<br>854.418<br>Sat, Jan 05 (Q1)",
          "Large Data<br>1387.668<br>Sun, Jan 06 (Q1)",
          "Large Data<br>1159.449<br>Mon, Jan 07 (Q1)",
          "Large Data<br>411.16<br>Tue, Jan 08 (Q1)",
          "Large Data<br>1072.744<br>Wed, Jan 09 (Q1)",
          "Large Data<br>778.24<br>Thu, Jan 10 (Q1)",
          "Large Data<br>942.107<br>Fri, Jan 11 (Q1)",
          "Large Data<br>1148.721<br>Sat, Jan 12 (Q1)",
          "Large Data<br>1074.229<br>Sun, Jan 13 (Q1)",
          "Large Data<br>958.614<br>Mon, Jan 14 (Q1)",
          "Large Data<br>469.93<br>Tue, Jan 15 (Q1)",
          "Large Data<br>1098.185<br>Wed, Jan 16 (Q1)",
          "Large Data<br>659.358<br>Thu, Jan 17 (Q1)",
          "Large Data<br>872.348<br>Fri, Jan 18 (Q1)",
          "Large Data<br>962.087<br>Sat, Jan 19 (Q1)",
          "Large Data<br>923.092<br>Sun, Jan 20 (Q1)",
          "Large Data<br>688.291<br>Mon, Jan 21 (Q1)",
          "Large Data<br>830.356<br>Tue, Jan 22 (Q1)",
          "Large Data<br>1115.392<br>Wed, Jan 23 (Q1)",
          "Large Data<br>1389.638<br>Thu, Jan 24 (Q1)",
          "Large Data<br>727.424<br>Fri, Jan 25 (Q1)",
          "Large Data<br>598.344<br>Sat, Jan 26 (Q1)",
          "Large Data<br>957.585<br>Sun, Jan 27 (Q1)",
          "Large Data<br>1142.28<br>Mon, Jan 28 (Q1)",
          "Large Data<br>640.177<br>Tue, Jan 29 (Q1)",
          "Large Data<br>1343.352<br>Wed, Jan 30 (Q1)",
          "Large Data<br>1096.742<br>Thu, Jan 31 (Q1)",
          "Large Data<br>1195.7<br>Fri, Feb 01 (Q1)",
          "Large Data<br>866.373<br>Sat, Feb 02 (Q1)",
          "Large Data<br>1148.129<br>Sun, Feb 03 (Q1)",
          "Large Data<br>1028.205<br>Mon, Feb 04 (Q1)",
          "Large Data<br>901.735<br>Tue, Feb 05 (Q1)",
          "Large Data<br>1301.245<br>Wed, Feb 06 (Q1)",
          "Large Data<br>1099.913<br>Thu, Feb 07 (Q1)",
          "Large Data<br>1200.523<br>Fri, Feb 08 (Q1)",
          "Large Data<br>1040.495<br>Sat, Feb 09 (Q1)",
          "Large Data<br>907.947<br>Sun, Feb 10 (Q1)",
          "Large Data<br>493.479<br>Mon, Feb 11 (Q1)",
          "Large Data<br>787.156<br>Tue, Feb 12 (Q1)",
          "Large Data<br>662.264<br>Wed, Feb 13 (Q1)",
          "Large Data<br>663.961<br>Thu, Feb 14 (Q1)",
          "Large Data<br>911.783<br>Fri, Feb 15 (Q1)",
          "Large Data<br>978.45<br>Sat, Feb 16 (Q1)",
          "Large Data<br>1603.067<br>Sun, Feb 17 (Q1)",
          "Large Data<br>1315.668<br>Mon, Feb 18 (Q1)",
          "Large Data<br>835.108<br>Tue, Feb 19 (Q1)",
          "Large Data<br>911.341<br>Wed, Feb 20 (Q1)",
          "Large Data<br>1775.28<br>Thu, Feb 21 (Q1)",
          "Large Data<br>1557.771<br>Fri, Feb 22 (Q1)",
          "Large Data<br>912.247<br>Sat, Feb 23 (Q1)",
          "Large Data<br>1586.733<br>Sun, Feb 24 (Q1)",
          "Large Data<br>858.311<br>Mon, Feb 25 (Q1)",
          "Large Data<br>776.102<br>Tue, Feb 26 (Q1)",
          "Large Data<br>1120.865<br>Wed, Feb 27 (Q1)",
          "Large Data<br>1431.773<br>Thu, Feb 28 (Q1)",
          "Large Data<br>988.458<br>Fri, Mar 01 (Q1)",
          "Large Data<br>1119.05<br>Sat, Mar 02 (Q1)",
          "Large Data<br>1087.587<br>Sun, Mar 03 (Q1)",
          "Large Data<br>1130.093<br>Mon, Mar 04 (Q1)",
          "Large Data<br>1007.552<br>Tue, Mar 05 (Q1)",
          "Large Data<br>1532.781<br>Wed, Mar 06 (Q1)",
          "Large Data<br>555.764<br>Thu, Mar 07 (Q1)",
          "Large Data<br>662.849<br>Fri, Mar 08 (Q1)",
          "Large Data<br>1116.399<br>Sat, Mar 09 (Q1)",
          "Large Data<br>859.745<br>Sun, Mar 10 (Q1)",
          "Large Data<br>807.721<br>Mon, Mar 11 (Q1)",
          "Large Data<br>506.207<br>Tue, Mar 12 (Q1)",
          "Large Data<br>764.588<br>Wed, Mar 13 (Q1)",
          "Large Data<br>801.994<br>Thu, Mar 14 (Q1)",
          "Large Data<br>1178.715<br>Fri, Mar 15 (Q1)",
          "Large Data<br>1134.471<br>Sat, Mar 16 (Q1)",
          "Large Data<br>730.423<br>Sun, Mar 17 (Q1)",
          "Large Data<br>954.349<br>Mon, Mar 18 (Q1)",
          "Large Data<br>1112.566<br>Tue, Mar 19 (Q1)",
          "Large Data<br>787.545<br>Wed, Mar 20 (Q1)",
          "Large Data<br>939.918<br>Thu, Mar 21 (Q1)",
          "Large Data<br>674.26<br>Fri, Mar 22 (Q1)",
          "Large Data<br>1399.94<br>Sat, Mar 23 (Q1)",
          "Large Data<br>1267.995<br>Sun, Mar 24 (Q1)",
          "Large Data<br>861.821<br>Mon, Mar 25 (Q1)",
          "Large Data<br>1175.318<br>Tue, Mar 26 (Q1)",
          "Large Data<br>735.555<br>Wed, Mar 27 (Q1)",
          "Large Data<br>522.36<br>Thu, Mar 28 (Q1)",
          "Large Data<br>849.306<br>Fri, Mar 29 (Q1)",
          "Large Data<br>797.177<br>Sat, Mar 30 (Q1)",
          "Large Data<br>945.123<br>Sun, Mar 31 (Q1)",
          "Large Data<br>801.716<br>Mon, Apr 01 (Q2)",
          "Large Data<br>1033.474<br>Tue, Apr 02 (Q2)",
          "Large Data<br>891.121<br>Wed, Apr 03 (Q2)",
          "Large Data<br>757.377<br>Thu, Apr 04 (Q2)",
          "Large Data<br>865.699<br>Fri, Apr 05 (Q2)",
          "Large Data<br>820.906<br>Sat, Apr 06 (Q2)",
          "Large Data<br>1413.502<br>Sun, Apr 07 (Q2)",
          "Large Data<br>1043.071<br>Mon, Apr 08 (Q2)",
          "Large Data<br>721.448<br>Tue, Apr 09 (Q2)",
          "Large Data<br>516.462<br>Wed, Apr 10 (Q2)",
          "Large Data<br>1115.486<br>Thu, Apr 11 (Q2)"
         ],
         "type": "scatter",
         "uid": "59c44bcb-82d7-4621-a69d-cbdf26167807",
         "x": [
          "2019-01-01",
          "2019-01-02",
          "2019-01-03",
          "2019-01-04",
          "2019-01-05",
          "2019-01-06",
          "2019-01-07",
          "2019-01-08",
          "2019-01-09",
          "2019-01-10",
          "2019-01-11",
          "2019-01-12",
          "2019-01-13",
          "2019-01-14",
          "2019-01-15",
          "2019-01-16",
          "2019-01-17",
          "2019-01-18",
          "2019-01-19",
          "2019-01-20",
          "2019-01-21",
          "2019-01-22",
          "2019-01-23",
          "2019-01-24",
          "2019-01-25",
          "2019-01-26",
          "2019-01-27",
          "2019-01-28",
          "2019-01-29",
          "2019-01-30",
          "2019-01-31",
          "2019-02-01",
          "2019-02-02",
          "2019-02-03",
          "2019-02-04",
          "2019-02-05",
          "2019-02-06",
          "2019-02-07",
          "2019-02-08",
          "2019-02-09",
          "2019-02-10",
          "2019-02-11",
          "2019-02-12",
          "2019-02-13",
          "2019-02-14",
          "2019-02-15",
          "2019-02-16",
          "2019-02-17",
          "2019-02-18",
          "2019-02-19",
          "2019-02-20",
          "2019-02-21",
          "2019-02-22",
          "2019-02-23",
          "2019-02-24",
          "2019-02-25",
          "2019-02-26",
          "2019-02-27",
          "2019-02-28",
          "2019-03-01",
          "2019-03-02",
          "2019-03-03",
          "2019-03-04",
          "2019-03-05",
          "2019-03-06",
          "2019-03-07",
          "2019-03-08",
          "2019-03-09",
          "2019-03-10",
          "2019-03-11",
          "2019-03-12",
          "2019-03-13",
          "2019-03-14",
          "2019-03-15",
          "2019-03-16",
          "2019-03-17",
          "2019-03-18",
          "2019-03-19",
          "2019-03-20",
          "2019-03-21",
          "2019-03-22",
          "2019-03-23",
          "2019-03-24",
          "2019-03-25",
          "2019-03-26",
          "2019-03-27",
          "2019-03-28",
          "2019-03-29",
          "2019-03-30",
          "2019-03-31",
          "2019-04-01",
          "2019-04-02",
          "2019-04-03",
          "2019-04-04",
          "2019-04-05",
          "2019-04-06",
          "2019-04-07",
          "2019-04-08",
          "2019-04-09",
          "2019-04-10",
          "2019-04-11"
         ],
         "y": [
          1117.333763490158,
          822.9752384941003,
          1256.8928329990952,
          1119.8152256409246,
          854.4182828346645,
          1387.668406488907,
          1159.4488298445895,
          411.1604449965672,
          1072.743633965033,
          778.2396207777863,
          942.1073562607635,
          1148.7205119210876,
          1074.2285503474511,
          958.6139725643802,
          469.9298296211265,
          1098.1854085879866,
          659.3576051948233,
          872.347672037852,
          962.0869197242401,
          923.0918098038737,
          688.2913093436803,
          830.3558010178955,
          1115.3916979390558,
          1389.6383833206792,
          727.4240962384321,
          598.344081365676,
          957.584863320467,
          1142.2802115047846,
          640.1770900390788,
          1343.3523823644616,
          1096.7424383337257,
          1195.7002520102124,
          866.3730101021617,
          1148.1290348472237,
          1028.2052096468374,
          901.7347567964874,
          1301.2445854409495,
          1099.9129070725603,
          1200.5225343525294,
          1040.495236785262,
          907.946714208665,
          493.47886761574443,
          787.1561019461863,
          662.2641601859922,
          663.961054401737,
          911.7831057145809,
          978.4497433820935,
          1603.0666143620624,
          1315.6677015497376,
          835.1083857477977,
          911.3412987019942,
          1775.2802908110607,
          1557.770692529372,
          912.2466411692011,
          1586.732841943314,
          858.310800383497,
          776.102040181031,
          1120.8650824210229,
          1431.7727946337839,
          988.4583212168365,
          1119.050038564176,
          1087.5866219485017,
          1130.0932558674915,
          1007.552063374147,
          1532.7813303219823,
          555.7637696245878,
          662.849349022963,
          1116.3992399229057,
          859.7453929436055,
          807.7205474864379,
          506.2073545375376,
          764.5877780499023,
          801.9941162558263,
          1178.7148413208213,
          1134.4706733787527,
          730.4232845266149,
          954.3486672919165,
          1112.5661093011406,
          787.545471521851,
          939.9176407287607,
          674.2597144257056,
          1399.940221661623,
          1267.9951587623334,
          861.8206796307018,
          1175.3184679712735,
          735.5551451358247,
          522.3598616554542,
          849.3060189996354,
          797.1769666731885,
          945.1234649608002,
          801.7162488286936,
          1033.4744790991642,
          891.12077339287,
          757.3771777211305,
          865.6987882706388,
          820.9058485870225,
          1413.5018227441014,
          1043.070695554149,
          721.4475288275348,
          516.4618999875272,
          1115.4859630879178
         ],
         "yaxis": "y2"
        }
       ],
       "layout": {
        "hovermode": "x",
        "plot_bgcolor": "rgb(229, 229, 229)",
        "title": "<b>Random Data</b>",
        "xaxis": {
         "gridcolor": "rgb(255,255,255)",
         "tickangle": 30,
         "title": "",
         "zerolinecolor": "rgb(255,255,255)"
        },
        "yaxis": {
         "gridcolor": "rgb(255,255,255)",
         "title": "Smaller Random Values",
         "zerolinecolor": "rgb(255,255,255)"
        },
        "yaxis2": {
         "gridcolor": "rgb(255,255,255)",
         "overlaying": "y",
         "side": "right",
         "title": "Larger Random Values",
         "zerolinecolor": "rgb(255,255,255)"
        }
       }
      },
      "text/html": [
       "<div id=\"3e63e594-60d8-4970-a3c3-48f47ef60cfd\" style=\"height: 525px; width: 100%;\" class=\"plotly-graph-div\"></div><script type=\"text/javascript\">require([\"plotly\"], function(Plotly) { window.PLOTLYENV=window.PLOTLYENV || {};window.PLOTLYENV.BASE_URL=\"https://plot.ly\";Plotly.newPlot(\"3e63e594-60d8-4970-a3c3-48f47ef60cfd\", [{\"hoverinfo\": \"text\", \"marker\": {\"color\": \"#232C65\"}, \"mode\": \"lines\", \"name\": \"smalldata\", \"text\": [\"Small Data<br>69.659<br>Tue, Jan 01 (Q1)\", \"Small Data<br>97.495<br>Wed, Jan 02 (Q1)\", \"Small Data<br>91.988<br>Thu, Jan 03 (Q1)\", \"Small Data<br>85.545<br>Fri, Jan 04 (Q1)\", \"Small Data<br>98.213<br>Sat, Jan 05 (Q1)\", \"Small Data<br>101.646<br>Sun, Jan 06 (Q1)\", \"Small Data<br>99.903<br>Mon, Jan 07 (Q1)\", \"Small Data<br>87.759<br>Tue, Jan 08 (Q1)\", \"Small Data<br>91.503<br>Wed, Jan 09 (Q1)\", \"Small Data<br>114.944<br>Thu, Jan 10 (Q1)\", \"Small Data<br>64.664<br>Fri, Jan 11 (Q1)\", \"Small Data<br>94.037<br>Sat, Jan 12 (Q1)\", \"Small Data<br>78.296<br>Sun, Jan 13 (Q1)\", \"Small Data<br>83.108<br>Mon, Jan 14 (Q1)\", \"Small Data<br>136.732<br>Tue, Jan 15 (Q1)\", \"Small Data<br>92.009<br>Wed, Jan 16 (Q1)\", \"Small Data<br>100.681<br>Thu, Jan 17 (Q1)\", \"Small Data<br>62.371<br>Fri, Jan 18 (Q1)\", \"Small Data<br>97.215<br>Sat, Jan 19 (Q1)\", \"Small Data<br>137.07<br>Sun, Jan 20 (Q1)\", \"Small Data<br>129.64<br>Mon, Jan 21 (Q1)\", \"Small Data<br>137.901<br>Tue, Jan 22 (Q1)\", \"Small Data<br>67.85<br>Wed, Jan 23 (Q1)\", \"Small Data<br>99.494<br>Thu, Jan 24 (Q1)\", \"Small Data<br>105.216<br>Fri, Jan 25 (Q1)\", \"Small Data<br>123.519<br>Sat, Jan 26 (Q1)\", \"Small Data<br>42.236<br>Sun, Jan 27 (Q1)\", \"Small Data<br>76.638<br>Mon, Jan 28 (Q1)\", \"Small Data<br>101.815<br>Tue, Jan 29 (Q1)\", \"Small Data<br>80.864<br>Wed, Jan 30 (Q1)\", \"Small Data<br>118.147<br>Thu, Jan 31 (Q1)\", \"Small Data<br>103.704<br>Fri, Feb 01 (Q1)\", \"Small Data<br>117.035<br>Sat, Feb 02 (Q1)\", \"Small Data<br>121.991<br>Sun, Feb 03 (Q1)\", \"Small Data<br>87.065<br>Mon, Feb 04 (Q1)\", \"Small Data<br>69.033<br>Tue, Feb 05 (Q1)\", \"Small Data<br>69.661<br>Wed, Feb 06 (Q1)\", \"Small Data<br>125.892<br>Thu, Feb 07 (Q1)\", \"Small Data<br>127.786<br>Fri, Feb 08 (Q1)\", \"Small Data<br>123.458<br>Sat, Feb 09 (Q1)\", \"Small Data<br>125.812<br>Sun, Feb 10 (Q1)\", \"Small Data<br>71.368<br>Mon, Feb 11 (Q1)\", \"Small Data<br>91.549<br>Tue, Feb 12 (Q1)\", \"Small Data<br>46.386<br>Wed, Feb 13 (Q1)\", \"Small Data<br>93.837<br>Thu, Feb 14 (Q1)\", \"Small Data<br>120.785<br>Fri, Feb 15 (Q1)\", \"Small Data<br>123.865<br>Sat, Feb 16 (Q1)\", \"Small Data<br>104.38<br>Sun, Feb 17 (Q1)\", \"Small Data<br>120.874<br>Mon, Feb 18 (Q1)\", \"Small Data<br>142.063<br>Tue, Feb 19 (Q1)\", \"Small Data<br>99.495<br>Wed, Feb 20 (Q1)\", \"Small Data<br>121.839<br>Thu, Feb 21 (Q1)\", \"Small Data<br>72.394<br>Fri, Feb 22 (Q1)\", \"Small Data<br>103.587<br>Sat, Feb 23 (Q1)\", \"Small Data<br>99.875<br>Sun, Feb 24 (Q1)\", \"Small Data<br>109.5<br>Mon, Feb 25 (Q1)\", \"Small Data<br>118.346<br>Tue, Feb 26 (Q1)\", \"Small Data<br>90.76<br>Wed, Feb 27 (Q1)\", \"Small Data<br>118.029<br>Thu, Feb 28 (Q1)\", \"Small Data<br>81.924<br>Fri, Mar 01 (Q1)\", \"Small Data<br>118.173<br>Sat, Mar 02 (Q1)\", \"Small Data<br>111.285<br>Sun, Mar 03 (Q1)\", \"Small Data<br>133.54<br>Mon, Mar 04 (Q1)\", \"Small Data<br>146.465<br>Tue, Mar 05 (Q1)\", \"Small Data<br>122.546<br>Wed, Mar 06 (Q1)\", \"Small Data<br>116.684<br>Thu, Mar 07 (Q1)\", \"Small Data<br>110.871<br>Fri, Mar 08 (Q1)\", \"Small Data<br>120.405<br>Sat, Mar 09 (Q1)\", \"Small Data<br>74.623<br>Sun, Mar 10 (Q1)\", \"Small Data<br>69.172<br>Mon, Mar 11 (Q1)\", \"Small Data<br>54.872<br>Tue, Mar 12 (Q1)\", \"Small Data<br>91.411<br>Wed, Mar 13 (Q1)\", \"Small Data<br>142.719<br>Thu, Mar 14 (Q1)\", \"Small Data<br>145.79<br>Fri, Mar 15 (Q1)\", \"Small Data<br>90.432<br>Sat, Mar 16 (Q1)\", \"Small Data<br>82.536<br>Sun, Mar 17 (Q1)\", \"Small Data<br>106.406<br>Mon, Mar 18 (Q1)\", \"Small Data<br>110.369<br>Tue, Mar 19 (Q1)\", \"Small Data<br>55.784<br>Wed, Mar 20 (Q1)\", \"Small Data<br>74.207<br>Thu, Mar 21 (Q1)\", \"Small Data<br>90.458<br>Fri, Mar 22 (Q1)\", \"Small Data<br>171.785<br>Sat, Mar 23 (Q1)\", \"Small Data<br>83.804<br>Sun, Mar 24 (Q1)\", \"Small Data<br>125.692<br>Mon, Mar 25 (Q1)\", \"Small Data<br>125.76<br>Tue, Mar 26 (Q1)\", \"Small Data<br>168.754<br>Wed, Mar 27 (Q1)\", \"Small Data<br>153.941<br>Thu, Mar 28 (Q1)\", \"Small Data<br>89.641<br>Fri, Mar 29 (Q1)\", \"Small Data<br>110.084<br>Sat, Mar 30 (Q1)\", \"Small Data<br>102.311<br>Sun, Mar 31 (Q1)\", \"Small Data<br>113.392<br>Mon, Apr 01 (Q2)\", \"Small Data<br>61.088<br>Tue, Apr 02 (Q2)\", \"Small Data<br>93.811<br>Wed, Apr 03 (Q2)\", \"Small Data<br>98.354<br>Thu, Apr 04 (Q2)\", \"Small Data<br>48.078<br>Fri, Apr 05 (Q2)\", \"Small Data<br>86.995<br>Sat, Apr 06 (Q2)\", \"Small Data<br>104.973<br>Sun, Apr 07 (Q2)\", \"Small Data<br>82.697<br>Mon, Apr 08 (Q2)\", \"Small Data<br>93.828<br>Tue, Apr 09 (Q2)\", \"Small Data<br>124.412<br>Wed, Apr 10 (Q2)\", \"Small Data<br>102.254<br>Thu, Apr 11 (Q2)\"], \"x\": [\"2019-01-01\", \"2019-01-02\", \"2019-01-03\", \"2019-01-04\", \"2019-01-05\", \"2019-01-06\", \"2019-01-07\", \"2019-01-08\", \"2019-01-09\", \"2019-01-10\", \"2019-01-11\", \"2019-01-12\", \"2019-01-13\", \"2019-01-14\", \"2019-01-15\", \"2019-01-16\", \"2019-01-17\", \"2019-01-18\", \"2019-01-19\", \"2019-01-20\", \"2019-01-21\", \"2019-01-22\", \"2019-01-23\", \"2019-01-24\", \"2019-01-25\", \"2019-01-26\", \"2019-01-27\", \"2019-01-28\", \"2019-01-29\", \"2019-01-30\", \"2019-01-31\", \"2019-02-01\", \"2019-02-02\", \"2019-02-03\", \"2019-02-04\", \"2019-02-05\", \"2019-02-06\", \"2019-02-07\", \"2019-02-08\", \"2019-02-09\", \"2019-02-10\", \"2019-02-11\", \"2019-02-12\", \"2019-02-13\", \"2019-02-14\", \"2019-02-15\", \"2019-02-16\", \"2019-02-17\", \"2019-02-18\", \"2019-02-19\", \"2019-02-20\", \"2019-02-21\", \"2019-02-22\", \"2019-02-23\", \"2019-02-24\", \"2019-02-25\", \"2019-02-26\", \"2019-02-27\", \"2019-02-28\", \"2019-03-01\", \"2019-03-02\", \"2019-03-03\", \"2019-03-04\", \"2019-03-05\", \"2019-03-06\", \"2019-03-07\", \"2019-03-08\", \"2019-03-09\", \"2019-03-10\", \"2019-03-11\", \"2019-03-12\", \"2019-03-13\", \"2019-03-14\", \"2019-03-15\", \"2019-03-16\", \"2019-03-17\", \"2019-03-18\", \"2019-03-19\", \"2019-03-20\", \"2019-03-21\", \"2019-03-22\", \"2019-03-23\", \"2019-03-24\", \"2019-03-25\", \"2019-03-26\", \"2019-03-27\", \"2019-03-28\", \"2019-03-29\", \"2019-03-30\", \"2019-03-31\", \"2019-04-01\", \"2019-04-02\", \"2019-04-03\", \"2019-04-04\", \"2019-04-05\", \"2019-04-06\", \"2019-04-07\", \"2019-04-08\", \"2019-04-09\", \"2019-04-10\", \"2019-04-11\"], \"y\": [69.65889319259577, 97.49451323922985, 91.98766752008802, 85.54533763045222, 98.21340121395288, 101.64633232195521, 99.90341628249297, 87.75905235476185, 91.50272468880858, 114.94364090503535, 64.66437058853181, 94.03743969067443, 78.29571906038127, 83.10777498538661, 136.7316137604109, 92.00917753476054, 100.68108308614052, 62.37052489798372, 97.21491575737726, 137.06989954938672, 129.63958852221964, 137.90137827805233, 67.85000634543277, 99.49431294196182, 105.21559282003871, 123.5188906699162, 42.236133608818434, 76.63760819482133, 101.81500177094871, 80.8640546516859, 118.14673250570279, 103.70353709022592, 117.03507085920101, 121.99141002753322, 87.06548904198429, 69.03313082659494, 69.6607279613452, 125.89236506159149, 127.78599720406756, 123.45808334486549, 125.81214795583175, 71.36769398747666, 91.54887848325075, 46.3863845299478, 93.83741345965683, 120.78476046340309, 123.86452942831946, 104.38036432864054, 120.87409660760052, 142.0632560427834, 99.49542689755502, 121.8393353683042, 72.39404785240339, 103.58722775811349, 99.87450209145058, 109.49965189819537, 118.34606785101234, 90.7598682340448, 118.02916299104115, 81.92388704122088, 118.17279559451977, 111.28522564170048, 133.53985394467034, 146.465338111424, 122.54581300906656, 116.68398237920297, 110.87071441095335, 120.4045585646618, 74.62329377345336, 69.17236554415771, 54.87243028283557, 91.4105450034525, 142.71919589671742, 145.78983703765198, 90.43155558797604, 82.53645314281789, 106.40552987719441, 110.36897775660091, 55.78430983818624, 74.20684728416163, 90.45768380541831, 171.784942550582, 83.80385348524894, 125.6915374032636, 125.75991949937739, 168.75417929934486, 153.94109510262976, 89.64121609683349, 110.08442285264034, 102.31078872613716, 113.39200680235079, 61.08821543355183, 93.8107624300486, 98.35429796948976, 48.07834522325559, 86.99513658505268, 104.97254892081776, 82.69705269381747, 93.8276969501526, 124.41182174822242, 102.25357155907481], \"yaxis\": \"y\", \"type\": \"scatter\", \"uid\": \"312afdb7-d711-47fc-875c-67998e441c55\"}, {\"hoverinfo\": \"text\", \"marker\": {\"color\": \"#E4572E\"}, \"mode\": \"lines\", \"name\": \"largedata\", \"text\": [\"Large Data<br>1117.334<br>Tue, Jan 01 (Q1)\", \"Large Data<br>822.975<br>Wed, Jan 02 (Q1)\", \"Large Data<br>1256.893<br>Thu, Jan 03 (Q1)\", \"Large Data<br>1119.815<br>Fri, Jan 04 (Q1)\", \"Large Data<br>854.418<br>Sat, Jan 05 (Q1)\", \"Large Data<br>1387.668<br>Sun, Jan 06 (Q1)\", \"Large Data<br>1159.449<br>Mon, Jan 07 (Q1)\", \"Large Data<br>411.16<br>Tue, Jan 08 (Q1)\", \"Large Data<br>1072.744<br>Wed, Jan 09 (Q1)\", \"Large Data<br>778.24<br>Thu, Jan 10 (Q1)\", \"Large Data<br>942.107<br>Fri, Jan 11 (Q1)\", \"Large Data<br>1148.721<br>Sat, Jan 12 (Q1)\", \"Large Data<br>1074.229<br>Sun, Jan 13 (Q1)\", \"Large Data<br>958.614<br>Mon, Jan 14 (Q1)\", \"Large Data<br>469.93<br>Tue, Jan 15 (Q1)\", \"Large Data<br>1098.185<br>Wed, Jan 16 (Q1)\", \"Large Data<br>659.358<br>Thu, Jan 17 (Q1)\", \"Large Data<br>872.348<br>Fri, Jan 18 (Q1)\", \"Large Data<br>962.087<br>Sat, Jan 19 (Q1)\", \"Large Data<br>923.092<br>Sun, Jan 20 (Q1)\", \"Large Data<br>688.291<br>Mon, Jan 21 (Q1)\", \"Large Data<br>830.356<br>Tue, Jan 22 (Q1)\", \"Large Data<br>1115.392<br>Wed, Jan 23 (Q1)\", \"Large Data<br>1389.638<br>Thu, Jan 24 (Q1)\", \"Large Data<br>727.424<br>Fri, Jan 25 (Q1)\", \"Large Data<br>598.344<br>Sat, Jan 26 (Q1)\", \"Large Data<br>957.585<br>Sun, Jan 27 (Q1)\", \"Large Data<br>1142.28<br>Mon, Jan 28 (Q1)\", \"Large Data<br>640.177<br>Tue, Jan 29 (Q1)\", \"Large Data<br>1343.352<br>Wed, Jan 30 (Q1)\", \"Large Data<br>1096.742<br>Thu, Jan 31 (Q1)\", \"Large Data<br>1195.7<br>Fri, Feb 01 (Q1)\", \"Large Data<br>866.373<br>Sat, Feb 02 (Q1)\", \"Large Data<br>1148.129<br>Sun, Feb 03 (Q1)\", \"Large Data<br>1028.205<br>Mon, Feb 04 (Q1)\", \"Large Data<br>901.735<br>Tue, Feb 05 (Q1)\", \"Large Data<br>1301.245<br>Wed, Feb 06 (Q1)\", \"Large Data<br>1099.913<br>Thu, Feb 07 (Q1)\", \"Large Data<br>1200.523<br>Fri, Feb 08 (Q1)\", \"Large Data<br>1040.495<br>Sat, Feb 09 (Q1)\", \"Large Data<br>907.947<br>Sun, Feb 10 (Q1)\", \"Large Data<br>493.479<br>Mon, Feb 11 (Q1)\", \"Large Data<br>787.156<br>Tue, Feb 12 (Q1)\", \"Large Data<br>662.264<br>Wed, Feb 13 (Q1)\", \"Large Data<br>663.961<br>Thu, Feb 14 (Q1)\", \"Large Data<br>911.783<br>Fri, Feb 15 (Q1)\", \"Large Data<br>978.45<br>Sat, Feb 16 (Q1)\", \"Large Data<br>1603.067<br>Sun, Feb 17 (Q1)\", \"Large Data<br>1315.668<br>Mon, Feb 18 (Q1)\", \"Large Data<br>835.108<br>Tue, Feb 19 (Q1)\", \"Large Data<br>911.341<br>Wed, Feb 20 (Q1)\", \"Large Data<br>1775.28<br>Thu, Feb 21 (Q1)\", \"Large Data<br>1557.771<br>Fri, Feb 22 (Q1)\", \"Large Data<br>912.247<br>Sat, Feb 23 (Q1)\", \"Large Data<br>1586.733<br>Sun, Feb 24 (Q1)\", \"Large Data<br>858.311<br>Mon, Feb 25 (Q1)\", \"Large Data<br>776.102<br>Tue, Feb 26 (Q1)\", \"Large Data<br>1120.865<br>Wed, Feb 27 (Q1)\", \"Large Data<br>1431.773<br>Thu, Feb 28 (Q1)\", \"Large Data<br>988.458<br>Fri, Mar 01 (Q1)\", \"Large Data<br>1119.05<br>Sat, Mar 02 (Q1)\", \"Large Data<br>1087.587<br>Sun, Mar 03 (Q1)\", \"Large Data<br>1130.093<br>Mon, Mar 04 (Q1)\", \"Large Data<br>1007.552<br>Tue, Mar 05 (Q1)\", \"Large Data<br>1532.781<br>Wed, Mar 06 (Q1)\", \"Large Data<br>555.764<br>Thu, Mar 07 (Q1)\", \"Large Data<br>662.849<br>Fri, Mar 08 (Q1)\", \"Large Data<br>1116.399<br>Sat, Mar 09 (Q1)\", \"Large Data<br>859.745<br>Sun, Mar 10 (Q1)\", \"Large Data<br>807.721<br>Mon, Mar 11 (Q1)\", \"Large Data<br>506.207<br>Tue, Mar 12 (Q1)\", \"Large Data<br>764.588<br>Wed, Mar 13 (Q1)\", \"Large Data<br>801.994<br>Thu, Mar 14 (Q1)\", \"Large Data<br>1178.715<br>Fri, Mar 15 (Q1)\", \"Large Data<br>1134.471<br>Sat, Mar 16 (Q1)\", \"Large Data<br>730.423<br>Sun, Mar 17 (Q1)\", \"Large Data<br>954.349<br>Mon, Mar 18 (Q1)\", \"Large Data<br>1112.566<br>Tue, Mar 19 (Q1)\", \"Large Data<br>787.545<br>Wed, Mar 20 (Q1)\", \"Large Data<br>939.918<br>Thu, Mar 21 (Q1)\", \"Large Data<br>674.26<br>Fri, Mar 22 (Q1)\", \"Large Data<br>1399.94<br>Sat, Mar 23 (Q1)\", \"Large Data<br>1267.995<br>Sun, Mar 24 (Q1)\", \"Large Data<br>861.821<br>Mon, Mar 25 (Q1)\", \"Large Data<br>1175.318<br>Tue, Mar 26 (Q1)\", \"Large Data<br>735.555<br>Wed, Mar 27 (Q1)\", \"Large Data<br>522.36<br>Thu, Mar 28 (Q1)\", \"Large Data<br>849.306<br>Fri, Mar 29 (Q1)\", \"Large Data<br>797.177<br>Sat, Mar 30 (Q1)\", \"Large Data<br>945.123<br>Sun, Mar 31 (Q1)\", \"Large Data<br>801.716<br>Mon, Apr 01 (Q2)\", \"Large Data<br>1033.474<br>Tue, Apr 02 (Q2)\", \"Large Data<br>891.121<br>Wed, Apr 03 (Q2)\", \"Large Data<br>757.377<br>Thu, Apr 04 (Q2)\", \"Large Data<br>865.699<br>Fri, Apr 05 (Q2)\", \"Large Data<br>820.906<br>Sat, Apr 06 (Q2)\", \"Large Data<br>1413.502<br>Sun, Apr 07 (Q2)\", \"Large Data<br>1043.071<br>Mon, Apr 08 (Q2)\", \"Large Data<br>721.448<br>Tue, Apr 09 (Q2)\", \"Large Data<br>516.462<br>Wed, Apr 10 (Q2)\", \"Large Data<br>1115.486<br>Thu, Apr 11 (Q2)\"], \"x\": [\"2019-01-01\", \"2019-01-02\", \"2019-01-03\", \"2019-01-04\", \"2019-01-05\", \"2019-01-06\", \"2019-01-07\", \"2019-01-08\", \"2019-01-09\", \"2019-01-10\", \"2019-01-11\", \"2019-01-12\", \"2019-01-13\", \"2019-01-14\", \"2019-01-15\", \"2019-01-16\", \"2019-01-17\", \"2019-01-18\", \"2019-01-19\", \"2019-01-20\", \"2019-01-21\", \"2019-01-22\", \"2019-01-23\", \"2019-01-24\", \"2019-01-25\", \"2019-01-26\", \"2019-01-27\", \"2019-01-28\", \"2019-01-29\", \"2019-01-30\", \"2019-01-31\", \"2019-02-01\", \"2019-02-02\", \"2019-02-03\", \"2019-02-04\", \"2019-02-05\", \"2019-02-06\", \"2019-02-07\", \"2019-02-08\", \"2019-02-09\", \"2019-02-10\", \"2019-02-11\", \"2019-02-12\", \"2019-02-13\", \"2019-02-14\", \"2019-02-15\", \"2019-02-16\", \"2019-02-17\", \"2019-02-18\", \"2019-02-19\", \"2019-02-20\", \"2019-02-21\", \"2019-02-22\", \"2019-02-23\", \"2019-02-24\", \"2019-02-25\", \"2019-02-26\", \"2019-02-27\", \"2019-02-28\", \"2019-03-01\", \"2019-03-02\", \"2019-03-03\", \"2019-03-04\", \"2019-03-05\", \"2019-03-06\", \"2019-03-07\", \"2019-03-08\", \"2019-03-09\", \"2019-03-10\", \"2019-03-11\", \"2019-03-12\", \"2019-03-13\", \"2019-03-14\", \"2019-03-15\", \"2019-03-16\", \"2019-03-17\", \"2019-03-18\", \"2019-03-19\", \"2019-03-20\", \"2019-03-21\", \"2019-03-22\", \"2019-03-23\", \"2019-03-24\", \"2019-03-25\", \"2019-03-26\", \"2019-03-27\", \"2019-03-28\", \"2019-03-29\", \"2019-03-30\", \"2019-03-31\", \"2019-04-01\", \"2019-04-02\", \"2019-04-03\", \"2019-04-04\", \"2019-04-05\", \"2019-04-06\", \"2019-04-07\", \"2019-04-08\", \"2019-04-09\", \"2019-04-10\", \"2019-04-11\"], \"y\": [1117.333763490158, 822.9752384941003, 1256.8928329990952, 1119.8152256409246, 854.4182828346645, 1387.668406488907, 1159.4488298445895, 411.1604449965672, 1072.743633965033, 778.2396207777863, 942.1073562607635, 1148.7205119210876, 1074.2285503474511, 958.6139725643802, 469.9298296211265, 1098.1854085879866, 659.3576051948233, 872.347672037852, 962.0869197242401, 923.0918098038737, 688.2913093436803, 830.3558010178955, 1115.3916979390558, 1389.6383833206792, 727.4240962384321, 598.344081365676, 957.584863320467, 1142.2802115047846, 640.1770900390788, 1343.3523823644616, 1096.7424383337257, 1195.7002520102124, 866.3730101021617, 1148.1290348472237, 1028.2052096468374, 901.7347567964874, 1301.2445854409495, 1099.9129070725603, 1200.5225343525294, 1040.495236785262, 907.946714208665, 493.47886761574443, 787.1561019461863, 662.2641601859922, 663.961054401737, 911.7831057145809, 978.4497433820935, 1603.0666143620624, 1315.6677015497376, 835.1083857477977, 911.3412987019942, 1775.2802908110607, 1557.770692529372, 912.2466411692011, 1586.732841943314, 858.310800383497, 776.102040181031, 1120.8650824210229, 1431.7727946337839, 988.4583212168365, 1119.050038564176, 1087.5866219485017, 1130.0932558674915, 1007.552063374147, 1532.7813303219823, 555.7637696245878, 662.849349022963, 1116.3992399229057, 859.7453929436055, 807.7205474864379, 506.2073545375376, 764.5877780499023, 801.9941162558263, 1178.7148413208213, 1134.4706733787527, 730.4232845266149, 954.3486672919165, 1112.5661093011406, 787.545471521851, 939.9176407287607, 674.2597144257056, 1399.940221661623, 1267.9951587623334, 861.8206796307018, 1175.3184679712735, 735.5551451358247, 522.3598616554542, 849.3060189996354, 797.1769666731885, 945.1234649608002, 801.7162488286936, 1033.4744790991642, 891.12077339287, 757.3771777211305, 865.6987882706388, 820.9058485870225, 1413.5018227441014, 1043.070695554149, 721.4475288275348, 516.4618999875272, 1115.4859630879178], \"yaxis\": \"y2\", \"type\": \"scatter\", \"uid\": \"59c44bcb-82d7-4621-a69d-cbdf26167807\"}], {\"hovermode\": \"x\", \"plot_bgcolor\": \"rgb(229, 229, 229)\", \"title\": \"<b>Random Data</b>\", \"xaxis\": {\"gridcolor\": \"rgb(255,255,255)\", \"tickangle\": 30, \"title\": \"\", \"zerolinecolor\": \"rgb(255,255,255)\"}, \"yaxis\": {\"gridcolor\": \"rgb(255,255,255)\", \"title\": \"Smaller Random Values\", \"zerolinecolor\": \"rgb(255,255,255)\"}, \"yaxis2\": {\"gridcolor\": \"rgb(255,255,255)\", \"overlaying\": \"y\", \"side\": \"right\", \"title\": \"Larger Random Values\", \"zerolinecolor\": \"rgb(255,255,255)\"}}, {\"showLink\": true, \"linkText\": \"Export to plot.ly\", \"plotlyServerURL\": \"https://plot.ly\"})});</script><script type=\"text/javascript\">window.addEventListener(\"resize\", function(){window._Plotly.Plots.resize(document.getElementById(\"3e63e594-60d8-4970-a3c3-48f47ef60cfd\"));});</script>"
      ],
      "text/vnd.plotly.v1+html": [
       "<div id=\"3e63e594-60d8-4970-a3c3-48f47ef60cfd\" style=\"height: 525px; width: 100%;\" class=\"plotly-graph-div\"></div><script type=\"text/javascript\">require([\"plotly\"], function(Plotly) { window.PLOTLYENV=window.PLOTLYENV || {};window.PLOTLYENV.BASE_URL=\"https://plot.ly\";Plotly.newPlot(\"3e63e594-60d8-4970-a3c3-48f47ef60cfd\", [{\"hoverinfo\": \"text\", \"marker\": {\"color\": \"#232C65\"}, \"mode\": \"lines\", \"name\": \"smalldata\", \"text\": [\"Small Data<br>69.659<br>Tue, Jan 01 (Q1)\", \"Small Data<br>97.495<br>Wed, Jan 02 (Q1)\", \"Small Data<br>91.988<br>Thu, Jan 03 (Q1)\", \"Small Data<br>85.545<br>Fri, Jan 04 (Q1)\", \"Small Data<br>98.213<br>Sat, Jan 05 (Q1)\", \"Small Data<br>101.646<br>Sun, Jan 06 (Q1)\", \"Small Data<br>99.903<br>Mon, Jan 07 (Q1)\", \"Small Data<br>87.759<br>Tue, Jan 08 (Q1)\", \"Small Data<br>91.503<br>Wed, Jan 09 (Q1)\", \"Small Data<br>114.944<br>Thu, Jan 10 (Q1)\", \"Small Data<br>64.664<br>Fri, Jan 11 (Q1)\", \"Small Data<br>94.037<br>Sat, Jan 12 (Q1)\", \"Small Data<br>78.296<br>Sun, Jan 13 (Q1)\", \"Small Data<br>83.108<br>Mon, Jan 14 (Q1)\", \"Small Data<br>136.732<br>Tue, Jan 15 (Q1)\", \"Small Data<br>92.009<br>Wed, Jan 16 (Q1)\", \"Small Data<br>100.681<br>Thu, Jan 17 (Q1)\", \"Small Data<br>62.371<br>Fri, Jan 18 (Q1)\", \"Small Data<br>97.215<br>Sat, Jan 19 (Q1)\", \"Small Data<br>137.07<br>Sun, Jan 20 (Q1)\", \"Small Data<br>129.64<br>Mon, Jan 21 (Q1)\", \"Small Data<br>137.901<br>Tue, Jan 22 (Q1)\", \"Small Data<br>67.85<br>Wed, Jan 23 (Q1)\", \"Small Data<br>99.494<br>Thu, Jan 24 (Q1)\", \"Small Data<br>105.216<br>Fri, Jan 25 (Q1)\", \"Small Data<br>123.519<br>Sat, Jan 26 (Q1)\", \"Small Data<br>42.236<br>Sun, Jan 27 (Q1)\", \"Small Data<br>76.638<br>Mon, Jan 28 (Q1)\", \"Small Data<br>101.815<br>Tue, Jan 29 (Q1)\", \"Small Data<br>80.864<br>Wed, Jan 30 (Q1)\", \"Small Data<br>118.147<br>Thu, Jan 31 (Q1)\", \"Small Data<br>103.704<br>Fri, Feb 01 (Q1)\", \"Small Data<br>117.035<br>Sat, Feb 02 (Q1)\", \"Small Data<br>121.991<br>Sun, Feb 03 (Q1)\", \"Small Data<br>87.065<br>Mon, Feb 04 (Q1)\", \"Small Data<br>69.033<br>Tue, Feb 05 (Q1)\", \"Small Data<br>69.661<br>Wed, Feb 06 (Q1)\", \"Small Data<br>125.892<br>Thu, Feb 07 (Q1)\", \"Small Data<br>127.786<br>Fri, Feb 08 (Q1)\", \"Small Data<br>123.458<br>Sat, Feb 09 (Q1)\", \"Small Data<br>125.812<br>Sun, Feb 10 (Q1)\", \"Small Data<br>71.368<br>Mon, Feb 11 (Q1)\", \"Small Data<br>91.549<br>Tue, Feb 12 (Q1)\", \"Small Data<br>46.386<br>Wed, Feb 13 (Q1)\", \"Small Data<br>93.837<br>Thu, Feb 14 (Q1)\", \"Small Data<br>120.785<br>Fri, Feb 15 (Q1)\", \"Small Data<br>123.865<br>Sat, Feb 16 (Q1)\", \"Small Data<br>104.38<br>Sun, Feb 17 (Q1)\", \"Small Data<br>120.874<br>Mon, Feb 18 (Q1)\", \"Small Data<br>142.063<br>Tue, Feb 19 (Q1)\", \"Small Data<br>99.495<br>Wed, Feb 20 (Q1)\", \"Small Data<br>121.839<br>Thu, Feb 21 (Q1)\", \"Small Data<br>72.394<br>Fri, Feb 22 (Q1)\", \"Small Data<br>103.587<br>Sat, Feb 23 (Q1)\", \"Small Data<br>99.875<br>Sun, Feb 24 (Q1)\", \"Small Data<br>109.5<br>Mon, Feb 25 (Q1)\", \"Small Data<br>118.346<br>Tue, Feb 26 (Q1)\", \"Small Data<br>90.76<br>Wed, Feb 27 (Q1)\", \"Small Data<br>118.029<br>Thu, Feb 28 (Q1)\", \"Small Data<br>81.924<br>Fri, Mar 01 (Q1)\", \"Small Data<br>118.173<br>Sat, Mar 02 (Q1)\", \"Small Data<br>111.285<br>Sun, Mar 03 (Q1)\", \"Small Data<br>133.54<br>Mon, Mar 04 (Q1)\", \"Small Data<br>146.465<br>Tue, Mar 05 (Q1)\", \"Small Data<br>122.546<br>Wed, Mar 06 (Q1)\", \"Small Data<br>116.684<br>Thu, Mar 07 (Q1)\", \"Small Data<br>110.871<br>Fri, Mar 08 (Q1)\", \"Small Data<br>120.405<br>Sat, Mar 09 (Q1)\", \"Small Data<br>74.623<br>Sun, Mar 10 (Q1)\", \"Small Data<br>69.172<br>Mon, Mar 11 (Q1)\", \"Small Data<br>54.872<br>Tue, Mar 12 (Q1)\", \"Small Data<br>91.411<br>Wed, Mar 13 (Q1)\", \"Small Data<br>142.719<br>Thu, Mar 14 (Q1)\", \"Small Data<br>145.79<br>Fri, Mar 15 (Q1)\", \"Small Data<br>90.432<br>Sat, Mar 16 (Q1)\", \"Small Data<br>82.536<br>Sun, Mar 17 (Q1)\", \"Small Data<br>106.406<br>Mon, Mar 18 (Q1)\", \"Small Data<br>110.369<br>Tue, Mar 19 (Q1)\", \"Small Data<br>55.784<br>Wed, Mar 20 (Q1)\", \"Small Data<br>74.207<br>Thu, Mar 21 (Q1)\", \"Small Data<br>90.458<br>Fri, Mar 22 (Q1)\", \"Small Data<br>171.785<br>Sat, Mar 23 (Q1)\", \"Small Data<br>83.804<br>Sun, Mar 24 (Q1)\", \"Small Data<br>125.692<br>Mon, Mar 25 (Q1)\", \"Small Data<br>125.76<br>Tue, Mar 26 (Q1)\", \"Small Data<br>168.754<br>Wed, Mar 27 (Q1)\", \"Small Data<br>153.941<br>Thu, Mar 28 (Q1)\", \"Small Data<br>89.641<br>Fri, Mar 29 (Q1)\", \"Small Data<br>110.084<br>Sat, Mar 30 (Q1)\", \"Small Data<br>102.311<br>Sun, Mar 31 (Q1)\", \"Small Data<br>113.392<br>Mon, Apr 01 (Q2)\", \"Small Data<br>61.088<br>Tue, Apr 02 (Q2)\", \"Small Data<br>93.811<br>Wed, Apr 03 (Q2)\", \"Small Data<br>98.354<br>Thu, Apr 04 (Q2)\", \"Small Data<br>48.078<br>Fri, Apr 05 (Q2)\", \"Small Data<br>86.995<br>Sat, Apr 06 (Q2)\", \"Small Data<br>104.973<br>Sun, Apr 07 (Q2)\", \"Small Data<br>82.697<br>Mon, Apr 08 (Q2)\", \"Small Data<br>93.828<br>Tue, Apr 09 (Q2)\", \"Small Data<br>124.412<br>Wed, Apr 10 (Q2)\", \"Small Data<br>102.254<br>Thu, Apr 11 (Q2)\"], \"x\": [\"2019-01-01\", \"2019-01-02\", \"2019-01-03\", \"2019-01-04\", \"2019-01-05\", \"2019-01-06\", \"2019-01-07\", \"2019-01-08\", \"2019-01-09\", \"2019-01-10\", \"2019-01-11\", \"2019-01-12\", \"2019-01-13\", \"2019-01-14\", \"2019-01-15\", \"2019-01-16\", \"2019-01-17\", \"2019-01-18\", \"2019-01-19\", \"2019-01-20\", \"2019-01-21\", \"2019-01-22\", \"2019-01-23\", \"2019-01-24\", \"2019-01-25\", \"2019-01-26\", \"2019-01-27\", \"2019-01-28\", \"2019-01-29\", \"2019-01-30\", \"2019-01-31\", \"2019-02-01\", \"2019-02-02\", \"2019-02-03\", \"2019-02-04\", \"2019-02-05\", \"2019-02-06\", \"2019-02-07\", \"2019-02-08\", \"2019-02-09\", \"2019-02-10\", \"2019-02-11\", \"2019-02-12\", \"2019-02-13\", \"2019-02-14\", \"2019-02-15\", \"2019-02-16\", \"2019-02-17\", \"2019-02-18\", \"2019-02-19\", \"2019-02-20\", \"2019-02-21\", \"2019-02-22\", \"2019-02-23\", \"2019-02-24\", \"2019-02-25\", \"2019-02-26\", \"2019-02-27\", \"2019-02-28\", \"2019-03-01\", \"2019-03-02\", \"2019-03-03\", \"2019-03-04\", \"2019-03-05\", \"2019-03-06\", \"2019-03-07\", \"2019-03-08\", \"2019-03-09\", \"2019-03-10\", \"2019-03-11\", \"2019-03-12\", \"2019-03-13\", \"2019-03-14\", \"2019-03-15\", \"2019-03-16\", \"2019-03-17\", \"2019-03-18\", \"2019-03-19\", \"2019-03-20\", \"2019-03-21\", \"2019-03-22\", \"2019-03-23\", \"2019-03-24\", \"2019-03-25\", \"2019-03-26\", \"2019-03-27\", \"2019-03-28\", \"2019-03-29\", \"2019-03-30\", \"2019-03-31\", \"2019-04-01\", \"2019-04-02\", \"2019-04-03\", \"2019-04-04\", \"2019-04-05\", \"2019-04-06\", \"2019-04-07\", \"2019-04-08\", \"2019-04-09\", \"2019-04-10\", \"2019-04-11\"], \"y\": [69.65889319259577, 97.49451323922985, 91.98766752008802, 85.54533763045222, 98.21340121395288, 101.64633232195521, 99.90341628249297, 87.75905235476185, 91.50272468880858, 114.94364090503535, 64.66437058853181, 94.03743969067443, 78.29571906038127, 83.10777498538661, 136.7316137604109, 92.00917753476054, 100.68108308614052, 62.37052489798372, 97.21491575737726, 137.06989954938672, 129.63958852221964, 137.90137827805233, 67.85000634543277, 99.49431294196182, 105.21559282003871, 123.5188906699162, 42.236133608818434, 76.63760819482133, 101.81500177094871, 80.8640546516859, 118.14673250570279, 103.70353709022592, 117.03507085920101, 121.99141002753322, 87.06548904198429, 69.03313082659494, 69.6607279613452, 125.89236506159149, 127.78599720406756, 123.45808334486549, 125.81214795583175, 71.36769398747666, 91.54887848325075, 46.3863845299478, 93.83741345965683, 120.78476046340309, 123.86452942831946, 104.38036432864054, 120.87409660760052, 142.0632560427834, 99.49542689755502, 121.8393353683042, 72.39404785240339, 103.58722775811349, 99.87450209145058, 109.49965189819537, 118.34606785101234, 90.7598682340448, 118.02916299104115, 81.92388704122088, 118.17279559451977, 111.28522564170048, 133.53985394467034, 146.465338111424, 122.54581300906656, 116.68398237920297, 110.87071441095335, 120.4045585646618, 74.62329377345336, 69.17236554415771, 54.87243028283557, 91.4105450034525, 142.71919589671742, 145.78983703765198, 90.43155558797604, 82.53645314281789, 106.40552987719441, 110.36897775660091, 55.78430983818624, 74.20684728416163, 90.45768380541831, 171.784942550582, 83.80385348524894, 125.6915374032636, 125.75991949937739, 168.75417929934486, 153.94109510262976, 89.64121609683349, 110.08442285264034, 102.31078872613716, 113.39200680235079, 61.08821543355183, 93.8107624300486, 98.35429796948976, 48.07834522325559, 86.99513658505268, 104.97254892081776, 82.69705269381747, 93.8276969501526, 124.41182174822242, 102.25357155907481], \"yaxis\": \"y\", \"type\": \"scatter\", \"uid\": \"312afdb7-d711-47fc-875c-67998e441c55\"}, {\"hoverinfo\": \"text\", \"marker\": {\"color\": \"#E4572E\"}, \"mode\": \"lines\", \"name\": \"largedata\", \"text\": [\"Large Data<br>1117.334<br>Tue, Jan 01 (Q1)\", \"Large Data<br>822.975<br>Wed, Jan 02 (Q1)\", \"Large Data<br>1256.893<br>Thu, Jan 03 (Q1)\", \"Large Data<br>1119.815<br>Fri, Jan 04 (Q1)\", \"Large Data<br>854.418<br>Sat, Jan 05 (Q1)\", \"Large Data<br>1387.668<br>Sun, Jan 06 (Q1)\", \"Large Data<br>1159.449<br>Mon, Jan 07 (Q1)\", \"Large Data<br>411.16<br>Tue, Jan 08 (Q1)\", \"Large Data<br>1072.744<br>Wed, Jan 09 (Q1)\", \"Large Data<br>778.24<br>Thu, Jan 10 (Q1)\", \"Large Data<br>942.107<br>Fri, Jan 11 (Q1)\", \"Large Data<br>1148.721<br>Sat, Jan 12 (Q1)\", \"Large Data<br>1074.229<br>Sun, Jan 13 (Q1)\", \"Large Data<br>958.614<br>Mon, Jan 14 (Q1)\", \"Large Data<br>469.93<br>Tue, Jan 15 (Q1)\", \"Large Data<br>1098.185<br>Wed, Jan 16 (Q1)\", \"Large Data<br>659.358<br>Thu, Jan 17 (Q1)\", \"Large Data<br>872.348<br>Fri, Jan 18 (Q1)\", \"Large Data<br>962.087<br>Sat, Jan 19 (Q1)\", \"Large Data<br>923.092<br>Sun, Jan 20 (Q1)\", \"Large Data<br>688.291<br>Mon, Jan 21 (Q1)\", \"Large Data<br>830.356<br>Tue, Jan 22 (Q1)\", \"Large Data<br>1115.392<br>Wed, Jan 23 (Q1)\", \"Large Data<br>1389.638<br>Thu, Jan 24 (Q1)\", \"Large Data<br>727.424<br>Fri, Jan 25 (Q1)\", \"Large Data<br>598.344<br>Sat, Jan 26 (Q1)\", \"Large Data<br>957.585<br>Sun, Jan 27 (Q1)\", \"Large Data<br>1142.28<br>Mon, Jan 28 (Q1)\", \"Large Data<br>640.177<br>Tue, Jan 29 (Q1)\", \"Large Data<br>1343.352<br>Wed, Jan 30 (Q1)\", \"Large Data<br>1096.742<br>Thu, Jan 31 (Q1)\", \"Large Data<br>1195.7<br>Fri, Feb 01 (Q1)\", \"Large Data<br>866.373<br>Sat, Feb 02 (Q1)\", \"Large Data<br>1148.129<br>Sun, Feb 03 (Q1)\", \"Large Data<br>1028.205<br>Mon, Feb 04 (Q1)\", \"Large Data<br>901.735<br>Tue, Feb 05 (Q1)\", \"Large Data<br>1301.245<br>Wed, Feb 06 (Q1)\", \"Large Data<br>1099.913<br>Thu, Feb 07 (Q1)\", \"Large Data<br>1200.523<br>Fri, Feb 08 (Q1)\", \"Large Data<br>1040.495<br>Sat, Feb 09 (Q1)\", \"Large Data<br>907.947<br>Sun, Feb 10 (Q1)\", \"Large Data<br>493.479<br>Mon, Feb 11 (Q1)\", \"Large Data<br>787.156<br>Tue, Feb 12 (Q1)\", \"Large Data<br>662.264<br>Wed, Feb 13 (Q1)\", \"Large Data<br>663.961<br>Thu, Feb 14 (Q1)\", \"Large Data<br>911.783<br>Fri, Feb 15 (Q1)\", \"Large Data<br>978.45<br>Sat, Feb 16 (Q1)\", \"Large Data<br>1603.067<br>Sun, Feb 17 (Q1)\", \"Large Data<br>1315.668<br>Mon, Feb 18 (Q1)\", \"Large Data<br>835.108<br>Tue, Feb 19 (Q1)\", \"Large Data<br>911.341<br>Wed, Feb 20 (Q1)\", \"Large Data<br>1775.28<br>Thu, Feb 21 (Q1)\", \"Large Data<br>1557.771<br>Fri, Feb 22 (Q1)\", \"Large Data<br>912.247<br>Sat, Feb 23 (Q1)\", \"Large Data<br>1586.733<br>Sun, Feb 24 (Q1)\", \"Large Data<br>858.311<br>Mon, Feb 25 (Q1)\", \"Large Data<br>776.102<br>Tue, Feb 26 (Q1)\", \"Large Data<br>1120.865<br>Wed, Feb 27 (Q1)\", \"Large Data<br>1431.773<br>Thu, Feb 28 (Q1)\", \"Large Data<br>988.458<br>Fri, Mar 01 (Q1)\", \"Large Data<br>1119.05<br>Sat, Mar 02 (Q1)\", \"Large Data<br>1087.587<br>Sun, Mar 03 (Q1)\", \"Large Data<br>1130.093<br>Mon, Mar 04 (Q1)\", \"Large Data<br>1007.552<br>Tue, Mar 05 (Q1)\", \"Large Data<br>1532.781<br>Wed, Mar 06 (Q1)\", \"Large Data<br>555.764<br>Thu, Mar 07 (Q1)\", \"Large Data<br>662.849<br>Fri, Mar 08 (Q1)\", \"Large Data<br>1116.399<br>Sat, Mar 09 (Q1)\", \"Large Data<br>859.745<br>Sun, Mar 10 (Q1)\", \"Large Data<br>807.721<br>Mon, Mar 11 (Q1)\", \"Large Data<br>506.207<br>Tue, Mar 12 (Q1)\", \"Large Data<br>764.588<br>Wed, Mar 13 (Q1)\", \"Large Data<br>801.994<br>Thu, Mar 14 (Q1)\", \"Large Data<br>1178.715<br>Fri, Mar 15 (Q1)\", \"Large Data<br>1134.471<br>Sat, Mar 16 (Q1)\", \"Large Data<br>730.423<br>Sun, Mar 17 (Q1)\", \"Large Data<br>954.349<br>Mon, Mar 18 (Q1)\", \"Large Data<br>1112.566<br>Tue, Mar 19 (Q1)\", \"Large Data<br>787.545<br>Wed, Mar 20 (Q1)\", \"Large Data<br>939.918<br>Thu, Mar 21 (Q1)\", \"Large Data<br>674.26<br>Fri, Mar 22 (Q1)\", \"Large Data<br>1399.94<br>Sat, Mar 23 (Q1)\", \"Large Data<br>1267.995<br>Sun, Mar 24 (Q1)\", \"Large Data<br>861.821<br>Mon, Mar 25 (Q1)\", \"Large Data<br>1175.318<br>Tue, Mar 26 (Q1)\", \"Large Data<br>735.555<br>Wed, Mar 27 (Q1)\", \"Large Data<br>522.36<br>Thu, Mar 28 (Q1)\", \"Large Data<br>849.306<br>Fri, Mar 29 (Q1)\", \"Large Data<br>797.177<br>Sat, Mar 30 (Q1)\", \"Large Data<br>945.123<br>Sun, Mar 31 (Q1)\", \"Large Data<br>801.716<br>Mon, Apr 01 (Q2)\", \"Large Data<br>1033.474<br>Tue, Apr 02 (Q2)\", \"Large Data<br>891.121<br>Wed, Apr 03 (Q2)\", \"Large Data<br>757.377<br>Thu, Apr 04 (Q2)\", \"Large Data<br>865.699<br>Fri, Apr 05 (Q2)\", \"Large Data<br>820.906<br>Sat, Apr 06 (Q2)\", \"Large Data<br>1413.502<br>Sun, Apr 07 (Q2)\", \"Large Data<br>1043.071<br>Mon, Apr 08 (Q2)\", \"Large Data<br>721.448<br>Tue, Apr 09 (Q2)\", \"Large Data<br>516.462<br>Wed, Apr 10 (Q2)\", \"Large Data<br>1115.486<br>Thu, Apr 11 (Q2)\"], \"x\": [\"2019-01-01\", \"2019-01-02\", \"2019-01-03\", \"2019-01-04\", \"2019-01-05\", \"2019-01-06\", \"2019-01-07\", \"2019-01-08\", \"2019-01-09\", \"2019-01-10\", \"2019-01-11\", \"2019-01-12\", \"2019-01-13\", \"2019-01-14\", \"2019-01-15\", \"2019-01-16\", \"2019-01-17\", \"2019-01-18\", \"2019-01-19\", \"2019-01-20\", \"2019-01-21\", \"2019-01-22\", \"2019-01-23\", \"2019-01-24\", \"2019-01-25\", \"2019-01-26\", \"2019-01-27\", \"2019-01-28\", \"2019-01-29\", \"2019-01-30\", \"2019-01-31\", \"2019-02-01\", \"2019-02-02\", \"2019-02-03\", \"2019-02-04\", \"2019-02-05\", \"2019-02-06\", \"2019-02-07\", \"2019-02-08\", \"2019-02-09\", \"2019-02-10\", \"2019-02-11\", \"2019-02-12\", \"2019-02-13\", \"2019-02-14\", \"2019-02-15\", \"2019-02-16\", \"2019-02-17\", \"2019-02-18\", \"2019-02-19\", \"2019-02-20\", \"2019-02-21\", \"2019-02-22\", \"2019-02-23\", \"2019-02-24\", \"2019-02-25\", \"2019-02-26\", \"2019-02-27\", \"2019-02-28\", \"2019-03-01\", \"2019-03-02\", \"2019-03-03\", \"2019-03-04\", \"2019-03-05\", \"2019-03-06\", \"2019-03-07\", \"2019-03-08\", \"2019-03-09\", \"2019-03-10\", \"2019-03-11\", \"2019-03-12\", \"2019-03-13\", \"2019-03-14\", \"2019-03-15\", \"2019-03-16\", \"2019-03-17\", \"2019-03-18\", \"2019-03-19\", \"2019-03-20\", \"2019-03-21\", \"2019-03-22\", \"2019-03-23\", \"2019-03-24\", \"2019-03-25\", \"2019-03-26\", \"2019-03-27\", \"2019-03-28\", \"2019-03-29\", \"2019-03-30\", \"2019-03-31\", \"2019-04-01\", \"2019-04-02\", \"2019-04-03\", \"2019-04-04\", \"2019-04-05\", \"2019-04-06\", \"2019-04-07\", \"2019-04-08\", \"2019-04-09\", \"2019-04-10\", \"2019-04-11\"], \"y\": [1117.333763490158, 822.9752384941003, 1256.8928329990952, 1119.8152256409246, 854.4182828346645, 1387.668406488907, 1159.4488298445895, 411.1604449965672, 1072.743633965033, 778.2396207777863, 942.1073562607635, 1148.7205119210876, 1074.2285503474511, 958.6139725643802, 469.9298296211265, 1098.1854085879866, 659.3576051948233, 872.347672037852, 962.0869197242401, 923.0918098038737, 688.2913093436803, 830.3558010178955, 1115.3916979390558, 1389.6383833206792, 727.4240962384321, 598.344081365676, 957.584863320467, 1142.2802115047846, 640.1770900390788, 1343.3523823644616, 1096.7424383337257, 1195.7002520102124, 866.3730101021617, 1148.1290348472237, 1028.2052096468374, 901.7347567964874, 1301.2445854409495, 1099.9129070725603, 1200.5225343525294, 1040.495236785262, 907.946714208665, 493.47886761574443, 787.1561019461863, 662.2641601859922, 663.961054401737, 911.7831057145809, 978.4497433820935, 1603.0666143620624, 1315.6677015497376, 835.1083857477977, 911.3412987019942, 1775.2802908110607, 1557.770692529372, 912.2466411692011, 1586.732841943314, 858.310800383497, 776.102040181031, 1120.8650824210229, 1431.7727946337839, 988.4583212168365, 1119.050038564176, 1087.5866219485017, 1130.0932558674915, 1007.552063374147, 1532.7813303219823, 555.7637696245878, 662.849349022963, 1116.3992399229057, 859.7453929436055, 807.7205474864379, 506.2073545375376, 764.5877780499023, 801.9941162558263, 1178.7148413208213, 1134.4706733787527, 730.4232845266149, 954.3486672919165, 1112.5661093011406, 787.545471521851, 939.9176407287607, 674.2597144257056, 1399.940221661623, 1267.9951587623334, 861.8206796307018, 1175.3184679712735, 735.5551451358247, 522.3598616554542, 849.3060189996354, 797.1769666731885, 945.1234649608002, 801.7162488286936, 1033.4744790991642, 891.12077339287, 757.3771777211305, 865.6987882706388, 820.9058485870225, 1413.5018227441014, 1043.070695554149, 721.4475288275348, 516.4618999875272, 1115.4859630879178], \"yaxis\": \"y2\", \"type\": \"scatter\", \"uid\": \"59c44bcb-82d7-4621-a69d-cbdf26167807\"}], {\"hovermode\": \"x\", \"plot_bgcolor\": \"rgb(229, 229, 229)\", \"title\": \"<b>Random Data</b>\", \"xaxis\": {\"gridcolor\": \"rgb(255,255,255)\", \"tickangle\": 30, \"title\": \"\", \"zerolinecolor\": \"rgb(255,255,255)\"}, \"yaxis\": {\"gridcolor\": \"rgb(255,255,255)\", \"title\": \"Smaller Random Values\", \"zerolinecolor\": \"rgb(255,255,255)\"}, \"yaxis2\": {\"gridcolor\": \"rgb(255,255,255)\", \"overlaying\": \"y\", \"side\": \"right\", \"title\": \"Larger Random Values\", \"zerolinecolor\": \"rgb(255,255,255)\"}}, {\"showLink\": true, \"linkText\": \"Export to plot.ly\", \"plotlyServerURL\": \"https://plot.ly\"})});</script><script type=\"text/javascript\">window.addEventListener(\"resize\", function(){window._Plotly.Plots.resize(document.getElementById(\"3e63e594-60d8-4970-a3c3-48f47ef60cfd\"));});</script>"
      ]
     },
     "metadata": {},
     "output_type": "display_data"
    }
   ],
   "source": [
    "args['alt_trace_cols'] = ['largedata']\n",
    "args['ylab'] = 'Smaller Random Values'\n",
    "args['y2lab'] = 'Larger Random Values'\n",
    "\n",
    "fig = lineplot.create_graph(**args)"
   ]
  },
  {
   "cell_type": "markdown",
   "metadata": {},
   "source": [
    "Now `smalldata` and `largedata` are more easily comparable."
   ]
  },
  {
   "cell_type": "markdown",
   "metadata": {},
   "source": [
    "# Create Barplot with Line Overlay"
   ]
  },
  {
   "cell_type": "markdown",
   "metadata": {},
   "source": [
    "Sometimes it is desirable to have multiple graph types on the same graph, for example a barplot with a line graph.\n",
    "\n",
    "Let's first build a bar graph from the first example:"
   ]
  },
  {
   "cell_type": "code",
   "execution_count": 74,
   "metadata": {},
   "outputs": [],
   "source": [
    "from rapid_plotly import barplot"
   ]
  },
  {
   "cell_type": "code",
   "execution_count": 75,
   "metadata": {},
   "outputs": [
    {
     "name": "stdout",
     "output_type": "stream",
     "text": [
      "(32, 11)\n"
     ]
    },
    {
     "data": {
      "text/html": [
       "<div>\n",
       "<style scoped>\n",
       "    .dataframe tbody tr th:only-of-type {\n",
       "        vertical-align: middle;\n",
       "    }\n",
       "\n",
       "    .dataframe tbody tr th {\n",
       "        vertical-align: top;\n",
       "    }\n",
       "\n",
       "    .dataframe thead th {\n",
       "        text-align: right;\n",
       "    }\n",
       "</style>\n",
       "<table border=\"1\" class=\"dataframe\">\n",
       "  <thead>\n",
       "    <tr style=\"text-align: right;\">\n",
       "      <th></th>\n",
       "      <th>mpg</th>\n",
       "      <th>cyl</th>\n",
       "      <th>disp</th>\n",
       "      <th>hp</th>\n",
       "      <th>drat</th>\n",
       "      <th>wt</th>\n",
       "      <th>qsec</th>\n",
       "      <th>vs</th>\n",
       "      <th>am</th>\n",
       "      <th>gear</th>\n",
       "      <th>carb</th>\n",
       "    </tr>\n",
       "  </thead>\n",
       "  <tbody>\n",
       "    <tr>\n",
       "      <th>0</th>\n",
       "      <td>21.0</td>\n",
       "      <td>6</td>\n",
       "      <td>160.0</td>\n",
       "      <td>110</td>\n",
       "      <td>3.90</td>\n",
       "      <td>2.620</td>\n",
       "      <td>16.46</td>\n",
       "      <td>0</td>\n",
       "      <td>1</td>\n",
       "      <td>4</td>\n",
       "      <td>4</td>\n",
       "    </tr>\n",
       "    <tr>\n",
       "      <th>1</th>\n",
       "      <td>21.0</td>\n",
       "      <td>6</td>\n",
       "      <td>160.0</td>\n",
       "      <td>110</td>\n",
       "      <td>3.90</td>\n",
       "      <td>2.875</td>\n",
       "      <td>17.02</td>\n",
       "      <td>0</td>\n",
       "      <td>1</td>\n",
       "      <td>4</td>\n",
       "      <td>4</td>\n",
       "    </tr>\n",
       "    <tr>\n",
       "      <th>2</th>\n",
       "      <td>22.8</td>\n",
       "      <td>4</td>\n",
       "      <td>108.0</td>\n",
       "      <td>93</td>\n",
       "      <td>3.85</td>\n",
       "      <td>2.320</td>\n",
       "      <td>18.61</td>\n",
       "      <td>1</td>\n",
       "      <td>1</td>\n",
       "      <td>4</td>\n",
       "      <td>1</td>\n",
       "    </tr>\n",
       "    <tr>\n",
       "      <th>3</th>\n",
       "      <td>21.4</td>\n",
       "      <td>6</td>\n",
       "      <td>258.0</td>\n",
       "      <td>110</td>\n",
       "      <td>3.08</td>\n",
       "      <td>3.215</td>\n",
       "      <td>19.44</td>\n",
       "      <td>1</td>\n",
       "      <td>0</td>\n",
       "      <td>3</td>\n",
       "      <td>1</td>\n",
       "    </tr>\n",
       "    <tr>\n",
       "      <th>4</th>\n",
       "      <td>18.7</td>\n",
       "      <td>8</td>\n",
       "      <td>360.0</td>\n",
       "      <td>175</td>\n",
       "      <td>3.15</td>\n",
       "      <td>3.440</td>\n",
       "      <td>17.02</td>\n",
       "      <td>0</td>\n",
       "      <td>0</td>\n",
       "      <td>3</td>\n",
       "      <td>2</td>\n",
       "    </tr>\n",
       "  </tbody>\n",
       "</table>\n",
       "</div>"
      ],
      "text/plain": [
       "    mpg  cyl   disp   hp  drat     wt   qsec  vs  am  gear  carb\n",
       "0  21.0    6  160.0  110  3.90  2.620  16.46   0   1     4     4\n",
       "1  21.0    6  160.0  110  3.90  2.875  17.02   0   1     4     4\n",
       "2  22.8    4  108.0   93  3.85  2.320  18.61   1   1     4     1\n",
       "3  21.4    6  258.0  110  3.08  3.215  19.44   1   0     3     1\n",
       "4  18.7    8  360.0  175  3.15  3.440  17.02   0   0     3     2"
      ]
     },
     "execution_count": 75,
     "metadata": {},
     "output_type": "execute_result"
    }
   ],
   "source": [
    "# load example mtcars data \n",
    "df = pd.read_csv('mtcars.csv')\n",
    "print(df.shape)\n",
    "df.head()"
   ]
  },
  {
   "cell_type": "code",
   "execution_count": 76,
   "metadata": {},
   "outputs": [],
   "source": [
    "# create graph data \n",
    "in_data = pd.DataFrame(df.groupby('cyl').mean()['mpg'])\n",
    "in_data.index = in_data.index.astype(int).astype(str) + ' Cylinders'\n",
    "\n",
    "# generate names\n",
    "l = string.ascii_lowercase\n",
    "names = in_data.copy()\n",
    "f = lambda: l[np.random.randint(0,len(l))]\n",
    "\n",
    "for x in names.index:\n",
    "    names.loc[x, 'mpg'] = f()+f()\n",
    "    \n",
    "# generate error bars data\n",
    "errors = in_data.copy()\n",
    "errors['mpg'] = 2.5"
   ]
  },
  {
   "cell_type": "code",
   "execution_count": 77,
   "metadata": {},
   "outputs": [
    {
     "data": {
      "text/html": [
       "<script type=\"text/javascript\">window.PlotlyConfig = {MathJaxConfig: 'local'};</script><script type=\"text/javascript\">if (window.MathJax) {MathJax.Hub.Config({SVG: {font: \"STIX-Web\"}});}</script><script>requirejs.config({paths: { 'plotly': ['https://cdn.plot.ly/plotly-latest.min']},});if(!window._Plotly) {require(['plotly'],function(plotly) {window._Plotly=plotly;});}</script>"
      ],
      "text/vnd.plotly.v1+html": [
       "<script type=\"text/javascript\">window.PlotlyConfig = {MathJaxConfig: 'local'};</script><script type=\"text/javascript\">if (window.MathJax) {MathJax.Hub.Config({SVG: {font: \"STIX-Web\"}});}</script><script>requirejs.config({paths: { 'plotly': ['https://cdn.plot.ly/plotly-latest.min']},});if(!window._Plotly) {require(['plotly'],function(plotly) {window._Plotly=plotly;});}</script>"
      ]
     },
     "metadata": {},
     "output_type": "display_data"
    },
    {
     "data": {
      "application/vnd.plotly.v1+json": {
       "config": {
        "linkText": "Export to plot.ly",
        "plotlyServerURL": "https://plot.ly",
        "showLink": true
       },
       "data": [
        {
         "error_y": {
          "array": [
           2.5,
           2.5,
           2.5
          ],
          "thickness": 4,
          "type": "data",
          "visible": true,
          "width": 5
         },
         "marker": {
          "color": "#232C65"
         },
         "name": "mpg",
         "text": [
          "qj",
          "cb",
          "qs"
         ],
         "type": "bar",
         "uid": "0e203cab-5a1d-4448-89c2-2ead6d8fa834",
         "x": [
          "4 Cylinders",
          "6 Cylinders",
          "8 Cylinders"
         ],
         "y": [
          26.663636363636364,
          19.74285714285714,
          15.100000000000003
         ]
        }
       ],
       "layout": {
        "hovermode": "x",
        "plot_bgcolor": "rgb(229, 229, 229)",
        "title": "<b>Fuel Mileage by Number of Cylinders</b>",
        "xaxis": {
         "gridcolor": "rgb(255,255,255)",
         "tickangle": 30,
         "title": "",
         "zerolinecolor": "rgb(255,255,255)"
        },
        "yaxis": {
         "gridcolor": "rgb(255,255,255)",
         "title": "Miles per Gallon",
         "zerolinecolor": "rgb(255,255,255)"
        }
       }
      },
      "text/html": [
       "<div id=\"f30b6071-bc47-4f5d-9e6a-d8dedfdb380f\" style=\"height: 525px; width: 100%;\" class=\"plotly-graph-div\"></div><script type=\"text/javascript\">require([\"plotly\"], function(Plotly) { window.PLOTLYENV=window.PLOTLYENV || {};window.PLOTLYENV.BASE_URL=\"https://plot.ly\";Plotly.newPlot(\"f30b6071-bc47-4f5d-9e6a-d8dedfdb380f\", [{\"error_y\": {\"array\": [2.5, 2.5, 2.5], \"thickness\": 4, \"type\": \"data\", \"visible\": true, \"width\": 5}, \"marker\": {\"color\": \"#232C65\"}, \"name\": \"mpg\", \"text\": [\"qj\", \"cb\", \"qs\"], \"x\": [\"4 Cylinders\", \"6 Cylinders\", \"8 Cylinders\"], \"y\": [26.663636363636364, 19.74285714285714, 15.100000000000003], \"type\": \"bar\", \"uid\": \"0e203cab-5a1d-4448-89c2-2ead6d8fa834\"}], {\"hovermode\": \"x\", \"plot_bgcolor\": \"rgb(229, 229, 229)\", \"title\": \"<b>Fuel Mileage by Number of Cylinders</b>\", \"xaxis\": {\"gridcolor\": \"rgb(255,255,255)\", \"tickangle\": 30, \"title\": \"\", \"zerolinecolor\": \"rgb(255,255,255)\"}, \"yaxis\": {\"gridcolor\": \"rgb(255,255,255)\", \"title\": \"Miles per Gallon\", \"zerolinecolor\": \"rgb(255,255,255)\"}}, {\"showLink\": true, \"linkText\": \"Export to plot.ly\", \"plotlyServerURL\": \"https://plot.ly\"})});</script><script type=\"text/javascript\">window.addEventListener(\"resize\", function(){window._Plotly.Plots.resize(document.getElementById(\"f30b6071-bc47-4f5d-9e6a-d8dedfdb380f\"));});</script>"
      ],
      "text/vnd.plotly.v1+html": [
       "<div id=\"f30b6071-bc47-4f5d-9e6a-d8dedfdb380f\" style=\"height: 525px; width: 100%;\" class=\"plotly-graph-div\"></div><script type=\"text/javascript\">require([\"plotly\"], function(Plotly) { window.PLOTLYENV=window.PLOTLYENV || {};window.PLOTLYENV.BASE_URL=\"https://plot.ly\";Plotly.newPlot(\"f30b6071-bc47-4f5d-9e6a-d8dedfdb380f\", [{\"error_y\": {\"array\": [2.5, 2.5, 2.5], \"thickness\": 4, \"type\": \"data\", \"visible\": true, \"width\": 5}, \"marker\": {\"color\": \"#232C65\"}, \"name\": \"mpg\", \"text\": [\"qj\", \"cb\", \"qs\"], \"x\": [\"4 Cylinders\", \"6 Cylinders\", \"8 Cylinders\"], \"y\": [26.663636363636364, 19.74285714285714, 15.100000000000003], \"type\": \"bar\", \"uid\": \"0e203cab-5a1d-4448-89c2-2ead6d8fa834\"}], {\"hovermode\": \"x\", \"plot_bgcolor\": \"rgb(229, 229, 229)\", \"title\": \"<b>Fuel Mileage by Number of Cylinders</b>\", \"xaxis\": {\"gridcolor\": \"rgb(255,255,255)\", \"tickangle\": 30, \"title\": \"\", \"zerolinecolor\": \"rgb(255,255,255)\"}, \"yaxis\": {\"gridcolor\": \"rgb(255,255,255)\", \"title\": \"Miles per Gallon\", \"zerolinecolor\": \"rgb(255,255,255)\"}}, {\"showLink\": true, \"linkText\": \"Export to plot.ly\", \"plotlyServerURL\": \"https://plot.ly\"})});</script><script type=\"text/javascript\">window.addEventListener(\"resize\", function(){window._Plotly.Plots.resize(document.getElementById(\"f30b6071-bc47-4f5d-9e6a-d8dedfdb380f\"));});</script>"
      ]
     },
     "metadata": {},
     "output_type": "display_data"
    }
   ],
   "source": [
    "# build graph args \n",
    "args = dict(\n",
    "    in_data=in_data,\n",
    "    names=names,\n",
    "    errors=errors,\n",
    "    title='<b>Fuel Mileage by Number of Cylinders</b>',\n",
    "    ylab='Miles per Gallon',\n",
    "    xlab='',\n",
    ")\n",
    "\n",
    "fig = barplot.create_graph(**args)"
   ]
  },
  {
   "cell_type": "markdown",
   "metadata": {},
   "source": [
    "Now let's fake up some data to show the lineplot example:"
   ]
  },
  {
   "cell_type": "code",
   "execution_count": 78,
   "metadata": {},
   "outputs": [
    {
     "data": {
      "text/html": [
       "<div>\n",
       "<style scoped>\n",
       "    .dataframe tbody tr th:only-of-type {\n",
       "        vertical-align: middle;\n",
       "    }\n",
       "\n",
       "    .dataframe tbody tr th {\n",
       "        vertical-align: top;\n",
       "    }\n",
       "\n",
       "    .dataframe thead th {\n",
       "        text-align: right;\n",
       "    }\n",
       "</style>\n",
       "<table border=\"1\" class=\"dataframe\">\n",
       "  <thead>\n",
       "    <tr style=\"text-align: right;\">\n",
       "      <th></th>\n",
       "      <th>altdata</th>\n",
       "    </tr>\n",
       "  </thead>\n",
       "  <tbody>\n",
       "    <tr>\n",
       "      <th>4 Cylinders</th>\n",
       "      <td>100</td>\n",
       "    </tr>\n",
       "    <tr>\n",
       "      <th>6 Cylinders</th>\n",
       "      <td>125</td>\n",
       "    </tr>\n",
       "    <tr>\n",
       "      <th>8 Cylinders</th>\n",
       "      <td>75</td>\n",
       "    </tr>\n",
       "  </tbody>\n",
       "</table>\n",
       "</div>"
      ],
      "text/plain": [
       "             altdata\n",
       "4 Cylinders      100\n",
       "6 Cylinders      125\n",
       "8 Cylinders       75"
      ]
     },
     "execution_count": 78,
     "metadata": {},
     "output_type": "execute_result"
    }
   ],
   "source": [
    "# copy in_data and add random numbers\n",
    "in_data_alt = in_data.rename(columns={'mpg':'altdata'}).copy()\n",
    "in_data_alt['altdata'] = [100, 125, 75]\n",
    "\n",
    "in_data_alt"
   ]
  },
  {
   "cell_type": "markdown",
   "metadata": {},
   "source": [
    "... and build a line trace using `create_trace` form helpers:"
   ]
  },
  {
   "cell_type": "code",
   "execution_count": 79,
   "metadata": {},
   "outputs": [],
   "source": [
    "from rapid_plotly import helpers"
   ]
  },
  {
   "cell_type": "code",
   "execution_count": 80,
   "metadata": {},
   "outputs": [],
   "source": [
    "aux_traces = [helpers.simple_line_trace(in_data_alt, yaxis='y2')]\n",
    "args['alt_y'] = True\n",
    "args['aux_traces'] = aux_traces"
   ]
  },
  {
   "cell_type": "code",
   "execution_count": 81,
   "metadata": {},
   "outputs": [
    {
     "data": {
      "text/html": [
       "<script type=\"text/javascript\">window.PlotlyConfig = {MathJaxConfig: 'local'};</script><script type=\"text/javascript\">if (window.MathJax) {MathJax.Hub.Config({SVG: {font: \"STIX-Web\"}});}</script><script>requirejs.config({paths: { 'plotly': ['https://cdn.plot.ly/plotly-latest.min']},});if(!window._Plotly) {require(['plotly'],function(plotly) {window._Plotly=plotly;});}</script>"
      ],
      "text/vnd.plotly.v1+html": [
       "<script type=\"text/javascript\">window.PlotlyConfig = {MathJaxConfig: 'local'};</script><script type=\"text/javascript\">if (window.MathJax) {MathJax.Hub.Config({SVG: {font: \"STIX-Web\"}});}</script><script>requirejs.config({paths: { 'plotly': ['https://cdn.plot.ly/plotly-latest.min']},});if(!window._Plotly) {require(['plotly'],function(plotly) {window._Plotly=plotly;});}</script>"
      ]
     },
     "metadata": {},
     "output_type": "display_data"
    },
    {
     "data": {
      "application/vnd.plotly.v1+json": {
       "config": {
        "linkText": "Export to plot.ly",
        "plotlyServerURL": "https://plot.ly",
        "showLink": true
       },
       "data": [
        {
         "error_y": {
          "array": [
           2.5,
           2.5,
           2.5
          ],
          "thickness": 4,
          "type": "data",
          "visible": true,
          "width": 5
         },
         "marker": {
          "color": "#232C65"
         },
         "name": "mpg",
         "text": [
          "qj",
          "cb",
          "qs"
         ],
         "type": "bar",
         "uid": "f4ab17b7-4b37-4ea0-85bd-f7f4870b851d",
         "x": [
          "4 Cylinders",
          "6 Cylinders",
          "8 Cylinders"
         ],
         "y": [
          26.663636363636364,
          19.74285714285714,
          15.100000000000003
         ]
        },
        {
         "marker": {
          "color": "#E4572E"
         },
         "mode": "lines",
         "name": "linetrace",
         "type": "scatter",
         "uid": "3c7d76f7-c45f-4abc-a434-c7794f5c09ad",
         "x": [
          "4 Cylinders",
          "6 Cylinders",
          "8 Cylinders"
         ],
         "y": [
          100,
          125,
          75
         ],
         "yaxis": "y2"
        }
       ],
       "layout": {
        "hovermode": "x",
        "plot_bgcolor": "rgb(229, 229, 229)",
        "title": "<b>Fuel Mileage by Number of Cylinders</b>",
        "xaxis": {
         "gridcolor": "rgb(255,255,255)",
         "tickangle": 30,
         "title": "",
         "zerolinecolor": "rgb(255,255,255)"
        },
        "yaxis": {
         "gridcolor": "rgb(255,255,255)",
         "title": "Miles per Gallon",
         "zerolinecolor": "rgb(255,255,255)"
        },
        "yaxis2": {
         "gridcolor": "rgb(255,255,255)",
         "overlaying": "y",
         "side": "right",
         "title": "y2lab",
         "zerolinecolor": "rgb(255,255,255)"
        }
       }
      },
      "text/html": [
       "<div id=\"02dbb250-7d2a-494b-a2d5-b8bbfd0797ee\" style=\"height: 525px; width: 100%;\" class=\"plotly-graph-div\"></div><script type=\"text/javascript\">require([\"plotly\"], function(Plotly) { window.PLOTLYENV=window.PLOTLYENV || {};window.PLOTLYENV.BASE_URL=\"https://plot.ly\";Plotly.newPlot(\"02dbb250-7d2a-494b-a2d5-b8bbfd0797ee\", [{\"error_y\": {\"array\": [2.5, 2.5, 2.5], \"thickness\": 4, \"type\": \"data\", \"visible\": true, \"width\": 5}, \"marker\": {\"color\": \"#232C65\"}, \"name\": \"mpg\", \"text\": [\"qj\", \"cb\", \"qs\"], \"x\": [\"4 Cylinders\", \"6 Cylinders\", \"8 Cylinders\"], \"y\": [26.663636363636364, 19.74285714285714, 15.100000000000003], \"type\": \"bar\", \"uid\": \"f4ab17b7-4b37-4ea0-85bd-f7f4870b851d\"}, {\"marker\": {\"color\": \"#E4572E\"}, \"mode\": \"lines\", \"name\": \"linetrace\", \"x\": [\"4 Cylinders\", \"6 Cylinders\", \"8 Cylinders\"], \"y\": [100, 125, 75], \"yaxis\": \"y2\", \"type\": \"scatter\", \"uid\": \"3c7d76f7-c45f-4abc-a434-c7794f5c09ad\"}], {\"hovermode\": \"x\", \"plot_bgcolor\": \"rgb(229, 229, 229)\", \"title\": \"<b>Fuel Mileage by Number of Cylinders</b>\", \"xaxis\": {\"gridcolor\": \"rgb(255,255,255)\", \"tickangle\": 30, \"title\": \"\", \"zerolinecolor\": \"rgb(255,255,255)\"}, \"yaxis\": {\"gridcolor\": \"rgb(255,255,255)\", \"title\": \"Miles per Gallon\", \"zerolinecolor\": \"rgb(255,255,255)\"}, \"yaxis2\": {\"gridcolor\": \"rgb(255,255,255)\", \"overlaying\": \"y\", \"side\": \"right\", \"title\": \"y2lab\", \"zerolinecolor\": \"rgb(255,255,255)\"}}, {\"showLink\": true, \"linkText\": \"Export to plot.ly\", \"plotlyServerURL\": \"https://plot.ly\"})});</script><script type=\"text/javascript\">window.addEventListener(\"resize\", function(){window._Plotly.Plots.resize(document.getElementById(\"02dbb250-7d2a-494b-a2d5-b8bbfd0797ee\"));});</script>"
      ],
      "text/vnd.plotly.v1+html": [
       "<div id=\"02dbb250-7d2a-494b-a2d5-b8bbfd0797ee\" style=\"height: 525px; width: 100%;\" class=\"plotly-graph-div\"></div><script type=\"text/javascript\">require([\"plotly\"], function(Plotly) { window.PLOTLYENV=window.PLOTLYENV || {};window.PLOTLYENV.BASE_URL=\"https://plot.ly\";Plotly.newPlot(\"02dbb250-7d2a-494b-a2d5-b8bbfd0797ee\", [{\"error_y\": {\"array\": [2.5, 2.5, 2.5], \"thickness\": 4, \"type\": \"data\", \"visible\": true, \"width\": 5}, \"marker\": {\"color\": \"#232C65\"}, \"name\": \"mpg\", \"text\": [\"qj\", \"cb\", \"qs\"], \"x\": [\"4 Cylinders\", \"6 Cylinders\", \"8 Cylinders\"], \"y\": [26.663636363636364, 19.74285714285714, 15.100000000000003], \"type\": \"bar\", \"uid\": \"f4ab17b7-4b37-4ea0-85bd-f7f4870b851d\"}, {\"marker\": {\"color\": \"#E4572E\"}, \"mode\": \"lines\", \"name\": \"linetrace\", \"x\": [\"4 Cylinders\", \"6 Cylinders\", \"8 Cylinders\"], \"y\": [100, 125, 75], \"yaxis\": \"y2\", \"type\": \"scatter\", \"uid\": \"3c7d76f7-c45f-4abc-a434-c7794f5c09ad\"}], {\"hovermode\": \"x\", \"plot_bgcolor\": \"rgb(229, 229, 229)\", \"title\": \"<b>Fuel Mileage by Number of Cylinders</b>\", \"xaxis\": {\"gridcolor\": \"rgb(255,255,255)\", \"tickangle\": 30, \"title\": \"\", \"zerolinecolor\": \"rgb(255,255,255)\"}, \"yaxis\": {\"gridcolor\": \"rgb(255,255,255)\", \"title\": \"Miles per Gallon\", \"zerolinecolor\": \"rgb(255,255,255)\"}, \"yaxis2\": {\"gridcolor\": \"rgb(255,255,255)\", \"overlaying\": \"y\", \"side\": \"right\", \"title\": \"y2lab\", \"zerolinecolor\": \"rgb(255,255,255)\"}}, {\"showLink\": true, \"linkText\": \"Export to plot.ly\", \"plotlyServerURL\": \"https://plot.ly\"})});</script><script type=\"text/javascript\">window.addEventListener(\"resize\", function(){window._Plotly.Plots.resize(document.getElementById(\"02dbb250-7d2a-494b-a2d5-b8bbfd0797ee\"));});</script>"
      ]
     },
     "metadata": {},
     "output_type": "display_data"
    }
   ],
   "source": [
    "fig = barplot.create_graph(**args)"
   ]
  }
 ],
 "metadata": {
  "kernelspec": {
   "display_name": "Python 3",
   "language": "python",
   "name": "python3"
  },
  "language_info": {
   "codemirror_mode": {
    "name": "ipython",
    "version": 3
   },
   "file_extension": ".py",
   "mimetype": "text/x-python",
   "name": "python",
   "nbconvert_exporter": "python",
   "pygments_lexer": "ipython3",
   "version": "3.7.1"
  },
  "toc": {
   "base_numbering": 1,
   "nav_menu": {
    "height": "208px",
    "width": "210px"
   },
   "number_sections": true,
   "sideBar": true,
   "skip_h1_title": false,
   "title_cell": "Table of Contents",
   "title_sidebar": "Contents",
   "toc_cell": false,
   "toc_position": {},
   "toc_section_display": true,
   "toc_window_display": false
  }
 },
 "nbformat": 4,
 "nbformat_minor": 2
}
