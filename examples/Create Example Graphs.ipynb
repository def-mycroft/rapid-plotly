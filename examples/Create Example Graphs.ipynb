{
 "cells": [
  {
   "cell_type": "code",
   "execution_count": 1,
   "metadata": {},
   "outputs": [],
   "source": [
    "import pandas as pd\n",
    "import numpy as np\n",
    "import string"
   ]
  },
  {
   "cell_type": "markdown",
   "metadata": {},
   "source": [
    "# Load Data"
   ]
  },
  {
   "cell_type": "code",
   "execution_count": 2,
   "metadata": {},
   "outputs": [
    {
     "name": "stdout",
     "output_type": "stream",
     "text": [
      "(32, 11)\n"
     ]
    },
    {
     "data": {
      "text/html": [
       "<div>\n",
       "<style scoped>\n",
       "    .dataframe tbody tr th:only-of-type {\n",
       "        vertical-align: middle;\n",
       "    }\n",
       "\n",
       "    .dataframe tbody tr th {\n",
       "        vertical-align: top;\n",
       "    }\n",
       "\n",
       "    .dataframe thead th {\n",
       "        text-align: right;\n",
       "    }\n",
       "</style>\n",
       "<table border=\"1\" class=\"dataframe\">\n",
       "  <thead>\n",
       "    <tr style=\"text-align: right;\">\n",
       "      <th></th>\n",
       "      <th>mpg</th>\n",
       "      <th>cyl</th>\n",
       "      <th>disp</th>\n",
       "      <th>hp</th>\n",
       "      <th>drat</th>\n",
       "      <th>wt</th>\n",
       "      <th>qsec</th>\n",
       "      <th>vs</th>\n",
       "      <th>am</th>\n",
       "      <th>gear</th>\n",
       "      <th>carb</th>\n",
       "    </tr>\n",
       "  </thead>\n",
       "  <tbody>\n",
       "    <tr>\n",
       "      <th>0</th>\n",
       "      <td>21.0</td>\n",
       "      <td>6</td>\n",
       "      <td>160.0</td>\n",
       "      <td>110</td>\n",
       "      <td>3.90</td>\n",
       "      <td>2.620</td>\n",
       "      <td>16.46</td>\n",
       "      <td>0</td>\n",
       "      <td>1</td>\n",
       "      <td>4</td>\n",
       "      <td>4</td>\n",
       "    </tr>\n",
       "    <tr>\n",
       "      <th>1</th>\n",
       "      <td>21.0</td>\n",
       "      <td>6</td>\n",
       "      <td>160.0</td>\n",
       "      <td>110</td>\n",
       "      <td>3.90</td>\n",
       "      <td>2.875</td>\n",
       "      <td>17.02</td>\n",
       "      <td>0</td>\n",
       "      <td>1</td>\n",
       "      <td>4</td>\n",
       "      <td>4</td>\n",
       "    </tr>\n",
       "    <tr>\n",
       "      <th>2</th>\n",
       "      <td>22.8</td>\n",
       "      <td>4</td>\n",
       "      <td>108.0</td>\n",
       "      <td>93</td>\n",
       "      <td>3.85</td>\n",
       "      <td>2.320</td>\n",
       "      <td>18.61</td>\n",
       "      <td>1</td>\n",
       "      <td>1</td>\n",
       "      <td>4</td>\n",
       "      <td>1</td>\n",
       "    </tr>\n",
       "    <tr>\n",
       "      <th>3</th>\n",
       "      <td>21.4</td>\n",
       "      <td>6</td>\n",
       "      <td>258.0</td>\n",
       "      <td>110</td>\n",
       "      <td>3.08</td>\n",
       "      <td>3.215</td>\n",
       "      <td>19.44</td>\n",
       "      <td>1</td>\n",
       "      <td>0</td>\n",
       "      <td>3</td>\n",
       "      <td>1</td>\n",
       "    </tr>\n",
       "    <tr>\n",
       "      <th>4</th>\n",
       "      <td>18.7</td>\n",
       "      <td>8</td>\n",
       "      <td>360.0</td>\n",
       "      <td>175</td>\n",
       "      <td>3.15</td>\n",
       "      <td>3.440</td>\n",
       "      <td>17.02</td>\n",
       "      <td>0</td>\n",
       "      <td>0</td>\n",
       "      <td>3</td>\n",
       "      <td>2</td>\n",
       "    </tr>\n",
       "  </tbody>\n",
       "</table>\n",
       "</div>"
      ],
      "text/plain": [
       "    mpg  cyl   disp   hp  drat     wt   qsec  vs  am  gear  carb\n",
       "0  21.0    6  160.0  110  3.90  2.620  16.46   0   1     4     4\n",
       "1  21.0    6  160.0  110  3.90  2.875  17.02   0   1     4     4\n",
       "2  22.8    4  108.0   93  3.85  2.320  18.61   1   1     4     1\n",
       "3  21.4    6  258.0  110  3.08  3.215  19.44   1   0     3     1\n",
       "4  18.7    8  360.0  175  3.15  3.440  17.02   0   0     3     2"
      ]
     },
     "execution_count": 2,
     "metadata": {},
     "output_type": "execute_result"
    }
   ],
   "source": [
    "# load example mtcars data \n",
    "df = pd.read_csv('mtcars.csv')\n",
    "print(df.shape)\n",
    "df.head()"
   ]
  },
  {
   "cell_type": "markdown",
   "metadata": {},
   "source": [
    "# Create Simple Barplot"
   ]
  },
  {
   "cell_type": "code",
   "execution_count": 3,
   "metadata": {},
   "outputs": [],
   "source": [
    "from rapid_plotly import barplot"
   ]
  },
  {
   "cell_type": "markdown",
   "metadata": {},
   "source": [
    "A simple barplot can be created by passing three dataframes to `barplot.create_graph`:\n",
    "\n",
    "* `in_data` - the height of the bars\n",
    "* `names` - a dataframe containing the hover text for the bars, otherwise identical to `in_data`\n",
    "* `errors` - a dataframe containing the half-height of the error bars, otherwise identical to `in_data`"
   ]
  },
  {
   "cell_type": "code",
   "execution_count": 4,
   "metadata": {},
   "outputs": [
    {
     "name": "stdout",
     "output_type": "stream",
     "text": [
      "main data:\n"
     ]
    },
    {
     "data": {
      "text/html": [
       "<div>\n",
       "<style scoped>\n",
       "    .dataframe tbody tr th:only-of-type {\n",
       "        vertical-align: middle;\n",
       "    }\n",
       "\n",
       "    .dataframe tbody tr th {\n",
       "        vertical-align: top;\n",
       "    }\n",
       "\n",
       "    .dataframe thead th {\n",
       "        text-align: right;\n",
       "    }\n",
       "</style>\n",
       "<table border=\"1\" class=\"dataframe\">\n",
       "  <thead>\n",
       "    <tr style=\"text-align: right;\">\n",
       "      <th></th>\n",
       "      <th>mpg</th>\n",
       "    </tr>\n",
       "  </thead>\n",
       "  <tbody>\n",
       "    <tr>\n",
       "      <th>4 Cylinders</th>\n",
       "      <td>26.663636</td>\n",
       "    </tr>\n",
       "    <tr>\n",
       "      <th>6 Cylinders</th>\n",
       "      <td>19.742857</td>\n",
       "    </tr>\n",
       "    <tr>\n",
       "      <th>8 Cylinders</th>\n",
       "      <td>15.100000</td>\n",
       "    </tr>\n",
       "  </tbody>\n",
       "</table>\n",
       "</div>"
      ],
      "text/plain": [
       "                   mpg\n",
       "4 Cylinders  26.663636\n",
       "6 Cylinders  19.742857\n",
       "8 Cylinders  15.100000"
      ]
     },
     "metadata": {},
     "output_type": "display_data"
    },
    {
     "name": "stdout",
     "output_type": "stream",
     "text": [
      "names:\n"
     ]
    },
    {
     "data": {
      "text/html": [
       "<div>\n",
       "<style scoped>\n",
       "    .dataframe tbody tr th:only-of-type {\n",
       "        vertical-align: middle;\n",
       "    }\n",
       "\n",
       "    .dataframe tbody tr th {\n",
       "        vertical-align: top;\n",
       "    }\n",
       "\n",
       "    .dataframe thead th {\n",
       "        text-align: right;\n",
       "    }\n",
       "</style>\n",
       "<table border=\"1\" class=\"dataframe\">\n",
       "  <thead>\n",
       "    <tr style=\"text-align: right;\">\n",
       "      <th></th>\n",
       "      <th>mpg</th>\n",
       "    </tr>\n",
       "  </thead>\n",
       "  <tbody>\n",
       "    <tr>\n",
       "      <th>4 Cylinders</th>\n",
       "      <td>fx</td>\n",
       "    </tr>\n",
       "    <tr>\n",
       "      <th>6 Cylinders</th>\n",
       "      <td>lz</td>\n",
       "    </tr>\n",
       "    <tr>\n",
       "      <th>8 Cylinders</th>\n",
       "      <td>he</td>\n",
       "    </tr>\n",
       "  </tbody>\n",
       "</table>\n",
       "</div>"
      ],
      "text/plain": [
       "            mpg\n",
       "4 Cylinders  fx\n",
       "6 Cylinders  lz\n",
       "8 Cylinders  he"
      ]
     },
     "metadata": {},
     "output_type": "display_data"
    },
    {
     "name": "stdout",
     "output_type": "stream",
     "text": [
      "errors:\n"
     ]
    },
    {
     "data": {
      "text/html": [
       "<div>\n",
       "<style scoped>\n",
       "    .dataframe tbody tr th:only-of-type {\n",
       "        vertical-align: middle;\n",
       "    }\n",
       "\n",
       "    .dataframe tbody tr th {\n",
       "        vertical-align: top;\n",
       "    }\n",
       "\n",
       "    .dataframe thead th {\n",
       "        text-align: right;\n",
       "    }\n",
       "</style>\n",
       "<table border=\"1\" class=\"dataframe\">\n",
       "  <thead>\n",
       "    <tr style=\"text-align: right;\">\n",
       "      <th></th>\n",
       "      <th>mpg</th>\n",
       "    </tr>\n",
       "  </thead>\n",
       "  <tbody>\n",
       "    <tr>\n",
       "      <th>4 Cylinders</th>\n",
       "      <td>2.5</td>\n",
       "    </tr>\n",
       "    <tr>\n",
       "      <th>6 Cylinders</th>\n",
       "      <td>2.5</td>\n",
       "    </tr>\n",
       "    <tr>\n",
       "      <th>8 Cylinders</th>\n",
       "      <td>2.5</td>\n",
       "    </tr>\n",
       "  </tbody>\n",
       "</table>\n",
       "</div>"
      ],
      "text/plain": [
       "             mpg\n",
       "4 Cylinders  2.5\n",
       "6 Cylinders  2.5\n",
       "8 Cylinders  2.5"
      ]
     },
     "metadata": {},
     "output_type": "display_data"
    }
   ],
   "source": [
    "# create graph data \n",
    "in_data = pd.DataFrame(df.groupby('cyl').mean()['mpg'])\n",
    "in_data.index = in_data.index.astype(int).astype(str) + ' Cylinders'\n",
    "print('main data:')\n",
    "display(in_data.head())\n",
    "\n",
    "# generate names\n",
    "l = string.ascii_lowercase\n",
    "names = in_data.copy()\n",
    "f = lambda: l[np.random.randint(0,len(l))]\n",
    "\n",
    "for x in names.index:\n",
    "    names.loc[x, 'mpg'] = f()+f()\n",
    "    \n",
    "print('names:')\n",
    "display(names.head())\n",
    "\n",
    "# generate error bars data\n",
    "errors = in_data.copy()\n",
    "errors['mpg'] = 2.5\n",
    "print('errors:')\n",
    "display(errors.head())"
   ]
  },
  {
   "cell_type": "markdown",
   "metadata": {},
   "source": [
    "A simple graph can be quickly created to verify that the data is as expected:"
   ]
  },
  {
   "cell_type": "code",
   "execution_count": 5,
   "metadata": {},
   "outputs": [
    {
     "data": {
      "text/html": [
       "<script>requirejs.config({paths: { 'plotly': ['https://cdn.plot.ly/plotly-latest.min']},});if(!window.Plotly) {{require(['plotly'],function(plotly) {window.Plotly=plotly;});}}</script>"
      ],
      "text/vnd.plotly.v1+html": [
       "<script>requirejs.config({paths: { 'plotly': ['https://cdn.plot.ly/plotly-latest.min']},});if(!window.Plotly) {{require(['plotly'],function(plotly) {window.Plotly=plotly;});}}</script>"
      ]
     },
     "metadata": {},
     "output_type": "display_data"
    },
    {
     "data": {
      "application/vnd.plotly.v1+json": {
       "data": [
        {
         "marker": {
          "color": "#232C65"
         },
         "name": "mpg",
         "text": "mpg",
         "type": "bar",
         "uid": "6c1d9906-ec10-11e8-90c8-a0481cac4f9d",
         "x": [
          "4 Cylinders",
          "6 Cylinders",
          "8 Cylinders"
         ],
         "y": [
          26.663636363636364,
          19.74285714285714,
          15.100000000000003
         ]
        }
       ],
       "layout": {
        "hovermode": "closest",
        "plot_bgcolor": "rgb(229, 229, 229)",
        "title": "title",
        "xaxis": {
         "gridcolor": "rgb(255,255,255)",
         "tickangle": 30,
         "title": "xlab",
         "zerolinecolor": "rgb(255,255,255)"
        },
        "yaxis": {
         "gridcolor": "rgb(255,255,255)",
         "title": "ylab",
         "zerolinecolor": "rgb(255,255,255)"
        }
       }
      },
      "text/html": [
       "<div id=\"e8247281-26b4-4e10-92fe-3e380f6a52c9\" style=\"height: 525px; width: 100%;\" class=\"plotly-graph-div\"></div><script type=\"text/javascript\">require([\"plotly\"], function(Plotly) { window.PLOTLYENV=window.PLOTLYENV || {};window.PLOTLYENV.BASE_URL=\"https://plot.ly\";Plotly.newPlot(\"e8247281-26b4-4e10-92fe-3e380f6a52c9\", [{\"marker\": {\"color\": \"#232C65\"}, \"name\": \"mpg\", \"text\": \"mpg\", \"x\": [\"4 Cylinders\", \"6 Cylinders\", \"8 Cylinders\"], \"y\": [26.663636363636364, 19.74285714285714, 15.100000000000003], \"type\": \"bar\", \"uid\": \"6c1d9906-ec10-11e8-90c8-a0481cac4f9d\"}], {\"hovermode\": \"closest\", \"plot_bgcolor\": \"rgb(229, 229, 229)\", \"title\": \"title\", \"xaxis\": {\"gridcolor\": \"rgb(255,255,255)\", \"tickangle\": 30, \"title\": \"xlab\", \"zerolinecolor\": \"rgb(255,255,255)\"}, \"yaxis\": {\"gridcolor\": \"rgb(255,255,255)\", \"title\": \"ylab\", \"zerolinecolor\": \"rgb(255,255,255)\"}}, {\"showLink\": true, \"linkText\": \"Export to plot.ly\"})});</script>"
      ],
      "text/vnd.plotly.v1+html": [
       "<div id=\"e8247281-26b4-4e10-92fe-3e380f6a52c9\" style=\"height: 525px; width: 100%;\" class=\"plotly-graph-div\"></div><script type=\"text/javascript\">require([\"plotly\"], function(Plotly) { window.PLOTLYENV=window.PLOTLYENV || {};window.PLOTLYENV.BASE_URL=\"https://plot.ly\";Plotly.newPlot(\"e8247281-26b4-4e10-92fe-3e380f6a52c9\", [{\"marker\": {\"color\": \"#232C65\"}, \"name\": \"mpg\", \"text\": \"mpg\", \"x\": [\"4 Cylinders\", \"6 Cylinders\", \"8 Cylinders\"], \"y\": [26.663636363636364, 19.74285714285714, 15.100000000000003], \"type\": \"bar\", \"uid\": \"6c1d9906-ec10-11e8-90c8-a0481cac4f9d\"}], {\"hovermode\": \"closest\", \"plot_bgcolor\": \"rgb(229, 229, 229)\", \"title\": \"title\", \"xaxis\": {\"gridcolor\": \"rgb(255,255,255)\", \"tickangle\": 30, \"title\": \"xlab\", \"zerolinecolor\": \"rgb(255,255,255)\"}, \"yaxis\": {\"gridcolor\": \"rgb(255,255,255)\", \"title\": \"ylab\", \"zerolinecolor\": \"rgb(255,255,255)\"}}, {\"showLink\": true, \"linkText\": \"Export to plot.ly\"})});</script>"
      ]
     },
     "metadata": {},
     "output_type": "display_data"
    }
   ],
   "source": [
    "# create input data for graph \n",
    "args = dict(\n",
    "    in_data=in_data\n",
    ")\n",
    "\n",
    "# view plot inline \n",
    "fig = barplot.create_graph(**args)"
   ]
  },
  {
   "cell_type": "markdown",
   "metadata": {},
   "source": [
    "Now that the graph appears to be as expected, more characteristics can be added by adding them to `args`:"
   ]
  },
  {
   "cell_type": "code",
   "execution_count": 6,
   "metadata": {},
   "outputs": [],
   "source": [
    "# add additional characteristics to graph\n",
    "title = '<b>Fuel Mileage by Number of Cylinders</b>'\n",
    "title += '<br><i>for mtcars data</i>'\n",
    "args['title'] = title\n",
    "args['names'] = names\n",
    "args['errors'] = errors\n",
    "args['xlab'] = 'Number of Cylinders'\n",
    "args['ylab'] = 'Miles Per Gallon'\n",
    "args['annotations'] = [{'text':'More cylinders correlates to lower fuel mileage', 'x':1.5, 'y':24.5, 'showarrow':False}]"
   ]
  },
  {
   "cell_type": "markdown",
   "metadata": {},
   "source": [
    "Preview the results again:"
   ]
  },
  {
   "cell_type": "code",
   "execution_count": 7,
   "metadata": {},
   "outputs": [
    {
     "data": {
      "text/html": [
       "<script>requirejs.config({paths: { 'plotly': ['https://cdn.plot.ly/plotly-latest.min']},});if(!window.Plotly) {{require(['plotly'],function(plotly) {window.Plotly=plotly;});}}</script>"
      ],
      "text/vnd.plotly.v1+html": [
       "<script>requirejs.config({paths: { 'plotly': ['https://cdn.plot.ly/plotly-latest.min']},});if(!window.Plotly) {{require(['plotly'],function(plotly) {window.Plotly=plotly;});}}</script>"
      ]
     },
     "metadata": {},
     "output_type": "display_data"
    },
    {
     "data": {
      "application/vnd.plotly.v1+json": {
       "data": [
        {
         "error_y": {
          "array": [
           2.5,
           2.5,
           2.5
          ],
          "thickness": 7,
          "type": "data",
          "visible": true,
          "width": 8
         },
         "marker": {
          "color": "#232C65"
         },
         "name": "mpg",
         "text": [
          "fx",
          "lz",
          "he"
         ],
         "type": "bar",
         "uid": "6f0353d4-ec10-11e8-9043-a0481cac4f9d",
         "x": [
          "4 Cylinders",
          "6 Cylinders",
          "8 Cylinders"
         ],
         "y": [
          26.663636363636364,
          19.74285714285714,
          15.100000000000003
         ]
        }
       ],
       "layout": {
        "annotations": [
         {
          "showarrow": false,
          "text": "More cylinders correlates to lower fuel mileage",
          "x": 1.5,
          "y": 24.5
         }
        ],
        "hovermode": "closest",
        "plot_bgcolor": "rgb(229, 229, 229)",
        "title": "<b>Fuel Mileage by Number of Cylinders</b><br><i>for mtcars data</i>",
        "xaxis": {
         "gridcolor": "rgb(255,255,255)",
         "tickangle": 30,
         "title": "Number of Cylinders",
         "zerolinecolor": "rgb(255,255,255)"
        },
        "yaxis": {
         "gridcolor": "rgb(255,255,255)",
         "title": "Miles Per Gallon",
         "zerolinecolor": "rgb(255,255,255)"
        }
       }
      },
      "text/html": [
       "<div id=\"3fa53e52-52b6-4897-871d-83b7b4d80620\" style=\"height: 525px; width: 100%;\" class=\"plotly-graph-div\"></div><script type=\"text/javascript\">require([\"plotly\"], function(Plotly) { window.PLOTLYENV=window.PLOTLYENV || {};window.PLOTLYENV.BASE_URL=\"https://plot.ly\";Plotly.newPlot(\"3fa53e52-52b6-4897-871d-83b7b4d80620\", [{\"error_y\": {\"array\": [2.5, 2.5, 2.5], \"thickness\": 7, \"type\": \"data\", \"visible\": true, \"width\": 8}, \"marker\": {\"color\": \"#232C65\"}, \"name\": \"mpg\", \"text\": [\"fx\", \"lz\", \"he\"], \"x\": [\"4 Cylinders\", \"6 Cylinders\", \"8 Cylinders\"], \"y\": [26.663636363636364, 19.74285714285714, 15.100000000000003], \"type\": \"bar\", \"uid\": \"6f0353d4-ec10-11e8-9043-a0481cac4f9d\"}], {\"annotations\": [{\"showarrow\": false, \"text\": \"More cylinders correlates to lower fuel mileage\", \"x\": 1.5, \"y\": 24.5}], \"hovermode\": \"closest\", \"plot_bgcolor\": \"rgb(229, 229, 229)\", \"title\": \"<b>Fuel Mileage by Number of Cylinders</b><br><i>for mtcars data</i>\", \"xaxis\": {\"gridcolor\": \"rgb(255,255,255)\", \"tickangle\": 30, \"title\": \"Number of Cylinders\", \"zerolinecolor\": \"rgb(255,255,255)\"}, \"yaxis\": {\"gridcolor\": \"rgb(255,255,255)\", \"title\": \"Miles Per Gallon\", \"zerolinecolor\": \"rgb(255,255,255)\"}}, {\"showLink\": true, \"linkText\": \"Export to plot.ly\"})});</script>"
      ],
      "text/vnd.plotly.v1+html": [
       "<div id=\"3fa53e52-52b6-4897-871d-83b7b4d80620\" style=\"height: 525px; width: 100%;\" class=\"plotly-graph-div\"></div><script type=\"text/javascript\">require([\"plotly\"], function(Plotly) { window.PLOTLYENV=window.PLOTLYENV || {};window.PLOTLYENV.BASE_URL=\"https://plot.ly\";Plotly.newPlot(\"3fa53e52-52b6-4897-871d-83b7b4d80620\", [{\"error_y\": {\"array\": [2.5, 2.5, 2.5], \"thickness\": 7, \"type\": \"data\", \"visible\": true, \"width\": 8}, \"marker\": {\"color\": \"#232C65\"}, \"name\": \"mpg\", \"text\": [\"fx\", \"lz\", \"he\"], \"x\": [\"4 Cylinders\", \"6 Cylinders\", \"8 Cylinders\"], \"y\": [26.663636363636364, 19.74285714285714, 15.100000000000003], \"type\": \"bar\", \"uid\": \"6f0353d4-ec10-11e8-9043-a0481cac4f9d\"}], {\"annotations\": [{\"showarrow\": false, \"text\": \"More cylinders correlates to lower fuel mileage\", \"x\": 1.5, \"y\": 24.5}], \"hovermode\": \"closest\", \"plot_bgcolor\": \"rgb(229, 229, 229)\", \"title\": \"<b>Fuel Mileage by Number of Cylinders</b><br><i>for mtcars data</i>\", \"xaxis\": {\"gridcolor\": \"rgb(255,255,255)\", \"tickangle\": 30, \"title\": \"Number of Cylinders\", \"zerolinecolor\": \"rgb(255,255,255)\"}, \"yaxis\": {\"gridcolor\": \"rgb(255,255,255)\", \"title\": \"Miles Per Gallon\", \"zerolinecolor\": \"rgb(255,255,255)\"}}, {\"showLink\": true, \"linkText\": \"Export to plot.ly\"})});</script>"
      ]
     },
     "metadata": {},
     "output_type": "display_data"
    }
   ],
   "source": [
    "# view plot inline \n",
    "fig = barplot.create_graph(**args)"
   ]
  },
  {
   "cell_type": "markdown",
   "metadata": {},
   "source": [
    "After creating a graph, it can be written to an html file by passing `fig` to `barplot.output_graph`:"
   ]
  },
  {
   "cell_type": "code",
   "execution_count": 8,
   "metadata": {},
   "outputs": [],
   "source": [
    "# write graph to html file \n",
    "fp = 'barplot-example.html'\n",
    "barplot.output_graph(fp, fig)"
   ]
  },
  {
   "cell_type": "markdown",
   "metadata": {},
   "source": [
    "# Create Grouped Barplot\n",
    "\n",
    "A grouped barplot compares the effect of the same treatment across multiple categories.\n",
    "\n",
    "The next graph will show the relationship between fuel mileage, the number of cylinders and the number of gears for cars.\n",
    "\n",
    "For grouped barplots, dataframes can be passed where the rows represent the x-axis categories and the columns represent each bar in each category. "
   ]
  },
  {
   "cell_type": "code",
   "execution_count": 9,
   "metadata": {},
   "outputs": [
    {
     "name": "stdout",
     "output_type": "stream",
     "text": [
      "main data:\n"
     ]
    },
    {
     "data": {
      "text/html": [
       "<div>\n",
       "<style scoped>\n",
       "    .dataframe tbody tr th:only-of-type {\n",
       "        vertical-align: middle;\n",
       "    }\n",
       "\n",
       "    .dataframe tbody tr th {\n",
       "        vertical-align: top;\n",
       "    }\n",
       "\n",
       "    .dataframe thead th {\n",
       "        text-align: right;\n",
       "    }\n",
       "</style>\n",
       "<table border=\"1\" class=\"dataframe\">\n",
       "  <thead>\n",
       "    <tr style=\"text-align: right;\">\n",
       "      <th></th>\n",
       "      <th>3 gears</th>\n",
       "      <th>4 gears</th>\n",
       "      <th>5 gears</th>\n",
       "    </tr>\n",
       "  </thead>\n",
       "  <tbody>\n",
       "    <tr>\n",
       "      <th>4 Cylinders</th>\n",
       "      <td>21.50</td>\n",
       "      <td>26.925</td>\n",
       "      <td>28.2</td>\n",
       "    </tr>\n",
       "    <tr>\n",
       "      <th>6 Cylinders</th>\n",
       "      <td>19.75</td>\n",
       "      <td>19.750</td>\n",
       "      <td>19.7</td>\n",
       "    </tr>\n",
       "    <tr>\n",
       "      <th>8 Cylinders</th>\n",
       "      <td>15.05</td>\n",
       "      <td>15.225</td>\n",
       "      <td>15.4</td>\n",
       "    </tr>\n",
       "  </tbody>\n",
       "</table>\n",
       "</div>"
      ],
      "text/plain": [
       "             3 gears  4 gears  5 gears\n",
       "4 Cylinders    21.50   26.925     28.2\n",
       "6 Cylinders    19.75   19.750     19.7\n",
       "8 Cylinders    15.05   15.225     15.4"
      ]
     },
     "metadata": {},
     "output_type": "display_data"
    },
    {
     "name": "stdout",
     "output_type": "stream",
     "text": [
      "names:\n"
     ]
    },
    {
     "data": {
      "text/html": [
       "<div>\n",
       "<style scoped>\n",
       "    .dataframe tbody tr th:only-of-type {\n",
       "        vertical-align: middle;\n",
       "    }\n",
       "\n",
       "    .dataframe tbody tr th {\n",
       "        vertical-align: top;\n",
       "    }\n",
       "\n",
       "    .dataframe thead th {\n",
       "        text-align: right;\n",
       "    }\n",
       "</style>\n",
       "<table border=\"1\" class=\"dataframe\">\n",
       "  <thead>\n",
       "    <tr style=\"text-align: right;\">\n",
       "      <th></th>\n",
       "      <th>3 gears</th>\n",
       "      <th>4 gears</th>\n",
       "      <th>5 gears</th>\n",
       "    </tr>\n",
       "  </thead>\n",
       "  <tbody>\n",
       "    <tr>\n",
       "      <th>4 Cylinders</th>\n",
       "      <td>kw</td>\n",
       "      <td>wo</td>\n",
       "      <td>zv</td>\n",
       "    </tr>\n",
       "    <tr>\n",
       "      <th>6 Cylinders</th>\n",
       "      <td>bz</td>\n",
       "      <td>rr</td>\n",
       "      <td>dv</td>\n",
       "    </tr>\n",
       "    <tr>\n",
       "      <th>8 Cylinders</th>\n",
       "      <td>rj</td>\n",
       "      <td>to</td>\n",
       "      <td>mh</td>\n",
       "    </tr>\n",
       "  </tbody>\n",
       "</table>\n",
       "</div>"
      ],
      "text/plain": [
       "            3 gears 4 gears 5 gears\n",
       "4 Cylinders      kw      wo      zv\n",
       "6 Cylinders      bz      rr      dv\n",
       "8 Cylinders      rj      to      mh"
      ]
     },
     "metadata": {},
     "output_type": "display_data"
    },
    {
     "name": "stdout",
     "output_type": "stream",
     "text": [
      "errors:\n"
     ]
    },
    {
     "data": {
      "text/html": [
       "<div>\n",
       "<style scoped>\n",
       "    .dataframe tbody tr th:only-of-type {\n",
       "        vertical-align: middle;\n",
       "    }\n",
       "\n",
       "    .dataframe tbody tr th {\n",
       "        vertical-align: top;\n",
       "    }\n",
       "\n",
       "    .dataframe thead th {\n",
       "        text-align: right;\n",
       "    }\n",
       "</style>\n",
       "<table border=\"1\" class=\"dataframe\">\n",
       "  <thead>\n",
       "    <tr style=\"text-align: right;\">\n",
       "      <th></th>\n",
       "      <th>3 gears</th>\n",
       "      <th>4 gears</th>\n",
       "      <th>5 gears</th>\n",
       "    </tr>\n",
       "  </thead>\n",
       "  <tbody>\n",
       "    <tr>\n",
       "      <th>4 Cylinders</th>\n",
       "      <td>0.75</td>\n",
       "      <td>0.75</td>\n",
       "      <td>0.75</td>\n",
       "    </tr>\n",
       "    <tr>\n",
       "      <th>6 Cylinders</th>\n",
       "      <td>0.75</td>\n",
       "      <td>0.75</td>\n",
       "      <td>0.75</td>\n",
       "    </tr>\n",
       "    <tr>\n",
       "      <th>8 Cylinders</th>\n",
       "      <td>0.75</td>\n",
       "      <td>0.75</td>\n",
       "      <td>0.75</td>\n",
       "    </tr>\n",
       "  </tbody>\n",
       "</table>\n",
       "</div>"
      ],
      "text/plain": [
       "             3 gears  4 gears  5 gears\n",
       "4 Cylinders     0.75     0.75     0.75\n",
       "6 Cylinders     0.75     0.75     0.75\n",
       "8 Cylinders     0.75     0.75     0.75"
      ]
     },
     "metadata": {},
     "output_type": "display_data"
    }
   ],
   "source": [
    "# create data for grouped barplot\n",
    "in_data = df.groupby(['cyl', 'gear']).mean()[['mpg']].reset_index()\n",
    "\n",
    "in_data = pd.pivot_table(\n",
    "    data=in_data,\n",
    "    columns=['gear'],\n",
    "    index=['cyl']\n",
    ")\n",
    "in_data.columns = ['3 gears', '4 gears', '5 gears']\n",
    "\n",
    "in_data = in_data.fillna(in_data.loc[8].mean())\n",
    "in_data.index = in_data.index.astype(str) + ' Cylinders'\n",
    "print('main data:')\n",
    "display(in_data)\n",
    "\n",
    "# create names\n",
    "names = in_data.copy()\n",
    "\n",
    "for row in names.index:\n",
    "    for col in names.columns:\n",
    "        names.loc[row, col] = f()+f()\n",
    "        \n",
    "print('names:')\n",
    "display(names)\n",
    "\n",
    "# create error bars \n",
    "errors = in_data.copy()\n",
    "\n",
    "for col in errors.columns:\n",
    "    errors[col] = 0.75\n",
    "    \n",
    "print('errors:')\n",
    "display(errors)"
   ]
  },
  {
   "cell_type": "markdown",
   "metadata": {},
   "source": [
    "Get a quick visual of the data:"
   ]
  },
  {
   "cell_type": "code",
   "execution_count": 10,
   "metadata": {},
   "outputs": [],
   "source": [
    "# create args\n",
    "args = {'in_data':in_data}"
   ]
  },
  {
   "cell_type": "code",
   "execution_count": 11,
   "metadata": {},
   "outputs": [
    {
     "data": {
      "text/html": [
       "<script>requirejs.config({paths: { 'plotly': ['https://cdn.plot.ly/plotly-latest.min']},});if(!window.Plotly) {{require(['plotly'],function(plotly) {window.Plotly=plotly;});}}</script>"
      ],
      "text/vnd.plotly.v1+html": [
       "<script>requirejs.config({paths: { 'plotly': ['https://cdn.plot.ly/plotly-latest.min']},});if(!window.Plotly) {{require(['plotly'],function(plotly) {window.Plotly=plotly;});}}</script>"
      ]
     },
     "metadata": {},
     "output_type": "display_data"
    },
    {
     "data": {
      "application/vnd.plotly.v1+json": {
       "data": [
        {
         "marker": {
          "color": "#232C65"
         },
         "name": "3 gears",
         "text": "3 gears",
         "type": "bar",
         "uid": "73a64f06-ec10-11e8-9674-a0481cac4f9d",
         "x": [
          "4 Cylinders",
          "6 Cylinders",
          "8 Cylinders"
         ],
         "y": [
          21.5,
          19.75,
          15.050000000000002
         ]
        },
        {
         "marker": {
          "color": "#840032"
         },
         "name": "4 gears",
         "text": "4 gears",
         "type": "bar",
         "uid": "73a64f07-ec10-11e8-8652-a0481cac4f9d",
         "x": [
          "4 Cylinders",
          "6 Cylinders",
          "8 Cylinders"
         ],
         "y": [
          26.925000000000004,
          19.75,
          15.225000000000001
         ]
        },
        {
         "marker": {
          "color": "#E59500"
         },
         "name": "5 gears",
         "text": "5 gears",
         "type": "bar",
         "uid": "73a64f08-ec10-11e8-8d7f-a0481cac4f9d",
         "x": [
          "4 Cylinders",
          "6 Cylinders",
          "8 Cylinders"
         ],
         "y": [
          28.2,
          19.7,
          15.4
         ]
        }
       ],
       "layout": {
        "hovermode": "closest",
        "plot_bgcolor": "rgb(229, 229, 229)",
        "title": "title",
        "xaxis": {
         "gridcolor": "rgb(255,255,255)",
         "tickangle": 30,
         "title": "xlab",
         "zerolinecolor": "rgb(255,255,255)"
        },
        "yaxis": {
         "gridcolor": "rgb(255,255,255)",
         "title": "ylab",
         "zerolinecolor": "rgb(255,255,255)"
        }
       }
      },
      "text/html": [
       "<div id=\"077a5314-3a26-4ef4-9d78-5e6fc6f735f6\" style=\"height: 525px; width: 100%;\" class=\"plotly-graph-div\"></div><script type=\"text/javascript\">require([\"plotly\"], function(Plotly) { window.PLOTLYENV=window.PLOTLYENV || {};window.PLOTLYENV.BASE_URL=\"https://plot.ly\";Plotly.newPlot(\"077a5314-3a26-4ef4-9d78-5e6fc6f735f6\", [{\"marker\": {\"color\": \"#232C65\"}, \"name\": \"3 gears\", \"text\": \"3 gears\", \"x\": [\"4 Cylinders\", \"6 Cylinders\", \"8 Cylinders\"], \"y\": [21.5, 19.75, 15.050000000000002], \"type\": \"bar\", \"uid\": \"73a64f06-ec10-11e8-9674-a0481cac4f9d\"}, {\"marker\": {\"color\": \"#840032\"}, \"name\": \"4 gears\", \"text\": \"4 gears\", \"x\": [\"4 Cylinders\", \"6 Cylinders\", \"8 Cylinders\"], \"y\": [26.925000000000004, 19.75, 15.225000000000001], \"type\": \"bar\", \"uid\": \"73a64f07-ec10-11e8-8652-a0481cac4f9d\"}, {\"marker\": {\"color\": \"#E59500\"}, \"name\": \"5 gears\", \"text\": \"5 gears\", \"x\": [\"4 Cylinders\", \"6 Cylinders\", \"8 Cylinders\"], \"y\": [28.2, 19.7, 15.4], \"type\": \"bar\", \"uid\": \"73a64f08-ec10-11e8-8d7f-a0481cac4f9d\"}], {\"hovermode\": \"closest\", \"plot_bgcolor\": \"rgb(229, 229, 229)\", \"title\": \"title\", \"xaxis\": {\"gridcolor\": \"rgb(255,255,255)\", \"tickangle\": 30, \"title\": \"xlab\", \"zerolinecolor\": \"rgb(255,255,255)\"}, \"yaxis\": {\"gridcolor\": \"rgb(255,255,255)\", \"title\": \"ylab\", \"zerolinecolor\": \"rgb(255,255,255)\"}}, {\"showLink\": true, \"linkText\": \"Export to plot.ly\"})});</script>"
      ],
      "text/vnd.plotly.v1+html": [
       "<div id=\"077a5314-3a26-4ef4-9d78-5e6fc6f735f6\" style=\"height: 525px; width: 100%;\" class=\"plotly-graph-div\"></div><script type=\"text/javascript\">require([\"plotly\"], function(Plotly) { window.PLOTLYENV=window.PLOTLYENV || {};window.PLOTLYENV.BASE_URL=\"https://plot.ly\";Plotly.newPlot(\"077a5314-3a26-4ef4-9d78-5e6fc6f735f6\", [{\"marker\": {\"color\": \"#232C65\"}, \"name\": \"3 gears\", \"text\": \"3 gears\", \"x\": [\"4 Cylinders\", \"6 Cylinders\", \"8 Cylinders\"], \"y\": [21.5, 19.75, 15.050000000000002], \"type\": \"bar\", \"uid\": \"73a64f06-ec10-11e8-9674-a0481cac4f9d\"}, {\"marker\": {\"color\": \"#840032\"}, \"name\": \"4 gears\", \"text\": \"4 gears\", \"x\": [\"4 Cylinders\", \"6 Cylinders\", \"8 Cylinders\"], \"y\": [26.925000000000004, 19.75, 15.225000000000001], \"type\": \"bar\", \"uid\": \"73a64f07-ec10-11e8-8652-a0481cac4f9d\"}, {\"marker\": {\"color\": \"#E59500\"}, \"name\": \"5 gears\", \"text\": \"5 gears\", \"x\": [\"4 Cylinders\", \"6 Cylinders\", \"8 Cylinders\"], \"y\": [28.2, 19.7, 15.4], \"type\": \"bar\", \"uid\": \"73a64f08-ec10-11e8-8d7f-a0481cac4f9d\"}], {\"hovermode\": \"closest\", \"plot_bgcolor\": \"rgb(229, 229, 229)\", \"title\": \"title\", \"xaxis\": {\"gridcolor\": \"rgb(255,255,255)\", \"tickangle\": 30, \"title\": \"xlab\", \"zerolinecolor\": \"rgb(255,255,255)\"}, \"yaxis\": {\"gridcolor\": \"rgb(255,255,255)\", \"title\": \"ylab\", \"zerolinecolor\": \"rgb(255,255,255)\"}}, {\"showLink\": true, \"linkText\": \"Export to plot.ly\"})});</script>"
      ]
     },
     "metadata": {},
     "output_type": "display_data"
    }
   ],
   "source": [
    "fig = barplot.create_graph(**args)"
   ]
  },
  {
   "cell_type": "markdown",
   "metadata": {},
   "source": [
    "Now add more detail by adding elements to `args`:"
   ]
  },
  {
   "cell_type": "code",
   "execution_count": 12,
   "metadata": {},
   "outputs": [
    {
     "data": {
      "text/html": [
       "<script>requirejs.config({paths: { 'plotly': ['https://cdn.plot.ly/plotly-latest.min']},});if(!window.Plotly) {{require(['plotly'],function(plotly) {window.Plotly=plotly;});}}</script>"
      ],
      "text/vnd.plotly.v1+html": [
       "<script>requirejs.config({paths: { 'plotly': ['https://cdn.plot.ly/plotly-latest.min']},});if(!window.Plotly) {{require(['plotly'],function(plotly) {window.Plotly=plotly;});}}</script>"
      ]
     },
     "metadata": {},
     "output_type": "display_data"
    },
    {
     "data": {
      "application/vnd.plotly.v1+json": {
       "data": [
        {
         "error_y": {
          "array": [
           0.75,
           0.75,
           0.75
          ],
          "thickness": 7,
          "type": "data",
          "visible": true,
          "width": 8
         },
         "marker": {
          "color": "#232C65"
         },
         "name": "3 gears",
         "text": [
          "kw",
          "bz",
          "rj"
         ],
         "type": "bar",
         "uid": "75330986-ec10-11e8-8dad-a0481cac4f9d",
         "x": [
          "4 Cylinders",
          "6 Cylinders",
          "8 Cylinders"
         ],
         "y": [
          21.5,
          19.75,
          15.050000000000002
         ]
        },
        {
         "error_y": {
          "array": [
           0.75,
           0.75,
           0.75
          ],
          "thickness": 7,
          "type": "data",
          "visible": true,
          "width": 8
         },
         "marker": {
          "color": "#840032"
         },
         "name": "4 gears",
         "text": [
          "wo",
          "rr",
          "to"
         ],
         "type": "bar",
         "uid": "75330987-ec10-11e8-aaf2-a0481cac4f9d",
         "x": [
          "4 Cylinders",
          "6 Cylinders",
          "8 Cylinders"
         ],
         "y": [
          26.925000000000004,
          19.75,
          15.225000000000001
         ]
        },
        {
         "error_y": {
          "array": [
           0.75,
           0.75,
           0.75
          ],
          "thickness": 7,
          "type": "data",
          "visible": true,
          "width": 8
         },
         "marker": {
          "color": "#E59500"
         },
         "name": "5 gears",
         "text": [
          "zv",
          "dv",
          "mh"
         ],
         "type": "bar",
         "uid": "75330988-ec10-11e8-95cc-a0481cac4f9d",
         "x": [
          "4 Cylinders",
          "6 Cylinders",
          "8 Cylinders"
         ],
         "y": [
          28.2,
          19.7,
          15.4
         ]
        }
       ],
       "layout": {
        "annotations": [
         {
          "ax": 250,
          "ay": 25,
          "showarrow": true,
          "text": "More gears correlate to better fuel mileage for cars with 4 cylinder engines",
          "x": 0.45,
          "y": 28
         }
        ],
        "hovermode": "closest",
        "plot_bgcolor": "rgb(229, 229, 229)",
        "title": "<b>Fuel Mileage by Number of Cylinders and Number of Gears</b><br><i>for mtcars data</i>",
        "xaxis": {
         "gridcolor": "rgb(255,255,255)",
         "tickangle": 30,
         "title": "Number of Cylinders",
         "zerolinecolor": "rgb(255,255,255)"
        },
        "yaxis": {
         "gridcolor": "rgb(255,255,255)",
         "title": "Miles Per Gallon",
         "zerolinecolor": "rgb(255,255,255)"
        }
       }
      },
      "text/html": [
       "<div id=\"ca774876-b3dd-4785-80b7-587b430b34d7\" style=\"height: 525px; width: 100%;\" class=\"plotly-graph-div\"></div><script type=\"text/javascript\">require([\"plotly\"], function(Plotly) { window.PLOTLYENV=window.PLOTLYENV || {};window.PLOTLYENV.BASE_URL=\"https://plot.ly\";Plotly.newPlot(\"ca774876-b3dd-4785-80b7-587b430b34d7\", [{\"error_y\": {\"array\": [0.75, 0.75, 0.75], \"thickness\": 7, \"type\": \"data\", \"visible\": true, \"width\": 8}, \"marker\": {\"color\": \"#232C65\"}, \"name\": \"3 gears\", \"text\": [\"kw\", \"bz\", \"rj\"], \"x\": [\"4 Cylinders\", \"6 Cylinders\", \"8 Cylinders\"], \"y\": [21.5, 19.75, 15.050000000000002], \"type\": \"bar\", \"uid\": \"75330986-ec10-11e8-8dad-a0481cac4f9d\"}, {\"error_y\": {\"array\": [0.75, 0.75, 0.75], \"thickness\": 7, \"type\": \"data\", \"visible\": true, \"width\": 8}, \"marker\": {\"color\": \"#840032\"}, \"name\": \"4 gears\", \"text\": [\"wo\", \"rr\", \"to\"], \"x\": [\"4 Cylinders\", \"6 Cylinders\", \"8 Cylinders\"], \"y\": [26.925000000000004, 19.75, 15.225000000000001], \"type\": \"bar\", \"uid\": \"75330987-ec10-11e8-aaf2-a0481cac4f9d\"}, {\"error_y\": {\"array\": [0.75, 0.75, 0.75], \"thickness\": 7, \"type\": \"data\", \"visible\": true, \"width\": 8}, \"marker\": {\"color\": \"#E59500\"}, \"name\": \"5 gears\", \"text\": [\"zv\", \"dv\", \"mh\"], \"x\": [\"4 Cylinders\", \"6 Cylinders\", \"8 Cylinders\"], \"y\": [28.2, 19.7, 15.4], \"type\": \"bar\", \"uid\": \"75330988-ec10-11e8-95cc-a0481cac4f9d\"}], {\"annotations\": [{\"ax\": 250, \"ay\": 25, \"showarrow\": true, \"text\": \"More gears correlate to better fuel mileage for cars with 4 cylinder engines\", \"x\": 0.45, \"y\": 28}], \"hovermode\": \"closest\", \"plot_bgcolor\": \"rgb(229, 229, 229)\", \"title\": \"<b>Fuel Mileage by Number of Cylinders and Number of Gears</b><br><i>for mtcars data</i>\", \"xaxis\": {\"gridcolor\": \"rgb(255,255,255)\", \"tickangle\": 30, \"title\": \"Number of Cylinders\", \"zerolinecolor\": \"rgb(255,255,255)\"}, \"yaxis\": {\"gridcolor\": \"rgb(255,255,255)\", \"title\": \"Miles Per Gallon\", \"zerolinecolor\": \"rgb(255,255,255)\"}}, {\"showLink\": true, \"linkText\": \"Export to plot.ly\"})});</script>"
      ],
      "text/vnd.plotly.v1+html": [
       "<div id=\"ca774876-b3dd-4785-80b7-587b430b34d7\" style=\"height: 525px; width: 100%;\" class=\"plotly-graph-div\"></div><script type=\"text/javascript\">require([\"plotly\"], function(Plotly) { window.PLOTLYENV=window.PLOTLYENV || {};window.PLOTLYENV.BASE_URL=\"https://plot.ly\";Plotly.newPlot(\"ca774876-b3dd-4785-80b7-587b430b34d7\", [{\"error_y\": {\"array\": [0.75, 0.75, 0.75], \"thickness\": 7, \"type\": \"data\", \"visible\": true, \"width\": 8}, \"marker\": {\"color\": \"#232C65\"}, \"name\": \"3 gears\", \"text\": [\"kw\", \"bz\", \"rj\"], \"x\": [\"4 Cylinders\", \"6 Cylinders\", \"8 Cylinders\"], \"y\": [21.5, 19.75, 15.050000000000002], \"type\": \"bar\", \"uid\": \"75330986-ec10-11e8-8dad-a0481cac4f9d\"}, {\"error_y\": {\"array\": [0.75, 0.75, 0.75], \"thickness\": 7, \"type\": \"data\", \"visible\": true, \"width\": 8}, \"marker\": {\"color\": \"#840032\"}, \"name\": \"4 gears\", \"text\": [\"wo\", \"rr\", \"to\"], \"x\": [\"4 Cylinders\", \"6 Cylinders\", \"8 Cylinders\"], \"y\": [26.925000000000004, 19.75, 15.225000000000001], \"type\": \"bar\", \"uid\": \"75330987-ec10-11e8-aaf2-a0481cac4f9d\"}, {\"error_y\": {\"array\": [0.75, 0.75, 0.75], \"thickness\": 7, \"type\": \"data\", \"visible\": true, \"width\": 8}, \"marker\": {\"color\": \"#E59500\"}, \"name\": \"5 gears\", \"text\": [\"zv\", \"dv\", \"mh\"], \"x\": [\"4 Cylinders\", \"6 Cylinders\", \"8 Cylinders\"], \"y\": [28.2, 19.7, 15.4], \"type\": \"bar\", \"uid\": \"75330988-ec10-11e8-95cc-a0481cac4f9d\"}], {\"annotations\": [{\"ax\": 250, \"ay\": 25, \"showarrow\": true, \"text\": \"More gears correlate to better fuel mileage for cars with 4 cylinder engines\", \"x\": 0.45, \"y\": 28}], \"hovermode\": \"closest\", \"plot_bgcolor\": \"rgb(229, 229, 229)\", \"title\": \"<b>Fuel Mileage by Number of Cylinders and Number of Gears</b><br><i>for mtcars data</i>\", \"xaxis\": {\"gridcolor\": \"rgb(255,255,255)\", \"tickangle\": 30, \"title\": \"Number of Cylinders\", \"zerolinecolor\": \"rgb(255,255,255)\"}, \"yaxis\": {\"gridcolor\": \"rgb(255,255,255)\", \"title\": \"Miles Per Gallon\", \"zerolinecolor\": \"rgb(255,255,255)\"}}, {\"showLink\": true, \"linkText\": \"Export to plot.ly\"})});</script>"
      ]
     },
     "metadata": {},
     "output_type": "display_data"
    }
   ],
   "source": [
    "# add additional characteristics to graph\n",
    "title = '<b>Fuel Mileage by Number of Cylinders and Number of Gears</b>'\n",
    "title += '<br><i>for mtcars data</i>'\n",
    "args['title'] = title\n",
    "args['names'] = names\n",
    "args['errors'] = errors\n",
    "args['xlab'] = 'Number of Cylinders'\n",
    "args['ylab'] = 'Miles Per Gallon'\n",
    "args['annotations'] = [{'text':'More gears correlate to better fuel mileage for cars with 4 cylinder engines',\n",
    "                        'x':0.45, 'y':28, 'ax':250, 'ay':25, 'showarrow':True}]\n",
    "\n",
    "fig = barplot.create_graph(**args)"
   ]
  },
  {
   "cell_type": "markdown",
   "metadata": {},
   "source": [
    "This looks okay with the default colors, but the main point of the graph would be more immediately visible if the \"4 Cylinder\" bargroup was a different shade of color than the other bargroups. \n",
    "\n",
    "New colors were generated using [coolors.co](https://coolors.co) and tints of the new colors were created on [color-hex.com](www.color-hex.com).\n",
    "\n",
    "A new dataframe `colors` can be created in a similar fashion to `in_data`, `names` and `errors`:"
   ]
  },
  {
   "cell_type": "code",
   "execution_count": 13,
   "metadata": {},
   "outputs": [
    {
     "name": "stdout",
     "output_type": "stream",
     "text": [
      "colors:\n"
     ]
    },
    {
     "data": {
      "text/html": [
       "<div>\n",
       "<style scoped>\n",
       "    .dataframe tbody tr th:only-of-type {\n",
       "        vertical-align: middle;\n",
       "    }\n",
       "\n",
       "    .dataframe tbody tr th {\n",
       "        vertical-align: top;\n",
       "    }\n",
       "\n",
       "    .dataframe thead th {\n",
       "        text-align: right;\n",
       "    }\n",
       "</style>\n",
       "<table border=\"1\" class=\"dataframe\">\n",
       "  <thead>\n",
       "    <tr style=\"text-align: right;\">\n",
       "      <th></th>\n",
       "      <th>3 gears</th>\n",
       "      <th>4 gears</th>\n",
       "      <th>5 gears</th>\n",
       "    </tr>\n",
       "  </thead>\n",
       "  <tbody>\n",
       "    <tr>\n",
       "      <th>4 Cylinders</th>\n",
       "      <td>#232C65</td>\n",
       "      <td>#2D2D2A</td>\n",
       "      <td>#849324</td>\n",
       "    </tr>\n",
       "    <tr>\n",
       "      <th>6 Cylinders</th>\n",
       "      <td>#9195b2</td>\n",
       "      <td>#969694</td>\n",
       "      <td>#c1c991</td>\n",
       "    </tr>\n",
       "    <tr>\n",
       "      <th>8 Cylinders</th>\n",
       "      <td>#9195b2</td>\n",
       "      <td>#969694</td>\n",
       "      <td>#c1c991</td>\n",
       "    </tr>\n",
       "  </tbody>\n",
       "</table>\n",
       "</div>"
      ],
      "text/plain": [
       "             3 gears  4 gears  5 gears\n",
       "4 Cylinders  #232C65  #2D2D2A  #849324\n",
       "6 Cylinders  #9195b2  #969694  #c1c991\n",
       "8 Cylinders  #9195b2  #969694  #c1c991"
      ]
     },
     "execution_count": 13,
     "metadata": {},
     "output_type": "execute_result"
    }
   ],
   "source": [
    "# create new colors\n",
    "colors = pd.DataFrame({\n",
    "           '3 gears':['#9195b2']*3,\n",
    "           '4 gears':['#969694']*3,\n",
    "           '5 gears':['#c1c991']*3\n",
    "       }, index=in_data.index)\n",
    "\n",
    "colors.loc['4 Cylinders'] = ['#232C65', '#2D2D2A', '#849324']\n",
    "\n",
    "args['colors'] = colors\n",
    "print('colors:')\n",
    "colors"
   ]
  },
  {
   "cell_type": "code",
   "execution_count": 14,
   "metadata": {},
   "outputs": [
    {
     "data": {
      "text/html": [
       "<script>requirejs.config({paths: { 'plotly': ['https://cdn.plot.ly/plotly-latest.min']},});if(!window.Plotly) {{require(['plotly'],function(plotly) {window.Plotly=plotly;});}}</script>"
      ],
      "text/vnd.plotly.v1+html": [
       "<script>requirejs.config({paths: { 'plotly': ['https://cdn.plot.ly/plotly-latest.min']},});if(!window.Plotly) {{require(['plotly'],function(plotly) {window.Plotly=plotly;});}}</script>"
      ]
     },
     "metadata": {},
     "output_type": "display_data"
    },
    {
     "data": {
      "application/vnd.plotly.v1+json": {
       "data": [
        {
         "error_y": {
          "array": [
           0.75,
           0.75,
           0.75
          ],
          "thickness": 7,
          "type": "data",
          "visible": true,
          "width": 8
         },
         "marker": {
          "color": [
           "#232C65",
           "#9195b2",
           "#9195b2"
          ]
         },
         "name": "3 gears",
         "text": [
          "kw",
          "bz",
          "rj"
         ],
         "type": "bar",
         "uid": "77707664-ec10-11e8-83b8-a0481cac4f9d",
         "x": [
          "4 Cylinders",
          "6 Cylinders",
          "8 Cylinders"
         ],
         "y": [
          21.5,
          19.75,
          15.050000000000002
         ]
        },
        {
         "error_y": {
          "array": [
           0.75,
           0.75,
           0.75
          ],
          "thickness": 7,
          "type": "data",
          "visible": true,
          "width": 8
         },
         "marker": {
          "color": [
           "#2D2D2A",
           "#969694",
           "#969694"
          ]
         },
         "name": "4 gears",
         "text": [
          "wo",
          "rr",
          "to"
         ],
         "type": "bar",
         "uid": "77707665-ec10-11e8-9629-a0481cac4f9d",
         "x": [
          "4 Cylinders",
          "6 Cylinders",
          "8 Cylinders"
         ],
         "y": [
          26.925000000000004,
          19.75,
          15.225000000000001
         ]
        },
        {
         "error_y": {
          "array": [
           0.75,
           0.75,
           0.75
          ],
          "thickness": 7,
          "type": "data",
          "visible": true,
          "width": 8
         },
         "marker": {
          "color": [
           "#849324",
           "#c1c991",
           "#c1c991"
          ]
         },
         "name": "5 gears",
         "text": [
          "zv",
          "dv",
          "mh"
         ],
         "type": "bar",
         "uid": "77707666-ec10-11e8-9510-a0481cac4f9d",
         "x": [
          "4 Cylinders",
          "6 Cylinders",
          "8 Cylinders"
         ],
         "y": [
          28.2,
          19.7,
          15.4
         ]
        }
       ],
       "layout": {
        "annotations": [
         {
          "ax": 250,
          "ay": 25,
          "showarrow": true,
          "text": "More gears correlate to better fuel mileage for cars with 4 cylinder engines",
          "x": 0.45,
          "y": 28
         }
        ],
        "hovermode": "closest",
        "plot_bgcolor": "rgb(229, 229, 229)",
        "title": "<b>Fuel Mileage by Number of Cylinders and Number of Gears</b><br><i>for mtcars data</i>",
        "xaxis": {
         "gridcolor": "rgb(255,255,255)",
         "tickangle": 30,
         "title": "Number of Cylinders",
         "zerolinecolor": "rgb(255,255,255)"
        },
        "yaxis": {
         "gridcolor": "rgb(255,255,255)",
         "title": "Miles Per Gallon",
         "zerolinecolor": "rgb(255,255,255)"
        }
       }
      },
      "text/html": [
       "<div id=\"14872673-c9d6-4694-9997-f02d4bc42ac8\" style=\"height: 525px; width: 100%;\" class=\"plotly-graph-div\"></div><script type=\"text/javascript\">require([\"plotly\"], function(Plotly) { window.PLOTLYENV=window.PLOTLYENV || {};window.PLOTLYENV.BASE_URL=\"https://plot.ly\";Plotly.newPlot(\"14872673-c9d6-4694-9997-f02d4bc42ac8\", [{\"error_y\": {\"array\": [0.75, 0.75, 0.75], \"thickness\": 7, \"type\": \"data\", \"visible\": true, \"width\": 8}, \"marker\": {\"color\": [\"#232C65\", \"#9195b2\", \"#9195b2\"]}, \"name\": \"3 gears\", \"text\": [\"kw\", \"bz\", \"rj\"], \"x\": [\"4 Cylinders\", \"6 Cylinders\", \"8 Cylinders\"], \"y\": [21.5, 19.75, 15.050000000000002], \"type\": \"bar\", \"uid\": \"77707664-ec10-11e8-83b8-a0481cac4f9d\"}, {\"error_y\": {\"array\": [0.75, 0.75, 0.75], \"thickness\": 7, \"type\": \"data\", \"visible\": true, \"width\": 8}, \"marker\": {\"color\": [\"#2D2D2A\", \"#969694\", \"#969694\"]}, \"name\": \"4 gears\", \"text\": [\"wo\", \"rr\", \"to\"], \"x\": [\"4 Cylinders\", \"6 Cylinders\", \"8 Cylinders\"], \"y\": [26.925000000000004, 19.75, 15.225000000000001], \"type\": \"bar\", \"uid\": \"77707665-ec10-11e8-9629-a0481cac4f9d\"}, {\"error_y\": {\"array\": [0.75, 0.75, 0.75], \"thickness\": 7, \"type\": \"data\", \"visible\": true, \"width\": 8}, \"marker\": {\"color\": [\"#849324\", \"#c1c991\", \"#c1c991\"]}, \"name\": \"5 gears\", \"text\": [\"zv\", \"dv\", \"mh\"], \"x\": [\"4 Cylinders\", \"6 Cylinders\", \"8 Cylinders\"], \"y\": [28.2, 19.7, 15.4], \"type\": \"bar\", \"uid\": \"77707666-ec10-11e8-9510-a0481cac4f9d\"}], {\"annotations\": [{\"ax\": 250, \"ay\": 25, \"showarrow\": true, \"text\": \"More gears correlate to better fuel mileage for cars with 4 cylinder engines\", \"x\": 0.45, \"y\": 28}], \"hovermode\": \"closest\", \"plot_bgcolor\": \"rgb(229, 229, 229)\", \"title\": \"<b>Fuel Mileage by Number of Cylinders and Number of Gears</b><br><i>for mtcars data</i>\", \"xaxis\": {\"gridcolor\": \"rgb(255,255,255)\", \"tickangle\": 30, \"title\": \"Number of Cylinders\", \"zerolinecolor\": \"rgb(255,255,255)\"}, \"yaxis\": {\"gridcolor\": \"rgb(255,255,255)\", \"title\": \"Miles Per Gallon\", \"zerolinecolor\": \"rgb(255,255,255)\"}}, {\"showLink\": true, \"linkText\": \"Export to plot.ly\"})});</script>"
      ],
      "text/vnd.plotly.v1+html": [
       "<div id=\"14872673-c9d6-4694-9997-f02d4bc42ac8\" style=\"height: 525px; width: 100%;\" class=\"plotly-graph-div\"></div><script type=\"text/javascript\">require([\"plotly\"], function(Plotly) { window.PLOTLYENV=window.PLOTLYENV || {};window.PLOTLYENV.BASE_URL=\"https://plot.ly\";Plotly.newPlot(\"14872673-c9d6-4694-9997-f02d4bc42ac8\", [{\"error_y\": {\"array\": [0.75, 0.75, 0.75], \"thickness\": 7, \"type\": \"data\", \"visible\": true, \"width\": 8}, \"marker\": {\"color\": [\"#232C65\", \"#9195b2\", \"#9195b2\"]}, \"name\": \"3 gears\", \"text\": [\"kw\", \"bz\", \"rj\"], \"x\": [\"4 Cylinders\", \"6 Cylinders\", \"8 Cylinders\"], \"y\": [21.5, 19.75, 15.050000000000002], \"type\": \"bar\", \"uid\": \"77707664-ec10-11e8-83b8-a0481cac4f9d\"}, {\"error_y\": {\"array\": [0.75, 0.75, 0.75], \"thickness\": 7, \"type\": \"data\", \"visible\": true, \"width\": 8}, \"marker\": {\"color\": [\"#2D2D2A\", \"#969694\", \"#969694\"]}, \"name\": \"4 gears\", \"text\": [\"wo\", \"rr\", \"to\"], \"x\": [\"4 Cylinders\", \"6 Cylinders\", \"8 Cylinders\"], \"y\": [26.925000000000004, 19.75, 15.225000000000001], \"type\": \"bar\", \"uid\": \"77707665-ec10-11e8-9629-a0481cac4f9d\"}, {\"error_y\": {\"array\": [0.75, 0.75, 0.75], \"thickness\": 7, \"type\": \"data\", \"visible\": true, \"width\": 8}, \"marker\": {\"color\": [\"#849324\", \"#c1c991\", \"#c1c991\"]}, \"name\": \"5 gears\", \"text\": [\"zv\", \"dv\", \"mh\"], \"x\": [\"4 Cylinders\", \"6 Cylinders\", \"8 Cylinders\"], \"y\": [28.2, 19.7, 15.4], \"type\": \"bar\", \"uid\": \"77707666-ec10-11e8-9510-a0481cac4f9d\"}], {\"annotations\": [{\"ax\": 250, \"ay\": 25, \"showarrow\": true, \"text\": \"More gears correlate to better fuel mileage for cars with 4 cylinder engines\", \"x\": 0.45, \"y\": 28}], \"hovermode\": \"closest\", \"plot_bgcolor\": \"rgb(229, 229, 229)\", \"title\": \"<b>Fuel Mileage by Number of Cylinders and Number of Gears</b><br><i>for mtcars data</i>\", \"xaxis\": {\"gridcolor\": \"rgb(255,255,255)\", \"tickangle\": 30, \"title\": \"Number of Cylinders\", \"zerolinecolor\": \"rgb(255,255,255)\"}, \"yaxis\": {\"gridcolor\": \"rgb(255,255,255)\", \"title\": \"Miles Per Gallon\", \"zerolinecolor\": \"rgb(255,255,255)\"}}, {\"showLink\": true, \"linkText\": \"Export to plot.ly\"})});</script>"
      ]
     },
     "metadata": {},
     "output_type": "display_data"
    }
   ],
   "source": [
    "fig = barplot.create_graph(**args)"
   ]
  },
  {
   "cell_type": "code",
   "execution_count": 15,
   "metadata": {},
   "outputs": [],
   "source": [
    "# write graph to html file \n",
    "fp = 'grouped-barplot-example.html'\n",
    "barplot.output_graph(fp, fig)"
   ]
  },
  {
   "cell_type": "markdown",
   "metadata": {},
   "source": [
    "# Create Scatterplot"
   ]
  },
  {
   "cell_type": "code",
   "execution_count": 16,
   "metadata": {},
   "outputs": [],
   "source": [
    "from rapid_plotly import scatterplot"
   ]
  },
  {
   "cell_type": "markdown",
   "metadata": {},
   "source": [
    "First, set up some data which can be used to create an example scatterplot:"
   ]
  },
  {
   "cell_type": "code",
   "execution_count": 17,
   "metadata": {},
   "outputs": [
    {
     "name": "stdout",
     "output_type": "stream",
     "text": [
      "x values:\n"
     ]
    },
    {
     "data": {
      "text/html": [
       "<div>\n",
       "<style scoped>\n",
       "    .dataframe tbody tr th:only-of-type {\n",
       "        vertical-align: middle;\n",
       "    }\n",
       "\n",
       "    .dataframe tbody tr th {\n",
       "        vertical-align: top;\n",
       "    }\n",
       "\n",
       "    .dataframe thead th {\n",
       "        text-align: right;\n",
       "    }\n",
       "</style>\n",
       "<table border=\"1\" class=\"dataframe\">\n",
       "  <thead>\n",
       "    <tr style=\"text-align: right;\">\n",
       "      <th></th>\n",
       "      <th>hp</th>\n",
       "    </tr>\n",
       "  </thead>\n",
       "  <tbody>\n",
       "    <tr>\n",
       "      <th>0</th>\n",
       "      <td>110</td>\n",
       "    </tr>\n",
       "    <tr>\n",
       "      <th>1</th>\n",
       "      <td>110</td>\n",
       "    </tr>\n",
       "    <tr>\n",
       "      <th>2</th>\n",
       "      <td>93</td>\n",
       "    </tr>\n",
       "    <tr>\n",
       "      <th>3</th>\n",
       "      <td>110</td>\n",
       "    </tr>\n",
       "    <tr>\n",
       "      <th>4</th>\n",
       "      <td>175</td>\n",
       "    </tr>\n",
       "  </tbody>\n",
       "</table>\n",
       "</div>"
      ],
      "text/plain": [
       "    hp\n",
       "0  110\n",
       "1  110\n",
       "2   93\n",
       "3  110\n",
       "4  175"
      ]
     },
     "metadata": {},
     "output_type": "display_data"
    },
    {
     "name": "stdout",
     "output_type": "stream",
     "text": [
      "y values:\n"
     ]
    },
    {
     "data": {
      "text/html": [
       "<div>\n",
       "<style scoped>\n",
       "    .dataframe tbody tr th:only-of-type {\n",
       "        vertical-align: middle;\n",
       "    }\n",
       "\n",
       "    .dataframe tbody tr th {\n",
       "        vertical-align: top;\n",
       "    }\n",
       "\n",
       "    .dataframe thead th {\n",
       "        text-align: right;\n",
       "    }\n",
       "</style>\n",
       "<table border=\"1\" class=\"dataframe\">\n",
       "  <thead>\n",
       "    <tr style=\"text-align: right;\">\n",
       "      <th></th>\n",
       "      <th>mpg</th>\n",
       "    </tr>\n",
       "  </thead>\n",
       "  <tbody>\n",
       "    <tr>\n",
       "      <th>0</th>\n",
       "      <td>21.0</td>\n",
       "    </tr>\n",
       "    <tr>\n",
       "      <th>1</th>\n",
       "      <td>21.0</td>\n",
       "    </tr>\n",
       "    <tr>\n",
       "      <th>2</th>\n",
       "      <td>22.8</td>\n",
       "    </tr>\n",
       "    <tr>\n",
       "      <th>3</th>\n",
       "      <td>21.4</td>\n",
       "    </tr>\n",
       "    <tr>\n",
       "      <th>4</th>\n",
       "      <td>18.7</td>\n",
       "    </tr>\n",
       "  </tbody>\n",
       "</table>\n",
       "</div>"
      ],
      "text/plain": [
       "    mpg\n",
       "0  21.0\n",
       "1  21.0\n",
       "2  22.8\n",
       "3  21.4\n",
       "4  18.7"
      ]
     },
     "metadata": {},
     "output_type": "display_data"
    },
    {
     "name": "stdout",
     "output_type": "stream",
     "text": [
      "names: \n"
     ]
    },
    {
     "data": {
      "text/html": [
       "<div>\n",
       "<style scoped>\n",
       "    .dataframe tbody tr th:only-of-type {\n",
       "        vertical-align: middle;\n",
       "    }\n",
       "\n",
       "    .dataframe tbody tr th {\n",
       "        vertical-align: top;\n",
       "    }\n",
       "\n",
       "    .dataframe thead th {\n",
       "        text-align: right;\n",
       "    }\n",
       "</style>\n",
       "<table border=\"1\" class=\"dataframe\">\n",
       "  <thead>\n",
       "    <tr style=\"text-align: right;\">\n",
       "      <th></th>\n",
       "      <th>hp</th>\n",
       "    </tr>\n",
       "  </thead>\n",
       "  <tbody>\n",
       "    <tr>\n",
       "      <th>0</th>\n",
       "      <td># Cylinders: 6.0&lt;br&gt;# Carbs: 4.0&lt;br&gt;# Gears: 4...</td>\n",
       "    </tr>\n",
       "    <tr>\n",
       "      <th>1</th>\n",
       "      <td># Cylinders: 6.0&lt;br&gt;# Carbs: 4.0&lt;br&gt;# Gears: 4...</td>\n",
       "    </tr>\n",
       "    <tr>\n",
       "      <th>2</th>\n",
       "      <td># Cylinders: 4.0&lt;br&gt;# Carbs: 1.0&lt;br&gt;# Gears: 4...</td>\n",
       "    </tr>\n",
       "    <tr>\n",
       "      <th>3</th>\n",
       "      <td># Cylinders: 6.0&lt;br&gt;# Carbs: 1.0&lt;br&gt;# Gears: 3...</td>\n",
       "    </tr>\n",
       "    <tr>\n",
       "      <th>4</th>\n",
       "      <td># Cylinders: 8.0&lt;br&gt;# Carbs: 2.0&lt;br&gt;# Gears: 3...</td>\n",
       "    </tr>\n",
       "  </tbody>\n",
       "</table>\n",
       "</div>"
      ],
      "text/plain": [
       "                                                  hp\n",
       "0  # Cylinders: 6.0<br># Carbs: 4.0<br># Gears: 4...\n",
       "1  # Cylinders: 6.0<br># Carbs: 4.0<br># Gears: 4...\n",
       "2  # Cylinders: 4.0<br># Carbs: 1.0<br># Gears: 4...\n",
       "3  # Cylinders: 6.0<br># Carbs: 1.0<br># Gears: 3...\n",
       "4  # Cylinders: 8.0<br># Carbs: 2.0<br># Gears: 3..."
      ]
     },
     "metadata": {},
     "output_type": "display_data"
    },
    {
     "name": "stdout",
     "output_type": "stream",
     "text": [
      "colors: \n"
     ]
    },
    {
     "data": {
      "text/html": [
       "<div>\n",
       "<style scoped>\n",
       "    .dataframe tbody tr th:only-of-type {\n",
       "        vertical-align: middle;\n",
       "    }\n",
       "\n",
       "    .dataframe tbody tr th {\n",
       "        vertical-align: top;\n",
       "    }\n",
       "\n",
       "    .dataframe thead th {\n",
       "        text-align: right;\n",
       "    }\n",
       "</style>\n",
       "<table border=\"1\" class=\"dataframe\">\n",
       "  <thead>\n",
       "    <tr style=\"text-align: right;\">\n",
       "      <th></th>\n",
       "      <th>hp</th>\n",
       "    </tr>\n",
       "  </thead>\n",
       "  <tbody>\n",
       "    <tr>\n",
       "      <th>0</th>\n",
       "      <td>#C14953</td>\n",
       "    </tr>\n",
       "    <tr>\n",
       "      <th>1</th>\n",
       "      <td>#C14953</td>\n",
       "    </tr>\n",
       "    <tr>\n",
       "      <th>2</th>\n",
       "      <td>#C14953</td>\n",
       "    </tr>\n",
       "    <tr>\n",
       "      <th>3</th>\n",
       "      <td>#C14953</td>\n",
       "    </tr>\n",
       "    <tr>\n",
       "      <th>4</th>\n",
       "      <td>#C14953</td>\n",
       "    </tr>\n",
       "  </tbody>\n",
       "</table>\n",
       "</div>"
      ],
      "text/plain": [
       "        hp\n",
       "0  #C14953\n",
       "1  #C14953\n",
       "2  #C14953\n",
       "3  #C14953\n",
       "4  #C14953"
      ]
     },
     "metadata": {},
     "output_type": "display_data"
    }
   ],
   "source": [
    "# create main data \n",
    "sl = df[['hp', 'mpg']].copy()\n",
    "x_data = sl[['hp']].copy()\n",
    "y_data = sl[['mpg']].copy()\n",
    "\n",
    "print('x values:')\n",
    "display(x_data.head())\n",
    "\n",
    "print('y values:')\n",
    "display(y_data.head())\n",
    "\n",
    "# create names\n",
    "n = (df[['cyl', 'carb', 'gear', 'wt']].apply(\n",
    "      lambda x: '# Cylinders: %s<br># Carbs: %s<br># Gears: %s<br>Weight: %s' % (x['cyl'], x['carb'], \n",
    "                                                                                   x['gear'], x['wt']),\n",
    "      axis=1\n",
    "    )\n",
    "  ).copy()\n",
    "\n",
    "n = n.rename('mpg')\n",
    "\n",
    "names = sl.copy()\n",
    "names['hp'] = n\n",
    "del names['mpg']\n",
    "\n",
    "print('names: ')\n",
    "display(names.head())\n",
    "\n",
    "# create colors \n",
    "colors = sl.copy()\n",
    "colors.loc[:, :] = '#C14953'\n",
    "del colors['mpg']\n",
    "\n",
    "print('colors: ')\n",
    "display(colors.head())"
   ]
  },
  {
   "cell_type": "markdown",
   "metadata": {},
   "source": [
    "The `scatterplot` module takes a separate dataframe for the x values and for the y values:"
   ]
  },
  {
   "cell_type": "code",
   "execution_count": 18,
   "metadata": {},
   "outputs": [
    {
     "data": {
      "text/html": [
       "<script>requirejs.config({paths: { 'plotly': ['https://cdn.plot.ly/plotly-latest.min']},});if(!window.Plotly) {{require(['plotly'],function(plotly) {window.Plotly=plotly;});}}</script>"
      ],
      "text/vnd.plotly.v1+html": [
       "<script>requirejs.config({paths: { 'plotly': ['https://cdn.plot.ly/plotly-latest.min']},});if(!window.Plotly) {{require(['plotly'],function(plotly) {window.Plotly=plotly;});}}</script>"
      ]
     },
     "metadata": {},
     "output_type": "display_data"
    },
    {
     "data": {
      "application/vnd.plotly.v1+json": {
       "data": [
        {
         "marker": {
          "color": [
           "#232C65",
           "#232C65",
           "#232C65",
           "#232C65",
           "#232C65",
           "#232C65",
           "#232C65",
           "#232C65",
           "#232C65",
           "#232C65",
           "#232C65",
           "#232C65",
           "#232C65",
           "#232C65",
           "#232C65",
           "#232C65",
           "#232C65",
           "#232C65",
           "#232C65",
           "#232C65",
           "#232C65",
           "#232C65",
           "#232C65",
           "#232C65",
           "#232C65",
           "#232C65",
           "#232C65",
           "#232C65",
           "#232C65",
           "#232C65",
           "#232C65",
           "#232C65"
          ]
         },
         "mode": "markers",
         "name": "hp",
         "text": [
          110,
          110,
          93,
          110,
          175,
          105,
          245,
          62,
          95,
          123,
          123,
          180,
          180,
          180,
          205,
          215,
          230,
          66,
          52,
          65,
          97,
          150,
          150,
          245,
          175,
          66,
          91,
          113,
          264,
          175,
          335,
          109
         ],
         "type": "scatter",
         "uid": "7f2852b6-ec10-11e8-ac06-a0481cac4f9d",
         "x": [
          110,
          110,
          93,
          110,
          175,
          105,
          245,
          62,
          95,
          123,
          123,
          180,
          180,
          180,
          205,
          215,
          230,
          66,
          52,
          65,
          97,
          150,
          150,
          245,
          175,
          66,
          91,
          113,
          264,
          175,
          335,
          109
         ],
         "y": [
          21,
          21,
          22.8,
          21.4,
          18.7,
          18.1,
          14.3,
          24.4,
          22.8,
          19.2,
          17.8,
          16.4,
          17.3,
          15.2,
          10.4,
          10.4,
          14.7,
          32.4,
          30.4,
          33.9,
          21.5,
          15.5,
          15.2,
          13.3,
          19.2,
          27.3,
          26,
          30.4,
          15.8,
          19.7,
          15,
          21.4
         ]
        }
       ],
       "layout": {
        "hovermode": "closest",
        "plot_bgcolor": "rgb(229, 229, 229)",
        "title": "title",
        "xaxis": {
         "gridcolor": "rgb(255,255,255)",
         "tickangle": 30,
         "title": "xlab",
         "zerolinecolor": "rgb(255,255,255)"
        },
        "yaxis": {
         "gridcolor": "rgb(255,255,255)",
         "title": "ylab",
         "zerolinecolor": "rgb(255,255,255)"
        }
       }
      },
      "text/html": [
       "<div id=\"4b9d4939-6564-457e-9455-5460a120868c\" style=\"height: 525px; width: 100%;\" class=\"plotly-graph-div\"></div><script type=\"text/javascript\">require([\"plotly\"], function(Plotly) { window.PLOTLYENV=window.PLOTLYENV || {};window.PLOTLYENV.BASE_URL=\"https://plot.ly\";Plotly.newPlot(\"4b9d4939-6564-457e-9455-5460a120868c\", [{\"marker\": {\"color\": [\"#232C65\", \"#232C65\", \"#232C65\", \"#232C65\", \"#232C65\", \"#232C65\", \"#232C65\", \"#232C65\", \"#232C65\", \"#232C65\", \"#232C65\", \"#232C65\", \"#232C65\", \"#232C65\", \"#232C65\", \"#232C65\", \"#232C65\", \"#232C65\", \"#232C65\", \"#232C65\", \"#232C65\", \"#232C65\", \"#232C65\", \"#232C65\", \"#232C65\", \"#232C65\", \"#232C65\", \"#232C65\", \"#232C65\", \"#232C65\", \"#232C65\", \"#232C65\"]}, \"mode\": \"markers\", \"name\": \"hp\", \"text\": [110.0, 110.0, 93.0, 110.0, 175.0, 105.0, 245.0, 62.0, 95.0, 123.0, 123.0, 180.0, 180.0, 180.0, 205.0, 215.0, 230.0, 66.0, 52.0, 65.0, 97.0, 150.0, 150.0, 245.0, 175.0, 66.0, 91.0, 113.0, 264.0, 175.0, 335.0, 109.0], \"x\": [110, 110, 93, 110, 175, 105, 245, 62, 95, 123, 123, 180, 180, 180, 205, 215, 230, 66, 52, 65, 97, 150, 150, 245, 175, 66, 91, 113, 264, 175, 335, 109], \"y\": [21.0, 21.0, 22.8, 21.4, 18.7, 18.1, 14.3, 24.4, 22.8, 19.2, 17.8, 16.4, 17.3, 15.2, 10.4, 10.4, 14.7, 32.4, 30.4, 33.9, 21.5, 15.5, 15.2, 13.3, 19.2, 27.3, 26.0, 30.4, 15.8, 19.7, 15.0, 21.4], \"type\": \"scatter\", \"uid\": \"7f2852b6-ec10-11e8-ac06-a0481cac4f9d\"}], {\"hovermode\": \"closest\", \"plot_bgcolor\": \"rgb(229, 229, 229)\", \"title\": \"title\", \"xaxis\": {\"gridcolor\": \"rgb(255,255,255)\", \"tickangle\": 30, \"title\": \"xlab\", \"zerolinecolor\": \"rgb(255,255,255)\"}, \"yaxis\": {\"gridcolor\": \"rgb(255,255,255)\", \"title\": \"ylab\", \"zerolinecolor\": \"rgb(255,255,255)\"}}, {\"showLink\": true, \"linkText\": \"Export to plot.ly\"})});</script>"
      ],
      "text/vnd.plotly.v1+html": [
       "<div id=\"4b9d4939-6564-457e-9455-5460a120868c\" style=\"height: 525px; width: 100%;\" class=\"plotly-graph-div\"></div><script type=\"text/javascript\">require([\"plotly\"], function(Plotly) { window.PLOTLYENV=window.PLOTLYENV || {};window.PLOTLYENV.BASE_URL=\"https://plot.ly\";Plotly.newPlot(\"4b9d4939-6564-457e-9455-5460a120868c\", [{\"marker\": {\"color\": [\"#232C65\", \"#232C65\", \"#232C65\", \"#232C65\", \"#232C65\", \"#232C65\", \"#232C65\", \"#232C65\", \"#232C65\", \"#232C65\", \"#232C65\", \"#232C65\", \"#232C65\", \"#232C65\", \"#232C65\", \"#232C65\", \"#232C65\", \"#232C65\", \"#232C65\", \"#232C65\", \"#232C65\", \"#232C65\", \"#232C65\", \"#232C65\", \"#232C65\", \"#232C65\", \"#232C65\", \"#232C65\", \"#232C65\", \"#232C65\", \"#232C65\", \"#232C65\"]}, \"mode\": \"markers\", \"name\": \"hp\", \"text\": [110.0, 110.0, 93.0, 110.0, 175.0, 105.0, 245.0, 62.0, 95.0, 123.0, 123.0, 180.0, 180.0, 180.0, 205.0, 215.0, 230.0, 66.0, 52.0, 65.0, 97.0, 150.0, 150.0, 245.0, 175.0, 66.0, 91.0, 113.0, 264.0, 175.0, 335.0, 109.0], \"x\": [110, 110, 93, 110, 175, 105, 245, 62, 95, 123, 123, 180, 180, 180, 205, 215, 230, 66, 52, 65, 97, 150, 150, 245, 175, 66, 91, 113, 264, 175, 335, 109], \"y\": [21.0, 21.0, 22.8, 21.4, 18.7, 18.1, 14.3, 24.4, 22.8, 19.2, 17.8, 16.4, 17.3, 15.2, 10.4, 10.4, 14.7, 32.4, 30.4, 33.9, 21.5, 15.5, 15.2, 13.3, 19.2, 27.3, 26.0, 30.4, 15.8, 19.7, 15.0, 21.4], \"type\": \"scatter\", \"uid\": \"7f2852b6-ec10-11e8-ac06-a0481cac4f9d\"}], {\"hovermode\": \"closest\", \"plot_bgcolor\": \"rgb(229, 229, 229)\", \"title\": \"title\", \"xaxis\": {\"gridcolor\": \"rgb(255,255,255)\", \"tickangle\": 30, \"title\": \"xlab\", \"zerolinecolor\": \"rgb(255,255,255)\"}, \"yaxis\": {\"gridcolor\": \"rgb(255,255,255)\", \"title\": \"ylab\", \"zerolinecolor\": \"rgb(255,255,255)\"}}, {\"showLink\": true, \"linkText\": \"Export to plot.ly\"})});</script>"
      ]
     },
     "metadata": {},
     "output_type": "display_data"
    }
   ],
   "source": [
    "args = {'x_data':x_data, 'y_data':y_data}\n",
    "fig = scatterplot.create_graph(**args)"
   ]
  },
  {
   "cell_type": "markdown",
   "metadata": {},
   "source": [
    "Adding names, labels and colors:"
   ]
  },
  {
   "cell_type": "code",
   "execution_count": 19,
   "metadata": {},
   "outputs": [
    {
     "data": {
      "text/html": [
       "<script>requirejs.config({paths: { 'plotly': ['https://cdn.plot.ly/plotly-latest.min']},});if(!window.Plotly) {{require(['plotly'],function(plotly) {window.Plotly=plotly;});}}</script>"
      ],
      "text/vnd.plotly.v1+html": [
       "<script>requirejs.config({paths: { 'plotly': ['https://cdn.plot.ly/plotly-latest.min']},});if(!window.Plotly) {{require(['plotly'],function(plotly) {window.Plotly=plotly;});}}</script>"
      ]
     },
     "metadata": {},
     "output_type": "display_data"
    },
    {
     "data": {
      "application/vnd.plotly.v1+json": {
       "data": [
        {
         "marker": {
          "color": [
           "#C14953",
           "#C14953",
           "#C14953",
           "#C14953",
           "#C14953",
           "#C14953",
           "#C14953",
           "#C14953",
           "#C14953",
           "#C14953",
           "#C14953",
           "#C14953",
           "#C14953",
           "#C14953",
           "#C14953",
           "#C14953",
           "#C14953",
           "#C14953",
           "#C14953",
           "#C14953",
           "#C14953",
           "#C14953",
           "#C14953",
           "#C14953",
           "#C14953",
           "#C14953",
           "#C14953",
           "#C14953",
           "#C14953",
           "#C14953",
           "#C14953",
           "#C14953"
          ]
         },
         "mode": "markers",
         "name": "hp",
         "text": [
          "# Cylinders: 6.0<br># Carbs: 4.0<br># Gears: 4.0<br>Weight: 2.62",
          "# Cylinders: 6.0<br># Carbs: 4.0<br># Gears: 4.0<br>Weight: 2.875",
          "# Cylinders: 4.0<br># Carbs: 1.0<br># Gears: 4.0<br>Weight: 2.32",
          "# Cylinders: 6.0<br># Carbs: 1.0<br># Gears: 3.0<br>Weight: 3.215",
          "# Cylinders: 8.0<br># Carbs: 2.0<br># Gears: 3.0<br>Weight: 3.44",
          "# Cylinders: 6.0<br># Carbs: 1.0<br># Gears: 3.0<br>Weight: 3.46",
          "# Cylinders: 8.0<br># Carbs: 4.0<br># Gears: 3.0<br>Weight: 3.57",
          "# Cylinders: 4.0<br># Carbs: 2.0<br># Gears: 4.0<br>Weight: 3.19",
          "# Cylinders: 4.0<br># Carbs: 2.0<br># Gears: 4.0<br>Weight: 3.15",
          "# Cylinders: 6.0<br># Carbs: 4.0<br># Gears: 4.0<br>Weight: 3.44",
          "# Cylinders: 6.0<br># Carbs: 4.0<br># Gears: 4.0<br>Weight: 3.44",
          "# Cylinders: 8.0<br># Carbs: 3.0<br># Gears: 3.0<br>Weight: 4.07",
          "# Cylinders: 8.0<br># Carbs: 3.0<br># Gears: 3.0<br>Weight: 3.73",
          "# Cylinders: 8.0<br># Carbs: 3.0<br># Gears: 3.0<br>Weight: 3.78",
          "# Cylinders: 8.0<br># Carbs: 4.0<br># Gears: 3.0<br>Weight: 5.25",
          "# Cylinders: 8.0<br># Carbs: 4.0<br># Gears: 3.0<br>Weight: 5.4239999999999995",
          "# Cylinders: 8.0<br># Carbs: 4.0<br># Gears: 3.0<br>Weight: 5.345",
          "# Cylinders: 4.0<br># Carbs: 1.0<br># Gears: 4.0<br>Weight: 2.2",
          "# Cylinders: 4.0<br># Carbs: 2.0<br># Gears: 4.0<br>Weight: 1.615",
          "# Cylinders: 4.0<br># Carbs: 1.0<br># Gears: 4.0<br>Weight: 1.835",
          "# Cylinders: 4.0<br># Carbs: 1.0<br># Gears: 3.0<br>Weight: 2.465",
          "# Cylinders: 8.0<br># Carbs: 2.0<br># Gears: 3.0<br>Weight: 3.52",
          "# Cylinders: 8.0<br># Carbs: 2.0<br># Gears: 3.0<br>Weight: 3.435",
          "# Cylinders: 8.0<br># Carbs: 4.0<br># Gears: 3.0<br>Weight: 3.84",
          "# Cylinders: 8.0<br># Carbs: 2.0<br># Gears: 3.0<br>Weight: 3.845",
          "# Cylinders: 4.0<br># Carbs: 1.0<br># Gears: 4.0<br>Weight: 1.935",
          "# Cylinders: 4.0<br># Carbs: 2.0<br># Gears: 5.0<br>Weight: 2.14",
          "# Cylinders: 4.0<br># Carbs: 2.0<br># Gears: 5.0<br>Weight: 1.5130000000000001",
          "# Cylinders: 8.0<br># Carbs: 4.0<br># Gears: 5.0<br>Weight: 3.17",
          "# Cylinders: 6.0<br># Carbs: 6.0<br># Gears: 5.0<br>Weight: 2.77",
          "# Cylinders: 8.0<br># Carbs: 8.0<br># Gears: 5.0<br>Weight: 3.57",
          "# Cylinders: 4.0<br># Carbs: 2.0<br># Gears: 4.0<br>Weight: 2.78"
         ],
         "type": "scatter",
         "uid": "800d8294-ec10-11e8-9985-a0481cac4f9d",
         "x": [
          110,
          110,
          93,
          110,
          175,
          105,
          245,
          62,
          95,
          123,
          123,
          180,
          180,
          180,
          205,
          215,
          230,
          66,
          52,
          65,
          97,
          150,
          150,
          245,
          175,
          66,
          91,
          113,
          264,
          175,
          335,
          109
         ],
         "y": [
          21,
          21,
          22.8,
          21.4,
          18.7,
          18.1,
          14.3,
          24.4,
          22.8,
          19.2,
          17.8,
          16.4,
          17.3,
          15.2,
          10.4,
          10.4,
          14.7,
          32.4,
          30.4,
          33.9,
          21.5,
          15.5,
          15.2,
          13.3,
          19.2,
          27.3,
          26,
          30.4,
          15.8,
          19.7,
          15,
          21.4
         ]
        }
       ],
       "layout": {
        "hovermode": "closest",
        "plot_bgcolor": "rgb(229, 229, 229)",
        "title": "<b>Fuel Mileage as a Function of Horsepower</b><br><i>for mtcars data</i>",
        "xaxis": {
         "gridcolor": "rgb(255,255,255)",
         "tickangle": 30,
         "title": "Horsepower",
         "zerolinecolor": "rgb(255,255,255)"
        },
        "yaxis": {
         "gridcolor": "rgb(255,255,255)",
         "title": "Fuel Mileage (mpg)",
         "zerolinecolor": "rgb(255,255,255)"
        }
       }
      },
      "text/html": [
       "<div id=\"4f5bf60d-54e3-4e54-837e-c09ea8c7de35\" style=\"height: 525px; width: 100%;\" class=\"plotly-graph-div\"></div><script type=\"text/javascript\">require([\"plotly\"], function(Plotly) { window.PLOTLYENV=window.PLOTLYENV || {};window.PLOTLYENV.BASE_URL=\"https://plot.ly\";Plotly.newPlot(\"4f5bf60d-54e3-4e54-837e-c09ea8c7de35\", [{\"marker\": {\"color\": [\"#C14953\", \"#C14953\", \"#C14953\", \"#C14953\", \"#C14953\", \"#C14953\", \"#C14953\", \"#C14953\", \"#C14953\", \"#C14953\", \"#C14953\", \"#C14953\", \"#C14953\", \"#C14953\", \"#C14953\", \"#C14953\", \"#C14953\", \"#C14953\", \"#C14953\", \"#C14953\", \"#C14953\", \"#C14953\", \"#C14953\", \"#C14953\", \"#C14953\", \"#C14953\", \"#C14953\", \"#C14953\", \"#C14953\", \"#C14953\", \"#C14953\", \"#C14953\"]}, \"mode\": \"markers\", \"name\": \"hp\", \"text\": [\"# Cylinders: 6.0<br># Carbs: 4.0<br># Gears: 4.0<br>Weight: 2.62\", \"# Cylinders: 6.0<br># Carbs: 4.0<br># Gears: 4.0<br>Weight: 2.875\", \"# Cylinders: 4.0<br># Carbs: 1.0<br># Gears: 4.0<br>Weight: 2.32\", \"# Cylinders: 6.0<br># Carbs: 1.0<br># Gears: 3.0<br>Weight: 3.215\", \"# Cylinders: 8.0<br># Carbs: 2.0<br># Gears: 3.0<br>Weight: 3.44\", \"# Cylinders: 6.0<br># Carbs: 1.0<br># Gears: 3.0<br>Weight: 3.46\", \"# Cylinders: 8.0<br># Carbs: 4.0<br># Gears: 3.0<br>Weight: 3.57\", \"# Cylinders: 4.0<br># Carbs: 2.0<br># Gears: 4.0<br>Weight: 3.19\", \"# Cylinders: 4.0<br># Carbs: 2.0<br># Gears: 4.0<br>Weight: 3.15\", \"# Cylinders: 6.0<br># Carbs: 4.0<br># Gears: 4.0<br>Weight: 3.44\", \"# Cylinders: 6.0<br># Carbs: 4.0<br># Gears: 4.0<br>Weight: 3.44\", \"# Cylinders: 8.0<br># Carbs: 3.0<br># Gears: 3.0<br>Weight: 4.07\", \"# Cylinders: 8.0<br># Carbs: 3.0<br># Gears: 3.0<br>Weight: 3.73\", \"# Cylinders: 8.0<br># Carbs: 3.0<br># Gears: 3.0<br>Weight: 3.78\", \"# Cylinders: 8.0<br># Carbs: 4.0<br># Gears: 3.0<br>Weight: 5.25\", \"# Cylinders: 8.0<br># Carbs: 4.0<br># Gears: 3.0<br>Weight: 5.4239999999999995\", \"# Cylinders: 8.0<br># Carbs: 4.0<br># Gears: 3.0<br>Weight: 5.345\", \"# Cylinders: 4.0<br># Carbs: 1.0<br># Gears: 4.0<br>Weight: 2.2\", \"# Cylinders: 4.0<br># Carbs: 2.0<br># Gears: 4.0<br>Weight: 1.615\", \"# Cylinders: 4.0<br># Carbs: 1.0<br># Gears: 4.0<br>Weight: 1.835\", \"# Cylinders: 4.0<br># Carbs: 1.0<br># Gears: 3.0<br>Weight: 2.465\", \"# Cylinders: 8.0<br># Carbs: 2.0<br># Gears: 3.0<br>Weight: 3.52\", \"# Cylinders: 8.0<br># Carbs: 2.0<br># Gears: 3.0<br>Weight: 3.435\", \"# Cylinders: 8.0<br># Carbs: 4.0<br># Gears: 3.0<br>Weight: 3.84\", \"# Cylinders: 8.0<br># Carbs: 2.0<br># Gears: 3.0<br>Weight: 3.845\", \"# Cylinders: 4.0<br># Carbs: 1.0<br># Gears: 4.0<br>Weight: 1.935\", \"# Cylinders: 4.0<br># Carbs: 2.0<br># Gears: 5.0<br>Weight: 2.14\", \"# Cylinders: 4.0<br># Carbs: 2.0<br># Gears: 5.0<br>Weight: 1.5130000000000001\", \"# Cylinders: 8.0<br># Carbs: 4.0<br># Gears: 5.0<br>Weight: 3.17\", \"# Cylinders: 6.0<br># Carbs: 6.0<br># Gears: 5.0<br>Weight: 2.77\", \"# Cylinders: 8.0<br># Carbs: 8.0<br># Gears: 5.0<br>Weight: 3.57\", \"# Cylinders: 4.0<br># Carbs: 2.0<br># Gears: 4.0<br>Weight: 2.78\"], \"x\": [110, 110, 93, 110, 175, 105, 245, 62, 95, 123, 123, 180, 180, 180, 205, 215, 230, 66, 52, 65, 97, 150, 150, 245, 175, 66, 91, 113, 264, 175, 335, 109], \"y\": [21.0, 21.0, 22.8, 21.4, 18.7, 18.1, 14.3, 24.4, 22.8, 19.2, 17.8, 16.4, 17.3, 15.2, 10.4, 10.4, 14.7, 32.4, 30.4, 33.9, 21.5, 15.5, 15.2, 13.3, 19.2, 27.3, 26.0, 30.4, 15.8, 19.7, 15.0, 21.4], \"type\": \"scatter\", \"uid\": \"800d8294-ec10-11e8-9985-a0481cac4f9d\"}], {\"hovermode\": \"closest\", \"plot_bgcolor\": \"rgb(229, 229, 229)\", \"title\": \"<b>Fuel Mileage as a Function of Horsepower</b><br><i>for mtcars data</i>\", \"xaxis\": {\"gridcolor\": \"rgb(255,255,255)\", \"tickangle\": 30, \"title\": \"Horsepower\", \"zerolinecolor\": \"rgb(255,255,255)\"}, \"yaxis\": {\"gridcolor\": \"rgb(255,255,255)\", \"title\": \"Fuel Mileage (mpg)\", \"zerolinecolor\": \"rgb(255,255,255)\"}}, {\"showLink\": true, \"linkText\": \"Export to plot.ly\"})});</script>"
      ],
      "text/vnd.plotly.v1+html": [
       "<div id=\"4f5bf60d-54e3-4e54-837e-c09ea8c7de35\" style=\"height: 525px; width: 100%;\" class=\"plotly-graph-div\"></div><script type=\"text/javascript\">require([\"plotly\"], function(Plotly) { window.PLOTLYENV=window.PLOTLYENV || {};window.PLOTLYENV.BASE_URL=\"https://plot.ly\";Plotly.newPlot(\"4f5bf60d-54e3-4e54-837e-c09ea8c7de35\", [{\"marker\": {\"color\": [\"#C14953\", \"#C14953\", \"#C14953\", \"#C14953\", \"#C14953\", \"#C14953\", \"#C14953\", \"#C14953\", \"#C14953\", \"#C14953\", \"#C14953\", \"#C14953\", \"#C14953\", \"#C14953\", \"#C14953\", \"#C14953\", \"#C14953\", \"#C14953\", \"#C14953\", \"#C14953\", \"#C14953\", \"#C14953\", \"#C14953\", \"#C14953\", \"#C14953\", \"#C14953\", \"#C14953\", \"#C14953\", \"#C14953\", \"#C14953\", \"#C14953\", \"#C14953\"]}, \"mode\": \"markers\", \"name\": \"hp\", \"text\": [\"# Cylinders: 6.0<br># Carbs: 4.0<br># Gears: 4.0<br>Weight: 2.62\", \"# Cylinders: 6.0<br># Carbs: 4.0<br># Gears: 4.0<br>Weight: 2.875\", \"# Cylinders: 4.0<br># Carbs: 1.0<br># Gears: 4.0<br>Weight: 2.32\", \"# Cylinders: 6.0<br># Carbs: 1.0<br># Gears: 3.0<br>Weight: 3.215\", \"# Cylinders: 8.0<br># Carbs: 2.0<br># Gears: 3.0<br>Weight: 3.44\", \"# Cylinders: 6.0<br># Carbs: 1.0<br># Gears: 3.0<br>Weight: 3.46\", \"# Cylinders: 8.0<br># Carbs: 4.0<br># Gears: 3.0<br>Weight: 3.57\", \"# Cylinders: 4.0<br># Carbs: 2.0<br># Gears: 4.0<br>Weight: 3.19\", \"# Cylinders: 4.0<br># Carbs: 2.0<br># Gears: 4.0<br>Weight: 3.15\", \"# Cylinders: 6.0<br># Carbs: 4.0<br># Gears: 4.0<br>Weight: 3.44\", \"# Cylinders: 6.0<br># Carbs: 4.0<br># Gears: 4.0<br>Weight: 3.44\", \"# Cylinders: 8.0<br># Carbs: 3.0<br># Gears: 3.0<br>Weight: 4.07\", \"# Cylinders: 8.0<br># Carbs: 3.0<br># Gears: 3.0<br>Weight: 3.73\", \"# Cylinders: 8.0<br># Carbs: 3.0<br># Gears: 3.0<br>Weight: 3.78\", \"# Cylinders: 8.0<br># Carbs: 4.0<br># Gears: 3.0<br>Weight: 5.25\", \"# Cylinders: 8.0<br># Carbs: 4.0<br># Gears: 3.0<br>Weight: 5.4239999999999995\", \"# Cylinders: 8.0<br># Carbs: 4.0<br># Gears: 3.0<br>Weight: 5.345\", \"# Cylinders: 4.0<br># Carbs: 1.0<br># Gears: 4.0<br>Weight: 2.2\", \"# Cylinders: 4.0<br># Carbs: 2.0<br># Gears: 4.0<br>Weight: 1.615\", \"# Cylinders: 4.0<br># Carbs: 1.0<br># Gears: 4.0<br>Weight: 1.835\", \"# Cylinders: 4.0<br># Carbs: 1.0<br># Gears: 3.0<br>Weight: 2.465\", \"# Cylinders: 8.0<br># Carbs: 2.0<br># Gears: 3.0<br>Weight: 3.52\", \"# Cylinders: 8.0<br># Carbs: 2.0<br># Gears: 3.0<br>Weight: 3.435\", \"# Cylinders: 8.0<br># Carbs: 4.0<br># Gears: 3.0<br>Weight: 3.84\", \"# Cylinders: 8.0<br># Carbs: 2.0<br># Gears: 3.0<br>Weight: 3.845\", \"# Cylinders: 4.0<br># Carbs: 1.0<br># Gears: 4.0<br>Weight: 1.935\", \"# Cylinders: 4.0<br># Carbs: 2.0<br># Gears: 5.0<br>Weight: 2.14\", \"# Cylinders: 4.0<br># Carbs: 2.0<br># Gears: 5.0<br>Weight: 1.5130000000000001\", \"# Cylinders: 8.0<br># Carbs: 4.0<br># Gears: 5.0<br>Weight: 3.17\", \"# Cylinders: 6.0<br># Carbs: 6.0<br># Gears: 5.0<br>Weight: 2.77\", \"# Cylinders: 8.0<br># Carbs: 8.0<br># Gears: 5.0<br>Weight: 3.57\", \"# Cylinders: 4.0<br># Carbs: 2.0<br># Gears: 4.0<br>Weight: 2.78\"], \"x\": [110, 110, 93, 110, 175, 105, 245, 62, 95, 123, 123, 180, 180, 180, 205, 215, 230, 66, 52, 65, 97, 150, 150, 245, 175, 66, 91, 113, 264, 175, 335, 109], \"y\": [21.0, 21.0, 22.8, 21.4, 18.7, 18.1, 14.3, 24.4, 22.8, 19.2, 17.8, 16.4, 17.3, 15.2, 10.4, 10.4, 14.7, 32.4, 30.4, 33.9, 21.5, 15.5, 15.2, 13.3, 19.2, 27.3, 26.0, 30.4, 15.8, 19.7, 15.0, 21.4], \"type\": \"scatter\", \"uid\": \"800d8294-ec10-11e8-9985-a0481cac4f9d\"}], {\"hovermode\": \"closest\", \"plot_bgcolor\": \"rgb(229, 229, 229)\", \"title\": \"<b>Fuel Mileage as a Function of Horsepower</b><br><i>for mtcars data</i>\", \"xaxis\": {\"gridcolor\": \"rgb(255,255,255)\", \"tickangle\": 30, \"title\": \"Horsepower\", \"zerolinecolor\": \"rgb(255,255,255)\"}, \"yaxis\": {\"gridcolor\": \"rgb(255,255,255)\", \"title\": \"Fuel Mileage (mpg)\", \"zerolinecolor\": \"rgb(255,255,255)\"}}, {\"showLink\": true, \"linkText\": \"Export to plot.ly\"})});</script>"
      ]
     },
     "metadata": {},
     "output_type": "display_data"
    }
   ],
   "source": [
    "# build graph args \n",
    "args['names'] = names\n",
    "args['colors'] = colors\n",
    "args['title'] = '<b>Fuel Mileage as a Function of Horsepower</b><br><i>for mtcars data</i>'\n",
    "args['xlab'] = 'Horsepower'\n",
    "args['ylab'] = 'Fuel Mileage (mpg)'\n",
    "\n",
    "# display plot\n",
    "fig = scatterplot.create_graph(**args)"
   ]
  },
  {
   "cell_type": "markdown",
   "metadata": {},
   "source": [
    "The `scatterplot` module allows for passing lists of x and y values to plot multiple series of data on the sample plot. \n",
    "\n",
    "Generate example data which compares `hp` and `mpg` before and after a made-up fuel mileage enhancement:"
   ]
  },
  {
   "cell_type": "code",
   "execution_count": 20,
   "metadata": {},
   "outputs": [
    {
     "name": "stdout",
     "output_type": "stream",
     "text": [
      "x1 values:\n"
     ]
    },
    {
     "data": {
      "text/html": [
       "<div>\n",
       "<style scoped>\n",
       "    .dataframe tbody tr th:only-of-type {\n",
       "        vertical-align: middle;\n",
       "    }\n",
       "\n",
       "    .dataframe tbody tr th {\n",
       "        vertical-align: top;\n",
       "    }\n",
       "\n",
       "    .dataframe thead th {\n",
       "        text-align: right;\n",
       "    }\n",
       "</style>\n",
       "<table border=\"1\" class=\"dataframe\">\n",
       "  <thead>\n",
       "    <tr style=\"text-align: right;\">\n",
       "      <th></th>\n",
       "      <th>hp</th>\n",
       "    </tr>\n",
       "  </thead>\n",
       "  <tbody>\n",
       "    <tr>\n",
       "      <th>0</th>\n",
       "      <td>110</td>\n",
       "    </tr>\n",
       "    <tr>\n",
       "      <th>1</th>\n",
       "      <td>110</td>\n",
       "    </tr>\n",
       "    <tr>\n",
       "      <th>2</th>\n",
       "      <td>93</td>\n",
       "    </tr>\n",
       "    <tr>\n",
       "      <th>3</th>\n",
       "      <td>110</td>\n",
       "    </tr>\n",
       "    <tr>\n",
       "      <th>4</th>\n",
       "      <td>175</td>\n",
       "    </tr>\n",
       "  </tbody>\n",
       "</table>\n",
       "</div>"
      ],
      "text/plain": [
       "    hp\n",
       "0  110\n",
       "1  110\n",
       "2   93\n",
       "3  110\n",
       "4  175"
      ]
     },
     "metadata": {},
     "output_type": "display_data"
    },
    {
     "name": "stdout",
     "output_type": "stream",
     "text": [
      "x2 values:\n"
     ]
    },
    {
     "data": {
      "text/html": [
       "<div>\n",
       "<style scoped>\n",
       "    .dataframe tbody tr th:only-of-type {\n",
       "        vertical-align: middle;\n",
       "    }\n",
       "\n",
       "    .dataframe tbody tr th {\n",
       "        vertical-align: top;\n",
       "    }\n",
       "\n",
       "    .dataframe thead th {\n",
       "        text-align: right;\n",
       "    }\n",
       "</style>\n",
       "<table border=\"1\" class=\"dataframe\">\n",
       "  <thead>\n",
       "    <tr style=\"text-align: right;\">\n",
       "      <th></th>\n",
       "      <th>hp_alt</th>\n",
       "    </tr>\n",
       "  </thead>\n",
       "  <tbody>\n",
       "    <tr>\n",
       "      <th>0</th>\n",
       "      <td>107.623445</td>\n",
       "    </tr>\n",
       "    <tr>\n",
       "      <th>1</th>\n",
       "      <td>106.420366</td>\n",
       "    </tr>\n",
       "    <tr>\n",
       "      <th>2</th>\n",
       "      <td>88.422403</td>\n",
       "    </tr>\n",
       "    <tr>\n",
       "      <th>3</th>\n",
       "      <td>105.298869</td>\n",
       "    </tr>\n",
       "    <tr>\n",
       "      <th>4</th>\n",
       "      <td>169.842486</td>\n",
       "    </tr>\n",
       "  </tbody>\n",
       "</table>\n",
       "</div>"
      ],
      "text/plain": [
       "       hp_alt\n",
       "0  107.623445\n",
       "1  106.420366\n",
       "2   88.422403\n",
       "3  105.298869\n",
       "4  169.842486"
      ]
     },
     "metadata": {},
     "output_type": "display_data"
    },
    {
     "name": "stdout",
     "output_type": "stream",
     "text": [
      "y1 values:\n"
     ]
    },
    {
     "data": {
      "text/html": [
       "<div>\n",
       "<style scoped>\n",
       "    .dataframe tbody tr th:only-of-type {\n",
       "        vertical-align: middle;\n",
       "    }\n",
       "\n",
       "    .dataframe tbody tr th {\n",
       "        vertical-align: top;\n",
       "    }\n",
       "\n",
       "    .dataframe thead th {\n",
       "        text-align: right;\n",
       "    }\n",
       "</style>\n",
       "<table border=\"1\" class=\"dataframe\">\n",
       "  <thead>\n",
       "    <tr style=\"text-align: right;\">\n",
       "      <th></th>\n",
       "      <th>mpg</th>\n",
       "    </tr>\n",
       "  </thead>\n",
       "  <tbody>\n",
       "    <tr>\n",
       "      <th>0</th>\n",
       "      <td>21.0</td>\n",
       "    </tr>\n",
       "    <tr>\n",
       "      <th>1</th>\n",
       "      <td>21.0</td>\n",
       "    </tr>\n",
       "    <tr>\n",
       "      <th>2</th>\n",
       "      <td>22.8</td>\n",
       "    </tr>\n",
       "    <tr>\n",
       "      <th>3</th>\n",
       "      <td>21.4</td>\n",
       "    </tr>\n",
       "    <tr>\n",
       "      <th>4</th>\n",
       "      <td>18.7</td>\n",
       "    </tr>\n",
       "  </tbody>\n",
       "</table>\n",
       "</div>"
      ],
      "text/plain": [
       "    mpg\n",
       "0  21.0\n",
       "1  21.0\n",
       "2  22.8\n",
       "3  21.4\n",
       "4  18.7"
      ]
     },
     "metadata": {},
     "output_type": "display_data"
    },
    {
     "name": "stdout",
     "output_type": "stream",
     "text": [
      "y2 values:\n"
     ]
    },
    {
     "data": {
      "text/html": [
       "<div>\n",
       "<style scoped>\n",
       "    .dataframe tbody tr th:only-of-type {\n",
       "        vertical-align: middle;\n",
       "    }\n",
       "\n",
       "    .dataframe tbody tr th {\n",
       "        vertical-align: top;\n",
       "    }\n",
       "\n",
       "    .dataframe thead th {\n",
       "        text-align: right;\n",
       "    }\n",
       "</style>\n",
       "<table border=\"1\" class=\"dataframe\">\n",
       "  <thead>\n",
       "    <tr style=\"text-align: right;\">\n",
       "      <th></th>\n",
       "      <th>mpg_alt</th>\n",
       "    </tr>\n",
       "  </thead>\n",
       "  <tbody>\n",
       "    <tr>\n",
       "      <th>0</th>\n",
       "      <td>25.338094</td>\n",
       "    </tr>\n",
       "    <tr>\n",
       "      <th>1</th>\n",
       "      <td>25.671045</td>\n",
       "    </tr>\n",
       "    <tr>\n",
       "      <th>2</th>\n",
       "      <td>29.809825</td>\n",
       "    </tr>\n",
       "    <tr>\n",
       "      <th>3</th>\n",
       "      <td>26.056974</td>\n",
       "    </tr>\n",
       "    <tr>\n",
       "      <th>4</th>\n",
       "      <td>22.908030</td>\n",
       "    </tr>\n",
       "  </tbody>\n",
       "</table>\n",
       "</div>"
      ],
      "text/plain": [
       "     mpg_alt\n",
       "0  25.338094\n",
       "1  25.671045\n",
       "2  29.809825\n",
       "3  26.056974\n",
       "4  22.908030"
      ]
     },
     "metadata": {},
     "output_type": "display_data"
    },
    {
     "name": "stdout",
     "output_type": "stream",
     "text": [
      "names: \n"
     ]
    },
    {
     "data": {
      "text/html": [
       "<div>\n",
       "<style scoped>\n",
       "    .dataframe tbody tr th:only-of-type {\n",
       "        vertical-align: middle;\n",
       "    }\n",
       "\n",
       "    .dataframe tbody tr th {\n",
       "        vertical-align: top;\n",
       "    }\n",
       "\n",
       "    .dataframe thead th {\n",
       "        text-align: right;\n",
       "    }\n",
       "</style>\n",
       "<table border=\"1\" class=\"dataframe\">\n",
       "  <thead>\n",
       "    <tr style=\"text-align: right;\">\n",
       "      <th></th>\n",
       "      <th>hp</th>\n",
       "      <th>hp_alt</th>\n",
       "    </tr>\n",
       "  </thead>\n",
       "  <tbody>\n",
       "    <tr>\n",
       "      <th>0</th>\n",
       "      <td>Before Treatment&lt;br&gt;Car ID 0.0&lt;br&gt;# Cylinders:...</td>\n",
       "      <td>After Treatment&lt;br&gt;Car ID 0.0&lt;br&gt;# Cylinders: ...</td>\n",
       "    </tr>\n",
       "    <tr>\n",
       "      <th>1</th>\n",
       "      <td>Before Treatment&lt;br&gt;Car ID 1.0&lt;br&gt;# Cylinders:...</td>\n",
       "      <td>After Treatment&lt;br&gt;Car ID 1.0&lt;br&gt;# Cylinders: ...</td>\n",
       "    </tr>\n",
       "    <tr>\n",
       "      <th>2</th>\n",
       "      <td>Before Treatment&lt;br&gt;Car ID 2.0&lt;br&gt;# Cylinders:...</td>\n",
       "      <td>After Treatment&lt;br&gt;Car ID 2.0&lt;br&gt;# Cylinders: ...</td>\n",
       "    </tr>\n",
       "    <tr>\n",
       "      <th>3</th>\n",
       "      <td>Before Treatment&lt;br&gt;Car ID 3.0&lt;br&gt;# Cylinders:...</td>\n",
       "      <td>After Treatment&lt;br&gt;Car ID 3.0&lt;br&gt;# Cylinders: ...</td>\n",
       "    </tr>\n",
       "    <tr>\n",
       "      <th>4</th>\n",
       "      <td>Before Treatment&lt;br&gt;Car ID 4.0&lt;br&gt;# Cylinders:...</td>\n",
       "      <td>After Treatment&lt;br&gt;Car ID 4.0&lt;br&gt;# Cylinders: ...</td>\n",
       "    </tr>\n",
       "  </tbody>\n",
       "</table>\n",
       "</div>"
      ],
      "text/plain": [
       "                                                  hp  \\\n",
       "0  Before Treatment<br>Car ID 0.0<br># Cylinders:...   \n",
       "1  Before Treatment<br>Car ID 1.0<br># Cylinders:...   \n",
       "2  Before Treatment<br>Car ID 2.0<br># Cylinders:...   \n",
       "3  Before Treatment<br>Car ID 3.0<br># Cylinders:...   \n",
       "4  Before Treatment<br>Car ID 4.0<br># Cylinders:...   \n",
       "\n",
       "                                              hp_alt  \n",
       "0  After Treatment<br>Car ID 0.0<br># Cylinders: ...  \n",
       "1  After Treatment<br>Car ID 1.0<br># Cylinders: ...  \n",
       "2  After Treatment<br>Car ID 2.0<br># Cylinders: ...  \n",
       "3  After Treatment<br>Car ID 3.0<br># Cylinders: ...  \n",
       "4  After Treatment<br>Car ID 4.0<br># Cylinders: ...  "
      ]
     },
     "metadata": {},
     "output_type": "display_data"
    },
    {
     "name": "stdout",
     "output_type": "stream",
     "text": [
      "colors: \n"
     ]
    },
    {
     "data": {
      "text/html": [
       "<div>\n",
       "<style scoped>\n",
       "    .dataframe tbody tr th:only-of-type {\n",
       "        vertical-align: middle;\n",
       "    }\n",
       "\n",
       "    .dataframe tbody tr th {\n",
       "        vertical-align: top;\n",
       "    }\n",
       "\n",
       "    .dataframe thead th {\n",
       "        text-align: right;\n",
       "    }\n",
       "</style>\n",
       "<table border=\"1\" class=\"dataframe\">\n",
       "  <thead>\n",
       "    <tr style=\"text-align: right;\">\n",
       "      <th></th>\n",
       "      <th>hp</th>\n",
       "      <th>hp_alt</th>\n",
       "    </tr>\n",
       "  </thead>\n",
       "  <tbody>\n",
       "    <tr>\n",
       "      <th>0</th>\n",
       "      <td>#232C65</td>\n",
       "      <td>#2D2D2A</td>\n",
       "    </tr>\n",
       "    <tr>\n",
       "      <th>1</th>\n",
       "      <td>#232C65</td>\n",
       "      <td>#2D2D2A</td>\n",
       "    </tr>\n",
       "    <tr>\n",
       "      <th>2</th>\n",
       "      <td>#232C65</td>\n",
       "      <td>#2D2D2A</td>\n",
       "    </tr>\n",
       "    <tr>\n",
       "      <th>3</th>\n",
       "      <td>#232C65</td>\n",
       "      <td>#2D2D2A</td>\n",
       "    </tr>\n",
       "    <tr>\n",
       "      <th>4</th>\n",
       "      <td>#232C65</td>\n",
       "      <td>#2D2D2A</td>\n",
       "    </tr>\n",
       "  </tbody>\n",
       "</table>\n",
       "</div>"
      ],
      "text/plain": [
       "        hp   hp_alt\n",
       "0  #232C65  #2D2D2A\n",
       "1  #232C65  #2D2D2A\n",
       "2  #232C65  #2D2D2A\n",
       "3  #232C65  #2D2D2A\n",
       "4  #232C65  #2D2D2A"
      ]
     },
     "metadata": {},
     "output_type": "display_data"
    }
   ],
   "source": [
    "# create main data \n",
    "sl = df[['hp', 'mpg']].copy()\n",
    "x_data = sl[['hp']].copy()\n",
    "x_data_treat = x_data.copy()\n",
    "x_data_treat['hp'] = x_data['hp'] - (np.random.normal(loc=5, scale=2, size=len(x_data)))\n",
    "x_data_treat.columns = ['hp_alt']\n",
    "y_data = sl[['mpg']].copy()\n",
    "y_data_treat = y_data.copy()\n",
    "y_data_treat['mpg'] = y_data['mpg'] + (np.random.normal(loc=5, scale=2, size=len(x_data)))\n",
    "y_data_treat.columns = ['mpg_alt']\n",
    "\n",
    "print('x1 values:')\n",
    "display(x_data.head())\n",
    "\n",
    "print('x2 values:')\n",
    "display(x_data_treat.head())\n",
    "\n",
    "print('y1 values:')\n",
    "display(y_data.head())\n",
    "\n",
    "print('y2 values:')\n",
    "display(y_data_treat.head())\n",
    "\n",
    "# create names\n",
    "n = (df.reset_index()[['index', 'cyl', 'carb', 'gear', 'wt']].apply(\n",
    "      lambda x: 'Car ID %s<br># Cylinders: %s<br># Carbs: %s<br># Gears: %s<br>Weight: %s' % (x['index'], x['cyl'], x['carb'], x['gear'], x['wt']),\n",
    "      axis=1\n",
    "    )\n",
    "  ).copy()\n",
    "\n",
    "names = sl.copy()\n",
    "names['hp'] = 'Before Treatment<br>' + n\n",
    "del names['mpg']\n",
    "names['hp_alt'] = 'After Treatment<br>' + n\n",
    "\n",
    "print('names: ')\n",
    "display(names.head())\n",
    "\n",
    "# create colors \n",
    "colors = sl.copy()\n",
    "colors.loc[:, :] = '#232C65'\n",
    "del colors['mpg']\n",
    "colors['hp_alt'] = '#2D2D2A'\n",
    "\n",
    "print('colors: ')\n",
    "display(colors.head())"
   ]
  },
  {
   "cell_type": "markdown",
   "metadata": {},
   "source": [
    "Now a list of x data and a list of y data can be used to plot both cases on the same graph:"
   ]
  },
  {
   "cell_type": "code",
   "execution_count": 37,
   "metadata": {},
   "outputs": [
    {
     "data": {
      "text/html": [
       "<script>requirejs.config({paths: { 'plotly': ['https://cdn.plot.ly/plotly-latest.min']},});if(!window.Plotly) {{require(['plotly'],function(plotly) {window.Plotly=plotly;});}}</script>"
      ],
      "text/vnd.plotly.v1+html": [
       "<script>requirejs.config({paths: { 'plotly': ['https://cdn.plot.ly/plotly-latest.min']},});if(!window.Plotly) {{require(['plotly'],function(plotly) {window.Plotly=plotly;});}}</script>"
      ]
     },
     "metadata": {},
     "output_type": "display_data"
    },
    {
     "data": {
      "application/vnd.plotly.v1+json": {
       "data": [
        {
         "marker": {
          "color": [
           "#232C65",
           "#232C65",
           "#232C65",
           "#232C65",
           "#232C65",
           "#232C65",
           "#232C65",
           "#232C65",
           "#232C65",
           "#232C65",
           "#232C65",
           "#232C65",
           "#232C65",
           "#232C65",
           "#232C65",
           "#232C65",
           "#232C65",
           "#232C65",
           "#232C65",
           "#232C65",
           "#232C65",
           "#232C65",
           "#232C65",
           "#232C65",
           "#232C65",
           "#232C65",
           "#232C65",
           "#232C65",
           "#232C65",
           "#232C65",
           "#232C65",
           "#232C65"
          ]
         },
         "mode": "markers",
         "name": "hp",
         "text": [
          "Before Treatment<br>Car ID 0.0<br># Cylinders: 6.0<br># Carbs: 4.0<br># Gears: 4.0<br>Weight: 2.62",
          "Before Treatment<br>Car ID 1.0<br># Cylinders: 6.0<br># Carbs: 4.0<br># Gears: 4.0<br>Weight: 2.875",
          "Before Treatment<br>Car ID 2.0<br># Cylinders: 4.0<br># Carbs: 1.0<br># Gears: 4.0<br>Weight: 2.32",
          "Before Treatment<br>Car ID 3.0<br># Cylinders: 6.0<br># Carbs: 1.0<br># Gears: 3.0<br>Weight: 3.215",
          "Before Treatment<br>Car ID 4.0<br># Cylinders: 8.0<br># Carbs: 2.0<br># Gears: 3.0<br>Weight: 3.44",
          "Before Treatment<br>Car ID 5.0<br># Cylinders: 6.0<br># Carbs: 1.0<br># Gears: 3.0<br>Weight: 3.46",
          "Before Treatment<br>Car ID 6.0<br># Cylinders: 8.0<br># Carbs: 4.0<br># Gears: 3.0<br>Weight: 3.57",
          "Before Treatment<br>Car ID 7.0<br># Cylinders: 4.0<br># Carbs: 2.0<br># Gears: 4.0<br>Weight: 3.19",
          "Before Treatment<br>Car ID 8.0<br># Cylinders: 4.0<br># Carbs: 2.0<br># Gears: 4.0<br>Weight: 3.15",
          "Before Treatment<br>Car ID 9.0<br># Cylinders: 6.0<br># Carbs: 4.0<br># Gears: 4.0<br>Weight: 3.44",
          "Before Treatment<br>Car ID 10.0<br># Cylinders: 6.0<br># Carbs: 4.0<br># Gears: 4.0<br>Weight: 3.44",
          "Before Treatment<br>Car ID 11.0<br># Cylinders: 8.0<br># Carbs: 3.0<br># Gears: 3.0<br>Weight: 4.07",
          "Before Treatment<br>Car ID 12.0<br># Cylinders: 8.0<br># Carbs: 3.0<br># Gears: 3.0<br>Weight: 3.73",
          "Before Treatment<br>Car ID 13.0<br># Cylinders: 8.0<br># Carbs: 3.0<br># Gears: 3.0<br>Weight: 3.78",
          "Before Treatment<br>Car ID 14.0<br># Cylinders: 8.0<br># Carbs: 4.0<br># Gears: 3.0<br>Weight: 5.25",
          "Before Treatment<br>Car ID 15.0<br># Cylinders: 8.0<br># Carbs: 4.0<br># Gears: 3.0<br>Weight: 5.4239999999999995",
          "Before Treatment<br>Car ID 16.0<br># Cylinders: 8.0<br># Carbs: 4.0<br># Gears: 3.0<br>Weight: 5.345",
          "Before Treatment<br>Car ID 17.0<br># Cylinders: 4.0<br># Carbs: 1.0<br># Gears: 4.0<br>Weight: 2.2",
          "Before Treatment<br>Car ID 18.0<br># Cylinders: 4.0<br># Carbs: 2.0<br># Gears: 4.0<br>Weight: 1.615",
          "Before Treatment<br>Car ID 19.0<br># Cylinders: 4.0<br># Carbs: 1.0<br># Gears: 4.0<br>Weight: 1.835",
          "Before Treatment<br>Car ID 20.0<br># Cylinders: 4.0<br># Carbs: 1.0<br># Gears: 3.0<br>Weight: 2.465",
          "Before Treatment<br>Car ID 21.0<br># Cylinders: 8.0<br># Carbs: 2.0<br># Gears: 3.0<br>Weight: 3.52",
          "Before Treatment<br>Car ID 22.0<br># Cylinders: 8.0<br># Carbs: 2.0<br># Gears: 3.0<br>Weight: 3.435",
          "Before Treatment<br>Car ID 23.0<br># Cylinders: 8.0<br># Carbs: 4.0<br># Gears: 3.0<br>Weight: 3.84",
          "Before Treatment<br>Car ID 24.0<br># Cylinders: 8.0<br># Carbs: 2.0<br># Gears: 3.0<br>Weight: 3.845",
          "Before Treatment<br>Car ID 25.0<br># Cylinders: 4.0<br># Carbs: 1.0<br># Gears: 4.0<br>Weight: 1.935",
          "Before Treatment<br>Car ID 26.0<br># Cylinders: 4.0<br># Carbs: 2.0<br># Gears: 5.0<br>Weight: 2.14",
          "Before Treatment<br>Car ID 27.0<br># Cylinders: 4.0<br># Carbs: 2.0<br># Gears: 5.0<br>Weight: 1.5130000000000001",
          "Before Treatment<br>Car ID 28.0<br># Cylinders: 8.0<br># Carbs: 4.0<br># Gears: 5.0<br>Weight: 3.17",
          "Before Treatment<br>Car ID 29.0<br># Cylinders: 6.0<br># Carbs: 6.0<br># Gears: 5.0<br>Weight: 2.77",
          "Before Treatment<br>Car ID 30.0<br># Cylinders: 8.0<br># Carbs: 8.0<br># Gears: 5.0<br>Weight: 3.57",
          "Before Treatment<br>Car ID 31.0<br># Cylinders: 4.0<br># Carbs: 2.0<br># Gears: 4.0<br>Weight: 2.78"
         ],
         "type": "scatter",
         "uid": "c255e4d4-ec10-11e8-9c82-a0481cac4f9d",
         "x": [
          110,
          110,
          93,
          110,
          175,
          105,
          245,
          62,
          95,
          123,
          123,
          180,
          180,
          180,
          205,
          215,
          230,
          66,
          52,
          65,
          97,
          150,
          150,
          245,
          175,
          66,
          91,
          113,
          264,
          175,
          335,
          109
         ],
         "y": [
          21,
          21,
          22.8,
          21.4,
          18.7,
          18.1,
          14.3,
          24.4,
          22.8,
          19.2,
          17.8,
          16.4,
          17.3,
          15.2,
          10.4,
          10.4,
          14.7,
          32.4,
          30.4,
          33.9,
          21.5,
          15.5,
          15.2,
          13.3,
          19.2,
          27.3,
          26,
          30.4,
          15.8,
          19.7,
          15,
          21.4
         ]
        },
        {
         "marker": {
          "color": [
           "#2D2D2A",
           "#2D2D2A",
           "#2D2D2A",
           "#2D2D2A",
           "#2D2D2A",
           "#2D2D2A",
           "#2D2D2A",
           "#2D2D2A",
           "#2D2D2A",
           "#2D2D2A",
           "#2D2D2A",
           "#2D2D2A",
           "#2D2D2A",
           "#2D2D2A",
           "#2D2D2A",
           "#2D2D2A",
           "#2D2D2A",
           "#2D2D2A",
           "#2D2D2A",
           "#2D2D2A",
           "#2D2D2A",
           "#2D2D2A",
           "#2D2D2A",
           "#2D2D2A",
           "#2D2D2A",
           "#2D2D2A",
           "#2D2D2A",
           "#2D2D2A",
           "#2D2D2A",
           "#2D2D2A",
           "#2D2D2A",
           "#2D2D2A"
          ]
         },
         "mode": "markers",
         "name": "hp_alt",
         "text": [
          "After Treatment<br>Car ID 0.0<br># Cylinders: 6.0<br># Carbs: 4.0<br># Gears: 4.0<br>Weight: 2.62",
          "After Treatment<br>Car ID 1.0<br># Cylinders: 6.0<br># Carbs: 4.0<br># Gears: 4.0<br>Weight: 2.875",
          "After Treatment<br>Car ID 2.0<br># Cylinders: 4.0<br># Carbs: 1.0<br># Gears: 4.0<br>Weight: 2.32",
          "After Treatment<br>Car ID 3.0<br># Cylinders: 6.0<br># Carbs: 1.0<br># Gears: 3.0<br>Weight: 3.215",
          "After Treatment<br>Car ID 4.0<br># Cylinders: 8.0<br># Carbs: 2.0<br># Gears: 3.0<br>Weight: 3.44",
          "After Treatment<br>Car ID 5.0<br># Cylinders: 6.0<br># Carbs: 1.0<br># Gears: 3.0<br>Weight: 3.46",
          "After Treatment<br>Car ID 6.0<br># Cylinders: 8.0<br># Carbs: 4.0<br># Gears: 3.0<br>Weight: 3.57",
          "After Treatment<br>Car ID 7.0<br># Cylinders: 4.0<br># Carbs: 2.0<br># Gears: 4.0<br>Weight: 3.19",
          "After Treatment<br>Car ID 8.0<br># Cylinders: 4.0<br># Carbs: 2.0<br># Gears: 4.0<br>Weight: 3.15",
          "After Treatment<br>Car ID 9.0<br># Cylinders: 6.0<br># Carbs: 4.0<br># Gears: 4.0<br>Weight: 3.44",
          "After Treatment<br>Car ID 10.0<br># Cylinders: 6.0<br># Carbs: 4.0<br># Gears: 4.0<br>Weight: 3.44",
          "After Treatment<br>Car ID 11.0<br># Cylinders: 8.0<br># Carbs: 3.0<br># Gears: 3.0<br>Weight: 4.07",
          "After Treatment<br>Car ID 12.0<br># Cylinders: 8.0<br># Carbs: 3.0<br># Gears: 3.0<br>Weight: 3.73",
          "After Treatment<br>Car ID 13.0<br># Cylinders: 8.0<br># Carbs: 3.0<br># Gears: 3.0<br>Weight: 3.78",
          "After Treatment<br>Car ID 14.0<br># Cylinders: 8.0<br># Carbs: 4.0<br># Gears: 3.0<br>Weight: 5.25",
          "After Treatment<br>Car ID 15.0<br># Cylinders: 8.0<br># Carbs: 4.0<br># Gears: 3.0<br>Weight: 5.4239999999999995",
          "After Treatment<br>Car ID 16.0<br># Cylinders: 8.0<br># Carbs: 4.0<br># Gears: 3.0<br>Weight: 5.345",
          "After Treatment<br>Car ID 17.0<br># Cylinders: 4.0<br># Carbs: 1.0<br># Gears: 4.0<br>Weight: 2.2",
          "After Treatment<br>Car ID 18.0<br># Cylinders: 4.0<br># Carbs: 2.0<br># Gears: 4.0<br>Weight: 1.615",
          "After Treatment<br>Car ID 19.0<br># Cylinders: 4.0<br># Carbs: 1.0<br># Gears: 4.0<br>Weight: 1.835",
          "After Treatment<br>Car ID 20.0<br># Cylinders: 4.0<br># Carbs: 1.0<br># Gears: 3.0<br>Weight: 2.465",
          "After Treatment<br>Car ID 21.0<br># Cylinders: 8.0<br># Carbs: 2.0<br># Gears: 3.0<br>Weight: 3.52",
          "After Treatment<br>Car ID 22.0<br># Cylinders: 8.0<br># Carbs: 2.0<br># Gears: 3.0<br>Weight: 3.435",
          "After Treatment<br>Car ID 23.0<br># Cylinders: 8.0<br># Carbs: 4.0<br># Gears: 3.0<br>Weight: 3.84",
          "After Treatment<br>Car ID 24.0<br># Cylinders: 8.0<br># Carbs: 2.0<br># Gears: 3.0<br>Weight: 3.845",
          "After Treatment<br>Car ID 25.0<br># Cylinders: 4.0<br># Carbs: 1.0<br># Gears: 4.0<br>Weight: 1.935",
          "After Treatment<br>Car ID 26.0<br># Cylinders: 4.0<br># Carbs: 2.0<br># Gears: 5.0<br>Weight: 2.14",
          "After Treatment<br>Car ID 27.0<br># Cylinders: 4.0<br># Carbs: 2.0<br># Gears: 5.0<br>Weight: 1.5130000000000001",
          "After Treatment<br>Car ID 28.0<br># Cylinders: 8.0<br># Carbs: 4.0<br># Gears: 5.0<br>Weight: 3.17",
          "After Treatment<br>Car ID 29.0<br># Cylinders: 6.0<br># Carbs: 6.0<br># Gears: 5.0<br>Weight: 2.77",
          "After Treatment<br>Car ID 30.0<br># Cylinders: 8.0<br># Carbs: 8.0<br># Gears: 5.0<br>Weight: 3.57",
          "After Treatment<br>Car ID 31.0<br># Cylinders: 4.0<br># Carbs: 2.0<br># Gears: 4.0<br>Weight: 2.78"
         ],
         "type": "scatter",
         "uid": "c255e4d5-ec10-11e8-8482-a0481cac4f9d",
         "x": [
          107.6234453086354,
          106.420365936115,
          88.42240334494879,
          105.29886891784015,
          169.84248608533085,
          98.07132771028864,
          235.9981757068619,
          59.36104358132976,
          89.90539412335664,
          119.10680320132421,
          117.34735178701527,
          175.01324051955308,
          174.39450849650194,
          171.90013396296635,
          202.2633079830843,
          208.99464952258006,
          223.50214785691816,
          60.340721213257495,
          47.85737414240351,
          61.23831895193607,
          91.41920976018659,
          144.37187730305016,
          144.8352703689615,
          239.08672949444932,
          168.97999656425594,
          55.92809317693481,
          85.74023883539715,
          106.76230281200344,
          261.27342167545606,
          170.2855598084102,
          328.4771074042512,
          104.69004385818641
         ],
         "y": [
          25.338093731391996,
          25.67104522554042,
          29.809824617924903,
          26.05697422140732,
          22.908030055144398,
          24.221293266661537,
          18.503857878112658,
          29.109960911582572,
          32.78365821722295,
          23.964793953103534,
          22.864714241046386,
          20.349064718425616,
          21.39997382700076,
          22.03512853470727,
          15.515367013630584,
          14.967383241594462,
          20.15844472483461,
          34.77574571035357,
          36.14554209541269,
          40.20436715719014,
          21.76523958153193,
          23.48731821311356,
          24.928167705773593,
          18.967463846692088,
          23.09101358389652,
          32.43510759331234,
          30.017034842503737,
          35.60419784884223,
          20.264084817267232,
          22.216589646093095,
          21.90719406127156,
          30.371549580318124
         ]
        }
       ],
       "layout": {
        "annotations": [
         {
          "showarrow": false,
          "text": "Fuel mileage upgrade works for most cars",
          "x": 200,
          "y": 37
         },
         {
          "ax": 150,
          "ay": -25,
          "showarrow": true,
          "text": "Car 8 before upgrade",
          "x": 95,
          "y": 22.8
         },
         {
          "ax": 150,
          "ay": 0,
          "showarrow": true,
          "text": "Car 8 after upgrade",
          "x": 89.90539412335664,
          "y": 32.78365821722295
         }
        ],
        "hovermode": "closest",
        "plot_bgcolor": "rgb(229, 229, 229)",
        "title": "<b>Fuel Mileage as a Function of Horsepower</b><br><i>for mtcars data</i>",
        "xaxis": {
         "gridcolor": "rgb(255,255,255)",
         "tickangle": 30,
         "title": "Horsepower",
         "zerolinecolor": "rgb(255,255,255)"
        },
        "yaxis": {
         "gridcolor": "rgb(255,255,255)",
         "title": "Fuel Mileage (mpg)",
         "zerolinecolor": "rgb(255,255,255)"
        }
       }
      },
      "text/html": [
       "<div id=\"c6b3fab6-b835-44e3-960d-ceafe52bf6a8\" style=\"height: 525px; width: 100%;\" class=\"plotly-graph-div\"></div><script type=\"text/javascript\">require([\"plotly\"], function(Plotly) { window.PLOTLYENV=window.PLOTLYENV || {};window.PLOTLYENV.BASE_URL=\"https://plot.ly\";Plotly.newPlot(\"c6b3fab6-b835-44e3-960d-ceafe52bf6a8\", [{\"marker\": {\"color\": [\"#232C65\", \"#232C65\", \"#232C65\", \"#232C65\", \"#232C65\", \"#232C65\", \"#232C65\", \"#232C65\", \"#232C65\", \"#232C65\", \"#232C65\", \"#232C65\", \"#232C65\", \"#232C65\", \"#232C65\", \"#232C65\", \"#232C65\", \"#232C65\", \"#232C65\", \"#232C65\", \"#232C65\", \"#232C65\", \"#232C65\", \"#232C65\", \"#232C65\", \"#232C65\", \"#232C65\", \"#232C65\", \"#232C65\", \"#232C65\", \"#232C65\", \"#232C65\"]}, \"mode\": \"markers\", \"name\": \"hp\", \"text\": [\"Before Treatment<br>Car ID 0.0<br># Cylinders: 6.0<br># Carbs: 4.0<br># Gears: 4.0<br>Weight: 2.62\", \"Before Treatment<br>Car ID 1.0<br># Cylinders: 6.0<br># Carbs: 4.0<br># Gears: 4.0<br>Weight: 2.875\", \"Before Treatment<br>Car ID 2.0<br># Cylinders: 4.0<br># Carbs: 1.0<br># Gears: 4.0<br>Weight: 2.32\", \"Before Treatment<br>Car ID 3.0<br># Cylinders: 6.0<br># Carbs: 1.0<br># Gears: 3.0<br>Weight: 3.215\", \"Before Treatment<br>Car ID 4.0<br># Cylinders: 8.0<br># Carbs: 2.0<br># Gears: 3.0<br>Weight: 3.44\", \"Before Treatment<br>Car ID 5.0<br># Cylinders: 6.0<br># Carbs: 1.0<br># Gears: 3.0<br>Weight: 3.46\", \"Before Treatment<br>Car ID 6.0<br># Cylinders: 8.0<br># Carbs: 4.0<br># Gears: 3.0<br>Weight: 3.57\", \"Before Treatment<br>Car ID 7.0<br># Cylinders: 4.0<br># Carbs: 2.0<br># Gears: 4.0<br>Weight: 3.19\", \"Before Treatment<br>Car ID 8.0<br># Cylinders: 4.0<br># Carbs: 2.0<br># Gears: 4.0<br>Weight: 3.15\", \"Before Treatment<br>Car ID 9.0<br># Cylinders: 6.0<br># Carbs: 4.0<br># Gears: 4.0<br>Weight: 3.44\", \"Before Treatment<br>Car ID 10.0<br># Cylinders: 6.0<br># Carbs: 4.0<br># Gears: 4.0<br>Weight: 3.44\", \"Before Treatment<br>Car ID 11.0<br># Cylinders: 8.0<br># Carbs: 3.0<br># Gears: 3.0<br>Weight: 4.07\", \"Before Treatment<br>Car ID 12.0<br># Cylinders: 8.0<br># Carbs: 3.0<br># Gears: 3.0<br>Weight: 3.73\", \"Before Treatment<br>Car ID 13.0<br># Cylinders: 8.0<br># Carbs: 3.0<br># Gears: 3.0<br>Weight: 3.78\", \"Before Treatment<br>Car ID 14.0<br># Cylinders: 8.0<br># Carbs: 4.0<br># Gears: 3.0<br>Weight: 5.25\", \"Before Treatment<br>Car ID 15.0<br># Cylinders: 8.0<br># Carbs: 4.0<br># Gears: 3.0<br>Weight: 5.4239999999999995\", \"Before Treatment<br>Car ID 16.0<br># Cylinders: 8.0<br># Carbs: 4.0<br># Gears: 3.0<br>Weight: 5.345\", \"Before Treatment<br>Car ID 17.0<br># Cylinders: 4.0<br># Carbs: 1.0<br># Gears: 4.0<br>Weight: 2.2\", \"Before Treatment<br>Car ID 18.0<br># Cylinders: 4.0<br># Carbs: 2.0<br># Gears: 4.0<br>Weight: 1.615\", \"Before Treatment<br>Car ID 19.0<br># Cylinders: 4.0<br># Carbs: 1.0<br># Gears: 4.0<br>Weight: 1.835\", \"Before Treatment<br>Car ID 20.0<br># Cylinders: 4.0<br># Carbs: 1.0<br># Gears: 3.0<br>Weight: 2.465\", \"Before Treatment<br>Car ID 21.0<br># Cylinders: 8.0<br># Carbs: 2.0<br># Gears: 3.0<br>Weight: 3.52\", \"Before Treatment<br>Car ID 22.0<br># Cylinders: 8.0<br># Carbs: 2.0<br># Gears: 3.0<br>Weight: 3.435\", \"Before Treatment<br>Car ID 23.0<br># Cylinders: 8.0<br># Carbs: 4.0<br># Gears: 3.0<br>Weight: 3.84\", \"Before Treatment<br>Car ID 24.0<br># Cylinders: 8.0<br># Carbs: 2.0<br># Gears: 3.0<br>Weight: 3.845\", \"Before Treatment<br>Car ID 25.0<br># Cylinders: 4.0<br># Carbs: 1.0<br># Gears: 4.0<br>Weight: 1.935\", \"Before Treatment<br>Car ID 26.0<br># Cylinders: 4.0<br># Carbs: 2.0<br># Gears: 5.0<br>Weight: 2.14\", \"Before Treatment<br>Car ID 27.0<br># Cylinders: 4.0<br># Carbs: 2.0<br># Gears: 5.0<br>Weight: 1.5130000000000001\", \"Before Treatment<br>Car ID 28.0<br># Cylinders: 8.0<br># Carbs: 4.0<br># Gears: 5.0<br>Weight: 3.17\", \"Before Treatment<br>Car ID 29.0<br># Cylinders: 6.0<br># Carbs: 6.0<br># Gears: 5.0<br>Weight: 2.77\", \"Before Treatment<br>Car ID 30.0<br># Cylinders: 8.0<br># Carbs: 8.0<br># Gears: 5.0<br>Weight: 3.57\", \"Before Treatment<br>Car ID 31.0<br># Cylinders: 4.0<br># Carbs: 2.0<br># Gears: 4.0<br>Weight: 2.78\"], \"x\": [110, 110, 93, 110, 175, 105, 245, 62, 95, 123, 123, 180, 180, 180, 205, 215, 230, 66, 52, 65, 97, 150, 150, 245, 175, 66, 91, 113, 264, 175, 335, 109], \"y\": [21.0, 21.0, 22.8, 21.4, 18.7, 18.1, 14.3, 24.4, 22.8, 19.2, 17.8, 16.4, 17.3, 15.2, 10.4, 10.4, 14.7, 32.4, 30.4, 33.9, 21.5, 15.5, 15.2, 13.3, 19.2, 27.3, 26.0, 30.4, 15.8, 19.7, 15.0, 21.4], \"type\": \"scatter\", \"uid\": \"c255e4d4-ec10-11e8-9c82-a0481cac4f9d\"}, {\"marker\": {\"color\": [\"#2D2D2A\", \"#2D2D2A\", \"#2D2D2A\", \"#2D2D2A\", \"#2D2D2A\", \"#2D2D2A\", \"#2D2D2A\", \"#2D2D2A\", \"#2D2D2A\", \"#2D2D2A\", \"#2D2D2A\", \"#2D2D2A\", \"#2D2D2A\", \"#2D2D2A\", \"#2D2D2A\", \"#2D2D2A\", \"#2D2D2A\", \"#2D2D2A\", \"#2D2D2A\", \"#2D2D2A\", \"#2D2D2A\", \"#2D2D2A\", \"#2D2D2A\", \"#2D2D2A\", \"#2D2D2A\", \"#2D2D2A\", \"#2D2D2A\", \"#2D2D2A\", \"#2D2D2A\", \"#2D2D2A\", \"#2D2D2A\", \"#2D2D2A\"]}, \"mode\": \"markers\", \"name\": \"hp_alt\", \"text\": [\"After Treatment<br>Car ID 0.0<br># Cylinders: 6.0<br># Carbs: 4.0<br># Gears: 4.0<br>Weight: 2.62\", \"After Treatment<br>Car ID 1.0<br># Cylinders: 6.0<br># Carbs: 4.0<br># Gears: 4.0<br>Weight: 2.875\", \"After Treatment<br>Car ID 2.0<br># Cylinders: 4.0<br># Carbs: 1.0<br># Gears: 4.0<br>Weight: 2.32\", \"After Treatment<br>Car ID 3.0<br># Cylinders: 6.0<br># Carbs: 1.0<br># Gears: 3.0<br>Weight: 3.215\", \"After Treatment<br>Car ID 4.0<br># Cylinders: 8.0<br># Carbs: 2.0<br># Gears: 3.0<br>Weight: 3.44\", \"After Treatment<br>Car ID 5.0<br># Cylinders: 6.0<br># Carbs: 1.0<br># Gears: 3.0<br>Weight: 3.46\", \"After Treatment<br>Car ID 6.0<br># Cylinders: 8.0<br># Carbs: 4.0<br># Gears: 3.0<br>Weight: 3.57\", \"After Treatment<br>Car ID 7.0<br># Cylinders: 4.0<br># Carbs: 2.0<br># Gears: 4.0<br>Weight: 3.19\", \"After Treatment<br>Car ID 8.0<br># Cylinders: 4.0<br># Carbs: 2.0<br># Gears: 4.0<br>Weight: 3.15\", \"After Treatment<br>Car ID 9.0<br># Cylinders: 6.0<br># Carbs: 4.0<br># Gears: 4.0<br>Weight: 3.44\", \"After Treatment<br>Car ID 10.0<br># Cylinders: 6.0<br># Carbs: 4.0<br># Gears: 4.0<br>Weight: 3.44\", \"After Treatment<br>Car ID 11.0<br># Cylinders: 8.0<br># Carbs: 3.0<br># Gears: 3.0<br>Weight: 4.07\", \"After Treatment<br>Car ID 12.0<br># Cylinders: 8.0<br># Carbs: 3.0<br># Gears: 3.0<br>Weight: 3.73\", \"After Treatment<br>Car ID 13.0<br># Cylinders: 8.0<br># Carbs: 3.0<br># Gears: 3.0<br>Weight: 3.78\", \"After Treatment<br>Car ID 14.0<br># Cylinders: 8.0<br># Carbs: 4.0<br># Gears: 3.0<br>Weight: 5.25\", \"After Treatment<br>Car ID 15.0<br># Cylinders: 8.0<br># Carbs: 4.0<br># Gears: 3.0<br>Weight: 5.4239999999999995\", \"After Treatment<br>Car ID 16.0<br># Cylinders: 8.0<br># Carbs: 4.0<br># Gears: 3.0<br>Weight: 5.345\", \"After Treatment<br>Car ID 17.0<br># Cylinders: 4.0<br># Carbs: 1.0<br># Gears: 4.0<br>Weight: 2.2\", \"After Treatment<br>Car ID 18.0<br># Cylinders: 4.0<br># Carbs: 2.0<br># Gears: 4.0<br>Weight: 1.615\", \"After Treatment<br>Car ID 19.0<br># Cylinders: 4.0<br># Carbs: 1.0<br># Gears: 4.0<br>Weight: 1.835\", \"After Treatment<br>Car ID 20.0<br># Cylinders: 4.0<br># Carbs: 1.0<br># Gears: 3.0<br>Weight: 2.465\", \"After Treatment<br>Car ID 21.0<br># Cylinders: 8.0<br># Carbs: 2.0<br># Gears: 3.0<br>Weight: 3.52\", \"After Treatment<br>Car ID 22.0<br># Cylinders: 8.0<br># Carbs: 2.0<br># Gears: 3.0<br>Weight: 3.435\", \"After Treatment<br>Car ID 23.0<br># Cylinders: 8.0<br># Carbs: 4.0<br># Gears: 3.0<br>Weight: 3.84\", \"After Treatment<br>Car ID 24.0<br># Cylinders: 8.0<br># Carbs: 2.0<br># Gears: 3.0<br>Weight: 3.845\", \"After Treatment<br>Car ID 25.0<br># Cylinders: 4.0<br># Carbs: 1.0<br># Gears: 4.0<br>Weight: 1.935\", \"After Treatment<br>Car ID 26.0<br># Cylinders: 4.0<br># Carbs: 2.0<br># Gears: 5.0<br>Weight: 2.14\", \"After Treatment<br>Car ID 27.0<br># Cylinders: 4.0<br># Carbs: 2.0<br># Gears: 5.0<br>Weight: 1.5130000000000001\", \"After Treatment<br>Car ID 28.0<br># Cylinders: 8.0<br># Carbs: 4.0<br># Gears: 5.0<br>Weight: 3.17\", \"After Treatment<br>Car ID 29.0<br># Cylinders: 6.0<br># Carbs: 6.0<br># Gears: 5.0<br>Weight: 2.77\", \"After Treatment<br>Car ID 30.0<br># Cylinders: 8.0<br># Carbs: 8.0<br># Gears: 5.0<br>Weight: 3.57\", \"After Treatment<br>Car ID 31.0<br># Cylinders: 4.0<br># Carbs: 2.0<br># Gears: 4.0<br>Weight: 2.78\"], \"x\": [107.6234453086354, 106.420365936115, 88.42240334494879, 105.29886891784015, 169.84248608533085, 98.07132771028864, 235.9981757068619, 59.36104358132976, 89.90539412335664, 119.10680320132421, 117.34735178701527, 175.01324051955308, 174.39450849650194, 171.90013396296635, 202.2633079830843, 208.99464952258006, 223.50214785691816, 60.340721213257495, 47.85737414240351, 61.23831895193607, 91.41920976018659, 144.37187730305016, 144.8352703689615, 239.08672949444932, 168.97999656425594, 55.92809317693481, 85.74023883539715, 106.76230281200344, 261.27342167545606, 170.2855598084102, 328.4771074042512, 104.69004385818641], \"y\": [25.338093731391996, 25.67104522554042, 29.809824617924903, 26.05697422140732, 22.908030055144398, 24.221293266661537, 18.503857878112658, 29.109960911582572, 32.78365821722295, 23.964793953103534, 22.864714241046386, 20.349064718425616, 21.39997382700076, 22.03512853470727, 15.515367013630584, 14.967383241594462, 20.15844472483461, 34.77574571035357, 36.14554209541269, 40.20436715719014, 21.76523958153193, 23.48731821311356, 24.928167705773593, 18.967463846692088, 23.09101358389652, 32.43510759331234, 30.017034842503737, 35.60419784884223, 20.264084817267232, 22.216589646093095, 21.90719406127156, 30.371549580318124], \"type\": \"scatter\", \"uid\": \"c255e4d5-ec10-11e8-8482-a0481cac4f9d\"}], {\"annotations\": [{\"showarrow\": false, \"text\": \"Fuel mileage upgrade works for most cars\", \"x\": 200, \"y\": 37}, {\"ax\": 150, \"ay\": -25, \"showarrow\": true, \"text\": \"Car 8 before upgrade\", \"x\": 95, \"y\": 22.8}, {\"ax\": 150, \"ay\": 0, \"showarrow\": true, \"text\": \"Car 8 after upgrade\", \"x\": 89.90539412335664, \"y\": 32.78365821722295}], \"hovermode\": \"closest\", \"plot_bgcolor\": \"rgb(229, 229, 229)\", \"title\": \"<b>Fuel Mileage as a Function of Horsepower</b><br><i>for mtcars data</i>\", \"xaxis\": {\"gridcolor\": \"rgb(255,255,255)\", \"tickangle\": 30, \"title\": \"Horsepower\", \"zerolinecolor\": \"rgb(255,255,255)\"}, \"yaxis\": {\"gridcolor\": \"rgb(255,255,255)\", \"title\": \"Fuel Mileage (mpg)\", \"zerolinecolor\": \"rgb(255,255,255)\"}}, {\"showLink\": true, \"linkText\": \"Export to plot.ly\"})});</script>"
      ],
      "text/vnd.plotly.v1+html": [
       "<div id=\"c6b3fab6-b835-44e3-960d-ceafe52bf6a8\" style=\"height: 525px; width: 100%;\" class=\"plotly-graph-div\"></div><script type=\"text/javascript\">require([\"plotly\"], function(Plotly) { window.PLOTLYENV=window.PLOTLYENV || {};window.PLOTLYENV.BASE_URL=\"https://plot.ly\";Plotly.newPlot(\"c6b3fab6-b835-44e3-960d-ceafe52bf6a8\", [{\"marker\": {\"color\": [\"#232C65\", \"#232C65\", \"#232C65\", \"#232C65\", \"#232C65\", \"#232C65\", \"#232C65\", \"#232C65\", \"#232C65\", \"#232C65\", \"#232C65\", \"#232C65\", \"#232C65\", \"#232C65\", \"#232C65\", \"#232C65\", \"#232C65\", \"#232C65\", \"#232C65\", \"#232C65\", \"#232C65\", \"#232C65\", \"#232C65\", \"#232C65\", \"#232C65\", \"#232C65\", \"#232C65\", \"#232C65\", \"#232C65\", \"#232C65\", \"#232C65\", \"#232C65\"]}, \"mode\": \"markers\", \"name\": \"hp\", \"text\": [\"Before Treatment<br>Car ID 0.0<br># Cylinders: 6.0<br># Carbs: 4.0<br># Gears: 4.0<br>Weight: 2.62\", \"Before Treatment<br>Car ID 1.0<br># Cylinders: 6.0<br># Carbs: 4.0<br># Gears: 4.0<br>Weight: 2.875\", \"Before Treatment<br>Car ID 2.0<br># Cylinders: 4.0<br># Carbs: 1.0<br># Gears: 4.0<br>Weight: 2.32\", \"Before Treatment<br>Car ID 3.0<br># Cylinders: 6.0<br># Carbs: 1.0<br># Gears: 3.0<br>Weight: 3.215\", \"Before Treatment<br>Car ID 4.0<br># Cylinders: 8.0<br># Carbs: 2.0<br># Gears: 3.0<br>Weight: 3.44\", \"Before Treatment<br>Car ID 5.0<br># Cylinders: 6.0<br># Carbs: 1.0<br># Gears: 3.0<br>Weight: 3.46\", \"Before Treatment<br>Car ID 6.0<br># Cylinders: 8.0<br># Carbs: 4.0<br># Gears: 3.0<br>Weight: 3.57\", \"Before Treatment<br>Car ID 7.0<br># Cylinders: 4.0<br># Carbs: 2.0<br># Gears: 4.0<br>Weight: 3.19\", \"Before Treatment<br>Car ID 8.0<br># Cylinders: 4.0<br># Carbs: 2.0<br># Gears: 4.0<br>Weight: 3.15\", \"Before Treatment<br>Car ID 9.0<br># Cylinders: 6.0<br># Carbs: 4.0<br># Gears: 4.0<br>Weight: 3.44\", \"Before Treatment<br>Car ID 10.0<br># Cylinders: 6.0<br># Carbs: 4.0<br># Gears: 4.0<br>Weight: 3.44\", \"Before Treatment<br>Car ID 11.0<br># Cylinders: 8.0<br># Carbs: 3.0<br># Gears: 3.0<br>Weight: 4.07\", \"Before Treatment<br>Car ID 12.0<br># Cylinders: 8.0<br># Carbs: 3.0<br># Gears: 3.0<br>Weight: 3.73\", \"Before Treatment<br>Car ID 13.0<br># Cylinders: 8.0<br># Carbs: 3.0<br># Gears: 3.0<br>Weight: 3.78\", \"Before Treatment<br>Car ID 14.0<br># Cylinders: 8.0<br># Carbs: 4.0<br># Gears: 3.0<br>Weight: 5.25\", \"Before Treatment<br>Car ID 15.0<br># Cylinders: 8.0<br># Carbs: 4.0<br># Gears: 3.0<br>Weight: 5.4239999999999995\", \"Before Treatment<br>Car ID 16.0<br># Cylinders: 8.0<br># Carbs: 4.0<br># Gears: 3.0<br>Weight: 5.345\", \"Before Treatment<br>Car ID 17.0<br># Cylinders: 4.0<br># Carbs: 1.0<br># Gears: 4.0<br>Weight: 2.2\", \"Before Treatment<br>Car ID 18.0<br># Cylinders: 4.0<br># Carbs: 2.0<br># Gears: 4.0<br>Weight: 1.615\", \"Before Treatment<br>Car ID 19.0<br># Cylinders: 4.0<br># Carbs: 1.0<br># Gears: 4.0<br>Weight: 1.835\", \"Before Treatment<br>Car ID 20.0<br># Cylinders: 4.0<br># Carbs: 1.0<br># Gears: 3.0<br>Weight: 2.465\", \"Before Treatment<br>Car ID 21.0<br># Cylinders: 8.0<br># Carbs: 2.0<br># Gears: 3.0<br>Weight: 3.52\", \"Before Treatment<br>Car ID 22.0<br># Cylinders: 8.0<br># Carbs: 2.0<br># Gears: 3.0<br>Weight: 3.435\", \"Before Treatment<br>Car ID 23.0<br># Cylinders: 8.0<br># Carbs: 4.0<br># Gears: 3.0<br>Weight: 3.84\", \"Before Treatment<br>Car ID 24.0<br># Cylinders: 8.0<br># Carbs: 2.0<br># Gears: 3.0<br>Weight: 3.845\", \"Before Treatment<br>Car ID 25.0<br># Cylinders: 4.0<br># Carbs: 1.0<br># Gears: 4.0<br>Weight: 1.935\", \"Before Treatment<br>Car ID 26.0<br># Cylinders: 4.0<br># Carbs: 2.0<br># Gears: 5.0<br>Weight: 2.14\", \"Before Treatment<br>Car ID 27.0<br># Cylinders: 4.0<br># Carbs: 2.0<br># Gears: 5.0<br>Weight: 1.5130000000000001\", \"Before Treatment<br>Car ID 28.0<br># Cylinders: 8.0<br># Carbs: 4.0<br># Gears: 5.0<br>Weight: 3.17\", \"Before Treatment<br>Car ID 29.0<br># Cylinders: 6.0<br># Carbs: 6.0<br># Gears: 5.0<br>Weight: 2.77\", \"Before Treatment<br>Car ID 30.0<br># Cylinders: 8.0<br># Carbs: 8.0<br># Gears: 5.0<br>Weight: 3.57\", \"Before Treatment<br>Car ID 31.0<br># Cylinders: 4.0<br># Carbs: 2.0<br># Gears: 4.0<br>Weight: 2.78\"], \"x\": [110, 110, 93, 110, 175, 105, 245, 62, 95, 123, 123, 180, 180, 180, 205, 215, 230, 66, 52, 65, 97, 150, 150, 245, 175, 66, 91, 113, 264, 175, 335, 109], \"y\": [21.0, 21.0, 22.8, 21.4, 18.7, 18.1, 14.3, 24.4, 22.8, 19.2, 17.8, 16.4, 17.3, 15.2, 10.4, 10.4, 14.7, 32.4, 30.4, 33.9, 21.5, 15.5, 15.2, 13.3, 19.2, 27.3, 26.0, 30.4, 15.8, 19.7, 15.0, 21.4], \"type\": \"scatter\", \"uid\": \"c255e4d4-ec10-11e8-9c82-a0481cac4f9d\"}, {\"marker\": {\"color\": [\"#2D2D2A\", \"#2D2D2A\", \"#2D2D2A\", \"#2D2D2A\", \"#2D2D2A\", \"#2D2D2A\", \"#2D2D2A\", \"#2D2D2A\", \"#2D2D2A\", \"#2D2D2A\", \"#2D2D2A\", \"#2D2D2A\", \"#2D2D2A\", \"#2D2D2A\", \"#2D2D2A\", \"#2D2D2A\", \"#2D2D2A\", \"#2D2D2A\", \"#2D2D2A\", \"#2D2D2A\", \"#2D2D2A\", \"#2D2D2A\", \"#2D2D2A\", \"#2D2D2A\", \"#2D2D2A\", \"#2D2D2A\", \"#2D2D2A\", \"#2D2D2A\", \"#2D2D2A\", \"#2D2D2A\", \"#2D2D2A\", \"#2D2D2A\"]}, \"mode\": \"markers\", \"name\": \"hp_alt\", \"text\": [\"After Treatment<br>Car ID 0.0<br># Cylinders: 6.0<br># Carbs: 4.0<br># Gears: 4.0<br>Weight: 2.62\", \"After Treatment<br>Car ID 1.0<br># Cylinders: 6.0<br># Carbs: 4.0<br># Gears: 4.0<br>Weight: 2.875\", \"After Treatment<br>Car ID 2.0<br># Cylinders: 4.0<br># Carbs: 1.0<br># Gears: 4.0<br>Weight: 2.32\", \"After Treatment<br>Car ID 3.0<br># Cylinders: 6.0<br># Carbs: 1.0<br># Gears: 3.0<br>Weight: 3.215\", \"After Treatment<br>Car ID 4.0<br># Cylinders: 8.0<br># Carbs: 2.0<br># Gears: 3.0<br>Weight: 3.44\", \"After Treatment<br>Car ID 5.0<br># Cylinders: 6.0<br># Carbs: 1.0<br># Gears: 3.0<br>Weight: 3.46\", \"After Treatment<br>Car ID 6.0<br># Cylinders: 8.0<br># Carbs: 4.0<br># Gears: 3.0<br>Weight: 3.57\", \"After Treatment<br>Car ID 7.0<br># Cylinders: 4.0<br># Carbs: 2.0<br># Gears: 4.0<br>Weight: 3.19\", \"After Treatment<br>Car ID 8.0<br># Cylinders: 4.0<br># Carbs: 2.0<br># Gears: 4.0<br>Weight: 3.15\", \"After Treatment<br>Car ID 9.0<br># Cylinders: 6.0<br># Carbs: 4.0<br># Gears: 4.0<br>Weight: 3.44\", \"After Treatment<br>Car ID 10.0<br># Cylinders: 6.0<br># Carbs: 4.0<br># Gears: 4.0<br>Weight: 3.44\", \"After Treatment<br>Car ID 11.0<br># Cylinders: 8.0<br># Carbs: 3.0<br># Gears: 3.0<br>Weight: 4.07\", \"After Treatment<br>Car ID 12.0<br># Cylinders: 8.0<br># Carbs: 3.0<br># Gears: 3.0<br>Weight: 3.73\", \"After Treatment<br>Car ID 13.0<br># Cylinders: 8.0<br># Carbs: 3.0<br># Gears: 3.0<br>Weight: 3.78\", \"After Treatment<br>Car ID 14.0<br># Cylinders: 8.0<br># Carbs: 4.0<br># Gears: 3.0<br>Weight: 5.25\", \"After Treatment<br>Car ID 15.0<br># Cylinders: 8.0<br># Carbs: 4.0<br># Gears: 3.0<br>Weight: 5.4239999999999995\", \"After Treatment<br>Car ID 16.0<br># Cylinders: 8.0<br># Carbs: 4.0<br># Gears: 3.0<br>Weight: 5.345\", \"After Treatment<br>Car ID 17.0<br># Cylinders: 4.0<br># Carbs: 1.0<br># Gears: 4.0<br>Weight: 2.2\", \"After Treatment<br>Car ID 18.0<br># Cylinders: 4.0<br># Carbs: 2.0<br># Gears: 4.0<br>Weight: 1.615\", \"After Treatment<br>Car ID 19.0<br># Cylinders: 4.0<br># Carbs: 1.0<br># Gears: 4.0<br>Weight: 1.835\", \"After Treatment<br>Car ID 20.0<br># Cylinders: 4.0<br># Carbs: 1.0<br># Gears: 3.0<br>Weight: 2.465\", \"After Treatment<br>Car ID 21.0<br># Cylinders: 8.0<br># Carbs: 2.0<br># Gears: 3.0<br>Weight: 3.52\", \"After Treatment<br>Car ID 22.0<br># Cylinders: 8.0<br># Carbs: 2.0<br># Gears: 3.0<br>Weight: 3.435\", \"After Treatment<br>Car ID 23.0<br># Cylinders: 8.0<br># Carbs: 4.0<br># Gears: 3.0<br>Weight: 3.84\", \"After Treatment<br>Car ID 24.0<br># Cylinders: 8.0<br># Carbs: 2.0<br># Gears: 3.0<br>Weight: 3.845\", \"After Treatment<br>Car ID 25.0<br># Cylinders: 4.0<br># Carbs: 1.0<br># Gears: 4.0<br>Weight: 1.935\", \"After Treatment<br>Car ID 26.0<br># Cylinders: 4.0<br># Carbs: 2.0<br># Gears: 5.0<br>Weight: 2.14\", \"After Treatment<br>Car ID 27.0<br># Cylinders: 4.0<br># Carbs: 2.0<br># Gears: 5.0<br>Weight: 1.5130000000000001\", \"After Treatment<br>Car ID 28.0<br># Cylinders: 8.0<br># Carbs: 4.0<br># Gears: 5.0<br>Weight: 3.17\", \"After Treatment<br>Car ID 29.0<br># Cylinders: 6.0<br># Carbs: 6.0<br># Gears: 5.0<br>Weight: 2.77\", \"After Treatment<br>Car ID 30.0<br># Cylinders: 8.0<br># Carbs: 8.0<br># Gears: 5.0<br>Weight: 3.57\", \"After Treatment<br>Car ID 31.0<br># Cylinders: 4.0<br># Carbs: 2.0<br># Gears: 4.0<br>Weight: 2.78\"], \"x\": [107.6234453086354, 106.420365936115, 88.42240334494879, 105.29886891784015, 169.84248608533085, 98.07132771028864, 235.9981757068619, 59.36104358132976, 89.90539412335664, 119.10680320132421, 117.34735178701527, 175.01324051955308, 174.39450849650194, 171.90013396296635, 202.2633079830843, 208.99464952258006, 223.50214785691816, 60.340721213257495, 47.85737414240351, 61.23831895193607, 91.41920976018659, 144.37187730305016, 144.8352703689615, 239.08672949444932, 168.97999656425594, 55.92809317693481, 85.74023883539715, 106.76230281200344, 261.27342167545606, 170.2855598084102, 328.4771074042512, 104.69004385818641], \"y\": [25.338093731391996, 25.67104522554042, 29.809824617924903, 26.05697422140732, 22.908030055144398, 24.221293266661537, 18.503857878112658, 29.109960911582572, 32.78365821722295, 23.964793953103534, 22.864714241046386, 20.349064718425616, 21.39997382700076, 22.03512853470727, 15.515367013630584, 14.967383241594462, 20.15844472483461, 34.77574571035357, 36.14554209541269, 40.20436715719014, 21.76523958153193, 23.48731821311356, 24.928167705773593, 18.967463846692088, 23.09101358389652, 32.43510759331234, 30.017034842503737, 35.60419784884223, 20.264084817267232, 22.216589646093095, 21.90719406127156, 30.371549580318124], \"type\": \"scatter\", \"uid\": \"c255e4d5-ec10-11e8-8482-a0481cac4f9d\"}], {\"annotations\": [{\"showarrow\": false, \"text\": \"Fuel mileage upgrade works for most cars\", \"x\": 200, \"y\": 37}, {\"ax\": 150, \"ay\": -25, \"showarrow\": true, \"text\": \"Car 8 before upgrade\", \"x\": 95, \"y\": 22.8}, {\"ax\": 150, \"ay\": 0, \"showarrow\": true, \"text\": \"Car 8 after upgrade\", \"x\": 89.90539412335664, \"y\": 32.78365821722295}], \"hovermode\": \"closest\", \"plot_bgcolor\": \"rgb(229, 229, 229)\", \"title\": \"<b>Fuel Mileage as a Function of Horsepower</b><br><i>for mtcars data</i>\", \"xaxis\": {\"gridcolor\": \"rgb(255,255,255)\", \"tickangle\": 30, \"title\": \"Horsepower\", \"zerolinecolor\": \"rgb(255,255,255)\"}, \"yaxis\": {\"gridcolor\": \"rgb(255,255,255)\", \"title\": \"Fuel Mileage (mpg)\", \"zerolinecolor\": \"rgb(255,255,255)\"}}, {\"showLink\": true, \"linkText\": \"Export to plot.ly\"})});</script>"
      ]
     },
     "metadata": {},
     "output_type": "display_data"
    }
   ],
   "source": [
    "# build graph args \n",
    "args['x_data'] = [x_data, x_data_treat]\n",
    "args['y_data'] = [y_data, y_data_treat]\n",
    "args['names'] = names\n",
    "args['colors'] = colors\n",
    "args['title'] = '<b>Fuel Mileage as a Function of Horsepower</b><br><i>for mtcars data</i>'\n",
    "args['xlab'] = 'Horsepower'\n",
    "args['ylab'] = 'Fuel Mileage (mpg)'\n",
    "\n",
    "# set up callout text \n",
    "sl = y_data.join(y_data_treat)\n",
    "sl['diff'] = sl.mpg_alt - sl.mpg\n",
    "cid = (sl[(sl.mpg < sl.mpg_alt)]\n",
    "         .sort_values(by=['diff'], ascending=False).index[0])\n",
    "\n",
    "x1_loc = x_data.iloc[cid].values[0]\n",
    "x2_loc = x_data_treat.iloc[cid].values[0]\n",
    "\n",
    "y1_loc = y_data.iloc[cid].values[0]\n",
    "y2_loc = y_data_treat.iloc[cid].values[0]\n",
    "\n",
    "c1 = {'text':'Car %s before upgrade' % cid, 'x':x1_loc, 'y':y1_loc, \n",
    "      'showarrow':True, 'ax':150, 'ay':-25}\n",
    "\n",
    "c2 = {'text':'Car %s after upgrade' % cid, 'x':x2_loc, 'y':y2_loc, \n",
    "      'showarrow':True, 'ax':150, 'ay':0}\n",
    "\n",
    "text = 'Fuel mileage upgrade works for most cars'\n",
    "args['annotations'] = [{'text':text, 'x':200, 'y':37, 'showarrow':False}, \n",
    "                       c1, c2]\n",
    "\n",
    "# display plot\n",
    "fig = scatterplot.create_graph(**args)"
   ]
  },
  {
   "cell_type": "code",
   "execution_count": 38,
   "metadata": {},
   "outputs": [],
   "source": [
    "# write graph to html file \n",
    "fp = 'scatterplot-example.html'\n",
    "barplot.output_graph(fp, fig)"
   ]
  }
 ],
 "metadata": {
  "kernelspec": {
   "display_name": "Python 3",
   "language": "python",
   "name": "python3"
  },
  "language_info": {
   "codemirror_mode": {
    "name": "ipython",
    "version": 3
   },
   "file_extension": ".py",
   "mimetype": "text/x-python",
   "name": "python",
   "nbconvert_exporter": "python",
   "pygments_lexer": "ipython3",
   "version": "3.6.6"
  },
  "toc": {
   "base_numbering": 1,
   "nav_menu": {},
   "number_sections": true,
   "sideBar": true,
   "skip_h1_title": false,
   "title_cell": "Table of Contents",
   "title_sidebar": "Contents",
   "toc_cell": false,
   "toc_position": {},
   "toc_section_display": true,
   "toc_window_display": false
  }
 },
 "nbformat": 4,
 "nbformat_minor": 2
}
