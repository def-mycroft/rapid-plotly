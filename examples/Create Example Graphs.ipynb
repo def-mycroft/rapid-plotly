{
 "cells": [
  {
   "cell_type": "code",
   "execution_count": 5,
   "metadata": {},
   "outputs": [],
   "source": [
    "import pandas as pd\n",
    "import numpy as np\n",
    "import string\n",
    "import importlib as imp"
   ]
  },
  {
   "cell_type": "markdown",
   "metadata": {},
   "source": [
    "# Load Data"
   ]
  },
  {
   "cell_type": "code",
   "execution_count": 6,
   "metadata": {},
   "outputs": [
    {
     "name": "stdout",
     "output_type": "stream",
     "text": [
      "(32, 11)\n"
     ]
    },
    {
     "data": {
      "text/html": [
       "<div>\n",
       "<style scoped>\n",
       "    .dataframe tbody tr th:only-of-type {\n",
       "        vertical-align: middle;\n",
       "    }\n",
       "\n",
       "    .dataframe tbody tr th {\n",
       "        vertical-align: top;\n",
       "    }\n",
       "\n",
       "    .dataframe thead th {\n",
       "        text-align: right;\n",
       "    }\n",
       "</style>\n",
       "<table border=\"1\" class=\"dataframe\">\n",
       "  <thead>\n",
       "    <tr style=\"text-align: right;\">\n",
       "      <th></th>\n",
       "      <th>mpg</th>\n",
       "      <th>cyl</th>\n",
       "      <th>disp</th>\n",
       "      <th>hp</th>\n",
       "      <th>drat</th>\n",
       "      <th>wt</th>\n",
       "      <th>qsec</th>\n",
       "      <th>vs</th>\n",
       "      <th>am</th>\n",
       "      <th>gear</th>\n",
       "      <th>carb</th>\n",
       "    </tr>\n",
       "  </thead>\n",
       "  <tbody>\n",
       "    <tr>\n",
       "      <th>0</th>\n",
       "      <td>21.0</td>\n",
       "      <td>6</td>\n",
       "      <td>160.0</td>\n",
       "      <td>110</td>\n",
       "      <td>3.90</td>\n",
       "      <td>2.620</td>\n",
       "      <td>16.46</td>\n",
       "      <td>0</td>\n",
       "      <td>1</td>\n",
       "      <td>4</td>\n",
       "      <td>4</td>\n",
       "    </tr>\n",
       "    <tr>\n",
       "      <th>1</th>\n",
       "      <td>21.0</td>\n",
       "      <td>6</td>\n",
       "      <td>160.0</td>\n",
       "      <td>110</td>\n",
       "      <td>3.90</td>\n",
       "      <td>2.875</td>\n",
       "      <td>17.02</td>\n",
       "      <td>0</td>\n",
       "      <td>1</td>\n",
       "      <td>4</td>\n",
       "      <td>4</td>\n",
       "    </tr>\n",
       "    <tr>\n",
       "      <th>2</th>\n",
       "      <td>22.8</td>\n",
       "      <td>4</td>\n",
       "      <td>108.0</td>\n",
       "      <td>93</td>\n",
       "      <td>3.85</td>\n",
       "      <td>2.320</td>\n",
       "      <td>18.61</td>\n",
       "      <td>1</td>\n",
       "      <td>1</td>\n",
       "      <td>4</td>\n",
       "      <td>1</td>\n",
       "    </tr>\n",
       "    <tr>\n",
       "      <th>3</th>\n",
       "      <td>21.4</td>\n",
       "      <td>6</td>\n",
       "      <td>258.0</td>\n",
       "      <td>110</td>\n",
       "      <td>3.08</td>\n",
       "      <td>3.215</td>\n",
       "      <td>19.44</td>\n",
       "      <td>1</td>\n",
       "      <td>0</td>\n",
       "      <td>3</td>\n",
       "      <td>1</td>\n",
       "    </tr>\n",
       "    <tr>\n",
       "      <th>4</th>\n",
       "      <td>18.7</td>\n",
       "      <td>8</td>\n",
       "      <td>360.0</td>\n",
       "      <td>175</td>\n",
       "      <td>3.15</td>\n",
       "      <td>3.440</td>\n",
       "      <td>17.02</td>\n",
       "      <td>0</td>\n",
       "      <td>0</td>\n",
       "      <td>3</td>\n",
       "      <td>2</td>\n",
       "    </tr>\n",
       "  </tbody>\n",
       "</table>\n",
       "</div>"
      ],
      "text/plain": [
       "    mpg  cyl   disp   hp  drat     wt   qsec  vs  am  gear  carb\n",
       "0  21.0    6  160.0  110  3.90  2.620  16.46   0   1     4     4\n",
       "1  21.0    6  160.0  110  3.90  2.875  17.02   0   1     4     4\n",
       "2  22.8    4  108.0   93  3.85  2.320  18.61   1   1     4     1\n",
       "3  21.4    6  258.0  110  3.08  3.215  19.44   1   0     3     1\n",
       "4  18.7    8  360.0  175  3.15  3.440  17.02   0   0     3     2"
      ]
     },
     "execution_count": 6,
     "metadata": {},
     "output_type": "execute_result"
    }
   ],
   "source": [
    "# load example mtcars data \n",
    "df = pd.read_csv('mtcars.csv')\n",
    "print(df.shape)\n",
    "df.head()"
   ]
  },
  {
   "cell_type": "markdown",
   "metadata": {},
   "source": [
    "# Create Simple Barplot"
   ]
  },
  {
   "cell_type": "code",
   "execution_count": 7,
   "metadata": {},
   "outputs": [],
   "source": [
    "import os\n",
    "os.chdir('../')\n",
    "import barplot\n",
    "imp.reload(barplot)\n",
    "os.chdir('examples')"
   ]
  },
  {
   "cell_type": "markdown",
   "metadata": {},
   "source": [
    "A simple barplot can be created by passing three dataframes to `barplot.create_graph`:\n",
    "\n",
    "* `in_data` - the height of the bars\n",
    "* `names` - a dataframe containing the hover text for the bars, otherwise identical to `in_data`\n",
    "* `errors` - a dataframe containing the half-height of the error bars, otherwise identical to `in_data`"
   ]
  },
  {
   "cell_type": "code",
   "execution_count": 8,
   "metadata": {},
   "outputs": [
    {
     "name": "stdout",
     "output_type": "stream",
     "text": [
      "main data:\n"
     ]
    },
    {
     "data": {
      "text/html": [
       "<div>\n",
       "<style scoped>\n",
       "    .dataframe tbody tr th:only-of-type {\n",
       "        vertical-align: middle;\n",
       "    }\n",
       "\n",
       "    .dataframe tbody tr th {\n",
       "        vertical-align: top;\n",
       "    }\n",
       "\n",
       "    .dataframe thead th {\n",
       "        text-align: right;\n",
       "    }\n",
       "</style>\n",
       "<table border=\"1\" class=\"dataframe\">\n",
       "  <thead>\n",
       "    <tr style=\"text-align: right;\">\n",
       "      <th></th>\n",
       "      <th>mpg</th>\n",
       "    </tr>\n",
       "  </thead>\n",
       "  <tbody>\n",
       "    <tr>\n",
       "      <th>4 Cylinders</th>\n",
       "      <td>26.663636</td>\n",
       "    </tr>\n",
       "    <tr>\n",
       "      <th>6 Cylinders</th>\n",
       "      <td>19.742857</td>\n",
       "    </tr>\n",
       "    <tr>\n",
       "      <th>8 Cylinders</th>\n",
       "      <td>15.100000</td>\n",
       "    </tr>\n",
       "  </tbody>\n",
       "</table>\n",
       "</div>"
      ],
      "text/plain": [
       "                   mpg\n",
       "4 Cylinders  26.663636\n",
       "6 Cylinders  19.742857\n",
       "8 Cylinders  15.100000"
      ]
     },
     "metadata": {},
     "output_type": "display_data"
    },
    {
     "name": "stdout",
     "output_type": "stream",
     "text": [
      "names:\n"
     ]
    },
    {
     "data": {
      "text/html": [
       "<div>\n",
       "<style scoped>\n",
       "    .dataframe tbody tr th:only-of-type {\n",
       "        vertical-align: middle;\n",
       "    }\n",
       "\n",
       "    .dataframe tbody tr th {\n",
       "        vertical-align: top;\n",
       "    }\n",
       "\n",
       "    .dataframe thead th {\n",
       "        text-align: right;\n",
       "    }\n",
       "</style>\n",
       "<table border=\"1\" class=\"dataframe\">\n",
       "  <thead>\n",
       "    <tr style=\"text-align: right;\">\n",
       "      <th></th>\n",
       "      <th>mpg</th>\n",
       "    </tr>\n",
       "  </thead>\n",
       "  <tbody>\n",
       "    <tr>\n",
       "      <th>4 Cylinders</th>\n",
       "      <td>ue</td>\n",
       "    </tr>\n",
       "    <tr>\n",
       "      <th>6 Cylinders</th>\n",
       "      <td>pv</td>\n",
       "    </tr>\n",
       "    <tr>\n",
       "      <th>8 Cylinders</th>\n",
       "      <td>ha</td>\n",
       "    </tr>\n",
       "  </tbody>\n",
       "</table>\n",
       "</div>"
      ],
      "text/plain": [
       "            mpg\n",
       "4 Cylinders  ue\n",
       "6 Cylinders  pv\n",
       "8 Cylinders  ha"
      ]
     },
     "metadata": {},
     "output_type": "display_data"
    },
    {
     "name": "stdout",
     "output_type": "stream",
     "text": [
      "errors:\n"
     ]
    },
    {
     "data": {
      "text/html": [
       "<div>\n",
       "<style scoped>\n",
       "    .dataframe tbody tr th:only-of-type {\n",
       "        vertical-align: middle;\n",
       "    }\n",
       "\n",
       "    .dataframe tbody tr th {\n",
       "        vertical-align: top;\n",
       "    }\n",
       "\n",
       "    .dataframe thead th {\n",
       "        text-align: right;\n",
       "    }\n",
       "</style>\n",
       "<table border=\"1\" class=\"dataframe\">\n",
       "  <thead>\n",
       "    <tr style=\"text-align: right;\">\n",
       "      <th></th>\n",
       "      <th>mpg</th>\n",
       "    </tr>\n",
       "  </thead>\n",
       "  <tbody>\n",
       "    <tr>\n",
       "      <th>4 Cylinders</th>\n",
       "      <td>2.5</td>\n",
       "    </tr>\n",
       "    <tr>\n",
       "      <th>6 Cylinders</th>\n",
       "      <td>2.5</td>\n",
       "    </tr>\n",
       "    <tr>\n",
       "      <th>8 Cylinders</th>\n",
       "      <td>2.5</td>\n",
       "    </tr>\n",
       "  </tbody>\n",
       "</table>\n",
       "</div>"
      ],
      "text/plain": [
       "             mpg\n",
       "4 Cylinders  2.5\n",
       "6 Cylinders  2.5\n",
       "8 Cylinders  2.5"
      ]
     },
     "metadata": {},
     "output_type": "display_data"
    }
   ],
   "source": [
    "# create graph data \n",
    "in_data = pd.DataFrame(df.groupby('cyl').mean()['mpg'])\n",
    "in_data.index = in_data.index.astype(int).astype(str) + ' Cylinders'\n",
    "print('main data:')\n",
    "display(in_data.head())\n",
    "\n",
    "# generate names\n",
    "l = string.ascii_lowercase\n",
    "names = in_data.copy()\n",
    "f = lambda: l[np.random.randint(0,len(l))]\n",
    "\n",
    "for x in names.index:\n",
    "    names.loc[x, 'mpg'] = f()+f()\n",
    "    \n",
    "print('names:')\n",
    "display(names.head())\n",
    "\n",
    "# generate error bars data\n",
    "errors = in_data.copy()\n",
    "errors['mpg'] = 2.5\n",
    "print('errors:')\n",
    "display(errors.head())"
   ]
  },
  {
   "cell_type": "markdown",
   "metadata": {},
   "source": [
    "A simple graph can be quickly created to verify that the data is as expected:"
   ]
  },
  {
   "cell_type": "code",
   "execution_count": 9,
   "metadata": {},
   "outputs": [
    {
     "data": {
      "text/html": [
       "<script type=\"text/javascript\">window.PlotlyConfig = {MathJaxConfig: 'local'};</script><script type=\"text/javascript\">if (window.MathJax) {MathJax.Hub.Config({SVG: {font: \"STIX-Web\"}});}</script><script>requirejs.config({paths: { 'plotly': ['https://cdn.plot.ly/plotly-latest.min']},});if(!window._Plotly) {require(['plotly'],function(plotly) {window._Plotly=plotly;});}</script>"
      ],
      "text/vnd.plotly.v1+html": [
       "<script type=\"text/javascript\">window.PlotlyConfig = {MathJaxConfig: 'local'};</script><script type=\"text/javascript\">if (window.MathJax) {MathJax.Hub.Config({SVG: {font: \"STIX-Web\"}});}</script><script>requirejs.config({paths: { 'plotly': ['https://cdn.plot.ly/plotly-latest.min']},});if(!window._Plotly) {require(['plotly'],function(plotly) {window._Plotly=plotly;});}</script>"
      ]
     },
     "metadata": {},
     "output_type": "display_data"
    },
    {
     "data": {
      "application/vnd.plotly.v1+json": {
       "data": [
        {
         "marker": {
          "color": "#232C65"
         },
         "name": "mpg",
         "text": "mpg",
         "type": "bar",
         "uid": "2c9b529d-0685-4e14-a2f1-1588e338ac52",
         "x": [
          "4 Cylinders",
          "6 Cylinders",
          "8 Cylinders"
         ],
         "y": [
          26.663636363636364,
          19.74285714285714,
          15.100000000000003
         ]
        }
       ],
       "layout": {
        "hovermode": "closest",
        "plot_bgcolor": "rgb(229, 229, 229)",
        "title": "title",
        "xaxis": {
         "gridcolor": "rgb(255,255,255)",
         "tickangle": 30,
         "title": "xlab",
         "zerolinecolor": "rgb(255,255,255)"
        },
        "yaxis": {
         "gridcolor": "rgb(255,255,255)",
         "title": "ylab",
         "zerolinecolor": "rgb(255,255,255)"
        }
       }
      },
      "text/html": [
       "<div id=\"33746f94-7f40-466e-92ca-408ed94b01dc\" style=\"height: 525px; width: 100%;\" class=\"plotly-graph-div\"></div><script type=\"text/javascript\">require([\"plotly\"], function(Plotly) { window.PLOTLYENV=window.PLOTLYENV || {};window.PLOTLYENV.BASE_URL=\"https://plot.ly\";Plotly.newPlot(\"33746f94-7f40-466e-92ca-408ed94b01dc\", [{\"marker\": {\"color\": \"#232C65\"}, \"name\": \"mpg\", \"text\": \"mpg\", \"x\": [\"4 Cylinders\", \"6 Cylinders\", \"8 Cylinders\"], \"y\": [26.663636363636364, 19.74285714285714, 15.100000000000003], \"type\": \"bar\", \"uid\": \"2c9b529d-0685-4e14-a2f1-1588e338ac52\"}], {\"hovermode\": \"closest\", \"plot_bgcolor\": \"rgb(229, 229, 229)\", \"title\": \"title\", \"xaxis\": {\"gridcolor\": \"rgb(255,255,255)\", \"tickangle\": 30, \"title\": \"xlab\", \"zerolinecolor\": \"rgb(255,255,255)\"}, \"yaxis\": {\"gridcolor\": \"rgb(255,255,255)\", \"title\": \"ylab\", \"zerolinecolor\": \"rgb(255,255,255)\"}}, {\"showLink\": true, \"linkText\": \"Export to plot.ly\"})});</script><script type=\"text/javascript\">window.addEventListener(\"resize\", function(){window._Plotly.Plots.resize(document.getElementById(\"33746f94-7f40-466e-92ca-408ed94b01dc\"));});</script>"
      ],
      "text/vnd.plotly.v1+html": [
       "<div id=\"33746f94-7f40-466e-92ca-408ed94b01dc\" style=\"height: 525px; width: 100%;\" class=\"plotly-graph-div\"></div><script type=\"text/javascript\">require([\"plotly\"], function(Plotly) { window.PLOTLYENV=window.PLOTLYENV || {};window.PLOTLYENV.BASE_URL=\"https://plot.ly\";Plotly.newPlot(\"33746f94-7f40-466e-92ca-408ed94b01dc\", [{\"marker\": {\"color\": \"#232C65\"}, \"name\": \"mpg\", \"text\": \"mpg\", \"x\": [\"4 Cylinders\", \"6 Cylinders\", \"8 Cylinders\"], \"y\": [26.663636363636364, 19.74285714285714, 15.100000000000003], \"type\": \"bar\", \"uid\": \"2c9b529d-0685-4e14-a2f1-1588e338ac52\"}], {\"hovermode\": \"closest\", \"plot_bgcolor\": \"rgb(229, 229, 229)\", \"title\": \"title\", \"xaxis\": {\"gridcolor\": \"rgb(255,255,255)\", \"tickangle\": 30, \"title\": \"xlab\", \"zerolinecolor\": \"rgb(255,255,255)\"}, \"yaxis\": {\"gridcolor\": \"rgb(255,255,255)\", \"title\": \"ylab\", \"zerolinecolor\": \"rgb(255,255,255)\"}}, {\"showLink\": true, \"linkText\": \"Export to plot.ly\"})});</script><script type=\"text/javascript\">window.addEventListener(\"resize\", function(){window._Plotly.Plots.resize(document.getElementById(\"33746f94-7f40-466e-92ca-408ed94b01dc\"));});</script>"
      ]
     },
     "metadata": {},
     "output_type": "display_data"
    }
   ],
   "source": [
    "# create input data for graph \n",
    "args = dict(\n",
    "    in_data=in_data\n",
    ")\n",
    "\n",
    "# view plot inline \n",
    "fig = barplot.create_graph(**args)"
   ]
  },
  {
   "cell_type": "markdown",
   "metadata": {},
   "source": [
    "Now that the graph appears to be as expected, more characteristics can be added by adding them to `args`:"
   ]
  },
  {
   "cell_type": "code",
   "execution_count": 10,
   "metadata": {},
   "outputs": [],
   "source": [
    "# add additional characteristics to graph\n",
    "title = '<b>Fuel Mileage by Number of Cylinders</b>'\n",
    "title += '<br><i>for mtcars data</i>'\n",
    "args['title'] = title\n",
    "args['names'] = names\n",
    "args['errors'] = errors\n",
    "args['xlab'] = 'Number of Cylinders'\n",
    "args['ylab'] = 'Miles Per Gallon'\n",
    "args['annotations'] = [{'text':'More cylinders correlates to lower fuel mileage', 'x':1.5, 'y':24.5, 'showarrow':False}]"
   ]
  },
  {
   "cell_type": "markdown",
   "metadata": {},
   "source": [
    "Preview the results again:"
   ]
  },
  {
   "cell_type": "code",
   "execution_count": 11,
   "metadata": {},
   "outputs": [
    {
     "data": {
      "text/html": [
       "<script type=\"text/javascript\">window.PlotlyConfig = {MathJaxConfig: 'local'};</script><script type=\"text/javascript\">if (window.MathJax) {MathJax.Hub.Config({SVG: {font: \"STIX-Web\"}});}</script><script>requirejs.config({paths: { 'plotly': ['https://cdn.plot.ly/plotly-latest.min']},});if(!window._Plotly) {require(['plotly'],function(plotly) {window._Plotly=plotly;});}</script>"
      ],
      "text/vnd.plotly.v1+html": [
       "<script type=\"text/javascript\">window.PlotlyConfig = {MathJaxConfig: 'local'};</script><script type=\"text/javascript\">if (window.MathJax) {MathJax.Hub.Config({SVG: {font: \"STIX-Web\"}});}</script><script>requirejs.config({paths: { 'plotly': ['https://cdn.plot.ly/plotly-latest.min']},});if(!window._Plotly) {require(['plotly'],function(plotly) {window._Plotly=plotly;});}</script>"
      ]
     },
     "metadata": {},
     "output_type": "display_data"
    },
    {
     "data": {
      "application/vnd.plotly.v1+json": {
       "data": [
        {
         "error_y": {
          "array": [
           2.5,
           2.5,
           2.5
          ],
          "thickness": 7,
          "type": "data",
          "visible": true,
          "width": 8
         },
         "marker": {
          "color": "#232C65"
         },
         "name": "mpg",
         "text": [
          "ue",
          "pv",
          "ha"
         ],
         "type": "bar",
         "uid": "ca0178bb-458c-4199-8ab7-5c65b6756771",
         "x": [
          "4 Cylinders",
          "6 Cylinders",
          "8 Cylinders"
         ],
         "y": [
          26.663636363636364,
          19.74285714285714,
          15.100000000000003
         ]
        }
       ],
       "layout": {
        "annotations": [
         {
          "showarrow": false,
          "text": "More cylinders correlates to lower fuel mileage",
          "x": 1.5,
          "y": 24.5
         }
        ],
        "hovermode": "closest",
        "plot_bgcolor": "rgb(229, 229, 229)",
        "title": "<b>Fuel Mileage by Number of Cylinders</b><br><i>for mtcars data</i>",
        "xaxis": {
         "gridcolor": "rgb(255,255,255)",
         "tickangle": 30,
         "title": "Number of Cylinders",
         "zerolinecolor": "rgb(255,255,255)"
        },
        "yaxis": {
         "gridcolor": "rgb(255,255,255)",
         "title": "Miles Per Gallon",
         "zerolinecolor": "rgb(255,255,255)"
        }
       }
      },
      "text/html": [
       "<div id=\"b30384f2-adc4-41f1-bf63-b9457f5d387e\" style=\"height: 525px; width: 100%;\" class=\"plotly-graph-div\"></div><script type=\"text/javascript\">require([\"plotly\"], function(Plotly) { window.PLOTLYENV=window.PLOTLYENV || {};window.PLOTLYENV.BASE_URL=\"https://plot.ly\";Plotly.newPlot(\"b30384f2-adc4-41f1-bf63-b9457f5d387e\", [{\"error_y\": {\"array\": [2.5, 2.5, 2.5], \"thickness\": 7, \"type\": \"data\", \"visible\": true, \"width\": 8}, \"marker\": {\"color\": \"#232C65\"}, \"name\": \"mpg\", \"text\": [\"ue\", \"pv\", \"ha\"], \"x\": [\"4 Cylinders\", \"6 Cylinders\", \"8 Cylinders\"], \"y\": [26.663636363636364, 19.74285714285714, 15.100000000000003], \"type\": \"bar\", \"uid\": \"ca0178bb-458c-4199-8ab7-5c65b6756771\"}], {\"annotations\": [{\"showarrow\": false, \"text\": \"More cylinders correlates to lower fuel mileage\", \"x\": 1.5, \"y\": 24.5}], \"hovermode\": \"closest\", \"plot_bgcolor\": \"rgb(229, 229, 229)\", \"title\": \"<b>Fuel Mileage by Number of Cylinders</b><br><i>for mtcars data</i>\", \"xaxis\": {\"gridcolor\": \"rgb(255,255,255)\", \"tickangle\": 30, \"title\": \"Number of Cylinders\", \"zerolinecolor\": \"rgb(255,255,255)\"}, \"yaxis\": {\"gridcolor\": \"rgb(255,255,255)\", \"title\": \"Miles Per Gallon\", \"zerolinecolor\": \"rgb(255,255,255)\"}}, {\"showLink\": true, \"linkText\": \"Export to plot.ly\"})});</script><script type=\"text/javascript\">window.addEventListener(\"resize\", function(){window._Plotly.Plots.resize(document.getElementById(\"b30384f2-adc4-41f1-bf63-b9457f5d387e\"));});</script>"
      ],
      "text/vnd.plotly.v1+html": [
       "<div id=\"b30384f2-adc4-41f1-bf63-b9457f5d387e\" style=\"height: 525px; width: 100%;\" class=\"plotly-graph-div\"></div><script type=\"text/javascript\">require([\"plotly\"], function(Plotly) { window.PLOTLYENV=window.PLOTLYENV || {};window.PLOTLYENV.BASE_URL=\"https://plot.ly\";Plotly.newPlot(\"b30384f2-adc4-41f1-bf63-b9457f5d387e\", [{\"error_y\": {\"array\": [2.5, 2.5, 2.5], \"thickness\": 7, \"type\": \"data\", \"visible\": true, \"width\": 8}, \"marker\": {\"color\": \"#232C65\"}, \"name\": \"mpg\", \"text\": [\"ue\", \"pv\", \"ha\"], \"x\": [\"4 Cylinders\", \"6 Cylinders\", \"8 Cylinders\"], \"y\": [26.663636363636364, 19.74285714285714, 15.100000000000003], \"type\": \"bar\", \"uid\": \"ca0178bb-458c-4199-8ab7-5c65b6756771\"}], {\"annotations\": [{\"showarrow\": false, \"text\": \"More cylinders correlates to lower fuel mileage\", \"x\": 1.5, \"y\": 24.5}], \"hovermode\": \"closest\", \"plot_bgcolor\": \"rgb(229, 229, 229)\", \"title\": \"<b>Fuel Mileage by Number of Cylinders</b><br><i>for mtcars data</i>\", \"xaxis\": {\"gridcolor\": \"rgb(255,255,255)\", \"tickangle\": 30, \"title\": \"Number of Cylinders\", \"zerolinecolor\": \"rgb(255,255,255)\"}, \"yaxis\": {\"gridcolor\": \"rgb(255,255,255)\", \"title\": \"Miles Per Gallon\", \"zerolinecolor\": \"rgb(255,255,255)\"}}, {\"showLink\": true, \"linkText\": \"Export to plot.ly\"})});</script><script type=\"text/javascript\">window.addEventListener(\"resize\", function(){window._Plotly.Plots.resize(document.getElementById(\"b30384f2-adc4-41f1-bf63-b9457f5d387e\"));});</script>"
      ]
     },
     "metadata": {},
     "output_type": "display_data"
    }
   ],
   "source": [
    "# view plot inline \n",
    "fig = barplot.create_graph(**args)"
   ]
  },
  {
   "cell_type": "markdown",
   "metadata": {},
   "source": [
    "After creating a graph, it can be written to an html file by passing `fig` to `barplot.output_graph`:"
   ]
  },
  {
   "cell_type": "code",
   "execution_count": 12,
   "metadata": {},
   "outputs": [],
   "source": [
    "# write graph to html file \n",
    "fp = 'barplot-example.html'\n",
    "barplot.output_graph(fp, fig)"
   ]
  },
  {
   "cell_type": "markdown",
   "metadata": {},
   "source": [
    "# Create Grouped Barplot\n",
    "\n",
    "A grouped barplot compares the effect of the same treatment across multiple categories.\n",
    "\n",
    "The next graph will show the relationship between fuel mileage, the number of cylinders and the number of gears for cars.\n",
    "\n",
    "For grouped barplots, dataframes can be passed where the rows represent the x-axis categories and the columns represent each bar in each category. "
   ]
  },
  {
   "cell_type": "code",
   "execution_count": 13,
   "metadata": {},
   "outputs": [
    {
     "name": "stdout",
     "output_type": "stream",
     "text": [
      "main data:\n"
     ]
    },
    {
     "data": {
      "text/html": [
       "<div>\n",
       "<style scoped>\n",
       "    .dataframe tbody tr th:only-of-type {\n",
       "        vertical-align: middle;\n",
       "    }\n",
       "\n",
       "    .dataframe tbody tr th {\n",
       "        vertical-align: top;\n",
       "    }\n",
       "\n",
       "    .dataframe thead th {\n",
       "        text-align: right;\n",
       "    }\n",
       "</style>\n",
       "<table border=\"1\" class=\"dataframe\">\n",
       "  <thead>\n",
       "    <tr style=\"text-align: right;\">\n",
       "      <th></th>\n",
       "      <th>3 gears</th>\n",
       "      <th>4 gears</th>\n",
       "      <th>5 gears</th>\n",
       "    </tr>\n",
       "  </thead>\n",
       "  <tbody>\n",
       "    <tr>\n",
       "      <th>4 Cylinders</th>\n",
       "      <td>21.50</td>\n",
       "      <td>26.925</td>\n",
       "      <td>28.2</td>\n",
       "    </tr>\n",
       "    <tr>\n",
       "      <th>6 Cylinders</th>\n",
       "      <td>19.75</td>\n",
       "      <td>19.750</td>\n",
       "      <td>19.7</td>\n",
       "    </tr>\n",
       "    <tr>\n",
       "      <th>8 Cylinders</th>\n",
       "      <td>15.05</td>\n",
       "      <td>15.225</td>\n",
       "      <td>15.4</td>\n",
       "    </tr>\n",
       "  </tbody>\n",
       "</table>\n",
       "</div>"
      ],
      "text/plain": [
       "             3 gears  4 gears  5 gears\n",
       "4 Cylinders    21.50   26.925     28.2\n",
       "6 Cylinders    19.75   19.750     19.7\n",
       "8 Cylinders    15.05   15.225     15.4"
      ]
     },
     "metadata": {},
     "output_type": "display_data"
    },
    {
     "name": "stdout",
     "output_type": "stream",
     "text": [
      "names:\n"
     ]
    },
    {
     "data": {
      "text/html": [
       "<div>\n",
       "<style scoped>\n",
       "    .dataframe tbody tr th:only-of-type {\n",
       "        vertical-align: middle;\n",
       "    }\n",
       "\n",
       "    .dataframe tbody tr th {\n",
       "        vertical-align: top;\n",
       "    }\n",
       "\n",
       "    .dataframe thead th {\n",
       "        text-align: right;\n",
       "    }\n",
       "</style>\n",
       "<table border=\"1\" class=\"dataframe\">\n",
       "  <thead>\n",
       "    <tr style=\"text-align: right;\">\n",
       "      <th></th>\n",
       "      <th>3 gears</th>\n",
       "      <th>4 gears</th>\n",
       "      <th>5 gears</th>\n",
       "    </tr>\n",
       "  </thead>\n",
       "  <tbody>\n",
       "    <tr>\n",
       "      <th>4 Cylinders</th>\n",
       "      <td>he</td>\n",
       "      <td>bl</td>\n",
       "      <td>kk</td>\n",
       "    </tr>\n",
       "    <tr>\n",
       "      <th>6 Cylinders</th>\n",
       "      <td>ez</td>\n",
       "      <td>sh</td>\n",
       "      <td>il</td>\n",
       "    </tr>\n",
       "    <tr>\n",
       "      <th>8 Cylinders</th>\n",
       "      <td>db</td>\n",
       "      <td>cp</td>\n",
       "      <td>xj</td>\n",
       "    </tr>\n",
       "  </tbody>\n",
       "</table>\n",
       "</div>"
      ],
      "text/plain": [
       "            3 gears 4 gears 5 gears\n",
       "4 Cylinders      he      bl      kk\n",
       "6 Cylinders      ez      sh      il\n",
       "8 Cylinders      db      cp      xj"
      ]
     },
     "metadata": {},
     "output_type": "display_data"
    },
    {
     "name": "stdout",
     "output_type": "stream",
     "text": [
      "errors:\n"
     ]
    },
    {
     "data": {
      "text/html": [
       "<div>\n",
       "<style scoped>\n",
       "    .dataframe tbody tr th:only-of-type {\n",
       "        vertical-align: middle;\n",
       "    }\n",
       "\n",
       "    .dataframe tbody tr th {\n",
       "        vertical-align: top;\n",
       "    }\n",
       "\n",
       "    .dataframe thead th {\n",
       "        text-align: right;\n",
       "    }\n",
       "</style>\n",
       "<table border=\"1\" class=\"dataframe\">\n",
       "  <thead>\n",
       "    <tr style=\"text-align: right;\">\n",
       "      <th></th>\n",
       "      <th>3 gears</th>\n",
       "      <th>4 gears</th>\n",
       "      <th>5 gears</th>\n",
       "    </tr>\n",
       "  </thead>\n",
       "  <tbody>\n",
       "    <tr>\n",
       "      <th>4 Cylinders</th>\n",
       "      <td>0.75</td>\n",
       "      <td>0.75</td>\n",
       "      <td>0.75</td>\n",
       "    </tr>\n",
       "    <tr>\n",
       "      <th>6 Cylinders</th>\n",
       "      <td>0.75</td>\n",
       "      <td>0.75</td>\n",
       "      <td>0.75</td>\n",
       "    </tr>\n",
       "    <tr>\n",
       "      <th>8 Cylinders</th>\n",
       "      <td>0.75</td>\n",
       "      <td>0.75</td>\n",
       "      <td>0.75</td>\n",
       "    </tr>\n",
       "  </tbody>\n",
       "</table>\n",
       "</div>"
      ],
      "text/plain": [
       "             3 gears  4 gears  5 gears\n",
       "4 Cylinders     0.75     0.75     0.75\n",
       "6 Cylinders     0.75     0.75     0.75\n",
       "8 Cylinders     0.75     0.75     0.75"
      ]
     },
     "metadata": {},
     "output_type": "display_data"
    }
   ],
   "source": [
    "# create data for grouped barplot\n",
    "in_data = df.groupby(['cyl', 'gear']).mean()[['mpg']].reset_index()\n",
    "\n",
    "in_data = pd.pivot_table(\n",
    "    data=in_data,\n",
    "    columns=['gear'],\n",
    "    index=['cyl']\n",
    ")\n",
    "in_data.columns = ['3 gears', '4 gears', '5 gears']\n",
    "\n",
    "in_data = in_data.fillna(in_data.loc[8].mean())\n",
    "in_data.index = in_data.index.astype(str) + ' Cylinders'\n",
    "print('main data:')\n",
    "display(in_data)\n",
    "\n",
    "# create names\n",
    "names = in_data.copy()\n",
    "\n",
    "for row in names.index:\n",
    "    for col in names.columns:\n",
    "        names.loc[row, col] = f()+f()\n",
    "        \n",
    "print('names:')\n",
    "display(names)\n",
    "\n",
    "# create error bars \n",
    "errors = in_data.copy()\n",
    "\n",
    "for col in errors.columns:\n",
    "    errors[col] = 0.75\n",
    "    \n",
    "print('errors:')\n",
    "display(errors)"
   ]
  },
  {
   "cell_type": "markdown",
   "metadata": {},
   "source": [
    "Get a quick visual of the data:"
   ]
  },
  {
   "cell_type": "code",
   "execution_count": 14,
   "metadata": {},
   "outputs": [],
   "source": [
    "# create args\n",
    "args = {'in_data':in_data}"
   ]
  },
  {
   "cell_type": "code",
   "execution_count": 15,
   "metadata": {},
   "outputs": [
    {
     "data": {
      "text/html": [
       "<script type=\"text/javascript\">window.PlotlyConfig = {MathJaxConfig: 'local'};</script><script type=\"text/javascript\">if (window.MathJax) {MathJax.Hub.Config({SVG: {font: \"STIX-Web\"}});}</script><script>requirejs.config({paths: { 'plotly': ['https://cdn.plot.ly/plotly-latest.min']},});if(!window._Plotly) {require(['plotly'],function(plotly) {window._Plotly=plotly;});}</script>"
      ],
      "text/vnd.plotly.v1+html": [
       "<script type=\"text/javascript\">window.PlotlyConfig = {MathJaxConfig: 'local'};</script><script type=\"text/javascript\">if (window.MathJax) {MathJax.Hub.Config({SVG: {font: \"STIX-Web\"}});}</script><script>requirejs.config({paths: { 'plotly': ['https://cdn.plot.ly/plotly-latest.min']},});if(!window._Plotly) {require(['plotly'],function(plotly) {window._Plotly=plotly;});}</script>"
      ]
     },
     "metadata": {},
     "output_type": "display_data"
    },
    {
     "data": {
      "application/vnd.plotly.v1+json": {
       "data": [
        {
         "marker": {
          "color": "#232C65"
         },
         "name": "3 gears",
         "text": "3 gears",
         "type": "bar",
         "uid": "13c0a936-f72d-4430-b04e-48ff7cc1fe17",
         "x": [
          "4 Cylinders",
          "6 Cylinders",
          "8 Cylinders"
         ],
         "y": [
          21.5,
          19.75,
          15.050000000000002
         ]
        },
        {
         "marker": {
          "color": "#840032"
         },
         "name": "4 gears",
         "text": "4 gears",
         "type": "bar",
         "uid": "3b5e2fa1-54d8-47c3-bf72-45349b923093",
         "x": [
          "4 Cylinders",
          "6 Cylinders",
          "8 Cylinders"
         ],
         "y": [
          26.925000000000004,
          19.75,
          15.225000000000001
         ]
        },
        {
         "marker": {
          "color": "#E59500"
         },
         "name": "5 gears",
         "text": "5 gears",
         "type": "bar",
         "uid": "b56ae43a-e737-47a5-97ba-5b7dbe60889b",
         "x": [
          "4 Cylinders",
          "6 Cylinders",
          "8 Cylinders"
         ],
         "y": [
          28.2,
          19.7,
          15.4
         ]
        }
       ],
       "layout": {
        "hovermode": "closest",
        "plot_bgcolor": "rgb(229, 229, 229)",
        "title": "title",
        "xaxis": {
         "gridcolor": "rgb(255,255,255)",
         "tickangle": 30,
         "title": "xlab",
         "zerolinecolor": "rgb(255,255,255)"
        },
        "yaxis": {
         "gridcolor": "rgb(255,255,255)",
         "title": "ylab",
         "zerolinecolor": "rgb(255,255,255)"
        }
       }
      },
      "text/html": [
       "<div id=\"3db72aad-b5de-4568-ac40-f738bc9bc4a4\" style=\"height: 525px; width: 100%;\" class=\"plotly-graph-div\"></div><script type=\"text/javascript\">require([\"plotly\"], function(Plotly) { window.PLOTLYENV=window.PLOTLYENV || {};window.PLOTLYENV.BASE_URL=\"https://plot.ly\";Plotly.newPlot(\"3db72aad-b5de-4568-ac40-f738bc9bc4a4\", [{\"marker\": {\"color\": \"#232C65\"}, \"name\": \"3 gears\", \"text\": \"3 gears\", \"x\": [\"4 Cylinders\", \"6 Cylinders\", \"8 Cylinders\"], \"y\": [21.5, 19.75, 15.050000000000002], \"type\": \"bar\", \"uid\": \"13c0a936-f72d-4430-b04e-48ff7cc1fe17\"}, {\"marker\": {\"color\": \"#840032\"}, \"name\": \"4 gears\", \"text\": \"4 gears\", \"x\": [\"4 Cylinders\", \"6 Cylinders\", \"8 Cylinders\"], \"y\": [26.925000000000004, 19.75, 15.225000000000001], \"type\": \"bar\", \"uid\": \"3b5e2fa1-54d8-47c3-bf72-45349b923093\"}, {\"marker\": {\"color\": \"#E59500\"}, \"name\": \"5 gears\", \"text\": \"5 gears\", \"x\": [\"4 Cylinders\", \"6 Cylinders\", \"8 Cylinders\"], \"y\": [28.2, 19.7, 15.4], \"type\": \"bar\", \"uid\": \"b56ae43a-e737-47a5-97ba-5b7dbe60889b\"}], {\"hovermode\": \"closest\", \"plot_bgcolor\": \"rgb(229, 229, 229)\", \"title\": \"title\", \"xaxis\": {\"gridcolor\": \"rgb(255,255,255)\", \"tickangle\": 30, \"title\": \"xlab\", \"zerolinecolor\": \"rgb(255,255,255)\"}, \"yaxis\": {\"gridcolor\": \"rgb(255,255,255)\", \"title\": \"ylab\", \"zerolinecolor\": \"rgb(255,255,255)\"}}, {\"showLink\": true, \"linkText\": \"Export to plot.ly\"})});</script><script type=\"text/javascript\">window.addEventListener(\"resize\", function(){window._Plotly.Plots.resize(document.getElementById(\"3db72aad-b5de-4568-ac40-f738bc9bc4a4\"));});</script>"
      ],
      "text/vnd.plotly.v1+html": [
       "<div id=\"3db72aad-b5de-4568-ac40-f738bc9bc4a4\" style=\"height: 525px; width: 100%;\" class=\"plotly-graph-div\"></div><script type=\"text/javascript\">require([\"plotly\"], function(Plotly) { window.PLOTLYENV=window.PLOTLYENV || {};window.PLOTLYENV.BASE_URL=\"https://plot.ly\";Plotly.newPlot(\"3db72aad-b5de-4568-ac40-f738bc9bc4a4\", [{\"marker\": {\"color\": \"#232C65\"}, \"name\": \"3 gears\", \"text\": \"3 gears\", \"x\": [\"4 Cylinders\", \"6 Cylinders\", \"8 Cylinders\"], \"y\": [21.5, 19.75, 15.050000000000002], \"type\": \"bar\", \"uid\": \"13c0a936-f72d-4430-b04e-48ff7cc1fe17\"}, {\"marker\": {\"color\": \"#840032\"}, \"name\": \"4 gears\", \"text\": \"4 gears\", \"x\": [\"4 Cylinders\", \"6 Cylinders\", \"8 Cylinders\"], \"y\": [26.925000000000004, 19.75, 15.225000000000001], \"type\": \"bar\", \"uid\": \"3b5e2fa1-54d8-47c3-bf72-45349b923093\"}, {\"marker\": {\"color\": \"#E59500\"}, \"name\": \"5 gears\", \"text\": \"5 gears\", \"x\": [\"4 Cylinders\", \"6 Cylinders\", \"8 Cylinders\"], \"y\": [28.2, 19.7, 15.4], \"type\": \"bar\", \"uid\": \"b56ae43a-e737-47a5-97ba-5b7dbe60889b\"}], {\"hovermode\": \"closest\", \"plot_bgcolor\": \"rgb(229, 229, 229)\", \"title\": \"title\", \"xaxis\": {\"gridcolor\": \"rgb(255,255,255)\", \"tickangle\": 30, \"title\": \"xlab\", \"zerolinecolor\": \"rgb(255,255,255)\"}, \"yaxis\": {\"gridcolor\": \"rgb(255,255,255)\", \"title\": \"ylab\", \"zerolinecolor\": \"rgb(255,255,255)\"}}, {\"showLink\": true, \"linkText\": \"Export to plot.ly\"})});</script><script type=\"text/javascript\">window.addEventListener(\"resize\", function(){window._Plotly.Plots.resize(document.getElementById(\"3db72aad-b5de-4568-ac40-f738bc9bc4a4\"));});</script>"
      ]
     },
     "metadata": {},
     "output_type": "display_data"
    }
   ],
   "source": [
    "fig = barplot.create_graph(**args)"
   ]
  },
  {
   "cell_type": "markdown",
   "metadata": {},
   "source": [
    "Now add more detail by adding elements to `args`:"
   ]
  },
  {
   "cell_type": "code",
   "execution_count": 16,
   "metadata": {},
   "outputs": [
    {
     "data": {
      "text/html": [
       "<script type=\"text/javascript\">window.PlotlyConfig = {MathJaxConfig: 'local'};</script><script type=\"text/javascript\">if (window.MathJax) {MathJax.Hub.Config({SVG: {font: \"STIX-Web\"}});}</script><script>requirejs.config({paths: { 'plotly': ['https://cdn.plot.ly/plotly-latest.min']},});if(!window._Plotly) {require(['plotly'],function(plotly) {window._Plotly=plotly;});}</script>"
      ],
      "text/vnd.plotly.v1+html": [
       "<script type=\"text/javascript\">window.PlotlyConfig = {MathJaxConfig: 'local'};</script><script type=\"text/javascript\">if (window.MathJax) {MathJax.Hub.Config({SVG: {font: \"STIX-Web\"}});}</script><script>requirejs.config({paths: { 'plotly': ['https://cdn.plot.ly/plotly-latest.min']},});if(!window._Plotly) {require(['plotly'],function(plotly) {window._Plotly=plotly;});}</script>"
      ]
     },
     "metadata": {},
     "output_type": "display_data"
    },
    {
     "data": {
      "application/vnd.plotly.v1+json": {
       "data": [
        {
         "error_y": {
          "array": [
           0.75,
           0.75,
           0.75
          ],
          "thickness": 7,
          "type": "data",
          "visible": true,
          "width": 8
         },
         "marker": {
          "color": "#232C65"
         },
         "name": "3 gears",
         "text": [
          "he",
          "ez",
          "db"
         ],
         "type": "bar",
         "uid": "3e638e94-3993-4e66-b2e7-c243538f983c",
         "x": [
          "4 Cylinders",
          "6 Cylinders",
          "8 Cylinders"
         ],
         "y": [
          21.5,
          19.75,
          15.050000000000002
         ]
        },
        {
         "error_y": {
          "array": [
           0.75,
           0.75,
           0.75
          ],
          "thickness": 7,
          "type": "data",
          "visible": true,
          "width": 8
         },
         "marker": {
          "color": "#840032"
         },
         "name": "4 gears",
         "text": [
          "bl",
          "sh",
          "cp"
         ],
         "type": "bar",
         "uid": "8f7f53ee-d792-47be-bec3-f87e75ad715a",
         "x": [
          "4 Cylinders",
          "6 Cylinders",
          "8 Cylinders"
         ],
         "y": [
          26.925000000000004,
          19.75,
          15.225000000000001
         ]
        },
        {
         "error_y": {
          "array": [
           0.75,
           0.75,
           0.75
          ],
          "thickness": 7,
          "type": "data",
          "visible": true,
          "width": 8
         },
         "marker": {
          "color": "#E59500"
         },
         "name": "5 gears",
         "text": [
          "kk",
          "il",
          "xj"
         ],
         "type": "bar",
         "uid": "71f05d1e-f498-45a1-805e-c31fc1b7e139",
         "x": [
          "4 Cylinders",
          "6 Cylinders",
          "8 Cylinders"
         ],
         "y": [
          28.2,
          19.7,
          15.4
         ]
        }
       ],
       "layout": {
        "annotations": [
         {
          "ax": 250,
          "ay": 25,
          "showarrow": true,
          "text": "More gears correlate to better fuel mileage for 4 cylinder cars",
          "x": 0.45,
          "y": 28
         }
        ],
        "hovermode": "closest",
        "plot_bgcolor": "rgb(229, 229, 229)",
        "title": "<b>Fuel Mileage by Number of Cylinders and Number of Gears</b><br><i>for mtcars data</i>",
        "xaxis": {
         "gridcolor": "rgb(255,255,255)",
         "tickangle": 30,
         "title": "Number of Cylinders",
         "zerolinecolor": "rgb(255,255,255)"
        },
        "yaxis": {
         "gridcolor": "rgb(255,255,255)",
         "title": "Miles Per Gallon",
         "zerolinecolor": "rgb(255,255,255)"
        }
       }
      },
      "text/html": [
       "<div id=\"714923f4-4fec-4afa-a0c1-b43c9e6dc8d3\" style=\"height: 525px; width: 100%;\" class=\"plotly-graph-div\"></div><script type=\"text/javascript\">require([\"plotly\"], function(Plotly) { window.PLOTLYENV=window.PLOTLYENV || {};window.PLOTLYENV.BASE_URL=\"https://plot.ly\";Plotly.newPlot(\"714923f4-4fec-4afa-a0c1-b43c9e6dc8d3\", [{\"error_y\": {\"array\": [0.75, 0.75, 0.75], \"thickness\": 7, \"type\": \"data\", \"visible\": true, \"width\": 8}, \"marker\": {\"color\": \"#232C65\"}, \"name\": \"3 gears\", \"text\": [\"he\", \"ez\", \"db\"], \"x\": [\"4 Cylinders\", \"6 Cylinders\", \"8 Cylinders\"], \"y\": [21.5, 19.75, 15.050000000000002], \"type\": \"bar\", \"uid\": \"3e638e94-3993-4e66-b2e7-c243538f983c\"}, {\"error_y\": {\"array\": [0.75, 0.75, 0.75], \"thickness\": 7, \"type\": \"data\", \"visible\": true, \"width\": 8}, \"marker\": {\"color\": \"#840032\"}, \"name\": \"4 gears\", \"text\": [\"bl\", \"sh\", \"cp\"], \"x\": [\"4 Cylinders\", \"6 Cylinders\", \"8 Cylinders\"], \"y\": [26.925000000000004, 19.75, 15.225000000000001], \"type\": \"bar\", \"uid\": \"8f7f53ee-d792-47be-bec3-f87e75ad715a\"}, {\"error_y\": {\"array\": [0.75, 0.75, 0.75], \"thickness\": 7, \"type\": \"data\", \"visible\": true, \"width\": 8}, \"marker\": {\"color\": \"#E59500\"}, \"name\": \"5 gears\", \"text\": [\"kk\", \"il\", \"xj\"], \"x\": [\"4 Cylinders\", \"6 Cylinders\", \"8 Cylinders\"], \"y\": [28.2, 19.7, 15.4], \"type\": \"bar\", \"uid\": \"71f05d1e-f498-45a1-805e-c31fc1b7e139\"}], {\"annotations\": [{\"ax\": 250, \"ay\": 25, \"showarrow\": true, \"text\": \"More gears correlate to better fuel mileage for 4 cylinder cars\", \"x\": 0.45, \"y\": 28}], \"hovermode\": \"closest\", \"plot_bgcolor\": \"rgb(229, 229, 229)\", \"title\": \"<b>Fuel Mileage by Number of Cylinders and Number of Gears</b><br><i>for mtcars data</i>\", \"xaxis\": {\"gridcolor\": \"rgb(255,255,255)\", \"tickangle\": 30, \"title\": \"Number of Cylinders\", \"zerolinecolor\": \"rgb(255,255,255)\"}, \"yaxis\": {\"gridcolor\": \"rgb(255,255,255)\", \"title\": \"Miles Per Gallon\", \"zerolinecolor\": \"rgb(255,255,255)\"}}, {\"showLink\": true, \"linkText\": \"Export to plot.ly\"})});</script><script type=\"text/javascript\">window.addEventListener(\"resize\", function(){window._Plotly.Plots.resize(document.getElementById(\"714923f4-4fec-4afa-a0c1-b43c9e6dc8d3\"));});</script>"
      ],
      "text/vnd.plotly.v1+html": [
       "<div id=\"714923f4-4fec-4afa-a0c1-b43c9e6dc8d3\" style=\"height: 525px; width: 100%;\" class=\"plotly-graph-div\"></div><script type=\"text/javascript\">require([\"plotly\"], function(Plotly) { window.PLOTLYENV=window.PLOTLYENV || {};window.PLOTLYENV.BASE_URL=\"https://plot.ly\";Plotly.newPlot(\"714923f4-4fec-4afa-a0c1-b43c9e6dc8d3\", [{\"error_y\": {\"array\": [0.75, 0.75, 0.75], \"thickness\": 7, \"type\": \"data\", \"visible\": true, \"width\": 8}, \"marker\": {\"color\": \"#232C65\"}, \"name\": \"3 gears\", \"text\": [\"he\", \"ez\", \"db\"], \"x\": [\"4 Cylinders\", \"6 Cylinders\", \"8 Cylinders\"], \"y\": [21.5, 19.75, 15.050000000000002], \"type\": \"bar\", \"uid\": \"3e638e94-3993-4e66-b2e7-c243538f983c\"}, {\"error_y\": {\"array\": [0.75, 0.75, 0.75], \"thickness\": 7, \"type\": \"data\", \"visible\": true, \"width\": 8}, \"marker\": {\"color\": \"#840032\"}, \"name\": \"4 gears\", \"text\": [\"bl\", \"sh\", \"cp\"], \"x\": [\"4 Cylinders\", \"6 Cylinders\", \"8 Cylinders\"], \"y\": [26.925000000000004, 19.75, 15.225000000000001], \"type\": \"bar\", \"uid\": \"8f7f53ee-d792-47be-bec3-f87e75ad715a\"}, {\"error_y\": {\"array\": [0.75, 0.75, 0.75], \"thickness\": 7, \"type\": \"data\", \"visible\": true, \"width\": 8}, \"marker\": {\"color\": \"#E59500\"}, \"name\": \"5 gears\", \"text\": [\"kk\", \"il\", \"xj\"], \"x\": [\"4 Cylinders\", \"6 Cylinders\", \"8 Cylinders\"], \"y\": [28.2, 19.7, 15.4], \"type\": \"bar\", \"uid\": \"71f05d1e-f498-45a1-805e-c31fc1b7e139\"}], {\"annotations\": [{\"ax\": 250, \"ay\": 25, \"showarrow\": true, \"text\": \"More gears correlate to better fuel mileage for 4 cylinder cars\", \"x\": 0.45, \"y\": 28}], \"hovermode\": \"closest\", \"plot_bgcolor\": \"rgb(229, 229, 229)\", \"title\": \"<b>Fuel Mileage by Number of Cylinders and Number of Gears</b><br><i>for mtcars data</i>\", \"xaxis\": {\"gridcolor\": \"rgb(255,255,255)\", \"tickangle\": 30, \"title\": \"Number of Cylinders\", \"zerolinecolor\": \"rgb(255,255,255)\"}, \"yaxis\": {\"gridcolor\": \"rgb(255,255,255)\", \"title\": \"Miles Per Gallon\", \"zerolinecolor\": \"rgb(255,255,255)\"}}, {\"showLink\": true, \"linkText\": \"Export to plot.ly\"})});</script><script type=\"text/javascript\">window.addEventListener(\"resize\", function(){window._Plotly.Plots.resize(document.getElementById(\"714923f4-4fec-4afa-a0c1-b43c9e6dc8d3\"));});</script>"
      ]
     },
     "metadata": {},
     "output_type": "display_data"
    }
   ],
   "source": [
    "# add additional characteristics to graph\n",
    "title = '<b>Fuel Mileage by Number of Cylinders and Number of Gears</b>'\n",
    "title += '<br><i>for mtcars data</i>'\n",
    "args['title'] = title\n",
    "args['names'] = names\n",
    "args['errors'] = errors\n",
    "args['xlab'] = 'Number of Cylinders'\n",
    "args['ylab'] = 'Miles Per Gallon'\n",
    "args['annotations'] = [{'text':'More gears correlate to better fuel mileage for 4 cylinder cars',\n",
    "                        'x':0.45, 'y':28, 'ax':250, 'ay':25, 'showarrow':True}]\n",
    "\n",
    "fig = barplot.create_graph(**args)"
   ]
  },
  {
   "cell_type": "code",
   "execution_count": 17,
   "metadata": {},
   "outputs": [],
   "source": [
    "# write graph to html file \n",
    "fp = 'grouped-barplot-example.html'\n",
    "barplot.output_graph(fp, fig)"
   ]
  }
 ],
 "metadata": {
  "kernelspec": {
   "display_name": "Python 3",
   "language": "python",
   "name": "python3"
  },
  "language_info": {
   "codemirror_mode": {
    "name": "ipython",
    "version": 3
   },
   "file_extension": ".py",
   "mimetype": "text/x-python",
   "name": "python",
   "nbconvert_exporter": "python",
   "pygments_lexer": "ipython3",
   "version": "3.7.1"
  },
  "toc": {
   "base_numbering": 1,
   "nav_menu": {},
   "number_sections": true,
   "sideBar": true,
   "skip_h1_title": false,
   "title_cell": "Table of Contents",
   "title_sidebar": "Contents",
   "toc_cell": false,
   "toc_position": {},
   "toc_section_display": true,
   "toc_window_display": false
  }
 },
 "nbformat": 4,
 "nbformat_minor": 2
}
