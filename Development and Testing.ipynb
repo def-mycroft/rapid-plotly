{
 "cells": [
  {
   "cell_type": "code",
   "execution_count": 28,
   "metadata": {},
   "outputs": [
    {
     "data": {
      "text/plain": [
       "<module 'fancy_grouped_barplot' from 'C:\\\\Users\\\\dasen\\\\code_repos\\\\data992_graph_scripts\\\\fancy_grouped_barplot.py'>"
      ]
     },
     "execution_count": 28,
     "metadata": {},
     "output_type": "execute_result"
    }
   ],
   "source": [
    "import pandas as pd\n",
    "import numpy as np\n",
    "import string\n",
    "import fancy_grouped_barplot as sc\n",
    "import importlib as imp\n",
    "imp.reload(sc)"
   ]
  },
  {
   "cell_type": "markdown",
   "metadata": {},
   "source": [
    "# Load Data"
   ]
  },
  {
   "cell_type": "code",
   "execution_count": 29,
   "metadata": {},
   "outputs": [],
   "source": [
    "# load example mtcars data \n",
    "df = pd.read_csv('mtcars.csv')"
   ]
  },
  {
   "cell_type": "markdown",
   "metadata": {},
   "source": [
    "# Create Simple Barplot"
   ]
  },
  {
   "cell_type": "code",
   "execution_count": 30,
   "metadata": {},
   "outputs": [],
   "source": [
    "# create graph data \n",
    "in_data = pd.DataFrame(df.groupby('cyl').mean()['mpg'])\n",
    "in_data.index = in_data.index.astype(int).astype(str) + ' Cylinders'\n",
    "\n",
    "# generate names\n",
    "l = string.ascii_lowercase\n",
    "names = in_data.copy()\n",
    "f = lambda: l[np.random.randint(0,len(l))]\n",
    "\n",
    "for x in names.index:\n",
    "    names.loc[x, 'mpg'] = f()+f()\n",
    "\n",
    "# generate error bat\n",
    "errors = in_data.copy()\n",
    "errors['mpg'] = 2.5"
   ]
  },
  {
   "cell_type": "code",
   "execution_count": 33,
   "metadata": {},
   "outputs": [],
   "source": [
    "args = dict(\n",
    "    in_data=in_data,\n",
    "    names=names,\n",
    "    errors=errors,\n",
    "    xlab='Number of Cylinders', ylab='Miles Per Gallon', title='Fuel Mileage by Number of Cylinders',\n",
    "    custom_annotations=[{'text':'More cylinders correlates to lower fuel mileage', 'x':1.5, 'y':24.5, 'showarrow':False}]\n",
    ")"
   ]
  },
  {
   "cell_type": "code",
   "execution_count": 34,
   "metadata": {},
   "outputs": [
    {
     "data": {
      "text/html": [
       "<script type=\"text/javascript\">window.PlotlyConfig = {MathJaxConfig: 'local'};</script><script type=\"text/javascript\">if (window.MathJax) {MathJax.Hub.Config({SVG: {font: \"STIX-Web\"}});}</script><script>requirejs.config({paths: { 'plotly': ['https://cdn.plot.ly/plotly-latest.min']},});if(!window._Plotly) {require(['plotly'],function(plotly) {window._Plotly=plotly;});}</script>"
      ],
      "text/vnd.plotly.v1+html": [
       "<script type=\"text/javascript\">window.PlotlyConfig = {MathJaxConfig: 'local'};</script><script type=\"text/javascript\">if (window.MathJax) {MathJax.Hub.Config({SVG: {font: \"STIX-Web\"}});}</script><script>requirejs.config({paths: { 'plotly': ['https://cdn.plot.ly/plotly-latest.min']},});if(!window._Plotly) {require(['plotly'],function(plotly) {window._Plotly=plotly;});}</script>"
      ]
     },
     "metadata": {},
     "output_type": "display_data"
    },
    {
     "data": {
      "application/vnd.plotly.v1+json": {
       "data": [
        {
         "error_y": {
          "array": [
           2.5,
           2.5,
           2.5
          ],
          "thickness": 7,
          "type": "data",
          "visible": true,
          "width": 8
         },
         "marker": {
          "color": "#232C65"
         },
         "name": "mpg",
         "text": [
          "jl",
          "wr",
          "ki"
         ],
         "type": "bar",
         "uid": "9a834f28-9528-41cd-8d3c-32ebbd010033",
         "x": [
          "4 Cylinders",
          "6 Cylinders",
          "8 Cylinders"
         ],
         "y": [
          26.663636363636364,
          19.74285714285714,
          15.100000000000003
         ]
        }
       ],
       "layout": {
        "annotations": [
         {
          "showarrow": false,
          "text": "More cylinders correlates to lower fuel mileage",
          "x": 1.5,
          "y": 24.5
         }
        ],
        "hovermode": "closest",
        "plot_bgcolor": "rgb(229, 229, 229)",
        "title": "Fuel Mileage by Number of Cylinders",
        "xaxis": {
         "gridcolor": "rgb(255,255,255)",
         "tickangle": 30,
         "title": "Number of Cylinders",
         "zerolinecolor": "rgb(255,255,255)"
        },
        "yaxis": {
         "gridcolor": "rgb(255,255,255)",
         "title": "Miles Per Gallon",
         "zerolinecolor": "rgb(255,255,255)"
        }
       }
      },
      "text/html": [
       "<div id=\"3c61ea55-6940-4a8e-b217-bd77e5536e62\" style=\"height: 525px; width: 100%;\" class=\"plotly-graph-div\"></div><script type=\"text/javascript\">require([\"plotly\"], function(Plotly) { window.PLOTLYENV=window.PLOTLYENV || {};window.PLOTLYENV.BASE_URL=\"https://plot.ly\";Plotly.newPlot(\"3c61ea55-6940-4a8e-b217-bd77e5536e62\", [{\"error_y\": {\"array\": [2.5, 2.5, 2.5], \"thickness\": 7, \"type\": \"data\", \"visible\": true, \"width\": 8}, \"marker\": {\"color\": \"#232C65\"}, \"name\": \"mpg\", \"text\": [\"jl\", \"wr\", \"ki\"], \"x\": [\"4 Cylinders\", \"6 Cylinders\", \"8 Cylinders\"], \"y\": [26.663636363636364, 19.74285714285714, 15.100000000000003], \"type\": \"bar\", \"uid\": \"9a834f28-9528-41cd-8d3c-32ebbd010033\"}], {\"annotations\": [{\"showarrow\": false, \"text\": \"More cylinders correlates to lower fuel mileage\", \"x\": 1.5, \"y\": 24.5}], \"hovermode\": \"closest\", \"plot_bgcolor\": \"rgb(229, 229, 229)\", \"title\": \"Fuel Mileage by Number of Cylinders\", \"xaxis\": {\"gridcolor\": \"rgb(255,255,255)\", \"tickangle\": 30, \"title\": \"Number of Cylinders\", \"zerolinecolor\": \"rgb(255,255,255)\"}, \"yaxis\": {\"gridcolor\": \"rgb(255,255,255)\", \"title\": \"Miles Per Gallon\", \"zerolinecolor\": \"rgb(255,255,255)\"}}, {\"showLink\": true, \"linkText\": \"Export to plot.ly\"})});</script><script type=\"text/javascript\">window.addEventListener(\"resize\", function(){window._Plotly.Plots.resize(document.getElementById(\"3c61ea55-6940-4a8e-b217-bd77e5536e62\"));});</script>"
      ],
      "text/vnd.plotly.v1+html": [
       "<div id=\"3c61ea55-6940-4a8e-b217-bd77e5536e62\" style=\"height: 525px; width: 100%;\" class=\"plotly-graph-div\"></div><script type=\"text/javascript\">require([\"plotly\"], function(Plotly) { window.PLOTLYENV=window.PLOTLYENV || {};window.PLOTLYENV.BASE_URL=\"https://plot.ly\";Plotly.newPlot(\"3c61ea55-6940-4a8e-b217-bd77e5536e62\", [{\"error_y\": {\"array\": [2.5, 2.5, 2.5], \"thickness\": 7, \"type\": \"data\", \"visible\": true, \"width\": 8}, \"marker\": {\"color\": \"#232C65\"}, \"name\": \"mpg\", \"text\": [\"jl\", \"wr\", \"ki\"], \"x\": [\"4 Cylinders\", \"6 Cylinders\", \"8 Cylinders\"], \"y\": [26.663636363636364, 19.74285714285714, 15.100000000000003], \"type\": \"bar\", \"uid\": \"9a834f28-9528-41cd-8d3c-32ebbd010033\"}], {\"annotations\": [{\"showarrow\": false, \"text\": \"More cylinders correlates to lower fuel mileage\", \"x\": 1.5, \"y\": 24.5}], \"hovermode\": \"closest\", \"plot_bgcolor\": \"rgb(229, 229, 229)\", \"title\": \"Fuel Mileage by Number of Cylinders\", \"xaxis\": {\"gridcolor\": \"rgb(255,255,255)\", \"tickangle\": 30, \"title\": \"Number of Cylinders\", \"zerolinecolor\": \"rgb(255,255,255)\"}, \"yaxis\": {\"gridcolor\": \"rgb(255,255,255)\", \"title\": \"Miles Per Gallon\", \"zerolinecolor\": \"rgb(255,255,255)\"}}, {\"showLink\": true, \"linkText\": \"Export to plot.ly\"})});</script><script type=\"text/javascript\">window.addEventListener(\"resize\", function(){window._Plotly.Plots.resize(document.getElementById(\"3c61ea55-6940-4a8e-b217-bd77e5536e62\"));});</script>"
      ]
     },
     "metadata": {},
     "output_type": "display_data"
    }
   ],
   "source": [
    "fig = sc.create_graph(**args)"
   ]
  },
  {
   "cell_type": "code",
   "execution_count": 35,
   "metadata": {},
   "outputs": [],
   "source": [
    "# write graph to html file \n",
    "fp = 'barplot-example.html'\n",
    "sc.output_graph(fp, fig)"
   ]
  }
 ],
 "metadata": {
  "kernelspec": {
   "display_name": "Python 3",
   "language": "python",
   "name": "python3"
  },
  "language_info": {
   "codemirror_mode": {
    "name": "ipython",
    "version": 3
   },
   "file_extension": ".py",
   "mimetype": "text/x-python",
   "name": "python",
   "nbconvert_exporter": "python",
   "pygments_lexer": "ipython3",
   "version": "3.7.1"
  },
  "toc": {
   "base_numbering": 1,
   "nav_menu": {},
   "number_sections": true,
   "sideBar": true,
   "skip_h1_title": false,
   "title_cell": "Table of Contents",
   "title_sidebar": "Contents",
   "toc_cell": false,
   "toc_position": {},
   "toc_section_display": true,
   "toc_window_display": false
  }
 },
 "nbformat": 4,
 "nbformat_minor": 2
}
