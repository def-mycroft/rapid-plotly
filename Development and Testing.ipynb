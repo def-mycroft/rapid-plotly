{
 "cells": [
  {
   "cell_type": "code",
   "execution_count": 135,
   "metadata": {},
   "outputs": [],
   "source": [
    "import os\n",
    "project_dir = os.getcwd() + '/'\n",
    "from custom_modules.imports import *\n",
    "os.chdir(project_dir)"
   ]
  },
  {
   "cell_type": "code",
   "execution_count": 136,
   "metadata": {},
   "outputs": [
    {
     "data": {
      "text/plain": [
       "<module 'fancy_grouped_barplot' from 'C:\\\\Users\\\\dasen\\\\code_repos\\\\data992_graph_scripts\\\\fancy_grouped_barplot.py'>"
      ]
     },
     "execution_count": 136,
     "metadata": {},
     "output_type": "execute_result"
    }
   ],
   "source": [
    "import fancy_grouped_barplot as sc\n",
    "import importlib as imp\n",
    "imp.reload(sc)"
   ]
  },
  {
   "cell_type": "code",
   "execution_count": 137,
   "metadata": {},
   "outputs": [
    {
     "name": "stdout",
     "output_type": "stream",
     "text": [
      "The rpy2.ipython extension is already loaded. To reload it, use:\n",
      "  %reload_ext rpy2.ipython\n"
     ]
    }
   ],
   "source": [
    "%load_ext rpy2.ipython"
   ]
  },
  {
   "cell_type": "code",
   "execution_count": 138,
   "metadata": {},
   "outputs": [],
   "source": [
    "%%R -o df\n",
    "library(datasets)\n",
    "df = data.frame(crimtab)\n",
    "head(df)"
   ]
  },
  {
   "cell_type": "code",
   "execution_count": 139,
   "metadata": {},
   "outputs": [
    {
     "name": "stdout",
     "output_type": "stream",
     "text": [
      "(924, 3)\n"
     ]
    }
   ],
   "source": [
    "df = pd.DataFrame(df)\n",
    "print(df.shape)"
   ]
  },
  {
   "cell_type": "code",
   "execution_count": 140,
   "metadata": {},
   "outputs": [],
   "source": [
    "%%R -o df\n",
    "library(datasets)\n",
    "df = data.frame(mtcars)\n",
    "head(df)"
   ]
  },
  {
   "cell_type": "code",
   "execution_count": 141,
   "metadata": {},
   "outputs": [
    {
     "name": "stdout",
     "output_type": "stream",
     "text": [
      "(32, 11)\n"
     ]
    }
   ],
   "source": [
    "df = pd.DataFrame(df)\n",
    "print(df.shape)"
   ]
  },
  {
   "cell_type": "code",
   "execution_count": 142,
   "metadata": {},
   "outputs": [],
   "source": [
    "# create graph data \n",
    "in_data = pd.DataFrame(df.groupby('cyl').mean()['mpg'])"
   ]
  },
  {
   "cell_type": "code",
   "execution_count": 143,
   "metadata": {},
   "outputs": [],
   "source": [
    "in_data.index = in_data.index.astype(int).astype(str) + ' Cylinders'"
   ]
  },
  {
   "cell_type": "code",
   "execution_count": 144,
   "metadata": {},
   "outputs": [],
   "source": [
    "import string\n",
    "l = string.ascii_lowercase"
   ]
  },
  {
   "cell_type": "code",
   "execution_count": 145,
   "metadata": {},
   "outputs": [],
   "source": [
    "# generate names\n",
    "names = in_data.copy()\n",
    "f = lambda: l[np.random.randint(0,len(l))]\n",
    "\n",
    "for x in names.index:\n",
    "    names.loc[x, 'mpg'] = f()+f()"
   ]
  },
  {
   "cell_type": "code",
   "execution_count": 146,
   "metadata": {},
   "outputs": [],
   "source": [
    "errors = in_data.copy()\n",
    "errors['mpg'] = (errors.mpg * 0.02) + (errors.mpg * 0.10 * (np.random.randint(0,100)/100))"
   ]
  },
  {
   "cell_type": "code",
   "execution_count": 147,
   "metadata": {},
   "outputs": [],
   "source": [
    "fig = sc.chart(\n",
    "    in_data,\n",
    "    downloads + 'test.html',\n",
    "    names=names,\n",
    "    errors=errors,\n",
    "    xlab='Number of Cylinders', ylab='Miles Per Gallon', title='Fuel Mileage by Number of Cylinders',\n",
    "    custom_annotations=[{'text':'More cylinders correlates to lower fuel mileage', 'x':1.5, 'y':24.5, 'showarrow':False}]\n",
    ")"
   ]
  }
 ],
 "metadata": {
  "kernelspec": {
   "display_name": "Python 3",
   "language": "python",
   "name": "python3"
  },
  "language_info": {
   "codemirror_mode": {
    "name": "ipython",
    "version": 3
   },
   "file_extension": ".py",
   "mimetype": "text/x-python",
   "name": "python",
   "nbconvert_exporter": "python",
   "pygments_lexer": "ipython3",
   "version": "3.7.0"
  },
  "toc": {
   "base_numbering": 1,
   "nav_menu": {},
   "number_sections": true,
   "sideBar": true,
   "skip_h1_title": false,
   "title_cell": "Table of Contents",
   "title_sidebar": "Contents",
   "toc_cell": false,
   "toc_position": {},
   "toc_section_display": true,
   "toc_window_display": false
  }
 },
 "nbformat": 4,
 "nbformat_minor": 2
}
